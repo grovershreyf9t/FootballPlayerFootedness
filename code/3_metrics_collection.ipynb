{
 "cells": [
  {
   "cell_type": "markdown",
   "metadata": {},
   "source": [
    "**3. Calculating metrics for passes**\n",
    "\n",
    "The following tasks are taken into account in this notebook:\n",
    "\n",
    "1. Cluster the defender lineups into sub categories based on the footedness pattern of the defender lineup starting from the right back (RB) position\n",
    "\n",
    "    For example, **right-right-right-left (rrrl)** category indicates that this is a lineup of four defenders where -\n",
    "\n",
    "    **right back (RB) is right footed**\n",
    "\n",
    "    **right center back (RCB) is right footed**\n",
    "\n",
    "    **left center back (LCB) is right footed**\n",
    "\n",
    "    **left back (LB) is left footed**\n",
    "\n",
    "2. Compute multiple passing based attributes for defenders for each match using match lineup data (from **match+def_lineup+footedness_ver2.pkl**) and events data (from **events_v2.pkl**)\n",
    "\n",
    "The following are the resulting pickle files:\n",
    "\n",
    "1. Cluster wise files with passing attributes for each defender for each match\n",
    "\n",
    "\n"
   ]
  },
  {
   "cell_type": "code",
   "execution_count": 1,
   "metadata": {
    "ExecuteTime": {
     "end_time": "2020-07-06T08:48:28.035814Z",
     "start_time": "2020-07-06T08:48:27.488126Z"
    }
   },
   "outputs": [],
   "source": [
    "import pandas as pd\n",
    "import numpy as np\n",
    "from unidecode import unidecode\n",
    "from tqdm import tqdm\n",
    "import re\n",
    "from difflib import SequenceMatcher\n",
    "pd.set_option(\"display.max_rows\", 1000)\n",
    "pd.set_option(\"display.max_columns\",1000)"
   ]
  },
  {
   "cell_type": "markdown",
   "metadata": {},
   "source": [
    "**Loading pickle file with Premier League 2017-18 events data (along with player roles i.e. whether the player is a goalkeeper (GKP), defender (DEF), midfielder (MID) or forward (FWD))**"
   ]
  },
  {
   "cell_type": "code",
   "execution_count": 2,
   "metadata": {
    "ExecuteTime": {
     "end_time": "2020-07-06T08:48:32.933703Z",
     "start_time": "2020-07-06T08:48:29.748417Z"
    }
   },
   "outputs": [],
   "source": [
    "df_events_roles = pd.read_pickle(\"../data/events/events_v2.pkl\")"
   ]
  },
  {
   "cell_type": "markdown",
   "metadata": {},
   "source": [
    "**Loading the pickle file with defence lineup information for each team participating in a particular match.**"
   ]
  },
  {
   "cell_type": "code",
   "execution_count": 3,
   "metadata": {
    "ExecuteTime": {
     "end_time": "2020-07-06T08:48:34.259883Z",
     "start_time": "2020-07-06T08:48:34.222681Z"
    }
   },
   "outputs": [],
   "source": [
    "df_defence_footed = pd.read_pickle(\"../data/matches/match+def_lineup+footedness_ver2.pkl\")"
   ]
  },
  {
   "cell_type": "markdown",
   "metadata": {},
   "source": [
    "**Observing the unique footedness categories in the dataframe**"
   ]
  },
  {
   "cell_type": "code",
   "execution_count": 4,
   "metadata": {
    "ExecuteTime": {
     "end_time": "2020-07-06T08:48:38.927779Z",
     "start_time": "2020-07-06T08:48:38.919789Z"
    }
   },
   "outputs": [],
   "source": [
    "footedness_patterns = df_defence_footed[\"footedness\"].unique()"
   ]
  },
  {
   "cell_type": "markdown",
   "metadata": {},
   "source": [
    "**Renaming certain positional columns for better understanding**"
   ]
  },
  {
   "cell_type": "code",
   "execution_count": 5,
   "metadata": {},
   "outputs": [],
   "source": [
    "df_defence_footed.rename(columns={'R-CB':'R_CB',\"L-CB\":'L_CB'},inplace=True)"
   ]
  },
  {
   "cell_type": "code",
   "execution_count": 6,
   "metadata": {},
   "outputs": [
    {
     "data": {
      "text/html": [
       "<div>\n",
       "<style scoped>\n",
       "    .dataframe tbody tr th:only-of-type {\n",
       "        vertical-align: middle;\n",
       "    }\n",
       "\n",
       "    .dataframe tbody tr th {\n",
       "        vertical-align: top;\n",
       "    }\n",
       "\n",
       "    .dataframe thead th {\n",
       "        text-align: right;\n",
       "    }\n",
       "</style>\n",
       "<table border=\"1\" class=\"dataframe\">\n",
       "  <thead>\n",
       "    <tr style=\"text-align: right;\">\n",
       "      <th></th>\n",
       "      <th>eventId</th>\n",
       "      <th>subEventName</th>\n",
       "      <th>tags</th>\n",
       "      <th>playerId</th>\n",
       "      <th>positions</th>\n",
       "      <th>matchId</th>\n",
       "      <th>eventName</th>\n",
       "      <th>teamId</th>\n",
       "      <th>matchPeriod</th>\n",
       "      <th>eventSec</th>\n",
       "      <th>subEventId</th>\n",
       "      <th>id</th>\n",
       "      <th>wyId</th>\n",
       "      <th>foot</th>\n",
       "      <th>playerName</th>\n",
       "      <th>role</th>\n",
       "    </tr>\n",
       "  </thead>\n",
       "  <tbody>\n",
       "    <tr>\n",
       "      <th>0</th>\n",
       "      <td>8</td>\n",
       "      <td>Simple pass</td>\n",
       "      <td>[Accurate]</td>\n",
       "      <td>25413</td>\n",
       "      <td>[[50.96, 34.68], [32.24, 14.96]]</td>\n",
       "      <td>2499719</td>\n",
       "      <td>Pass</td>\n",
       "      <td>1609</td>\n",
       "      <td>1H</td>\n",
       "      <td>2.758649</td>\n",
       "      <td>85</td>\n",
       "      <td>177959171</td>\n",
       "      <td>25413.0</td>\n",
       "      <td>right</td>\n",
       "      <td>AlexandreLacazette</td>\n",
       "      <td>FWD</td>\n",
       "    </tr>\n",
       "    <tr>\n",
       "      <th>1</th>\n",
       "      <td>1</td>\n",
       "      <td>Air duel</td>\n",
       "      <td>[Lost, Not accurate]</td>\n",
       "      <td>25413</td>\n",
       "      <td>[[73.84, 31.28], [52.0, 27.88]]</td>\n",
       "      <td>2499719</td>\n",
       "      <td>Duel</td>\n",
       "      <td>1609</td>\n",
       "      <td>1H</td>\n",
       "      <td>22.551816</td>\n",
       "      <td>10</td>\n",
       "      <td>177959181</td>\n",
       "      <td>25413.0</td>\n",
       "      <td>right</td>\n",
       "      <td>AlexandreLacazette</td>\n",
       "      <td>FWD</td>\n",
       "    </tr>\n",
       "    <tr>\n",
       "      <th>2</th>\n",
       "      <td>10</td>\n",
       "      <td>Shot</td>\n",
       "      <td>[Goal, Right foot, Opportunity, Position: Goal...</td>\n",
       "      <td>25413</td>\n",
       "      <td>[[91.52, 40.12], [0.0, 68.0]]</td>\n",
       "      <td>2499719</td>\n",
       "      <td>Shot</td>\n",
       "      <td>1609</td>\n",
       "      <td>1H</td>\n",
       "      <td>94.595788</td>\n",
       "      <td>100</td>\n",
       "      <td>177959212</td>\n",
       "      <td>25413.0</td>\n",
       "      <td>right</td>\n",
       "      <td>AlexandreLacazette</td>\n",
       "      <td>FWD</td>\n",
       "    </tr>\n",
       "    <tr>\n",
       "      <th>3</th>\n",
       "      <td>8</td>\n",
       "      <td>Head pass</td>\n",
       "      <td>[Not accurate]</td>\n",
       "      <td>25413</td>\n",
       "      <td>[[73.84, 20.4], [73.84, 25.16]]</td>\n",
       "      <td>2499719</td>\n",
       "      <td>Pass</td>\n",
       "      <td>1609</td>\n",
       "      <td>1H</td>\n",
       "      <td>397.881307</td>\n",
       "      <td>82</td>\n",
       "      <td>177959276</td>\n",
       "      <td>25413.0</td>\n",
       "      <td>right</td>\n",
       "      <td>AlexandreLacazette</td>\n",
       "      <td>FWD</td>\n",
       "    </tr>\n",
       "    <tr>\n",
       "      <th>4</th>\n",
       "      <td>1</td>\n",
       "      <td>Ground defending duel</td>\n",
       "      <td>[Take on left, Lost, Not accurate]</td>\n",
       "      <td>25413</td>\n",
       "      <td>[[63.44, 24.48], [53.04, 8.84]]</td>\n",
       "      <td>2499719</td>\n",
       "      <td>Duel</td>\n",
       "      <td>1609</td>\n",
       "      <td>1H</td>\n",
       "      <td>494.461238</td>\n",
       "      <td>12</td>\n",
       "      <td>177959303</td>\n",
       "      <td>25413.0</td>\n",
       "      <td>right</td>\n",
       "      <td>AlexandreLacazette</td>\n",
       "      <td>FWD</td>\n",
       "    </tr>\n",
       "  </tbody>\n",
       "</table>\n",
       "</div>"
      ],
      "text/plain": [
       "   eventId           subEventName  \\\n",
       "0        8            Simple pass   \n",
       "1        1               Air duel   \n",
       "2       10                   Shot   \n",
       "3        8              Head pass   \n",
       "4        1  Ground defending duel   \n",
       "\n",
       "                                                tags  playerId  \\\n",
       "0                                         [Accurate]     25413   \n",
       "1                               [Lost, Not accurate]     25413   \n",
       "2  [Goal, Right foot, Opportunity, Position: Goal...     25413   \n",
       "3                                     [Not accurate]     25413   \n",
       "4                 [Take on left, Lost, Not accurate]     25413   \n",
       "\n",
       "                          positions  matchId eventName  teamId matchPeriod  \\\n",
       "0  [[50.96, 34.68], [32.24, 14.96]]  2499719      Pass    1609          1H   \n",
       "1   [[73.84, 31.28], [52.0, 27.88]]  2499719      Duel    1609          1H   \n",
       "2     [[91.52, 40.12], [0.0, 68.0]]  2499719      Shot    1609          1H   \n",
       "3   [[73.84, 20.4], [73.84, 25.16]]  2499719      Pass    1609          1H   \n",
       "4   [[63.44, 24.48], [53.04, 8.84]]  2499719      Duel    1609          1H   \n",
       "\n",
       "     eventSec subEventId         id     wyId   foot          playerName role  \n",
       "0    2.758649         85  177959171  25413.0  right  AlexandreLacazette  FWD  \n",
       "1   22.551816         10  177959181  25413.0  right  AlexandreLacazette  FWD  \n",
       "2   94.595788        100  177959212  25413.0  right  AlexandreLacazette  FWD  \n",
       "3  397.881307         82  177959276  25413.0  right  AlexandreLacazette  FWD  \n",
       "4  494.461238         12  177959303  25413.0  right  AlexandreLacazette  FWD  "
      ]
     },
     "execution_count": 6,
     "metadata": {},
     "output_type": "execute_result"
    }
   ],
   "source": [
    "df_events_roles.head()"
   ]
  },
  {
   "cell_type": "markdown",
   "metadata": {},
   "source": [
    "**Filtering out pass data for defenders and finding league wise total passes and total accurate passes for defenders**"
   ]
  },
  {
   "cell_type": "code",
   "execution_count": 7,
   "metadata": {
    "ExecuteTime": {
     "end_time": "2020-07-06T08:48:51.589148Z",
     "start_time": "2020-07-06T08:48:50.915981Z"
    }
   },
   "outputs": [],
   "source": [
    "df_events_pass = df_events_roles.loc[df_events_roles['eventName'].str.contains('Pass')].loc[df_events_roles['role']=='DEF']"
   ]
  },
  {
   "cell_type": "code",
   "execution_count": 8,
   "metadata": {
    "ExecuteTime": {
     "end_time": "2020-07-06T08:48:56.309343Z",
     "start_time": "2020-07-06T08:48:56.301352Z"
    }
   },
   "outputs": [],
   "source": [
    "league_pass_info = dict()\n",
    "league_pass_info['totalpasses'] = len(df_events_pass)"
   ]
  },
  {
   "cell_type": "code",
   "execution_count": 9,
   "metadata": {
    "ExecuteTime": {
     "end_time": "2020-07-06T08:49:01.211223Z",
     "start_time": "2020-07-06T08:49:01.171146Z"
    }
   },
   "outputs": [],
   "source": [
    "# df_events_pass['playerName'].value_counts()"
   ]
  },
  {
   "cell_type": "code",
   "execution_count": 10,
   "metadata": {
    "ExecuteTime": {
     "end_time": "2020-07-06T08:49:06.146902Z",
     "start_time": "2020-07-06T08:49:06.074648Z"
    }
   },
   "outputs": [],
   "source": [
    "league_pass_info['totalaccuratepasses']=len(df_events_pass[df_events_pass['tags'].apply(lambda x: \"Accurate\" in x)])"
   ]
  },
  {
   "cell_type": "code",
   "execution_count": 11,
   "metadata": {
    "ExecuteTime": {
     "end_time": "2020-07-06T08:49:11.087872Z",
     "start_time": "2020-07-06T08:49:11.079847Z"
    }
   },
   "outputs": [
    {
     "data": {
      "text/plain": [
       "{'totalpasses': 138538, 'totalaccuratepasses': 114943}"
      ]
     },
     "execution_count": 11,
     "metadata": {},
     "output_type": "execute_result"
    }
   ],
   "source": [
    "league_pass_info"
   ]
  },
  {
   "cell_type": "markdown",
   "metadata": {},
   "source": [
    "**Creating seperate dataframes for each defensive lineup based for preferred foot of each defender**"
   ]
  },
  {
   "cell_type": "code",
   "execution_count": 12,
   "metadata": {
    "ExecuteTime": {
     "end_time": "2020-07-06T08:49:15.797066Z",
     "start_time": "2020-07-06T08:49:15.789076Z"
    }
   },
   "outputs": [],
   "source": [
    "# footedness_patterns"
   ]
  },
  {
   "cell_type": "code",
   "execution_count": 13,
   "metadata": {
    "ExecuteTime": {
     "end_time": "2020-07-06T08:49:20.690181Z",
     "start_time": "2020-07-06T08:49:20.670206Z"
    }
   },
   "outputs": [],
   "source": [
    "df_rrrl = df_defence_footed.loc[df_defence_footed['footedness']=='right-right-right-left']\n",
    "df_rrll = df_defence_footed.loc[df_defence_footed['footedness']=='right-right-left-left']\n",
    "df_rrl = df_defence_footed.loc[df_defence_footed['footedness']=='right-right-left']\n",
    "df_rrr = df_defence_footed.loc[df_defence_footed['footedness']=='right-right-right']\n",
    "df_rll = df_defence_footed.loc[df_defence_footed['footedness']=='right-left-left']\n",
    "df_rrrll = df_defence_footed.loc[df_defence_footed['footedness']=='right-right-right-left-left']\n",
    "df_rrlr = df_defence_footed.loc[df_defence_footed['footedness']=='right-right-left-right']\n",
    "df_rrrr = df_defence_footed.loc[df_defence_footed['footedness']=='right-right-right-right']\n",
    "df_rrrrl = df_defence_footed.loc[df_defence_footed['footedness']=='right-right-right-right-left']\n",
    "df_rlr = df_defence_footed.loc[df_defence_footed['footedness']=='right-left-right']\n",
    "df_rrrlr = df_defence_footed.loc[df_defence_footed['footedness']=='right-right-right-left-right']\n",
    "df_rrlll = df_defence_footed.loc[df_defence_footed['footedness']=='right-right-left-left-left']\n",
    "df_rlll = df_defence_footed.loc[df_defence_footed['footedness']=='right-left-left-left']"
   ]
  },
  {
   "cell_type": "markdown",
   "metadata": {},
   "source": [
    "**Creating a list of such dataframes**"
   ]
  },
  {
   "cell_type": "code",
   "execution_count": 14,
   "metadata": {
    "ExecuteTime": {
     "end_time": "2020-07-06T08:49:30.437036Z",
     "start_time": "2020-07-06T08:49:30.429013Z"
    }
   },
   "outputs": [],
   "source": [
    "df_clusters = [df_rrrl,df_rrll,df_rrl,df_rrr,df_rll,df_rrrll,df_rrlr,df_rrrr,df_rrrrl,df_rlr,df_rrrlr,df_rrlll,df_rlll]"
   ]
  },
  {
   "cell_type": "markdown",
   "metadata": {},
   "source": [
    "**Creating a dictionary of mapping of players with a mismatch in names in events data and Premier League parsed data**"
   ]
  },
  {
   "cell_type": "code",
   "execution_count": 15,
   "metadata": {
    "ExecuteTime": {
     "end_time": "2020-07-06T08:49:44.627181Z",
     "start_time": "2020-07-06T08:49:44.584993Z"
    }
   },
   "outputs": [],
   "source": [
    "player_map = {  'RamiroFunesMori': 'JoseRamiroFunesMori',\n",
    "                'KurtZouma': 'KurtHappyZouma',\n",
    "                'Danilo': 'DaniloLuizdaSilva',\n",
    "                'CesarAzpilicueta': 'CesarAzpilicuetaTanco',\n",
    "                'EzequielSchelotto': 'MatiasEzequielSchelotto',\n",
    "                'GaetanBong': 'GaetanBongSongo',\n",
    "                'HectorBellerin': 'HectorBellerinMoruno',\n",
    "                'AhmedHegazi': 'AhmedHegazy',\n",
    "                'JamaalLascelles': 'JamalLascelles',\n",
    "                'AngelRangel': 'AngelRangelZaragoza',\n",
    "                'Zanka': 'MathiasJattahNjieJorgensen',\n",
    "                'EricBailly': 'EricBertrandBailly',\n",
    "                'MarcosRojo': 'FaustinoMarcosAlbertoRojo',\n",
    "                'AngeloOgbonna': 'AngeloObinzeOgbonna',\n",
    "                'DavinsonSanchez': 'DavinsonSanchezMina',\n",
    "                'JavierManquillo': 'JavierManquilloGaitan',\n",
    "                'TommySmith': 'TomSmith',\n",
    "                'Bruno': 'BrunoSaltorGrau',\n",
    "                'JosephGomez': 'JoeGomez',\n",
    "                'AlbertoMoreno':'AlbertoMorenoPerez',\n",
    "                'LuisAntonioValencia':'LuisAntonioValenciaMosquera',\n",
    "                'NicolasOtamendi':'NicolasHernanOtamendi',\n",
    "                'NachoMonreal':'IgnacioMonrealEraso',\n",
    "                'CedricSoares':'CedricRicardoAlvesSoares',\n",
    "                'JoelMatip':'JoelAndreJobMatip',\n",
    "                'MiguelBritos':'MiguelAngelBritosCabrera',\n",
    "                'VictorLindelof':'VictorNilssonLindelof',\n",
    "                'JamesCollins':'JamesMichaelCollins',\n",
    "                'CucoMartina':'RhuendlyMartina',\n",
    "                'DavidLuiz':'DavidLuizMoreiraMarinho',\n",
    "                'ChancelMbemba':'ChancelMbembaMangulu',\n",
    "                'PabloZabaleta':'PabloJavierZabaletaGirod',\n",
    "                'KikoFemenia':'FranciscoFemeniaFar',\n",
    "                'JoseFonte':'JoseMigueldaRochaFonte',\n",
    "                'JesusGamez':'JesusGamezDuarte'}\n"
   ]
  },
  {
   "cell_type": "markdown",
   "metadata": {},
   "source": [
    "**Creating a metrics collection function that takes in x (match_id) and y (player name) and returns the following metrics-**\n",
    "\n",
    "**numpasses** - number of passes made by the player in the queried match\n",
    "\n",
    "**numaccpasses** - number of accurate passes made by the player in the queried match\n",
    "\n",
    "**numhighpasses** - number of high (aerial) passes made by the player in the queried match\n",
    "\n",
    "**numhighaccpasses** - number of high (aerial) accurate passes made by the player in the queried match\n",
    "\n",
    "**accpasslocs** - starting and ending coordinates of all the accurate passes made by the player in the queried match\n",
    "\n",
    "**inaccpasslocs** - starting and ending coordinates of all the inaccurate passes made by the player in the queried match\n",
    "\n",
    "**acchighpasslocs** - starting and ending coordinates of all the accurate high passes made by the player in the queried match\n",
    "\n",
    "**inacchighpasslocs** - starting and ending coordinates of all the inaccurate high passes made by the player in the queried match"
   ]
  },
  {
   "cell_type": "code",
   "execution_count": 16,
   "metadata": {
    "ExecuteTime": {
     "end_time": "2020-07-06T08:50:17.728154Z",
     "start_time": "2020-07-06T08:50:17.716143Z"
    }
   },
   "outputs": [],
   "source": [
    "def getmetrics(x,y):\n",
    "    try:\n",
    "        y = player_map[y]\n",
    "    except:\n",
    "        pass\n",
    "    split_y = re.findall('[A-Z][^A-Z]*',y)\n",
    "    try:\n",
    "        pass_df = df_events_pass.loc[(df_events_pass['playerName'].str.contains(split_y[-1]))&\n",
    "                                 (df_events_pass['playerName'].str.contains(split_y[-2]))&\n",
    "                                 (df_events_pass['matchId']==int(x))]\n",
    "    except:\n",
    "        pass_df = df_events_pass.loc[(df_events_pass['playerName'].str.contains(split_y[-1]))&\n",
    "                                 (df_events_pass['matchId']==int(x))]\n",
    "    numpasses = len(pass_df)\n",
    "    numaccpasses = len(pass_df.loc[pass_df['tags'].apply(lambda a: \"Accurate\" in a)])\n",
    "    numhighpasses = len(pass_df.loc[pass_df['subEventName']=='High pass'])\n",
    "    numhighaccpasses = len(pass_df.loc[(pass_df['subEventName']=='High pass') & (pass_df['tags'].apply(lambda a: \"Accurate\" in a))])\n",
    "    accpasslocs = pass_df.loc[pass_df['tags'].apply(lambda a: \"Accurate\" in a)]['positions'].tolist()\n",
    "    inaccpasslocs = pass_df.loc[pass_df['tags'].apply(lambda a: \"Not accurate\" in a)]['positions'].tolist()\n",
    "    acchighpasslocs = pass_df.loc[(pass_df['subEventName']=='High pass') & (pass_df['tags'].apply(lambda a: \"Accurate\" in a))]['positions'].tolist()\n",
    "    inacchighpasslocs = pass_df.loc[(pass_df['subEventName']=='High pass') & (pass_df['tags'].apply(lambda a: \"Not accurate\" in a))]['positions'].tolist()\n",
    "    return [numpasses,numaccpasses,numhighpasses,numhighaccpasses,accpasslocs,inaccpasslocs,acchighpasslocs,inacchighpasslocs]\n"
   ]
  },
  {
   "cell_type": "code",
   "execution_count": 17,
   "metadata": {
    "ExecuteTime": {
     "end_time": "2020-07-06T08:50:32.450911Z",
     "start_time": "2020-07-06T08:50:32.255205Z"
    }
   },
   "outputs": [],
   "source": [
    "# getmetrics(2500081,\"Bruno\")"
   ]
  },
  {
   "cell_type": "code",
   "execution_count": 18,
   "metadata": {
    "ExecuteTime": {
     "end_time": "2020-07-06T08:50:47.209764Z",
     "start_time": "2020-07-06T08:50:47.205770Z"
    }
   },
   "outputs": [],
   "source": [
    "new_cols = ['RB_all',\n",
    "            'R_CB_all',\n",
    "            'L_CB_all',\n",
    "            'LB_all',\n",
    "            'RCB_all',\n",
    "            'CB_all',\n",
    "            'LCB_all',\n",
    "            'RWB_all',\n",
    "            'LWB_all']"
   ]
  },
  {
   "cell_type": "markdown",
   "metadata": {},
   "source": [
    "**Collecting metrics for each defender location for various clusters**"
   ]
  },
  {
   "cell_type": "code",
   "execution_count": 19,
   "metadata": {
    "ExecuteTime": {
     "end_time": "2020-07-06T08:58:24.253711Z",
     "start_time": "2020-07-06T08:51:03.199488Z"
    }
   },
   "outputs": [
    {
     "name": "stderr",
     "output_type": "stream",
     "text": [
      "100%|██████████| 13/13 [07:58<00:00, 36.81s/it]\n"
     ]
    }
   ],
   "source": [
    "#R_CB - Right center back for 4 defender formation\n",
    "#RCB - Right center back for 3 or 5 defender formation\n",
    "#L_CB - Left center back for 4 defender formation\n",
    "#LCB - Left center back for 3 or 5 defender formation\n",
    "df_clusters_updated = list()\n",
    "for df in tqdm(df_clusters):\n",
    "    df = df.reindex(columns = df.columns.tolist() + new_cols)\n",
    "    if df.iloc[0]['backline'] == 4.0:     \n",
    "        df['RB_all'] = df.apply(lambda x: getmetrics(x.wyId,x.RB), axis=1)\n",
    "        df['R_CB_all'] = df.apply(lambda x: getmetrics(x.wyId,x['R_CB']), axis=1)\n",
    "        df['L_CB_all'] = df.apply(lambda x: getmetrics(x.wyId,x['L_CB']), axis=1)\n",
    "        df['LB_all'] = df.apply(lambda x: getmetrics(x.wyId,x.LB), axis=1)\n",
    "        df_clusters_updated.append(df)\n",
    "    \n",
    "    elif df.iloc[0]['backline'] == 3.0:\n",
    "        df['RCB_all'] = df.apply(lambda x: getmetrics(x.wyId,x.RCB), axis=1)\n",
    "        df['CB_all'] = df.apply(lambda x: getmetrics(x.wyId,x.CB), axis=1)\n",
    "        df['LCB_all'] = df.apply(lambda x: getmetrics(x.wyId,x.LCB), axis=1)\n",
    "        df_clusters_updated.append(df)\n",
    "        \n",
    "    elif df.iloc[0]['backline'] == 5.0:\n",
    "        df['RWB_all'] = df.apply(lambda x: getmetrics(x.wyId,x.RWB), axis=1)\n",
    "        df['RCB_all'] = df.apply(lambda x: getmetrics(x.wyId,x.RCB), axis=1)\n",
    "        df['CB_all'] = df.apply(lambda x: getmetrics(x.wyId,x.CB), axis=1)\n",
    "        df['LCB_all'] = df.apply(lambda x: getmetrics(x.wyId,x.LCB), axis=1)\n",
    "        df['LWB_all'] = df.apply(lambda x: getmetrics(x.wyId,x.LWB), axis=1)\n",
    "        df_clusters_updated.append(df)"
   ]
  },
  {
   "cell_type": "code",
   "execution_count": 20,
   "metadata": {},
   "outputs": [],
   "source": [
    "# df_players.loc[df_players['playerName'].str.contains(\"DavidLuizMoreiraMarinho\")]"
   ]
  },
  {
   "cell_type": "code",
   "execution_count": 21,
   "metadata": {},
   "outputs": [],
   "source": [
    "# df_clusters_updated[6].loc[df_clusters_updated[6]['RB_all'].apply(lambda p : p[0]==0)]"
   ]
  },
  {
   "cell_type": "markdown",
   "metadata": {},
   "source": [
    "**Splitting the metrics into individual columns**"
   ]
  },
  {
   "cell_type": "code",
   "execution_count": 22,
   "metadata": {
    "ExecuteTime": {
     "end_time": "2020-07-06T08:59:42.898535Z",
     "start_time": "2020-07-06T08:59:42.529365Z"
    }
   },
   "outputs": [
    {
     "name": "stderr",
     "output_type": "stream",
     "text": [
      "100%|██████████| 13/13 [00:00<00:00, 32.23it/s]\n"
     ]
    }
   ],
   "source": [
    "df_clusters_metrics = list()\n",
    "for df in tqdm(df_clusters_updated):\n",
    "    if df.iloc[0]['backline'] == 4.0:\n",
    "        df[['RB_pass','RB_accpass','RB_highpass','RB_acchighpass','RB_accpassloc','RB_inaccpassloc','RB_acchighpassloc','RB_inacchighpassloc']] = pd.DataFrame(df['RB_all'].to_list(), index=df.index)\n",
    "        df[['R_CB_pass','R_CB_accpass','R_CB_highpass','R_CB_acchighpass','R_CB_accpassloc','R_CB_inaccpassloc','R_CB_acchighpassloc','R_CB_inacchighpassloc']] = pd.DataFrame(df['R_CB_all'].to_list(), index=df.index)\n",
    "        df[['L_CB_pass','L_CB_accpass','L_CB_highpass','L_CB_acchighpass','L_CB_accpassloc','L_CB_inaccpassloc','L_CB_acchighpassloc','L_CB_inacchighpassloc']] = pd.DataFrame(df['L_CB_all'].to_list(), index=df.index)\n",
    "        df[['LB_pass','LB_accpass','LB_highpass','LB_acchighpass','LB_accpassloc','LB_inaccpassloc','LB_acchighpassloc','LB_inacchighpassloc']] = pd.DataFrame(df['LB_all'].to_list(), index=df.index)\n",
    "        df.drop(['RB_all','R_CB_all','L_CB_all','LB_all','RCB_all','LCB_all','CB_all','RWB_all','LWB_all'], axis=1, inplace = True)\n",
    "        df_clusters_metrics.append(df)\n",
    "       \n",
    "    elif df.iloc[0]['backline'] == 3.0:\n",
    "        df[['RCB_pass','RCB_accpass','RCB_highpass','RCB_acchighpass','RCB_accpassloc','RCB_inaccpassloc','RCB_acchighpassloc','RCB_inacchighpassloc']] = pd.DataFrame(df['RCB_all'].to_list(), index=df.index)\n",
    "        df[['CB_pass','CB_accpass','CB_highpass','CB_acchighpass','CB_accpassloc','CB_inaccpassloc','CB_acchighpassloc','CB_inacchighpassloc']] = pd.DataFrame(df['CB_all'].to_list(), index=df.index)\n",
    "        df[['LCB_pass','LCB_accpass','LCB_highpass','LCB_acchighpass','LCB_accpassloc','LCB_inaccpassloc','LCB_acchighpassloc','LCB_inacchighpassloc']] = pd.DataFrame(df['LCB_all'].to_list(), index=df.index)\n",
    "        df.drop(['RB_all','R_CB_all','L_CB_all','LB_all','RCB_all','LCB_all','CB_all','RWB_all','LWB_all'], axis=1, inplace = True)\n",
    "        df_clusters_metrics.append(df)\n",
    "       \n",
    "    elif df.iloc[0]['backline'] == 5.0:\n",
    "        df[['RCB_pass','RCB_accpass','RCB_highpass','RCB_acchighpass','RCB_accpassloc','RCB_inaccpassloc','RCB_acchighpassloc','RCB_inacchighpassloc']] = pd.DataFrame(df['RCB_all'].to_list(), index=df.index)\n",
    "        df[['CB_pass','CB_accpass','CB_highpass','CB_acchighpass','CB_accpassloc','CB_inaccpassloc','CB_acchighpassloc','CB_inacchighpassloc']] = pd.DataFrame(df['CB_all'].to_list(), index=df.index)\n",
    "        df[['LCB_pass','LCB_accpass','LCB_highpass','LCB_acchighpass','LCB_accpassloc','LCB_inaccpassloc','LCB_acchighpassloc','LCB_inacchighpassloc']] = pd.DataFrame(df['LCB_all'].to_list(), index=df.index)\n",
    "        df[['RWB_pass','RWB_accpass','RWB_highpass','RWB_acchighpass','RWB_accpassloc','RWB_inaccpassloc','RWB_acchighpassloc','RWB_inacchighpassloc']] = pd.DataFrame(df['RWB_all'].to_list(), index=df.index)\n",
    "        df[['LWB_pass','LWB_accpass','LWB_highpass','LWB_acchighpass','LWB_accpassloc','LWB_inaccpassloc','LWB_acchighpassloc','LWB_inacchighpassloc']] = pd.DataFrame(df['LWB_all'].to_list(), index=df.index)\n",
    "        df.drop(['RB_all','R_CB_all','L_CB_all','LB_all','RCB_all','LCB_all','CB_all','RWB_all','LWB_all'], axis=1, inplace = True)\n",
    "        df_clusters_metrics.append(df)"
   ]
  },
  {
   "cell_type": "code",
   "execution_count": 24,
   "metadata": {
    "ExecuteTime": {
     "end_time": "2020-07-06T09:04:43.197543Z",
     "start_time": "2020-07-06T09:04:41.406842Z"
    }
   },
   "outputs": [],
   "source": [
    "names = ['rrrl','rrll','rrl','rrr','rll','rrrll','rrlr','rrrr','rrrrl','rlr','rrrlr','rrlll','rlll']\n",
    "\n",
    "for i,df in enumerate(df_clusters_metrics):\n",
    "    df.to_pickle(f'../data/clusters/clusters_v3/cluster_{names[i]}.pkl')"
   ]
  },
  {
   "cell_type": "code",
   "execution_count": 6,
   "metadata": {},
   "outputs": [],
   "source": [
    "# df_events_pass.loc[(df_events_pass['matchId']==2500065) & (df_events_pass['playerName'].str.contains('FedericoFernandez'))]"
   ]
  },
  {
   "cell_type": "code",
   "execution_count": null,
   "metadata": {},
   "outputs": [],
   "source": []
  }
 ],
 "metadata": {
  "hide_input": false,
  "kernelspec": {
   "display_name": "Python 3",
   "language": "python",
   "name": "python3"
  },
  "language_info": {
   "codemirror_mode": {
    "name": "ipython",
    "version": 3
   },
   "file_extension": ".py",
   "mimetype": "text/x-python",
   "name": "python",
   "nbconvert_exporter": "python",
   "pygments_lexer": "ipython3",
   "version": "3.6.6"
  },
  "toc": {
   "base_numbering": 1,
   "nav_menu": {},
   "number_sections": true,
   "sideBar": true,
   "skip_h1_title": false,
   "title_cell": "Table of Contents",
   "title_sidebar": "Contents",
   "toc_cell": false,
   "toc_position": {},
   "toc_section_display": true,
   "toc_window_display": false
  },
  "varInspector": {
   "cols": {
    "lenName": 16,
    "lenType": 16,
    "lenVar": 40
   },
   "kernels_config": {
    "python": {
     "delete_cmd_postfix": "",
     "delete_cmd_prefix": "del ",
     "library": "var_list.py",
     "varRefreshCmd": "print(var_dic_list())"
    },
    "r": {
     "delete_cmd_postfix": ") ",
     "delete_cmd_prefix": "rm(",
     "library": "var_list.r",
     "varRefreshCmd": "cat(var_dic_list()) "
    }
   },
   "position": {
    "height": "649.383px",
    "left": "1619px",
    "right": "20px",
    "top": "121px",
    "width": "399.867px"
   },
   "types_to_exclude": [
    "module",
    "function",
    "builtin_function_or_method",
    "instance",
    "_Feature"
   ],
   "window_display": true
  }
 },
 "nbformat": 4,
 "nbformat_minor": 4
}
