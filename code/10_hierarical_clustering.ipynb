{
 "cells": [
  {
   "cell_type": "code",
   "execution_count": 73,
   "metadata": {},
   "outputs": [],
   "source": [
    "import pandas as pd\n",
    "import numpy as np\n",
    "import matplotlib.pyplot as plt\n",
    "import scipy.cluster.hierarchy as shc\n",
    "from sklearn.cluster import AgglomerativeClustering\n",
    "import pickle\n",
    "import swifter\n",
    "import scipy.stats as sps\n",
    "from sklearn.preprocessing import StandardScaler\n",
    "import plotly.express as px\n",
    "from sklearn.manifold import TSNE\n",
    "pd.set_option('max_columns',None)"
   ]
  },
  {
   "cell_type": "code",
   "execution_count": 3,
   "metadata": {},
   "outputs": [],
   "source": [
    "def_data = pd.read_pickle('../../FootballPlayerFootedness_copy/data/defender_clusters/defender_attrs_def_region_wise.pkl')"
   ]
  },
  {
   "cell_type": "code",
   "execution_count": 4,
   "metadata": {},
   "outputs": [
    {
     "data": {
      "text/html": [
       "<div>\n",
       "<style scoped>\n",
       "    .dataframe tbody tr th:only-of-type {\n",
       "        vertical-align: middle;\n",
       "    }\n",
       "\n",
       "    .dataframe tbody tr th {\n",
       "        vertical-align: top;\n",
       "    }\n",
       "\n",
       "    .dataframe thead th {\n",
       "        text-align: right;\n",
       "    }\n",
       "</style>\n",
       "<table border=\"1\" class=\"dataframe\">\n",
       "  <thead>\n",
       "    <tr style=\"text-align: right;\">\n",
       "      <th></th>\n",
       "      <th>index</th>\n",
       "      <th>player_name</th>\n",
       "      <th>team</th>\n",
       "      <th>position</th>\n",
       "      <th>footedness</th>\n",
       "      <th>matches_played</th>\n",
       "      <th>passes</th>\n",
       "      <th>accpass</th>\n",
       "      <th>progaccpass</th>\n",
       "      <th>proginaccpass</th>\n",
       "      <th>accpassloc</th>\n",
       "      <th>inaccpassloc</th>\n",
       "      <th>progaccpassloc</th>\n",
       "      <th>proginaccpassloc</th>\n",
       "      <th>accpassvaep</th>\n",
       "      <th>inaccpassvaep</th>\n",
       "      <th>progaccpassvaep</th>\n",
       "      <th>proginaccpassvaep</th>\n",
       "      <th>accpassoff</th>\n",
       "      <th>inaccpassoff</th>\n",
       "      <th>progaccpassoff</th>\n",
       "      <th>proginaccpassoff</th>\n",
       "      <th>accpassdef</th>\n",
       "      <th>inaccpassdef</th>\n",
       "      <th>progaccpassdef</th>\n",
       "      <th>proginaccpassdef</th>\n",
       "      <th>prog_acc_region_per_pass</th>\n",
       "      <th>vaep_acc_region_per_pass</th>\n",
       "      <th>prog_inacc_region_per_pass</th>\n",
       "      <th>vaep_inacc_region_per_pass</th>\n",
       "      <th>off_acc_region_per_pass</th>\n",
       "      <th>off_inacc_region_per_pass</th>\n",
       "      <th>def_acc_region_per_pass</th>\n",
       "      <th>def_inacc_region_per_pass</th>\n",
       "      <th>progpreference_per_region</th>\n",
       "      <th>progaccuracy_per_region</th>\n",
       "      <th>total_off_region_per_pass</th>\n",
       "    </tr>\n",
       "  </thead>\n",
       "  <tbody>\n",
       "    <tr>\n",
       "      <th>0</th>\n",
       "      <td>0</td>\n",
       "      <td>AaronCresswell</td>\n",
       "      <td>West Ham</td>\n",
       "      <td>LB</td>\n",
       "      <td>left</td>\n",
       "      <td>7.0</td>\n",
       "      <td>275</td>\n",
       "      <td>203</td>\n",
       "      <td>43</td>\n",
       "      <td>47</td>\n",
       "      <td>[[[11.44, 47.6], [10.4, 48.96]], [[21.84, 58.4...</td>\n",
       "      <td>[[[22.88, 65.28], [31.2, 63.24]], [[24.96, 61....</td>\n",
       "      <td>[[[73.84, 66.64], [94.64, 63.92]], [[63.44, 55...</td>\n",
       "      <td>[[[24.96, 61.2], [49.92, 37.4]], [[40.56, 64.6...</td>\n",
       "      <td>[-0.0060007767751812935, 0.014951384626328945,...</td>\n",
       "      <td>[-0.005001368001103401, 0.0014556727837771177,...</td>\n",
       "      <td>[0.010874261148273945, -0.0008622575551271439,...</td>\n",
       "      <td>[0.0014556727837771177, -0.004146812949329615,...</td>\n",
       "      <td>[-0.00111871468834579, 0.0030969707295298576, ...</td>\n",
       "      <td>[-0.0018319590017199516, 0.0011951092164963484...</td>\n",
       "      <td>[0.010732980445027351, -0.0017494764178991318,...</td>\n",
       "      <td>[0.0011951092164963484, -0.0003939601592719555...</td>\n",
       "      <td>[-0.00488206185400486, 0.011854413896799088, 0...</td>\n",
       "      <td>[-0.003169409232214093, 0.00026056356728076935...</td>\n",
       "      <td>[0.00014128070324659348, 0.0008872188627719879...</td>\n",
       "      <td>[0.00026056356728076935, -0.003752852790057659...</td>\n",
       "      <td>[2.33, 2.33, 2.33, 2.33, 53.49, 20.93, 9.3, 6.98]</td>\n",
       "      <td>[4.351908341050148, 2.852484816685319, 11.1506...</td>\n",
       "      <td>[0, 4.26, 0, 0, 36.17, 38.3, 4.26, 17.02]</td>\n",
       "      <td>[0, -0.8253974374383688, 0, 0, -4.327049506280...</td>\n",
       "      <td>[3.6003405693918467, 5.269106011837721, 3.0451...</td>\n",
       "      <td>[0, 0.31970476265996695, 0, 0, -3.263597869697...</td>\n",
       "      <td>[0.7515675388276577, -2.416621195152402, 8.105...</td>\n",
       "      <td>[0, -1.1451022000983357, 0, 0, -1.063451554407...</td>\n",
       "      <td>[1.11, 3.33, 1.11, 1.11, 44.44, 30.0, 6.67, 12...</td>\n",
       "      <td>[100.0, 33.33, 100.0, 100.0, 57.5, 33.33, 66.6...</td>\n",
       "      <td>[3.6003405693918467, 1.9695051790525517, 3.045...</td>\n",
       "    </tr>\n",
       "    <tr>\n",
       "      <th>1</th>\n",
       "      <td>1</td>\n",
       "      <td>AaronCresswell</td>\n",
       "      <td>West Ham</td>\n",
       "      <td>LCB</td>\n",
       "      <td>left</td>\n",
       "      <td>20.0</td>\n",
       "      <td>796</td>\n",
       "      <td>644</td>\n",
       "      <td>184</td>\n",
       "      <td>91</td>\n",
       "      <td>[[[27.04, 51.68], [55.12, 64.6]], [[65.52, 61....</td>\n",
       "      <td>[[[62.4, 51.0], [78.0, 49.64]], [[79.04, 61.2]...</td>\n",
       "      <td>[[[27.04, 51.68], [55.12, 64.6]], [[61.36, 59....</td>\n",
       "      <td>[[[62.4, 51.0], [78.0, 49.64]], [[79.04, 61.2]...</td>\n",
       "      <td>[0.0010694738011807203, 0.002371369395405054, ...</td>\n",
       "      <td>[-0.00956201646476984, -0.007710381411015987, ...</td>\n",
       "      <td>[0.0010694738011807203, 0.002284318208694458, ...</td>\n",
       "      <td>[-0.00956201646476984, -0.007710381411015987, ...</td>\n",
       "      <td>[0.0018120664171874523, 0.002711281180381775, ...</td>\n",
       "      <td>[-0.006647953763604164, -0.006097717210650444,...</td>\n",
       "      <td>[0.0018120664171874523, 0.0021007489413022995,...</td>\n",
       "      <td>[-0.006647953763604164, -0.006097717210650444,...</td>\n",
       "      <td>[-0.0007425926742143929, -0.000339911784976720...</td>\n",
       "      <td>[-0.002914062701165676, -0.001612664433196187,...</td>\n",
       "      <td>[-0.0007425926742143929, 0.0001835691509768366...</td>\n",
       "      <td>[-0.002914062701165676, -0.001612664433196187,...</td>\n",
       "      <td>[1.63, 0, 0.54, 0, 66.3, 19.57, 8.15, 3.8]</td>\n",
       "      <td>[16.502801328897476, 0, 3.1730758491903543, 0,...</td>\n",
       "      <td>[2.2, 3.3, 0, 2.2, 37.36, 36.26, 10.99, 7.69]</td>\n",
       "      <td>[-0.38534030318260193, 1.5773851579676073, 0, ...</td>\n",
       "      <td>[2.848291303962469, 0, 1.703751739114523, 0, 5...</td>\n",
       "      <td>[-0.1581189571879804, -0.8412844811876615, 0, ...</td>\n",
       "      <td>[13.65451041298608, 0, 1.4693241100758314, 0, ...</td>\n",
       "      <td>[-0.22722140420228243, 2.418669561545054, 0, 0...</td>\n",
       "      <td>[1.82, 1.09, 0.36, 0.73, 56.73, 25.09, 9.09, 5...</td>\n",
       "      <td>[60.0, 0.0, 100.0, 0.0, 78.21, 52.17, 60.0, 50.0]</td>\n",
       "      <td>[1.6457271995022893, -0.8412844811876615, 1.70...</td>\n",
       "    </tr>\n",
       "    <tr>\n",
       "      <th>2</th>\n",
       "      <td>2</td>\n",
       "      <td>AaronWanBissaka</td>\n",
       "      <td>Crystal Palace</td>\n",
       "      <td>RB</td>\n",
       "      <td>right</td>\n",
       "      <td>7.0</td>\n",
       "      <td>226</td>\n",
       "      <td>165</td>\n",
       "      <td>39</td>\n",
       "      <td>20</td>\n",
       "      <td>[[[60.32, 11.56], [70.72, 8.84]], [[55.12, 11....</td>\n",
       "      <td>[[[86.32, 22.44], [87.36, 25.84]], [[98.8, 10....</td>\n",
       "      <td>[[[60.32, 11.56], [70.72, 8.84]], [[83.2, 12.9...</td>\n",
       "      <td>[[[30.16, 6.8], [70.72, 0.0]], [[57.2, 3.4], [...</td>\n",
       "      <td>[0.0027392818592488766, -0.0019667267333716154...</td>\n",
       "      <td>[-0.02877645380795002, -0.01624043844640255, -...</td>\n",
       "      <td>[0.0027392818592488766, -0.011097729206085205,...</td>\n",
       "      <td>[-0.004570803605020046, -0.008917007595300674,...</td>\n",
       "      <td>[0.002814173698425293, -0.0016991370357573032,...</td>\n",
       "      <td>[-0.027683690190315247, -0.01549511682242155, ...</td>\n",
       "      <td>[0.002814173698425293, -0.011171048507094383, ...</td>\n",
       "      <td>[-0.0030704508535563946, -0.008004706352949142...</td>\n",
       "      <td>[-7.489195559173822e-05, -0.000267589697614312...</td>\n",
       "      <td>[-0.0010927643161267042, -0.000745321158319711...</td>\n",
       "      <td>[-7.489195559173822e-05, 7.331895176321268e-05...</td>\n",
       "      <td>[-0.0015003526350483298, -0.000912301591597497...</td>\n",
       "      <td>[0, 2.56, 2.56, 2.56, 2.56, 5.13, 17.95, 66.67]</td>\n",
       "      <td>[0, 26.790829375386238, 24.814365431666374, 4....</td>\n",
       "      <td>[5.0, 0, 0, 5.0, 5.0, 10.0, 15.0, 60.0]</td>\n",
       "      <td>[16.14953577518463, 0, 0, 26.300499215722084, ...</td>\n",
       "      <td>[0, 6.173175293952227, 7.698673754930496, 3.04...</td>\n",
       "      <td>[0.574472127482295, 0, 0, 1.9084271043539047, ...</td>\n",
       "      <td>[0, 20.6176545470953, 17.115691676735878, 1.67...</td>\n",
       "      <td>[15.575064346194267, 0, 0, 24.39207211136818, ...</td>\n",
       "      <td>[1.69, 1.69, 1.69, 3.39, 3.39, 6.78, 16.95, 64...</td>\n",
       "      <td>[0.0, 100.0, 100.0, 50.0, 50.0, 50.0, 70.0, 68...</td>\n",
       "      <td>[0.574472127482295, 6.173175293952227, 7.69867...</td>\n",
       "    </tr>\n",
       "    <tr>\n",
       "      <th>3</th>\n",
       "      <td>3</td>\n",
       "      <td>AdamSmith</td>\n",
       "      <td>Bournemouth</td>\n",
       "      <td>LB</td>\n",
       "      <td>right</td>\n",
       "      <td>3.0</td>\n",
       "      <td>146</td>\n",
       "      <td>120</td>\n",
       "      <td>27</td>\n",
       "      <td>10</td>\n",
       "      <td>[[[15.6, 59.84], [22.88, 54.4]], [[19.76, 61.2...</td>\n",
       "      <td>[[[67.6, 13.6], [74.88, 33.32]], [[44.72, 2.72...</td>\n",
       "      <td>[[[58.24, 53.04], [70.72, 62.56]], [[74.88, 41...</td>\n",
       "      <td>[[[67.6, 13.6], [74.88, 33.32]], [[44.72, 2.72...</td>\n",
       "      <td>[-0.002463837619870901, -0.0001035716850310564...</td>\n",
       "      <td>[-0.007104361429810524, 1.648860052227974e-05,...</td>\n",
       "      <td>[-0.0019909068942070007, -0.003893137909471988...</td>\n",
       "      <td>[-0.007104361429810524, 1.648860052227974e-05,...</td>\n",
       "      <td>[-0.005229263566434383, 0.0009387347381561995,...</td>\n",
       "      <td>[-0.005188643001019955, 0.0009281975217163563,...</td>\n",
       "      <td>[-0.001995561644434929, -0.003914793953299522,...</td>\n",
       "      <td>[-0.005188643001019955, 0.0009281975217163563,...</td>\n",
       "      <td>[0.0027654259465634823, -0.0010423064231872559...</td>\n",
       "      <td>[-0.0019157183123752475, -0.000911708921194076...</td>\n",
       "      <td>[4.6548666432499886e-06, 2.1655927412211895e-0...</td>\n",
       "      <td>[-0.0019157183123752475, -0.000911708921194076...</td>\n",
       "      <td>[0, 0, 3.7, 0, 37.04, 18.52, 14.81, 25.93]</td>\n",
       "      <td>[0, 0, 5.201917141675949, 0, 6.075569475069642...</td>\n",
       "      <td>[0, 0, 0, 0, 10.0, 50.0, 30.0, 10.0]</td>\n",
       "      <td>[0, 0, 0, 0, 5.831506103277206, -7.20428219065...</td>\n",
       "      <td>[0, 0, 5.2210502326488495, 0, 5.34815359860658...</td>\n",
       "      <td>[0, 0, 0, 0, 4.4114915654063225, -5.7543965987...</td>\n",
       "      <td>[0, 0, -0.01913309097290039, 0, 0.727415981236...</td>\n",
       "      <td>[0, 0, 0, 0, 1.4200147707015276, -1.4498856151...</td>\n",
       "      <td>[0.0, 0.0, 2.7, 0.0, 29.73, 27.03, 18.92, 21.62]</td>\n",
       "      <td>[0, 0, 100.0, 0, 90.91, 50.0, 57.14, 87.5]</td>\n",
       "      <td>[0, 0, 5.2210502326488495, 0, 5.26300250467929...</td>\n",
       "    </tr>\n",
       "    <tr>\n",
       "      <th>4</th>\n",
       "      <td>4</td>\n",
       "      <td>AdamSmith</td>\n",
       "      <td>Bournemouth</td>\n",
       "      <td>RB</td>\n",
       "      <td>right</td>\n",
       "      <td>10.0</td>\n",
       "      <td>451</td>\n",
       "      <td>387</td>\n",
       "      <td>71</td>\n",
       "      <td>35</td>\n",
       "      <td>[[[28.08, 4.76], [40.56, 20.4]], [[31.2, 13.6]...</td>\n",
       "      <td>[[[55.12, 4.08], [62.4, 6.8]], [[35.36, 4.08],...</td>\n",
       "      <td>[[[59.28, 6.12], [80.08, 6.8]], [[71.76, 4.76]...</td>\n",
       "      <td>[[[35.36, 4.08], [79.04, 9.52]], [[55.12, 5.44...</td>\n",
       "      <td>[0.0007454273290932178, -0.002337034558877349,...</td>\n",
       "      <td>[-0.008189908228814602, 0.0007318942807614803,...</td>\n",
       "      <td>[0.010347023606300354, 0.006110143847763538, 0...</td>\n",
       "      <td>[0.0007318942807614803, -0.008694054558873177,...</td>\n",
       "      <td>[0.0013971277512609959, -0.0004184735007584095...</td>\n",
       "      <td>[-0.005722924135625362, 0.0007222630083560944,...</td>\n",
       "      <td>[0.010311348363757133, 0.006469291634857655, 0...</td>\n",
       "      <td>[0.0007222630083560944, -0.0047131371684372425...</td>\n",
       "      <td>[-0.000651700422167778, -0.0019185610581189394...</td>\n",
       "      <td>[-0.0024669840931892395, 9.631272405385971e-06...</td>\n",
       "      <td>[3.567477688193321e-05, -0.0003591475542634725...</td>\n",
       "      <td>[9.631272405385971e-06, -0.003980916924774647,...</td>\n",
       "      <td>[2.82, 0, 0, 0, 7.04, 7.04, 26.76, 56.34]</td>\n",
       "      <td>[3.5457361955195665, 0, 0, 0, 10.6276816222816...</td>\n",
       "      <td>[0, 0, 0, 0, 2.86, 5.71, 31.43, 60.0]</td>\n",
       "      <td>[0, 0, 0, 0, -2.1765632554888725, 3.2613524235...</td>\n",
       "      <td>[1.786103704944253, 0, 0, 0, 4.087542742490768...</td>\n",
       "      <td>[0, 0, 0, 0, -6.332803517580032, 1.29774160450...</td>\n",
       "      <td>[1.7596324905753136, 0, 0, 0, 6.54013915918767...</td>\n",
       "      <td>[0, 0, 0, 0, 4.15624026209116, 1.9636107608675...</td>\n",
       "      <td>[1.89, 0.0, 0.0, 0.0, 5.66, 6.6, 28.3, 57.55]</td>\n",
       "      <td>[100.0, 0, 0, 0, 83.33, 71.43, 63.33, 65.57]</td>\n",
       "      <td>[1.786103704944253, 0, 0, 0, 2.350818365812301...</td>\n",
       "    </tr>\n",
       "  </tbody>\n",
       "</table>\n",
       "</div>"
      ],
      "text/plain": [
       "   index      player_name            team position footedness  matches_played  \\\n",
       "0      0   AaronCresswell        West Ham       LB       left             7.0   \n",
       "1      1   AaronCresswell        West Ham      LCB       left            20.0   \n",
       "2      2  AaronWanBissaka  Crystal Palace       RB      right             7.0   \n",
       "3      3        AdamSmith     Bournemouth       LB      right             3.0   \n",
       "4      4        AdamSmith     Bournemouth       RB      right            10.0   \n",
       "\n",
       "   passes  accpass  progaccpass  proginaccpass  \\\n",
       "0     275      203           43             47   \n",
       "1     796      644          184             91   \n",
       "2     226      165           39             20   \n",
       "3     146      120           27             10   \n",
       "4     451      387           71             35   \n",
       "\n",
       "                                          accpassloc  \\\n",
       "0  [[[11.44, 47.6], [10.4, 48.96]], [[21.84, 58.4...   \n",
       "1  [[[27.04, 51.68], [55.12, 64.6]], [[65.52, 61....   \n",
       "2  [[[60.32, 11.56], [70.72, 8.84]], [[55.12, 11....   \n",
       "3  [[[15.6, 59.84], [22.88, 54.4]], [[19.76, 61.2...   \n",
       "4  [[[28.08, 4.76], [40.56, 20.4]], [[31.2, 13.6]...   \n",
       "\n",
       "                                        inaccpassloc  \\\n",
       "0  [[[22.88, 65.28], [31.2, 63.24]], [[24.96, 61....   \n",
       "1  [[[62.4, 51.0], [78.0, 49.64]], [[79.04, 61.2]...   \n",
       "2  [[[86.32, 22.44], [87.36, 25.84]], [[98.8, 10....   \n",
       "3  [[[67.6, 13.6], [74.88, 33.32]], [[44.72, 2.72...   \n",
       "4  [[[55.12, 4.08], [62.4, 6.8]], [[35.36, 4.08],...   \n",
       "\n",
       "                                      progaccpassloc  \\\n",
       "0  [[[73.84, 66.64], [94.64, 63.92]], [[63.44, 55...   \n",
       "1  [[[27.04, 51.68], [55.12, 64.6]], [[61.36, 59....   \n",
       "2  [[[60.32, 11.56], [70.72, 8.84]], [[83.2, 12.9...   \n",
       "3  [[[58.24, 53.04], [70.72, 62.56]], [[74.88, 41...   \n",
       "4  [[[59.28, 6.12], [80.08, 6.8]], [[71.76, 4.76]...   \n",
       "\n",
       "                                    proginaccpassloc  \\\n",
       "0  [[[24.96, 61.2], [49.92, 37.4]], [[40.56, 64.6...   \n",
       "1  [[[62.4, 51.0], [78.0, 49.64]], [[79.04, 61.2]...   \n",
       "2  [[[30.16, 6.8], [70.72, 0.0]], [[57.2, 3.4], [...   \n",
       "3  [[[67.6, 13.6], [74.88, 33.32]], [[44.72, 2.72...   \n",
       "4  [[[35.36, 4.08], [79.04, 9.52]], [[55.12, 5.44...   \n",
       "\n",
       "                                         accpassvaep  \\\n",
       "0  [-0.0060007767751812935, 0.014951384626328945,...   \n",
       "1  [0.0010694738011807203, 0.002371369395405054, ...   \n",
       "2  [0.0027392818592488766, -0.0019667267333716154...   \n",
       "3  [-0.002463837619870901, -0.0001035716850310564...   \n",
       "4  [0.0007454273290932178, -0.002337034558877349,...   \n",
       "\n",
       "                                       inaccpassvaep  \\\n",
       "0  [-0.005001368001103401, 0.0014556727837771177,...   \n",
       "1  [-0.00956201646476984, -0.007710381411015987, ...   \n",
       "2  [-0.02877645380795002, -0.01624043844640255, -...   \n",
       "3  [-0.007104361429810524, 1.648860052227974e-05,...   \n",
       "4  [-0.008189908228814602, 0.0007318942807614803,...   \n",
       "\n",
       "                                     progaccpassvaep  \\\n",
       "0  [0.010874261148273945, -0.0008622575551271439,...   \n",
       "1  [0.0010694738011807203, 0.002284318208694458, ...   \n",
       "2  [0.0027392818592488766, -0.011097729206085205,...   \n",
       "3  [-0.0019909068942070007, -0.003893137909471988...   \n",
       "4  [0.010347023606300354, 0.006110143847763538, 0...   \n",
       "\n",
       "                                   proginaccpassvaep  \\\n",
       "0  [0.0014556727837771177, -0.004146812949329615,...   \n",
       "1  [-0.00956201646476984, -0.007710381411015987, ...   \n",
       "2  [-0.004570803605020046, -0.008917007595300674,...   \n",
       "3  [-0.007104361429810524, 1.648860052227974e-05,...   \n",
       "4  [0.0007318942807614803, -0.008694054558873177,...   \n",
       "\n",
       "                                          accpassoff  \\\n",
       "0  [-0.00111871468834579, 0.0030969707295298576, ...   \n",
       "1  [0.0018120664171874523, 0.002711281180381775, ...   \n",
       "2  [0.002814173698425293, -0.0016991370357573032,...   \n",
       "3  [-0.005229263566434383, 0.0009387347381561995,...   \n",
       "4  [0.0013971277512609959, -0.0004184735007584095...   \n",
       "\n",
       "                                        inaccpassoff  \\\n",
       "0  [-0.0018319590017199516, 0.0011951092164963484...   \n",
       "1  [-0.006647953763604164, -0.006097717210650444,...   \n",
       "2  [-0.027683690190315247, -0.01549511682242155, ...   \n",
       "3  [-0.005188643001019955, 0.0009281975217163563,...   \n",
       "4  [-0.005722924135625362, 0.0007222630083560944,...   \n",
       "\n",
       "                                      progaccpassoff  \\\n",
       "0  [0.010732980445027351, -0.0017494764178991318,...   \n",
       "1  [0.0018120664171874523, 0.0021007489413022995,...   \n",
       "2  [0.002814173698425293, -0.011171048507094383, ...   \n",
       "3  [-0.001995561644434929, -0.003914793953299522,...   \n",
       "4  [0.010311348363757133, 0.006469291634857655, 0...   \n",
       "\n",
       "                                    proginaccpassoff  \\\n",
       "0  [0.0011951092164963484, -0.0003939601592719555...   \n",
       "1  [-0.006647953763604164, -0.006097717210650444,...   \n",
       "2  [-0.0030704508535563946, -0.008004706352949142...   \n",
       "3  [-0.005188643001019955, 0.0009281975217163563,...   \n",
       "4  [0.0007222630083560944, -0.0047131371684372425...   \n",
       "\n",
       "                                          accpassdef  \\\n",
       "0  [-0.00488206185400486, 0.011854413896799088, 0...   \n",
       "1  [-0.0007425926742143929, -0.000339911784976720...   \n",
       "2  [-7.489195559173822e-05, -0.000267589697614312...   \n",
       "3  [0.0027654259465634823, -0.0010423064231872559...   \n",
       "4  [-0.000651700422167778, -0.0019185610581189394...   \n",
       "\n",
       "                                        inaccpassdef  \\\n",
       "0  [-0.003169409232214093, 0.00026056356728076935...   \n",
       "1  [-0.002914062701165676, -0.001612664433196187,...   \n",
       "2  [-0.0010927643161267042, -0.000745321158319711...   \n",
       "3  [-0.0019157183123752475, -0.000911708921194076...   \n",
       "4  [-0.0024669840931892395, 9.631272405385971e-06...   \n",
       "\n",
       "                                      progaccpassdef  \\\n",
       "0  [0.00014128070324659348, 0.0008872188627719879...   \n",
       "1  [-0.0007425926742143929, 0.0001835691509768366...   \n",
       "2  [-7.489195559173822e-05, 7.331895176321268e-05...   \n",
       "3  [4.6548666432499886e-06, 2.1655927412211895e-0...   \n",
       "4  [3.567477688193321e-05, -0.0003591475542634725...   \n",
       "\n",
       "                                    proginaccpassdef  \\\n",
       "0  [0.00026056356728076935, -0.003752852790057659...   \n",
       "1  [-0.002914062701165676, -0.001612664433196187,...   \n",
       "2  [-0.0015003526350483298, -0.000912301591597497...   \n",
       "3  [-0.0019157183123752475, -0.000911708921194076...   \n",
       "4  [9.631272405385971e-06, -0.003980916924774647,...   \n",
       "\n",
       "                            prog_acc_region_per_pass  \\\n",
       "0  [2.33, 2.33, 2.33, 2.33, 53.49, 20.93, 9.3, 6.98]   \n",
       "1         [1.63, 0, 0.54, 0, 66.3, 19.57, 8.15, 3.8]   \n",
       "2    [0, 2.56, 2.56, 2.56, 2.56, 5.13, 17.95, 66.67]   \n",
       "3         [0, 0, 3.7, 0, 37.04, 18.52, 14.81, 25.93]   \n",
       "4          [2.82, 0, 0, 0, 7.04, 7.04, 26.76, 56.34]   \n",
       "\n",
       "                            vaep_acc_region_per_pass  \\\n",
       "0  [4.351908341050148, 2.852484816685319, 11.1506...   \n",
       "1  [16.502801328897476, 0, 3.1730758491903543, 0,...   \n",
       "2  [0, 26.790829375386238, 24.814365431666374, 4....   \n",
       "3  [0, 0, 5.201917141675949, 0, 6.075569475069642...   \n",
       "4  [3.5457361955195665, 0, 0, 0, 10.6276816222816...   \n",
       "\n",
       "                      prog_inacc_region_per_pass  \\\n",
       "0      [0, 4.26, 0, 0, 36.17, 38.3, 4.26, 17.02]   \n",
       "1  [2.2, 3.3, 0, 2.2, 37.36, 36.26, 10.99, 7.69]   \n",
       "2        [5.0, 0, 0, 5.0, 5.0, 10.0, 15.0, 60.0]   \n",
       "3           [0, 0, 0, 0, 10.0, 50.0, 30.0, 10.0]   \n",
       "4          [0, 0, 0, 0, 2.86, 5.71, 31.43, 60.0]   \n",
       "\n",
       "                          vaep_inacc_region_per_pass  \\\n",
       "0  [0, -0.8253974374383688, 0, 0, -4.327049506280...   \n",
       "1  [-0.38534030318260193, 1.5773851579676073, 0, ...   \n",
       "2  [16.14953577518463, 0, 0, 26.300499215722084, ...   \n",
       "3  [0, 0, 0, 0, 5.831506103277206, -7.20428219065...   \n",
       "4  [0, 0, 0, 0, -2.1765632554888725, 3.2613524235...   \n",
       "\n",
       "                             off_acc_region_per_pass  \\\n",
       "0  [3.6003405693918467, 5.269106011837721, 3.0451...   \n",
       "1  [2.848291303962469, 0, 1.703751739114523, 0, 5...   \n",
       "2  [0, 6.173175293952227, 7.698673754930496, 3.04...   \n",
       "3  [0, 0, 5.2210502326488495, 0, 5.34815359860658...   \n",
       "4  [1.786103704944253, 0, 0, 0, 4.087542742490768...   \n",
       "\n",
       "                           off_inacc_region_per_pass  \\\n",
       "0  [0, 0.31970476265996695, 0, 0, -3.263597869697...   \n",
       "1  [-0.1581189571879804, -0.8412844811876615, 0, ...   \n",
       "2  [0.574472127482295, 0, 0, 1.9084271043539047, ...   \n",
       "3  [0, 0, 0, 0, 4.4114915654063225, -5.7543965987...   \n",
       "4  [0, 0, 0, 0, -6.332803517580032, 1.29774160450...   \n",
       "\n",
       "                             def_acc_region_per_pass  \\\n",
       "0  [0.7515675388276577, -2.416621195152402, 8.105...   \n",
       "1  [13.65451041298608, 0, 1.4693241100758314, 0, ...   \n",
       "2  [0, 20.6176545470953, 17.115691676735878, 1.67...   \n",
       "3  [0, 0, -0.01913309097290039, 0, 0.727415981236...   \n",
       "4  [1.7596324905753136, 0, 0, 0, 6.54013915918767...   \n",
       "\n",
       "                           def_inacc_region_per_pass  \\\n",
       "0  [0, -1.1451022000983357, 0, 0, -1.063451554407...   \n",
       "1  [-0.22722140420228243, 2.418669561545054, 0, 0...   \n",
       "2  [15.575064346194267, 0, 0, 24.39207211136818, ...   \n",
       "3  [0, 0, 0, 0, 1.4200147707015276, -1.4498856151...   \n",
       "4  [0, 0, 0, 0, 4.15624026209116, 1.9636107608675...   \n",
       "\n",
       "                           progpreference_per_region  \\\n",
       "0  [1.11, 3.33, 1.11, 1.11, 44.44, 30.0, 6.67, 12...   \n",
       "1  [1.82, 1.09, 0.36, 0.73, 56.73, 25.09, 9.09, 5...   \n",
       "2  [1.69, 1.69, 1.69, 3.39, 3.39, 6.78, 16.95, 64...   \n",
       "3   [0.0, 0.0, 2.7, 0.0, 29.73, 27.03, 18.92, 21.62]   \n",
       "4      [1.89, 0.0, 0.0, 0.0, 5.66, 6.6, 28.3, 57.55]   \n",
       "\n",
       "                             progaccuracy_per_region  \\\n",
       "0  [100.0, 33.33, 100.0, 100.0, 57.5, 33.33, 66.6...   \n",
       "1  [60.0, 0.0, 100.0, 0.0, 78.21, 52.17, 60.0, 50.0]   \n",
       "2  [0.0, 100.0, 100.0, 50.0, 50.0, 50.0, 70.0, 68...   \n",
       "3         [0, 0, 100.0, 0, 90.91, 50.0, 57.14, 87.5]   \n",
       "4       [100.0, 0, 0, 0, 83.33, 71.43, 63.33, 65.57]   \n",
       "\n",
       "                           total_off_region_per_pass  \n",
       "0  [3.6003405693918467, 1.9695051790525517, 3.045...  \n",
       "1  [1.6457271995022893, -0.8412844811876615, 1.70...  \n",
       "2  [0.574472127482295, 6.173175293952227, 7.69867...  \n",
       "3  [0, 0, 5.2210502326488495, 0, 5.26300250467929...  \n",
       "4  [1.786103704944253, 0, 0, 0, 2.350818365812301...  "
      ]
     },
     "execution_count": 4,
     "metadata": {},
     "output_type": "execute_result"
    }
   ],
   "source": [
    "def_data.head()"
   ]
  },
  {
   "cell_type": "code",
   "execution_count": 5,
   "metadata": {},
   "outputs": [],
   "source": [
    "cb_data = def_data.loc[def_data['position'].str.contains('CB')]"
   ]
  },
  {
   "cell_type": "code",
   "execution_count": 6,
   "metadata": {},
   "outputs": [],
   "source": [
    "cb_data_progfil = cb_data.loc[cb_data['progaccpass'] + cb_data['proginaccpass'] >= 20]"
   ]
  },
  {
   "cell_type": "code",
   "execution_count": 7,
   "metadata": {},
   "outputs": [
    {
     "data": {
      "text/plain": [
       "172"
      ]
     },
     "execution_count": 7,
     "metadata": {},
     "output_type": "execute_result"
    }
   ],
   "source": [
    "len(cb_data_progfil)"
   ]
  },
  {
   "cell_type": "code",
   "execution_count": 8,
   "metadata": {},
   "outputs": [],
   "source": [
    "cb_data_fil = cb_data_progfil[['player_name','team','position','footedness','matches_played','progaccpass','proginaccpass',\n",
    "                              'accpassloc','inaccpassloc','progpreference_per_region','total_off_region_per_pass']]"
   ]
  },
  {
   "cell_type": "code",
   "execution_count": 9,
   "metadata": {},
   "outputs": [],
   "source": [
    "cb_data_fil.reset_index(inplace = True)"
   ]
  },
  {
   "cell_type": "code",
   "execution_count": 10,
   "metadata": {},
   "outputs": [],
   "source": [
    "def get_ind_regions(df):\n",
    "    df1 = pd.DataFrame(df['progpreference_per_region'].tolist(), columns = ['def_LF_pref','def_LC_pref','def_RC_pref','def_RF_pref','att_LF_pref','att_LC_pref','att_RC_pref','att_RF_pref'])\n",
    "    df2 = pd.DataFrame(df['total_off_region_per_pass'].tolist(), columns = ['def_LF_off','def_LC_off','def_RC_off','def_RF_off','att_LF_off','att_LC_off','att_RC_off','att_RF_off'])\n",
    "    df = pd.concat([df,df1,df2], axis = 1)\n",
    "    df.drop(['progpreference_per_region','total_off_region_per_pass'], axis = 1, inplace = True)\n",
    "    return df"
   ]
  },
  {
   "cell_type": "code",
   "execution_count": 11,
   "metadata": {},
   "outputs": [],
   "source": [
    "cb_data_cluster = get_ind_regions(cb_data_fil)"
   ]
  },
  {
   "cell_type": "code",
   "execution_count": 12,
   "metadata": {},
   "outputs": [],
   "source": [
    "# Function to get x and y coordinates of pass locations\n",
    "def getxy(locs):\n",
    "    x = list()\n",
    "    y = list()\n",
    "    for p in locs:\n",
    "        x.append(p[0])\n",
    "        y.append(p[1])\n",
    "    return x,y"
   ]
  },
  {
   "cell_type": "code",
   "execution_count": 13,
   "metadata": {},
   "outputs": [],
   "source": [
    "# Function to get start and end location points for every row in df\n",
    "def getstartend(locs):\n",
    "    end_points = list()\n",
    "    start_points = list()\n",
    "    for point in locs:\n",
    "            if point != []:\n",
    "                end_points.append(point[1])\n",
    "                start_points.append(point[0])\n",
    "    return start_points,end_points"
   ]
  },
  {
   "cell_type": "code",
   "execution_count": 14,
   "metadata": {},
   "outputs": [],
   "source": [
    "def est_dense_reg(a, b, p):\n",
    "    df_kde = pd.DataFrame(columns=['x', 'y'])\n",
    "    df_kde['x'] = a\n",
    "    df_kde['y'] = b\n",
    "    kde = sps.gaussian_kde(df_kde.values.T)\n",
    "    xx, yy = np.meshgrid(\n",
    "    np.linspace(0, 104, 500),\n",
    "    np.linspace(0, 68, 500))\n",
    "    z = kde.pdf([xx.ravel(), yy.ravel()]).reshape(xx.shape)\n",
    "    zi = z > np.max(z) * (p/10)\n",
    "    x1 = [min(xx[zi]), max(xx[zi])]\n",
    "    y1 = [min(yy[zi]), max(yy[zi])]\n",
    "    return x1, y1"
   ]
  },
  {
   "cell_type": "code",
   "execution_count": 15,
   "metadata": {},
   "outputs": [
    {
     "data": {
      "application/vnd.jupyter.widget-view+json": {
       "model_id": "ab0b700d4b724333872fcec02f55eb22",
       "version_major": 2,
       "version_minor": 0
      },
      "text/plain": [
       "HBox(children=(FloatProgress(value=0.0, description='Pandas Apply', max=172.0, style=ProgressStyle(description…"
      ]
     },
     "metadata": {},
     "output_type": "display_data"
    },
    {
     "name": "stdout",
     "output_type": "stream",
     "text": [
      "\n"
     ]
    },
    {
     "data": {
      "application/vnd.jupyter.widget-view+json": {
       "model_id": "a9abbf37ddd0414f91e8d31a6c8246e9",
       "version_major": 2,
       "version_minor": 0
      },
      "text/plain": [
       "HBox(children=(FloatProgress(value=0.0, description='Pandas Apply', max=172.0, style=ProgressStyle(description…"
      ]
     },
     "metadata": {},
     "output_type": "display_data"
    },
    {
     "name": "stdout",
     "output_type": "stream",
     "text": [
      "\n"
     ]
    },
    {
     "data": {
      "application/vnd.jupyter.widget-view+json": {
       "model_id": "fd8fa676288c4f6ebc22022d2a8778a1",
       "version_major": 2,
       "version_minor": 0
      },
      "text/plain": [
       "HBox(children=(FloatProgress(value=0.0, description='Pandas Apply', max=172.0, style=ProgressStyle(description…"
      ]
     },
     "metadata": {},
     "output_type": "display_data"
    },
    {
     "name": "stdout",
     "output_type": "stream",
     "text": [
      "\n"
     ]
    },
    {
     "data": {
      "application/vnd.jupyter.widget-view+json": {
       "model_id": "4580d84702e24dde80a4044b0552e4fb",
       "version_major": 2,
       "version_minor": 0
      },
      "text/plain": [
       "HBox(children=(FloatProgress(value=0.0, description='Pandas Apply', max=172.0, style=ProgressStyle(description…"
      ]
     },
     "metadata": {},
     "output_type": "display_data"
    },
    {
     "name": "stdout",
     "output_type": "stream",
     "text": [
      "\n"
     ]
    }
   ],
   "source": [
    "cb_data_cluster['accpassloc'] = cb_data_cluster['accpassloc'].swifter.set_npartitions(8).apply(lambda x: getstartend(x))\n",
    "cb_data_cluster['accpassloc'] = cb_data_cluster['accpassloc'].swifter.set_npartitions(8).apply(lambda x: x[0])\n",
    "cb_data_cluster['inaccpassloc'] = cb_data_cluster['inaccpassloc'].swifter.set_npartitions(8).apply(lambda x: getstartend(x))\n",
    "cb_data_cluster['inaccpassloc'] = cb_data_cluster['inaccpassloc'].swifter.set_npartitions(8).apply(lambda x: x[0])\n",
    "cb_data_cluster['contour_bounds'] = cb_data_cluster['accpassloc']+cb_data_cluster['inaccpassloc']"
   ]
  },
  {
   "cell_type": "code",
   "execution_count": 16,
   "metadata": {},
   "outputs": [
    {
     "data": {
      "application/vnd.jupyter.widget-view+json": {
       "model_id": "f0ca107095ba409d9bf208545f4cf445",
       "version_major": 2,
       "version_minor": 0
      },
      "text/plain": [
       "HBox(children=(FloatProgress(value=0.0, description='Pandas Apply', max=172.0, style=ProgressStyle(description…"
      ]
     },
     "metadata": {},
     "output_type": "display_data"
    },
    {
     "name": "stdout",
     "output_type": "stream",
     "text": [
      "\n"
     ]
    }
   ],
   "source": [
    "cb_data_cluster['contour_bounds'] = cb_data_cluster['contour_bounds'].swifter.set_npartitions(8).apply(\n",
    "    lambda x: est_dense_reg(getxy(x)[0],\n",
    "                            getxy(x)[1], 6))"
   ]
  },
  {
   "cell_type": "code",
   "execution_count": 17,
   "metadata": {},
   "outputs": [
    {
     "name": "stdout",
     "output_type": "stream",
     "text": [
      "['index', 'player_name', 'team', 'position', 'footedness', 'matches_played', 'progaccpass', 'proginaccpass', 'accpassloc', 'inaccpassloc', 'att_LF_pref', 'att_LC_pref', 'att_RC_pref', 'att_RF_pref', 'att_LF_off', 'att_LC_off', 'att_RC_off', 'att_RF_off', 'contour_bounds']\n"
     ]
    }
   ],
   "source": [
    "att_cols = [c for c in cb_data_cluster.columns if 'def' not in c]\n",
    "print(att_cols)"
   ]
  },
  {
   "cell_type": "code",
   "execution_count": 37,
   "metadata": {},
   "outputs": [],
   "source": [
    "cb_data_cluster_att = cb_data_cluster[att_cols]"
   ]
  },
  {
   "cell_type": "code",
   "execution_count": 38,
   "metadata": {},
   "outputs": [
    {
     "name": "stdout",
     "output_type": "stream",
     "text": [
      "['position', 'footedness', 'matches_played', 'progaccpass', 'proginaccpass', 'accpassloc', 'inaccpassloc', 'att_LF_pref', 'att_LC_pref', 'att_RC_pref', 'att_RF_pref', 'att_LF_off', 'att_LC_off', 'att_RC_off', 'att_RF_off', 'contour_bounds']\n"
     ]
    }
   ],
   "source": [
    "feature_cols = att_cols[3:]\n",
    "print(feature_cols)"
   ]
  },
  {
   "cell_type": "code",
   "execution_count": 39,
   "metadata": {},
   "outputs": [
    {
     "data": {
      "text/html": [
       "<div>\n",
       "<style scoped>\n",
       "    .dataframe tbody tr th:only-of-type {\n",
       "        vertical-align: middle;\n",
       "    }\n",
       "\n",
       "    .dataframe tbody tr th {\n",
       "        vertical-align: top;\n",
       "    }\n",
       "\n",
       "    .dataframe thead th {\n",
       "        text-align: right;\n",
       "    }\n",
       "</style>\n",
       "<table border=\"1\" class=\"dataframe\">\n",
       "  <thead>\n",
       "    <tr style=\"text-align: right;\">\n",
       "      <th></th>\n",
       "      <th>index</th>\n",
       "      <th>player_name</th>\n",
       "      <th>team</th>\n",
       "      <th>position</th>\n",
       "      <th>footedness</th>\n",
       "      <th>matches_played</th>\n",
       "      <th>progaccpass</th>\n",
       "      <th>proginaccpass</th>\n",
       "      <th>accpassloc</th>\n",
       "      <th>inaccpassloc</th>\n",
       "      <th>att_LF_pref</th>\n",
       "      <th>att_LC_pref</th>\n",
       "      <th>att_RC_pref</th>\n",
       "      <th>att_RF_pref</th>\n",
       "      <th>att_LF_off</th>\n",
       "      <th>att_LC_off</th>\n",
       "      <th>att_RC_off</th>\n",
       "      <th>att_RF_off</th>\n",
       "      <th>contour_bounds</th>\n",
       "    </tr>\n",
       "  </thead>\n",
       "  <tbody>\n",
       "    <tr>\n",
       "      <th>0</th>\n",
       "      <td>1</td>\n",
       "      <td>AaronCresswell</td>\n",
       "      <td>West Ham</td>\n",
       "      <td>LCB</td>\n",
       "      <td>left</td>\n",
       "      <td>20.0</td>\n",
       "      <td>184</td>\n",
       "      <td>91</td>\n",
       "      <td>[[27.04, 51.68], [65.52, 61.88], [61.36, 59.84...</td>\n",
       "      <td>[[62.4, 51.0], [79.04, 61.2], [15.6, 63.92], [...</td>\n",
       "      <td>56.73</td>\n",
       "      <td>25.09</td>\n",
       "      <td>9.09</td>\n",
       "      <td>5.09</td>\n",
       "      <td>4.098572</td>\n",
       "      <td>10.470576</td>\n",
       "      <td>19.408194</td>\n",
       "      <td>2.985546</td>\n",
       "      <td>([25.010020040080157, 70.86172344689378], [48....</td>\n",
       "    </tr>\n",
       "    <tr>\n",
       "      <th>1</th>\n",
       "      <td>7</td>\n",
       "      <td>AdrianMariappa</td>\n",
       "      <td>Watford</td>\n",
       "      <td>L_CB</td>\n",
       "      <td>right</td>\n",
       "      <td>5.0</td>\n",
       "      <td>29</td>\n",
       "      <td>17</td>\n",
       "      <td>[[36.4, 45.56], [30.16, 46.24], [23.92, 34.68]...</td>\n",
       "      <td>[[43.68, 20.4], [27.04, 59.16], [74.88, 48.28]...</td>\n",
       "      <td>43.48</td>\n",
       "      <td>23.91</td>\n",
       "      <td>15.22</td>\n",
       "      <td>10.87</td>\n",
       "      <td>1.573852</td>\n",
       "      <td>3.925124</td>\n",
       "      <td>10.267141</td>\n",
       "      <td>3.539957</td>\n",
       "      <td>([20.216432865731463, 39.80761523046092], [38....</td>\n",
       "    </tr>\n",
       "    <tr>\n",
       "      <th>2</th>\n",
       "      <td>9</td>\n",
       "      <td>AdrianMariappa</td>\n",
       "      <td>Watford</td>\n",
       "      <td>RCB</td>\n",
       "      <td>right</td>\n",
       "      <td>11.0</td>\n",
       "      <td>71</td>\n",
       "      <td>26</td>\n",
       "      <td>[[31.2, 10.2], [27.04, 9.52], [27.04, 15.64], ...</td>\n",
       "      <td>[[28.08, 9.52], [11.44, 10.2], [26.0, 29.24], ...</td>\n",
       "      <td>8.25</td>\n",
       "      <td>10.31</td>\n",
       "      <td>19.59</td>\n",
       "      <td>44.33</td>\n",
       "      <td>3.459880</td>\n",
       "      <td>13.321521</td>\n",
       "      <td>5.660290</td>\n",
       "      <td>3.638874</td>\n",
       "      <td>([19.79959919839679, 45.64328657314629], [5.17...</td>\n",
       "    </tr>\n",
       "    <tr>\n",
       "      <th>3</th>\n",
       "      <td>10</td>\n",
       "      <td>AdrianMariappa</td>\n",
       "      <td>Watford</td>\n",
       "      <td>R_CB</td>\n",
       "      <td>right</td>\n",
       "      <td>4.0</td>\n",
       "      <td>27</td>\n",
       "      <td>8</td>\n",
       "      <td>[[30.16, 14.96], [38.48, 9.52], [24.96, 18.36]...</td>\n",
       "      <td>[[41.6, 2.04], [23.92, 11.56], [13.52, 24.48],...</td>\n",
       "      <td>8.57</td>\n",
       "      <td>25.71</td>\n",
       "      <td>17.14</td>\n",
       "      <td>28.57</td>\n",
       "      <td>4.365592</td>\n",
       "      <td>26.320795</td>\n",
       "      <td>1.666600</td>\n",
       "      <td>1.050037</td>\n",
       "      <td>([18.132264529058116, 38.348697394789575], [12...</td>\n",
       "    </tr>\n",
       "    <tr>\n",
       "      <th>4</th>\n",
       "      <td>11</td>\n",
       "      <td>AhmedHegazi</td>\n",
       "      <td>West Brom</td>\n",
       "      <td>CB</td>\n",
       "      <td>right</td>\n",
       "      <td>7.0</td>\n",
       "      <td>45</td>\n",
       "      <td>14</td>\n",
       "      <td>[[26.0, 31.28], [30.16, 27.2], [28.08, 31.96],...</td>\n",
       "      <td>[[10.4, 4.08], [28.08, 35.36], [30.16, 46.24],...</td>\n",
       "      <td>23.73</td>\n",
       "      <td>15.25</td>\n",
       "      <td>16.95</td>\n",
       "      <td>35.59</td>\n",
       "      <td>3.901891</td>\n",
       "      <td>7.576896</td>\n",
       "      <td>19.058473</td>\n",
       "      <td>3.556777</td>\n",
       "      <td>([20.424849699398795, 39.39078156312625], [22....</td>\n",
       "    </tr>\n",
       "  </tbody>\n",
       "</table>\n",
       "</div>"
      ],
      "text/plain": [
       "   index     player_name       team position footedness  matches_played  \\\n",
       "0      1  AaronCresswell   West Ham      LCB       left            20.0   \n",
       "1      7  AdrianMariappa    Watford     L_CB      right             5.0   \n",
       "2      9  AdrianMariappa    Watford      RCB      right            11.0   \n",
       "3     10  AdrianMariappa    Watford     R_CB      right             4.0   \n",
       "4     11     AhmedHegazi  West Brom       CB      right             7.0   \n",
       "\n",
       "   progaccpass  proginaccpass  \\\n",
       "0          184             91   \n",
       "1           29             17   \n",
       "2           71             26   \n",
       "3           27              8   \n",
       "4           45             14   \n",
       "\n",
       "                                          accpassloc  \\\n",
       "0  [[27.04, 51.68], [65.52, 61.88], [61.36, 59.84...   \n",
       "1  [[36.4, 45.56], [30.16, 46.24], [23.92, 34.68]...   \n",
       "2  [[31.2, 10.2], [27.04, 9.52], [27.04, 15.64], ...   \n",
       "3  [[30.16, 14.96], [38.48, 9.52], [24.96, 18.36]...   \n",
       "4  [[26.0, 31.28], [30.16, 27.2], [28.08, 31.96],...   \n",
       "\n",
       "                                        inaccpassloc  att_LF_pref  \\\n",
       "0  [[62.4, 51.0], [79.04, 61.2], [15.6, 63.92], [...        56.73   \n",
       "1  [[43.68, 20.4], [27.04, 59.16], [74.88, 48.28]...        43.48   \n",
       "2  [[28.08, 9.52], [11.44, 10.2], [26.0, 29.24], ...         8.25   \n",
       "3  [[41.6, 2.04], [23.92, 11.56], [13.52, 24.48],...         8.57   \n",
       "4  [[10.4, 4.08], [28.08, 35.36], [30.16, 46.24],...        23.73   \n",
       "\n",
       "   att_LC_pref  att_RC_pref  att_RF_pref  att_LF_off  att_LC_off  att_RC_off  \\\n",
       "0        25.09         9.09         5.09    4.098572   10.470576   19.408194   \n",
       "1        23.91        15.22        10.87    1.573852    3.925124   10.267141   \n",
       "2        10.31        19.59        44.33    3.459880   13.321521    5.660290   \n",
       "3        25.71        17.14        28.57    4.365592   26.320795    1.666600   \n",
       "4        15.25        16.95        35.59    3.901891    7.576896   19.058473   \n",
       "\n",
       "   att_RF_off                                     contour_bounds  \n",
       "0    2.985546  ([25.010020040080157, 70.86172344689378], [48....  \n",
       "1    3.539957  ([20.216432865731463, 39.80761523046092], [38....  \n",
       "2    3.638874  ([19.79959919839679, 45.64328657314629], [5.17...  \n",
       "3    1.050037  ([18.132264529058116, 38.348697394789575], [12...  \n",
       "4    3.556777  ([20.424849699398795, 39.39078156312625], [22....  "
      ]
     },
     "execution_count": 39,
     "metadata": {},
     "output_type": "execute_result"
    }
   ],
   "source": [
    "cb_data_cluster_att.head()"
   ]
  },
  {
   "cell_type": "code",
   "execution_count": 40,
   "metadata": {},
   "outputs": [],
   "source": [
    "cb_data_cluster_att_1 = pd.get_dummies(cb_data_cluster_att[feature_cols],prefix = ['pos','foot'], columns = ['position','footedness'])"
   ]
  },
  {
   "cell_type": "code",
   "execution_count": 41,
   "metadata": {},
   "outputs": [],
   "source": [
    "cb_data_cluster_att_2 = pd.concat([cb_data_cluster_att.iloc[:,:5],cb_data_cluster_att_1],axis=1)"
   ]
  },
  {
   "cell_type": "code",
   "execution_count": 42,
   "metadata": {},
   "outputs": [],
   "source": [
    "cb_data_cluster_att_2.drop(['accpassloc','inaccpassloc','matches_played','progaccpass','proginaccpass'],axis=1, inplace = True)"
   ]
  },
  {
   "cell_type": "code",
   "execution_count": 43,
   "metadata": {},
   "outputs": [],
   "source": [
    "def get_contour_xy(row):\n",
    "    init_x = row['contour_bounds'][0][0]\n",
    "    final_x = row['contour_bounds'][0][1]\n",
    "    init_y = row['contour_bounds'][1][0]\n",
    "    final_y = row['contour_bounds'][1][0]\n",
    "    return pd.Series([init_x,final_x,init_y,final_y])\n",
    "    "
   ]
  },
  {
   "cell_type": "code",
   "execution_count": 44,
   "metadata": {},
   "outputs": [],
   "source": [
    "cb_data_cluster_att_2[['init_x','final_x','init_y','final_y']]=cb_data_cluster_att_2.apply(lambda row: get_contour_xy(row),axis=1)"
   ]
  },
  {
   "cell_type": "code",
   "execution_count": 45,
   "metadata": {},
   "outputs": [],
   "source": [
    "cb_data_cluster_att_2.drop(['contour_bounds'],axis=1,inplace=True)"
   ]
  },
  {
   "cell_type": "code",
   "execution_count": 47,
   "metadata": {},
   "outputs": [],
   "source": [
    "scaler = StandardScaler()\n",
    "cols = cb_data_cluster_att_2.columns.tolist()\n",
    "scal_cols = cols[5:]\n",
    "scaler.fit(cb_data_cluster_att_2[scal_cols])\n",
    "temp = scaler.transform(cb_data_cluster_att_2[scal_cols])"
   ]
  },
  {
   "cell_type": "code",
   "execution_count": 48,
   "metadata": {},
   "outputs": [],
   "source": [
    "temp_df = pd.DataFrame(temp, columns = scal_cols)"
   ]
  },
  {
   "cell_type": "code",
   "execution_count": 49,
   "metadata": {},
   "outputs": [
    {
     "data": {
      "text/html": [
       "<div>\n",
       "<style scoped>\n",
       "    .dataframe tbody tr th:only-of-type {\n",
       "        vertical-align: middle;\n",
       "    }\n",
       "\n",
       "    .dataframe tbody tr th {\n",
       "        vertical-align: top;\n",
       "    }\n",
       "\n",
       "    .dataframe thead th {\n",
       "        text-align: right;\n",
       "    }\n",
       "</style>\n",
       "<table border=\"1\" class=\"dataframe\">\n",
       "  <thead>\n",
       "    <tr style=\"text-align: right;\">\n",
       "      <th></th>\n",
       "      <th>att_LF_pref</th>\n",
       "      <th>att_LC_pref</th>\n",
       "      <th>att_RC_pref</th>\n",
       "      <th>att_RF_pref</th>\n",
       "      <th>att_LF_off</th>\n",
       "      <th>att_LC_off</th>\n",
       "      <th>att_RC_off</th>\n",
       "      <th>att_RF_off</th>\n",
       "      <th>pos_CB</th>\n",
       "      <th>pos_LCB</th>\n",
       "      <th>pos_L_CB</th>\n",
       "      <th>pos_RCB</th>\n",
       "      <th>pos_R_CB</th>\n",
       "      <th>foot_left</th>\n",
       "      <th>foot_right</th>\n",
       "      <th>init_x</th>\n",
       "      <th>final_x</th>\n",
       "      <th>init_y</th>\n",
       "      <th>final_y</th>\n",
       "    </tr>\n",
       "  </thead>\n",
       "  <tbody>\n",
       "    <tr>\n",
       "      <th>0</th>\n",
       "      <td>2.038266</td>\n",
       "      <td>1.259497</td>\n",
       "      <td>-1.114202</td>\n",
       "      <td>-1.435968</td>\n",
       "      <td>0.618321</td>\n",
       "      <td>0.241310</td>\n",
       "      <td>2.444330</td>\n",
       "      <td>-0.061641</td>\n",
       "      <td>-0.362738</td>\n",
       "      <td>2.220593</td>\n",
       "      <td>-0.595257</td>\n",
       "      <td>-0.440959</td>\n",
       "      <td>-0.640184</td>\n",
       "      <td>2.091650</td>\n",
       "      <td>-2.091650</td>\n",
       "      <td>0.837534</td>\n",
       "      <td>2.294863</td>\n",
       "      <td>1.545607</td>\n",
       "      <td>1.545607</td>\n",
       "    </tr>\n",
       "    <tr>\n",
       "      <th>1</th>\n",
       "      <td>1.170655</td>\n",
       "      <td>1.090182</td>\n",
       "      <td>-0.244292</td>\n",
       "      <td>-1.054210</td>\n",
       "      <td>-0.519093</td>\n",
       "      <td>-0.660501</td>\n",
       "      <td>0.604310</td>\n",
       "      <td>0.176572</td>\n",
       "      <td>-0.362738</td>\n",
       "      <td>-0.450330</td>\n",
       "      <td>1.679947</td>\n",
       "      <td>-0.440959</td>\n",
       "      <td>-0.640184</td>\n",
       "      <td>-0.478091</td>\n",
       "      <td>0.478091</td>\n",
       "      <td>-0.840928</td>\n",
       "      <td>-0.844663</td>\n",
       "      <td>0.899094</td>\n",
       "      <td>0.899094</td>\n",
       "    </tr>\n",
       "    <tr>\n",
       "      <th>2</th>\n",
       "      <td>-1.136209</td>\n",
       "      <td>-0.861252</td>\n",
       "      <td>0.375856</td>\n",
       "      <td>1.155762</td>\n",
       "      <td>0.330583</td>\n",
       "      <td>0.634104</td>\n",
       "      <td>-0.323012</td>\n",
       "      <td>0.219073</td>\n",
       "      <td>-0.362738</td>\n",
       "      <td>-0.450330</td>\n",
       "      <td>-0.595257</td>\n",
       "      <td>2.267787</td>\n",
       "      <td>-0.640184</td>\n",
       "      <td>-0.478091</td>\n",
       "      <td>0.478091</td>\n",
       "      <td>-0.986882</td>\n",
       "      <td>-0.254685</td>\n",
       "      <td>-1.322726</td>\n",
       "      <td>-1.322726</td>\n",
       "    </tr>\n",
       "    <tr>\n",
       "      <th>3</th>\n",
       "      <td>-1.115256</td>\n",
       "      <td>1.348460</td>\n",
       "      <td>0.028176</td>\n",
       "      <td>0.114843</td>\n",
       "      <td>0.738617</td>\n",
       "      <td>2.425102</td>\n",
       "      <td>-1.126909</td>\n",
       "      <td>-0.893267</td>\n",
       "      <td>-0.362738</td>\n",
       "      <td>-0.450330</td>\n",
       "      <td>-0.595257</td>\n",
       "      <td>-0.440959</td>\n",
       "      <td>1.562050</td>\n",
       "      <td>-0.478091</td>\n",
       "      <td>0.478091</td>\n",
       "      <td>-1.570695</td>\n",
       "      <td>-0.992158</td>\n",
       "      <td>-0.858329</td>\n",
       "      <td>-0.858329</td>\n",
       "    </tr>\n",
       "    <tr>\n",
       "      <th>4</th>\n",
       "      <td>-0.122577</td>\n",
       "      <td>-0.152422</td>\n",
       "      <td>0.001213</td>\n",
       "      <td>0.578501</td>\n",
       "      <td>0.529714</td>\n",
       "      <td>-0.157371</td>\n",
       "      <td>2.373934</td>\n",
       "      <td>0.183798</td>\n",
       "      <td>2.756810</td>\n",
       "      <td>-0.450330</td>\n",
       "      <td>-0.595257</td>\n",
       "      <td>-0.440959</td>\n",
       "      <td>-0.640184</td>\n",
       "      <td>-0.478091</td>\n",
       "      <td>0.478091</td>\n",
       "      <td>-0.767952</td>\n",
       "      <td>-0.886805</td>\n",
       "      <td>-0.175393</td>\n",
       "      <td>-0.175393</td>\n",
       "    </tr>\n",
       "  </tbody>\n",
       "</table>\n",
       "</div>"
      ],
      "text/plain": [
       "   att_LF_pref  att_LC_pref  att_RC_pref  att_RF_pref  att_LF_off  att_LC_off  \\\n",
       "0     2.038266     1.259497    -1.114202    -1.435968    0.618321    0.241310   \n",
       "1     1.170655     1.090182    -0.244292    -1.054210   -0.519093   -0.660501   \n",
       "2    -1.136209    -0.861252     0.375856     1.155762    0.330583    0.634104   \n",
       "3    -1.115256     1.348460     0.028176     0.114843    0.738617    2.425102   \n",
       "4    -0.122577    -0.152422     0.001213     0.578501    0.529714   -0.157371   \n",
       "\n",
       "   att_RC_off  att_RF_off    pos_CB   pos_LCB  pos_L_CB   pos_RCB  pos_R_CB  \\\n",
       "0    2.444330   -0.061641 -0.362738  2.220593 -0.595257 -0.440959 -0.640184   \n",
       "1    0.604310    0.176572 -0.362738 -0.450330  1.679947 -0.440959 -0.640184   \n",
       "2   -0.323012    0.219073 -0.362738 -0.450330 -0.595257  2.267787 -0.640184   \n",
       "3   -1.126909   -0.893267 -0.362738 -0.450330 -0.595257 -0.440959  1.562050   \n",
       "4    2.373934    0.183798  2.756810 -0.450330 -0.595257 -0.440959 -0.640184   \n",
       "\n",
       "   foot_left  foot_right    init_x   final_x    init_y   final_y  \n",
       "0   2.091650   -2.091650  0.837534  2.294863  1.545607  1.545607  \n",
       "1  -0.478091    0.478091 -0.840928 -0.844663  0.899094  0.899094  \n",
       "2  -0.478091    0.478091 -0.986882 -0.254685 -1.322726 -1.322726  \n",
       "3  -0.478091    0.478091 -1.570695 -0.992158 -0.858329 -0.858329  \n",
       "4  -0.478091    0.478091 -0.767952 -0.886805 -0.175393 -0.175393  "
      ]
     },
     "execution_count": 49,
     "metadata": {},
     "output_type": "execute_result"
    }
   ],
   "source": [
    "temp_df.head()"
   ]
  },
  {
   "cell_type": "code",
   "execution_count": 50,
   "metadata": {},
   "outputs": [],
   "source": [
    "cb_data_scaled = pd.concat([cb_data_cluster_att_2.iloc[:,:5],temp_df],axis=1)"
   ]
  },
  {
   "cell_type": "code",
   "execution_count": 51,
   "metadata": {},
   "outputs": [
    {
     "data": {
      "text/html": [
       "<div>\n",
       "<style scoped>\n",
       "    .dataframe tbody tr th:only-of-type {\n",
       "        vertical-align: middle;\n",
       "    }\n",
       "\n",
       "    .dataframe tbody tr th {\n",
       "        vertical-align: top;\n",
       "    }\n",
       "\n",
       "    .dataframe thead th {\n",
       "        text-align: right;\n",
       "    }\n",
       "</style>\n",
       "<table border=\"1\" class=\"dataframe\">\n",
       "  <thead>\n",
       "    <tr style=\"text-align: right;\">\n",
       "      <th></th>\n",
       "      <th>index</th>\n",
       "      <th>player_name</th>\n",
       "      <th>team</th>\n",
       "      <th>position</th>\n",
       "      <th>footedness</th>\n",
       "      <th>att_LF_pref</th>\n",
       "      <th>att_LC_pref</th>\n",
       "      <th>att_RC_pref</th>\n",
       "      <th>att_RF_pref</th>\n",
       "      <th>att_LF_off</th>\n",
       "      <th>att_LC_off</th>\n",
       "      <th>att_RC_off</th>\n",
       "      <th>att_RF_off</th>\n",
       "      <th>pos_CB</th>\n",
       "      <th>pos_LCB</th>\n",
       "      <th>pos_L_CB</th>\n",
       "      <th>pos_RCB</th>\n",
       "      <th>pos_R_CB</th>\n",
       "      <th>foot_left</th>\n",
       "      <th>foot_right</th>\n",
       "      <th>init_x</th>\n",
       "      <th>final_x</th>\n",
       "      <th>init_y</th>\n",
       "      <th>final_y</th>\n",
       "    </tr>\n",
       "  </thead>\n",
       "  <tbody>\n",
       "    <tr>\n",
       "      <th>0</th>\n",
       "      <td>1</td>\n",
       "      <td>AaronCresswell</td>\n",
       "      <td>West Ham</td>\n",
       "      <td>LCB</td>\n",
       "      <td>left</td>\n",
       "      <td>2.038266</td>\n",
       "      <td>1.259497</td>\n",
       "      <td>-1.114202</td>\n",
       "      <td>-1.435968</td>\n",
       "      <td>0.618321</td>\n",
       "      <td>0.241310</td>\n",
       "      <td>2.444330</td>\n",
       "      <td>-0.061641</td>\n",
       "      <td>-0.362738</td>\n",
       "      <td>2.220593</td>\n",
       "      <td>-0.595257</td>\n",
       "      <td>-0.440959</td>\n",
       "      <td>-0.640184</td>\n",
       "      <td>2.091650</td>\n",
       "      <td>-2.091650</td>\n",
       "      <td>0.837534</td>\n",
       "      <td>2.294863</td>\n",
       "      <td>1.545607</td>\n",
       "      <td>1.545607</td>\n",
       "    </tr>\n",
       "    <tr>\n",
       "      <th>1</th>\n",
       "      <td>7</td>\n",
       "      <td>AdrianMariappa</td>\n",
       "      <td>Watford</td>\n",
       "      <td>L_CB</td>\n",
       "      <td>right</td>\n",
       "      <td>1.170655</td>\n",
       "      <td>1.090182</td>\n",
       "      <td>-0.244292</td>\n",
       "      <td>-1.054210</td>\n",
       "      <td>-0.519093</td>\n",
       "      <td>-0.660501</td>\n",
       "      <td>0.604310</td>\n",
       "      <td>0.176572</td>\n",
       "      <td>-0.362738</td>\n",
       "      <td>-0.450330</td>\n",
       "      <td>1.679947</td>\n",
       "      <td>-0.440959</td>\n",
       "      <td>-0.640184</td>\n",
       "      <td>-0.478091</td>\n",
       "      <td>0.478091</td>\n",
       "      <td>-0.840928</td>\n",
       "      <td>-0.844663</td>\n",
       "      <td>0.899094</td>\n",
       "      <td>0.899094</td>\n",
       "    </tr>\n",
       "    <tr>\n",
       "      <th>2</th>\n",
       "      <td>9</td>\n",
       "      <td>AdrianMariappa</td>\n",
       "      <td>Watford</td>\n",
       "      <td>RCB</td>\n",
       "      <td>right</td>\n",
       "      <td>-1.136209</td>\n",
       "      <td>-0.861252</td>\n",
       "      <td>0.375856</td>\n",
       "      <td>1.155762</td>\n",
       "      <td>0.330583</td>\n",
       "      <td>0.634104</td>\n",
       "      <td>-0.323012</td>\n",
       "      <td>0.219073</td>\n",
       "      <td>-0.362738</td>\n",
       "      <td>-0.450330</td>\n",
       "      <td>-0.595257</td>\n",
       "      <td>2.267787</td>\n",
       "      <td>-0.640184</td>\n",
       "      <td>-0.478091</td>\n",
       "      <td>0.478091</td>\n",
       "      <td>-0.986882</td>\n",
       "      <td>-0.254685</td>\n",
       "      <td>-1.322726</td>\n",
       "      <td>-1.322726</td>\n",
       "    </tr>\n",
       "    <tr>\n",
       "      <th>3</th>\n",
       "      <td>10</td>\n",
       "      <td>AdrianMariappa</td>\n",
       "      <td>Watford</td>\n",
       "      <td>R_CB</td>\n",
       "      <td>right</td>\n",
       "      <td>-1.115256</td>\n",
       "      <td>1.348460</td>\n",
       "      <td>0.028176</td>\n",
       "      <td>0.114843</td>\n",
       "      <td>0.738617</td>\n",
       "      <td>2.425102</td>\n",
       "      <td>-1.126909</td>\n",
       "      <td>-0.893267</td>\n",
       "      <td>-0.362738</td>\n",
       "      <td>-0.450330</td>\n",
       "      <td>-0.595257</td>\n",
       "      <td>-0.440959</td>\n",
       "      <td>1.562050</td>\n",
       "      <td>-0.478091</td>\n",
       "      <td>0.478091</td>\n",
       "      <td>-1.570695</td>\n",
       "      <td>-0.992158</td>\n",
       "      <td>-0.858329</td>\n",
       "      <td>-0.858329</td>\n",
       "    </tr>\n",
       "    <tr>\n",
       "      <th>4</th>\n",
       "      <td>11</td>\n",
       "      <td>AhmedHegazi</td>\n",
       "      <td>West Brom</td>\n",
       "      <td>CB</td>\n",
       "      <td>right</td>\n",
       "      <td>-0.122577</td>\n",
       "      <td>-0.152422</td>\n",
       "      <td>0.001213</td>\n",
       "      <td>0.578501</td>\n",
       "      <td>0.529714</td>\n",
       "      <td>-0.157371</td>\n",
       "      <td>2.373934</td>\n",
       "      <td>0.183798</td>\n",
       "      <td>2.756810</td>\n",
       "      <td>-0.450330</td>\n",
       "      <td>-0.595257</td>\n",
       "      <td>-0.440959</td>\n",
       "      <td>-0.640184</td>\n",
       "      <td>-0.478091</td>\n",
       "      <td>0.478091</td>\n",
       "      <td>-0.767952</td>\n",
       "      <td>-0.886805</td>\n",
       "      <td>-0.175393</td>\n",
       "      <td>-0.175393</td>\n",
       "    </tr>\n",
       "  </tbody>\n",
       "</table>\n",
       "</div>"
      ],
      "text/plain": [
       "   index     player_name       team position footedness  att_LF_pref  \\\n",
       "0      1  AaronCresswell   West Ham      LCB       left     2.038266   \n",
       "1      7  AdrianMariappa    Watford     L_CB      right     1.170655   \n",
       "2      9  AdrianMariappa    Watford      RCB      right    -1.136209   \n",
       "3     10  AdrianMariappa    Watford     R_CB      right    -1.115256   \n",
       "4     11     AhmedHegazi  West Brom       CB      right    -0.122577   \n",
       "\n",
       "   att_LC_pref  att_RC_pref  att_RF_pref  att_LF_off  att_LC_off  att_RC_off  \\\n",
       "0     1.259497    -1.114202    -1.435968    0.618321    0.241310    2.444330   \n",
       "1     1.090182    -0.244292    -1.054210   -0.519093   -0.660501    0.604310   \n",
       "2    -0.861252     0.375856     1.155762    0.330583    0.634104   -0.323012   \n",
       "3     1.348460     0.028176     0.114843    0.738617    2.425102   -1.126909   \n",
       "4    -0.152422     0.001213     0.578501    0.529714   -0.157371    2.373934   \n",
       "\n",
       "   att_RF_off    pos_CB   pos_LCB  pos_L_CB   pos_RCB  pos_R_CB  foot_left  \\\n",
       "0   -0.061641 -0.362738  2.220593 -0.595257 -0.440959 -0.640184   2.091650   \n",
       "1    0.176572 -0.362738 -0.450330  1.679947 -0.440959 -0.640184  -0.478091   \n",
       "2    0.219073 -0.362738 -0.450330 -0.595257  2.267787 -0.640184  -0.478091   \n",
       "3   -0.893267 -0.362738 -0.450330 -0.595257 -0.440959  1.562050  -0.478091   \n",
       "4    0.183798  2.756810 -0.450330 -0.595257 -0.440959 -0.640184  -0.478091   \n",
       "\n",
       "   foot_right    init_x   final_x    init_y   final_y  \n",
       "0   -2.091650  0.837534  2.294863  1.545607  1.545607  \n",
       "1    0.478091 -0.840928 -0.844663  0.899094  0.899094  \n",
       "2    0.478091 -0.986882 -0.254685 -1.322726 -1.322726  \n",
       "3    0.478091 -1.570695 -0.992158 -0.858329 -0.858329  \n",
       "4    0.478091 -0.767952 -0.886805 -0.175393 -0.175393  "
      ]
     },
     "execution_count": 51,
     "metadata": {},
     "output_type": "execute_result"
    }
   ],
   "source": [
    "cb_data_scaled.head()"
   ]
  },
  {
   "cell_type": "code",
   "execution_count": 52,
   "metadata": {},
   "outputs": [
    {
     "data": {
      "image/png": "[encoded data removed]",
      "text/plain": [
       "<Figure size 1440x720 with 1 Axes>"
      ]
     },
     "metadata": {
      "needs_background": "light"
     },
     "output_type": "display_data"
    }
   ],
   "source": [
    "plt.figure(figsize=(20,10))\n",
    "plt.title('Dendrogram')\n",
    "dendo = shc.dendrogram(shc.linkage(cb_data_scaled[scal_cols], method='ward', metric = 'euclidean'),truncate_mode = 'lastp',p=40, show_contracted = True)"
   ]
  },
  {
   "cell_type": "code",
   "execution_count": 100,
   "metadata": {},
   "outputs": [
    {
     "data": {
      "text/plain": [
       "array([2, 0, 3, 1, 4, 0, 0, 1, 1, 0, 0, 4, 4, 2, 2, 0, 3, 4, 0, 1, 2, 2,\n",
       "       2, 2, 0, 3, 1, 3, 0, 1, 4, 0, 0, 1, 0, 2, 2, 1, 3, 1, 0, 4, 4, 3,\n",
       "       1, 0, 3, 0, 1, 2, 3, 1, 2, 4, 1, 0, 1, 3, 4, 0, 0, 0, 3, 1, 1, 0,\n",
       "       3, 0, 1, 0, 1, 3, 2, 2, 1, 4, 1, 4, 0, 0, 3, 1, 2, 1, 2, 2, 0, 3,\n",
       "       1, 3, 0, 0, 3, 1, 0, 2, 2, 1, 1, 4, 0, 1, 0, 3, 1, 2, 2, 3, 1, 1,\n",
       "       4, 2, 2, 2, 2, 0, 0, 1, 2, 4, 0, 0, 1, 0, 0, 1, 2, 0, 0, 3, 4, 1,\n",
       "       4, 0, 1, 2, 4, 1, 1, 4, 0, 3, 1, 3, 1, 4, 3, 1, 3, 1, 0, 3, 1, 2,\n",
       "       0, 1, 3, 1, 0, 1, 0, 1, 1, 2, 2, 4, 0, 3, 1, 1, 3, 1])"
      ]
     },
     "execution_count": 100,
     "metadata": {},
     "output_type": "execute_result"
    }
   ],
   "source": [
    "cluster = AgglomerativeClustering(n_clusters=5,affinity='euclidean',linkage='ward')\n",
    "groups = cluster.fit_predict(cb_data_scaled[scal_cols])\n",
    "groups"
   ]
  },
  {
   "cell_type": "code",
   "execution_count": 101,
   "metadata": {},
   "outputs": [],
   "source": [
    "groupsdf = pd.DataFrame(groups, columns=['groups'])"
   ]
  },
  {
   "cell_type": "code",
   "execution_count": 102,
   "metadata": {},
   "outputs": [],
   "source": [
    "cb_data_copy = cb_data_cluster_att_2\n",
    "cb_data_grp_copy = pd.concat([cb_data_copy,groupsdf],axis=1)"
   ]
  },
  {
   "cell_type": "code",
   "execution_count": 103,
   "metadata": {},
   "outputs": [],
   "source": [
    "cb_data_grp_copy = cb_data_grp_copy.astype({'groups':'category'})"
   ]
  },
  {
   "cell_type": "code",
   "execution_count": 113,
   "metadata": {},
   "outputs": [
    {
     "data": {
      "text/html": [
       "<div>\n",
       "<style scoped>\n",
       "    .dataframe tbody tr th:only-of-type {\n",
       "        vertical-align: middle;\n",
       "    }\n",
       "\n",
       "    .dataframe tbody tr th {\n",
       "        vertical-align: top;\n",
       "    }\n",
       "\n",
       "    .dataframe thead th {\n",
       "        text-align: right;\n",
       "    }\n",
       "</style>\n",
       "<table border=\"1\" class=\"dataframe\">\n",
       "  <thead>\n",
       "    <tr style=\"text-align: right;\">\n",
       "      <th></th>\n",
       "      <th>index</th>\n",
       "      <th>player_name</th>\n",
       "      <th>team</th>\n",
       "      <th>position</th>\n",
       "      <th>footedness</th>\n",
       "      <th>att_LF_pref</th>\n",
       "      <th>att_LC_pref</th>\n",
       "      <th>att_RC_pref</th>\n",
       "      <th>att_RF_pref</th>\n",
       "      <th>att_LF_off</th>\n",
       "      <th>att_LC_off</th>\n",
       "      <th>att_RC_off</th>\n",
       "      <th>att_RF_off</th>\n",
       "      <th>pos_CB</th>\n",
       "      <th>pos_LCB</th>\n",
       "      <th>pos_L_CB</th>\n",
       "      <th>pos_RCB</th>\n",
       "      <th>pos_R_CB</th>\n",
       "      <th>foot_left</th>\n",
       "      <th>foot_right</th>\n",
       "      <th>init_x</th>\n",
       "      <th>final_x</th>\n",
       "      <th>init_y</th>\n",
       "      <th>final_y</th>\n",
       "      <th>groups</th>\n",
       "    </tr>\n",
       "  </thead>\n",
       "  <tbody>\n",
       "    <tr>\n",
       "      <th>4</th>\n",
       "      <td>11</td>\n",
       "      <td>AhmedHegazi</td>\n",
       "      <td>West Brom</td>\n",
       "      <td>CB</td>\n",
       "      <td>right</td>\n",
       "      <td>23.73</td>\n",
       "      <td>15.25</td>\n",
       "      <td>16.95</td>\n",
       "      <td>35.59</td>\n",
       "      <td>3.901891</td>\n",
       "      <td>7.576896</td>\n",
       "      <td>19.058473</td>\n",
       "      <td>3.556777</td>\n",
       "      <td>1</td>\n",
       "      <td>0</td>\n",
       "      <td>0</td>\n",
       "      <td>0</td>\n",
       "      <td>0</td>\n",
       "      <td>0</td>\n",
       "      <td>1</td>\n",
       "      <td>20.424850</td>\n",
       "      <td>39.390782</td>\n",
       "      <td>22.348697</td>\n",
       "      <td>22.348697</td>\n",
       "      <td>4</td>\n",
       "    </tr>\n",
       "    <tr>\n",
       "      <th>11</th>\n",
       "      <td>26</td>\n",
       "      <td>AndreasChristensen</td>\n",
       "      <td>Chelsea</td>\n",
       "      <td>CB</td>\n",
       "      <td>right</td>\n",
       "      <td>15.99</td>\n",
       "      <td>19.73</td>\n",
       "      <td>13.95</td>\n",
       "      <td>31.97</td>\n",
       "      <td>3.505479</td>\n",
       "      <td>4.539223</td>\n",
       "      <td>7.901780</td>\n",
       "      <td>3.633077</td>\n",
       "      <td>1</td>\n",
       "      <td>0</td>\n",
       "      <td>0</td>\n",
       "      <td>0</td>\n",
       "      <td>0</td>\n",
       "      <td>0</td>\n",
       "      <td>1</td>\n",
       "      <td>24.801603</td>\n",
       "      <td>52.937876</td>\n",
       "      <td>26.573146</td>\n",
       "      <td>26.573146</td>\n",
       "      <td>4</td>\n",
       "    </tr>\n",
       "    <tr>\n",
       "      <th>12</th>\n",
       "      <td>30</td>\n",
       "      <td>AngeloOgbonna</td>\n",
       "      <td>West Ham</td>\n",
       "      <td>CB</td>\n",
       "      <td>left</td>\n",
       "      <td>32.37</td>\n",
       "      <td>20.14</td>\n",
       "      <td>16.55</td>\n",
       "      <td>8.63</td>\n",
       "      <td>2.593756</td>\n",
       "      <td>4.054128</td>\n",
       "      <td>0.874742</td>\n",
       "      <td>4.553418</td>\n",
       "      <td>1</td>\n",
       "      <td>0</td>\n",
       "      <td>0</td>\n",
       "      <td>0</td>\n",
       "      <td>0</td>\n",
       "      <td>1</td>\n",
       "      <td>0</td>\n",
       "      <td>24.176353</td>\n",
       "      <td>39.807615</td>\n",
       "      <td>29.162325</td>\n",
       "      <td>29.162325</td>\n",
       "      <td>4</td>\n",
       "    </tr>\n",
       "    <tr>\n",
       "      <th>17</th>\n",
       "      <td>37</td>\n",
       "      <td>AshleyWilliams</td>\n",
       "      <td>Everton</td>\n",
       "      <td>CB</td>\n",
       "      <td>right</td>\n",
       "      <td>13.51</td>\n",
       "      <td>5.41</td>\n",
       "      <td>29.73</td>\n",
       "      <td>32.43</td>\n",
       "      <td>3.365793</td>\n",
       "      <td>5.760370</td>\n",
       "      <td>3.136961</td>\n",
       "      <td>2.935298</td>\n",
       "      <td>1</td>\n",
       "      <td>0</td>\n",
       "      <td>0</td>\n",
       "      <td>0</td>\n",
       "      <td>0</td>\n",
       "      <td>0</td>\n",
       "      <td>1</td>\n",
       "      <td>23.967936</td>\n",
       "      <td>40.641283</td>\n",
       "      <td>24.256513</td>\n",
       "      <td>24.256513</td>\n",
       "      <td>4</td>\n",
       "    </tr>\n",
       "    <tr>\n",
       "      <th>30</th>\n",
       "      <td>75</td>\n",
       "      <td>ChristianKabasele</td>\n",
       "      <td>Watford</td>\n",
       "      <td>CB</td>\n",
       "      <td>right</td>\n",
       "      <td>31.82</td>\n",
       "      <td>22.73</td>\n",
       "      <td>11.36</td>\n",
       "      <td>13.64</td>\n",
       "      <td>6.221438</td>\n",
       "      <td>5.035012</td>\n",
       "      <td>7.378027</td>\n",
       "      <td>-0.570814</td>\n",
       "      <td>1</td>\n",
       "      <td>0</td>\n",
       "      <td>0</td>\n",
       "      <td>0</td>\n",
       "      <td>0</td>\n",
       "      <td>0</td>\n",
       "      <td>1</td>\n",
       "      <td>20.424850</td>\n",
       "      <td>42.308617</td>\n",
       "      <td>20.032064</td>\n",
       "      <td>20.032064</td>\n",
       "      <td>4</td>\n",
       "    </tr>\n",
       "    <tr>\n",
       "      <th>41</th>\n",
       "      <td>101</td>\n",
       "      <td>DavidLuiz</td>\n",
       "      <td>Chelsea</td>\n",
       "      <td>CB</td>\n",
       "      <td>right</td>\n",
       "      <td>27.05</td>\n",
       "      <td>19.67</td>\n",
       "      <td>15.57</td>\n",
       "      <td>24.59</td>\n",
       "      <td>4.270302</td>\n",
       "      <td>9.645099</td>\n",
       "      <td>10.123915</td>\n",
       "      <td>5.023086</td>\n",
       "      <td>1</td>\n",
       "      <td>0</td>\n",
       "      <td>0</td>\n",
       "      <td>0</td>\n",
       "      <td>0</td>\n",
       "      <td>0</td>\n",
       "      <td>1</td>\n",
       "      <td>23.551102</td>\n",
       "      <td>39.182365</td>\n",
       "      <td>23.302605</td>\n",
       "      <td>23.302605</td>\n",
       "      <td>4</td>\n",
       "    </tr>\n",
       "    <tr>\n",
       "      <th>42</th>\n",
       "      <td>102</td>\n",
       "      <td>DavinsonSanchez</td>\n",
       "      <td>Spurs</td>\n",
       "      <td>CB</td>\n",
       "      <td>right</td>\n",
       "      <td>19.35</td>\n",
       "      <td>18.28</td>\n",
       "      <td>18.28</td>\n",
       "      <td>23.66</td>\n",
       "      <td>1.687073</td>\n",
       "      <td>4.715131</td>\n",
       "      <td>3.945855</td>\n",
       "      <td>3.528975</td>\n",
       "      <td>1</td>\n",
       "      <td>0</td>\n",
       "      <td>0</td>\n",
       "      <td>0</td>\n",
       "      <td>0</td>\n",
       "      <td>0</td>\n",
       "      <td>1</td>\n",
       "      <td>23.759519</td>\n",
       "      <td>37.723447</td>\n",
       "      <td>27.799599</td>\n",
       "      <td>27.799599</td>\n",
       "      <td>4</td>\n",
       "    </tr>\n",
       "    <tr>\n",
       "      <th>53</th>\n",
       "      <td>127</td>\n",
       "      <td>FedericoFernandez</td>\n",
       "      <td>Swansea</td>\n",
       "      <td>CB</td>\n",
       "      <td>right</td>\n",
       "      <td>13.57</td>\n",
       "      <td>5.00</td>\n",
       "      <td>15.00</td>\n",
       "      <td>43.57</td>\n",
       "      <td>5.956083</td>\n",
       "      <td>7.211164</td>\n",
       "      <td>8.363992</td>\n",
       "      <td>3.621078</td>\n",
       "      <td>1</td>\n",
       "      <td>0</td>\n",
       "      <td>0</td>\n",
       "      <td>0</td>\n",
       "      <td>0</td>\n",
       "      <td>0</td>\n",
       "      <td>1</td>\n",
       "      <td>20.841683</td>\n",
       "      <td>38.140281</td>\n",
       "      <td>19.623246</td>\n",
       "      <td>19.623246</td>\n",
       "      <td>4</td>\n",
       "    </tr>\n",
       "    <tr>\n",
       "      <th>58</th>\n",
       "      <td>140</td>\n",
       "      <td>GaryCahill</td>\n",
       "      <td>Chelsea</td>\n",
       "      <td>CB</td>\n",
       "      <td>right</td>\n",
       "      <td>12.31</td>\n",
       "      <td>18.46</td>\n",
       "      <td>18.46</td>\n",
       "      <td>32.31</td>\n",
       "      <td>2.698827</td>\n",
       "      <td>6.891289</td>\n",
       "      <td>6.160417</td>\n",
       "      <td>1.894294</td>\n",
       "      <td>1</td>\n",
       "      <td>0</td>\n",
       "      <td>0</td>\n",
       "      <td>0</td>\n",
       "      <td>0</td>\n",
       "      <td>0</td>\n",
       "      <td>1</td>\n",
       "      <td>24.593186</td>\n",
       "      <td>38.557114</td>\n",
       "      <td>25.074148</td>\n",
       "      <td>25.074148</td>\n",
       "      <td>4</td>\n",
       "    </tr>\n",
       "    <tr>\n",
       "      <th>75</th>\n",
       "      <td>183</td>\n",
       "      <td>JohnStones</td>\n",
       "      <td>Man City</td>\n",
       "      <td>CB</td>\n",
       "      <td>right</td>\n",
       "      <td>20.83</td>\n",
       "      <td>25.00</td>\n",
       "      <td>16.67</td>\n",
       "      <td>29.17</td>\n",
       "      <td>2.183654</td>\n",
       "      <td>5.746202</td>\n",
       "      <td>6.159871</td>\n",
       "      <td>1.153069</td>\n",
       "      <td>1</td>\n",
       "      <td>0</td>\n",
       "      <td>0</td>\n",
       "      <td>0</td>\n",
       "      <td>0</td>\n",
       "      <td>0</td>\n",
       "      <td>1</td>\n",
       "      <td>27.094188</td>\n",
       "      <td>61.066132</td>\n",
       "      <td>24.392786</td>\n",
       "      <td>24.392786</td>\n",
       "      <td>4</td>\n",
       "    </tr>\n",
       "    <tr>\n",
       "      <th>77</th>\n",
       "      <td>186</td>\n",
       "      <td>JonnyEvans</td>\n",
       "      <td>West Brom</td>\n",
       "      <td>CB</td>\n",
       "      <td>right</td>\n",
       "      <td>14.29</td>\n",
       "      <td>17.86</td>\n",
       "      <td>10.71</td>\n",
       "      <td>42.86</td>\n",
       "      <td>8.745997</td>\n",
       "      <td>9.900627</td>\n",
       "      <td>8.835173</td>\n",
       "      <td>3.545247</td>\n",
       "      <td>1</td>\n",
       "      <td>0</td>\n",
       "      <td>0</td>\n",
       "      <td>0</td>\n",
       "      <td>0</td>\n",
       "      <td>0</td>\n",
       "      <td>1</td>\n",
       "      <td>13.338677</td>\n",
       "      <td>47.102204</td>\n",
       "      <td>11.310621</td>\n",
       "      <td>11.310621</td>\n",
       "      <td>4</td>\n",
       "    </tr>\n",
       "    <tr>\n",
       "      <th>99</th>\n",
       "      <td>253</td>\n",
       "      <td>MayaYoshida</td>\n",
       "      <td>Southampton</td>\n",
       "      <td>CB</td>\n",
       "      <td>right</td>\n",
       "      <td>42.00</td>\n",
       "      <td>14.00</td>\n",
       "      <td>16.00</td>\n",
       "      <td>20.00</td>\n",
       "      <td>1.900397</td>\n",
       "      <td>15.454287</td>\n",
       "      <td>6.634149</td>\n",
       "      <td>2.278141</td>\n",
       "      <td>1</td>\n",
       "      <td>0</td>\n",
       "      <td>0</td>\n",
       "      <td>0</td>\n",
       "      <td>0</td>\n",
       "      <td>0</td>\n",
       "      <td>1</td>\n",
       "      <td>25.218437</td>\n",
       "      <td>42.517034</td>\n",
       "      <td>26.845691</td>\n",
       "      <td>26.845691</td>\n",
       "      <td>4</td>\n",
       "    </tr>\n",
       "    <tr>\n",
       "      <th>110</th>\n",
       "      <td>271</td>\n",
       "      <td>NachoMonreal</td>\n",
       "      <td>Arsenal</td>\n",
       "      <td>CB</td>\n",
       "      <td>left</td>\n",
       "      <td>30.23</td>\n",
       "      <td>11.63</td>\n",
       "      <td>16.28</td>\n",
       "      <td>9.30</td>\n",
       "      <td>2.213284</td>\n",
       "      <td>4.137501</td>\n",
       "      <td>9.309672</td>\n",
       "      <td>3.952795</td>\n",
       "      <td>1</td>\n",
       "      <td>0</td>\n",
       "      <td>0</td>\n",
       "      <td>0</td>\n",
       "      <td>0</td>\n",
       "      <td>1</td>\n",
       "      <td>0</td>\n",
       "      <td>19.591182</td>\n",
       "      <td>55.855711</td>\n",
       "      <td>28.480962</td>\n",
       "      <td>28.480962</td>\n",
       "      <td>4</td>\n",
       "    </tr>\n",
       "    <tr>\n",
       "      <th>119</th>\n",
       "      <td>291</td>\n",
       "      <td>PerMertesacker</td>\n",
       "      <td>Arsenal</td>\n",
       "      <td>CB</td>\n",
       "      <td>right</td>\n",
       "      <td>16.39</td>\n",
       "      <td>13.11</td>\n",
       "      <td>18.03</td>\n",
       "      <td>37.70</td>\n",
       "      <td>3.133701</td>\n",
       "      <td>6.468137</td>\n",
       "      <td>5.470978</td>\n",
       "      <td>4.969269</td>\n",
       "      <td>1</td>\n",
       "      <td>0</td>\n",
       "      <td>0</td>\n",
       "      <td>0</td>\n",
       "      <td>0</td>\n",
       "      <td>0</td>\n",
       "      <td>1</td>\n",
       "      <td>24.176353</td>\n",
       "      <td>55.230461</td>\n",
       "      <td>27.663327</td>\n",
       "      <td>27.663327</td>\n",
       "      <td>4</td>\n",
       "    </tr>\n",
       "    <tr>\n",
       "      <th>130</th>\n",
       "      <td>311</td>\n",
       "      <td>RyanShawcross</td>\n",
       "      <td>Stoke</td>\n",
       "      <td>CB</td>\n",
       "      <td>right</td>\n",
       "      <td>18.46</td>\n",
       "      <td>15.38</td>\n",
       "      <td>21.54</td>\n",
       "      <td>33.85</td>\n",
       "      <td>4.406899</td>\n",
       "      <td>5.106250</td>\n",
       "      <td>-2.432372</td>\n",
       "      <td>3.076077</td>\n",
       "      <td>1</td>\n",
       "      <td>0</td>\n",
       "      <td>0</td>\n",
       "      <td>0</td>\n",
       "      <td>0</td>\n",
       "      <td>0</td>\n",
       "      <td>1</td>\n",
       "      <td>24.593186</td>\n",
       "      <td>44.184369</td>\n",
       "      <td>20.304609</td>\n",
       "      <td>20.304609</td>\n",
       "      <td>4</td>\n",
       "    </tr>\n",
       "    <tr>\n",
       "      <th>132</th>\n",
       "      <td>315</td>\n",
       "      <td>ScottDann</td>\n",
       "      <td>Crystal Palace</td>\n",
       "      <td>CB</td>\n",
       "      <td>right</td>\n",
       "      <td>43.24</td>\n",
       "      <td>16.22</td>\n",
       "      <td>13.51</td>\n",
       "      <td>21.62</td>\n",
       "      <td>2.144485</td>\n",
       "      <td>1.012277</td>\n",
       "      <td>-2.476486</td>\n",
       "      <td>3.226717</td>\n",
       "      <td>1</td>\n",
       "      <td>0</td>\n",
       "      <td>0</td>\n",
       "      <td>0</td>\n",
       "      <td>0</td>\n",
       "      <td>0</td>\n",
       "      <td>1</td>\n",
       "      <td>21.675351</td>\n",
       "      <td>48.352705</td>\n",
       "      <td>25.619238</td>\n",
       "      <td>25.619238</td>\n",
       "      <td>4</td>\n",
       "    </tr>\n",
       "    <tr>\n",
       "      <th>136</th>\n",
       "      <td>322</td>\n",
       "      <td>SebastianProdl</td>\n",
       "      <td>Watford</td>\n",
       "      <td>CB</td>\n",
       "      <td>right</td>\n",
       "      <td>27.12</td>\n",
       "      <td>13.56</td>\n",
       "      <td>11.86</td>\n",
       "      <td>25.42</td>\n",
       "      <td>5.304604</td>\n",
       "      <td>2.687702</td>\n",
       "      <td>16.282249</td>\n",
       "      <td>2.883899</td>\n",
       "      <td>1</td>\n",
       "      <td>0</td>\n",
       "      <td>0</td>\n",
       "      <td>0</td>\n",
       "      <td>0</td>\n",
       "      <td>0</td>\n",
       "      <td>1</td>\n",
       "      <td>21.050100</td>\n",
       "      <td>43.142285</td>\n",
       "      <td>15.807615</td>\n",
       "      <td>15.807615</td>\n",
       "      <td>4</td>\n",
       "    </tr>\n",
       "    <tr>\n",
       "      <th>139</th>\n",
       "      <td>328</td>\n",
       "      <td>ShkodranMustafi</td>\n",
       "      <td>Arsenal</td>\n",
       "      <td>CB</td>\n",
       "      <td>right</td>\n",
       "      <td>19.79</td>\n",
       "      <td>17.11</td>\n",
       "      <td>20.86</td>\n",
       "      <td>29.41</td>\n",
       "      <td>3.116724</td>\n",
       "      <td>3.608506</td>\n",
       "      <td>11.145792</td>\n",
       "      <td>1.905448</td>\n",
       "      <td>1</td>\n",
       "      <td>0</td>\n",
       "      <td>0</td>\n",
       "      <td>0</td>\n",
       "      <td>0</td>\n",
       "      <td>0</td>\n",
       "      <td>1</td>\n",
       "      <td>24.176353</td>\n",
       "      <td>50.020040</td>\n",
       "      <td>25.619238</td>\n",
       "      <td>25.619238</td>\n",
       "      <td>4</td>\n",
       "    </tr>\n",
       "    <tr>\n",
       "      <th>145</th>\n",
       "      <td>336</td>\n",
       "      <td>SteveCook</td>\n",
       "      <td>Bournemouth</td>\n",
       "      <td>CB</td>\n",
       "      <td>right</td>\n",
       "      <td>17.14</td>\n",
       "      <td>10.00</td>\n",
       "      <td>17.14</td>\n",
       "      <td>32.86</td>\n",
       "      <td>1.955504</td>\n",
       "      <td>6.683230</td>\n",
       "      <td>5.228314</td>\n",
       "      <td>-0.248969</td>\n",
       "      <td>1</td>\n",
       "      <td>0</td>\n",
       "      <td>0</td>\n",
       "      <td>0</td>\n",
       "      <td>0</td>\n",
       "      <td>0</td>\n",
       "      <td>1</td>\n",
       "      <td>21.050100</td>\n",
       "      <td>38.140281</td>\n",
       "      <td>15.398798</td>\n",
       "      <td>15.398798</td>\n",
       "      <td>4</td>\n",
       "    </tr>\n",
       "    <tr>\n",
       "      <th>165</th>\n",
       "      <td>369</td>\n",
       "      <td>WinstonReid</td>\n",
       "      <td>West Ham</td>\n",
       "      <td>CB</td>\n",
       "      <td>right</td>\n",
       "      <td>21.15</td>\n",
       "      <td>13.46</td>\n",
       "      <td>13.46</td>\n",
       "      <td>26.92</td>\n",
       "      <td>4.100283</td>\n",
       "      <td>5.942872</td>\n",
       "      <td>2.095939</td>\n",
       "      <td>-0.763190</td>\n",
       "      <td>1</td>\n",
       "      <td>0</td>\n",
       "      <td>0</td>\n",
       "      <td>0</td>\n",
       "      <td>0</td>\n",
       "      <td>0</td>\n",
       "      <td>1</td>\n",
       "      <td>25.843687</td>\n",
       "      <td>41.058116</td>\n",
       "      <td>22.621242</td>\n",
       "      <td>22.621242</td>\n",
       "      <td>4</td>\n",
       "    </tr>\n",
       "  </tbody>\n",
       "</table>\n",
       "</div>"
      ],
      "text/plain": [
       "     index         player_name            team position footedness  \\\n",
       "4       11         AhmedHegazi       West Brom       CB      right   \n",
       "11      26  AndreasChristensen         Chelsea       CB      right   \n",
       "12      30       AngeloOgbonna        West Ham       CB       left   \n",
       "17      37      AshleyWilliams         Everton       CB      right   \n",
       "30      75   ChristianKabasele         Watford       CB      right   \n",
       "41     101           DavidLuiz         Chelsea       CB      right   \n",
       "42     102     DavinsonSanchez           Spurs       CB      right   \n",
       "53     127   FedericoFernandez         Swansea       CB      right   \n",
       "58     140          GaryCahill         Chelsea       CB      right   \n",
       "75     183          JohnStones        Man City       CB      right   \n",
       "77     186          JonnyEvans       West Brom       CB      right   \n",
       "99     253         MayaYoshida     Southampton       CB      right   \n",
       "110    271        NachoMonreal         Arsenal       CB       left   \n",
       "119    291      PerMertesacker         Arsenal       CB      right   \n",
       "130    311       RyanShawcross           Stoke       CB      right   \n",
       "132    315           ScottDann  Crystal Palace       CB      right   \n",
       "136    322      SebastianProdl         Watford       CB      right   \n",
       "139    328     ShkodranMustafi         Arsenal       CB      right   \n",
       "145    336           SteveCook     Bournemouth       CB      right   \n",
       "165    369         WinstonReid        West Ham       CB      right   \n",
       "\n",
       "     att_LF_pref  att_LC_pref  att_RC_pref  att_RF_pref  att_LF_off  \\\n",
       "4          23.73        15.25        16.95        35.59    3.901891   \n",
       "11         15.99        19.73        13.95        31.97    3.505479   \n",
       "12         32.37        20.14        16.55         8.63    2.593756   \n",
       "17         13.51         5.41        29.73        32.43    3.365793   \n",
       "30         31.82        22.73        11.36        13.64    6.221438   \n",
       "41         27.05        19.67        15.57        24.59    4.270302   \n",
       "42         19.35        18.28        18.28        23.66    1.687073   \n",
       "53         13.57         5.00        15.00        43.57    5.956083   \n",
       "58         12.31        18.46        18.46        32.31    2.698827   \n",
       "75         20.83        25.00        16.67        29.17    2.183654   \n",
       "77         14.29        17.86        10.71        42.86    8.745997   \n",
       "99         42.00        14.00        16.00        20.00    1.900397   \n",
       "110        30.23        11.63        16.28         9.30    2.213284   \n",
       "119        16.39        13.11        18.03        37.70    3.133701   \n",
       "130        18.46        15.38        21.54        33.85    4.406899   \n",
       "132        43.24        16.22        13.51        21.62    2.144485   \n",
       "136        27.12        13.56        11.86        25.42    5.304604   \n",
       "139        19.79        17.11        20.86        29.41    3.116724   \n",
       "145        17.14        10.00        17.14        32.86    1.955504   \n",
       "165        21.15        13.46        13.46        26.92    4.100283   \n",
       "\n",
       "     att_LC_off  att_RC_off  att_RF_off  pos_CB  pos_LCB  pos_L_CB  pos_RCB  \\\n",
       "4      7.576896   19.058473    3.556777       1        0         0        0   \n",
       "11     4.539223    7.901780    3.633077       1        0         0        0   \n",
       "12     4.054128    0.874742    4.553418       1        0         0        0   \n",
       "17     5.760370    3.136961    2.935298       1        0         0        0   \n",
       "30     5.035012    7.378027   -0.570814       1        0         0        0   \n",
       "41     9.645099   10.123915    5.023086       1        0         0        0   \n",
       "42     4.715131    3.945855    3.528975       1        0         0        0   \n",
       "53     7.211164    8.363992    3.621078       1        0         0        0   \n",
       "58     6.891289    6.160417    1.894294       1        0         0        0   \n",
       "75     5.746202    6.159871    1.153069       1        0         0        0   \n",
       "77     9.900627    8.835173    3.545247       1        0         0        0   \n",
       "99    15.454287    6.634149    2.278141       1        0         0        0   \n",
       "110    4.137501    9.309672    3.952795       1        0         0        0   \n",
       "119    6.468137    5.470978    4.969269       1        0         0        0   \n",
       "130    5.106250   -2.432372    3.076077       1        0         0        0   \n",
       "132    1.012277   -2.476486    3.226717       1        0         0        0   \n",
       "136    2.687702   16.282249    2.883899       1        0         0        0   \n",
       "139    3.608506   11.145792    1.905448       1        0         0        0   \n",
       "145    6.683230    5.228314   -0.248969       1        0         0        0   \n",
       "165    5.942872    2.095939   -0.763190       1        0         0        0   \n",
       "\n",
       "     pos_R_CB  foot_left  foot_right     init_x    final_x     init_y  \\\n",
       "4           0          0           1  20.424850  39.390782  22.348697   \n",
       "11          0          0           1  24.801603  52.937876  26.573146   \n",
       "12          0          1           0  24.176353  39.807615  29.162325   \n",
       "17          0          0           1  23.967936  40.641283  24.256513   \n",
       "30          0          0           1  20.424850  42.308617  20.032064   \n",
       "41          0          0           1  23.551102  39.182365  23.302605   \n",
       "42          0          0           1  23.759519  37.723447  27.799599   \n",
       "53          0          0           1  20.841683  38.140281  19.623246   \n",
       "58          0          0           1  24.593186  38.557114  25.074148   \n",
       "75          0          0           1  27.094188  61.066132  24.392786   \n",
       "77          0          0           1  13.338677  47.102204  11.310621   \n",
       "99          0          0           1  25.218437  42.517034  26.845691   \n",
       "110         0          1           0  19.591182  55.855711  28.480962   \n",
       "119         0          0           1  24.176353  55.230461  27.663327   \n",
       "130         0          0           1  24.593186  44.184369  20.304609   \n",
       "132         0          0           1  21.675351  48.352705  25.619238   \n",
       "136         0          0           1  21.050100  43.142285  15.807615   \n",
       "139         0          0           1  24.176353  50.020040  25.619238   \n",
       "145         0          0           1  21.050100  38.140281  15.398798   \n",
       "165         0          0           1  25.843687  41.058116  22.621242   \n",
       "\n",
       "       final_y groups  \n",
       "4    22.348697      4  \n",
       "11   26.573146      4  \n",
       "12   29.162325      4  \n",
       "17   24.256513      4  \n",
       "30   20.032064      4  \n",
       "41   23.302605      4  \n",
       "42   27.799599      4  \n",
       "53   19.623246      4  \n",
       "58   25.074148      4  \n",
       "75   24.392786      4  \n",
       "77   11.310621      4  \n",
       "99   26.845691      4  \n",
       "110  28.480962      4  \n",
       "119  27.663327      4  \n",
       "130  20.304609      4  \n",
       "132  25.619238      4  \n",
       "136  15.807615      4  \n",
       "139  25.619238      4  \n",
       "145  15.398798      4  \n",
       "165  22.621242      4  "
      ]
     },
     "execution_count": 113,
     "metadata": {},
     "output_type": "execute_result"
    }
   ],
   "source": [
    "cb_data_grp_copy.loc[cb_data_grp_copy['groups']==4]"
   ]
  },
  {
   "cell_type": "code",
   "execution_count": 114,
   "metadata": {},
   "outputs": [],
   "source": [
    "def plot_groups(df,region):\n",
    "    regions = [\n",
    "        'leftflank_attack', 'leftcentral_attack',\n",
    "        'rightcentral_attack', 'rightflank_attack'\n",
    "    ]\n",
    "    fig = px.scatter(df,x='att_'+region+'_pref',y='att_'+region+'_off',color='groups', hover_data=['player_name','team','position','footedness'])\n",
    "    fig.show()"
   ]
  },
  {
   "cell_type": "code",
   "execution_count": 115,
   "metadata": {},
   "outputs": [
    {
     "data": {
      "application/vnd.plotly.v1+json": {
       "config": {
        "plotlyServerURL": "https://plot.ly"
       },
       "data": [
        {
         "customdata": [
          [
           "AaronCresswell",
           "West Ham",
           "LCB",
           "left"
          ],
          [
           "AngeloOgbonna",
           "West Ham",
           "LCB",
           "left"
          ],
          [
           "AngeloOgbonna",
           "West Ham",
           "L_CB",
           "left"
          ],
          [
           "AymericLaporte",
           "Man City",
           "L_CB",
           "left"
          ],
          [
           "BenMee",
           "Burnley",
           "L_CB",
           "left"
          ],
          [
           "BrunoMartinsIndi",
           "Stoke",
           "LCB",
           "left"
          ],
          [
           "BrunoMartinsIndi",
           "Stoke",
           "L_CB",
           "left"
          ],
          [
           "CiaranClark",
           "Newcastle",
           "LCB",
           "left"
          ],
          [
           "CiaranClark",
           "Newcastle",
           "L_CB",
           "left"
          ],
          [
           "EliaquimMangala",
           "Man City",
           "L_CB",
           "left"
          ],
          [
           "ErikPieters",
           "Stoke",
           "LCB",
           "left"
          ],
          [
           "JanVertonghen",
           "Spurs",
           "LCB",
           "left"
          ],
          [
           "JanVertonghen",
           "Spurs",
           "L_CB",
           "left"
          ],
          [
           "JoseHolebas",
           "Watford",
           "LCB",
           "left"
          ],
          [
           "KevinWimmer",
           "Stoke",
           "LCB",
           "left"
          ],
          [
           "KevinWimmer",
           "Stoke",
           "L_CB",
           "left"
          ],
          [
           "MamadouSakho",
           "Crystal Palace",
           "L_CB",
           "left"
          ],
          [
           "MarcosRojo",
           "Man Utd",
           "L_CB",
           "left"
          ],
          [
           "MiguelBritos",
           "Watford",
           "LCB",
           "left"
          ],
          [
           "MiguelBritos",
           "Watford",
           "L_CB",
           "left"
          ],
          [
           "NachoMonreal",
           "Arsenal",
           "LCB",
           "left"
          ],
          [
           "NachoMonreal",
           "Arsenal",
           "L_CB",
           "left"
          ],
          [
           "NathanAke",
           "Bournemouth",
           "LCB",
           "left"
          ],
          [
           "NathanAke",
           "Bournemouth",
           "L_CB",
           "left"
          ],
          [
           "PaulDummett",
           "Newcastle",
           "LCB",
           "left"
          ],
          [
           "RagnarKlavan",
           "Liverpool",
           "L_CB",
           "left"
          ],
          [
           "SeadKolasinac",
           "Arsenal",
           "LCB",
           "left"
          ],
          [
           "TyroneMings",
           "Bournemouth",
           "LCB",
           "left"
          ],
          [
           "WesleyHoedt",
           "Southampton",
           "LCB",
           "left"
          ],
          [
           "WesleyHoedt",
           "Southampton",
           "L_CB",
           "left"
          ]
         ],
         "hovertemplate": "groups=2<br>att_LF_pref=%{x}<br>att_LF_off=%{y}<br>player_name=%{customdata[0]}<br>team=%{customdata[1]}<br>position=%{customdata[2]}<br>footedness=%{customdata[3]}<extra></extra>",
         "legendgroup": "2",
         "marker": {
          "color": "#636efa",
          "symbol": "circle"
         },
         "mode": "markers",
         "name": "2",
         "orientation": "v",
         "showlegend": true,
         "type": "scatter",
         "x": [
          56.73,
          56.76,
          38.82,
          52.05,
          38.46,
          41.94,
          27.78,
          59.09,
          38.15,
          48.94,
          47.83,
          49.79,
          33.41,
          35.71,
          41.98,
          23.68,
          39.66,
          27.4,
          54.55,
          41.79,
          57.58,
          44.74,
          49.32,
          45.96,
          50,
          42.41,
          54.76,
          30.77,
          50.43,
          46.76
         ],
         "xaxis": "x",
         "y": [
          4.098572081719071,
          1.9985423478785727,
          0.9022159008027026,
          2.4337058918278536,
          2.2949893831868065,
          1.9569040204469976,
          2.7024144073948264,
          2.5903024853995213,
          3.6414319042567955,
          3.2785317617590013,
          1.5852431004697625,
          2.6399221820517993,
          3.1638427726214844,
          6.152582983486354,
          2.87464729455464,
          0.7639753425286876,
          1.367502218193334,
          3.120013396255672,
          2.1375806148474417,
          3.9435072602438073,
          2.9770730792446747,
          2.4285080760498254,
          2.737288363277912,
          3.2427487851775907,
          1.1289719576862727,
          2.393740300383223,
          3.181874225644962,
          2.858881081920117,
          3.302164371835731,
          4.009193327808141
         ],
         "yaxis": "y"
        },
        {
         "customdata": [
          [
           "AdrianMariappa",
           "Watford",
           "L_CB",
           "right"
          ],
          [
           "AhmedHegazi",
           "West Brom",
           "LCB",
           "right"
          ],
          [
           "AhmedHegazi",
           "West Brom",
           "L_CB",
           "right"
          ],
          [
           "AlfieMawson",
           "Swansea",
           "LCB",
           "right"
          ],
          [
           "AlfieMawson",
           "Swansea",
           "L_CB",
           "right"
          ],
          [
           "AntonioRudiger",
           "Chelsea",
           "LCB",
           "right"
          ],
          [
           "AshleyWilliams",
           "Everton",
           "L_CB",
           "right"
          ],
          [
           "CalumChambers",
           "Arsenal",
           "L_CB",
           "right"
          ],
          [
           "ChrisSmalling",
           "Man Utd",
           "L_CB",
           "right"
          ],
          [
           "ChristianKabasele",
           "Watford",
           "LCB",
           "right"
          ],
          [
           "ChristianKabasele",
           "Watford",
           "L_CB",
           "right"
          ],
          [
           "ChristopherSchindler",
           "Huddersfield",
           "L_CB",
           "right"
          ],
          [
           "Danilo",
           "Man City",
           "RCB",
           "right"
          ],
          [
           "DeclanRice",
           "West Ham",
           "LCB",
           "right"
          ],
          [
           "DejanLovren",
           "Liverpool",
           "L_CB",
           "right"
          ],
          [
           "FlorianLejeune",
           "Newcastle",
           "L_CB",
           "right"
          ],
          [
           "GaryCahill",
           "Chelsea",
           "LCB",
           "right"
          ],
          [
           "GeoffCameron",
           "Stoke",
           "LCB",
           "right"
          ],
          [
           "HarryMaguire",
           "Leicester",
           "L_CB",
           "right"
          ],
          [
           "JamesCollins",
           "West Ham",
           "LCB",
           "right"
          ],
          [
           "JamesTarkowski",
           "Burnley",
           "L_CB",
           "right"
          ],
          [
           "JamesTomkins",
           "Crystal Palace",
           "L_CB",
           "right"
          ],
          [
           "JonnyEvans",
           "West Brom",
           "LCB",
           "right"
          ],
          [
           "JonnyEvans",
           "West Brom",
           "L_CB",
           "right"
          ],
          [
           "KurtZouma",
           "Stoke",
           "L_CB",
           "right"
          ],
          [
           "LaurentKoscielny",
           "Arsenal",
           "LCB",
           "right"
          ],
          [
           "LaurentKoscielny",
           "Arsenal",
           "L_CB",
           "right"
          ],
          [
           "LewisDunk",
           "Brighton",
           "L_CB",
           "right"
          ],
          [
           "MayaYoshida",
           "Southampton",
           "L_CB",
           "right"
          ],
          [
           "MichaelKeane",
           "Everton",
           "L_CB",
           "right"
          ],
          [
           "NicolasOtamendi",
           "Man City",
           "LCB",
           "right"
          ],
          [
           "NicolasOtamendi",
           "Man City",
           "L_CB",
           "right"
          ],
          [
           "PhilJagielka",
           "Everton",
           "LCB",
           "right"
          ],
          [
           "PhilJagielka",
           "Everton",
           "L_CB",
           "right"
          ],
          [
           "PhilJones",
           "Man Utd",
           "LCB",
           "right"
          ],
          [
           "PhilJones",
           "Man Utd",
           "L_CB",
           "right"
          ],
          [
           "RobHolding",
           "Arsenal",
           "LCB",
           "right"
          ],
          [
           "RobHolding",
           "Arsenal",
           "L_CB",
           "right"
          ],
          [
           "ScottDann",
           "Crystal Palace",
           "L_CB",
           "right"
          ],
          [
           "ShkodranMustafi",
           "Arsenal",
           "L_CB",
           "right"
          ],
          [
           "TobyAlderweireld",
           "Spurs",
           "L_CB",
           "right"
          ],
          [
           "VictorNilssonLindelof",
           "Man Utd",
           "L_CB",
           "right"
          ],
          [
           "VirgilvanDijk",
           "Liverpool",
           "L_CB",
           "right"
          ],
          [
           "VirgilvanDijk",
           "Southampton",
           "L_CB",
           "right"
          ],
          [
           "WinstonReid",
           "West Ham",
           "L_CB",
           "right"
          ]
         ],
         "hovertemplate": "groups=0<br>att_LF_pref=%{x}<br>att_LF_off=%{y}<br>player_name=%{customdata[0]}<br>team=%{customdata[1]}<br>position=%{customdata[2]}<br>footedness=%{customdata[3]}<extra></extra>",
         "legendgroup": "0",
         "marker": {
          "color": "#EF553B",
          "symbol": "circle"
         },
         "mode": "markers",
         "name": "0",
         "orientation": "v",
         "showlegend": true,
         "type": "scatter",
         "x": [
          43.48,
          28.21,
          27.97,
          24.55,
          24.9,
          36.51,
          38.54,
          43.75,
          29.17,
          46.94,
          29.63,
          42.44,
          34.38,
          50,
          35,
          33.92,
          45.83,
          28.57,
          46.37,
          28.57,
          43.48,
          36.84,
          42.86,
          35.78,
          25.42,
          27.59,
          37.93,
          30.26,
          25.58,
          29.41,
          40,
          36.56,
          47.06,
          30.3,
          55,
          35.29,
          40.74,
          36.73,
          50.85,
          23.4,
          57.89,
          42.59,
          37.22,
          38.53,
          27.03
         ],
         "xaxis": "x",
         "y": [
          1.573852461297065,
          3.284208518876271,
          1.4707616840799649,
          1.751663764430718,
          1.5939529609656142,
          3.5253157899917467,
          0.9858715756972496,
          -0.45445824175008703,
          2.239386218466929,
          2.6731046686029956,
          1.8300940428161994,
          2.559042448663841,
          2.6320878162302757,
          0.5409785292365334,
          3.38858202476764,
          3.067481742760578,
          2.932616563736122,
          4.455182119272649,
          2.901105547283331,
          2.5120226200670004,
          4.37515884405002,
          4.592833574861288,
          2.2699835147553435,
          1.9523970042474759,
          0.48057289483646554,
          4.617627942934632,
          1.5749868471175432,
          2.627905300360615,
          2.890782324935902,
          2.0530012643171682,
          3.326743350563837,
          1.1590490280650556,
          0.5195983103476465,
          1.6338350833393633,
          1.9778336017307911,
          2.731342737873395,
          3.1689067625186658,
          1.880292819502453,
          4.881818313151598,
          -0.17791525037451222,
          2.645843323658813,
          3.69199142669854,
          2.858032190510218,
          3.6900777236691544,
          1.8510754453018308
         ],
         "yaxis": "y"
        },
        {
         "customdata": [
          [
           "AdrianMariappa",
           "Watford",
           "RCB",
           "right"
          ],
          [
           "AntonioRudiger",
           "Chelsea",
           "RCB",
           "right"
          ],
          [
           "CalumChambers",
           "Arsenal",
           "RCB",
           "right"
          ],
          [
           "CesarAzpilicueta",
           "Chelsea",
           "RCB",
           "right"
          ],
          [
           "CraigDawson",
           "West Brom",
           "RCB",
           "right"
          ],
          [
           "DavinsonSanchez",
           "Spurs",
           "RCB",
           "right"
          ],
          [
           "DeclanRice",
           "West Ham",
           "RCB",
           "right"
          ],
          [
           "EricBailly",
           "Man Utd",
           "RCB",
           "right"
          ],
          [
           "GarethMcAuley",
           "West Brom",
           "RCB",
           "right"
          ],
          [
           "JackStephens",
           "Southampton",
           "RCB",
           "right"
          ],
          [
           "JamesCollins",
           "West Ham",
           "RCB",
           "right"
          ],
          [
           "JanBednarek",
           "Southampton",
           "RCB",
           "right"
          ],
          [
           "JoseFonte",
           "West Ham",
           "RCB",
           "right"
          ],
          [
           "KurtZouma",
           "Stoke",
           "RCB",
           "right"
          ],
          [
           "KyleNaughton",
           "Swansea",
           "RCB",
           "right"
          ],
          [
           "LaurentKoscielny",
           "Arsenal",
           "RCB",
           "right"
          ],
          [
           "MichaelKeane",
           "Everton",
           "RCB",
           "right"
          ],
          [
           "MikevanderHoorn",
           "Swansea",
           "RCB",
           "right"
          ],
          [
           "RobHolding",
           "Arsenal",
           "RCB",
           "right"
          ],
          [
           "ShkodranMustafi",
           "Arsenal",
           "RCB",
           "right"
          ],
          [
           "SimonFrancis",
           "Bournemouth",
           "RCB",
           "right"
          ],
          [
           "SteveCook",
           "Bournemouth",
           "RCB",
           "right"
          ],
          [
           "TimothyFosuMensah",
           "Crystal Palace",
           "RCB",
           "right"
          ],
          [
           "TobyAlderweireld",
           "Spurs",
           "RCB",
           "right"
          ],
          [
           "VincentKompany",
           "Man City",
           "RCB",
           "right"
          ],
          [
           "WinstonReid",
           "West Ham",
           "RCB",
           "right"
          ],
          [
           "Zanka",
           "Huddersfield",
           "RCB",
           "right"
          ]
         ],
         "hovertemplate": "groups=3<br>att_LF_pref=%{x}<br>att_LF_off=%{y}<br>player_name=%{customdata[0]}<br>team=%{customdata[1]}<br>position=%{customdata[2]}<br>footedness=%{customdata[3]}<extra></extra>",
         "legendgroup": "3",
         "marker": {
          "color": "#00cc96",
          "symbol": "circle"
         },
         "mode": "markers",
         "name": "3",
         "orientation": "v",
         "showlegend": true,
         "type": "scatter",
         "x": [
          8.25,
          27.42,
          8.93,
          5.75,
          8.7,
          9.76,
          5.94,
          4.55,
          10,
          11.11,
          11.29,
          2.56,
          10.77,
          17.7,
          0,
          7.42,
          6.67,
          4.58,
          6.67,
          3.23,
          10.64,
          9.68,
          14.71,
          17.28,
          11.54,
          12.07,
          0
         ],
         "xaxis": "x",
         "y": [
          3.4598800993990153,
          4.036659073522862,
          0.06614187732338905,
          2.3781313197460117,
          4.5554300110476715,
          1.1896235519088805,
          9.567246655933559,
          -2.5924472138285637,
          -0.40565043066938716,
          1.540372536207239,
          1.1129402888140507,
          -8.034954778850079,
          2.7097033536327735,
          3.7862407974898815,
          0,
          3.101898850325276,
          2.6748330953220525,
          -0.8821569693585237,
          0.8134350064210594,
          -0.8065085858106613,
          3.8284865984072285,
          0.630517645428578,
          2.4672851897776127,
          1.7987880938952523,
          4.179152349630992,
          3.716140120689358,
          0
         ],
         "yaxis": "y"
        },
        {
         "customdata": [
          [
           "AdrianMariappa",
           "Watford",
           "R_CB",
           "right"
          ],
          [
           "AhmedHegazi",
           "West Brom",
           "R_CB",
           "right"
          ],
          [
           "AleksandarDragovic",
           "Leicester",
           "R_CB",
           "right"
          ],
          [
           "AshleyWilliams",
           "Everton",
           "R_CB",
           "right"
          ],
          [
           "CalumChambers",
           "Arsenal",
           "R_CB",
           "right"
          ],
          [
           "ChrisSmalling",
           "Man Utd",
           "R_CB",
           "right"
          ],
          [
           "ChristianKabasele",
           "Watford",
           "R_CB",
           "right"
          ],
          [
           "CraigCathcart",
           "Watford",
           "R_CB",
           "right"
          ],
          [
           "CraigDawson",
           "West Brom",
           "R_CB",
           "right"
          ],
          [
           "DavinsonSanchez",
           "Spurs",
           "R_CB",
           "right"
          ],
          [
           "DejanLovren",
           "Liverpool",
           "R_CB",
           "right"
          ],
          [
           "EricBailly",
           "Man Utd",
           "R_CB",
           "right"
          ],
          [
           "FedericoFernandez",
           "Swansea",
           "R_CB",
           "right"
          ],
          [
           "FlorianLejeune",
           "Newcastle",
           "R_CB",
           "right"
          ],
          [
           "JackStephens",
           "Southampton",
           "R_CB",
           "right"
          ],
          [
           "JamalLascelles",
           "Newcastle",
           "R_CB",
           "right"
          ],
          [
           "JamesTarkowski",
           "Burnley",
           "R_CB",
           "right"
          ],
          [
           "JamesTomkins",
           "Crystal Palace",
           "R_CB",
           "right"
          ],
          [
           "JoelMatip",
           "Liverpool",
           "R_CB",
           "right"
          ],
          [
           "JohnStones",
           "Man City",
           "R_CB",
           "right"
          ],
          [
           "JoseFonte",
           "West Ham",
           "R_CB",
           "right"
          ],
          [
           "KevinLong",
           "Burnley",
           "R_CB",
           "right"
          ],
          [
           "KurtZouma",
           "Stoke",
           "R_CB",
           "right"
          ],
          [
           "LaurentKoscielny",
           "Arsenal",
           "R_CB",
           "right"
          ],
          [
           "MartinKelly",
           "Crystal Palace",
           "R_CB",
           "right"
          ],
          [
           "MasonHolgate",
           "Everton",
           "R_CB",
           "right"
          ],
          [
           "MayaYoshida",
           "Southampton",
           "R_CB",
           "right"
          ],
          [
           "MichaelKeane",
           "Everton",
           "R_CB",
           "right"
          ],
          [
           "MikevanderHoorn",
           "Swansea",
           "R_CB",
           "right"
          ],
          [
           "MollaWague",
           "Watford",
           "R_CB",
           "right"
          ],
          [
           "NicolasOtamendi",
           "Man City",
           "R_CB",
           "right"
          ],
          [
           "PhilJagielka",
           "Everton",
           "R_CB",
           "right"
          ],
          [
           "PhilJones",
           "Man Utd",
           "R_CB",
           "right"
          ],
          [
           "RyanShawcross",
           "Stoke",
           "R_CB",
           "right"
          ],
          [
           "ScottDann",
           "Crystal Palace",
           "R_CB",
           "right"
          ],
          [
           "SebastianProdl",
           "Watford",
           "R_CB",
           "right"
          ],
          [
           "ShaneDuffy",
           "Brighton",
           "R_CB",
           "right"
          ],
          [
           "ShkodranMustafi",
           "Arsenal",
           "R_CB",
           "right"
          ],
          [
           "SimonFrancis",
           "Bournemouth",
           "R_CB",
           "right"
          ],
          [
           "SteveCook",
           "Bournemouth",
           "R_CB",
           "right"
          ],
          [
           "TimothyFosuMensah",
           "Crystal Palace",
           "R_CB",
           "right"
          ],
          [
           "TobyAlderweireld",
           "Spurs",
           "R_CB",
           "right"
          ],
          [
           "VictorNilssonLindelof",
           "Man Utd",
           "R_CB",
           "right"
          ],
          [
           "VincentKompany",
           "Man City",
           "R_CB",
           "right"
          ],
          [
           "VirgilvanDijk",
           "Liverpool",
           "R_CB",
           "right"
          ],
          [
           "VirgilvanDijk",
           "Southampton",
           "R_CB",
           "right"
          ],
          [
           "WesMorgan",
           "Leicester",
           "R_CB",
           "right"
          ],
          [
           "WinstonReid",
           "West Ham",
           "R_CB",
           "right"
          ],
          [
           "YounesKaboul",
           "Watford",
           "R_CB",
           "right"
          ],
          [
           "Zanka",
           "Huddersfield",
           "R_CB",
           "right"
          ]
         ],
         "hovertemplate": "groups=1<br>att_LF_pref=%{x}<br>att_LF_off=%{y}<br>player_name=%{customdata[0]}<br>team=%{customdata[1]}<br>position=%{customdata[2]}<br>footedness=%{customdata[3]}<extra></extra>",
         "legendgroup": "1",
         "marker": {
          "color": "#ab63fa",
          "symbol": "circle"
         },
         "mode": "markers",
         "name": "1",
         "orientation": "v",
         "showlegend": true,
         "type": "scatter",
         "x": [
          8.57,
          22.22,
          19.15,
          26.09,
          25,
          10.69,
          12.28,
          26.47,
          13.46,
          9.89,
          8.33,
          9.68,
          4.32,
          26.53,
          17.92,
          5.33,
          25.22,
          12.71,
          19.36,
          11.21,
          5.56,
          14.6,
          13.64,
          9.57,
          12.7,
          18.28,
          13.74,
          13.95,
          0,
          7.14,
          15.56,
          16.85,
          11.54,
          11.21,
          15.38,
          25,
          17.7,
          4.79,
          10.17,
          16.75,
          14.81,
          11.67,
          15.15,
          10.73,
          22.58,
          21.05,
          10.11,
          18.42,
          14.29,
          8.29
         ],
         "xaxis": "x",
         "y": [
          4.3655923412491875,
          1.4448658815429856,
          2.504659661402305,
          3.6025737645104527,
          8.358411118388176,
          2.681941292913897,
          5.216372665017843,
          4.494533408433199,
          5.423480528406799,
          1.063190383353719,
          5.391900427639484,
          4.575621802359819,
          2.0802206293280636,
          1.6129262333449264,
          0.9994894949599139,
          4.618492532664766,
          3.562150126845952,
          2.1308638465901217,
          1.3797285412497158,
          3.4256671206094325,
          0.10299962013959885,
          4.438122385181487,
          4.5750948290030165,
          2.8282922523265532,
          -0.14808459673076868,
          3.8869995212949373,
          4.044081472481291,
          3.1955813562187054,
          0,
          3.777015178153912,
          4.316217465592282,
          2.353509978180931,
          4.866227507591248,
          0.4946442980629703,
          -1.2696835328824818,
          1.7551190501667169,
          2.4872210126853096,
          2.740404801443219,
          1.0503375281890233,
          2.2487469283597807,
          11.310458416119218,
          5.599264055490494,
          10.32012808136642,
          0.7970484855052616,
          3.8069610350898335,
          -3.0325960251502693,
          0.06077998679959112,
          3.8727381200130497,
          10.004158907880386,
          0.5311489615949893
         ],
         "yaxis": "y"
        },
        {
         "customdata": [
          [
           "AhmedHegazi",
           "West Brom",
           "CB",
           "right"
          ],
          [
           "AndreasChristensen",
           "Chelsea",
           "CB",
           "right"
          ],
          [
           "AngeloOgbonna",
           "West Ham",
           "CB",
           "left"
          ],
          [
           "AshleyWilliams",
           "Everton",
           "CB",
           "right"
          ],
          [
           "ChristianKabasele",
           "Watford",
           "CB",
           "right"
          ],
          [
           "DavidLuiz",
           "Chelsea",
           "CB",
           "right"
          ],
          [
           "DavinsonSanchez",
           "Spurs",
           "CB",
           "right"
          ],
          [
           "FedericoFernandez",
           "Swansea",
           "CB",
           "right"
          ],
          [
           "GaryCahill",
           "Chelsea",
           "CB",
           "right"
          ],
          [
           "JohnStones",
           "Man City",
           "CB",
           "right"
          ],
          [
           "JonnyEvans",
           "West Brom",
           "CB",
           "right"
          ],
          [
           "MayaYoshida",
           "Southampton",
           "CB",
           "right"
          ],
          [
           "NachoMonreal",
           "Arsenal",
           "CB",
           "left"
          ],
          [
           "PerMertesacker",
           "Arsenal",
           "CB",
           "right"
          ],
          [
           "RyanShawcross",
           "Stoke",
           "CB",
           "right"
          ],
          [
           "ScottDann",
           "Crystal Palace",
           "CB",
           "right"
          ],
          [
           "SebastianProdl",
           "Watford",
           "CB",
           "right"
          ],
          [
           "ShkodranMustafi",
           "Arsenal",
           "CB",
           "right"
          ],
          [
           "SteveCook",
           "Bournemouth",
           "CB",
           "right"
          ],
          [
           "WinstonReid",
           "West Ham",
           "CB",
           "right"
          ]
         ],
         "hovertemplate": "groups=4<br>att_LF_pref=%{x}<br>att_LF_off=%{y}<br>player_name=%{customdata[0]}<br>team=%{customdata[1]}<br>position=%{customdata[2]}<br>footedness=%{customdata[3]}<extra></extra>",
         "legendgroup": "4",
         "marker": {
          "color": "#FFA15A",
          "symbol": "circle"
         },
         "mode": "markers",
         "name": "4",
         "orientation": "v",
         "showlegend": true,
         "type": "scatter",
         "x": [
          23.73,
          15.99,
          32.37,
          13.51,
          31.82,
          27.05,
          19.35,
          13.57,
          12.31,
          20.83,
          14.29,
          42,
          30.23,
          16.39,
          18.46,
          43.24,
          27.12,
          19.79,
          17.14,
          21.15
         ],
         "xaxis": "x",
         "y": [
          3.9018908282741904,
          3.5054790192937597,
          2.5937562834264503,
          3.3657927066087723,
          6.221437826752663,
          4.27030165905528,
          1.6870726055155199,
          5.956083156266494,
          2.698827302083373,
          2.183653600513935,
          8.74599744565785,
          1.900397108069488,
          2.213283907622099,
          3.1337011605501175,
          4.406899485426645,
          2.144485042663291,
          5.304603648255579,
          3.1167236219688847,
          1.9555037094202512,
          4.100282676517963
         ],
         "yaxis": "y"
        }
       ],
       "layout": {
        "autosize": true,
        "legend": {
         "title": {
          "text": "groups"
         },
         "tracegroupgap": 0
        },
        "margin": {
         "t": 60
        },
        "template": {
         "data": {
          "bar": [
           {
            "error_x": {
             "color": "#2a3f5f"
            },
            "error_y": {
             "color": "#2a3f5f"
            },
            "marker": {
             "line": {
              "color": "#E5ECF6",
              "width": 0.5
             }
            },
            "type": "bar"
           }
          ],
          "barpolar": [
           {
            "marker": {
             "line": {
              "color": "#E5ECF6",
              "width": 0.5
             }
            },
            "type": "barpolar"
           }
          ],
          "carpet": [
           {
            "aaxis": {
             "endlinecolor": "#2a3f5f",
             "gridcolor": "white",
             "linecolor": "white",
             "minorgridcolor": "white",
             "startlinecolor": "#2a3f5f"
            },
            "baxis": {
             "endlinecolor": "#2a3f5f",
             "gridcolor": "white",
             "linecolor": "white",
             "minorgridcolor": "white",
             "startlinecolor": "#2a3f5f"
            },
            "type": "carpet"
           }
          ],
          "choropleth": [
           {
            "colorbar": {
             "outlinewidth": 0,
             "ticks": ""
            },
            "type": "choropleth"
           }
          ],
          "contour": [
           {
            "colorbar": {
             "outlinewidth": 0,
             "ticks": ""
            },
            "colorscale": [
             [
              0,
              "#0d0887"
             ],
             [
              0.1111111111111111,
              "#46039f"
             ],
             [
              0.2222222222222222,
              "#7201a8"
             ],
             [
              0.3333333333333333,
              "#9c179e"
             ],
             [
              0.4444444444444444,
              "#bd3786"
             ],
             [
              0.5555555555555556,
              "#d8576b"
             ],
             [
              0.6666666666666666,
              "#ed7953"
             ],
             [
              0.7777777777777778,
              "#fb9f3a"
             ],
             [
              0.8888888888888888,
              "#fdca26"
             ],
             [
              1,
              "#f0f921"
             ]
            ],
            "type": "contour"
           }
          ],
          "contourcarpet": [
           {
            "colorbar": {
             "outlinewidth": 0,
             "ticks": ""
            },
            "type": "contourcarpet"
           }
          ],
          "heatmap": [
           {
            "colorbar": {
             "outlinewidth": 0,
             "ticks": ""
            },
            "colorscale": [
             [
              0,
              "#0d0887"
             ],
             [
              0.1111111111111111,
              "#46039f"
             ],
             [
              0.2222222222222222,
              "#7201a8"
             ],
             [
              0.3333333333333333,
              "#9c179e"
             ],
             [
              0.4444444444444444,
              "#bd3786"
             ],
             [
              0.5555555555555556,
              "#d8576b"
             ],
             [
              0.6666666666666666,
              "#ed7953"
             ],
             [
              0.7777777777777778,
              "#fb9f3a"
             ],
             [
              0.8888888888888888,
              "#fdca26"
             ],
             [
              1,
              "#f0f921"
             ]
            ],
            "type": "heatmap"
           }
          ],
          "heatmapgl": [
           {
            "colorbar": {
             "outlinewidth": 0,
             "ticks": ""
            },
            "colorscale": [
             [
              0,
              "#0d0887"
             ],
             [
              0.1111111111111111,
              "#46039f"
             ],
             [
              0.2222222222222222,
              "#7201a8"
             ],
             [
              0.3333333333333333,
              "#9c179e"
             ],
             [
              0.4444444444444444,
              "#bd3786"
             ],
             [
              0.5555555555555556,
              "#d8576b"
             ],
             [
              0.6666666666666666,
              "#ed7953"
             ],
             [
              0.7777777777777778,
              "#fb9f3a"
             ],
             [
              0.8888888888888888,
              "#fdca26"
             ],
             [
              1,
              "#f0f921"
             ]
            ],
            "type": "heatmapgl"
           }
          ],
          "histogram": [
           {
            "marker": {
             "colorbar": {
              "outlinewidth": 0,
              "ticks": ""
             }
            },
            "type": "histogram"
           }
          ],
          "histogram2d": [
           {
            "colorbar": {
             "outlinewidth": 0,
             "ticks": ""
            },
            "colorscale": [
             [
              0,
              "#0d0887"
             ],
             [
              0.1111111111111111,
              "#46039f"
             ],
             [
              0.2222222222222222,
              "#7201a8"
             ],
             [
              0.3333333333333333,
              "#9c179e"
             ],
             [
              0.4444444444444444,
              "#bd3786"
             ],
             [
              0.5555555555555556,
              "#d8576b"
             ],
             [
              0.6666666666666666,
              "#ed7953"
             ],
             [
              0.7777777777777778,
              "#fb9f3a"
             ],
             [
              0.8888888888888888,
              "#fdca26"
             ],
             [
              1,
              "#f0f921"
             ]
            ],
            "type": "histogram2d"
           }
          ],
          "histogram2dcontour": [
           {
            "colorbar": {
             "outlinewidth": 0,
             "ticks": ""
            },
            "colorscale": [
             [
              0,
              "#0d0887"
             ],
             [
              0.1111111111111111,
              "#46039f"
             ],
             [
              0.2222222222222222,
              "#7201a8"
             ],
             [
              0.3333333333333333,
              "#9c179e"
             ],
             [
              0.4444444444444444,
              "#bd3786"
             ],
             [
              0.5555555555555556,
              "#d8576b"
             ],
             [
              0.6666666666666666,
              "#ed7953"
             ],
             [
              0.7777777777777778,
              "#fb9f3a"
             ],
             [
              0.8888888888888888,
              "#fdca26"
             ],
             [
              1,
              "#f0f921"
             ]
            ],
            "type": "histogram2dcontour"
           }
          ],
          "mesh3d": [
           {
            "colorbar": {
             "outlinewidth": 0,
             "ticks": ""
            },
            "type": "mesh3d"
           }
          ],
          "parcoords": [
           {
            "line": {
             "colorbar": {
              "outlinewidth": 0,
              "ticks": ""
             }
            },
            "type": "parcoords"
           }
          ],
          "pie": [
           {
            "automargin": true,
            "type": "pie"
           }
          ],
          "scatter": [
           {
            "marker": {
             "colorbar": {
              "outlinewidth": 0,
              "ticks": ""
             }
            },
            "type": "scatter"
           }
          ],
          "scatter3d": [
           {
            "line": {
             "colorbar": {
              "outlinewidth": 0,
              "ticks": ""
             }
            },
            "marker": {
             "colorbar": {
              "outlinewidth": 0,
              "ticks": ""
             }
            },
            "type": "scatter3d"
           }
          ],
          "scattercarpet": [
           {
            "marker": {
             "colorbar": {
              "outlinewidth": 0,
              "ticks": ""
             }
            },
            "type": "scattercarpet"
           }
          ],
          "scattergeo": [
           {
            "marker": {
             "colorbar": {
              "outlinewidth": 0,
              "ticks": ""
             }
            },
            "type": "scattergeo"
           }
          ],
          "scattergl": [
           {
            "marker": {
             "colorbar": {
              "outlinewidth": 0,
              "ticks": ""
             }
            },
            "type": "scattergl"
           }
          ],
          "scattermapbox": [
           {
            "marker": {
             "colorbar": {
              "outlinewidth": 0,
              "ticks": ""
             }
            },
            "type": "scattermapbox"
           }
          ],
          "scatterpolar": [
           {
            "marker": {
             "colorbar": {
              "outlinewidth": 0,
              "ticks": ""
             }
            },
            "type": "scatterpolar"
           }
          ],
          "scatterpolargl": [
           {
            "marker": {
             "colorbar": {
              "outlinewidth": 0,
              "ticks": ""
             }
            },
            "type": "scatterpolargl"
           }
          ],
          "scatterternary": [
           {
            "marker": {
             "colorbar": {
              "outlinewidth": 0,
              "ticks": ""
             }
            },
            "type": "scatterternary"
           }
          ],
          "surface": [
           {
            "colorbar": {
             "outlinewidth": 0,
             "ticks": ""
            },
            "colorscale": [
             [
              0,
              "#0d0887"
             ],
             [
              0.1111111111111111,
              "#46039f"
             ],
             [
              0.2222222222222222,
              "#7201a8"
             ],
             [
              0.3333333333333333,
              "#9c179e"
             ],
             [
              0.4444444444444444,
              "#bd3786"
             ],
             [
              0.5555555555555556,
              "#d8576b"
             ],
             [
              0.6666666666666666,
              "#ed7953"
             ],
             [
              0.7777777777777778,
              "#fb9f3a"
             ],
             [
              0.8888888888888888,
              "#fdca26"
             ],
             [
              1,
              "#f0f921"
             ]
            ],
            "type": "surface"
           }
          ],
          "table": [
           {
            "cells": {
             "fill": {
              "color": "#EBF0F8"
             },
             "line": {
              "color": "white"
             }
            },
            "header": {
             "fill": {
              "color": "#C8D4E3"
             },
             "line": {
              "color": "white"
             }
            },
            "type": "table"
           }
          ]
         },
         "layout": {
          "annotationdefaults": {
           "arrowcolor": "#2a3f5f",
           "arrowhead": 0,
           "arrowwidth": 1
          },
          "coloraxis": {
           "colorbar": {
            "outlinewidth": 0,
            "ticks": ""
           }
          },
          "colorscale": {
           "diverging": [
            [
             0,
             "#8e0152"
            ],
            [
             0.1,
             "#c51b7d"
            ],
            [
             0.2,
             "#de77ae"
            ],
            [
             0.3,
             "#f1b6da"
            ],
            [
             0.4,
             "#fde0ef"
            ],
            [
             0.5,
             "#f7f7f7"
            ],
            [
             0.6,
             "#e6f5d0"
            ],
            [
             0.7,
             "#b8e186"
            ],
            [
             0.8,
             "#7fbc41"
            ],
            [
             0.9,
             "#4d9221"
            ],
            [
             1,
             "#276419"
            ]
           ],
           "sequential": [
            [
             0,
             "#0d0887"
            ],
            [
             0.1111111111111111,
             "#46039f"
            ],
            [
             0.2222222222222222,
             "#7201a8"
            ],
            [
             0.3333333333333333,
             "#9c179e"
            ],
            [
             0.4444444444444444,
             "#bd3786"
            ],
            [
             0.5555555555555556,
             "#d8576b"
            ],
            [
             0.6666666666666666,
             "#ed7953"
            ],
            [
             0.7777777777777778,
             "#fb9f3a"
            ],
            [
             0.8888888888888888,
             "#fdca26"
            ],
            [
             1,
             "#f0f921"
            ]
           ],
           "sequentialminus": [
            [
             0,
             "#0d0887"
            ],
            [
             0.1111111111111111,
             "#46039f"
            ],
            [
             0.2222222222222222,
             "#7201a8"
            ],
            [
             0.3333333333333333,
             "#9c179e"
            ],
            [
             0.4444444444444444,
             "#bd3786"
            ],
            [
             0.5555555555555556,
             "#d8576b"
            ],
            [
             0.6666666666666666,
             "#ed7953"
            ],
            [
             0.7777777777777778,
             "#fb9f3a"
            ],
            [
             0.8888888888888888,
             "#fdca26"
            ],
            [
             1,
             "#f0f921"
            ]
           ]
          },
          "colorway": [
           "#636efa",
           "#EF553B",
           "#00cc96",
           "#ab63fa",
           "#FFA15A",
           "#19d3f3",
           "#FF6692",
           "#B6E880",
           "#FF97FF",
           "#FECB52"
          ],
          "font": {
           "color": "#2a3f5f"
          },
          "geo": {
           "bgcolor": "white",
           "lakecolor": "white",
           "landcolor": "#E5ECF6",
           "showlakes": true,
           "showland": true,
           "subunitcolor": "white"
          },
          "hoverlabel": {
           "align": "left"
          },
          "hovermode": "closest",
          "mapbox": {
           "style": "light"
          },
          "paper_bgcolor": "white",
          "plot_bgcolor": "#E5ECF6",
          "polar": {
           "angularaxis": {
            "gridcolor": "white",
            "linecolor": "white",
            "ticks": ""
           },
           "bgcolor": "#E5ECF6",
           "radialaxis": {
            "gridcolor": "white",
            "linecolor": "white",
            "ticks": ""
           }
          },
          "scene": {
           "xaxis": {
            "backgroundcolor": "#E5ECF6",
            "gridcolor": "white",
            "gridwidth": 2,
            "linecolor": "white",
            "showbackground": true,
            "ticks": "",
            "zerolinecolor": "white"
           },
           "yaxis": {
            "backgroundcolor": "#E5ECF6",
            "gridcolor": "white",
            "gridwidth": 2,
            "linecolor": "white",
            "showbackground": true,
            "ticks": "",
            "zerolinecolor": "white"
           },
           "zaxis": {
            "backgroundcolor": "#E5ECF6",
            "gridcolor": "white",
            "gridwidth": 2,
            "linecolor": "white",
            "showbackground": true,
            "ticks": "",
            "zerolinecolor": "white"
           }
          },
          "shapedefaults": {
           "line": {
            "color": "#2a3f5f"
           }
          },
          "ternary": {
           "aaxis": {
            "gridcolor": "white",
            "linecolor": "white",
            "ticks": ""
           },
           "baxis": {
            "gridcolor": "white",
            "linecolor": "white",
            "ticks": ""
           },
           "bgcolor": "#E5ECF6",
           "caxis": {
            "gridcolor": "white",
            "linecolor": "white",
            "ticks": ""
           }
          },
          "title": {
           "x": 0.05
          },
          "xaxis": {
           "automargin": true,
           "gridcolor": "white",
           "linecolor": "white",
           "ticks": "",
           "title": {
            "standoff": 15
           },
           "zerolinecolor": "white",
           "zerolinewidth": 2
          },
          "yaxis": {
           "automargin": true,
           "gridcolor": "white",
           "linecolor": "white",
           "ticks": "",
           "title": {
            "standoff": 15
           },
           "zerolinecolor": "white",
           "zerolinewidth": 2
          }
         }
        },
        "xaxis": {
         "anchor": "y",
         "autorange": true,
         "domain": [
          0,
          1
         ],
         "range": [
          -3.62359772978959,
          62.71359772978959
         ],
         "title": {
          "text": "att_LF_pref"
         },
         "type": "linear"
        },
        "yaxis": {
         "anchor": "x",
         "autorange": true,
         "domain": [
          0,
          1
         ],
         "range": [
          -9.406590889358952,
          12.682094526628092
         ],
         "title": {
          "text": "att_LF_off"
         },
         "type": "linear"
        }
       }
      },
      "image/png": "[encoded data removed]",
      "text/html": [
       "<div>\n",
       "        \n",
       "        \n",
       "            <div id=\"cefb0f10-0d33-47ee-aebc-61217e1a385f\" class=\"plotly-graph-div\" style=\"height:525px; width:100%;\"></div>\n",
       "            <script type=\"text/javascript\">\n",
       "                require([\"plotly\"], function(Plotly) {\n",
       "                    window.PLOTLYENV=window.PLOTLYENV || {};\n",
       "                    \n",
       "                if (document.getElementById(\"cefb0f10-0d33-47ee-aebc-61217e1a385f\")) {\n",
       "                    Plotly.newPlot(\n",
       "                        'cefb0f10-0d33-47ee-aebc-61217e1a385f',\n",
       "                        [{\"customdata\": [[\"AaronCresswell\", \"West Ham\", \"LCB\", \"left\"], [\"AngeloOgbonna\", \"West Ham\", \"LCB\", \"left\"], [\"AngeloOgbonna\", \"West Ham\", \"L_CB\", \"left\"], [\"AymericLaporte\", \"Man City\", \"L_CB\", \"left\"], [\"BenMee\", \"Burnley\", \"L_CB\", \"left\"], [\"BrunoMartinsIndi\", \"Stoke\", \"LCB\", \"left\"], [\"BrunoMartinsIndi\", \"Stoke\", \"L_CB\", \"left\"], [\"CiaranClark\", \"Newcastle\", \"LCB\", \"left\"], [\"CiaranClark\", \"Newcastle\", \"L_CB\", \"left\"], [\"EliaquimMangala\", \"Man City\", \"L_CB\", \"left\"], [\"ErikPieters\", \"Stoke\", \"LCB\", \"left\"], [\"JanVertonghen\", \"Spurs\", \"LCB\", \"left\"], [\"JanVertonghen\", \"Spurs\", \"L_CB\", \"left\"], [\"JoseHolebas\", \"Watford\", \"LCB\", \"left\"], [\"KevinWimmer\", \"Stoke\", \"LCB\", \"left\"], [\"KevinWimmer\", \"Stoke\", \"L_CB\", \"left\"], [\"MamadouSakho\", \"Crystal Palace\", \"L_CB\", \"left\"], [\"MarcosRojo\", \"Man Utd\", \"L_CB\", \"left\"], [\"MiguelBritos\", \"Watford\", \"LCB\", \"left\"], [\"MiguelBritos\", \"Watford\", \"L_CB\", \"left\"], [\"NachoMonreal\", \"Arsenal\", \"LCB\", \"left\"], [\"NachoMonreal\", \"Arsenal\", \"L_CB\", \"left\"], [\"NathanAke\", \"Bournemouth\", \"LCB\", \"left\"], [\"NathanAke\", \"Bournemouth\", \"L_CB\", \"left\"], [\"PaulDummett\", \"Newcastle\", \"LCB\", \"left\"], [\"RagnarKlavan\", \"Liverpool\", \"L_CB\", \"left\"], [\"SeadKolasinac\", \"Arsenal\", \"LCB\", \"left\"], [\"TyroneMings\", \"Bournemouth\", \"LCB\", \"left\"], [\"WesleyHoedt\", \"Southampton\", \"LCB\", \"left\"], [\"WesleyHoedt\", \"Southampton\", \"L_CB\", \"left\"]], \"hovertemplate\": \"groups=2<br>att_LF_pref=%{x}<br>att_LF_off=%{y}<br>player_name=%{customdata[0]}<br>team=%{customdata[1]}<br>position=%{customdata[2]}<br>footedness=%{customdata[3]}<extra></extra>\", \"legendgroup\": \"2\", \"marker\": {\"color\": \"#636efa\", \"symbol\": \"circle\"}, \"mode\": \"markers\", \"name\": \"2\", \"orientation\": \"v\", \"showlegend\": true, \"type\": \"scatter\", \"x\": [56.73, 56.76, 38.82, 52.05, 38.46, 41.94, 27.78, 59.09, 38.15, 48.94, 47.83, 49.79, 33.41, 35.71, 41.98, 23.68, 39.66, 27.4, 54.55, 41.79, 57.58, 44.74, 49.32, 45.96, 50.0, 42.41, 54.76, 30.77, 50.43, 46.76], \"xaxis\": \"x\", \"y\": [4.098572081719071, 1.9985423478785727, 0.9022159008027026, 2.4337058918278536, 2.2949893831868065, 1.9569040204469976, 2.7024144073948264, 2.5903024853995213, 3.6414319042567955, 3.2785317617590013, 1.5852431004697625, 2.6399221820517993, 3.1638427726214844, 6.152582983486354, 2.87464729455464, 0.7639753425286876, 1.367502218193334, 3.120013396255672, 2.1375806148474417, 3.9435072602438073, 2.9770730792446747, 2.4285080760498254, 2.737288363277912, 3.2427487851775907, 1.1289719576862727, 2.393740300383223, 3.181874225644962, 2.858881081920117, 3.302164371835731, 4.009193327808141], \"yaxis\": \"y\"}, {\"customdata\": [[\"AdrianMariappa\", \"Watford\", \"L_CB\", \"right\"], [\"AhmedHegazi\", \"West Brom\", \"LCB\", \"right\"], [\"AhmedHegazi\", \"West Brom\", \"L_CB\", \"right\"], [\"AlfieMawson\", \"Swansea\", \"LCB\", \"right\"], [\"AlfieMawson\", \"Swansea\", \"L_CB\", \"right\"], [\"AntonioRudiger\", \"Chelsea\", \"LCB\", \"right\"], [\"AshleyWilliams\", \"Everton\", \"L_CB\", \"right\"], [\"CalumChambers\", \"Arsenal\", \"L_CB\", \"right\"], [\"ChrisSmalling\", \"Man Utd\", \"L_CB\", \"right\"], [\"ChristianKabasele\", \"Watford\", \"LCB\", \"right\"], [\"ChristianKabasele\", \"Watford\", \"L_CB\", \"right\"], [\"ChristopherSchindler\", \"Huddersfield\", \"L_CB\", \"right\"], [\"Danilo\", \"Man City\", \"RCB\", \"right\"], [\"DeclanRice\", \"West Ham\", \"LCB\", \"right\"], [\"DejanLovren\", \"Liverpool\", \"L_CB\", \"right\"], [\"FlorianLejeune\", \"Newcastle\", \"L_CB\", \"right\"], [\"GaryCahill\", \"Chelsea\", \"LCB\", \"right\"], [\"GeoffCameron\", \"Stoke\", \"LCB\", \"right\"], [\"HarryMaguire\", \"Leicester\", \"L_CB\", \"right\"], [\"JamesCollins\", \"West Ham\", \"LCB\", \"right\"], [\"JamesTarkowski\", \"Burnley\", \"L_CB\", \"right\"], [\"JamesTomkins\", \"Crystal Palace\", \"L_CB\", \"right\"], [\"JonnyEvans\", \"West Brom\", \"LCB\", \"right\"], [\"JonnyEvans\", \"West Brom\", \"L_CB\", \"right\"], [\"KurtZouma\", \"Stoke\", \"L_CB\", \"right\"], [\"LaurentKoscielny\", \"Arsenal\", \"LCB\", \"right\"], [\"LaurentKoscielny\", \"Arsenal\", \"L_CB\", \"right\"], [\"LewisDunk\", \"Brighton\", \"L_CB\", \"right\"], [\"MayaYoshida\", \"Southampton\", \"L_CB\", \"right\"], [\"MichaelKeane\", \"Everton\", \"L_CB\", \"right\"], [\"NicolasOtamendi\", \"Man City\", \"LCB\", \"right\"], [\"NicolasOtamendi\", \"Man City\", \"L_CB\", \"right\"], [\"PhilJagielka\", \"Everton\", \"LCB\", \"right\"], [\"PhilJagielka\", \"Everton\", \"L_CB\", \"right\"], [\"PhilJones\", \"Man Utd\", \"LCB\", \"right\"], [\"PhilJones\", \"Man Utd\", \"L_CB\", \"right\"], [\"RobHolding\", \"Arsenal\", \"LCB\", \"right\"], [\"RobHolding\", \"Arsenal\", \"L_CB\", \"right\"], [\"ScottDann\", \"Crystal Palace\", \"L_CB\", \"right\"], [\"ShkodranMustafi\", \"Arsenal\", \"L_CB\", \"right\"], [\"TobyAlderweireld\", \"Spurs\", \"L_CB\", \"right\"], [\"VictorNilssonLindelof\", \"Man Utd\", \"L_CB\", \"right\"], [\"VirgilvanDijk\", \"Liverpool\", \"L_CB\", \"right\"], [\"VirgilvanDijk\", \"Southampton\", \"L_CB\", \"right\"], [\"WinstonReid\", \"West Ham\", \"L_CB\", \"right\"]], \"hovertemplate\": \"groups=0<br>att_LF_pref=%{x}<br>att_LF_off=%{y}<br>player_name=%{customdata[0]}<br>team=%{customdata[1]}<br>position=%{customdata[2]}<br>footedness=%{customdata[3]}<extra></extra>\", \"legendgroup\": \"0\", \"marker\": {\"color\": \"#EF553B\", \"symbol\": \"circle\"}, \"mode\": \"markers\", \"name\": \"0\", \"orientation\": \"v\", \"showlegend\": true, \"type\": \"scatter\", \"x\": [43.48, 28.21, 27.97, 24.55, 24.9, 36.51, 38.54, 43.75, 29.17, 46.94, 29.63, 42.44, 34.38, 50.0, 35.0, 33.92, 45.83, 28.57, 46.37, 28.57, 43.48, 36.84, 42.86, 35.78, 25.42, 27.59, 37.93, 30.26, 25.58, 29.41, 40.0, 36.56, 47.06, 30.3, 55.0, 35.29, 40.74, 36.73, 50.85, 23.4, 57.89, 42.59, 37.22, 38.53, 27.03], \"xaxis\": \"x\", \"y\": [1.573852461297065, 3.284208518876271, 1.4707616840799649, 1.751663764430718, 1.5939529609656142, 3.5253157899917467, 0.9858715756972496, -0.45445824175008703, 2.239386218466929, 2.6731046686029956, 1.8300940428161994, 2.559042448663841, 2.6320878162302757, 0.5409785292365334, 3.38858202476764, 3.067481742760578, 2.932616563736122, 4.455182119272649, 2.901105547283331, 2.5120226200670004, 4.37515884405002, 4.592833574861288, 2.2699835147553435, 1.9523970042474759, 0.48057289483646554, 4.617627942934632, 1.5749868471175432, 2.627905300360615, 2.890782324935902, 2.0530012643171682, 3.326743350563837, 1.1590490280650556, 0.5195983103476465, 1.6338350833393633, 1.9778336017307911, 2.731342737873395, 3.1689067625186658, 1.880292819502453, 4.881818313151598, -0.17791525037451222, 2.645843323658813, 3.69199142669854, 2.858032190510218, 3.6900777236691544, 1.8510754453018308], \"yaxis\": \"y\"}, {\"customdata\": [[\"AdrianMariappa\", \"Watford\", \"RCB\", \"right\"], [\"AntonioRudiger\", \"Chelsea\", \"RCB\", \"right\"], [\"CalumChambers\", \"Arsenal\", \"RCB\", \"right\"], [\"CesarAzpilicueta\", \"Chelsea\", \"RCB\", \"right\"], [\"CraigDawson\", \"West Brom\", \"RCB\", \"right\"], [\"DavinsonSanchez\", \"Spurs\", \"RCB\", \"right\"], [\"DeclanRice\", \"West Ham\", \"RCB\", \"right\"], [\"EricBailly\", \"Man Utd\", \"RCB\", \"right\"], [\"GarethMcAuley\", \"West Brom\", \"RCB\", \"right\"], [\"JackStephens\", \"Southampton\", \"RCB\", \"right\"], [\"JamesCollins\", \"West Ham\", \"RCB\", \"right\"], [\"JanBednarek\", \"Southampton\", \"RCB\", \"right\"], [\"JoseFonte\", \"West Ham\", \"RCB\", \"right\"], [\"KurtZouma\", \"Stoke\", \"RCB\", \"right\"], [\"KyleNaughton\", \"Swansea\", \"RCB\", \"right\"], [\"LaurentKoscielny\", \"Arsenal\", \"RCB\", \"right\"], [\"MichaelKeane\", \"Everton\", \"RCB\", \"right\"], [\"MikevanderHoorn\", \"Swansea\", \"RCB\", \"right\"], [\"RobHolding\", \"Arsenal\", \"RCB\", \"right\"], [\"ShkodranMustafi\", \"Arsenal\", \"RCB\", \"right\"], [\"SimonFrancis\", \"Bournemouth\", \"RCB\", \"right\"], [\"SteveCook\", \"Bournemouth\", \"RCB\", \"right\"], [\"TimothyFosuMensah\", \"Crystal Palace\", \"RCB\", \"right\"], [\"TobyAlderweireld\", \"Spurs\", \"RCB\", \"right\"], [\"VincentKompany\", \"Man City\", \"RCB\", \"right\"], [\"WinstonReid\", \"West Ham\", \"RCB\", \"right\"], [\"Zanka\", \"Huddersfield\", \"RCB\", \"right\"]], \"hovertemplate\": \"groups=3<br>att_LF_pref=%{x}<br>att_LF_off=%{y}<br>player_name=%{customdata[0]}<br>team=%{customdata[1]}<br>position=%{customdata[2]}<br>footedness=%{customdata[3]}<extra></extra>\", \"legendgroup\": \"3\", \"marker\": {\"color\": \"#00cc96\", \"symbol\": \"circle\"}, \"mode\": \"markers\", \"name\": \"3\", \"orientation\": \"v\", \"showlegend\": true, \"type\": \"scatter\", \"x\": [8.25, 27.42, 8.93, 5.75, 8.7, 9.76, 5.94, 4.55, 10.0, 11.11, 11.29, 2.56, 10.77, 17.7, 0.0, 7.42, 6.67, 4.58, 6.67, 3.23, 10.64, 9.68, 14.71, 17.28, 11.54, 12.07, 0.0], \"xaxis\": \"x\", \"y\": [3.4598800993990153, 4.036659073522862, 0.06614187732338905, 2.3781313197460117, 4.5554300110476715, 1.1896235519088805, 9.567246655933559, -2.5924472138285637, -0.40565043066938716, 1.540372536207239, 1.1129402888140507, -8.034954778850079, 2.7097033536327735, 3.7862407974898815, 0.0, 3.101898850325276, 2.6748330953220525, -0.8821569693585237, 0.8134350064210594, -0.8065085858106613, 3.8284865984072285, 0.630517645428578, 2.4672851897776127, 1.7987880938952523, 4.179152349630992, 3.716140120689358, 0.0], \"yaxis\": \"y\"}, {\"customdata\": [[\"AdrianMariappa\", \"Watford\", \"R_CB\", \"right\"], [\"AhmedHegazi\", \"West Brom\", \"R_CB\", \"right\"], [\"AleksandarDragovic\", \"Leicester\", \"R_CB\", \"right\"], [\"AshleyWilliams\", \"Everton\", \"R_CB\", \"right\"], [\"CalumChambers\", \"Arsenal\", \"R_CB\", \"right\"], [\"ChrisSmalling\", \"Man Utd\", \"R_CB\", \"right\"], [\"ChristianKabasele\", \"Watford\", \"R_CB\", \"right\"], [\"CraigCathcart\", \"Watford\", \"R_CB\", \"right\"], [\"CraigDawson\", \"West Brom\", \"R_CB\", \"right\"], [\"DavinsonSanchez\", \"Spurs\", \"R_CB\", \"right\"], [\"DejanLovren\", \"Liverpool\", \"R_CB\", \"right\"], [\"EricBailly\", \"Man Utd\", \"R_CB\", \"right\"], [\"FedericoFernandez\", \"Swansea\", \"R_CB\", \"right\"], [\"FlorianLejeune\", \"Newcastle\", \"R_CB\", \"right\"], [\"JackStephens\", \"Southampton\", \"R_CB\", \"right\"], [\"JamalLascelles\", \"Newcastle\", \"R_CB\", \"right\"], [\"JamesTarkowski\", \"Burnley\", \"R_CB\", \"right\"], [\"JamesTomkins\", \"Crystal Palace\", \"R_CB\", \"right\"], [\"JoelMatip\", \"Liverpool\", \"R_CB\", \"right\"], [\"JohnStones\", \"Man City\", \"R_CB\", \"right\"], [\"JoseFonte\", \"West Ham\", \"R_CB\", \"right\"], [\"KevinLong\", \"Burnley\", \"R_CB\", \"right\"], [\"KurtZouma\", \"Stoke\", \"R_CB\", \"right\"], [\"LaurentKoscielny\", \"Arsenal\", \"R_CB\", \"right\"], [\"MartinKelly\", \"Crystal Palace\", \"R_CB\", \"right\"], [\"MasonHolgate\", \"Everton\", \"R_CB\", \"right\"], [\"MayaYoshida\", \"Southampton\", \"R_CB\", \"right\"], [\"MichaelKeane\", \"Everton\", \"R_CB\", \"right\"], [\"MikevanderHoorn\", \"Swansea\", \"R_CB\", \"right\"], [\"MollaWague\", \"Watford\", \"R_CB\", \"right\"], [\"NicolasOtamendi\", \"Man City\", \"R_CB\", \"right\"], [\"PhilJagielka\", \"Everton\", \"R_CB\", \"right\"], [\"PhilJones\", \"Man Utd\", \"R_CB\", \"right\"], [\"RyanShawcross\", \"Stoke\", \"R_CB\", \"right\"], [\"ScottDann\", \"Crystal Palace\", \"R_CB\", \"right\"], [\"SebastianProdl\", \"Watford\", \"R_CB\", \"right\"], [\"ShaneDuffy\", \"Brighton\", \"R_CB\", \"right\"], [\"ShkodranMustafi\", \"Arsenal\", \"R_CB\", \"right\"], [\"SimonFrancis\", \"Bournemouth\", \"R_CB\", \"right\"], [\"SteveCook\", \"Bournemouth\", \"R_CB\", \"right\"], [\"TimothyFosuMensah\", \"Crystal Palace\", \"R_CB\", \"right\"], [\"TobyAlderweireld\", \"Spurs\", \"R_CB\", \"right\"], [\"VictorNilssonLindelof\", \"Man Utd\", \"R_CB\", \"right\"], [\"VincentKompany\", \"Man City\", \"R_CB\", \"right\"], [\"VirgilvanDijk\", \"Liverpool\", \"R_CB\", \"right\"], [\"VirgilvanDijk\", \"Southampton\", \"R_CB\", \"right\"], [\"WesMorgan\", \"Leicester\", \"R_CB\", \"right\"], [\"WinstonReid\", \"West Ham\", \"R_CB\", \"right\"], [\"YounesKaboul\", \"Watford\", \"R_CB\", \"right\"], [\"Zanka\", \"Huddersfield\", \"R_CB\", \"right\"]], \"hovertemplate\": \"groups=1<br>att_LF_pref=%{x}<br>att_LF_off=%{y}<br>player_name=%{customdata[0]}<br>team=%{customdata[1]}<br>position=%{customdata[2]}<br>footedness=%{customdata[3]}<extra></extra>\", \"legendgroup\": \"1\", \"marker\": {\"color\": \"#ab63fa\", \"symbol\": \"circle\"}, \"mode\": \"markers\", \"name\": \"1\", \"orientation\": \"v\", \"showlegend\": true, \"type\": \"scatter\", \"x\": [8.57, 22.22, 19.15, 26.09, 25.0, 10.69, 12.28, 26.47, 13.46, 9.89, 8.33, 9.68, 4.32, 26.53, 17.92, 5.33, 25.22, 12.71, 19.36, 11.21, 5.56, 14.6, 13.64, 9.57, 12.7, 18.28, 13.74, 13.95, 0.0, 7.14, 15.56, 16.85, 11.54, 11.21, 15.38, 25.0, 17.7, 4.79, 10.17, 16.75, 14.81, 11.67, 15.15, 10.73, 22.58, 21.05, 10.11, 18.42, 14.29, 8.29], \"xaxis\": \"x\", \"y\": [4.3655923412491875, 1.4448658815429856, 2.504659661402305, 3.6025737645104527, 8.358411118388176, 2.681941292913897, 5.216372665017843, 4.494533408433199, 5.423480528406799, 1.063190383353719, 5.391900427639484, 4.575621802359819, 2.0802206293280636, 1.6129262333449264, 0.9994894949599139, 4.618492532664766, 3.562150126845952, 2.1308638465901217, 1.3797285412497158, 3.4256671206094325, 0.10299962013959885, 4.438122385181487, 4.5750948290030165, 2.8282922523265532, -0.14808459673076868, 3.8869995212949373, 4.044081472481291, 3.1955813562187054, 0.0, 3.777015178153912, 4.316217465592282, 2.353509978180931, 4.866227507591248, 0.4946442980629703, -1.2696835328824818, 1.7551190501667169, 2.4872210126853096, 2.740404801443219, 1.0503375281890233, 2.2487469283597807, 11.310458416119218, 5.599264055490494, 10.32012808136642, 0.7970484855052616, 3.8069610350898335, -3.0325960251502693, 0.06077998679959112, 3.8727381200130497, 10.004158907880386, 0.5311489615949893], \"yaxis\": \"y\"}, {\"customdata\": [[\"AhmedHegazi\", \"West Brom\", \"CB\", \"right\"], [\"AndreasChristensen\", \"Chelsea\", \"CB\", \"right\"], [\"AngeloOgbonna\", \"West Ham\", \"CB\", \"left\"], [\"AshleyWilliams\", \"Everton\", \"CB\", \"right\"], [\"ChristianKabasele\", \"Watford\", \"CB\", \"right\"], [\"DavidLuiz\", \"Chelsea\", \"CB\", \"right\"], [\"DavinsonSanchez\", \"Spurs\", \"CB\", \"right\"], [\"FedericoFernandez\", \"Swansea\", \"CB\", \"right\"], [\"GaryCahill\", \"Chelsea\", \"CB\", \"right\"], [\"JohnStones\", \"Man City\", \"CB\", \"right\"], [\"JonnyEvans\", \"West Brom\", \"CB\", \"right\"], [\"MayaYoshida\", \"Southampton\", \"CB\", \"right\"], [\"NachoMonreal\", \"Arsenal\", \"CB\", \"left\"], [\"PerMertesacker\", \"Arsenal\", \"CB\", \"right\"], [\"RyanShawcross\", \"Stoke\", \"CB\", \"right\"], [\"ScottDann\", \"Crystal Palace\", \"CB\", \"right\"], [\"SebastianProdl\", \"Watford\", \"CB\", \"right\"], [\"ShkodranMustafi\", \"Arsenal\", \"CB\", \"right\"], [\"SteveCook\", \"Bournemouth\", \"CB\", \"right\"], [\"WinstonReid\", \"West Ham\", \"CB\", \"right\"]], \"hovertemplate\": \"groups=4<br>att_LF_pref=%{x}<br>att_LF_off=%{y}<br>player_name=%{customdata[0]}<br>team=%{customdata[1]}<br>position=%{customdata[2]}<br>footedness=%{customdata[3]}<extra></extra>\", \"legendgroup\": \"4\", \"marker\": {\"color\": \"#FFA15A\", \"symbol\": \"circle\"}, \"mode\": \"markers\", \"name\": \"4\", \"orientation\": \"v\", \"showlegend\": true, \"type\": \"scatter\", \"x\": [23.73, 15.99, 32.37, 13.51, 31.82, 27.05, 19.35, 13.57, 12.31, 20.83, 14.29, 42.0, 30.23, 16.39, 18.46, 43.24, 27.12, 19.79, 17.14, 21.15], \"xaxis\": \"x\", \"y\": [3.9018908282741904, 3.5054790192937597, 2.5937562834264503, 3.3657927066087723, 6.221437826752663, 4.27030165905528, 1.6870726055155199, 5.956083156266494, 2.698827302083373, 2.183653600513935, 8.74599744565785, 1.900397108069488, 2.213283907622099, 3.1337011605501175, 4.406899485426645, 2.144485042663291, 5.304603648255579, 3.1167236219688847, 1.9555037094202512, 4.100282676517963], \"yaxis\": \"y\"}],\n",
       "                        {\"legend\": {\"title\": {\"text\": \"groups\"}, \"tracegroupgap\": 0}, \"margin\": {\"t\": 60}, \"template\": {\"data\": {\"bar\": [{\"error_x\": {\"color\": \"#2a3f5f\"}, \"error_y\": {\"color\": \"#2a3f5f\"}, \"marker\": {\"line\": {\"color\": \"#E5ECF6\", \"width\": 0.5}}, \"type\": \"bar\"}], \"barpolar\": [{\"marker\": {\"line\": {\"color\": \"#E5ECF6\", \"width\": 0.5}}, \"type\": \"barpolar\"}], \"carpet\": [{\"aaxis\": {\"endlinecolor\": \"#2a3f5f\", \"gridcolor\": \"white\", \"linecolor\": \"white\", \"minorgridcolor\": \"white\", \"startlinecolor\": \"#2a3f5f\"}, \"baxis\": {\"endlinecolor\": \"#2a3f5f\", \"gridcolor\": \"white\", \"linecolor\": \"white\", \"minorgridcolor\": \"white\", \"startlinecolor\": \"#2a3f5f\"}, \"type\": \"carpet\"}], \"choropleth\": [{\"colorbar\": {\"outlinewidth\": 0, \"ticks\": \"\"}, \"type\": \"choropleth\"}], \"contour\": [{\"colorbar\": {\"outlinewidth\": 0, \"ticks\": \"\"}, \"colorscale\": [[0.0, \"#0d0887\"], [0.1111111111111111, \"#46039f\"], [0.2222222222222222, \"#7201a8\"], [0.3333333333333333, \"#9c179e\"], [0.4444444444444444, \"#bd3786\"], [0.5555555555555556, \"#d8576b\"], [0.6666666666666666, \"#ed7953\"], [0.7777777777777778, \"#fb9f3a\"], [0.8888888888888888, \"#fdca26\"], [1.0, \"#f0f921\"]], \"type\": \"contour\"}], \"contourcarpet\": [{\"colorbar\": {\"outlinewidth\": 0, \"ticks\": \"\"}, \"type\": \"contourcarpet\"}], \"heatmap\": [{\"colorbar\": {\"outlinewidth\": 0, \"ticks\": \"\"}, \"colorscale\": [[0.0, \"#0d0887\"], [0.1111111111111111, \"#46039f\"], [0.2222222222222222, \"#7201a8\"], [0.3333333333333333, \"#9c179e\"], [0.4444444444444444, \"#bd3786\"], [0.5555555555555556, \"#d8576b\"], [0.6666666666666666, \"#ed7953\"], [0.7777777777777778, \"#fb9f3a\"], [0.8888888888888888, \"#fdca26\"], [1.0, \"#f0f921\"]], \"type\": \"heatmap\"}], \"heatmapgl\": [{\"colorbar\": {\"outlinewidth\": 0, \"ticks\": \"\"}, \"colorscale\": [[0.0, \"#0d0887\"], [0.1111111111111111, \"#46039f\"], [0.2222222222222222, \"#7201a8\"], [0.3333333333333333, \"#9c179e\"], [0.4444444444444444, \"#bd3786\"], [0.5555555555555556, \"#d8576b\"], [0.6666666666666666, \"#ed7953\"], [0.7777777777777778, \"#fb9f3a\"], [0.8888888888888888, \"#fdca26\"], [1.0, \"#f0f921\"]], \"type\": \"heatmapgl\"}], \"histogram\": [{\"marker\": {\"colorbar\": {\"outlinewidth\": 0, \"ticks\": \"\"}}, \"type\": \"histogram\"}], \"histogram2d\": [{\"colorbar\": {\"outlinewidth\": 0, \"ticks\": \"\"}, \"colorscale\": [[0.0, \"#0d0887\"], [0.1111111111111111, \"#46039f\"], [0.2222222222222222, \"#7201a8\"], [0.3333333333333333, \"#9c179e\"], [0.4444444444444444, \"#bd3786\"], [0.5555555555555556, \"#d8576b\"], [0.6666666666666666, \"#ed7953\"], [0.7777777777777778, \"#fb9f3a\"], [0.8888888888888888, \"#fdca26\"], [1.0, \"#f0f921\"]], \"type\": \"histogram2d\"}], \"histogram2dcontour\": [{\"colorbar\": {\"outlinewidth\": 0, \"ticks\": \"\"}, \"colorscale\": [[0.0, \"#0d0887\"], [0.1111111111111111, \"#46039f\"], [0.2222222222222222, \"#7201a8\"], [0.3333333333333333, \"#9c179e\"], [0.4444444444444444, \"#bd3786\"], [0.5555555555555556, \"#d8576b\"], [0.6666666666666666, \"#ed7953\"], [0.7777777777777778, \"#fb9f3a\"], [0.8888888888888888, \"#fdca26\"], [1.0, \"#f0f921\"]], \"type\": \"histogram2dcontour\"}], \"mesh3d\": [{\"colorbar\": {\"outlinewidth\": 0, \"ticks\": \"\"}, \"type\": \"mesh3d\"}], \"parcoords\": [{\"line\": {\"colorbar\": {\"outlinewidth\": 0, \"ticks\": \"\"}}, \"type\": \"parcoords\"}], \"pie\": [{\"automargin\": true, \"type\": \"pie\"}], \"scatter\": [{\"marker\": {\"colorbar\": {\"outlinewidth\": 0, \"ticks\": \"\"}}, \"type\": \"scatter\"}], \"scatter3d\": [{\"line\": {\"colorbar\": {\"outlinewidth\": 0, \"ticks\": \"\"}}, \"marker\": {\"colorbar\": {\"outlinewidth\": 0, \"ticks\": \"\"}}, \"type\": \"scatter3d\"}], \"scattercarpet\": [{\"marker\": {\"colorbar\": {\"outlinewidth\": 0, \"ticks\": \"\"}}, \"type\": \"scattercarpet\"}], \"scattergeo\": [{\"marker\": {\"colorbar\": {\"outlinewidth\": 0, \"ticks\": \"\"}}, \"type\": \"scattergeo\"}], \"scattergl\": [{\"marker\": {\"colorbar\": {\"outlinewidth\": 0, \"ticks\": \"\"}}, \"type\": \"scattergl\"}], \"scattermapbox\": [{\"marker\": {\"colorbar\": {\"outlinewidth\": 0, \"ticks\": \"\"}}, \"type\": \"scattermapbox\"}], \"scatterpolar\": [{\"marker\": {\"colorbar\": {\"outlinewidth\": 0, \"ticks\": \"\"}}, \"type\": \"scatterpolar\"}], \"scatterpolargl\": [{\"marker\": {\"colorbar\": {\"outlinewidth\": 0, \"ticks\": \"\"}}, \"type\": \"scatterpolargl\"}], \"scatterternary\": [{\"marker\": {\"colorbar\": {\"outlinewidth\": 0, \"ticks\": \"\"}}, \"type\": \"scatterternary\"}], \"surface\": [{\"colorbar\": {\"outlinewidth\": 0, \"ticks\": \"\"}, \"colorscale\": [[0.0, \"#0d0887\"], [0.1111111111111111, \"#46039f\"], [0.2222222222222222, \"#7201a8\"], [0.3333333333333333, \"#9c179e\"], [0.4444444444444444, \"#bd3786\"], [0.5555555555555556, \"#d8576b\"], [0.6666666666666666, \"#ed7953\"], [0.7777777777777778, \"#fb9f3a\"], [0.8888888888888888, \"#fdca26\"], [1.0, \"#f0f921\"]], \"type\": \"surface\"}], \"table\": [{\"cells\": {\"fill\": {\"color\": \"#EBF0F8\"}, \"line\": {\"color\": \"white\"}}, \"header\": {\"fill\": {\"color\": \"#C8D4E3\"}, \"line\": {\"color\": \"white\"}}, \"type\": \"table\"}]}, \"layout\": {\"annotationdefaults\": {\"arrowcolor\": \"#2a3f5f\", \"arrowhead\": 0, \"arrowwidth\": 1}, \"coloraxis\": {\"colorbar\": {\"outlinewidth\": 0, \"ticks\": \"\"}}, \"colorscale\": {\"diverging\": [[0, \"#8e0152\"], [0.1, \"#c51b7d\"], [0.2, \"#de77ae\"], [0.3, \"#f1b6da\"], [0.4, \"#fde0ef\"], [0.5, \"#f7f7f7\"], [0.6, \"#e6f5d0\"], [0.7, \"#b8e186\"], [0.8, \"#7fbc41\"], [0.9, \"#4d9221\"], [1, \"#276419\"]], \"sequential\": [[0.0, \"#0d0887\"], [0.1111111111111111, \"#46039f\"], [0.2222222222222222, \"#7201a8\"], [0.3333333333333333, \"#9c179e\"], [0.4444444444444444, \"#bd3786\"], [0.5555555555555556, \"#d8576b\"], [0.6666666666666666, \"#ed7953\"], [0.7777777777777778, \"#fb9f3a\"], [0.8888888888888888, \"#fdca26\"], [1.0, \"#f0f921\"]], \"sequentialminus\": [[0.0, \"#0d0887\"], [0.1111111111111111, \"#46039f\"], [0.2222222222222222, \"#7201a8\"], [0.3333333333333333, \"#9c179e\"], [0.4444444444444444, \"#bd3786\"], [0.5555555555555556, \"#d8576b\"], [0.6666666666666666, \"#ed7953\"], [0.7777777777777778, \"#fb9f3a\"], [0.8888888888888888, \"#fdca26\"], [1.0, \"#f0f921\"]]}, \"colorway\": [\"#636efa\", \"#EF553B\", \"#00cc96\", \"#ab63fa\", \"#FFA15A\", \"#19d3f3\", \"#FF6692\", \"#B6E880\", \"#FF97FF\", \"#FECB52\"], \"font\": {\"color\": \"#2a3f5f\"}, \"geo\": {\"bgcolor\": \"white\", \"lakecolor\": \"white\", \"landcolor\": \"#E5ECF6\", \"showlakes\": true, \"showland\": true, \"subunitcolor\": \"white\"}, \"hoverlabel\": {\"align\": \"left\"}, \"hovermode\": \"closest\", \"mapbox\": {\"style\": \"light\"}, \"paper_bgcolor\": \"white\", \"plot_bgcolor\": \"#E5ECF6\", \"polar\": {\"angularaxis\": {\"gridcolor\": \"white\", \"linecolor\": \"white\", \"ticks\": \"\"}, \"bgcolor\": \"#E5ECF6\", \"radialaxis\": {\"gridcolor\": \"white\", \"linecolor\": \"white\", \"ticks\": \"\"}}, \"scene\": {\"xaxis\": {\"backgroundcolor\": \"#E5ECF6\", \"gridcolor\": \"white\", \"gridwidth\": 2, \"linecolor\": \"white\", \"showbackground\": true, \"ticks\": \"\", \"zerolinecolor\": \"white\"}, \"yaxis\": {\"backgroundcolor\": \"#E5ECF6\", \"gridcolor\": \"white\", \"gridwidth\": 2, \"linecolor\": \"white\", \"showbackground\": true, \"ticks\": \"\", \"zerolinecolor\": \"white\"}, \"zaxis\": {\"backgroundcolor\": \"#E5ECF6\", \"gridcolor\": \"white\", \"gridwidth\": 2, \"linecolor\": \"white\", \"showbackground\": true, \"ticks\": \"\", \"zerolinecolor\": \"white\"}}, \"shapedefaults\": {\"line\": {\"color\": \"#2a3f5f\"}}, \"ternary\": {\"aaxis\": {\"gridcolor\": \"white\", \"linecolor\": \"white\", \"ticks\": \"\"}, \"baxis\": {\"gridcolor\": \"white\", \"linecolor\": \"white\", \"ticks\": \"\"}, \"bgcolor\": \"#E5ECF6\", \"caxis\": {\"gridcolor\": \"white\", \"linecolor\": \"white\", \"ticks\": \"\"}}, \"title\": {\"x\": 0.05}, \"xaxis\": {\"automargin\": true, \"gridcolor\": \"white\", \"linecolor\": \"white\", \"ticks\": \"\", \"title\": {\"standoff\": 15}, \"zerolinecolor\": \"white\", \"zerolinewidth\": 2}, \"yaxis\": {\"automargin\": true, \"gridcolor\": \"white\", \"linecolor\": \"white\", \"ticks\": \"\", \"title\": {\"standoff\": 15}, \"zerolinecolor\": \"white\", \"zerolinewidth\": 2}}}, \"xaxis\": {\"anchor\": \"y\", \"domain\": [0.0, 1.0], \"title\": {\"text\": \"att_LF_pref\"}}, \"yaxis\": {\"anchor\": \"x\", \"domain\": [0.0, 1.0], \"title\": {\"text\": \"att_LF_off\"}}},\n",
       "                        {\"responsive\": true}\n",
       "                    ).then(function(){\n",
       "                            \n",
       "var gd = document.getElementById('cefb0f10-0d33-47ee-aebc-61217e1a385f');\n",
       "var x = new MutationObserver(function (mutations, observer) {{\n",
       "        var display = window.getComputedStyle(gd).display;\n",
       "        if (!display || display === 'none') {{\n",
       "            console.log([gd, 'removed!']);\n",
       "            Plotly.purge(gd);\n",
       "            observer.disconnect();\n",
       "        }}\n",
       "}});\n",
       "\n",
       "// Listen for the removal of the full notebook cells\n",
       "var notebookContainer = gd.closest('#notebook-container');\n",
       "if (notebookContainer) {{\n",
       "    x.observe(notebookContainer, {childList: true});\n",
       "}}\n",
       "\n",
       "// Listen for the clearing of the current output cell\n",
       "var outputEl = gd.closest('.output');\n",
       "if (outputEl) {{\n",
       "    x.observe(outputEl, {childList: true});\n",
       "}}\n",
       "\n",
       "                        })\n",
       "                };\n",
       "                });\n",
       "            </script>\n",
       "        </div>"
      ]
     },
     "metadata": {},
     "output_type": "display_data"
    }
   ],
   "source": [
    "plot_groups(cb_data_grp_copy,'LF')"
   ]
  },
  {
   "cell_type": "code",
   "execution_count": 116,
   "metadata": {},
   "outputs": [
    {
     "name": "stdout",
     "output_type": "stream",
     "text": [
      "[t-SNE] Computing 91 nearest neighbors...\n",
      "[t-SNE] Indexed 172 samples in 0.000s...\n",
      "[t-SNE] Computed neighbors for 172 samples in 0.006s...\n",
      "[t-SNE] Computed conditional probabilities for sample 172 / 172\n",
      "[t-SNE] Mean sigma: 8.407005\n",
      "[t-SNE] KL divergence after 250 iterations with early exaggeration: 53.842789\n",
      "[t-SNE] KL divergence after 700 iterations: 0.357614\n"
     ]
    }
   ],
   "source": [
    "tsne = TSNE(n_components=2, perplexity=30, verbose=1,n_iter=700, metric = 'euclidean')\n",
    "tsne_results = tsne.fit_transform(cb_data_grp_copy.iloc[:,5:-1])"
   ]
  },
  {
   "cell_type": "code",
   "execution_count": 117,
   "metadata": {},
   "outputs": [
    {
     "data": {
      "text/plain": [
       "<matplotlib.legend.Legend at 0x7facb45587d0>"
      ]
     },
     "execution_count": 117,
     "metadata": {},
     "output_type": "execute_result"
    },
    {
     "data": {
      "image/png": "[encoded data removed]",
      "text/plain": [
       "<Figure size 1440x720 with 1 Axes>"
      ]
     },
     "metadata": {
      "needs_background": "light"
     },
     "output_type": "display_data"
    }
   ],
   "source": [
    "plt.figure(figsize=(20,10))\n",
    "scatter1 = plt.scatter(tsne_results[:,0],tsne_results[:,1],c=cb_data_grp_copy['groups'].tolist(),cmap='Paired')\n",
    "plt.legend(*scatter1.legend_elements())"
   ]
  },
  {
   "cell_type": "code",
   "execution_count": null,
   "metadata": {},
   "outputs": [],
   "source": []
  }
 ],
 "metadata": {
  "kernelspec": {
   "display_name": "Python 3",
   "language": "python",
   "name": "python3"
  },
  "language_info": {
   "codemirror_mode": {
    "name": "ipython",
    "version": 3
   },
   "file_extension": ".py",
   "mimetype": "text/x-python",
   "name": "python",
   "nbconvert_exporter": "python",
   "pygments_lexer": "ipython3",
   "version": "3.7.6"
  }
 },
 "nbformat": 4,
 "nbformat_minor": 4
}
