{
 "cells": [
  {
   "cell_type": "code",
   "execution_count": 252,
   "metadata": {},
   "outputs": [],
   "source": [
    "import numpy as np\n",
    "import pandas as pd\n",
    "import pickle\n",
    "import plotly.graph_objects as go\n"
   ]
  },
  {
   "cell_type": "code",
   "execution_count": 218,
   "metadata": {},
   "outputs": [],
   "source": [
    "# Reading defender wise passing attributes dataset\n",
    "defender_attrs = pd.read_pickle('../data/defender_clustering_dataset.pkl')"
   ]
  },
  {
   "cell_type": "code",
   "execution_count": 219,
   "metadata": {},
   "outputs": [],
   "source": [
    "# Filtering out left center backs from this dataset for both 4 at the back and non 4 at the back formations\n",
    "defender_attrs_lcb = defender_attrs.loc[(defender_attrs['position']=='LCB') | (defender_attrs['position']=='L_CB')]"
   ]
  },
  {
   "cell_type": "code",
   "execution_count": 220,
   "metadata": {},
   "outputs": [
    {
     "data": {
      "text/html": [
       "<div>\n",
       "<style scoped>\n",
       "    .dataframe tbody tr th:only-of-type {\n",
       "        vertical-align: middle;\n",
       "    }\n",
       "\n",
       "    .dataframe tbody tr th {\n",
       "        vertical-align: top;\n",
       "    }\n",
       "\n",
       "    .dataframe thead th {\n",
       "        text-align: right;\n",
       "    }\n",
       "</style>\n",
       "<table border=\"1\" class=\"dataframe\">\n",
       "  <thead>\n",
       "    <tr style=\"text-align: right;\">\n",
       "      <th></th>\n",
       "      <th>player_name</th>\n",
       "      <th>team</th>\n",
       "      <th>position</th>\n",
       "      <th>footedness</th>\n",
       "      <th>passes</th>\n",
       "      <th>accpass</th>\n",
       "      <th>accpassloc</th>\n",
       "      <th>inaccpassloc</th>\n",
       "      <th>accpassvaep</th>\n",
       "      <th>inaccpassvaep</th>\n",
       "      <th>accpassoff</th>\n",
       "      <th>inaccpassoff</th>\n",
       "      <th>accpassdef</th>\n",
       "      <th>inaccpassdef</th>\n",
       "      <th>matches_played</th>\n",
       "    </tr>\n",
       "  </thead>\n",
       "  <tbody>\n",
       "    <tr>\n",
       "      <th>1</th>\n",
       "      <td>AaronCresswell</td>\n",
       "      <td>West Ham</td>\n",
       "      <td>LCB</td>\n",
       "      <td>left</td>\n",
       "      <td>796</td>\n",
       "      <td>644</td>\n",
       "      <td>[[[27.04, 51.68], [55.12, 64.6]], [[65.52, 61....</td>\n",
       "      <td>[[[62.4, 51.0], [78.0, 49.64]], [[79.04, 61.2]...</td>\n",
       "      <td>[-0.0012921183370053768, 0.003276045434176922,...</td>\n",
       "      <td>[-0.007468235678970814, -0.010166996158659458,...</td>\n",
       "      <td>[0.0015182411298155785, 0.003629088867455721, ...</td>\n",
       "      <td>[-0.005851619876921177, -0.008341009728610516,...</td>\n",
       "      <td>[-0.0028103594668209553, -0.000353043549694120...</td>\n",
       "      <td>[-0.001616615685634315, -0.001825986779294908,...</td>\n",
       "      <td>20.0</td>\n",
       "    </tr>\n",
       "    <tr>\n",
       "      <th>7</th>\n",
       "      <td>AdrianMariappa</td>\n",
       "      <td>Watford</td>\n",
       "      <td>L_CB</td>\n",
       "      <td>right</td>\n",
       "      <td>179</td>\n",
       "      <td>144</td>\n",
       "      <td>[[[36.4, 45.56], [74.88, 48.28]], [[30.16, 46....</td>\n",
       "      <td>[[[43.68, 20.4], [42.64, 26.52]], [[27.04, 59....</td>\n",
       "      <td>[0.01236659474670887, 0.00999591127038002, -0....</td>\n",
       "      <td>[-0.018949441611766815, 0.00031638285145163536...</td>\n",
       "      <td>[0.007915441878139973, 0.009581996127963066, 0...</td>\n",
       "      <td>[0.0008363674860447645, -0.0007496089674532413...</td>\n",
       "      <td>[0.0044511533342301846, 0.0004139149095863104,...</td>\n",
       "      <td>[-0.01978580839931965, 0.0010659918189048767, ...</td>\n",
       "      <td>5.0</td>\n",
       "    </tr>\n",
       "    <tr>\n",
       "      <th>12</th>\n",
       "      <td>AhmedHegazi</td>\n",
       "      <td>West Brom</td>\n",
       "      <td>LCB</td>\n",
       "      <td>right</td>\n",
       "      <td>108</td>\n",
       "      <td>85</td>\n",
       "      <td>[[[30.16, 59.84], [8.32, 52.36]], [[13.52, 45....</td>\n",
       "      <td>[[[38.48, 63.24], [67.6, 62.56]], [[32.24, 57....</td>\n",
       "      <td>[0.0013909346889704466, 0.0030438450630754232,...</td>\n",
       "      <td>[0.0012411349453032017, -0.004462606739252806,...</td>\n",
       "      <td>[-0.0003790883347392082, 0.001926282187923789,...</td>\n",
       "      <td>[0.0025845221243798733, -0.0030214847065508366...</td>\n",
       "      <td>[0.0017700230237096548, 0.0011175628751516342,...</td>\n",
       "      <td>[-0.0013433871790766716, -0.001441122032701969...</td>\n",
       "      <td>3.0</td>\n",
       "    </tr>\n",
       "    <tr>\n",
       "      <th>13</th>\n",
       "      <td>AhmedHegazi</td>\n",
       "      <td>West Brom</td>\n",
       "      <td>L_CB</td>\n",
       "      <td>right</td>\n",
       "      <td>438</td>\n",
       "      <td>347</td>\n",
       "      <td>[[[31.2, 44.88], [41.6, 44.2]], [[46.8, 48.96]...</td>\n",
       "      <td>[[[41.6, 57.12], [70.72, 56.44]], [[27.04, 52....</td>\n",
       "      <td>[0.0022118184715509415, 0.004126500803977251, ...</td>\n",
       "      <td>[-0.000910191098228097, -0.008706741034984589,...</td>\n",
       "      <td>[0.0022044661454856396, 0.0031939628534018993,...</td>\n",
       "      <td>[0.0009662145748734474, -0.0024091354571282864...</td>\n",
       "      <td>[7.352326065301895e-06, 0.0009325379505753517,...</td>\n",
       "      <td>[-0.0018764056731015444, -0.006297605112195015...</td>\n",
       "      <td>16.0</td>\n",
       "    </tr>\n",
       "    <tr>\n",
       "      <th>21</th>\n",
       "      <td>AlfieMawson</td>\n",
       "      <td>Swansea</td>\n",
       "      <td>LCB</td>\n",
       "      <td>right</td>\n",
       "      <td>758</td>\n",
       "      <td>620</td>\n",
       "      <td>[[[22.88, 47.6], [28.08, 57.12]], [[42.64, 63....</td>\n",
       "      <td>[[[6.24, 65.28], [3.12, 66.64]], [[28.08, 60.5...</td>\n",
       "      <td>[0.03826572746038437, 0.0004356576828286052, 0...</td>\n",
       "      <td>[-0.0026828828267753124, -0.002081183949485421...</td>\n",
       "      <td>[0.0028381505981087685, 0.0005238638259470463,...</td>\n",
       "      <td>[0.0008291075937449932, -0.0001498661004006862...</td>\n",
       "      <td>[0.035427577793598175, -8.82061431184411e-05, ...</td>\n",
       "      <td>[-0.0035119904205203056, -0.001931317849084735...</td>\n",
       "      <td>19.0</td>\n",
       "    </tr>\n",
       "  </tbody>\n",
       "</table>\n",
       "</div>"
      ],
      "text/plain": [
       "       player_name       team position footedness  passes  accpass  \\\n",
       "1   AaronCresswell   West Ham      LCB       left     796      644   \n",
       "7   AdrianMariappa    Watford     L_CB      right     179      144   \n",
       "12     AhmedHegazi  West Brom      LCB      right     108       85   \n",
       "13     AhmedHegazi  West Brom     L_CB      right     438      347   \n",
       "21     AlfieMawson    Swansea      LCB      right     758      620   \n",
       "\n",
       "                                           accpassloc  \\\n",
       "1   [[[27.04, 51.68], [55.12, 64.6]], [[65.52, 61....   \n",
       "7   [[[36.4, 45.56], [74.88, 48.28]], [[30.16, 46....   \n",
       "12  [[[30.16, 59.84], [8.32, 52.36]], [[13.52, 45....   \n",
       "13  [[[31.2, 44.88], [41.6, 44.2]], [[46.8, 48.96]...   \n",
       "21  [[[22.88, 47.6], [28.08, 57.12]], [[42.64, 63....   \n",
       "\n",
       "                                         inaccpassloc  \\\n",
       "1   [[[62.4, 51.0], [78.0, 49.64]], [[79.04, 61.2]...   \n",
       "7   [[[43.68, 20.4], [42.64, 26.52]], [[27.04, 59....   \n",
       "12  [[[38.48, 63.24], [67.6, 62.56]], [[32.24, 57....   \n",
       "13  [[[41.6, 57.12], [70.72, 56.44]], [[27.04, 52....   \n",
       "21  [[[6.24, 65.28], [3.12, 66.64]], [[28.08, 60.5...   \n",
       "\n",
       "                                          accpassvaep  \\\n",
       "1   [-0.0012921183370053768, 0.003276045434176922,...   \n",
       "7   [0.01236659474670887, 0.00999591127038002, -0....   \n",
       "12  [0.0013909346889704466, 0.0030438450630754232,...   \n",
       "13  [0.0022118184715509415, 0.004126500803977251, ...   \n",
       "21  [0.03826572746038437, 0.0004356576828286052, 0...   \n",
       "\n",
       "                                        inaccpassvaep  \\\n",
       "1   [-0.007468235678970814, -0.010166996158659458,...   \n",
       "7   [-0.018949441611766815, 0.00031638285145163536...   \n",
       "12  [0.0012411349453032017, -0.004462606739252806,...   \n",
       "13  [-0.000910191098228097, -0.008706741034984589,...   \n",
       "21  [-0.0026828828267753124, -0.002081183949485421...   \n",
       "\n",
       "                                           accpassoff  \\\n",
       "1   [0.0015182411298155785, 0.003629088867455721, ...   \n",
       "7   [0.007915441878139973, 0.009581996127963066, 0...   \n",
       "12  [-0.0003790883347392082, 0.001926282187923789,...   \n",
       "13  [0.0022044661454856396, 0.0031939628534018993,...   \n",
       "21  [0.0028381505981087685, 0.0005238638259470463,...   \n",
       "\n",
       "                                         inaccpassoff  \\\n",
       "1   [-0.005851619876921177, -0.008341009728610516,...   \n",
       "7   [0.0008363674860447645, -0.0007496089674532413...   \n",
       "12  [0.0025845221243798733, -0.0030214847065508366...   \n",
       "13  [0.0009662145748734474, -0.0024091354571282864...   \n",
       "21  [0.0008291075937449932, -0.0001498661004006862...   \n",
       "\n",
       "                                           accpassdef  \\\n",
       "1   [-0.0028103594668209553, -0.000353043549694120...   \n",
       "7   [0.0044511533342301846, 0.0004139149095863104,...   \n",
       "12  [0.0017700230237096548, 0.0011175628751516342,...   \n",
       "13  [7.352326065301895e-06, 0.0009325379505753517,...   \n",
       "21  [0.035427577793598175, -8.82061431184411e-05, ...   \n",
       "\n",
       "                                         inaccpassdef  matches_played  \n",
       "1   [-0.001616615685634315, -0.001825986779294908,...            20.0  \n",
       "7   [-0.01978580839931965, 0.0010659918189048767, ...             5.0  \n",
       "12  [-0.0013433871790766716, -0.001441122032701969...             3.0  \n",
       "13  [-0.0018764056731015444, -0.006297605112195015...            16.0  \n",
       "21  [-0.0035119904205203056, -0.001931317849084735...            19.0  "
      ]
     },
     "execution_count": 220,
     "metadata": {},
     "output_type": "execute_result"
    }
   ],
   "source": [
    "defender_attrs_lcb.head()"
   ]
  },
  {
   "cell_type": "code",
   "execution_count": 221,
   "metadata": {},
   "outputs": [],
   "source": [
    "# Function to get start and end location points for every row in df\n",
    "def getstartend(locs):\n",
    "    end_points = list()\n",
    "    start_points = list()\n",
    "    for point in locs:\n",
    "            if point != []:\n",
    "                end_points.append(point[1])\n",
    "                start_points.append(point[0])\n",
    "    return start_points,end_points"
   ]
  },
  {
   "cell_type": "code",
   "execution_count": 222,
   "metadata": {},
   "outputs": [],
   "source": [
    "# Function to segregate progressive passes for every row of pass location column\n",
    "def distfilter(locs,vaeps):\n",
    "    loc_start, loc_end = getstartend(locs)\n",
    "    progaccpass = 0\n",
    "    prog_accpasslocs = list()\n",
    "    prog_accpassvaeps = list()\n",
    "    for p1,p2,vaep in zip(loc_start,loc_end,vaeps):\n",
    "        dist = np.round(np.linalg.norm(np.array(p1) - np.array(p2)),2)\n",
    "        if p1[0] < 52 and dist >= 30 and p1[0] < p2[0]:\n",
    "            prog_accpasslocs.append([np.round(p1,2),np.round(p2,2)])\n",
    "            prog_accpassvaeps.append(vaep)\n",
    "        elif p1[0] > 52 and dist >= 10 and p1[0] < p2[0]:\n",
    "            prog_accpasslocs.append([np.round(p1,2),np.round(p2,2)])\n",
    "            prog_accpassvaeps.append(vaep)\n",
    "    progaccpass = len(prog_accpasslocs)\n",
    "    return pd.Series([prog_accpasslocs,prog_accpassvaeps,progaccpass])\n",
    "            "
   ]
  },
  {
   "cell_type": "code",
   "execution_count": 223,
   "metadata": {},
   "outputs": [
    {
     "name": "stderr",
     "output_type": "stream",
     "text": [
      "/Users/shreygrover/anaconda3/lib/python3.7/site-packages/pandas/core/frame.py:2963: SettingWithCopyWarning: \n",
      "A value is trying to be set on a copy of a slice from a DataFrame.\n",
      "Try using .loc[row_indexer,col_indexer] = value instead\n",
      "\n",
      "See the caveats in the documentation: https://pandas.pydata.org/pandas-docs/stable/user_guide/indexing.html#returning-a-view-versus-a-copy\n",
      "  self[k1] = value[k2]\n"
     ]
    }
   ],
   "source": [
    "defender_attrs_lcb[['progaccpassloc','progaccpassvaep','progaccpass']] = defender_attrs_lcb.apply(lambda x: distfilter(x['accpassloc'],x['accpassvaep']), axis = 1)"
   ]
  },
  {
   "cell_type": "code",
   "execution_count": 224,
   "metadata": {},
   "outputs": [],
   "source": [
    "defender_attrs_lcb.reset_index(inplace = True)"
   ]
  },
  {
   "cell_type": "code",
   "execution_count": 225,
   "metadata": {},
   "outputs": [
    {
     "data": {
      "text/html": [
       "<div>\n",
       "<style scoped>\n",
       "    .dataframe tbody tr th:only-of-type {\n",
       "        vertical-align: middle;\n",
       "    }\n",
       "\n",
       "    .dataframe tbody tr th {\n",
       "        vertical-align: top;\n",
       "    }\n",
       "\n",
       "    .dataframe thead th {\n",
       "        text-align: right;\n",
       "    }\n",
       "</style>\n",
       "<table border=\"1\" class=\"dataframe\">\n",
       "  <thead>\n",
       "    <tr style=\"text-align: right;\">\n",
       "      <th></th>\n",
       "      <th>index</th>\n",
       "      <th>player_name</th>\n",
       "      <th>team</th>\n",
       "      <th>position</th>\n",
       "      <th>footedness</th>\n",
       "      <th>passes</th>\n",
       "      <th>accpass</th>\n",
       "      <th>accpassloc</th>\n",
       "      <th>inaccpassloc</th>\n",
       "      <th>accpassvaep</th>\n",
       "      <th>inaccpassvaep</th>\n",
       "      <th>accpassoff</th>\n",
       "      <th>inaccpassoff</th>\n",
       "      <th>accpassdef</th>\n",
       "      <th>inaccpassdef</th>\n",
       "      <th>matches_played</th>\n",
       "      <th>progaccpassloc</th>\n",
       "      <th>progaccpassvaep</th>\n",
       "      <th>progaccpass</th>\n",
       "    </tr>\n",
       "  </thead>\n",
       "  <tbody>\n",
       "    <tr>\n",
       "      <th>0</th>\n",
       "      <td>1</td>\n",
       "      <td>AaronCresswell</td>\n",
       "      <td>West Ham</td>\n",
       "      <td>LCB</td>\n",
       "      <td>left</td>\n",
       "      <td>796</td>\n",
       "      <td>644</td>\n",
       "      <td>[[[27.04, 51.68], [55.12, 64.6]], [[65.52, 61....</td>\n",
       "      <td>[[[62.4, 51.0], [78.0, 49.64]], [[79.04, 61.2]...</td>\n",
       "      <td>[-0.0012921183370053768, 0.003276045434176922,...</td>\n",
       "      <td>[-0.007468235678970814, -0.010166996158659458,...</td>\n",
       "      <td>[0.0015182411298155785, 0.003629088867455721, ...</td>\n",
       "      <td>[-0.005851619876921177, -0.008341009728610516,...</td>\n",
       "      <td>[-0.0028103594668209553, -0.000353043549694120...</td>\n",
       "      <td>[-0.001616615685634315, -0.001825986779294908,...</td>\n",
       "      <td>20.0</td>\n",
       "      <td>[[[27.04, 51.68], [55.12, 64.6]], [[61.36, 59....</td>\n",
       "      <td>[-0.0012921183370053768, 0.0036208073142915964...</td>\n",
       "      <td>184</td>\n",
       "    </tr>\n",
       "    <tr>\n",
       "      <th>1</th>\n",
       "      <td>7</td>\n",
       "      <td>AdrianMariappa</td>\n",
       "      <td>Watford</td>\n",
       "      <td>L_CB</td>\n",
       "      <td>right</td>\n",
       "      <td>179</td>\n",
       "      <td>144</td>\n",
       "      <td>[[[36.4, 45.56], [74.88, 48.28]], [[30.16, 46....</td>\n",
       "      <td>[[[43.68, 20.4], [42.64, 26.52]], [[27.04, 59....</td>\n",
       "      <td>[0.01236659474670887, 0.00999591127038002, -0....</td>\n",
       "      <td>[-0.018949441611766815, 0.00031638285145163536...</td>\n",
       "      <td>[0.007915441878139973, 0.009581996127963066, 0...</td>\n",
       "      <td>[0.0008363674860447645, -0.0007496089674532413...</td>\n",
       "      <td>[0.0044511533342301846, 0.0004139149095863104,...</td>\n",
       "      <td>[-0.01978580839931965, 0.0010659918189048767, ...</td>\n",
       "      <td>5.0</td>\n",
       "      <td>[[[36.4, 45.56], [74.88, 48.28]], [[30.16, 46....</td>\n",
       "      <td>[0.01236659474670887, 0.00999591127038002, 0.0...</td>\n",
       "      <td>29</td>\n",
       "    </tr>\n",
       "    <tr>\n",
       "      <th>2</th>\n",
       "      <td>12</td>\n",
       "      <td>AhmedHegazi</td>\n",
       "      <td>West Brom</td>\n",
       "      <td>LCB</td>\n",
       "      <td>right</td>\n",
       "      <td>108</td>\n",
       "      <td>85</td>\n",
       "      <td>[[[30.16, 59.84], [8.32, 52.36]], [[13.52, 45....</td>\n",
       "      <td>[[[38.48, 63.24], [67.6, 62.56]], [[32.24, 57....</td>\n",
       "      <td>[0.0013909346889704466, 0.0030438450630754232,...</td>\n",
       "      <td>[0.0012411349453032017, -0.004462606739252806,...</td>\n",
       "      <td>[-0.0003790883347392082, 0.001926282187923789,...</td>\n",
       "      <td>[0.0025845221243798733, -0.0030214847065508366...</td>\n",
       "      <td>[0.0017700230237096548, 0.0011175628751516342,...</td>\n",
       "      <td>[-0.0013433871790766716, -0.001441122032701969...</td>\n",
       "      <td>3.0</td>\n",
       "      <td>[[[9.36, 49.64], [46.8, 35.36]], [[59.28, 60.5...</td>\n",
       "      <td>[0.002894850680604577, 0.018502848222851753, 0...</td>\n",
       "      <td>25</td>\n",
       "    </tr>\n",
       "    <tr>\n",
       "      <th>3</th>\n",
       "      <td>13</td>\n",
       "      <td>AhmedHegazi</td>\n",
       "      <td>West Brom</td>\n",
       "      <td>L_CB</td>\n",
       "      <td>right</td>\n",
       "      <td>438</td>\n",
       "      <td>347</td>\n",
       "      <td>[[[31.2, 44.88], [41.6, 44.2]], [[46.8, 48.96]...</td>\n",
       "      <td>[[[41.6, 57.12], [70.72, 56.44]], [[27.04, 52....</td>\n",
       "      <td>[0.0022118184715509415, 0.004126500803977251, ...</td>\n",
       "      <td>[-0.000910191098228097, -0.008706741034984589,...</td>\n",
       "      <td>[0.0022044661454856396, 0.0031939628534018993,...</td>\n",
       "      <td>[0.0009662145748734474, -0.0024091354571282864...</td>\n",
       "      <td>[7.352326065301895e-06, 0.0009325379505753517,...</td>\n",
       "      <td>[-0.0018764056731015444, -0.006297605112195015...</td>\n",
       "      <td>16.0</td>\n",
       "      <td>[[[35.36, 38.08], [43.68, 5.44]], [[33.28, 38....</td>\n",
       "      <td>[-0.0015584089560434222, 0.006373148411512375,...</td>\n",
       "      <td>72</td>\n",
       "    </tr>\n",
       "    <tr>\n",
       "      <th>4</th>\n",
       "      <td>21</td>\n",
       "      <td>AlfieMawson</td>\n",
       "      <td>Swansea</td>\n",
       "      <td>LCB</td>\n",
       "      <td>right</td>\n",
       "      <td>758</td>\n",
       "      <td>620</td>\n",
       "      <td>[[[22.88, 47.6], [28.08, 57.12]], [[42.64, 63....</td>\n",
       "      <td>[[[6.24, 65.28], [3.12, 66.64]], [[28.08, 60.5...</td>\n",
       "      <td>[0.03826572746038437, 0.0004356576828286052, 0...</td>\n",
       "      <td>[-0.0026828828267753124, -0.002081183949485421...</td>\n",
       "      <td>[0.0028381505981087685, 0.0005238638259470463,...</td>\n",
       "      <td>[0.0008291075937449932, -0.0001498661004006862...</td>\n",
       "      <td>[0.035427577793598175, -8.82061431184411e-05, ...</td>\n",
       "      <td>[-0.0035119904205203056, -0.001931317849084735...</td>\n",
       "      <td>19.0</td>\n",
       "      <td>[[[35.36, 51.68], [74.88, 15.64]], [[64.48, 52...</td>\n",
       "      <td>[0.008424276486039162, 0.007532407529652119, 0...</td>\n",
       "      <td>150</td>\n",
       "    </tr>\n",
       "  </tbody>\n",
       "</table>\n",
       "</div>"
      ],
      "text/plain": [
       "   index     player_name       team position footedness  passes  accpass  \\\n",
       "0      1  AaronCresswell   West Ham      LCB       left     796      644   \n",
       "1      7  AdrianMariappa    Watford     L_CB      right     179      144   \n",
       "2     12     AhmedHegazi  West Brom      LCB      right     108       85   \n",
       "3     13     AhmedHegazi  West Brom     L_CB      right     438      347   \n",
       "4     21     AlfieMawson    Swansea      LCB      right     758      620   \n",
       "\n",
       "                                          accpassloc  \\\n",
       "0  [[[27.04, 51.68], [55.12, 64.6]], [[65.52, 61....   \n",
       "1  [[[36.4, 45.56], [74.88, 48.28]], [[30.16, 46....   \n",
       "2  [[[30.16, 59.84], [8.32, 52.36]], [[13.52, 45....   \n",
       "3  [[[31.2, 44.88], [41.6, 44.2]], [[46.8, 48.96]...   \n",
       "4  [[[22.88, 47.6], [28.08, 57.12]], [[42.64, 63....   \n",
       "\n",
       "                                        inaccpassloc  \\\n",
       "0  [[[62.4, 51.0], [78.0, 49.64]], [[79.04, 61.2]...   \n",
       "1  [[[43.68, 20.4], [42.64, 26.52]], [[27.04, 59....   \n",
       "2  [[[38.48, 63.24], [67.6, 62.56]], [[32.24, 57....   \n",
       "3  [[[41.6, 57.12], [70.72, 56.44]], [[27.04, 52....   \n",
       "4  [[[6.24, 65.28], [3.12, 66.64]], [[28.08, 60.5...   \n",
       "\n",
       "                                         accpassvaep  \\\n",
       "0  [-0.0012921183370053768, 0.003276045434176922,...   \n",
       "1  [0.01236659474670887, 0.00999591127038002, -0....   \n",
       "2  [0.0013909346889704466, 0.0030438450630754232,...   \n",
       "3  [0.0022118184715509415, 0.004126500803977251, ...   \n",
       "4  [0.03826572746038437, 0.0004356576828286052, 0...   \n",
       "\n",
       "                                       inaccpassvaep  \\\n",
       "0  [-0.007468235678970814, -0.010166996158659458,...   \n",
       "1  [-0.018949441611766815, 0.00031638285145163536...   \n",
       "2  [0.0012411349453032017, -0.004462606739252806,...   \n",
       "3  [-0.000910191098228097, -0.008706741034984589,...   \n",
       "4  [-0.0026828828267753124, -0.002081183949485421...   \n",
       "\n",
       "                                          accpassoff  \\\n",
       "0  [0.0015182411298155785, 0.003629088867455721, ...   \n",
       "1  [0.007915441878139973, 0.009581996127963066, 0...   \n",
       "2  [-0.0003790883347392082, 0.001926282187923789,...   \n",
       "3  [0.0022044661454856396, 0.0031939628534018993,...   \n",
       "4  [0.0028381505981087685, 0.0005238638259470463,...   \n",
       "\n",
       "                                        inaccpassoff  \\\n",
       "0  [-0.005851619876921177, -0.008341009728610516,...   \n",
       "1  [0.0008363674860447645, -0.0007496089674532413...   \n",
       "2  [0.0025845221243798733, -0.0030214847065508366...   \n",
       "3  [0.0009662145748734474, -0.0024091354571282864...   \n",
       "4  [0.0008291075937449932, -0.0001498661004006862...   \n",
       "\n",
       "                                          accpassdef  \\\n",
       "0  [-0.0028103594668209553, -0.000353043549694120...   \n",
       "1  [0.0044511533342301846, 0.0004139149095863104,...   \n",
       "2  [0.0017700230237096548, 0.0011175628751516342,...   \n",
       "3  [7.352326065301895e-06, 0.0009325379505753517,...   \n",
       "4  [0.035427577793598175, -8.82061431184411e-05, ...   \n",
       "\n",
       "                                        inaccpassdef  matches_played  \\\n",
       "0  [-0.001616615685634315, -0.001825986779294908,...            20.0   \n",
       "1  [-0.01978580839931965, 0.0010659918189048767, ...             5.0   \n",
       "2  [-0.0013433871790766716, -0.001441122032701969...             3.0   \n",
       "3  [-0.0018764056731015444, -0.006297605112195015...            16.0   \n",
       "4  [-0.0035119904205203056, -0.001931317849084735...            19.0   \n",
       "\n",
       "                                      progaccpassloc  \\\n",
       "0  [[[27.04, 51.68], [55.12, 64.6]], [[61.36, 59....   \n",
       "1  [[[36.4, 45.56], [74.88, 48.28]], [[30.16, 46....   \n",
       "2  [[[9.36, 49.64], [46.8, 35.36]], [[59.28, 60.5...   \n",
       "3  [[[35.36, 38.08], [43.68, 5.44]], [[33.28, 38....   \n",
       "4  [[[35.36, 51.68], [74.88, 15.64]], [[64.48, 52...   \n",
       "\n",
       "                                     progaccpassvaep  progaccpass  \n",
       "0  [-0.0012921183370053768, 0.0036208073142915964...          184  \n",
       "1  [0.01236659474670887, 0.00999591127038002, 0.0...           29  \n",
       "2  [0.002894850680604577, 0.018502848222851753, 0...           25  \n",
       "3  [-0.0015584089560434222, 0.006373148411512375,...           72  \n",
       "4  [0.008424276486039162, 0.007532407529652119, 0...          150  "
      ]
     },
     "execution_count": 225,
     "metadata": {},
     "output_type": "execute_result"
    }
   ],
   "source": [
    "defender_attrs_lcb.head()"
   ]
  },
  {
   "cell_type": "code",
   "execution_count": 226,
   "metadata": {},
   "outputs": [],
   "source": [
    "# Dropping defenders who have zero progressive passes\n",
    "defender_attrs_lcb = defender_attrs_lcb.loc[defender_attrs_lcb['progaccpass']!=0]"
   ]
  },
  {
   "cell_type": "code",
   "execution_count": 227,
   "metadata": {},
   "outputs": [],
   "source": [
    "# Counting the total number of progressive passes and progressive vaep values for left center backs\n",
    "counter_prog = 0\n",
    "counter_prog_vaep = 0\n",
    "for index, row in defender_attrs_lcb.iterrows():\n",
    "    counter_prog = counter_prog + len(row['progaccpassloc'])\n",
    "    counter_prog_vaep = counter_vaep + len(row['progaccpassvaep'])"
   ]
  },
  {
   "cell_type": "code",
   "execution_count": 228,
   "metadata": {},
   "outputs": [
    {
     "data": {
      "text/plain": [
       "(6864, 30232)"
      ]
     },
     "execution_count": 228,
     "metadata": {},
     "output_type": "execute_result"
    }
   ],
   "source": [
    "counter_prog, counter_prog_vaep"
   ]
  },
  {
   "cell_type": "code",
   "execution_count": 229,
   "metadata": {},
   "outputs": [
    {
     "data": {
      "text/plain": [
       "6864"
      ]
     },
     "execution_count": 229,
     "metadata": {},
     "output_type": "execute_result"
    }
   ],
   "source": [
    "np.sum(defender_attrs_lcb['progaccpass'].tolist())"
   ]
  },
  {
   "cell_type": "code",
   "execution_count": 230,
   "metadata": {},
   "outputs": [
    {
     "data": {
      "text/plain": [
       "19"
      ]
     },
     "execution_count": 230,
     "metadata": {},
     "output_type": "execute_result"
    }
   ],
   "source": [
    "def_cols = defender_attrs_lcb.columns\n",
    "len(def_cols)"
   ]
  },
  {
   "cell_type": "code",
   "execution_count": 231,
   "metadata": {},
   "outputs": [
    {
     "name": "stdout",
     "output_type": "stream",
     "text": [
      "19\n"
     ]
    }
   ],
   "source": [
    "new_def_cols = ['index','player_name','team','position','footedness','matches_played','passes','accpass','progaccpass','accpassloc',\n",
    "                'inaccpassloc','progaccpassloc','accpassvaep','inaccpassvaep','progaccpassvaep','accpassoff','inaccpassoff',\n",
    "                'accpassdef','inaccpassdef']\n",
    "print(len(new_def_cols))\n",
    "defender_attrs_lcb = defender_attrs_lcb[new_def_cols]"
   ]
  },
  {
   "cell_type": "code",
   "execution_count": 232,
   "metadata": {},
   "outputs": [],
   "source": [
    "# Saving dataframe in data folder\n",
    "defender_attrs_lcb.to_pickle('../data/defender_clusters/defender_attrs_lcb_prog.pkl')"
   ]
  },
  {
   "cell_type": "code",
   "execution_count": 233,
   "metadata": {},
   "outputs": [],
   "source": [
    "# Function to get x and y coordinates of pass locations\n",
    "def getxy(locs):\n",
    "    x = list()\n",
    "    y = list()\n",
    "    for p in locs:\n",
    "        x.append(p[0])\n",
    "        y.append(p[1])\n",
    "    return x,y"
   ]
  },
  {
   "cell_type": "code",
   "execution_count": 234,
   "metadata": {},
   "outputs": [],
   "source": [
    "# Function to calcuate total value added by passes in each of the following regions:\n",
    "#  ( x - length of the pitch) (y - width of the pitch)\n",
    "# Right Flank Attack - x >= 52 and y <= 17\n",
    "# Right Flank Defence - x < 52 and y <= 17\n",
    "# Right Central Attack - x >= 52 and y > 17 and y <= 34\n",
    "# Right Central Defence - x < 52 and y > 17 and y <= 34\n",
    "# Left Central Attack - x >= 52 and y > 34 and y <= 51\n",
    "# Left Central Defence - x < 52 and y > 34 and y <= 51\n",
    "# Left Flank Attack - x >= 52 and y > 51 and y <= 68\n",
    "# Left Flank Defence - x < 52 and y > 51 and y <= 68\n",
    "def get_vaep_region(x,y,vaep):\n",
    "    if vaep!= []:\n",
    "        vaep_rightflank_attack = np.sum([vaep[i] for i in range(len(x)) if (x[i]>=52) and (y[i]<=17)])\n",
    "        vaep_rightflank_defence = np.sum([vaep[i] for i in range(len(x)) if (x[i]<52) and (y[i]<=17)])\n",
    "        vaep_rightcentral_attack = np.sum([vaep[i] for i in range(len(x)) if (x[i]>=52) and (y[i]>17) and (y[i]<=34)])\n",
    "        vaep_rightcentral_defence = np.sum([vaep[i] for i in range(len(x)) if (x[i]<52) and (y[i]>17) and (y[i]<=34)])\n",
    "        vaep_leftcentral_attack = np.sum([vaep[i] for i in range(len(x)) if (x[i]>=52) and (y[i]>34) and (y[i]<=51)])\n",
    "        vaep_leftcentral_defence = np.sum([vaep[i] for i in range(len(x)) if (x[i]<52) and (y[i]>34) and (y[i]<=51)])\n",
    "        vaep_leftflank_attack = np.sum([vaep[i] for i in range(len(x)) if (x[i]>=52) and (y[i]>51) and (y[i]<=68)])\n",
    "        vaep_leftflank_defence = np.sum([vaep[i] for i in range(len(x)) if (x[i]<52) and (y[i]>51) and (y[i]<=68)])\n",
    "    \n",
    "    return [vaep_leftflank_defence,vaep_leftcentral_defence,vaep_rightcentral_defence,vaep_rightflank_defence,vaep_leftflank_attack,vaep_leftcentral_attack,vaep_rightcentral_attack,vaep_rightflank_attack]"
   ]
  },
  {
   "cell_type": "code",
   "execution_count": 235,
   "metadata": {},
   "outputs": [],
   "source": [
    "# Function to get total number of progressive pass made in each of the following regions:\n",
    "#  ( x - length of the pitch) (y - width of the pitch)\n",
    "# Right Flank Attack - x >= 52 and y <= 17\n",
    "# Right Flank Defence - x < 52 and y <= 17\n",
    "# Right Central Attack - x >= 52 and y > 17 and y <= 34\n",
    "# Right Central Defence - x < 52 and y > 17 and y <= 34\n",
    "# Left Central Attack - x >= 52 and y > 34 and y <= 51\n",
    "# Left Central Defence - x < 52 and y > 34 and y <= 51\n",
    "# Left Flank Attack - x >= 52 and y > 51 and y <= 68\n",
    "# Left Flank Defence - x < 52 and y > 51 and y <= 68\n",
    "def get_prog_pass_region(x,y):\n",
    "    if x!=[]:\n",
    "        x_rightflank_attack = [\n",
    "            x[i] for i in range(len(x)) if (x[i] >= 52) and (y[i] <= 17)]\n",
    "        y_rightflank_attack = [\n",
    "            y[i] for i in range(len(x)) if (x[i] >= 52) and (y[i] <= 17)]\n",
    "        x_rightflank_def = [\n",
    "            x[i] for i in range(len(x)) if (x[i] < 52) and (y[i] <= 17)]\n",
    "        y_rightflank_def = [\n",
    "            y[i] for i in range(len(x)) if (x[i] < 52) and (y[i] <= 17)]\n",
    "        x_leftflank_attack = [\n",
    "            x[i] for i in range(len(x)) if (x[i] >= 52) and (y[i] > 51)]\n",
    "        y_leftflank_attack = [\n",
    "            y[i] for i in range(len(x)) if (x[i] >= 52) and (y[i] > 51)]\n",
    "        x_leftflank_def = [\n",
    "            x[i] for i in range(len(x)) if (x[i] < 52) and (y[i] > 51)]\n",
    "        y_leftflank_def = [\n",
    "            y[i] for i in range(len(x)) if (x[i] < 52) and (y[i] > 51)]\n",
    "        x_rightcentral_attack = [\n",
    "            x[i] for i in range(len(x))\n",
    "            if (x[i] >= 52) and (y[i] > 17) and (y[i] <= 34)]\n",
    "        y_rightcentral_attack = [\n",
    "            y[i] for i in range(len(x))\n",
    "            if (x[i] >= 52) and (y[i] > 17) and (y[i] <= 34)]\n",
    "        x_rightcentral_def = [\n",
    "            x[i] for i in range(len(x))\n",
    "            if (x[i] < 52) and (y[i] > 17) and (y[i] <= 34)]\n",
    "        y_rightcentral_def = [\n",
    "            y[i] for i in range(len(x))\n",
    "            if (x[i] < 52) and (y[i] > 17) and (y[i] <= 34)]\n",
    "        x_leftcentral_attack = [\n",
    "            x[i] for i in range(len(x))\n",
    "            if (x[i] >= 52) and (y[i] > 34) and (y[i] <= 51)]\n",
    "        y_leftcentral_attack = [\n",
    "            y[i] for i in range(len(x))\n",
    "            if (x[i] >= 52) and (y[i] > 34) and (y[i] <= 51)]\n",
    "        x_leftcentral_def = [\n",
    "            x[i] for i in range(len(x))\n",
    "            if (x[i] < 52) and (y[i] > 34) and (y[i] <= 51)]\n",
    "        y_leftcentral_def = [\n",
    "            y[i] for i in range(len(x))\n",
    "            if (x[i] < 52) and (y[i] > 34) and (y[i] <= 51)]\n",
    "    return [len(x_leftflank_def), len(x_leftcentral_def),\n",
    "        len(x_rightcentral_def), len(x_rightflank_def), \n",
    "        len(x_leftflank_attack), len(x_leftcentral_attack), \n",
    "        len(x_rightcentral_attack), len(x_rightflank_attack)]"
   ]
  },
  {
   "cell_type": "code",
   "execution_count": 263,
   "metadata": {},
   "outputs": [],
   "source": [
    "# Function to calculate progressive passes per region and vaep value per region\n",
    "# Note: vaep value is divided by the number of progresssive passes and scaled to 10000 to make the value significant\n",
    "def get_region_wise(locs,vaep):\n",
    "    locs_start, locs_end = getstartend(locs)\n",
    "    locs_x, locs_y = getxy(locs_end)\n",
    "    vaep_region = get_vaep_region(locs_x,locs_y,vaep)\n",
    "    vaep_region_per_pass = [(i/len(locs_x))*10000 for i in vaep_region]  \n",
    "    prog_region = get_prog_pass_region(locs_x,locs_y)\n",
    "    prog_region_per_pass = [np.round(i/len(locs_x)*100,2) for i in prog_region]\n",
    "    return pd.Series([prog_region_per_pass,vaep_region_per_pass])"
   ]
  },
  {
   "cell_type": "code",
   "execution_count": 264,
   "metadata": {},
   "outputs": [],
   "source": [
    "defender_attrs_lcb[['prog_region_per_pass','vaep_region_per_pass']] = defender_attrs_lcb.apply(lambda x: get_region_wise(x['progaccpassloc'],x['progaccpassvaep']), axis = 1)"
   ]
  },
  {
   "cell_type": "code",
   "execution_count": 292,
   "metadata": {},
   "outputs": [
    {
     "data": {
      "text/html": [
       "<div>\n",
       "<style scoped>\n",
       "    .dataframe tbody tr th:only-of-type {\n",
       "        vertical-align: middle;\n",
       "    }\n",
       "\n",
       "    .dataframe tbody tr th {\n",
       "        vertical-align: top;\n",
       "    }\n",
       "\n",
       "    .dataframe thead th {\n",
       "        text-align: right;\n",
       "    }\n",
       "</style>\n",
       "<table border=\"1\" class=\"dataframe\">\n",
       "  <thead>\n",
       "    <tr style=\"text-align: right;\">\n",
       "      <th></th>\n",
       "      <th>index</th>\n",
       "      <th>player_name</th>\n",
       "      <th>team</th>\n",
       "      <th>position</th>\n",
       "      <th>footedness</th>\n",
       "      <th>matches_played</th>\n",
       "      <th>passes</th>\n",
       "      <th>accpass</th>\n",
       "      <th>progaccpass</th>\n",
       "      <th>accpassloc</th>\n",
       "      <th>...</th>\n",
       "      <th>progaccpassloc</th>\n",
       "      <th>accpassvaep</th>\n",
       "      <th>inaccpassvaep</th>\n",
       "      <th>progaccpassvaep</th>\n",
       "      <th>accpassoff</th>\n",
       "      <th>inaccpassoff</th>\n",
       "      <th>accpassdef</th>\n",
       "      <th>inaccpassdef</th>\n",
       "      <th>prog_region_per_pass</th>\n",
       "      <th>vaep_region_per_pass</th>\n",
       "    </tr>\n",
       "  </thead>\n",
       "  <tbody>\n",
       "    <tr>\n",
       "      <th>14</th>\n",
       "      <td>55</td>\n",
       "      <td>BrunoMartinsIndi</td>\n",
       "      <td>Stoke</td>\n",
       "      <td>LCB</td>\n",
       "      <td>left</td>\n",
       "      <td>2.0</td>\n",
       "      <td>91</td>\n",
       "      <td>83</td>\n",
       "      <td>26</td>\n",
       "      <td>[[[47.84, 32.64], [65.52, 64.6]], [[37.44, 51....</td>\n",
       "      <td>...</td>\n",
       "      <td>[[[47.84, 32.64], [65.52, 64.6]], [[59.28, 41....</td>\n",
       "      <td>[0.0011243479093536735, -0.003485072636976838,...</td>\n",
       "      <td>[-0.0018702158704400063, -0.0100428881123662, ...</td>\n",
       "      <td>[0.0011243479093536735, 0.008066927082836628, ...</td>\n",
       "      <td>[-0.00011550076305866241, -0.00240093749016523...</td>\n",
       "      <td>[-0.000661713071167469, -0.009857052005827427,...</td>\n",
       "      <td>[0.0012398486724123359, -0.0010841351468116045...</td>\n",
       "      <td>[-0.0012085027992725372, -0.000185836106538772...</td>\n",
       "      <td>[0.0, 0.0, 0.0, 7.69, 50.0, 15.38, 11.54, 15.38]</td>\n",
       "      <td>[0.0, 0.0, 0.0, -0.9136276247982795, 14.181490...</td>\n",
       "    </tr>\n",
       "    <tr>\n",
       "      <th>15</th>\n",
       "      <td>56</td>\n",
       "      <td>BrunoMartinsIndi</td>\n",
       "      <td>Stoke</td>\n",
       "      <td>L_CB</td>\n",
       "      <td>left</td>\n",
       "      <td>10.0</td>\n",
       "      <td>186</td>\n",
       "      <td>142</td>\n",
       "      <td>17</td>\n",
       "      <td>[[[31.2, 31.96], [70.72, 9.52]], [[22.88, 39.4...</td>\n",
       "      <td>...</td>\n",
       "      <td>[[[31.2, 31.96], [70.72, 9.52]], [[54.08, 59.1...</td>\n",
       "      <td>[0.007600221782922745, 0.005220275372266769, -...</td>\n",
       "      <td>[-0.0032848939299583435, -0.002151201013475656...</td>\n",
       "      <td>[0.007600221782922745, 0.0026042244862765074, ...</td>\n",
       "      <td>[0.008977348916232586, -0.000903882784768939, ...</td>\n",
       "      <td>[0.003325612749904394, -0.0036109769716858864,...</td>\n",
       "      <td>[-0.0013771271333098412, 0.006124157924205065,...</td>\n",
       "      <td>[-0.006610506679862738, 0.0014597759582102299,...</td>\n",
       "      <td>[5.88, 0.0, 0.0, 11.76, 35.29, 17.65, 11.76, 1...</td>\n",
       "      <td>[12.931188239770778, 0.0, 0.0, 4.6705073841354...</td>\n",
       "    </tr>\n",
       "  </tbody>\n",
       "</table>\n",
       "<p>2 rows × 21 columns</p>\n",
       "</div>"
      ],
      "text/plain": [
       "    index       player_name   team position footedness  matches_played  \\\n",
       "14     55  BrunoMartinsIndi  Stoke      LCB       left             2.0   \n",
       "15     56  BrunoMartinsIndi  Stoke     L_CB       left            10.0   \n",
       "\n",
       "    passes  accpass  progaccpass  \\\n",
       "14      91       83           26   \n",
       "15     186      142           17   \n",
       "\n",
       "                                           accpassloc  ...  \\\n",
       "14  [[[47.84, 32.64], [65.52, 64.6]], [[37.44, 51....  ...   \n",
       "15  [[[31.2, 31.96], [70.72, 9.52]], [[22.88, 39.4...  ...   \n",
       "\n",
       "                                       progaccpassloc  \\\n",
       "14  [[[47.84, 32.64], [65.52, 64.6]], [[59.28, 41....   \n",
       "15  [[[31.2, 31.96], [70.72, 9.52]], [[54.08, 59.1...   \n",
       "\n",
       "                                          accpassvaep  \\\n",
       "14  [0.0011243479093536735, -0.003485072636976838,...   \n",
       "15  [0.007600221782922745, 0.005220275372266769, -...   \n",
       "\n",
       "                                        inaccpassvaep  \\\n",
       "14  [-0.0018702158704400063, -0.0100428881123662, ...   \n",
       "15  [-0.0032848939299583435, -0.002151201013475656...   \n",
       "\n",
       "                                      progaccpassvaep  \\\n",
       "14  [0.0011243479093536735, 0.008066927082836628, ...   \n",
       "15  [0.007600221782922745, 0.0026042244862765074, ...   \n",
       "\n",
       "                                           accpassoff  \\\n",
       "14  [-0.00011550076305866241, -0.00240093749016523...   \n",
       "15  [0.008977348916232586, -0.000903882784768939, ...   \n",
       "\n",
       "                                         inaccpassoff  \\\n",
       "14  [-0.000661713071167469, -0.009857052005827427,...   \n",
       "15  [0.003325612749904394, -0.0036109769716858864,...   \n",
       "\n",
       "                                           accpassdef  \\\n",
       "14  [0.0012398486724123359, -0.0010841351468116045...   \n",
       "15  [-0.0013771271333098412, 0.006124157924205065,...   \n",
       "\n",
       "                                         inaccpassdef  \\\n",
       "14  [-0.0012085027992725372, -0.000185836106538772...   \n",
       "15  [-0.006610506679862738, 0.0014597759582102299,...   \n",
       "\n",
       "                                 prog_region_per_pass  \\\n",
       "14   [0.0, 0.0, 0.0, 7.69, 50.0, 15.38, 11.54, 15.38]   \n",
       "15  [5.88, 0.0, 0.0, 11.76, 35.29, 17.65, 11.76, 1...   \n",
       "\n",
       "                                 vaep_region_per_pass  \n",
       "14  [0.0, 0.0, 0.0, -0.9136276247982795, 14.181490...  \n",
       "15  [12.931188239770778, 0.0, 0.0, 4.6705073841354...  \n",
       "\n",
       "[2 rows x 21 columns]"
      ]
     },
     "execution_count": 292,
     "metadata": {},
     "output_type": "execute_result"
    }
   ],
   "source": [
    "defender_attrs_lcb.loc[defender_attrs_lcb['player_name']=='BrunoMartinsIndi']"
   ]
  },
  {
   "cell_type": "code",
   "execution_count": 266,
   "metadata": {},
   "outputs": [],
   "source": [
    "# Saving the region wise pass and vaep dataframe\n",
    "defender_attrs_lcb.to_pickle('../data/defender_clusters/defender_attrs_lcb_region_wise.pkl')"
   ]
  },
  {
   "cell_type": "code",
   "execution_count": 267,
   "metadata": {},
   "outputs": [
    {
     "data": {
      "text/plain": [
       "102"
      ]
     },
     "execution_count": 267,
     "metadata": {},
     "output_type": "execute_result"
    }
   ],
   "source": [
    "len(defender_attrs_lcb)"
   ]
  },
  {
   "cell_type": "code",
   "execution_count": 268,
   "metadata": {},
   "outputs": [
    {
     "data": {
      "text/plain": [
       "32"
      ]
     },
     "execution_count": 268,
     "metadata": {},
     "output_type": "execute_result"
    }
   ],
   "source": [
    "len(defender_attrs_lcb.loc[defender_attrs_lcb['matches_played']>=10])"
   ]
  },
  {
   "cell_type": "code",
   "execution_count": 269,
   "metadata": {},
   "outputs": [
    {
     "data": {
      "text/plain": [
       "85"
      ]
     },
     "execution_count": 269,
     "metadata": {},
     "output_type": "execute_result"
    }
   ],
   "source": [
    "len(defender_attrs_lcb.loc[defender_attrs_lcb['progaccpass']>=10])"
   ]
  },
  {
   "cell_type": "code",
   "execution_count": 270,
   "metadata": {},
   "outputs": [],
   "source": [
    "defender_attrs_lcb_plot = defender_attrs_lcb[['player_name','team','position','footedness','matches_played',\n",
    "                                                 'progaccpass','prog_region_per_pass','vaep_region_per_pass']]"
   ]
  },
  {
   "cell_type": "code",
   "execution_count": 276,
   "metadata": {},
   "outputs": [],
   "source": [
    "defender_attrs_lcb_plot = defender_attrs_lcb_plot.loc[defender_attrs_lcb_plot['progaccpass']>=10]"
   ]
  },
  {
   "cell_type": "code",
   "execution_count": 290,
   "metadata": {},
   "outputs": [],
   "source": [
    "# Function to plot scatter plots for preference over value addition across regions\n",
    "# Arguments : \n",
    "# prog_region -  A list of proggressive pasess per region (in percentage)\n",
    "# veap_region - A list of vaep values per region (scaled by 10000)\n",
    "# att_def - 'Attack' for attacking region and 'Defence' for defensive region\n",
    "def plot_preference_value_region(df):\n",
    "    regions = ['leftflank_def','leftcentral_def',\n",
    "           'rightcentral_def','rightflank_def',\n",
    "           'leftflank_attack','leftcentral_attack',\n",
    "           'rightcentral_attack','rightflank_attack']\n",
    "    for i in range(8):\n",
    "        prog_region = list()\n",
    "        vaep_region =list()\n",
    "        player_name_position = list()\n",
    "        for idx, row in df.iterrows():\n",
    "            prog_region.append(row['prog_region_per_pass'][i])\n",
    "            vaep_region.append(row['vaep_region_per_pass'][i])\n",
    "            player_name_position.append(row['player_name'] + \" \" + row['position'] + \" \" + row['footedness'])\n",
    "        fig = go.Figure()\n",
    "        fig.add_trace(go.Scatter(x = prog_region, y = vaep_region, text = player_name_position, name = 'Plot' + str(i), mode = 'markers'))\n",
    "        fig.update_layout(\n",
    "            annotations=[\n",
    "                dict(\n",
    "                x=0.5,\n",
    "                y=-0.15,\n",
    "                showarrow=False,\n",
    "                text = '% Progressive passes',\n",
    "                xref=\"paper\",\n",
    "                yref=\"paper\"),\n",
    "                dict(\n",
    "                x=-0.07,\n",
    "                y=0.5,\n",
    "                showarrow = False,\n",
    "                text = 'VAEP per progressive pass (scaled to 10000)',\n",
    "                textangle = -90,\n",
    "                xref=\"paper\",\n",
    "                yref=\"paper\")\n",
    "            ],\n",
    "            autosize=True,\n",
    "            margin=dict(\n",
    "            b=100\n",
    "            ),\n",
    "            title_text = str(regions[i]))\n",
    "        fig.show()"
   ]
  },
  {
   "cell_type": "code",
   "execution_count": 291,
   "metadata": {},
   "outputs": [
    {
     "data": {
      "application/vnd.plotly.v1+json": {
       "config": {
        "plotlyServerURL": "https://plot.ly"
       },
       "data": [
        {
         "mode": "markers",
         "name": "Plot0",
         "text": [
          "AaronCresswell LCB left",
          "AdrianMariappa L_CB right",
          "AhmedHegazi LCB right",
          "AhmedHegazi L_CB right",
          "AlfieMawson LCB right",
          "AlfieMawson L_CB right",
          "AngeloOgbonna LCB left",
          "AngeloOgbonna L_CB left",
          "AntonioRdiger LCB right",
          "AntonioRudiger LCB right",
          "AshleyWilliams L_CB right",
          "AymericLaporte LCB left",
          "AymericLaporte L_CB left",
          "BenMee L_CB left",
          "BrunoMartinsIndi LCB left",
          "BrunoMartinsIndi L_CB left",
          "CalumChambers L_CB right",
          "ChrisSmalling L_CB right",
          "ChristianKabasele LCB right",
          "ChristianKabasele L_CB right",
          "ChristopherSchindler L_CB right",
          "CiaranClark LCB left",
          "CiaranClark L_CB left",
          "DeclanRice LCB right",
          "DejanLovren L_CB right",
          "EliaquimMangala L_CB left",
          "ErikPieters LCB left",
          "FlorianLejeune L_CB right",
          "GaryCahill LCB right",
          "GeoffCameron LCB right",
          "HarryMaguire L_CB right",
          "JairoRiedewald LCB left",
          "JamesCollins LCB right",
          "JamesTarkowski L_CB right",
          "JamesTomkins L_CB right",
          "JanVertonghen LCB left",
          "JanVertonghen L_CB left",
          "JonnyEvans LCB right",
          "JonnyEvans L_CB right",
          "JoseHolebas LCB left",
          "KevinWimmer LCB left",
          "KevinWimmer L_CB left",
          "KurtZouma L_CB right",
          "LaurentKoscielny LCB right",
          "LaurentKoscielny L_CB right",
          "LewisDunk L_CB right",
          "MamadouSakho L_CB left",
          "MarcosRojo L_CB left",
          "MartinCranie L_CB right",
          "MayaYoshida L_CB right",
          "MichaelKeane LCB right",
          "MichaelKeane L_CB right",
          "MiguelBritos LCB left",
          "MiguelBritos L_CB left",
          "NachoMonreal LCB left",
          "NachoMonreal L_CB left",
          "NathanAk LCB left",
          "NathanAk L_CB left",
          "NathanAke LCB left",
          "NathanAke L_CB left",
          "NicolasOtamendi LCB right",
          "NicolasOtamendi L_CB right",
          "NicolsOtamendi LCB right",
          "NicolsOtamendi L_CB right",
          "PaulDummett LCB left",
          "PhilJagielka LCB right",
          "PhilJagielka L_CB right",
          "PhilJones LCB right",
          "PhilJones L_CB right",
          "RagnarKlavan L_CB left",
          "RobHolding LCB right",
          "RobHolding L_CB right",
          "ScottDann L_CB right",
          "SeadKolasinac LCB left",
          "ShkodranMustafi L_CB right",
          "TobyAlderweireld L_CB right",
          "TyroneMings LCB left",
          "VictorLindelf L_CB right",
          "VictorLindelof L_CB right",
          "VincentKompany L_CB right",
          "VirgilvanDijk L_CB right",
          "VirgilvanDijk L_CB right",
          "WesleyHoedt LCB left",
          "WesleyHoedt L_CB left",
          "WinstonReid L_CB right"
         ],
         "type": "scatter",
         "x": [
          1.63,
          6.9,
          8,
          8.33,
          1.33,
          5.06,
          6.9,
          1.64,
          1.9,
          3.06,
          2.9,
          6.25,
          2.01,
          4.76,
          0,
          5.88,
          3.57,
          0,
          0,
          7.25,
          3.23,
          0,
          2.02,
          0,
          2.08,
          2.63,
          0,
          3.03,
          1.96,
          0,
          2.82,
          0,
          0,
          7.27,
          7.41,
          2.62,
          4.35,
          2.33,
          5.8,
          0,
          0,
          6.45,
          2.33,
          0,
          5.77,
          3.25,
          4.82,
          3.28,
          0,
          4,
          0,
          2.86,
          6.98,
          1.85,
          1.33,
          5.88,
          0,
          1.41,
          10.34,
          1.96,
          0,
          0.45,
          3.85,
          1.54,
          0,
          0,
          4.76,
          0,
          4.83,
          0.56,
          8.7,
          9.76,
          4,
          0,
          0,
          3.03,
          0,
          5.41,
          15.38,
          10,
          2.22,
          2.2,
          2.82,
          1.36,
          6.06
         ],
         "y": [
          2.6216292652584934,
          5.540763156424308,
          2.843972109258175,
          7.7053208951838315,
          0.971585838124156,
          2.7415122453573297,
          2.810675169116464,
          1.6685981364523776,
          0.5196374133700812,
          1.5471973076310692,
          2.3123478192998017,
          6.880191504023969,
          3.2349030843517124,
          1.5583233575203588,
          0,
          12.931188239770778,
          1.1546722713059612,
          0,
          0,
          3.4035952674036007,
          1.3675947012680194,
          0,
          1.0755075837927635,
          0,
          0.50324022595305,
          2.2030658529777276,
          0,
          2.8690472950763777,
          3.1977933618465277,
          0,
          1.7998124457011788,
          0,
          0,
          0.2914097011935982,
          0.5945427714053679,
          1.0815944829809416,
          3.3873105387918763,
          9.300705305365629,
          3.05495113539307,
          0,
          0,
          8.952322926732801,
          1.563608516440835,
          0,
          1.4440485168821537,
          3.192260467666921,
          5.94859331262758,
          0.45984055938535046,
          0,
          1.9673297181725504,
          0,
          0.5547454181526388,
          17.193243134940086,
          -0.9995614419932719,
          1.0946041294497197,
          1.0278414565083736,
          0,
          -0.29317711637368504,
          -0.07120820147723987,
          1.6436665592824713,
          0,
          0.2279600968384849,
          0.13077761440609512,
          1.5837612132040355,
          0,
          0,
          0.9082546014161337,
          0,
          3.2894615292677596,
          0.43565607707760184,
          -4.513788077494373,
          6.435824524066071,
          23.08146581053734,
          0,
          0,
          0.5694278021992156,
          0,
          -0.6961080598065982,
          5.154130765451835,
          -0.45897805830463767,
          6.400579877663404,
          0.6652453013665074,
          -0.41287435008816314,
          -0.12125784467736428,
          6.479899765867176
         ]
        }
       ],
       "layout": {
        "annotations": [
         {
          "showarrow": false,
          "text": "% Progressive passes",
          "x": 0.5,
          "xref": "paper",
          "y": -0.15,
          "yref": "paper"
         },
         {
          "showarrow": false,
          "text": "VAEP per progressive pass (scaled to 10000)",
          "textangle": -90,
          "x": -0.07,
          "xref": "paper",
          "y": 0.5,
          "yref": "paper"
         }
        ],
        "autosize": true,
        "margin": {
         "b": 100
        },
        "template": {
         "data": {
          "bar": [
           {
            "error_x": {
             "color": "#2a3f5f"
            },
            "error_y": {
             "color": "#2a3f5f"
            },
            "marker": {
             "line": {
              "color": "#E5ECF6",
              "width": 0.5
             }
            },
            "type": "bar"
           }
          ],
          "barpolar": [
           {
            "marker": {
             "line": {
              "color": "#E5ECF6",
              "width": 0.5
             }
            },
            "type": "barpolar"
           }
          ],
          "carpet": [
           {
            "aaxis": {
             "endlinecolor": "#2a3f5f",
             "gridcolor": "white",
             "linecolor": "white",
             "minorgridcolor": "white",
             "startlinecolor": "#2a3f5f"
            },
            "baxis": {
             "endlinecolor": "#2a3f5f",
             "gridcolor": "white",
             "linecolor": "white",
             "minorgridcolor": "white",
             "startlinecolor": "#2a3f5f"
            },
            "type": "carpet"
           }
          ],
          "choropleth": [
           {
            "colorbar": {
             "outlinewidth": 0,
             "ticks": ""
            },
            "type": "choropleth"
           }
          ],
          "contour": [
           {
            "colorbar": {
             "outlinewidth": 0,
             "ticks": ""
            },
            "colorscale": [
             [
              0,
              "#0d0887"
             ],
             [
              0.1111111111111111,
              "#46039f"
             ],
             [
              0.2222222222222222,
              "#7201a8"
             ],
             [
              0.3333333333333333,
              "#9c179e"
             ],
             [
              0.4444444444444444,
              "#bd3786"
             ],
             [
              0.5555555555555556,
              "#d8576b"
             ],
             [
              0.6666666666666666,
              "#ed7953"
             ],
             [
              0.7777777777777778,
              "#fb9f3a"
             ],
             [
              0.8888888888888888,
              "#fdca26"
             ],
             [
              1,
              "#f0f921"
             ]
            ],
            "type": "contour"
           }
          ],
          "contourcarpet": [
           {
            "colorbar": {
             "outlinewidth": 0,
             "ticks": ""
            },
            "type": "contourcarpet"
           }
          ],
          "heatmap": [
           {
            "colorbar": {
             "outlinewidth": 0,
             "ticks": ""
            },
            "colorscale": [
             [
              0,
              "#0d0887"
             ],
             [
              0.1111111111111111,
              "#46039f"
             ],
             [
              0.2222222222222222,
              "#7201a8"
             ],
             [
              0.3333333333333333,
              "#9c179e"
             ],
             [
              0.4444444444444444,
              "#bd3786"
             ],
             [
              0.5555555555555556,
              "#d8576b"
             ],
             [
              0.6666666666666666,
              "#ed7953"
             ],
             [
              0.7777777777777778,
              "#fb9f3a"
             ],
             [
              0.8888888888888888,
              "#fdca26"
             ],
             [
              1,
              "#f0f921"
             ]
            ],
            "type": "heatmap"
           }
          ],
          "heatmapgl": [
           {
            "colorbar": {
             "outlinewidth": 0,
             "ticks": ""
            },
            "colorscale": [
             [
              0,
              "#0d0887"
             ],
             [
              0.1111111111111111,
              "#46039f"
             ],
             [
              0.2222222222222222,
              "#7201a8"
             ],
             [
              0.3333333333333333,
              "#9c179e"
             ],
             [
              0.4444444444444444,
              "#bd3786"
             ],
             [
              0.5555555555555556,
              "#d8576b"
             ],
             [
              0.6666666666666666,
              "#ed7953"
             ],
             [
              0.7777777777777778,
              "#fb9f3a"
             ],
             [
              0.8888888888888888,
              "#fdca26"
             ],
             [
              1,
              "#f0f921"
             ]
            ],
            "type": "heatmapgl"
           }
          ],
          "histogram": [
           {
            "marker": {
             "colorbar": {
              "outlinewidth": 0,
              "ticks": ""
             }
            },
            "type": "histogram"
           }
          ],
          "histogram2d": [
           {
            "colorbar": {
             "outlinewidth": 0,
             "ticks": ""
            },
            "colorscale": [
             [
              0,
              "#0d0887"
             ],
             [
              0.1111111111111111,
              "#46039f"
             ],
             [
              0.2222222222222222,
              "#7201a8"
             ],
             [
              0.3333333333333333,
              "#9c179e"
             ],
             [
              0.4444444444444444,
              "#bd3786"
             ],
             [
              0.5555555555555556,
              "#d8576b"
             ],
             [
              0.6666666666666666,
              "#ed7953"
             ],
             [
              0.7777777777777778,
              "#fb9f3a"
             ],
             [
              0.8888888888888888,
              "#fdca26"
             ],
             [
              1,
              "#f0f921"
             ]
            ],
            "type": "histogram2d"
           }
          ],
          "histogram2dcontour": [
           {
            "colorbar": {
             "outlinewidth": 0,
             "ticks": ""
            },
            "colorscale": [
             [
              0,
              "#0d0887"
             ],
             [
              0.1111111111111111,
              "#46039f"
             ],
             [
              0.2222222222222222,
              "#7201a8"
             ],
             [
              0.3333333333333333,
              "#9c179e"
             ],
             [
              0.4444444444444444,
              "#bd3786"
             ],
             [
              0.5555555555555556,
              "#d8576b"
             ],
             [
              0.6666666666666666,
              "#ed7953"
             ],
             [
              0.7777777777777778,
              "#fb9f3a"
             ],
             [
              0.8888888888888888,
              "#fdca26"
             ],
             [
              1,
              "#f0f921"
             ]
            ],
            "type": "histogram2dcontour"
           }
          ],
          "mesh3d": [
           {
            "colorbar": {
             "outlinewidth": 0,
             "ticks": ""
            },
            "type": "mesh3d"
           }
          ],
          "parcoords": [
           {
            "line": {
             "colorbar": {
              "outlinewidth": 0,
              "ticks": ""
             }
            },
            "type": "parcoords"
           }
          ],
          "pie": [
           {
            "automargin": true,
            "type": "pie"
           }
          ],
          "scatter": [
           {
            "marker": {
             "colorbar": {
              "outlinewidth": 0,
              "ticks": ""
             }
            },
            "type": "scatter"
           }
          ],
          "scatter3d": [
           {
            "line": {
             "colorbar": {
              "outlinewidth": 0,
              "ticks": ""
             }
            },
            "marker": {
             "colorbar": {
              "outlinewidth": 0,
              "ticks": ""
             }
            },
            "type": "scatter3d"
           }
          ],
          "scattercarpet": [
           {
            "marker": {
             "colorbar": {
              "outlinewidth": 0,
              "ticks": ""
             }
            },
            "type": "scattercarpet"
           }
          ],
          "scattergeo": [
           {
            "marker": {
             "colorbar": {
              "outlinewidth": 0,
              "ticks": ""
             }
            },
            "type": "scattergeo"
           }
          ],
          "scattergl": [
           {
            "marker": {
             "colorbar": {
              "outlinewidth": 0,
              "ticks": ""
             }
            },
            "type": "scattergl"
           }
          ],
          "scattermapbox": [
           {
            "marker": {
             "colorbar": {
              "outlinewidth": 0,
              "ticks": ""
             }
            },
            "type": "scattermapbox"
           }
          ],
          "scatterpolar": [
           {
            "marker": {
             "colorbar": {
              "outlinewidth": 0,
              "ticks": ""
             }
            },
            "type": "scatterpolar"
           }
          ],
          "scatterpolargl": [
           {
            "marker": {
             "colorbar": {
              "outlinewidth": 0,
              "ticks": ""
             }
            },
            "type": "scatterpolargl"
           }
          ],
          "scatterternary": [
           {
            "marker": {
             "colorbar": {
              "outlinewidth": 0,
              "ticks": ""
             }
            },
            "type": "scatterternary"
           }
          ],
          "surface": [
           {
            "colorbar": {
             "outlinewidth": 0,
             "ticks": ""
            },
            "colorscale": [
             [
              0,
              "#0d0887"
             ],
             [
              0.1111111111111111,
              "#46039f"
             ],
             [
              0.2222222222222222,
              "#7201a8"
             ],
             [
              0.3333333333333333,
              "#9c179e"
             ],
             [
              0.4444444444444444,
              "#bd3786"
             ],
             [
              0.5555555555555556,
              "#d8576b"
             ],
             [
              0.6666666666666666,
              "#ed7953"
             ],
             [
              0.7777777777777778,
              "#fb9f3a"
             ],
             [
              0.8888888888888888,
              "#fdca26"
             ],
             [
              1,
              "#f0f921"
             ]
            ],
            "type": "surface"
           }
          ],
          "table": [
           {
            "cells": {
             "fill": {
              "color": "#EBF0F8"
             },
             "line": {
              "color": "white"
             }
            },
            "header": {
             "fill": {
              "color": "#C8D4E3"
             },
             "line": {
              "color": "white"
             }
            },
            "type": "table"
           }
          ]
         },
         "layout": {
          "annotationdefaults": {
           "arrowcolor": "#2a3f5f",
           "arrowhead": 0,
           "arrowwidth": 1
          },
          "coloraxis": {
           "colorbar": {
            "outlinewidth": 0,
            "ticks": ""
           }
          },
          "colorscale": {
           "diverging": [
            [
             0,
             "#8e0152"
            ],
            [
             0.1,
             "#c51b7d"
            ],
            [
             0.2,
             "#de77ae"
            ],
            [
             0.3,
             "#f1b6da"
            ],
            [
             0.4,
             "#fde0ef"
            ],
            [
             0.5,
             "#f7f7f7"
            ],
            [
             0.6,
             "#e6f5d0"
            ],
            [
             0.7,
             "#b8e186"
            ],
            [
             0.8,
             "#7fbc41"
            ],
            [
             0.9,
             "#4d9221"
            ],
            [
             1,
             "#276419"
            ]
           ],
           "sequential": [
            [
             0,
             "#0d0887"
            ],
            [
             0.1111111111111111,
             "#46039f"
            ],
            [
             0.2222222222222222,
             "#7201a8"
            ],
            [
             0.3333333333333333,
             "#9c179e"
            ],
            [
             0.4444444444444444,
             "#bd3786"
            ],
            [
             0.5555555555555556,
             "#d8576b"
            ],
            [
             0.6666666666666666,
             "#ed7953"
            ],
            [
             0.7777777777777778,
             "#fb9f3a"
            ],
            [
             0.8888888888888888,
             "#fdca26"
            ],
            [
             1,
             "#f0f921"
            ]
           ],
           "sequentialminus": [
            [
             0,
             "#0d0887"
            ],
            [
             0.1111111111111111,
             "#46039f"
            ],
            [
             0.2222222222222222,
             "#7201a8"
            ],
            [
             0.3333333333333333,
             "#9c179e"
            ],
            [
             0.4444444444444444,
             "#bd3786"
            ],
            [
             0.5555555555555556,
             "#d8576b"
            ],
            [
             0.6666666666666666,
             "#ed7953"
            ],
            [
             0.7777777777777778,
             "#fb9f3a"
            ],
            [
             0.8888888888888888,
             "#fdca26"
            ],
            [
             1,
             "#f0f921"
            ]
           ]
          },
          "colorway": [
           "#636efa",
           "#EF553B",
           "#00cc96",
           "#ab63fa",
           "#FFA15A",
           "#19d3f3",
           "#FF6692",
           "#B6E880",
           "#FF97FF",
           "#FECB52"
          ],
          "font": {
           "color": "#2a3f5f"
          },
          "geo": {
           "bgcolor": "white",
           "lakecolor": "white",
           "landcolor": "#E5ECF6",
           "showlakes": true,
           "showland": true,
           "subunitcolor": "white"
          },
          "hoverlabel": {
           "align": "left"
          },
          "hovermode": "closest",
          "mapbox": {
           "style": "light"
          },
          "paper_bgcolor": "white",
          "plot_bgcolor": "#E5ECF6",
          "polar": {
           "angularaxis": {
            "gridcolor": "white",
            "linecolor": "white",
            "ticks": ""
           },
           "bgcolor": "#E5ECF6",
           "radialaxis": {
            "gridcolor": "white",
            "linecolor": "white",
            "ticks": ""
           }
          },
          "scene": {
           "xaxis": {
            "backgroundcolor": "#E5ECF6",
            "gridcolor": "white",
            "gridwidth": 2,
            "linecolor": "white",
            "showbackground": true,
            "ticks": "",
            "zerolinecolor": "white"
           },
           "yaxis": {
            "backgroundcolor": "#E5ECF6",
            "gridcolor": "white",
            "gridwidth": 2,
            "linecolor": "white",
            "showbackground": true,
            "ticks": "",
            "zerolinecolor": "white"
           },
           "zaxis": {
            "backgroundcolor": "#E5ECF6",
            "gridcolor": "white",
            "gridwidth": 2,
            "linecolor": "white",
            "showbackground": true,
            "ticks": "",
            "zerolinecolor": "white"
           }
          },
          "shapedefaults": {
           "line": {
            "color": "#2a3f5f"
           }
          },
          "ternary": {
           "aaxis": {
            "gridcolor": "white",
            "linecolor": "white",
            "ticks": ""
           },
           "baxis": {
            "gridcolor": "white",
            "linecolor": "white",
            "ticks": ""
           },
           "bgcolor": "#E5ECF6",
           "caxis": {
            "gridcolor": "white",
            "linecolor": "white",
            "ticks": ""
           }
          },
          "title": {
           "x": 0.05
          },
          "xaxis": {
           "automargin": true,
           "gridcolor": "white",
           "linecolor": "white",
           "ticks": "",
           "title": {
            "standoff": 15
           },
           "zerolinecolor": "white",
           "zerolinewidth": 2
          },
          "yaxis": {
           "automargin": true,
           "gridcolor": "white",
           "linecolor": "white",
           "ticks": "",
           "title": {
            "standoff": 15
           },
           "zerolinecolor": "white",
           "zerolinewidth": 2
          }
         }
        },
        "title": {
         "text": "leftflank_def"
        },
        "xaxis": {
         "autorange": true,
         "range": [
          -0.9504494382022473,
          16.330449438202248
         ],
         "type": "linear"
        },
        "yaxis": {
         "autorange": true,
         "range": [
          -6.575502448439271,
          25.143180181482236
         ],
         "type": "linear"
        }
       }
      },
      "image/png": "[encoded data removed]",
      "text/html": [
       "<div>\n",
       "        \n",
       "        \n",
       "            <div id=\"99b31953-760e-4623-9a8a-9955b5423af8\" class=\"plotly-graph-div\" style=\"height:525px; width:100%;\"></div>\n",
       "            <script type=\"text/javascript\">\n",
       "                require([\"plotly\"], function(Plotly) {\n",
       "                    window.PLOTLYENV=window.PLOTLYENV || {};\n",
       "                    \n",
       "                if (document.getElementById(\"99b31953-760e-4623-9a8a-9955b5423af8\")) {\n",
       "                    Plotly.newPlot(\n",
       "                        '99b31953-760e-4623-9a8a-9955b5423af8',\n",
       "                        [{\"mode\": \"markers\", \"name\": \"Plot0\", \"text\": [\"AaronCresswell LCB left\", \"AdrianMariappa L_CB right\", \"AhmedHegazi LCB right\", \"AhmedHegazi L_CB right\", \"AlfieMawson LCB right\", \"AlfieMawson L_CB right\", \"AngeloOgbonna LCB left\", \"AngeloOgbonna L_CB left\", \"AntonioRdiger LCB right\", \"AntonioRudiger LCB right\", \"AshleyWilliams L_CB right\", \"AymericLaporte LCB left\", \"AymericLaporte L_CB left\", \"BenMee L_CB left\", \"BrunoMartinsIndi LCB left\", \"BrunoMartinsIndi L_CB left\", \"CalumChambers L_CB right\", \"ChrisSmalling L_CB right\", \"ChristianKabasele LCB right\", \"ChristianKabasele L_CB right\", \"ChristopherSchindler L_CB right\", \"CiaranClark LCB left\", \"CiaranClark L_CB left\", \"DeclanRice LCB right\", \"DejanLovren L_CB right\", \"EliaquimMangala L_CB left\", \"ErikPieters LCB left\", \"FlorianLejeune L_CB right\", \"GaryCahill LCB right\", \"GeoffCameron LCB right\", \"HarryMaguire L_CB right\", \"JairoRiedewald LCB left\", \"JamesCollins LCB right\", \"JamesTarkowski L_CB right\", \"JamesTomkins L_CB right\", \"JanVertonghen LCB left\", \"JanVertonghen L_CB left\", \"JonnyEvans LCB right\", \"JonnyEvans L_CB right\", \"JoseHolebas LCB left\", \"KevinWimmer LCB left\", \"KevinWimmer L_CB left\", \"KurtZouma L_CB right\", \"LaurentKoscielny LCB right\", \"LaurentKoscielny L_CB right\", \"LewisDunk L_CB right\", \"MamadouSakho L_CB left\", \"MarcosRojo L_CB left\", \"MartinCranie L_CB right\", \"MayaYoshida L_CB right\", \"MichaelKeane LCB right\", \"MichaelKeane L_CB right\", \"MiguelBritos LCB left\", \"MiguelBritos L_CB left\", \"NachoMonreal LCB left\", \"NachoMonreal L_CB left\", \"NathanAk LCB left\", \"NathanAk L_CB left\", \"NathanAke LCB left\", \"NathanAke L_CB left\", \"NicolasOtamendi LCB right\", \"NicolasOtamendi L_CB right\", \"NicolsOtamendi LCB right\", \"NicolsOtamendi L_CB right\", \"PaulDummett LCB left\", \"PhilJagielka LCB right\", \"PhilJagielka L_CB right\", \"PhilJones LCB right\", \"PhilJones L_CB right\", \"RagnarKlavan L_CB left\", \"RobHolding LCB right\", \"RobHolding L_CB right\", \"ScottDann L_CB right\", \"SeadKolasinac LCB left\", \"ShkodranMustafi L_CB right\", \"TobyAlderweireld L_CB right\", \"TyroneMings LCB left\", \"VictorLindelf L_CB right\", \"VictorLindelof L_CB right\", \"VincentKompany L_CB right\", \"VirgilvanDijk L_CB right\", \"VirgilvanDijk L_CB right\", \"WesleyHoedt LCB left\", \"WesleyHoedt L_CB left\", \"WinstonReid L_CB right\"], \"type\": \"scatter\", \"x\": [1.63, 6.9, 8.0, 8.33, 1.33, 5.06, 6.9, 1.64, 1.9, 3.06, 2.9, 6.25, 2.01, 4.76, 0.0, 5.88, 3.57, 0.0, 0.0, 7.25, 3.23, 0.0, 2.02, 0.0, 2.08, 2.63, 0.0, 3.03, 1.96, 0.0, 2.82, 0.0, 0.0, 7.27, 7.41, 2.62, 4.35, 2.33, 5.8, 0.0, 0.0, 6.45, 2.33, 0.0, 5.77, 3.25, 4.82, 3.28, 0.0, 4.0, 0.0, 2.86, 6.98, 1.85, 1.33, 5.88, 0.0, 1.41, 10.34, 1.96, 0.0, 0.45, 3.85, 1.54, 0.0, 0.0, 4.76, 0.0, 4.83, 0.56, 8.7, 9.76, 4.0, 0.0, 0.0, 3.03, 0.0, 5.41, 15.38, 10.0, 2.22, 2.2, 2.82, 1.36, 6.06], \"y\": [2.6216292652584934, 5.540763156424308, 2.843972109258175, 7.7053208951838315, 0.971585838124156, 2.7415122453573297, 2.810675169116464, 1.6685981364523776, 0.5196374133700812, 1.5471973076310692, 2.3123478192998017, 6.880191504023969, 3.2349030843517124, 1.5583233575203588, 0.0, 12.931188239770778, 1.1546722713059612, 0.0, 0.0, 3.4035952674036007, 1.3675947012680194, 0.0, 1.0755075837927635, 0.0, 0.50324022595305, 2.2030658529777276, 0.0, 2.8690472950763777, 3.1977933618465277, 0.0, 1.7998124457011788, 0.0, 0.0, 0.2914097011935982, 0.5945427714053679, 1.0815944829809416, 3.3873105387918763, 9.300705305365629, 3.05495113539307, 0.0, 0.0, 8.952322926732801, 1.563608516440835, 0.0, 1.4440485168821537, 3.192260467666921, 5.94859331262758, 0.45984055938535046, 0.0, 1.9673297181725504, 0.0, 0.5547454181526388, 17.193243134940086, -0.9995614419932719, 1.0946041294497197, 1.0278414565083736, 0.0, -0.29317711637368504, -0.07120820147723987, 1.6436665592824713, 0.0, 0.2279600968384849, 0.13077761440609512, 1.5837612132040355, 0.0, 0.0, 0.9082546014161337, 0.0, 3.2894615292677596, 0.43565607707760184, -4.513788077494373, 6.435824524066071, 23.08146581053734, 0.0, 0.0, 0.5694278021992156, 0.0, -0.6961080598065982, 5.154130765451835, -0.45897805830463767, 6.400579877663404, 0.6652453013665074, -0.41287435008816314, -0.12125784467736428, 6.479899765867176]}],\n",
       "                        {\"annotations\": [{\"showarrow\": false, \"text\": \"% Progressive passes\", \"x\": 0.5, \"xref\": \"paper\", \"y\": -0.15, \"yref\": \"paper\"}, {\"showarrow\": false, \"text\": \"VAEP per progressive pass (scaled to 10000)\", \"textangle\": -90, \"x\": -0.07, \"xref\": \"paper\", \"y\": 0.5, \"yref\": \"paper\"}], \"autosize\": true, \"margin\": {\"b\": 100}, \"template\": {\"data\": {\"bar\": [{\"error_x\": {\"color\": \"#2a3f5f\"}, \"error_y\": {\"color\": \"#2a3f5f\"}, \"marker\": {\"line\": {\"color\": \"#E5ECF6\", \"width\": 0.5}}, \"type\": \"bar\"}], \"barpolar\": [{\"marker\": {\"line\": {\"color\": \"#E5ECF6\", \"width\": 0.5}}, \"type\": \"barpolar\"}], \"carpet\": [{\"aaxis\": {\"endlinecolor\": \"#2a3f5f\", \"gridcolor\": \"white\", \"linecolor\": \"white\", \"minorgridcolor\": \"white\", \"startlinecolor\": \"#2a3f5f\"}, \"baxis\": {\"endlinecolor\": \"#2a3f5f\", \"gridcolor\": \"white\", \"linecolor\": \"white\", \"minorgridcolor\": \"white\", \"startlinecolor\": \"#2a3f5f\"}, \"type\": \"carpet\"}], \"choropleth\": [{\"colorbar\": {\"outlinewidth\": 0, \"ticks\": \"\"}, \"type\": \"choropleth\"}], \"contour\": [{\"colorbar\": {\"outlinewidth\": 0, \"ticks\": \"\"}, \"colorscale\": [[0.0, \"#0d0887\"], [0.1111111111111111, \"#46039f\"], [0.2222222222222222, \"#7201a8\"], [0.3333333333333333, \"#9c179e\"], [0.4444444444444444, \"#bd3786\"], [0.5555555555555556, \"#d8576b\"], [0.6666666666666666, \"#ed7953\"], [0.7777777777777778, \"#fb9f3a\"], [0.8888888888888888, \"#fdca26\"], [1.0, \"#f0f921\"]], \"type\": \"contour\"}], \"contourcarpet\": [{\"colorbar\": {\"outlinewidth\": 0, \"ticks\": \"\"}, \"type\": \"contourcarpet\"}], \"heatmap\": [{\"colorbar\": {\"outlinewidth\": 0, \"ticks\": \"\"}, \"colorscale\": [[0.0, \"#0d0887\"], [0.1111111111111111, \"#46039f\"], [0.2222222222222222, \"#7201a8\"], [0.3333333333333333, \"#9c179e\"], [0.4444444444444444, \"#bd3786\"], [0.5555555555555556, \"#d8576b\"], [0.6666666666666666, \"#ed7953\"], [0.7777777777777778, \"#fb9f3a\"], [0.8888888888888888, \"#fdca26\"], [1.0, \"#f0f921\"]], \"type\": \"heatmap\"}], \"heatmapgl\": [{\"colorbar\": {\"outlinewidth\": 0, \"ticks\": \"\"}, \"colorscale\": [[0.0, \"#0d0887\"], [0.1111111111111111, \"#46039f\"], [0.2222222222222222, \"#7201a8\"], [0.3333333333333333, \"#9c179e\"], [0.4444444444444444, \"#bd3786\"], [0.5555555555555556, \"#d8576b\"], [0.6666666666666666, \"#ed7953\"], [0.7777777777777778, \"#fb9f3a\"], [0.8888888888888888, \"#fdca26\"], [1.0, \"#f0f921\"]], \"type\": \"heatmapgl\"}], \"histogram\": [{\"marker\": {\"colorbar\": {\"outlinewidth\": 0, \"ticks\": \"\"}}, \"type\": \"histogram\"}], \"histogram2d\": [{\"colorbar\": {\"outlinewidth\": 0, \"ticks\": \"\"}, \"colorscale\": [[0.0, \"#0d0887\"], [0.1111111111111111, \"#46039f\"], [0.2222222222222222, \"#7201a8\"], [0.3333333333333333, \"#9c179e\"], [0.4444444444444444, \"#bd3786\"], [0.5555555555555556, \"#d8576b\"], [0.6666666666666666, \"#ed7953\"], [0.7777777777777778, \"#fb9f3a\"], [0.8888888888888888, \"#fdca26\"], [1.0, \"#f0f921\"]], \"type\": \"histogram2d\"}], \"histogram2dcontour\": [{\"colorbar\": {\"outlinewidth\": 0, \"ticks\": \"\"}, \"colorscale\": [[0.0, \"#0d0887\"], [0.1111111111111111, \"#46039f\"], [0.2222222222222222, \"#7201a8\"], [0.3333333333333333, \"#9c179e\"], [0.4444444444444444, \"#bd3786\"], [0.5555555555555556, \"#d8576b\"], [0.6666666666666666, \"#ed7953\"], [0.7777777777777778, \"#fb9f3a\"], [0.8888888888888888, \"#fdca26\"], [1.0, \"#f0f921\"]], \"type\": \"histogram2dcontour\"}], \"mesh3d\": [{\"colorbar\": {\"outlinewidth\": 0, \"ticks\": \"\"}, \"type\": \"mesh3d\"}], \"parcoords\": [{\"line\": {\"colorbar\": {\"outlinewidth\": 0, \"ticks\": \"\"}}, \"type\": \"parcoords\"}], \"pie\": [{\"automargin\": true, \"type\": \"pie\"}], \"scatter\": [{\"marker\": {\"colorbar\": {\"outlinewidth\": 0, \"ticks\": \"\"}}, \"type\": \"scatter\"}], \"scatter3d\": [{\"line\": {\"colorbar\": {\"outlinewidth\": 0, \"ticks\": \"\"}}, \"marker\": {\"colorbar\": {\"outlinewidth\": 0, \"ticks\": \"\"}}, \"type\": \"scatter3d\"}], \"scattercarpet\": [{\"marker\": {\"colorbar\": {\"outlinewidth\": 0, \"ticks\": \"\"}}, \"type\": \"scattercarpet\"}], \"scattergeo\": [{\"marker\": {\"colorbar\": {\"outlinewidth\": 0, \"ticks\": \"\"}}, \"type\": \"scattergeo\"}], \"scattergl\": [{\"marker\": {\"colorbar\": {\"outlinewidth\": 0, \"ticks\": \"\"}}, \"type\": \"scattergl\"}], \"scattermapbox\": [{\"marker\": {\"colorbar\": {\"outlinewidth\": 0, \"ticks\": \"\"}}, \"type\": \"scattermapbox\"}], \"scatterpolar\": [{\"marker\": {\"colorbar\": {\"outlinewidth\": 0, \"ticks\": \"\"}}, \"type\": \"scatterpolar\"}], \"scatterpolargl\": [{\"marker\": {\"colorbar\": {\"outlinewidth\": 0, \"ticks\": \"\"}}, \"type\": \"scatterpolargl\"}], \"scatterternary\": [{\"marker\": {\"colorbar\": {\"outlinewidth\": 0, \"ticks\": \"\"}}, \"type\": \"scatterternary\"}], \"surface\": [{\"colorbar\": {\"outlinewidth\": 0, \"ticks\": \"\"}, \"colorscale\": [[0.0, \"#0d0887\"], [0.1111111111111111, \"#46039f\"], [0.2222222222222222, \"#7201a8\"], [0.3333333333333333, \"#9c179e\"], [0.4444444444444444, \"#bd3786\"], [0.5555555555555556, \"#d8576b\"], [0.6666666666666666, \"#ed7953\"], [0.7777777777777778, \"#fb9f3a\"], [0.8888888888888888, \"#fdca26\"], [1.0, \"#f0f921\"]], \"type\": \"surface\"}], \"table\": [{\"cells\": {\"fill\": {\"color\": \"#EBF0F8\"}, \"line\": {\"color\": \"white\"}}, \"header\": {\"fill\": {\"color\": \"#C8D4E3\"}, \"line\": {\"color\": \"white\"}}, \"type\": \"table\"}]}, \"layout\": {\"annotationdefaults\": {\"arrowcolor\": \"#2a3f5f\", \"arrowhead\": 0, \"arrowwidth\": 1}, \"coloraxis\": {\"colorbar\": {\"outlinewidth\": 0, \"ticks\": \"\"}}, \"colorscale\": {\"diverging\": [[0, \"#8e0152\"], [0.1, \"#c51b7d\"], [0.2, \"#de77ae\"], [0.3, \"#f1b6da\"], [0.4, \"#fde0ef\"], [0.5, \"#f7f7f7\"], [0.6, \"#e6f5d0\"], [0.7, \"#b8e186\"], [0.8, \"#7fbc41\"], [0.9, \"#4d9221\"], [1, \"#276419\"]], \"sequential\": [[0.0, \"#0d0887\"], [0.1111111111111111, \"#46039f\"], [0.2222222222222222, \"#7201a8\"], [0.3333333333333333, \"#9c179e\"], [0.4444444444444444, \"#bd3786\"], [0.5555555555555556, \"#d8576b\"], [0.6666666666666666, \"#ed7953\"], [0.7777777777777778, \"#fb9f3a\"], [0.8888888888888888, \"#fdca26\"], [1.0, \"#f0f921\"]], \"sequentialminus\": [[0.0, \"#0d0887\"], [0.1111111111111111, \"#46039f\"], [0.2222222222222222, \"#7201a8\"], [0.3333333333333333, \"#9c179e\"], [0.4444444444444444, \"#bd3786\"], [0.5555555555555556, \"#d8576b\"], [0.6666666666666666, \"#ed7953\"], [0.7777777777777778, \"#fb9f3a\"], [0.8888888888888888, \"#fdca26\"], [1.0, \"#f0f921\"]]}, \"colorway\": [\"#636efa\", \"#EF553B\", \"#00cc96\", \"#ab63fa\", \"#FFA15A\", \"#19d3f3\", \"#FF6692\", \"#B6E880\", \"#FF97FF\", \"#FECB52\"], \"font\": {\"color\": \"#2a3f5f\"}, \"geo\": {\"bgcolor\": \"white\", \"lakecolor\": \"white\", \"landcolor\": \"#E5ECF6\", \"showlakes\": true, \"showland\": true, \"subunitcolor\": \"white\"}, \"hoverlabel\": {\"align\": \"left\"}, \"hovermode\": \"closest\", \"mapbox\": {\"style\": \"light\"}, \"paper_bgcolor\": \"white\", \"plot_bgcolor\": \"#E5ECF6\", \"polar\": {\"angularaxis\": {\"gridcolor\": \"white\", \"linecolor\": \"white\", \"ticks\": \"\"}, \"bgcolor\": \"#E5ECF6\", \"radialaxis\": {\"gridcolor\": \"white\", \"linecolor\": \"white\", \"ticks\": \"\"}}, \"scene\": {\"xaxis\": {\"backgroundcolor\": \"#E5ECF6\", \"gridcolor\": \"white\", \"gridwidth\": 2, \"linecolor\": \"white\", \"showbackground\": true, \"ticks\": \"\", \"zerolinecolor\": \"white\"}, \"yaxis\": {\"backgroundcolor\": \"#E5ECF6\", \"gridcolor\": \"white\", \"gridwidth\": 2, \"linecolor\": \"white\", \"showbackground\": true, \"ticks\": \"\", \"zerolinecolor\": \"white\"}, \"zaxis\": {\"backgroundcolor\": \"#E5ECF6\", \"gridcolor\": \"white\", \"gridwidth\": 2, \"linecolor\": \"white\", \"showbackground\": true, \"ticks\": \"\", \"zerolinecolor\": \"white\"}}, \"shapedefaults\": {\"line\": {\"color\": \"#2a3f5f\"}}, \"ternary\": {\"aaxis\": {\"gridcolor\": \"white\", \"linecolor\": \"white\", \"ticks\": \"\"}, \"baxis\": {\"gridcolor\": \"white\", \"linecolor\": \"white\", \"ticks\": \"\"}, \"bgcolor\": \"#E5ECF6\", \"caxis\": {\"gridcolor\": \"white\", \"linecolor\": \"white\", \"ticks\": \"\"}}, \"title\": {\"x\": 0.05}, \"xaxis\": {\"automargin\": true, \"gridcolor\": \"white\", \"linecolor\": \"white\", \"ticks\": \"\", \"title\": {\"standoff\": 15}, \"zerolinecolor\": \"white\", \"zerolinewidth\": 2}, \"yaxis\": {\"automargin\": true, \"gridcolor\": \"white\", \"linecolor\": \"white\", \"ticks\": \"\", \"title\": {\"standoff\": 15}, \"zerolinecolor\": \"white\", \"zerolinewidth\": 2}}}, \"title\": {\"text\": \"leftflank_def\"}},\n",
       "                        {\"responsive\": true}\n",
       "                    ).then(function(){\n",
       "                            \n",
       "var gd = document.getElementById('99b31953-760e-4623-9a8a-9955b5423af8');\n",
       "var x = new MutationObserver(function (mutations, observer) {{\n",
       "        var display = window.getComputedStyle(gd).display;\n",
       "        if (!display || display === 'none') {{\n",
       "            console.log([gd, 'removed!']);\n",
       "            Plotly.purge(gd);\n",
       "            observer.disconnect();\n",
       "        }}\n",
       "}});\n",
       "\n",
       "// Listen for the removal of the full notebook cells\n",
       "var notebookContainer = gd.closest('#notebook-container');\n",
       "if (notebookContainer) {{\n",
       "    x.observe(notebookContainer, {childList: true});\n",
       "}}\n",
       "\n",
       "// Listen for the clearing of the current output cell\n",
       "var outputEl = gd.closest('.output');\n",
       "if (outputEl) {{\n",
       "    x.observe(outputEl, {childList: true});\n",
       "}}\n",
       "\n",
       "                        })\n",
       "                };\n",
       "                });\n",
       "            </script>\n",
       "        </div>"
      ]
     },
     "metadata": {},
     "output_type": "display_data"
    },
    {
     "data": {
      "application/vnd.plotly.v1+json": {
       "config": {
        "plotlyServerURL": "https://plot.ly"
       },
       "data": [
        {
         "mode": "markers",
         "name": "Plot1",
         "text": [
          "AaronCresswell LCB left",
          "AdrianMariappa L_CB right",
          "AhmedHegazi LCB right",
          "AhmedHegazi L_CB right",
          "AlfieMawson LCB right",
          "AlfieMawson L_CB right",
          "AngeloOgbonna LCB left",
          "AngeloOgbonna L_CB left",
          "AntonioRdiger LCB right",
          "AntonioRudiger LCB right",
          "AshleyWilliams L_CB right",
          "AymericLaporte LCB left",
          "AymericLaporte L_CB left",
          "BenMee L_CB left",
          "BrunoMartinsIndi LCB left",
          "BrunoMartinsIndi L_CB left",
          "CalumChambers L_CB right",
          "ChrisSmalling L_CB right",
          "ChristianKabasele LCB right",
          "ChristianKabasele L_CB right",
          "ChristopherSchindler L_CB right",
          "CiaranClark LCB left",
          "CiaranClark L_CB left",
          "DeclanRice LCB right",
          "DejanLovren L_CB right",
          "EliaquimMangala L_CB left",
          "ErikPieters LCB left",
          "FlorianLejeune L_CB right",
          "GaryCahill LCB right",
          "GeoffCameron LCB right",
          "HarryMaguire L_CB right",
          "JairoRiedewald LCB left",
          "JamesCollins LCB right",
          "JamesTarkowski L_CB right",
          "JamesTomkins L_CB right",
          "JanVertonghen LCB left",
          "JanVertonghen L_CB left",
          "JonnyEvans LCB right",
          "JonnyEvans L_CB right",
          "JoseHolebas LCB left",
          "KevinWimmer LCB left",
          "KevinWimmer L_CB left",
          "KurtZouma L_CB right",
          "LaurentKoscielny LCB right",
          "LaurentKoscielny L_CB right",
          "LewisDunk L_CB right",
          "MamadouSakho L_CB left",
          "MarcosRojo L_CB left",
          "MartinCranie L_CB right",
          "MayaYoshida L_CB right",
          "MichaelKeane LCB right",
          "MichaelKeane L_CB right",
          "MiguelBritos LCB left",
          "MiguelBritos L_CB left",
          "NachoMonreal LCB left",
          "NachoMonreal L_CB left",
          "NathanAk LCB left",
          "NathanAk L_CB left",
          "NathanAke LCB left",
          "NathanAke L_CB left",
          "NicolasOtamendi LCB right",
          "NicolasOtamendi L_CB right",
          "NicolsOtamendi LCB right",
          "NicolsOtamendi L_CB right",
          "PaulDummett LCB left",
          "PhilJagielka LCB right",
          "PhilJagielka L_CB right",
          "PhilJones LCB right",
          "PhilJones L_CB right",
          "RagnarKlavan L_CB left",
          "RobHolding LCB right",
          "RobHolding L_CB right",
          "ScottDann L_CB right",
          "SeadKolasinac LCB left",
          "ShkodranMustafi L_CB right",
          "TobyAlderweireld L_CB right",
          "TyroneMings LCB left",
          "VictorLindelf L_CB right",
          "VictorLindelof L_CB right",
          "VincentKompany L_CB right",
          "VirgilvanDijk L_CB right",
          "VirgilvanDijk L_CB right",
          "WesleyHoedt LCB left",
          "WesleyHoedt L_CB left",
          "WinstonReid L_CB right"
         ],
         "type": "scatter",
         "x": [
          0,
          0,
          4,
          1.39,
          1.33,
          0.56,
          0,
          1.64,
          1.27,
          0,
          1.45,
          0,
          0,
          1.43,
          0,
          0,
          0,
          0,
          0,
          1.45,
          1.08,
          7.69,
          0,
          0,
          0,
          0,
          0,
          0.61,
          0,
          6.25,
          0.28,
          0,
          0,
          0,
          1.85,
          0,
          0.87,
          2.33,
          1.45,
          0,
          2,
          3.23,
          0,
          0,
          0,
          0.41,
          1.2,
          0,
          0,
          4,
          0,
          0,
          0,
          0,
          0,
          0,
          5,
          1.41,
          3.45,
          1.96,
          0,
          0,
          0,
          0.38,
          0,
          0,
          0,
          0,
          0,
          0.56,
          0,
          0,
          0,
          0,
          0,
          0,
          0,
          0,
          0,
          10,
          0,
          0,
          0,
          0.45,
          0
         ],
         "y": [
          0,
          0,
          1.1579402722418308,
          3.11137642711401,
          0.48975256892542046,
          -0.11857868475692997,
          0,
          0.713397214402918,
          1.0844961964065516,
          0,
          2.5619944368583565,
          0,
          0,
          2.6810949313498678,
          0,
          0,
          0,
          0,
          0,
          1.4463930890180063,
          0.6991186960329933,
          5.949906503351835,
          0,
          0,
          0,
          0,
          0,
          1.8670937102852447,
          0,
          22.71662699058652,
          0.0032951784357007617,
          0,
          0,
          0,
          4.035348279608621,
          0,
          0.9258342501909838,
          0.7754644422337066,
          0.8043502389952757,
          0,
          1.8487166613340378,
          1.33542193760795,
          0,
          0,
          0,
          5.427378464520462,
          1.0425183383456196,
          0,
          0,
          2.8961561620235443,
          0,
          0,
          0,
          0,
          0,
          0,
          3.968338016420603,
          2.8385866013631014,
          6.411520057711108,
          2.1955668561014474,
          0,
          0,
          0,
          0.09348101985569185,
          0,
          0,
          0,
          0,
          0,
          0.7063322622516301,
          0,
          0,
          0,
          0,
          0,
          0,
          0,
          0,
          0,
          5.771202966570854,
          0,
          0,
          0,
          0.08257028689099984,
          0
         ]
        }
       ],
       "layout": {
        "annotations": [
         {
          "showarrow": false,
          "text": "% Progressive passes",
          "x": 0.5,
          "xref": "paper",
          "y": -0.15,
          "yref": "paper"
         },
         {
          "showarrow": false,
          "text": "VAEP per progressive pass (scaled to 10000)",
          "textangle": -90,
          "x": -0.07,
          "xref": "paper",
          "y": 0.5,
          "yref": "paper"
         }
        ],
        "autosize": true,
        "margin": {
         "b": 100
        },
        "template": {
         "data": {
          "bar": [
           {
            "error_x": {
             "color": "#2a3f5f"
            },
            "error_y": {
             "color": "#2a3f5f"
            },
            "marker": {
             "line": {
              "color": "#E5ECF6",
              "width": 0.5
             }
            },
            "type": "bar"
           }
          ],
          "barpolar": [
           {
            "marker": {
             "line": {
              "color": "#E5ECF6",
              "width": 0.5
             }
            },
            "type": "barpolar"
           }
          ],
          "carpet": [
           {
            "aaxis": {
             "endlinecolor": "#2a3f5f",
             "gridcolor": "white",
             "linecolor": "white",
             "minorgridcolor": "white",
             "startlinecolor": "#2a3f5f"
            },
            "baxis": {
             "endlinecolor": "#2a3f5f",
             "gridcolor": "white",
             "linecolor": "white",
             "minorgridcolor": "white",
             "startlinecolor": "#2a3f5f"
            },
            "type": "carpet"
           }
          ],
          "choropleth": [
           {
            "colorbar": {
             "outlinewidth": 0,
             "ticks": ""
            },
            "type": "choropleth"
           }
          ],
          "contour": [
           {
            "colorbar": {
             "outlinewidth": 0,
             "ticks": ""
            },
            "colorscale": [
             [
              0,
              "#0d0887"
             ],
             [
              0.1111111111111111,
              "#46039f"
             ],
             [
              0.2222222222222222,
              "#7201a8"
             ],
             [
              0.3333333333333333,
              "#9c179e"
             ],
             [
              0.4444444444444444,
              "#bd3786"
             ],
             [
              0.5555555555555556,
              "#d8576b"
             ],
             [
              0.6666666666666666,
              "#ed7953"
             ],
             [
              0.7777777777777778,
              "#fb9f3a"
             ],
             [
              0.8888888888888888,
              "#fdca26"
             ],
             [
              1,
              "#f0f921"
             ]
            ],
            "type": "contour"
           }
          ],
          "contourcarpet": [
           {
            "colorbar": {
             "outlinewidth": 0,
             "ticks": ""
            },
            "type": "contourcarpet"
           }
          ],
          "heatmap": [
           {
            "colorbar": {
             "outlinewidth": 0,
             "ticks": ""
            },
            "colorscale": [
             [
              0,
              "#0d0887"
             ],
             [
              0.1111111111111111,
              "#46039f"
             ],
             [
              0.2222222222222222,
              "#7201a8"
             ],
             [
              0.3333333333333333,
              "#9c179e"
             ],
             [
              0.4444444444444444,
              "#bd3786"
             ],
             [
              0.5555555555555556,
              "#d8576b"
             ],
             [
              0.6666666666666666,
              "#ed7953"
             ],
             [
              0.7777777777777778,
              "#fb9f3a"
             ],
             [
              0.8888888888888888,
              "#fdca26"
             ],
             [
              1,
              "#f0f921"
             ]
            ],
            "type": "heatmap"
           }
          ],
          "heatmapgl": [
           {
            "colorbar": {
             "outlinewidth": 0,
             "ticks": ""
            },
            "colorscale": [
             [
              0,
              "#0d0887"
             ],
             [
              0.1111111111111111,
              "#46039f"
             ],
             [
              0.2222222222222222,
              "#7201a8"
             ],
             [
              0.3333333333333333,
              "#9c179e"
             ],
             [
              0.4444444444444444,
              "#bd3786"
             ],
             [
              0.5555555555555556,
              "#d8576b"
             ],
             [
              0.6666666666666666,
              "#ed7953"
             ],
             [
              0.7777777777777778,
              "#fb9f3a"
             ],
             [
              0.8888888888888888,
              "#fdca26"
             ],
             [
              1,
              "#f0f921"
             ]
            ],
            "type": "heatmapgl"
           }
          ],
          "histogram": [
           {
            "marker": {
             "colorbar": {
              "outlinewidth": 0,
              "ticks": ""
             }
            },
            "type": "histogram"
           }
          ],
          "histogram2d": [
           {
            "colorbar": {
             "outlinewidth": 0,
             "ticks": ""
            },
            "colorscale": [
             [
              0,
              "#0d0887"
             ],
             [
              0.1111111111111111,
              "#46039f"
             ],
             [
              0.2222222222222222,
              "#7201a8"
             ],
             [
              0.3333333333333333,
              "#9c179e"
             ],
             [
              0.4444444444444444,
              "#bd3786"
             ],
             [
              0.5555555555555556,
              "#d8576b"
             ],
             [
              0.6666666666666666,
              "#ed7953"
             ],
             [
              0.7777777777777778,
              "#fb9f3a"
             ],
             [
              0.8888888888888888,
              "#fdca26"
             ],
             [
              1,
              "#f0f921"
             ]
            ],
            "type": "histogram2d"
           }
          ],
          "histogram2dcontour": [
           {
            "colorbar": {
             "outlinewidth": 0,
             "ticks": ""
            },
            "colorscale": [
             [
              0,
              "#0d0887"
             ],
             [
              0.1111111111111111,
              "#46039f"
             ],
             [
              0.2222222222222222,
              "#7201a8"
             ],
             [
              0.3333333333333333,
              "#9c179e"
             ],
             [
              0.4444444444444444,
              "#bd3786"
             ],
             [
              0.5555555555555556,
              "#d8576b"
             ],
             [
              0.6666666666666666,
              "#ed7953"
             ],
             [
              0.7777777777777778,
              "#fb9f3a"
             ],
             [
              0.8888888888888888,
              "#fdca26"
             ],
             [
              1,
              "#f0f921"
             ]
            ],
            "type": "histogram2dcontour"
           }
          ],
          "mesh3d": [
           {
            "colorbar": {
             "outlinewidth": 0,
             "ticks": ""
            },
            "type": "mesh3d"
           }
          ],
          "parcoords": [
           {
            "line": {
             "colorbar": {
              "outlinewidth": 0,
              "ticks": ""
             }
            },
            "type": "parcoords"
           }
          ],
          "pie": [
           {
            "automargin": true,
            "type": "pie"
           }
          ],
          "scatter": [
           {
            "marker": {
             "colorbar": {
              "outlinewidth": 0,
              "ticks": ""
             }
            },
            "type": "scatter"
           }
          ],
          "scatter3d": [
           {
            "line": {
             "colorbar": {
              "outlinewidth": 0,
              "ticks": ""
             }
            },
            "marker": {
             "colorbar": {
              "outlinewidth": 0,
              "ticks": ""
             }
            },
            "type": "scatter3d"
           }
          ],
          "scattercarpet": [
           {
            "marker": {
             "colorbar": {
              "outlinewidth": 0,
              "ticks": ""
             }
            },
            "type": "scattercarpet"
           }
          ],
          "scattergeo": [
           {
            "marker": {
             "colorbar": {
              "outlinewidth": 0,
              "ticks": ""
             }
            },
            "type": "scattergeo"
           }
          ],
          "scattergl": [
           {
            "marker": {
             "colorbar": {
              "outlinewidth": 0,
              "ticks": ""
             }
            },
            "type": "scattergl"
           }
          ],
          "scattermapbox": [
           {
            "marker": {
             "colorbar": {
              "outlinewidth": 0,
              "ticks": ""
             }
            },
            "type": "scattermapbox"
           }
          ],
          "scatterpolar": [
           {
            "marker": {
             "colorbar": {
              "outlinewidth": 0,
              "ticks": ""
             }
            },
            "type": "scatterpolar"
           }
          ],
          "scatterpolargl": [
           {
            "marker": {
             "colorbar": {
              "outlinewidth": 0,
              "ticks": ""
             }
            },
            "type": "scatterpolargl"
           }
          ],
          "scatterternary": [
           {
            "marker": {
             "colorbar": {
              "outlinewidth": 0,
              "ticks": ""
             }
            },
            "type": "scatterternary"
           }
          ],
          "surface": [
           {
            "colorbar": {
             "outlinewidth": 0,
             "ticks": ""
            },
            "colorscale": [
             [
              0,
              "#0d0887"
             ],
             [
              0.1111111111111111,
              "#46039f"
             ],
             [
              0.2222222222222222,
              "#7201a8"
             ],
             [
              0.3333333333333333,
              "#9c179e"
             ],
             [
              0.4444444444444444,
              "#bd3786"
             ],
             [
              0.5555555555555556,
              "#d8576b"
             ],
             [
              0.6666666666666666,
              "#ed7953"
             ],
             [
              0.7777777777777778,
              "#fb9f3a"
             ],
             [
              0.8888888888888888,
              "#fdca26"
             ],
             [
              1,
              "#f0f921"
             ]
            ],
            "type": "surface"
           }
          ],
          "table": [
           {
            "cells": {
             "fill": {
              "color": "#EBF0F8"
             },
             "line": {
              "color": "white"
             }
            },
            "header": {
             "fill": {
              "color": "#C8D4E3"
             },
             "line": {
              "color": "white"
             }
            },
            "type": "table"
           }
          ]
         },
         "layout": {
          "annotationdefaults": {
           "arrowcolor": "#2a3f5f",
           "arrowhead": 0,
           "arrowwidth": 1
          },
          "coloraxis": {
           "colorbar": {
            "outlinewidth": 0,
            "ticks": ""
           }
          },
          "colorscale": {
           "diverging": [
            [
             0,
             "#8e0152"
            ],
            [
             0.1,
             "#c51b7d"
            ],
            [
             0.2,
             "#de77ae"
            ],
            [
             0.3,
             "#f1b6da"
            ],
            [
             0.4,
             "#fde0ef"
            ],
            [
             0.5,
             "#f7f7f7"
            ],
            [
             0.6,
             "#e6f5d0"
            ],
            [
             0.7,
             "#b8e186"
            ],
            [
             0.8,
             "#7fbc41"
            ],
            [
             0.9,
             "#4d9221"
            ],
            [
             1,
             "#276419"
            ]
           ],
           "sequential": [
            [
             0,
             "#0d0887"
            ],
            [
             0.1111111111111111,
             "#46039f"
            ],
            [
             0.2222222222222222,
             "#7201a8"
            ],
            [
             0.3333333333333333,
             "#9c179e"
            ],
            [
             0.4444444444444444,
             "#bd3786"
            ],
            [
             0.5555555555555556,
             "#d8576b"
            ],
            [
             0.6666666666666666,
             "#ed7953"
            ],
            [
             0.7777777777777778,
             "#fb9f3a"
            ],
            [
             0.8888888888888888,
             "#fdca26"
            ],
            [
             1,
             "#f0f921"
            ]
           ],
           "sequentialminus": [
            [
             0,
             "#0d0887"
            ],
            [
             0.1111111111111111,
             "#46039f"
            ],
            [
             0.2222222222222222,
             "#7201a8"
            ],
            [
             0.3333333333333333,
             "#9c179e"
            ],
            [
             0.4444444444444444,
             "#bd3786"
            ],
            [
             0.5555555555555556,
             "#d8576b"
            ],
            [
             0.6666666666666666,
             "#ed7953"
            ],
            [
             0.7777777777777778,
             "#fb9f3a"
            ],
            [
             0.8888888888888888,
             "#fdca26"
            ],
            [
             1,
             "#f0f921"
            ]
           ]
          },
          "colorway": [
           "#636efa",
           "#EF553B",
           "#00cc96",
           "#ab63fa",
           "#FFA15A",
           "#19d3f3",
           "#FF6692",
           "#B6E880",
           "#FF97FF",
           "#FECB52"
          ],
          "font": {
           "color": "#2a3f5f"
          },
          "geo": {
           "bgcolor": "white",
           "lakecolor": "white",
           "landcolor": "#E5ECF6",
           "showlakes": true,
           "showland": true,
           "subunitcolor": "white"
          },
          "hoverlabel": {
           "align": "left"
          },
          "hovermode": "closest",
          "mapbox": {
           "style": "light"
          },
          "paper_bgcolor": "white",
          "plot_bgcolor": "#E5ECF6",
          "polar": {
           "angularaxis": {
            "gridcolor": "white",
            "linecolor": "white",
            "ticks": ""
           },
           "bgcolor": "#E5ECF6",
           "radialaxis": {
            "gridcolor": "white",
            "linecolor": "white",
            "ticks": ""
           }
          },
          "scene": {
           "xaxis": {
            "backgroundcolor": "#E5ECF6",
            "gridcolor": "white",
            "gridwidth": 2,
            "linecolor": "white",
            "showbackground": true,
            "ticks": "",
            "zerolinecolor": "white"
           },
           "yaxis": {
            "backgroundcolor": "#E5ECF6",
            "gridcolor": "white",
            "gridwidth": 2,
            "linecolor": "white",
            "showbackground": true,
            "ticks": "",
            "zerolinecolor": "white"
           },
           "zaxis": {
            "backgroundcolor": "#E5ECF6",
            "gridcolor": "white",
            "gridwidth": 2,
            "linecolor": "white",
            "showbackground": true,
            "ticks": "",
            "zerolinecolor": "white"
           }
          },
          "shapedefaults": {
           "line": {
            "color": "#2a3f5f"
           }
          },
          "ternary": {
           "aaxis": {
            "gridcolor": "white",
            "linecolor": "white",
            "ticks": ""
           },
           "baxis": {
            "gridcolor": "white",
            "linecolor": "white",
            "ticks": ""
           },
           "bgcolor": "#E5ECF6",
           "caxis": {
            "gridcolor": "white",
            "linecolor": "white",
            "ticks": ""
           }
          },
          "title": {
           "x": 0.05
          },
          "xaxis": {
           "automargin": true,
           "gridcolor": "white",
           "linecolor": "white",
           "ticks": "",
           "title": {
            "standoff": 15
           },
           "zerolinecolor": "white",
           "zerolinewidth": 2
          },
          "yaxis": {
           "automargin": true,
           "gridcolor": "white",
           "linecolor": "white",
           "ticks": "",
           "title": {
            "standoff": 15
           },
           "zerolinecolor": "white",
           "zerolinewidth": 2
          }
         }
        },
        "title": {
         "text": "leftcentral_def"
        },
        "xaxis": {
         "autorange": true,
         "range": [
          -0.6179775280898876,
          10.617977528089888
         ],
         "type": "linear"
        },
        "yaxis": {
         "autorange": true,
         "range": [
          -1.824657269696383,
          24.422705575525974
         ],
         "type": "linear"
        }
       }
      },
      "image/png": "[encoded data removed]",
      "text/html": [
       "<div>\n",
       "        \n",
       "        \n",
       "            <div id=\"0ae43ffa-926d-401d-9d8a-0c1542960421\" class=\"plotly-graph-div\" style=\"height:525px; width:100%;\"></div>\n",
       "            <script type=\"text/javascript\">\n",
       "                require([\"plotly\"], function(Plotly) {\n",
       "                    window.PLOTLYENV=window.PLOTLYENV || {};\n",
       "                    \n",
       "                if (document.getElementById(\"0ae43ffa-926d-401d-9d8a-0c1542960421\")) {\n",
       "                    Plotly.newPlot(\n",
       "                        '0ae43ffa-926d-401d-9d8a-0c1542960421',\n",
       "                        [{\"mode\": \"markers\", \"name\": \"Plot1\", \"text\": [\"AaronCresswell LCB left\", \"AdrianMariappa L_CB right\", \"AhmedHegazi LCB right\", \"AhmedHegazi L_CB right\", \"AlfieMawson LCB right\", \"AlfieMawson L_CB right\", \"AngeloOgbonna LCB left\", \"AngeloOgbonna L_CB left\", \"AntonioRdiger LCB right\", \"AntonioRudiger LCB right\", \"AshleyWilliams L_CB right\", \"AymericLaporte LCB left\", \"AymericLaporte L_CB left\", \"BenMee L_CB left\", \"BrunoMartinsIndi LCB left\", \"BrunoMartinsIndi L_CB left\", \"CalumChambers L_CB right\", \"ChrisSmalling L_CB right\", \"ChristianKabasele LCB right\", \"ChristianKabasele L_CB right\", \"ChristopherSchindler L_CB right\", \"CiaranClark LCB left\", \"CiaranClark L_CB left\", \"DeclanRice LCB right\", \"DejanLovren L_CB right\", \"EliaquimMangala L_CB left\", \"ErikPieters LCB left\", \"FlorianLejeune L_CB right\", \"GaryCahill LCB right\", \"GeoffCameron LCB right\", \"HarryMaguire L_CB right\", \"JairoRiedewald LCB left\", \"JamesCollins LCB right\", \"JamesTarkowski L_CB right\", \"JamesTomkins L_CB right\", \"JanVertonghen LCB left\", \"JanVertonghen L_CB left\", \"JonnyEvans LCB right\", \"JonnyEvans L_CB right\", \"JoseHolebas LCB left\", \"KevinWimmer LCB left\", \"KevinWimmer L_CB left\", \"KurtZouma L_CB right\", \"LaurentKoscielny LCB right\", \"LaurentKoscielny L_CB right\", \"LewisDunk L_CB right\", \"MamadouSakho L_CB left\", \"MarcosRojo L_CB left\", \"MartinCranie L_CB right\", \"MayaYoshida L_CB right\", \"MichaelKeane LCB right\", \"MichaelKeane L_CB right\", \"MiguelBritos LCB left\", \"MiguelBritos L_CB left\", \"NachoMonreal LCB left\", \"NachoMonreal L_CB left\", \"NathanAk LCB left\", \"NathanAk L_CB left\", \"NathanAke LCB left\", \"NathanAke L_CB left\", \"NicolasOtamendi LCB right\", \"NicolasOtamendi L_CB right\", \"NicolsOtamendi LCB right\", \"NicolsOtamendi L_CB right\", \"PaulDummett LCB left\", \"PhilJagielka LCB right\", \"PhilJagielka L_CB right\", \"PhilJones LCB right\", \"PhilJones L_CB right\", \"RagnarKlavan L_CB left\", \"RobHolding LCB right\", \"RobHolding L_CB right\", \"ScottDann L_CB right\", \"SeadKolasinac LCB left\", \"ShkodranMustafi L_CB right\", \"TobyAlderweireld L_CB right\", \"TyroneMings LCB left\", \"VictorLindelf L_CB right\", \"VictorLindelof L_CB right\", \"VincentKompany L_CB right\", \"VirgilvanDijk L_CB right\", \"VirgilvanDijk L_CB right\", \"WesleyHoedt LCB left\", \"WesleyHoedt L_CB left\", \"WinstonReid L_CB right\"], \"type\": \"scatter\", \"x\": [0.0, 0.0, 4.0, 1.39, 1.33, 0.56, 0.0, 1.64, 1.27, 0.0, 1.45, 0.0, 0.0, 1.43, 0.0, 0.0, 0.0, 0.0, 0.0, 1.45, 1.08, 7.69, 0.0, 0.0, 0.0, 0.0, 0.0, 0.61, 0.0, 6.25, 0.28, 0.0, 0.0, 0.0, 1.85, 0.0, 0.87, 2.33, 1.45, 0.0, 2.0, 3.23, 0.0, 0.0, 0.0, 0.41, 1.2, 0.0, 0.0, 4.0, 0.0, 0.0, 0.0, 0.0, 0.0, 0.0, 5.0, 1.41, 3.45, 1.96, 0.0, 0.0, 0.0, 0.38, 0.0, 0.0, 0.0, 0.0, 0.0, 0.56, 0.0, 0.0, 0.0, 0.0, 0.0, 0.0, 0.0, 0.0, 0.0, 10.0, 0.0, 0.0, 0.0, 0.45, 0.0], \"y\": [0.0, 0.0, 1.1579402722418308, 3.11137642711401, 0.48975256892542046, -0.11857868475692997, 0.0, 0.713397214402918, 1.0844961964065516, 0.0, 2.5619944368583565, 0.0, 0.0, 2.6810949313498678, 0.0, 0.0, 0.0, 0.0, 0.0, 1.4463930890180063, 0.6991186960329933, 5.949906503351835, 0.0, 0.0, 0.0, 0.0, 0.0, 1.8670937102852447, 0.0, 22.71662699058652, 0.0032951784357007617, 0.0, 0.0, 0.0, 4.035348279608621, 0.0, 0.9258342501909838, 0.7754644422337066, 0.8043502389952757, 0.0, 1.8487166613340378, 1.33542193760795, 0.0, 0.0, 0.0, 5.427378464520462, 1.0425183383456196, 0.0, 0.0, 2.8961561620235443, 0.0, 0.0, 0.0, 0.0, 0.0, 0.0, 3.968338016420603, 2.8385866013631014, 6.411520057711108, 2.1955668561014474, 0.0, 0.0, 0.0, 0.09348101985569185, 0.0, 0.0, 0.0, 0.0, 0.0, 0.7063322622516301, 0.0, 0.0, 0.0, 0.0, 0.0, 0.0, 0.0, 0.0, 0.0, 5.771202966570854, 0.0, 0.0, 0.0, 0.08257028689099984, 0.0]}],\n",
       "                        {\"annotations\": [{\"showarrow\": false, \"text\": \"% Progressive passes\", \"x\": 0.5, \"xref\": \"paper\", \"y\": -0.15, \"yref\": \"paper\"}, {\"showarrow\": false, \"text\": \"VAEP per progressive pass (scaled to 10000)\", \"textangle\": -90, \"x\": -0.07, \"xref\": \"paper\", \"y\": 0.5, \"yref\": \"paper\"}], \"autosize\": true, \"margin\": {\"b\": 100}, \"template\": {\"data\": {\"bar\": [{\"error_x\": {\"color\": \"#2a3f5f\"}, \"error_y\": {\"color\": \"#2a3f5f\"}, \"marker\": {\"line\": {\"color\": \"#E5ECF6\", \"width\": 0.5}}, \"type\": \"bar\"}], \"barpolar\": [{\"marker\": {\"line\": {\"color\": \"#E5ECF6\", \"width\": 0.5}}, \"type\": \"barpolar\"}], \"carpet\": [{\"aaxis\": {\"endlinecolor\": \"#2a3f5f\", \"gridcolor\": \"white\", \"linecolor\": \"white\", \"minorgridcolor\": \"white\", \"startlinecolor\": \"#2a3f5f\"}, \"baxis\": {\"endlinecolor\": \"#2a3f5f\", \"gridcolor\": \"white\", \"linecolor\": \"white\", \"minorgridcolor\": \"white\", \"startlinecolor\": \"#2a3f5f\"}, \"type\": \"carpet\"}], \"choropleth\": [{\"colorbar\": {\"outlinewidth\": 0, \"ticks\": \"\"}, \"type\": \"choropleth\"}], \"contour\": [{\"colorbar\": {\"outlinewidth\": 0, \"ticks\": \"\"}, \"colorscale\": [[0.0, \"#0d0887\"], [0.1111111111111111, \"#46039f\"], [0.2222222222222222, \"#7201a8\"], [0.3333333333333333, \"#9c179e\"], [0.4444444444444444, \"#bd3786\"], [0.5555555555555556, \"#d8576b\"], [0.6666666666666666, \"#ed7953\"], [0.7777777777777778, \"#fb9f3a\"], [0.8888888888888888, \"#fdca26\"], [1.0, \"#f0f921\"]], \"type\": \"contour\"}], \"contourcarpet\": [{\"colorbar\": {\"outlinewidth\": 0, \"ticks\": \"\"}, \"type\": \"contourcarpet\"}], \"heatmap\": [{\"colorbar\": {\"outlinewidth\": 0, \"ticks\": \"\"}, \"colorscale\": [[0.0, \"#0d0887\"], [0.1111111111111111, \"#46039f\"], [0.2222222222222222, \"#7201a8\"], [0.3333333333333333, \"#9c179e\"], [0.4444444444444444, \"#bd3786\"], [0.5555555555555556, \"#d8576b\"], [0.6666666666666666, \"#ed7953\"], [0.7777777777777778, \"#fb9f3a\"], [0.8888888888888888, \"#fdca26\"], [1.0, \"#f0f921\"]], \"type\": \"heatmap\"}], \"heatmapgl\": [{\"colorbar\": {\"outlinewidth\": 0, \"ticks\": \"\"}, \"colorscale\": [[0.0, \"#0d0887\"], [0.1111111111111111, \"#46039f\"], [0.2222222222222222, \"#7201a8\"], [0.3333333333333333, \"#9c179e\"], [0.4444444444444444, \"#bd3786\"], [0.5555555555555556, \"#d8576b\"], [0.6666666666666666, \"#ed7953\"], [0.7777777777777778, \"#fb9f3a\"], [0.8888888888888888, \"#fdca26\"], [1.0, \"#f0f921\"]], \"type\": \"heatmapgl\"}], \"histogram\": [{\"marker\": {\"colorbar\": {\"outlinewidth\": 0, \"ticks\": \"\"}}, \"type\": \"histogram\"}], \"histogram2d\": [{\"colorbar\": {\"outlinewidth\": 0, \"ticks\": \"\"}, \"colorscale\": [[0.0, \"#0d0887\"], [0.1111111111111111, \"#46039f\"], [0.2222222222222222, \"#7201a8\"], [0.3333333333333333, \"#9c179e\"], [0.4444444444444444, \"#bd3786\"], [0.5555555555555556, \"#d8576b\"], [0.6666666666666666, \"#ed7953\"], [0.7777777777777778, \"#fb9f3a\"], [0.8888888888888888, \"#fdca26\"], [1.0, \"#f0f921\"]], \"type\": \"histogram2d\"}], \"histogram2dcontour\": [{\"colorbar\": {\"outlinewidth\": 0, \"ticks\": \"\"}, \"colorscale\": [[0.0, \"#0d0887\"], [0.1111111111111111, \"#46039f\"], [0.2222222222222222, \"#7201a8\"], [0.3333333333333333, \"#9c179e\"], [0.4444444444444444, \"#bd3786\"], [0.5555555555555556, \"#d8576b\"], [0.6666666666666666, \"#ed7953\"], [0.7777777777777778, \"#fb9f3a\"], [0.8888888888888888, \"#fdca26\"], [1.0, \"#f0f921\"]], \"type\": \"histogram2dcontour\"}], \"mesh3d\": [{\"colorbar\": {\"outlinewidth\": 0, \"ticks\": \"\"}, \"type\": \"mesh3d\"}], \"parcoords\": [{\"line\": {\"colorbar\": {\"outlinewidth\": 0, \"ticks\": \"\"}}, \"type\": \"parcoords\"}], \"pie\": [{\"automargin\": true, \"type\": \"pie\"}], \"scatter\": [{\"marker\": {\"colorbar\": {\"outlinewidth\": 0, \"ticks\": \"\"}}, \"type\": \"scatter\"}], \"scatter3d\": [{\"line\": {\"colorbar\": {\"outlinewidth\": 0, \"ticks\": \"\"}}, \"marker\": {\"colorbar\": {\"outlinewidth\": 0, \"ticks\": \"\"}}, \"type\": \"scatter3d\"}], \"scattercarpet\": [{\"marker\": {\"colorbar\": {\"outlinewidth\": 0, \"ticks\": \"\"}}, \"type\": \"scattercarpet\"}], \"scattergeo\": [{\"marker\": {\"colorbar\": {\"outlinewidth\": 0, \"ticks\": \"\"}}, \"type\": \"scattergeo\"}], \"scattergl\": [{\"marker\": {\"colorbar\": {\"outlinewidth\": 0, \"ticks\": \"\"}}, \"type\": \"scattergl\"}], \"scattermapbox\": [{\"marker\": {\"colorbar\": {\"outlinewidth\": 0, \"ticks\": \"\"}}, \"type\": \"scattermapbox\"}], \"scatterpolar\": [{\"marker\": {\"colorbar\": {\"outlinewidth\": 0, \"ticks\": \"\"}}, \"type\": \"scatterpolar\"}], \"scatterpolargl\": [{\"marker\": {\"colorbar\": {\"outlinewidth\": 0, \"ticks\": \"\"}}, \"type\": \"scatterpolargl\"}], \"scatterternary\": [{\"marker\": {\"colorbar\": {\"outlinewidth\": 0, \"ticks\": \"\"}}, \"type\": \"scatterternary\"}], \"surface\": [{\"colorbar\": {\"outlinewidth\": 0, \"ticks\": \"\"}, \"colorscale\": [[0.0, \"#0d0887\"], [0.1111111111111111, \"#46039f\"], [0.2222222222222222, \"#7201a8\"], [0.3333333333333333, \"#9c179e\"], [0.4444444444444444, \"#bd3786\"], [0.5555555555555556, \"#d8576b\"], [0.6666666666666666, \"#ed7953\"], [0.7777777777777778, \"#fb9f3a\"], [0.8888888888888888, \"#fdca26\"], [1.0, \"#f0f921\"]], \"type\": \"surface\"}], \"table\": [{\"cells\": {\"fill\": {\"color\": \"#EBF0F8\"}, \"line\": {\"color\": \"white\"}}, \"header\": {\"fill\": {\"color\": \"#C8D4E3\"}, \"line\": {\"color\": \"white\"}}, \"type\": \"table\"}]}, \"layout\": {\"annotationdefaults\": {\"arrowcolor\": \"#2a3f5f\", \"arrowhead\": 0, \"arrowwidth\": 1}, \"coloraxis\": {\"colorbar\": {\"outlinewidth\": 0, \"ticks\": \"\"}}, \"colorscale\": {\"diverging\": [[0, \"#8e0152\"], [0.1, \"#c51b7d\"], [0.2, \"#de77ae\"], [0.3, \"#f1b6da\"], [0.4, \"#fde0ef\"], [0.5, \"#f7f7f7\"], [0.6, \"#e6f5d0\"], [0.7, \"#b8e186\"], [0.8, \"#7fbc41\"], [0.9, \"#4d9221\"], [1, \"#276419\"]], \"sequential\": [[0.0, \"#0d0887\"], [0.1111111111111111, \"#46039f\"], [0.2222222222222222, \"#7201a8\"], [0.3333333333333333, \"#9c179e\"], [0.4444444444444444, \"#bd3786\"], [0.5555555555555556, \"#d8576b\"], [0.6666666666666666, \"#ed7953\"], [0.7777777777777778, \"#fb9f3a\"], [0.8888888888888888, \"#fdca26\"], [1.0, \"#f0f921\"]], \"sequentialminus\": [[0.0, \"#0d0887\"], [0.1111111111111111, \"#46039f\"], [0.2222222222222222, \"#7201a8\"], [0.3333333333333333, \"#9c179e\"], [0.4444444444444444, \"#bd3786\"], [0.5555555555555556, \"#d8576b\"], [0.6666666666666666, \"#ed7953\"], [0.7777777777777778, \"#fb9f3a\"], [0.8888888888888888, \"#fdca26\"], [1.0, \"#f0f921\"]]}, \"colorway\": [\"#636efa\", \"#EF553B\", \"#00cc96\", \"#ab63fa\", \"#FFA15A\", \"#19d3f3\", \"#FF6692\", \"#B6E880\", \"#FF97FF\", \"#FECB52\"], \"font\": {\"color\": \"#2a3f5f\"}, \"geo\": {\"bgcolor\": \"white\", \"lakecolor\": \"white\", \"landcolor\": \"#E5ECF6\", \"showlakes\": true, \"showland\": true, \"subunitcolor\": \"white\"}, \"hoverlabel\": {\"align\": \"left\"}, \"hovermode\": \"closest\", \"mapbox\": {\"style\": \"light\"}, \"paper_bgcolor\": \"white\", \"plot_bgcolor\": \"#E5ECF6\", \"polar\": {\"angularaxis\": {\"gridcolor\": \"white\", \"linecolor\": \"white\", \"ticks\": \"\"}, \"bgcolor\": \"#E5ECF6\", \"radialaxis\": {\"gridcolor\": \"white\", \"linecolor\": \"white\", \"ticks\": \"\"}}, \"scene\": {\"xaxis\": {\"backgroundcolor\": \"#E5ECF6\", \"gridcolor\": \"white\", \"gridwidth\": 2, \"linecolor\": \"white\", \"showbackground\": true, \"ticks\": \"\", \"zerolinecolor\": \"white\"}, \"yaxis\": {\"backgroundcolor\": \"#E5ECF6\", \"gridcolor\": \"white\", \"gridwidth\": 2, \"linecolor\": \"white\", \"showbackground\": true, \"ticks\": \"\", \"zerolinecolor\": \"white\"}, \"zaxis\": {\"backgroundcolor\": \"#E5ECF6\", \"gridcolor\": \"white\", \"gridwidth\": 2, \"linecolor\": \"white\", \"showbackground\": true, \"ticks\": \"\", \"zerolinecolor\": \"white\"}}, \"shapedefaults\": {\"line\": {\"color\": \"#2a3f5f\"}}, \"ternary\": {\"aaxis\": {\"gridcolor\": \"white\", \"linecolor\": \"white\", \"ticks\": \"\"}, \"baxis\": {\"gridcolor\": \"white\", \"linecolor\": \"white\", \"ticks\": \"\"}, \"bgcolor\": \"#E5ECF6\", \"caxis\": {\"gridcolor\": \"white\", \"linecolor\": \"white\", \"ticks\": \"\"}}, \"title\": {\"x\": 0.05}, \"xaxis\": {\"automargin\": true, \"gridcolor\": \"white\", \"linecolor\": \"white\", \"ticks\": \"\", \"title\": {\"standoff\": 15}, \"zerolinecolor\": \"white\", \"zerolinewidth\": 2}, \"yaxis\": {\"automargin\": true, \"gridcolor\": \"white\", \"linecolor\": \"white\", \"ticks\": \"\", \"title\": {\"standoff\": 15}, \"zerolinecolor\": \"white\", \"zerolinewidth\": 2}}}, \"title\": {\"text\": \"leftcentral_def\"}},\n",
       "                        {\"responsive\": true}\n",
       "                    ).then(function(){\n",
       "                            \n",
       "var gd = document.getElementById('0ae43ffa-926d-401d-9d8a-0c1542960421');\n",
       "var x = new MutationObserver(function (mutations, observer) {{\n",
       "        var display = window.getComputedStyle(gd).display;\n",
       "        if (!display || display === 'none') {{\n",
       "            console.log([gd, 'removed!']);\n",
       "            Plotly.purge(gd);\n",
       "            observer.disconnect();\n",
       "        }}\n",
       "}});\n",
       "\n",
       "// Listen for the removal of the full notebook cells\n",
       "var notebookContainer = gd.closest('#notebook-container');\n",
       "if (notebookContainer) {{\n",
       "    x.observe(notebookContainer, {childList: true});\n",
       "}}\n",
       "\n",
       "// Listen for the clearing of the current output cell\n",
       "var outputEl = gd.closest('.output');\n",
       "if (outputEl) {{\n",
       "    x.observe(outputEl, {childList: true});\n",
       "}}\n",
       "\n",
       "                        })\n",
       "                };\n",
       "                });\n",
       "            </script>\n",
       "        </div>"
      ]
     },
     "metadata": {},
     "output_type": "display_data"
    },
    {
     "data": {
      "application/vnd.plotly.v1+json": {
       "config": {
        "plotlyServerURL": "https://plot.ly"
       },
       "data": [
        {
         "mode": "markers",
         "name": "Plot2",
         "text": [
          "AaronCresswell LCB left",
          "AdrianMariappa L_CB right",
          "AhmedHegazi LCB right",
          "AhmedHegazi L_CB right",
          "AlfieMawson LCB right",
          "AlfieMawson L_CB right",
          "AngeloOgbonna LCB left",
          "AngeloOgbonna L_CB left",
          "AntonioRdiger LCB right",
          "AntonioRudiger LCB right",
          "AshleyWilliams L_CB right",
          "AymericLaporte LCB left",
          "AymericLaporte L_CB left",
          "BenMee L_CB left",
          "BrunoMartinsIndi LCB left",
          "BrunoMartinsIndi L_CB left",
          "CalumChambers L_CB right",
          "ChrisSmalling L_CB right",
          "ChristianKabasele LCB right",
          "ChristianKabasele L_CB right",
          "ChristopherSchindler L_CB right",
          "CiaranClark LCB left",
          "CiaranClark L_CB left",
          "DeclanRice LCB right",
          "DejanLovren L_CB right",
          "EliaquimMangala L_CB left",
          "ErikPieters LCB left",
          "FlorianLejeune L_CB right",
          "GaryCahill LCB right",
          "GeoffCameron LCB right",
          "HarryMaguire L_CB right",
          "JairoRiedewald LCB left",
          "JamesCollins LCB right",
          "JamesTarkowski L_CB right",
          "JamesTomkins L_CB right",
          "JanVertonghen LCB left",
          "JanVertonghen L_CB left",
          "JonnyEvans LCB right",
          "JonnyEvans L_CB right",
          "JoseHolebas LCB left",
          "KevinWimmer LCB left",
          "KevinWimmer L_CB left",
          "KurtZouma L_CB right",
          "LaurentKoscielny LCB right",
          "LaurentKoscielny L_CB right",
          "LewisDunk L_CB right",
          "MamadouSakho L_CB left",
          "MarcosRojo L_CB left",
          "MartinCranie L_CB right",
          "MayaYoshida L_CB right",
          "MichaelKeane LCB right",
          "MichaelKeane L_CB right",
          "MiguelBritos LCB left",
          "MiguelBritos L_CB left",
          "NachoMonreal LCB left",
          "NachoMonreal L_CB left",
          "NathanAk LCB left",
          "NathanAk L_CB left",
          "NathanAke LCB left",
          "NathanAke L_CB left",
          "NicolasOtamendi LCB right",
          "NicolasOtamendi L_CB right",
          "NicolsOtamendi LCB right",
          "NicolsOtamendi L_CB right",
          "PaulDummett LCB left",
          "PhilJagielka LCB right",
          "PhilJagielka L_CB right",
          "PhilJones LCB right",
          "PhilJones L_CB right",
          "RagnarKlavan L_CB left",
          "RobHolding LCB right",
          "RobHolding L_CB right",
          "ScottDann L_CB right",
          "SeadKolasinac LCB left",
          "ShkodranMustafi L_CB right",
          "TobyAlderweireld L_CB right",
          "TyroneMings LCB left",
          "VictorLindelf L_CB right",
          "VictorLindelof L_CB right",
          "VincentKompany L_CB right",
          "VirgilvanDijk L_CB right",
          "VirgilvanDijk L_CB right",
          "WesleyHoedt LCB left",
          "WesleyHoedt L_CB left",
          "WinstonReid L_CB right"
         ],
         "type": "scatter",
         "x": [
          0.54,
          0,
          0,
          6.94,
          4.67,
          8.99,
          3.45,
          1.64,
          2.53,
          2.04,
          4.35,
          0,
          4.03,
          5.24,
          0,
          0,
          3.57,
          5.56,
          2.94,
          0,
          3.23,
          0,
          5.05,
          8.33,
          2.08,
          5.26,
          5.26,
          5.45,
          2.61,
          0,
          6.5,
          0,
          0,
          3.64,
          3.7,
          0.52,
          4.93,
          6.98,
          10.14,
          0,
          2,
          9.68,
          11.63,
          0,
          5.77,
          9.76,
          4.82,
          8.2,
          0,
          8,
          0,
          3.81,
          0,
          3.7,
          2.21,
          8.82,
          5,
          6.34,
          3.45,
          13.73,
          5.41,
          6.25,
          0,
          4.23,
          0,
          7.41,
          4.76,
          5.56,
          11.03,
          7.82,
          0,
          4.88,
          2,
          2.7,
          7.32,
          9.09,
          0,
          0,
          0,
          0,
          3.33,
          10.99,
          1.41,
          2.73,
          6.06
         ],
         "y": [
          -0.3483003693754258,
          0,
          0,
          4.70912368554208,
          0.262150214985013,
          3.5091073564881605,
          0.582572939837801,
          0.8040336800403283,
          -0.715011825101285,
          0.07455655354626325,
          0.5575991573109144,
          0,
          -0.7937945020791368,
          1.1748532553957332,
          0,
          0,
          0.09535371126340969,
          -0.8295470615848899,
          -0.037934754372519607,
          0,
          0.550285662694644,
          0,
          1.360079852130377,
          1.8318381626158953,
          0.3493539406917989,
          -0.0739751665509845,
          2.1282409464842393,
          0.7530776572159746,
          0.4049977196343974,
          0,
          1.4736361164957454,
          0,
          0,
          2.6547367345880377,
          -0.45073714486702726,
          -0.06772694177925587,
          1.5663099255871729,
          5.690568765668674,
          0.3302210698957028,
          0,
          0.04996999632567167,
          -0.09426246246983928,
          5.087732055852579,
          0,
          3.0190113466233015,
          0.4522392537626551,
          1.1117392253265324,
          3.6164866684035197,
          0,
          5.967966374009848,
          0,
          -0.06324103811667078,
          0,
          0.9040604345500469,
          0.08513694587864179,
          2.7179748491000604,
          19.681865349411964,
          0.9305620546334646,
          -0.24441019471349387,
          0.23148002048187397,
          -0.3675437010069554,
          0.7278819378240899,
          0,
          0.22452791633370978,
          0,
          0.14588120393455029,
          -0.13143966151844888,
          25.468336211310493,
          2.264077421920053,
          4.741487983619409,
          0,
          3.840493992334459,
          -0.17452011816203597,
          -0.04272668848972063,
          -1.8431528516840643,
          -3.360064883688183,
          0,
          0,
          0,
          0,
          0.6537775690149931,
          0.21504151256202342,
          -0.07685731348752137,
          0.6918540298515422,
          1.0268678042021664
         ]
        }
       ],
       "layout": {
        "annotations": [
         {
          "showarrow": false,
          "text": "% Progressive passes",
          "x": 0.5,
          "xref": "paper",
          "y": -0.15,
          "yref": "paper"
         },
         {
          "showarrow": false,
          "text": "VAEP per progressive pass (scaled to 10000)",
          "textangle": -90,
          "x": -0.07,
          "xref": "paper",
          "y": 0.5,
          "yref": "paper"
         }
        ],
        "autosize": true,
        "margin": {
         "b": 100
        },
        "template": {
         "data": {
          "bar": [
           {
            "error_x": {
             "color": "#2a3f5f"
            },
            "error_y": {
             "color": "#2a3f5f"
            },
            "marker": {
             "line": {
              "color": "#E5ECF6",
              "width": 0.5
             }
            },
            "type": "bar"
           }
          ],
          "barpolar": [
           {
            "marker": {
             "line": {
              "color": "#E5ECF6",
              "width": 0.5
             }
            },
            "type": "barpolar"
           }
          ],
          "carpet": [
           {
            "aaxis": {
             "endlinecolor": "#2a3f5f",
             "gridcolor": "white",
             "linecolor": "white",
             "minorgridcolor": "white",
             "startlinecolor": "#2a3f5f"
            },
            "baxis": {
             "endlinecolor": "#2a3f5f",
             "gridcolor": "white",
             "linecolor": "white",
             "minorgridcolor": "white",
             "startlinecolor": "#2a3f5f"
            },
            "type": "carpet"
           }
          ],
          "choropleth": [
           {
            "colorbar": {
             "outlinewidth": 0,
             "ticks": ""
            },
            "type": "choropleth"
           }
          ],
          "contour": [
           {
            "colorbar": {
             "outlinewidth": 0,
             "ticks": ""
            },
            "colorscale": [
             [
              0,
              "#0d0887"
             ],
             [
              0.1111111111111111,
              "#46039f"
             ],
             [
              0.2222222222222222,
              "#7201a8"
             ],
             [
              0.3333333333333333,
              "#9c179e"
             ],
             [
              0.4444444444444444,
              "#bd3786"
             ],
             [
              0.5555555555555556,
              "#d8576b"
             ],
             [
              0.6666666666666666,
              "#ed7953"
             ],
             [
              0.7777777777777778,
              "#fb9f3a"
             ],
             [
              0.8888888888888888,
              "#fdca26"
             ],
             [
              1,
              "#f0f921"
             ]
            ],
            "type": "contour"
           }
          ],
          "contourcarpet": [
           {
            "colorbar": {
             "outlinewidth": 0,
             "ticks": ""
            },
            "type": "contourcarpet"
           }
          ],
          "heatmap": [
           {
            "colorbar": {
             "outlinewidth": 0,
             "ticks": ""
            },
            "colorscale": [
             [
              0,
              "#0d0887"
             ],
             [
              0.1111111111111111,
              "#46039f"
             ],
             [
              0.2222222222222222,
              "#7201a8"
             ],
             [
              0.3333333333333333,
              "#9c179e"
             ],
             [
              0.4444444444444444,
              "#bd3786"
             ],
             [
              0.5555555555555556,
              "#d8576b"
             ],
             [
              0.6666666666666666,
              "#ed7953"
             ],
             [
              0.7777777777777778,
              "#fb9f3a"
             ],
             [
              0.8888888888888888,
              "#fdca26"
             ],
             [
              1,
              "#f0f921"
             ]
            ],
            "type": "heatmap"
           }
          ],
          "heatmapgl": [
           {
            "colorbar": {
             "outlinewidth": 0,
             "ticks": ""
            },
            "colorscale": [
             [
              0,
              "#0d0887"
             ],
             [
              0.1111111111111111,
              "#46039f"
             ],
             [
              0.2222222222222222,
              "#7201a8"
             ],
             [
              0.3333333333333333,
              "#9c179e"
             ],
             [
              0.4444444444444444,
              "#bd3786"
             ],
             [
              0.5555555555555556,
              "#d8576b"
             ],
             [
              0.6666666666666666,
              "#ed7953"
             ],
             [
              0.7777777777777778,
              "#fb9f3a"
             ],
             [
              0.8888888888888888,
              "#fdca26"
             ],
             [
              1,
              "#f0f921"
             ]
            ],
            "type": "heatmapgl"
           }
          ],
          "histogram": [
           {
            "marker": {
             "colorbar": {
              "outlinewidth": 0,
              "ticks": ""
             }
            },
            "type": "histogram"
           }
          ],
          "histogram2d": [
           {
            "colorbar": {
             "outlinewidth": 0,
             "ticks": ""
            },
            "colorscale": [
             [
              0,
              "#0d0887"
             ],
             [
              0.1111111111111111,
              "#46039f"
             ],
             [
              0.2222222222222222,
              "#7201a8"
             ],
             [
              0.3333333333333333,
              "#9c179e"
             ],
             [
              0.4444444444444444,
              "#bd3786"
             ],
             [
              0.5555555555555556,
              "#d8576b"
             ],
             [
              0.6666666666666666,
              "#ed7953"
             ],
             [
              0.7777777777777778,
              "#fb9f3a"
             ],
             [
              0.8888888888888888,
              "#fdca26"
             ],
             [
              1,
              "#f0f921"
             ]
            ],
            "type": "histogram2d"
           }
          ],
          "histogram2dcontour": [
           {
            "colorbar": {
             "outlinewidth": 0,
             "ticks": ""
            },
            "colorscale": [
             [
              0,
              "#0d0887"
             ],
             [
              0.1111111111111111,
              "#46039f"
             ],
             [
              0.2222222222222222,
              "#7201a8"
             ],
             [
              0.3333333333333333,
              "#9c179e"
             ],
             [
              0.4444444444444444,
              "#bd3786"
             ],
             [
              0.5555555555555556,
              "#d8576b"
             ],
             [
              0.6666666666666666,
              "#ed7953"
             ],
             [
              0.7777777777777778,
              "#fb9f3a"
             ],
             [
              0.8888888888888888,
              "#fdca26"
             ],
             [
              1,
              "#f0f921"
             ]
            ],
            "type": "histogram2dcontour"
           }
          ],
          "mesh3d": [
           {
            "colorbar": {
             "outlinewidth": 0,
             "ticks": ""
            },
            "type": "mesh3d"
           }
          ],
          "parcoords": [
           {
            "line": {
             "colorbar": {
              "outlinewidth": 0,
              "ticks": ""
             }
            },
            "type": "parcoords"
           }
          ],
          "pie": [
           {
            "automargin": true,
            "type": "pie"
           }
          ],
          "scatter": [
           {
            "marker": {
             "colorbar": {
              "outlinewidth": 0,
              "ticks": ""
             }
            },
            "type": "scatter"
           }
          ],
          "scatter3d": [
           {
            "line": {
             "colorbar": {
              "outlinewidth": 0,
              "ticks": ""
             }
            },
            "marker": {
             "colorbar": {
              "outlinewidth": 0,
              "ticks": ""
             }
            },
            "type": "scatter3d"
           }
          ],
          "scattercarpet": [
           {
            "marker": {
             "colorbar": {
              "outlinewidth": 0,
              "ticks": ""
             }
            },
            "type": "scattercarpet"
           }
          ],
          "scattergeo": [
           {
            "marker": {
             "colorbar": {
              "outlinewidth": 0,
              "ticks": ""
             }
            },
            "type": "scattergeo"
           }
          ],
          "scattergl": [
           {
            "marker": {
             "colorbar": {
              "outlinewidth": 0,
              "ticks": ""
             }
            },
            "type": "scattergl"
           }
          ],
          "scattermapbox": [
           {
            "marker": {
             "colorbar": {
              "outlinewidth": 0,
              "ticks": ""
             }
            },
            "type": "scattermapbox"
           }
          ],
          "scatterpolar": [
           {
            "marker": {
             "colorbar": {
              "outlinewidth": 0,
              "ticks": ""
             }
            },
            "type": "scatterpolar"
           }
          ],
          "scatterpolargl": [
           {
            "marker": {
             "colorbar": {
              "outlinewidth": 0,
              "ticks": ""
             }
            },
            "type": "scatterpolargl"
           }
          ],
          "scatterternary": [
           {
            "marker": {
             "colorbar": {
              "outlinewidth": 0,
              "ticks": ""
             }
            },
            "type": "scatterternary"
           }
          ],
          "surface": [
           {
            "colorbar": {
             "outlinewidth": 0,
             "ticks": ""
            },
            "colorscale": [
             [
              0,
              "#0d0887"
             ],
             [
              0.1111111111111111,
              "#46039f"
             ],
             [
              0.2222222222222222,
              "#7201a8"
             ],
             [
              0.3333333333333333,
              "#9c179e"
             ],
             [
              0.4444444444444444,
              "#bd3786"
             ],
             [
              0.5555555555555556,
              "#d8576b"
             ],
             [
              0.6666666666666666,
              "#ed7953"
             ],
             [
              0.7777777777777778,
              "#fb9f3a"
             ],
             [
              0.8888888888888888,
              "#fdca26"
             ],
             [
              1,
              "#f0f921"
             ]
            ],
            "type": "surface"
           }
          ],
          "table": [
           {
            "cells": {
             "fill": {
              "color": "#EBF0F8"
             },
             "line": {
              "color": "white"
             }
            },
            "header": {
             "fill": {
              "color": "#C8D4E3"
             },
             "line": {
              "color": "white"
             }
            },
            "type": "table"
           }
          ]
         },
         "layout": {
          "annotationdefaults": {
           "arrowcolor": "#2a3f5f",
           "arrowhead": 0,
           "arrowwidth": 1
          },
          "coloraxis": {
           "colorbar": {
            "outlinewidth": 0,
            "ticks": ""
           }
          },
          "colorscale": {
           "diverging": [
            [
             0,
             "#8e0152"
            ],
            [
             0.1,
             "#c51b7d"
            ],
            [
             0.2,
             "#de77ae"
            ],
            [
             0.3,
             "#f1b6da"
            ],
            [
             0.4,
             "#fde0ef"
            ],
            [
             0.5,
             "#f7f7f7"
            ],
            [
             0.6,
             "#e6f5d0"
            ],
            [
             0.7,
             "#b8e186"
            ],
            [
             0.8,
             "#7fbc41"
            ],
            [
             0.9,
             "#4d9221"
            ],
            [
             1,
             "#276419"
            ]
           ],
           "sequential": [
            [
             0,
             "#0d0887"
            ],
            [
             0.1111111111111111,
             "#46039f"
            ],
            [
             0.2222222222222222,
             "#7201a8"
            ],
            [
             0.3333333333333333,
             "#9c179e"
            ],
            [
             0.4444444444444444,
             "#bd3786"
            ],
            [
             0.5555555555555556,
             "#d8576b"
            ],
            [
             0.6666666666666666,
             "#ed7953"
            ],
            [
             0.7777777777777778,
             "#fb9f3a"
            ],
            [
             0.8888888888888888,
             "#fdca26"
            ],
            [
             1,
             "#f0f921"
            ]
           ],
           "sequentialminus": [
            [
             0,
             "#0d0887"
            ],
            [
             0.1111111111111111,
             "#46039f"
            ],
            [
             0.2222222222222222,
             "#7201a8"
            ],
            [
             0.3333333333333333,
             "#9c179e"
            ],
            [
             0.4444444444444444,
             "#bd3786"
            ],
            [
             0.5555555555555556,
             "#d8576b"
            ],
            [
             0.6666666666666666,
             "#ed7953"
            ],
            [
             0.7777777777777778,
             "#fb9f3a"
            ],
            [
             0.8888888888888888,
             "#fdca26"
            ],
            [
             1,
             "#f0f921"
            ]
           ]
          },
          "colorway": [
           "#636efa",
           "#EF553B",
           "#00cc96",
           "#ab63fa",
           "#FFA15A",
           "#19d3f3",
           "#FF6692",
           "#B6E880",
           "#FF97FF",
           "#FECB52"
          ],
          "font": {
           "color": "#2a3f5f"
          },
          "geo": {
           "bgcolor": "white",
           "lakecolor": "white",
           "landcolor": "#E5ECF6",
           "showlakes": true,
           "showland": true,
           "subunitcolor": "white"
          },
          "hoverlabel": {
           "align": "left"
          },
          "hovermode": "closest",
          "mapbox": {
           "style": "light"
          },
          "paper_bgcolor": "white",
          "plot_bgcolor": "#E5ECF6",
          "polar": {
           "angularaxis": {
            "gridcolor": "white",
            "linecolor": "white",
            "ticks": ""
           },
           "bgcolor": "#E5ECF6",
           "radialaxis": {
            "gridcolor": "white",
            "linecolor": "white",
            "ticks": ""
           }
          },
          "scene": {
           "xaxis": {
            "backgroundcolor": "#E5ECF6",
            "gridcolor": "white",
            "gridwidth": 2,
            "linecolor": "white",
            "showbackground": true,
            "ticks": "",
            "zerolinecolor": "white"
           },
           "yaxis": {
            "backgroundcolor": "#E5ECF6",
            "gridcolor": "white",
            "gridwidth": 2,
            "linecolor": "white",
            "showbackground": true,
            "ticks": "",
            "zerolinecolor": "white"
           },
           "zaxis": {
            "backgroundcolor": "#E5ECF6",
            "gridcolor": "white",
            "gridwidth": 2,
            "linecolor": "white",
            "showbackground": true,
            "ticks": "",
            "zerolinecolor": "white"
           }
          },
          "shapedefaults": {
           "line": {
            "color": "#2a3f5f"
           }
          },
          "ternary": {
           "aaxis": {
            "gridcolor": "white",
            "linecolor": "white",
            "ticks": ""
           },
           "baxis": {
            "gridcolor": "white",
            "linecolor": "white",
            "ticks": ""
           },
           "bgcolor": "#E5ECF6",
           "caxis": {
            "gridcolor": "white",
            "linecolor": "white",
            "ticks": ""
           }
          },
          "title": {
           "x": 0.05
          },
          "xaxis": {
           "automargin": true,
           "gridcolor": "white",
           "linecolor": "white",
           "ticks": "",
           "title": {
            "standoff": 15
           },
           "zerolinecolor": "white",
           "zerolinewidth": 2
          },
          "yaxis": {
           "automargin": true,
           "gridcolor": "white",
           "linecolor": "white",
           "ticks": "",
           "title": {
            "standoff": 15
           },
           "zerolinecolor": "white",
           "zerolinewidth": 2
          }
         }
        },
        "title": {
         "text": "rightcentral_def"
        },
        "xaxis": {
         "autorange": true,
         "range": [
          -0.8484831460674158,
          14.578483146067416
         ],
         "type": "linear"
        },
        "yaxis": {
         "autorange": true,
         "range": [
          -5.5139109425099235,
          27.622182270132235
         ],
         "type": "linear"
        }
       }
      },
      "image/png": "[encoded data removed]",
      "text/html": [
       "<div>\n",
       "        \n",
       "        \n",
       "            <div id=\"d755b8d7-29df-4c84-866b-0449879788bb\" class=\"plotly-graph-div\" style=\"height:525px; width:100%;\"></div>\n",
       "            <script type=\"text/javascript\">\n",
       "                require([\"plotly\"], function(Plotly) {\n",
       "                    window.PLOTLYENV=window.PLOTLYENV || {};\n",
       "                    \n",
       "                if (document.getElementById(\"d755b8d7-29df-4c84-866b-0449879788bb\")) {\n",
       "                    Plotly.newPlot(\n",
       "                        'd755b8d7-29df-4c84-866b-0449879788bb',\n",
       "                        [{\"mode\": \"markers\", \"name\": \"Plot2\", \"text\": [\"AaronCresswell LCB left\", \"AdrianMariappa L_CB right\", \"AhmedHegazi LCB right\", \"AhmedHegazi L_CB right\", \"AlfieMawson LCB right\", \"AlfieMawson L_CB right\", \"AngeloOgbonna LCB left\", \"AngeloOgbonna L_CB left\", \"AntonioRdiger LCB right\", \"AntonioRudiger LCB right\", \"AshleyWilliams L_CB right\", \"AymericLaporte LCB left\", \"AymericLaporte L_CB left\", \"BenMee L_CB left\", \"BrunoMartinsIndi LCB left\", \"BrunoMartinsIndi L_CB left\", \"CalumChambers L_CB right\", \"ChrisSmalling L_CB right\", \"ChristianKabasele LCB right\", \"ChristianKabasele L_CB right\", \"ChristopherSchindler L_CB right\", \"CiaranClark LCB left\", \"CiaranClark L_CB left\", \"DeclanRice LCB right\", \"DejanLovren L_CB right\", \"EliaquimMangala L_CB left\", \"ErikPieters LCB left\", \"FlorianLejeune L_CB right\", \"GaryCahill LCB right\", \"GeoffCameron LCB right\", \"HarryMaguire L_CB right\", \"JairoRiedewald LCB left\", \"JamesCollins LCB right\", \"JamesTarkowski L_CB right\", \"JamesTomkins L_CB right\", \"JanVertonghen LCB left\", \"JanVertonghen L_CB left\", \"JonnyEvans LCB right\", \"JonnyEvans L_CB right\", \"JoseHolebas LCB left\", \"KevinWimmer LCB left\", \"KevinWimmer L_CB left\", \"KurtZouma L_CB right\", \"LaurentKoscielny LCB right\", \"LaurentKoscielny L_CB right\", \"LewisDunk L_CB right\", \"MamadouSakho L_CB left\", \"MarcosRojo L_CB left\", \"MartinCranie L_CB right\", \"MayaYoshida L_CB right\", \"MichaelKeane LCB right\", \"MichaelKeane L_CB right\", \"MiguelBritos LCB left\", \"MiguelBritos L_CB left\", \"NachoMonreal LCB left\", \"NachoMonreal L_CB left\", \"NathanAk LCB left\", \"NathanAk L_CB left\", \"NathanAke LCB left\", \"NathanAke L_CB left\", \"NicolasOtamendi LCB right\", \"NicolasOtamendi L_CB right\", \"NicolsOtamendi LCB right\", \"NicolsOtamendi L_CB right\", \"PaulDummett LCB left\", \"PhilJagielka LCB right\", \"PhilJagielka L_CB right\", \"PhilJones LCB right\", \"PhilJones L_CB right\", \"RagnarKlavan L_CB left\", \"RobHolding LCB right\", \"RobHolding L_CB right\", \"ScottDann L_CB right\", \"SeadKolasinac LCB left\", \"ShkodranMustafi L_CB right\", \"TobyAlderweireld L_CB right\", \"TyroneMings LCB left\", \"VictorLindelf L_CB right\", \"VictorLindelof L_CB right\", \"VincentKompany L_CB right\", \"VirgilvanDijk L_CB right\", \"VirgilvanDijk L_CB right\", \"WesleyHoedt LCB left\", \"WesleyHoedt L_CB left\", \"WinstonReid L_CB right\"], \"type\": \"scatter\", \"x\": [0.54, 0.0, 0.0, 6.94, 4.67, 8.99, 3.45, 1.64, 2.53, 2.04, 4.35, 0.0, 4.03, 5.24, 0.0, 0.0, 3.57, 5.56, 2.94, 0.0, 3.23, 0.0, 5.05, 8.33, 2.08, 5.26, 5.26, 5.45, 2.61, 0.0, 6.5, 0.0, 0.0, 3.64, 3.7, 0.52, 4.93, 6.98, 10.14, 0.0, 2.0, 9.68, 11.63, 0.0, 5.77, 9.76, 4.82, 8.2, 0.0, 8.0, 0.0, 3.81, 0.0, 3.7, 2.21, 8.82, 5.0, 6.34, 3.45, 13.73, 5.41, 6.25, 0.0, 4.23, 0.0, 7.41, 4.76, 5.56, 11.03, 7.82, 0.0, 4.88, 2.0, 2.7, 7.32, 9.09, 0.0, 0.0, 0.0, 0.0, 3.33, 10.99, 1.41, 2.73, 6.06], \"y\": [-0.3483003693754258, 0.0, 0.0, 4.70912368554208, 0.262150214985013, 3.5091073564881605, 0.582572939837801, 0.8040336800403283, -0.715011825101285, 0.07455655354626325, 0.5575991573109144, 0.0, -0.7937945020791368, 1.1748532553957332, 0.0, 0.0, 0.09535371126340969, -0.8295470615848899, -0.037934754372519607, 0.0, 0.550285662694644, 0.0, 1.360079852130377, 1.8318381626158953, 0.3493539406917989, -0.0739751665509845, 2.1282409464842393, 0.7530776572159746, 0.4049977196343974, 0.0, 1.4736361164957454, 0.0, 0.0, 2.6547367345880377, -0.45073714486702726, -0.06772694177925587, 1.5663099255871729, 5.690568765668674, 0.3302210698957028, 0.0, 0.04996999632567167, -0.09426246246983928, 5.087732055852579, 0.0, 3.0190113466233015, 0.4522392537626551, 1.1117392253265324, 3.6164866684035197, 0.0, 5.967966374009848, 0.0, -0.06324103811667078, 0.0, 0.9040604345500469, 0.08513694587864179, 2.7179748491000604, 19.681865349411964, 0.9305620546334646, -0.24441019471349387, 0.23148002048187397, -0.3675437010069554, 0.7278819378240899, 0.0, 0.22452791633370978, 0.0, 0.14588120393455029, -0.13143966151844888, 25.468336211310493, 2.264077421920053, 4.741487983619409, 0.0, 3.840493992334459, -0.17452011816203597, -0.04272668848972063, -1.8431528516840643, -3.360064883688183, 0.0, 0.0, 0.0, 0.0, 0.6537775690149931, 0.21504151256202342, -0.07685731348752137, 0.6918540298515422, 1.0268678042021664]}],\n",
       "                        {\"annotations\": [{\"showarrow\": false, \"text\": \"% Progressive passes\", \"x\": 0.5, \"xref\": \"paper\", \"y\": -0.15, \"yref\": \"paper\"}, {\"showarrow\": false, \"text\": \"VAEP per progressive pass (scaled to 10000)\", \"textangle\": -90, \"x\": -0.07, \"xref\": \"paper\", \"y\": 0.5, \"yref\": \"paper\"}], \"autosize\": true, \"margin\": {\"b\": 100}, \"template\": {\"data\": {\"bar\": [{\"error_x\": {\"color\": \"#2a3f5f\"}, \"error_y\": {\"color\": \"#2a3f5f\"}, \"marker\": {\"line\": {\"color\": \"#E5ECF6\", \"width\": 0.5}}, \"type\": \"bar\"}], \"barpolar\": [{\"marker\": {\"line\": {\"color\": \"#E5ECF6\", \"width\": 0.5}}, \"type\": \"barpolar\"}], \"carpet\": [{\"aaxis\": {\"endlinecolor\": \"#2a3f5f\", \"gridcolor\": \"white\", \"linecolor\": \"white\", \"minorgridcolor\": \"white\", \"startlinecolor\": \"#2a3f5f\"}, \"baxis\": {\"endlinecolor\": \"#2a3f5f\", \"gridcolor\": \"white\", \"linecolor\": \"white\", \"minorgridcolor\": \"white\", \"startlinecolor\": \"#2a3f5f\"}, \"type\": \"carpet\"}], \"choropleth\": [{\"colorbar\": {\"outlinewidth\": 0, \"ticks\": \"\"}, \"type\": \"choropleth\"}], \"contour\": [{\"colorbar\": {\"outlinewidth\": 0, \"ticks\": \"\"}, \"colorscale\": [[0.0, \"#0d0887\"], [0.1111111111111111, \"#46039f\"], [0.2222222222222222, \"#7201a8\"], [0.3333333333333333, \"#9c179e\"], [0.4444444444444444, \"#bd3786\"], [0.5555555555555556, \"#d8576b\"], [0.6666666666666666, \"#ed7953\"], [0.7777777777777778, \"#fb9f3a\"], [0.8888888888888888, \"#fdca26\"], [1.0, \"#f0f921\"]], \"type\": \"contour\"}], \"contourcarpet\": [{\"colorbar\": {\"outlinewidth\": 0, \"ticks\": \"\"}, \"type\": \"contourcarpet\"}], \"heatmap\": [{\"colorbar\": {\"outlinewidth\": 0, \"ticks\": \"\"}, \"colorscale\": [[0.0, \"#0d0887\"], [0.1111111111111111, \"#46039f\"], [0.2222222222222222, \"#7201a8\"], [0.3333333333333333, \"#9c179e\"], [0.4444444444444444, \"#bd3786\"], [0.5555555555555556, \"#d8576b\"], [0.6666666666666666, \"#ed7953\"], [0.7777777777777778, \"#fb9f3a\"], [0.8888888888888888, \"#fdca26\"], [1.0, \"#f0f921\"]], \"type\": \"heatmap\"}], \"heatmapgl\": [{\"colorbar\": {\"outlinewidth\": 0, \"ticks\": \"\"}, \"colorscale\": [[0.0, \"#0d0887\"], [0.1111111111111111, \"#46039f\"], [0.2222222222222222, \"#7201a8\"], [0.3333333333333333, \"#9c179e\"], [0.4444444444444444, \"#bd3786\"], [0.5555555555555556, \"#d8576b\"], [0.6666666666666666, \"#ed7953\"], [0.7777777777777778, \"#fb9f3a\"], [0.8888888888888888, \"#fdca26\"], [1.0, \"#f0f921\"]], \"type\": \"heatmapgl\"}], \"histogram\": [{\"marker\": {\"colorbar\": {\"outlinewidth\": 0, \"ticks\": \"\"}}, \"type\": \"histogram\"}], \"histogram2d\": [{\"colorbar\": {\"outlinewidth\": 0, \"ticks\": \"\"}, \"colorscale\": [[0.0, \"#0d0887\"], [0.1111111111111111, \"#46039f\"], [0.2222222222222222, \"#7201a8\"], [0.3333333333333333, \"#9c179e\"], [0.4444444444444444, \"#bd3786\"], [0.5555555555555556, \"#d8576b\"], [0.6666666666666666, \"#ed7953\"], [0.7777777777777778, \"#fb9f3a\"], [0.8888888888888888, \"#fdca26\"], [1.0, \"#f0f921\"]], \"type\": \"histogram2d\"}], \"histogram2dcontour\": [{\"colorbar\": {\"outlinewidth\": 0, \"ticks\": \"\"}, \"colorscale\": [[0.0, \"#0d0887\"], [0.1111111111111111, \"#46039f\"], [0.2222222222222222, \"#7201a8\"], [0.3333333333333333, \"#9c179e\"], [0.4444444444444444, \"#bd3786\"], [0.5555555555555556, \"#d8576b\"], [0.6666666666666666, \"#ed7953\"], [0.7777777777777778, \"#fb9f3a\"], [0.8888888888888888, \"#fdca26\"], [1.0, \"#f0f921\"]], \"type\": \"histogram2dcontour\"}], \"mesh3d\": [{\"colorbar\": {\"outlinewidth\": 0, \"ticks\": \"\"}, \"type\": \"mesh3d\"}], \"parcoords\": [{\"line\": {\"colorbar\": {\"outlinewidth\": 0, \"ticks\": \"\"}}, \"type\": \"parcoords\"}], \"pie\": [{\"automargin\": true, \"type\": \"pie\"}], \"scatter\": [{\"marker\": {\"colorbar\": {\"outlinewidth\": 0, \"ticks\": \"\"}}, \"type\": \"scatter\"}], \"scatter3d\": [{\"line\": {\"colorbar\": {\"outlinewidth\": 0, \"ticks\": \"\"}}, \"marker\": {\"colorbar\": {\"outlinewidth\": 0, \"ticks\": \"\"}}, \"type\": \"scatter3d\"}], \"scattercarpet\": [{\"marker\": {\"colorbar\": {\"outlinewidth\": 0, \"ticks\": \"\"}}, \"type\": \"scattercarpet\"}], \"scattergeo\": [{\"marker\": {\"colorbar\": {\"outlinewidth\": 0, \"ticks\": \"\"}}, \"type\": \"scattergeo\"}], \"scattergl\": [{\"marker\": {\"colorbar\": {\"outlinewidth\": 0, \"ticks\": \"\"}}, \"type\": \"scattergl\"}], \"scattermapbox\": [{\"marker\": {\"colorbar\": {\"outlinewidth\": 0, \"ticks\": \"\"}}, \"type\": \"scattermapbox\"}], \"scatterpolar\": [{\"marker\": {\"colorbar\": {\"outlinewidth\": 0, \"ticks\": \"\"}}, \"type\": \"scatterpolar\"}], \"scatterpolargl\": [{\"marker\": {\"colorbar\": {\"outlinewidth\": 0, \"ticks\": \"\"}}, \"type\": \"scatterpolargl\"}], \"scatterternary\": [{\"marker\": {\"colorbar\": {\"outlinewidth\": 0, \"ticks\": \"\"}}, \"type\": \"scatterternary\"}], \"surface\": [{\"colorbar\": {\"outlinewidth\": 0, \"ticks\": \"\"}, \"colorscale\": [[0.0, \"#0d0887\"], [0.1111111111111111, \"#46039f\"], [0.2222222222222222, \"#7201a8\"], [0.3333333333333333, \"#9c179e\"], [0.4444444444444444, \"#bd3786\"], [0.5555555555555556, \"#d8576b\"], [0.6666666666666666, \"#ed7953\"], [0.7777777777777778, \"#fb9f3a\"], [0.8888888888888888, \"#fdca26\"], [1.0, \"#f0f921\"]], \"type\": \"surface\"}], \"table\": [{\"cells\": {\"fill\": {\"color\": \"#EBF0F8\"}, \"line\": {\"color\": \"white\"}}, \"header\": {\"fill\": {\"color\": \"#C8D4E3\"}, \"line\": {\"color\": \"white\"}}, \"type\": \"table\"}]}, \"layout\": {\"annotationdefaults\": {\"arrowcolor\": \"#2a3f5f\", \"arrowhead\": 0, \"arrowwidth\": 1}, \"coloraxis\": {\"colorbar\": {\"outlinewidth\": 0, \"ticks\": \"\"}}, \"colorscale\": {\"diverging\": [[0, \"#8e0152\"], [0.1, \"#c51b7d\"], [0.2, \"#de77ae\"], [0.3, \"#f1b6da\"], [0.4, \"#fde0ef\"], [0.5, \"#f7f7f7\"], [0.6, \"#e6f5d0\"], [0.7, \"#b8e186\"], [0.8, \"#7fbc41\"], [0.9, \"#4d9221\"], [1, \"#276419\"]], \"sequential\": [[0.0, \"#0d0887\"], [0.1111111111111111, \"#46039f\"], [0.2222222222222222, \"#7201a8\"], [0.3333333333333333, \"#9c179e\"], [0.4444444444444444, \"#bd3786\"], [0.5555555555555556, \"#d8576b\"], [0.6666666666666666, \"#ed7953\"], [0.7777777777777778, \"#fb9f3a\"], [0.8888888888888888, \"#fdca26\"], [1.0, \"#f0f921\"]], \"sequentialminus\": [[0.0, \"#0d0887\"], [0.1111111111111111, \"#46039f\"], [0.2222222222222222, \"#7201a8\"], [0.3333333333333333, \"#9c179e\"], [0.4444444444444444, \"#bd3786\"], [0.5555555555555556, \"#d8576b\"], [0.6666666666666666, \"#ed7953\"], [0.7777777777777778, \"#fb9f3a\"], [0.8888888888888888, \"#fdca26\"], [1.0, \"#f0f921\"]]}, \"colorway\": [\"#636efa\", \"#EF553B\", \"#00cc96\", \"#ab63fa\", \"#FFA15A\", \"#19d3f3\", \"#FF6692\", \"#B6E880\", \"#FF97FF\", \"#FECB52\"], \"font\": {\"color\": \"#2a3f5f\"}, \"geo\": {\"bgcolor\": \"white\", \"lakecolor\": \"white\", \"landcolor\": \"#E5ECF6\", \"showlakes\": true, \"showland\": true, \"subunitcolor\": \"white\"}, \"hoverlabel\": {\"align\": \"left\"}, \"hovermode\": \"closest\", \"mapbox\": {\"style\": \"light\"}, \"paper_bgcolor\": \"white\", \"plot_bgcolor\": \"#E5ECF6\", \"polar\": {\"angularaxis\": {\"gridcolor\": \"white\", \"linecolor\": \"white\", \"ticks\": \"\"}, \"bgcolor\": \"#E5ECF6\", \"radialaxis\": {\"gridcolor\": \"white\", \"linecolor\": \"white\", \"ticks\": \"\"}}, \"scene\": {\"xaxis\": {\"backgroundcolor\": \"#E5ECF6\", \"gridcolor\": \"white\", \"gridwidth\": 2, \"linecolor\": \"white\", \"showbackground\": true, \"ticks\": \"\", \"zerolinecolor\": \"white\"}, \"yaxis\": {\"backgroundcolor\": \"#E5ECF6\", \"gridcolor\": \"white\", \"gridwidth\": 2, \"linecolor\": \"white\", \"showbackground\": true, \"ticks\": \"\", \"zerolinecolor\": \"white\"}, \"zaxis\": {\"backgroundcolor\": \"#E5ECF6\", \"gridcolor\": \"white\", \"gridwidth\": 2, \"linecolor\": \"white\", \"showbackground\": true, \"ticks\": \"\", \"zerolinecolor\": \"white\"}}, \"shapedefaults\": {\"line\": {\"color\": \"#2a3f5f\"}}, \"ternary\": {\"aaxis\": {\"gridcolor\": \"white\", \"linecolor\": \"white\", \"ticks\": \"\"}, \"baxis\": {\"gridcolor\": \"white\", \"linecolor\": \"white\", \"ticks\": \"\"}, \"bgcolor\": \"#E5ECF6\", \"caxis\": {\"gridcolor\": \"white\", \"linecolor\": \"white\", \"ticks\": \"\"}}, \"title\": {\"x\": 0.05}, \"xaxis\": {\"automargin\": true, \"gridcolor\": \"white\", \"linecolor\": \"white\", \"ticks\": \"\", \"title\": {\"standoff\": 15}, \"zerolinecolor\": \"white\", \"zerolinewidth\": 2}, \"yaxis\": {\"automargin\": true, \"gridcolor\": \"white\", \"linecolor\": \"white\", \"ticks\": \"\", \"title\": {\"standoff\": 15}, \"zerolinecolor\": \"white\", \"zerolinewidth\": 2}}}, \"title\": {\"text\": \"rightcentral_def\"}},\n",
       "                        {\"responsive\": true}\n",
       "                    ).then(function(){\n",
       "                            \n",
       "var gd = document.getElementById('d755b8d7-29df-4c84-866b-0449879788bb');\n",
       "var x = new MutationObserver(function (mutations, observer) {{\n",
       "        var display = window.getComputedStyle(gd).display;\n",
       "        if (!display || display === 'none') {{\n",
       "            console.log([gd, 'removed!']);\n",
       "            Plotly.purge(gd);\n",
       "            observer.disconnect();\n",
       "        }}\n",
       "}});\n",
       "\n",
       "// Listen for the removal of the full notebook cells\n",
       "var notebookContainer = gd.closest('#notebook-container');\n",
       "if (notebookContainer) {{\n",
       "    x.observe(notebookContainer, {childList: true});\n",
       "}}\n",
       "\n",
       "// Listen for the clearing of the current output cell\n",
       "var outputEl = gd.closest('.output');\n",
       "if (outputEl) {{\n",
       "    x.observe(outputEl, {childList: true});\n",
       "}}\n",
       "\n",
       "                        })\n",
       "                };\n",
       "                });\n",
       "            </script>\n",
       "        </div>"
      ]
     },
     "metadata": {},
     "output_type": "display_data"
    },
    {
     "data": {
      "application/vnd.plotly.v1+json": {
       "config": {
        "plotlyServerURL": "https://plot.ly"
       },
       "data": [
        {
         "mode": "markers",
         "name": "Plot3",
         "text": [
          "AaronCresswell LCB left",
          "AdrianMariappa L_CB right",
          "AhmedHegazi LCB right",
          "AhmedHegazi L_CB right",
          "AlfieMawson LCB right",
          "AlfieMawson L_CB right",
          "AngeloOgbonna LCB left",
          "AngeloOgbonna L_CB left",
          "AntonioRdiger LCB right",
          "AntonioRudiger LCB right",
          "AshleyWilliams L_CB right",
          "AymericLaporte LCB left",
          "AymericLaporte L_CB left",
          "BenMee L_CB left",
          "BrunoMartinsIndi LCB left",
          "BrunoMartinsIndi L_CB left",
          "CalumChambers L_CB right",
          "ChrisSmalling L_CB right",
          "ChristianKabasele LCB right",
          "ChristianKabasele L_CB right",
          "ChristopherSchindler L_CB right",
          "CiaranClark LCB left",
          "CiaranClark L_CB left",
          "DeclanRice LCB right",
          "DejanLovren L_CB right",
          "EliaquimMangala L_CB left",
          "ErikPieters LCB left",
          "FlorianLejeune L_CB right",
          "GaryCahill LCB right",
          "GeoffCameron LCB right",
          "HarryMaguire L_CB right",
          "JairoRiedewald LCB left",
          "JamesCollins LCB right",
          "JamesTarkowski L_CB right",
          "JamesTomkins L_CB right",
          "JanVertonghen LCB left",
          "JanVertonghen L_CB left",
          "JonnyEvans LCB right",
          "JonnyEvans L_CB right",
          "JoseHolebas LCB left",
          "KevinWimmer LCB left",
          "KevinWimmer L_CB left",
          "KurtZouma L_CB right",
          "LaurentKoscielny LCB right",
          "LaurentKoscielny L_CB right",
          "LewisDunk L_CB right",
          "MamadouSakho L_CB left",
          "MarcosRojo L_CB left",
          "MartinCranie L_CB right",
          "MayaYoshida L_CB right",
          "MichaelKeane LCB right",
          "MichaelKeane L_CB right",
          "MiguelBritos LCB left",
          "MiguelBritos L_CB left",
          "NachoMonreal LCB left",
          "NachoMonreal L_CB left",
          "NathanAk LCB left",
          "NathanAk L_CB left",
          "NathanAke LCB left",
          "NathanAke L_CB left",
          "NicolasOtamendi LCB right",
          "NicolasOtamendi L_CB right",
          "NicolsOtamendi LCB right",
          "NicolsOtamendi L_CB right",
          "PaulDummett LCB left",
          "PhilJagielka LCB right",
          "PhilJagielka L_CB right",
          "PhilJones LCB right",
          "PhilJones L_CB right",
          "RagnarKlavan L_CB left",
          "RobHolding LCB right",
          "RobHolding L_CB right",
          "ScottDann L_CB right",
          "SeadKolasinac LCB left",
          "ShkodranMustafi L_CB right",
          "TobyAlderweireld L_CB right",
          "TyroneMings LCB left",
          "VictorLindelf L_CB right",
          "VictorLindelof L_CB right",
          "VincentKompany L_CB right",
          "VirgilvanDijk L_CB right",
          "VirgilvanDijk L_CB right",
          "WesleyHoedt LCB left",
          "WesleyHoedt L_CB left",
          "WinstonReid L_CB right"
         ],
         "type": "scatter",
         "x": [
          0,
          3.45,
          20,
          5.56,
          15.33,
          23.6,
          6.9,
          11.48,
          5.06,
          3.06,
          15.94,
          6.25,
          4.03,
          3.33,
          7.69,
          11.76,
          7.14,
          16.67,
          0,
          17.39,
          13.98,
          0,
          2.02,
          0,
          14.58,
          2.63,
          5.26,
          9.7,
          9.8,
          18.75,
          6.5,
          0,
          14.29,
          12.73,
          12.96,
          1.57,
          4.06,
          0,
          8.7,
          0,
          2,
          9.68,
          6.98,
          20,
          9.62,
          15.04,
          1.2,
          3.28,
          16.67,
          4,
          0,
          5.71,
          4.65,
          7.41,
          0.88,
          5.88,
          5,
          16.9,
          3.45,
          15.69,
          8.11,
          8.93,
          0,
          4.23,
          8.33,
          7.41,
          23.81,
          11.11,
          14.48,
          6.15,
          13.04,
          9.76,
          2,
          2.7,
          7.32,
          6.06,
          11.76,
          10.81,
          7.69,
          0,
          12.22,
          13.19,
          1.41,
          6.82,
          21.21
         ],
         "y": [
          0,
          -0.5558634915485464,
          -5.036563565954566,
          -0.2665849913480795,
          3.846407844685018,
          -1.5447621581699238,
          6.35580798000868,
          -2.417802871739278,
          0.9987276059257079,
          0.23786280285186914,
          4.1029345838056095,
          -1.5394817455671728,
          -0.3869544430292093,
          -0.3779923842687692,
          -0.9136276247982795,
          4.670507384135443,
          3.221659655017512,
          -2.479760247903566,
          0,
          2.373667405175882,
          3.1234040325607664,
          0,
          -0.5218941680710725,
          0,
          2.6096898727701046,
          -0.8234666586902581,
          -4.336818268424587,
          0.15575908632441002,
          1.722371846352235,
          27.206699596717954,
          0.9926932595543942,
          0,
          1.3252394273877144,
          0.6698753727091984,
          4.803088980864872,
          -0.01370005982474507,
          2.635623561218381,
          0,
          4.672263090944161,
          0,
          -0.401426013559103,
          -0.21725536263998477,
          7.061883428155683,
          2.366011473350227,
          1.81792136013078,
          -0.8730463280410664,
          -0.5994088588708855,
          -0.6421451403408265,
          1.7215414360786476,
          1.0945703834295273,
          0,
          -0.16349319013811295,
          -0.211900414162597,
          1.9529700296482555,
          0.0007260710297696359,
          -0.2913672463310992,
          2.79801432043314,
          2.802413639048455,
          -1.5949273225048493,
          -1.466087198031007,
          0.3896972063828159,
          -1.0101469186858074,
          0,
          0.33099768916144967,
          0.058283330872654915,
          -2.239568383191471,
          0.011495181492396762,
          -2.1260859082556434,
          -1.4356972432920132,
          3.0703443836150224,
          0.6700045449416275,
          34.991652965999954,
          0.026377709582448006,
          1.1251871851650443,
          -3.1371105734894913,
          -0.12426002120429819,
          1.0454213000176584,
          6.6245209765494675,
          -0.4595419606910302,
          0,
          0.7896302203233871,
          -0.729474346511639,
          -0.14398001055692283,
          3.423511278180575,
          5.916530534512166
         ]
        }
       ],
       "layout": {
        "annotations": [
         {
          "showarrow": false,
          "text": "% Progressive passes",
          "x": 0.5,
          "xref": "paper",
          "y": -0.15,
          "yref": "paper"
         },
         {
          "showarrow": false,
          "text": "VAEP per progressive pass (scaled to 10000)",
          "textangle": -90,
          "x": -0.07,
          "xref": "paper",
          "y": 0.5,
          "yref": "paper"
         }
        ],
        "autosize": true,
        "margin": {
         "b": 100
        },
        "template": {
         "data": {
          "bar": [
           {
            "error_x": {
             "color": "#2a3f5f"
            },
            "error_y": {
             "color": "#2a3f5f"
            },
            "marker": {
             "line": {
              "color": "#E5ECF6",
              "width": 0.5
             }
            },
            "type": "bar"
           }
          ],
          "barpolar": [
           {
            "marker": {
             "line": {
              "color": "#E5ECF6",
              "width": 0.5
             }
            },
            "type": "barpolar"
           }
          ],
          "carpet": [
           {
            "aaxis": {
             "endlinecolor": "#2a3f5f",
             "gridcolor": "white",
             "linecolor": "white",
             "minorgridcolor": "white",
             "startlinecolor": "#2a3f5f"
            },
            "baxis": {
             "endlinecolor": "#2a3f5f",
             "gridcolor": "white",
             "linecolor": "white",
             "minorgridcolor": "white",
             "startlinecolor": "#2a3f5f"
            },
            "type": "carpet"
           }
          ],
          "choropleth": [
           {
            "colorbar": {
             "outlinewidth": 0,
             "ticks": ""
            },
            "type": "choropleth"
           }
          ],
          "contour": [
           {
            "colorbar": {
             "outlinewidth": 0,
             "ticks": ""
            },
            "colorscale": [
             [
              0,
              "#0d0887"
             ],
             [
              0.1111111111111111,
              "#46039f"
             ],
             [
              0.2222222222222222,
              "#7201a8"
             ],
             [
              0.3333333333333333,
              "#9c179e"
             ],
             [
              0.4444444444444444,
              "#bd3786"
             ],
             [
              0.5555555555555556,
              "#d8576b"
             ],
             [
              0.6666666666666666,
              "#ed7953"
             ],
             [
              0.7777777777777778,
              "#fb9f3a"
             ],
             [
              0.8888888888888888,
              "#fdca26"
             ],
             [
              1,
              "#f0f921"
             ]
            ],
            "type": "contour"
           }
          ],
          "contourcarpet": [
           {
            "colorbar": {
             "outlinewidth": 0,
             "ticks": ""
            },
            "type": "contourcarpet"
           }
          ],
          "heatmap": [
           {
            "colorbar": {
             "outlinewidth": 0,
             "ticks": ""
            },
            "colorscale": [
             [
              0,
              "#0d0887"
             ],
             [
              0.1111111111111111,
              "#46039f"
             ],
             [
              0.2222222222222222,
              "#7201a8"
             ],
             [
              0.3333333333333333,
              "#9c179e"
             ],
             [
              0.4444444444444444,
              "#bd3786"
             ],
             [
              0.5555555555555556,
              "#d8576b"
             ],
             [
              0.6666666666666666,
              "#ed7953"
             ],
             [
              0.7777777777777778,
              "#fb9f3a"
             ],
             [
              0.8888888888888888,
              "#fdca26"
             ],
             [
              1,
              "#f0f921"
             ]
            ],
            "type": "heatmap"
           }
          ],
          "heatmapgl": [
           {
            "colorbar": {
             "outlinewidth": 0,
             "ticks": ""
            },
            "colorscale": [
             [
              0,
              "#0d0887"
             ],
             [
              0.1111111111111111,
              "#46039f"
             ],
             [
              0.2222222222222222,
              "#7201a8"
             ],
             [
              0.3333333333333333,
              "#9c179e"
             ],
             [
              0.4444444444444444,
              "#bd3786"
             ],
             [
              0.5555555555555556,
              "#d8576b"
             ],
             [
              0.6666666666666666,
              "#ed7953"
             ],
             [
              0.7777777777777778,
              "#fb9f3a"
             ],
             [
              0.8888888888888888,
              "#fdca26"
             ],
             [
              1,
              "#f0f921"
             ]
            ],
            "type": "heatmapgl"
           }
          ],
          "histogram": [
           {
            "marker": {
             "colorbar": {
              "outlinewidth": 0,
              "ticks": ""
             }
            },
            "type": "histogram"
           }
          ],
          "histogram2d": [
           {
            "colorbar": {
             "outlinewidth": 0,
             "ticks": ""
            },
            "colorscale": [
             [
              0,
              "#0d0887"
             ],
             [
              0.1111111111111111,
              "#46039f"
             ],
             [
              0.2222222222222222,
              "#7201a8"
             ],
             [
              0.3333333333333333,
              "#9c179e"
             ],
             [
              0.4444444444444444,
              "#bd3786"
             ],
             [
              0.5555555555555556,
              "#d8576b"
             ],
             [
              0.6666666666666666,
              "#ed7953"
             ],
             [
              0.7777777777777778,
              "#fb9f3a"
             ],
             [
              0.8888888888888888,
              "#fdca26"
             ],
             [
              1,
              "#f0f921"
             ]
            ],
            "type": "histogram2d"
           }
          ],
          "histogram2dcontour": [
           {
            "colorbar": {
             "outlinewidth": 0,
             "ticks": ""
            },
            "colorscale": [
             [
              0,
              "#0d0887"
             ],
             [
              0.1111111111111111,
              "#46039f"
             ],
             [
              0.2222222222222222,
              "#7201a8"
             ],
             [
              0.3333333333333333,
              "#9c179e"
             ],
             [
              0.4444444444444444,
              "#bd3786"
             ],
             [
              0.5555555555555556,
              "#d8576b"
             ],
             [
              0.6666666666666666,
              "#ed7953"
             ],
             [
              0.7777777777777778,
              "#fb9f3a"
             ],
             [
              0.8888888888888888,
              "#fdca26"
             ],
             [
              1,
              "#f0f921"
             ]
            ],
            "type": "histogram2dcontour"
           }
          ],
          "mesh3d": [
           {
            "colorbar": {
             "outlinewidth": 0,
             "ticks": ""
            },
            "type": "mesh3d"
           }
          ],
          "parcoords": [
           {
            "line": {
             "colorbar": {
              "outlinewidth": 0,
              "ticks": ""
             }
            },
            "type": "parcoords"
           }
          ],
          "pie": [
           {
            "automargin": true,
            "type": "pie"
           }
          ],
          "scatter": [
           {
            "marker": {
             "colorbar": {
              "outlinewidth": 0,
              "ticks": ""
             }
            },
            "type": "scatter"
           }
          ],
          "scatter3d": [
           {
            "line": {
             "colorbar": {
              "outlinewidth": 0,
              "ticks": ""
             }
            },
            "marker": {
             "colorbar": {
              "outlinewidth": 0,
              "ticks": ""
             }
            },
            "type": "scatter3d"
           }
          ],
          "scattercarpet": [
           {
            "marker": {
             "colorbar": {
              "outlinewidth": 0,
              "ticks": ""
             }
            },
            "type": "scattercarpet"
           }
          ],
          "scattergeo": [
           {
            "marker": {
             "colorbar": {
              "outlinewidth": 0,
              "ticks": ""
             }
            },
            "type": "scattergeo"
           }
          ],
          "scattergl": [
           {
            "marker": {
             "colorbar": {
              "outlinewidth": 0,
              "ticks": ""
             }
            },
            "type": "scattergl"
           }
          ],
          "scattermapbox": [
           {
            "marker": {
             "colorbar": {
              "outlinewidth": 0,
              "ticks": ""
             }
            },
            "type": "scattermapbox"
           }
          ],
          "scatterpolar": [
           {
            "marker": {
             "colorbar": {
              "outlinewidth": 0,
              "ticks": ""
             }
            },
            "type": "scatterpolar"
           }
          ],
          "scatterpolargl": [
           {
            "marker": {
             "colorbar": {
              "outlinewidth": 0,
              "ticks": ""
             }
            },
            "type": "scatterpolargl"
           }
          ],
          "scatterternary": [
           {
            "marker": {
             "colorbar": {
              "outlinewidth": 0,
              "ticks": ""
             }
            },
            "type": "scatterternary"
           }
          ],
          "surface": [
           {
            "colorbar": {
             "outlinewidth": 0,
             "ticks": ""
            },
            "colorscale": [
             [
              0,
              "#0d0887"
             ],
             [
              0.1111111111111111,
              "#46039f"
             ],
             [
              0.2222222222222222,
              "#7201a8"
             ],
             [
              0.3333333333333333,
              "#9c179e"
             ],
             [
              0.4444444444444444,
              "#bd3786"
             ],
             [
              0.5555555555555556,
              "#d8576b"
             ],
             [
              0.6666666666666666,
              "#ed7953"
             ],
             [
              0.7777777777777778,
              "#fb9f3a"
             ],
             [
              0.8888888888888888,
              "#fdca26"
             ],
             [
              1,
              "#f0f921"
             ]
            ],
            "type": "surface"
           }
          ],
          "table": [
           {
            "cells": {
             "fill": {
              "color": "#EBF0F8"
             },
             "line": {
              "color": "white"
             }
            },
            "header": {
             "fill": {
              "color": "#C8D4E3"
             },
             "line": {
              "color": "white"
             }
            },
            "type": "table"
           }
          ]
         },
         "layout": {
          "annotationdefaults": {
           "arrowcolor": "#2a3f5f",
           "arrowhead": 0,
           "arrowwidth": 1
          },
          "coloraxis": {
           "colorbar": {
            "outlinewidth": 0,
            "ticks": ""
           }
          },
          "colorscale": {
           "diverging": [
            [
             0,
             "#8e0152"
            ],
            [
             0.1,
             "#c51b7d"
            ],
            [
             0.2,
             "#de77ae"
            ],
            [
             0.3,
             "#f1b6da"
            ],
            [
             0.4,
             "#fde0ef"
            ],
            [
             0.5,
             "#f7f7f7"
            ],
            [
             0.6,
             "#e6f5d0"
            ],
            [
             0.7,
             "#b8e186"
            ],
            [
             0.8,
             "#7fbc41"
            ],
            [
             0.9,
             "#4d9221"
            ],
            [
             1,
             "#276419"
            ]
           ],
           "sequential": [
            [
             0,
             "#0d0887"
            ],
            [
             0.1111111111111111,
             "#46039f"
            ],
            [
             0.2222222222222222,
             "#7201a8"
            ],
            [
             0.3333333333333333,
             "#9c179e"
            ],
            [
             0.4444444444444444,
             "#bd3786"
            ],
            [
             0.5555555555555556,
             "#d8576b"
            ],
            [
             0.6666666666666666,
             "#ed7953"
            ],
            [
             0.7777777777777778,
             "#fb9f3a"
            ],
            [
             0.8888888888888888,
             "#fdca26"
            ],
            [
             1,
             "#f0f921"
            ]
           ],
           "sequentialminus": [
            [
             0,
             "#0d0887"
            ],
            [
             0.1111111111111111,
             "#46039f"
            ],
            [
             0.2222222222222222,
             "#7201a8"
            ],
            [
             0.3333333333333333,
             "#9c179e"
            ],
            [
             0.4444444444444444,
             "#bd3786"
            ],
            [
             0.5555555555555556,
             "#d8576b"
            ],
            [
             0.6666666666666666,
             "#ed7953"
            ],
            [
             0.7777777777777778,
             "#fb9f3a"
            ],
            [
             0.8888888888888888,
             "#fdca26"
            ],
            [
             1,
             "#f0f921"
            ]
           ]
          },
          "colorway": [
           "#636efa",
           "#EF553B",
           "#00cc96",
           "#ab63fa",
           "#FFA15A",
           "#19d3f3",
           "#FF6692",
           "#B6E880",
           "#FF97FF",
           "#FECB52"
          ],
          "font": {
           "color": "#2a3f5f"
          },
          "geo": {
           "bgcolor": "white",
           "lakecolor": "white",
           "landcolor": "#E5ECF6",
           "showlakes": true,
           "showland": true,
           "subunitcolor": "white"
          },
          "hoverlabel": {
           "align": "left"
          },
          "hovermode": "closest",
          "mapbox": {
           "style": "light"
          },
          "paper_bgcolor": "white",
          "plot_bgcolor": "#E5ECF6",
          "polar": {
           "angularaxis": {
            "gridcolor": "white",
            "linecolor": "white",
            "ticks": ""
           },
           "bgcolor": "#E5ECF6",
           "radialaxis": {
            "gridcolor": "white",
            "linecolor": "white",
            "ticks": ""
           }
          },
          "scene": {
           "xaxis": {
            "backgroundcolor": "#E5ECF6",
            "gridcolor": "white",
            "gridwidth": 2,
            "linecolor": "white",
            "showbackground": true,
            "ticks": "",
            "zerolinecolor": "white"
           },
           "yaxis": {
            "backgroundcolor": "#E5ECF6",
            "gridcolor": "white",
            "gridwidth": 2,
            "linecolor": "white",
            "showbackground": true,
            "ticks": "",
            "zerolinecolor": "white"
           },
           "zaxis": {
            "backgroundcolor": "#E5ECF6",
            "gridcolor": "white",
            "gridwidth": 2,
            "linecolor": "white",
            "showbackground": true,
            "ticks": "",
            "zerolinecolor": "white"
           }
          },
          "shapedefaults": {
           "line": {
            "color": "#2a3f5f"
           }
          },
          "ternary": {
           "aaxis": {
            "gridcolor": "white",
            "linecolor": "white",
            "ticks": ""
           },
           "baxis": {
            "gridcolor": "white",
            "linecolor": "white",
            "ticks": ""
           },
           "bgcolor": "#E5ECF6",
           "caxis": {
            "gridcolor": "white",
            "linecolor": "white",
            "ticks": ""
           }
          },
          "title": {
           "x": 0.05
          },
          "xaxis": {
           "automargin": true,
           "gridcolor": "white",
           "linecolor": "white",
           "ticks": "",
           "title": {
            "standoff": 15
           },
           "zerolinecolor": "white",
           "zerolinewidth": 2
          },
          "yaxis": {
           "automargin": true,
           "gridcolor": "white",
           "linecolor": "white",
           "ticks": "",
           "title": {
            "standoff": 15
           },
           "zerolinecolor": "white",
           "zerolinewidth": 2
          }
         }
        },
        "title": {
         "text": "rightflank_def"
        },
        "xaxis": {
         "autorange": true,
         "range": [
          -1.4714044943820224,
          25.28140449438202
         ],
         "type": "linear"
        },
        "yaxis": {
         "autorange": true,
         "range": [
          -8.027177444778754,
          37.98226684482414
         ],
         "type": "linear"
        }
       }
      },
      "image/png": "[encoded data removed]",
      "text/html": [
       "<div>\n",
       "        \n",
       "        \n",
       "            <div id=\"f57c3980-3b84-4bf2-81a5-1f1a14e23757\" class=\"plotly-graph-div\" style=\"height:525px; width:100%;\"></div>\n",
       "            <script type=\"text/javascript\">\n",
       "                require([\"plotly\"], function(Plotly) {\n",
       "                    window.PLOTLYENV=window.PLOTLYENV || {};\n",
       "                    \n",
       "                if (document.getElementById(\"f57c3980-3b84-4bf2-81a5-1f1a14e23757\")) {\n",
       "                    Plotly.newPlot(\n",
       "                        'f57c3980-3b84-4bf2-81a5-1f1a14e23757',\n",
       "                        [{\"mode\": \"markers\", \"name\": \"Plot3\", \"text\": [\"AaronCresswell LCB left\", \"AdrianMariappa L_CB right\", \"AhmedHegazi LCB right\", \"AhmedHegazi L_CB right\", \"AlfieMawson LCB right\", \"AlfieMawson L_CB right\", \"AngeloOgbonna LCB left\", \"AngeloOgbonna L_CB left\", \"AntonioRdiger LCB right\", \"AntonioRudiger LCB right\", \"AshleyWilliams L_CB right\", \"AymericLaporte LCB left\", \"AymericLaporte L_CB left\", \"BenMee L_CB left\", \"BrunoMartinsIndi LCB left\", \"BrunoMartinsIndi L_CB left\", \"CalumChambers L_CB right\", \"ChrisSmalling L_CB right\", \"ChristianKabasele LCB right\", \"ChristianKabasele L_CB right\", \"ChristopherSchindler L_CB right\", \"CiaranClark LCB left\", \"CiaranClark L_CB left\", \"DeclanRice LCB right\", \"DejanLovren L_CB right\", \"EliaquimMangala L_CB left\", \"ErikPieters LCB left\", \"FlorianLejeune L_CB right\", \"GaryCahill LCB right\", \"GeoffCameron LCB right\", \"HarryMaguire L_CB right\", \"JairoRiedewald LCB left\", \"JamesCollins LCB right\", \"JamesTarkowski L_CB right\", \"JamesTomkins L_CB right\", \"JanVertonghen LCB left\", \"JanVertonghen L_CB left\", \"JonnyEvans LCB right\", \"JonnyEvans L_CB right\", \"JoseHolebas LCB left\", \"KevinWimmer LCB left\", \"KevinWimmer L_CB left\", \"KurtZouma L_CB right\", \"LaurentKoscielny LCB right\", \"LaurentKoscielny L_CB right\", \"LewisDunk L_CB right\", \"MamadouSakho L_CB left\", \"MarcosRojo L_CB left\", \"MartinCranie L_CB right\", \"MayaYoshida L_CB right\", \"MichaelKeane LCB right\", \"MichaelKeane L_CB right\", \"MiguelBritos LCB left\", \"MiguelBritos L_CB left\", \"NachoMonreal LCB left\", \"NachoMonreal L_CB left\", \"NathanAk LCB left\", \"NathanAk L_CB left\", \"NathanAke LCB left\", \"NathanAke L_CB left\", \"NicolasOtamendi LCB right\", \"NicolasOtamendi L_CB right\", \"NicolsOtamendi LCB right\", \"NicolsOtamendi L_CB right\", \"PaulDummett LCB left\", \"PhilJagielka LCB right\", \"PhilJagielka L_CB right\", \"PhilJones LCB right\", \"PhilJones L_CB right\", \"RagnarKlavan L_CB left\", \"RobHolding LCB right\", \"RobHolding L_CB right\", \"ScottDann L_CB right\", \"SeadKolasinac LCB left\", \"ShkodranMustafi L_CB right\", \"TobyAlderweireld L_CB right\", \"TyroneMings LCB left\", \"VictorLindelf L_CB right\", \"VictorLindelof L_CB right\", \"VincentKompany L_CB right\", \"VirgilvanDijk L_CB right\", \"VirgilvanDijk L_CB right\", \"WesleyHoedt LCB left\", \"WesleyHoedt L_CB left\", \"WinstonReid L_CB right\"], \"type\": \"scatter\", \"x\": [0.0, 3.45, 20.0, 5.56, 15.33, 23.6, 6.9, 11.48, 5.06, 3.06, 15.94, 6.25, 4.03, 3.33, 7.69, 11.76, 7.14, 16.67, 0.0, 17.39, 13.98, 0.0, 2.02, 0.0, 14.58, 2.63, 5.26, 9.7, 9.8, 18.75, 6.5, 0.0, 14.29, 12.73, 12.96, 1.57, 4.06, 0.0, 8.7, 0.0, 2.0, 9.68, 6.98, 20.0, 9.62, 15.04, 1.2, 3.28, 16.67, 4.0, 0.0, 5.71, 4.65, 7.41, 0.88, 5.88, 5.0, 16.9, 3.45, 15.69, 8.11, 8.93, 0.0, 4.23, 8.33, 7.41, 23.81, 11.11, 14.48, 6.15, 13.04, 9.76, 2.0, 2.7, 7.32, 6.06, 11.76, 10.81, 7.69, 0.0, 12.22, 13.19, 1.41, 6.82, 21.21], \"y\": [0.0, -0.5558634915485464, -5.036563565954566, -0.2665849913480795, 3.846407844685018, -1.5447621581699238, 6.35580798000868, -2.417802871739278, 0.9987276059257079, 0.23786280285186914, 4.1029345838056095, -1.5394817455671728, -0.3869544430292093, -0.3779923842687692, -0.9136276247982795, 4.670507384135443, 3.221659655017512, -2.479760247903566, 0.0, 2.373667405175882, 3.1234040325607664, 0.0, -0.5218941680710725, 0.0, 2.6096898727701046, -0.8234666586902581, -4.336818268424587, 0.15575908632441002, 1.722371846352235, 27.206699596717954, 0.9926932595543942, 0.0, 1.3252394273877144, 0.6698753727091984, 4.803088980864872, -0.01370005982474507, 2.635623561218381, 0.0, 4.672263090944161, 0.0, -0.401426013559103, -0.21725536263998477, 7.061883428155683, 2.366011473350227, 1.81792136013078, -0.8730463280410664, -0.5994088588708855, -0.6421451403408265, 1.7215414360786476, 1.0945703834295273, 0.0, -0.16349319013811295, -0.211900414162597, 1.9529700296482555, 0.0007260710297696359, -0.2913672463310992, 2.79801432043314, 2.802413639048455, -1.5949273225048493, -1.466087198031007, 0.3896972063828159, -1.0101469186858074, 0.0, 0.33099768916144967, 0.058283330872654915, -2.239568383191471, 0.011495181492396762, -2.1260859082556434, -1.4356972432920132, 3.0703443836150224, 0.6700045449416275, 34.991652965999954, 0.026377709582448006, 1.1251871851650443, -3.1371105734894913, -0.12426002120429819, 1.0454213000176584, 6.6245209765494675, -0.4595419606910302, 0.0, 0.7896302203233871, -0.729474346511639, -0.14398001055692283, 3.423511278180575, 5.916530534512166]}],\n",
       "                        {\"annotations\": [{\"showarrow\": false, \"text\": \"% Progressive passes\", \"x\": 0.5, \"xref\": \"paper\", \"y\": -0.15, \"yref\": \"paper\"}, {\"showarrow\": false, \"text\": \"VAEP per progressive pass (scaled to 10000)\", \"textangle\": -90, \"x\": -0.07, \"xref\": \"paper\", \"y\": 0.5, \"yref\": \"paper\"}], \"autosize\": true, \"margin\": {\"b\": 100}, \"template\": {\"data\": {\"bar\": [{\"error_x\": {\"color\": \"#2a3f5f\"}, \"error_y\": {\"color\": \"#2a3f5f\"}, \"marker\": {\"line\": {\"color\": \"#E5ECF6\", \"width\": 0.5}}, \"type\": \"bar\"}], \"barpolar\": [{\"marker\": {\"line\": {\"color\": \"#E5ECF6\", \"width\": 0.5}}, \"type\": \"barpolar\"}], \"carpet\": [{\"aaxis\": {\"endlinecolor\": \"#2a3f5f\", \"gridcolor\": \"white\", \"linecolor\": \"white\", \"minorgridcolor\": \"white\", \"startlinecolor\": \"#2a3f5f\"}, \"baxis\": {\"endlinecolor\": \"#2a3f5f\", \"gridcolor\": \"white\", \"linecolor\": \"white\", \"minorgridcolor\": \"white\", \"startlinecolor\": \"#2a3f5f\"}, \"type\": \"carpet\"}], \"choropleth\": [{\"colorbar\": {\"outlinewidth\": 0, \"ticks\": \"\"}, \"type\": \"choropleth\"}], \"contour\": [{\"colorbar\": {\"outlinewidth\": 0, \"ticks\": \"\"}, \"colorscale\": [[0.0, \"#0d0887\"], [0.1111111111111111, \"#46039f\"], [0.2222222222222222, \"#7201a8\"], [0.3333333333333333, \"#9c179e\"], [0.4444444444444444, \"#bd3786\"], [0.5555555555555556, \"#d8576b\"], [0.6666666666666666, \"#ed7953\"], [0.7777777777777778, \"#fb9f3a\"], [0.8888888888888888, \"#fdca26\"], [1.0, \"#f0f921\"]], \"type\": \"contour\"}], \"contourcarpet\": [{\"colorbar\": {\"outlinewidth\": 0, \"ticks\": \"\"}, \"type\": \"contourcarpet\"}], \"heatmap\": [{\"colorbar\": {\"outlinewidth\": 0, \"ticks\": \"\"}, \"colorscale\": [[0.0, \"#0d0887\"], [0.1111111111111111, \"#46039f\"], [0.2222222222222222, \"#7201a8\"], [0.3333333333333333, \"#9c179e\"], [0.4444444444444444, \"#bd3786\"], [0.5555555555555556, \"#d8576b\"], [0.6666666666666666, \"#ed7953\"], [0.7777777777777778, \"#fb9f3a\"], [0.8888888888888888, \"#fdca26\"], [1.0, \"#f0f921\"]], \"type\": \"heatmap\"}], \"heatmapgl\": [{\"colorbar\": {\"outlinewidth\": 0, \"ticks\": \"\"}, \"colorscale\": [[0.0, \"#0d0887\"], [0.1111111111111111, \"#46039f\"], [0.2222222222222222, \"#7201a8\"], [0.3333333333333333, \"#9c179e\"], [0.4444444444444444, \"#bd3786\"], [0.5555555555555556, \"#d8576b\"], [0.6666666666666666, \"#ed7953\"], [0.7777777777777778, \"#fb9f3a\"], [0.8888888888888888, \"#fdca26\"], [1.0, \"#f0f921\"]], \"type\": \"heatmapgl\"}], \"histogram\": [{\"marker\": {\"colorbar\": {\"outlinewidth\": 0, \"ticks\": \"\"}}, \"type\": \"histogram\"}], \"histogram2d\": [{\"colorbar\": {\"outlinewidth\": 0, \"ticks\": \"\"}, \"colorscale\": [[0.0, \"#0d0887\"], [0.1111111111111111, \"#46039f\"], [0.2222222222222222, \"#7201a8\"], [0.3333333333333333, \"#9c179e\"], [0.4444444444444444, \"#bd3786\"], [0.5555555555555556, \"#d8576b\"], [0.6666666666666666, \"#ed7953\"], [0.7777777777777778, \"#fb9f3a\"], [0.8888888888888888, \"#fdca26\"], [1.0, \"#f0f921\"]], \"type\": \"histogram2d\"}], \"histogram2dcontour\": [{\"colorbar\": {\"outlinewidth\": 0, \"ticks\": \"\"}, \"colorscale\": [[0.0, \"#0d0887\"], [0.1111111111111111, \"#46039f\"], [0.2222222222222222, \"#7201a8\"], [0.3333333333333333, \"#9c179e\"], [0.4444444444444444, \"#bd3786\"], [0.5555555555555556, \"#d8576b\"], [0.6666666666666666, \"#ed7953\"], [0.7777777777777778, \"#fb9f3a\"], [0.8888888888888888, \"#fdca26\"], [1.0, \"#f0f921\"]], \"type\": \"histogram2dcontour\"}], \"mesh3d\": [{\"colorbar\": {\"outlinewidth\": 0, \"ticks\": \"\"}, \"type\": \"mesh3d\"}], \"parcoords\": [{\"line\": {\"colorbar\": {\"outlinewidth\": 0, \"ticks\": \"\"}}, \"type\": \"parcoords\"}], \"pie\": [{\"automargin\": true, \"type\": \"pie\"}], \"scatter\": [{\"marker\": {\"colorbar\": {\"outlinewidth\": 0, \"ticks\": \"\"}}, \"type\": \"scatter\"}], \"scatter3d\": [{\"line\": {\"colorbar\": {\"outlinewidth\": 0, \"ticks\": \"\"}}, \"marker\": {\"colorbar\": {\"outlinewidth\": 0, \"ticks\": \"\"}}, \"type\": \"scatter3d\"}], \"scattercarpet\": [{\"marker\": {\"colorbar\": {\"outlinewidth\": 0, \"ticks\": \"\"}}, \"type\": \"scattercarpet\"}], \"scattergeo\": [{\"marker\": {\"colorbar\": {\"outlinewidth\": 0, \"ticks\": \"\"}}, \"type\": \"scattergeo\"}], \"scattergl\": [{\"marker\": {\"colorbar\": {\"outlinewidth\": 0, \"ticks\": \"\"}}, \"type\": \"scattergl\"}], \"scattermapbox\": [{\"marker\": {\"colorbar\": {\"outlinewidth\": 0, \"ticks\": \"\"}}, \"type\": \"scattermapbox\"}], \"scatterpolar\": [{\"marker\": {\"colorbar\": {\"outlinewidth\": 0, \"ticks\": \"\"}}, \"type\": \"scatterpolar\"}], \"scatterpolargl\": [{\"marker\": {\"colorbar\": {\"outlinewidth\": 0, \"ticks\": \"\"}}, \"type\": \"scatterpolargl\"}], \"scatterternary\": [{\"marker\": {\"colorbar\": {\"outlinewidth\": 0, \"ticks\": \"\"}}, \"type\": \"scatterternary\"}], \"surface\": [{\"colorbar\": {\"outlinewidth\": 0, \"ticks\": \"\"}, \"colorscale\": [[0.0, \"#0d0887\"], [0.1111111111111111, \"#46039f\"], [0.2222222222222222, \"#7201a8\"], [0.3333333333333333, \"#9c179e\"], [0.4444444444444444, \"#bd3786\"], [0.5555555555555556, \"#d8576b\"], [0.6666666666666666, \"#ed7953\"], [0.7777777777777778, \"#fb9f3a\"], [0.8888888888888888, \"#fdca26\"], [1.0, \"#f0f921\"]], \"type\": \"surface\"}], \"table\": [{\"cells\": {\"fill\": {\"color\": \"#EBF0F8\"}, \"line\": {\"color\": \"white\"}}, \"header\": {\"fill\": {\"color\": \"#C8D4E3\"}, \"line\": {\"color\": \"white\"}}, \"type\": \"table\"}]}, \"layout\": {\"annotationdefaults\": {\"arrowcolor\": \"#2a3f5f\", \"arrowhead\": 0, \"arrowwidth\": 1}, \"coloraxis\": {\"colorbar\": {\"outlinewidth\": 0, \"ticks\": \"\"}}, \"colorscale\": {\"diverging\": [[0, \"#8e0152\"], [0.1, \"#c51b7d\"], [0.2, \"#de77ae\"], [0.3, \"#f1b6da\"], [0.4, \"#fde0ef\"], [0.5, \"#f7f7f7\"], [0.6, \"#e6f5d0\"], [0.7, \"#b8e186\"], [0.8, \"#7fbc41\"], [0.9, \"#4d9221\"], [1, \"#276419\"]], \"sequential\": [[0.0, \"#0d0887\"], [0.1111111111111111, \"#46039f\"], [0.2222222222222222, \"#7201a8\"], [0.3333333333333333, \"#9c179e\"], [0.4444444444444444, \"#bd3786\"], [0.5555555555555556, \"#d8576b\"], [0.6666666666666666, \"#ed7953\"], [0.7777777777777778, \"#fb9f3a\"], [0.8888888888888888, \"#fdca26\"], [1.0, \"#f0f921\"]], \"sequentialminus\": [[0.0, \"#0d0887\"], [0.1111111111111111, \"#46039f\"], [0.2222222222222222, \"#7201a8\"], [0.3333333333333333, \"#9c179e\"], [0.4444444444444444, \"#bd3786\"], [0.5555555555555556, \"#d8576b\"], [0.6666666666666666, \"#ed7953\"], [0.7777777777777778, \"#fb9f3a\"], [0.8888888888888888, \"#fdca26\"], [1.0, \"#f0f921\"]]}, \"colorway\": [\"#636efa\", \"#EF553B\", \"#00cc96\", \"#ab63fa\", \"#FFA15A\", \"#19d3f3\", \"#FF6692\", \"#B6E880\", \"#FF97FF\", \"#FECB52\"], \"font\": {\"color\": \"#2a3f5f\"}, \"geo\": {\"bgcolor\": \"white\", \"lakecolor\": \"white\", \"landcolor\": \"#E5ECF6\", \"showlakes\": true, \"showland\": true, \"subunitcolor\": \"white\"}, \"hoverlabel\": {\"align\": \"left\"}, \"hovermode\": \"closest\", \"mapbox\": {\"style\": \"light\"}, \"paper_bgcolor\": \"white\", \"plot_bgcolor\": \"#E5ECF6\", \"polar\": {\"angularaxis\": {\"gridcolor\": \"white\", \"linecolor\": \"white\", \"ticks\": \"\"}, \"bgcolor\": \"#E5ECF6\", \"radialaxis\": {\"gridcolor\": \"white\", \"linecolor\": \"white\", \"ticks\": \"\"}}, \"scene\": {\"xaxis\": {\"backgroundcolor\": \"#E5ECF6\", \"gridcolor\": \"white\", \"gridwidth\": 2, \"linecolor\": \"white\", \"showbackground\": true, \"ticks\": \"\", \"zerolinecolor\": \"white\"}, \"yaxis\": {\"backgroundcolor\": \"#E5ECF6\", \"gridcolor\": \"white\", \"gridwidth\": 2, \"linecolor\": \"white\", \"showbackground\": true, \"ticks\": \"\", \"zerolinecolor\": \"white\"}, \"zaxis\": {\"backgroundcolor\": \"#E5ECF6\", \"gridcolor\": \"white\", \"gridwidth\": 2, \"linecolor\": \"white\", \"showbackground\": true, \"ticks\": \"\", \"zerolinecolor\": \"white\"}}, \"shapedefaults\": {\"line\": {\"color\": \"#2a3f5f\"}}, \"ternary\": {\"aaxis\": {\"gridcolor\": \"white\", \"linecolor\": \"white\", \"ticks\": \"\"}, \"baxis\": {\"gridcolor\": \"white\", \"linecolor\": \"white\", \"ticks\": \"\"}, \"bgcolor\": \"#E5ECF6\", \"caxis\": {\"gridcolor\": \"white\", \"linecolor\": \"white\", \"ticks\": \"\"}}, \"title\": {\"x\": 0.05}, \"xaxis\": {\"automargin\": true, \"gridcolor\": \"white\", \"linecolor\": \"white\", \"ticks\": \"\", \"title\": {\"standoff\": 15}, \"zerolinecolor\": \"white\", \"zerolinewidth\": 2}, \"yaxis\": {\"automargin\": true, \"gridcolor\": \"white\", \"linecolor\": \"white\", \"ticks\": \"\", \"title\": {\"standoff\": 15}, \"zerolinecolor\": \"white\", \"zerolinewidth\": 2}}}, \"title\": {\"text\": \"rightflank_def\"}},\n",
       "                        {\"responsive\": true}\n",
       "                    ).then(function(){\n",
       "                            \n",
       "var gd = document.getElementById('f57c3980-3b84-4bf2-81a5-1f1a14e23757');\n",
       "var x = new MutationObserver(function (mutations, observer) {{\n",
       "        var display = window.getComputedStyle(gd).display;\n",
       "        if (!display || display === 'none') {{\n",
       "            console.log([gd, 'removed!']);\n",
       "            Plotly.purge(gd);\n",
       "            observer.disconnect();\n",
       "        }}\n",
       "}});\n",
       "\n",
       "// Listen for the removal of the full notebook cells\n",
       "var notebookContainer = gd.closest('#notebook-container');\n",
       "if (notebookContainer) {{\n",
       "    x.observe(notebookContainer, {childList: true});\n",
       "}}\n",
       "\n",
       "// Listen for the clearing of the current output cell\n",
       "var outputEl = gd.closest('.output');\n",
       "if (outputEl) {{\n",
       "    x.observe(outputEl, {childList: true});\n",
       "}}\n",
       "\n",
       "                        })\n",
       "                };\n",
       "                });\n",
       "            </script>\n",
       "        </div>"
      ]
     },
     "metadata": {},
     "output_type": "display_data"
    },
    {
     "data": {
      "application/vnd.plotly.v1+json": {
       "config": {
        "plotlyServerURL": "https://plot.ly"
       },
       "data": [
        {
         "mode": "markers",
         "name": "Plot4",
         "text": [
          "AaronCresswell LCB left",
          "AdrianMariappa L_CB right",
          "AhmedHegazi LCB right",
          "AhmedHegazi L_CB right",
          "AlfieMawson LCB right",
          "AlfieMawson L_CB right",
          "AngeloOgbonna LCB left",
          "AngeloOgbonna L_CB left",
          "AntonioRdiger LCB right",
          "AntonioRudiger LCB right",
          "AshleyWilliams L_CB right",
          "AymericLaporte LCB left",
          "AymericLaporte L_CB left",
          "BenMee L_CB left",
          "BrunoMartinsIndi LCB left",
          "BrunoMartinsIndi L_CB left",
          "CalumChambers L_CB right",
          "ChrisSmalling L_CB right",
          "ChristianKabasele LCB right",
          "ChristianKabasele L_CB right",
          "ChristopherSchindler L_CB right",
          "CiaranClark LCB left",
          "CiaranClark L_CB left",
          "DeclanRice LCB right",
          "DejanLovren L_CB right",
          "EliaquimMangala L_CB left",
          "ErikPieters LCB left",
          "FlorianLejeune L_CB right",
          "GaryCahill LCB right",
          "GeoffCameron LCB right",
          "HarryMaguire L_CB right",
          "JairoRiedewald LCB left",
          "JamesCollins LCB right",
          "JamesTarkowski L_CB right",
          "JamesTomkins L_CB right",
          "JanVertonghen LCB left",
          "JanVertonghen L_CB left",
          "JonnyEvans LCB right",
          "JonnyEvans L_CB right",
          "JoseHolebas LCB left",
          "KevinWimmer LCB left",
          "KevinWimmer L_CB left",
          "KurtZouma L_CB right",
          "LaurentKoscielny LCB right",
          "LaurentKoscielny L_CB right",
          "LewisDunk L_CB right",
          "MamadouSakho L_CB left",
          "MarcosRojo L_CB left",
          "MartinCranie L_CB right",
          "MayaYoshida L_CB right",
          "MichaelKeane LCB right",
          "MichaelKeane L_CB right",
          "MiguelBritos LCB left",
          "MiguelBritos L_CB left",
          "NachoMonreal LCB left",
          "NachoMonreal L_CB left",
          "NathanAk LCB left",
          "NathanAk L_CB left",
          "NathanAke LCB left",
          "NathanAke L_CB left",
          "NicolasOtamendi LCB right",
          "NicolasOtamendi L_CB right",
          "NicolsOtamendi LCB right",
          "NicolsOtamendi L_CB right",
          "PaulDummett LCB left",
          "PhilJagielka LCB right",
          "PhilJagielka L_CB right",
          "PhilJones LCB right",
          "PhilJones L_CB right",
          "RagnarKlavan L_CB left",
          "RobHolding LCB right",
          "RobHolding L_CB right",
          "ScottDann L_CB right",
          "SeadKolasinac LCB left",
          "ShkodranMustafi L_CB right",
          "TobyAlderweireld L_CB right",
          "TyroneMings LCB left",
          "VictorLindelf L_CB right",
          "VictorLindelof L_CB right",
          "VincentKompany L_CB right",
          "VirgilvanDijk L_CB right",
          "VirgilvanDijk L_CB right",
          "WesleyHoedt LCB left",
          "WesleyHoedt L_CB left",
          "WinstonReid L_CB right"
         ],
         "type": "scatter",
         "x": [
          66.3,
          44.83,
          24,
          22.22,
          26,
          24.16,
          51.72,
          44.26,
          37.34,
          42.86,
          36.23,
          56.25,
          53.69,
          35.71,
          50,
          35.29,
          46.43,
          27.78,
          55.88,
          28.99,
          45.7,
          69.23,
          38.38,
          58.33,
          38.54,
          55.26,
          47.37,
          36.97,
          46.41,
          37.5,
          47.74,
          53.85,
          28.57,
          41.82,
          40.74,
          53.93,
          36.23,
          37.21,
          31.88,
          63.64,
          52,
          29.03,
          23.26,
          28,
          36.54,
          29.67,
          43.37,
          29.51,
          41.67,
          32,
          60,
          32.38,
          58.14,
          46.3,
          59.73,
          47.06,
          45,
          50,
          55.17,
          47.06,
          40.54,
          30.8,
          34.62,
          45,
          50,
          51.85,
          14.29,
          50,
          34.48,
          43.02,
          43.48,
          36.59,
          54,
          54.05,
          24.39,
          60.61,
          29.41,
          45.95,
          38.46,
          10,
          40,
          39.56,
          56.34,
          50.91,
          21.21
         ],
         "y": [
          31.492927633023456,
          18.694581953680206,
          16.659026499837637,
          9.13184238015674,
          9.953344256306687,
          7.395731262977789,
          46.76067382739535,
          7.555087509213901,
          13.611498778786132,
          15.1382704153752,
          30.222815508697778,
          50.509187203715555,
          22.733586167622885,
          14.627434629281716,
          14.181490069649254,
          17.353013253715986,
          -5.207928375706874,
          20.76435058067242,
          33.7032024296658,
          12.293926396312704,
          16.82232295836432,
          12.714965806271021,
          24.675500680306794,
          25.720210978761315,
          17.223781057206605,
          14.14691098800272,
          5.463279943030916,
          15.268939533129785,
          20.676591065316615,
          26.930158346658573,
          23.040180097828685,
          58.60956905123133,
          9.83850171212994,
          23.290523222054947,
          17.71164859679562,
          17.543136793144864,
          16.28050314552704,
          21.527659670493108,
          22.410470789865307,
          37.86040152507749,
          20.42192791122943,
          13.247744326720076,
          3.166690355080158,
          6.028404412791133,
          13.01163751542425,
          9.165935774856225,
          13.9494875729286,
          6.397750131312574,
          5.770350884025296,
          15.585825685411692,
          24.356302339583635,
          13.089089194268343,
          15.899198979875722,
          19.716969906800877,
          20.6280878922218,
          16.178932564798743,
          25.138569646514952,
          19.27682105123892,
          18.796689431022468,
          23.88107618910498,
          16.368465070184822,
          6.877244686620543,
          11.512044181402485,
          10.518225491978228,
          14.41807544324547,
          17.585920437273604,
          -8.26557588187002,
          12.822044017310771,
          8.45159400366889,
          11.516056184828615,
          19.599543783165835,
          6.65696384669168,
          22.936301794834435,
          19.009650804454814,
          9.27677148067188,
          12.855837297992725,
          34.77061961722725,
          16.735033635553474,
          30.918287632700345,
          1.1277244193479419,
          14.179663389869447,
          16.053799990114275,
          30.35646532071938,
          28.14650736135346,
          9.261345399092093
         ]
        }
       ],
       "layout": {
        "annotations": [
         {
          "showarrow": false,
          "text": "% Progressive passes",
          "x": 0.5,
          "xref": "paper",
          "y": -0.15,
          "yref": "paper"
         },
         {
          "showarrow": false,
          "text": "VAEP per progressive pass (scaled to 10000)",
          "textangle": -90,
          "x": -0.07,
          "xref": "paper",
          "y": 0.5,
          "yref": "paper"
         }
        ],
        "autosize": true,
        "margin": {
         "b": 100
        },
        "template": {
         "data": {
          "bar": [
           {
            "error_x": {
             "color": "#2a3f5f"
            },
            "error_y": {
             "color": "#2a3f5f"
            },
            "marker": {
             "line": {
              "color": "#E5ECF6",
              "width": 0.5
             }
            },
            "type": "bar"
           }
          ],
          "barpolar": [
           {
            "marker": {
             "line": {
              "color": "#E5ECF6",
              "width": 0.5
             }
            },
            "type": "barpolar"
           }
          ],
          "carpet": [
           {
            "aaxis": {
             "endlinecolor": "#2a3f5f",
             "gridcolor": "white",
             "linecolor": "white",
             "minorgridcolor": "white",
             "startlinecolor": "#2a3f5f"
            },
            "baxis": {
             "endlinecolor": "#2a3f5f",
             "gridcolor": "white",
             "linecolor": "white",
             "minorgridcolor": "white",
             "startlinecolor": "#2a3f5f"
            },
            "type": "carpet"
           }
          ],
          "choropleth": [
           {
            "colorbar": {
             "outlinewidth": 0,
             "ticks": ""
            },
            "type": "choropleth"
           }
          ],
          "contour": [
           {
            "colorbar": {
             "outlinewidth": 0,
             "ticks": ""
            },
            "colorscale": [
             [
              0,
              "#0d0887"
             ],
             [
              0.1111111111111111,
              "#46039f"
             ],
             [
              0.2222222222222222,
              "#7201a8"
             ],
             [
              0.3333333333333333,
              "#9c179e"
             ],
             [
              0.4444444444444444,
              "#bd3786"
             ],
             [
              0.5555555555555556,
              "#d8576b"
             ],
             [
              0.6666666666666666,
              "#ed7953"
             ],
             [
              0.7777777777777778,
              "#fb9f3a"
             ],
             [
              0.8888888888888888,
              "#fdca26"
             ],
             [
              1,
              "#f0f921"
             ]
            ],
            "type": "contour"
           }
          ],
          "contourcarpet": [
           {
            "colorbar": {
             "outlinewidth": 0,
             "ticks": ""
            },
            "type": "contourcarpet"
           }
          ],
          "heatmap": [
           {
            "colorbar": {
             "outlinewidth": 0,
             "ticks": ""
            },
            "colorscale": [
             [
              0,
              "#0d0887"
             ],
             [
              0.1111111111111111,
              "#46039f"
             ],
             [
              0.2222222222222222,
              "#7201a8"
             ],
             [
              0.3333333333333333,
              "#9c179e"
             ],
             [
              0.4444444444444444,
              "#bd3786"
             ],
             [
              0.5555555555555556,
              "#d8576b"
             ],
             [
              0.6666666666666666,
              "#ed7953"
             ],
             [
              0.7777777777777778,
              "#fb9f3a"
             ],
             [
              0.8888888888888888,
              "#fdca26"
             ],
             [
              1,
              "#f0f921"
             ]
            ],
            "type": "heatmap"
           }
          ],
          "heatmapgl": [
           {
            "colorbar": {
             "outlinewidth": 0,
             "ticks": ""
            },
            "colorscale": [
             [
              0,
              "#0d0887"
             ],
             [
              0.1111111111111111,
              "#46039f"
             ],
             [
              0.2222222222222222,
              "#7201a8"
             ],
             [
              0.3333333333333333,
              "#9c179e"
             ],
             [
              0.4444444444444444,
              "#bd3786"
             ],
             [
              0.5555555555555556,
              "#d8576b"
             ],
             [
              0.6666666666666666,
              "#ed7953"
             ],
             [
              0.7777777777777778,
              "#fb9f3a"
             ],
             [
              0.8888888888888888,
              "#fdca26"
             ],
             [
              1,
              "#f0f921"
             ]
            ],
            "type": "heatmapgl"
           }
          ],
          "histogram": [
           {
            "marker": {
             "colorbar": {
              "outlinewidth": 0,
              "ticks": ""
             }
            },
            "type": "histogram"
           }
          ],
          "histogram2d": [
           {
            "colorbar": {
             "outlinewidth": 0,
             "ticks": ""
            },
            "colorscale": [
             [
              0,
              "#0d0887"
             ],
             [
              0.1111111111111111,
              "#46039f"
             ],
             [
              0.2222222222222222,
              "#7201a8"
             ],
             [
              0.3333333333333333,
              "#9c179e"
             ],
             [
              0.4444444444444444,
              "#bd3786"
             ],
             [
              0.5555555555555556,
              "#d8576b"
             ],
             [
              0.6666666666666666,
              "#ed7953"
             ],
             [
              0.7777777777777778,
              "#fb9f3a"
             ],
             [
              0.8888888888888888,
              "#fdca26"
             ],
             [
              1,
              "#f0f921"
             ]
            ],
            "type": "histogram2d"
           }
          ],
          "histogram2dcontour": [
           {
            "colorbar": {
             "outlinewidth": 0,
             "ticks": ""
            },
            "colorscale": [
             [
              0,
              "#0d0887"
             ],
             [
              0.1111111111111111,
              "#46039f"
             ],
             [
              0.2222222222222222,
              "#7201a8"
             ],
             [
              0.3333333333333333,
              "#9c179e"
             ],
             [
              0.4444444444444444,
              "#bd3786"
             ],
             [
              0.5555555555555556,
              "#d8576b"
             ],
             [
              0.6666666666666666,
              "#ed7953"
             ],
             [
              0.7777777777777778,
              "#fb9f3a"
             ],
             [
              0.8888888888888888,
              "#fdca26"
             ],
             [
              1,
              "#f0f921"
             ]
            ],
            "type": "histogram2dcontour"
           }
          ],
          "mesh3d": [
           {
            "colorbar": {
             "outlinewidth": 0,
             "ticks": ""
            },
            "type": "mesh3d"
           }
          ],
          "parcoords": [
           {
            "line": {
             "colorbar": {
              "outlinewidth": 0,
              "ticks": ""
             }
            },
            "type": "parcoords"
           }
          ],
          "pie": [
           {
            "automargin": true,
            "type": "pie"
           }
          ],
          "scatter": [
           {
            "marker": {
             "colorbar": {
              "outlinewidth": 0,
              "ticks": ""
             }
            },
            "type": "scatter"
           }
          ],
          "scatter3d": [
           {
            "line": {
             "colorbar": {
              "outlinewidth": 0,
              "ticks": ""
             }
            },
            "marker": {
             "colorbar": {
              "outlinewidth": 0,
              "ticks": ""
             }
            },
            "type": "scatter3d"
           }
          ],
          "scattercarpet": [
           {
            "marker": {
             "colorbar": {
              "outlinewidth": 0,
              "ticks": ""
             }
            },
            "type": "scattercarpet"
           }
          ],
          "scattergeo": [
           {
            "marker": {
             "colorbar": {
              "outlinewidth": 0,
              "ticks": ""
             }
            },
            "type": "scattergeo"
           }
          ],
          "scattergl": [
           {
            "marker": {
             "colorbar": {
              "outlinewidth": 0,
              "ticks": ""
             }
            },
            "type": "scattergl"
           }
          ],
          "scattermapbox": [
           {
            "marker": {
             "colorbar": {
              "outlinewidth": 0,
              "ticks": ""
             }
            },
            "type": "scattermapbox"
           }
          ],
          "scatterpolar": [
           {
            "marker": {
             "colorbar": {
              "outlinewidth": 0,
              "ticks": ""
             }
            },
            "type": "scatterpolar"
           }
          ],
          "scatterpolargl": [
           {
            "marker": {
             "colorbar": {
              "outlinewidth": 0,
              "ticks": ""
             }
            },
            "type": "scatterpolargl"
           }
          ],
          "scatterternary": [
           {
            "marker": {
             "colorbar": {
              "outlinewidth": 0,
              "ticks": ""
             }
            },
            "type": "scatterternary"
           }
          ],
          "surface": [
           {
            "colorbar": {
             "outlinewidth": 0,
             "ticks": ""
            },
            "colorscale": [
             [
              0,
              "#0d0887"
             ],
             [
              0.1111111111111111,
              "#46039f"
             ],
             [
              0.2222222222222222,
              "#7201a8"
             ],
             [
              0.3333333333333333,
              "#9c179e"
             ],
             [
              0.4444444444444444,
              "#bd3786"
             ],
             [
              0.5555555555555556,
              "#d8576b"
             ],
             [
              0.6666666666666666,
              "#ed7953"
             ],
             [
              0.7777777777777778,
              "#fb9f3a"
             ],
             [
              0.8888888888888888,
              "#fdca26"
             ],
             [
              1,
              "#f0f921"
             ]
            ],
            "type": "surface"
           }
          ],
          "table": [
           {
            "cells": {
             "fill": {
              "color": "#EBF0F8"
             },
             "line": {
              "color": "white"
             }
            },
            "header": {
             "fill": {
              "color": "#C8D4E3"
             },
             "line": {
              "color": "white"
             }
            },
            "type": "table"
           }
          ]
         },
         "layout": {
          "annotationdefaults": {
           "arrowcolor": "#2a3f5f",
           "arrowhead": 0,
           "arrowwidth": 1
          },
          "coloraxis": {
           "colorbar": {
            "outlinewidth": 0,
            "ticks": ""
           }
          },
          "colorscale": {
           "diverging": [
            [
             0,
             "#8e0152"
            ],
            [
             0.1,
             "#c51b7d"
            ],
            [
             0.2,
             "#de77ae"
            ],
            [
             0.3,
             "#f1b6da"
            ],
            [
             0.4,
             "#fde0ef"
            ],
            [
             0.5,
             "#f7f7f7"
            ],
            [
             0.6,
             "#e6f5d0"
            ],
            [
             0.7,
             "#b8e186"
            ],
            [
             0.8,
             "#7fbc41"
            ],
            [
             0.9,
             "#4d9221"
            ],
            [
             1,
             "#276419"
            ]
           ],
           "sequential": [
            [
             0,
             "#0d0887"
            ],
            [
             0.1111111111111111,
             "#46039f"
            ],
            [
             0.2222222222222222,
             "#7201a8"
            ],
            [
             0.3333333333333333,
             "#9c179e"
            ],
            [
             0.4444444444444444,
             "#bd3786"
            ],
            [
             0.5555555555555556,
             "#d8576b"
            ],
            [
             0.6666666666666666,
             "#ed7953"
            ],
            [
             0.7777777777777778,
             "#fb9f3a"
            ],
            [
             0.8888888888888888,
             "#fdca26"
            ],
            [
             1,
             "#f0f921"
            ]
           ],
           "sequentialminus": [
            [
             0,
             "#0d0887"
            ],
            [
             0.1111111111111111,
             "#46039f"
            ],
            [
             0.2222222222222222,
             "#7201a8"
            ],
            [
             0.3333333333333333,
             "#9c179e"
            ],
            [
             0.4444444444444444,
             "#bd3786"
            ],
            [
             0.5555555555555556,
             "#d8576b"
            ],
            [
             0.6666666666666666,
             "#ed7953"
            ],
            [
             0.7777777777777778,
             "#fb9f3a"
            ],
            [
             0.8888888888888888,
             "#fdca26"
            ],
            [
             1,
             "#f0f921"
            ]
           ]
          },
          "colorway": [
           "#636efa",
           "#EF553B",
           "#00cc96",
           "#ab63fa",
           "#FFA15A",
           "#19d3f3",
           "#FF6692",
           "#B6E880",
           "#FF97FF",
           "#FECB52"
          ],
          "font": {
           "color": "#2a3f5f"
          },
          "geo": {
           "bgcolor": "white",
           "lakecolor": "white",
           "landcolor": "#E5ECF6",
           "showlakes": true,
           "showland": true,
           "subunitcolor": "white"
          },
          "hoverlabel": {
           "align": "left"
          },
          "hovermode": "closest",
          "mapbox": {
           "style": "light"
          },
          "paper_bgcolor": "white",
          "plot_bgcolor": "#E5ECF6",
          "polar": {
           "angularaxis": {
            "gridcolor": "white",
            "linecolor": "white",
            "ticks": ""
           },
           "bgcolor": "#E5ECF6",
           "radialaxis": {
            "gridcolor": "white",
            "linecolor": "white",
            "ticks": ""
           }
          },
          "scene": {
           "xaxis": {
            "backgroundcolor": "#E5ECF6",
            "gridcolor": "white",
            "gridwidth": 2,
            "linecolor": "white",
            "showbackground": true,
            "ticks": "",
            "zerolinecolor": "white"
           },
           "yaxis": {
            "backgroundcolor": "#E5ECF6",
            "gridcolor": "white",
            "gridwidth": 2,
            "linecolor": "white",
            "showbackground": true,
            "ticks": "",
            "zerolinecolor": "white"
           },
           "zaxis": {
            "backgroundcolor": "#E5ECF6",
            "gridcolor": "white",
            "gridwidth": 2,
            "linecolor": "white",
            "showbackground": true,
            "ticks": "",
            "zerolinecolor": "white"
           }
          },
          "shapedefaults": {
           "line": {
            "color": "#2a3f5f"
           }
          },
          "ternary": {
           "aaxis": {
            "gridcolor": "white",
            "linecolor": "white",
            "ticks": ""
           },
           "baxis": {
            "gridcolor": "white",
            "linecolor": "white",
            "ticks": ""
           },
           "bgcolor": "#E5ECF6",
           "caxis": {
            "gridcolor": "white",
            "linecolor": "white",
            "ticks": ""
           }
          },
          "title": {
           "x": 0.05
          },
          "xaxis": {
           "automargin": true,
           "gridcolor": "white",
           "linecolor": "white",
           "ticks": "",
           "title": {
            "standoff": 15
           },
           "zerolinecolor": "white",
           "zerolinewidth": 2
          },
          "yaxis": {
           "automargin": true,
           "gridcolor": "white",
           "linecolor": "white",
           "ticks": "",
           "title": {
            "standoff": 15
           },
           "zerolinecolor": "white",
           "zerolinewidth": 2
          }
         }
        },
        "title": {
         "text": "leftflank_attack"
        },
        "xaxis": {
         "autorange": true,
         "range": [
          6.339719101123595,
          72.89028089887641
         ],
         "type": "linear"
        },
        "yaxis": {
         "autorange": true,
         "range": [
          -13.26199475618219,
          63.6059879255435
         ],
         "type": "linear"
        }
       }
      },
      "image/png": "[encoded data removed]",
      "text/html": [
       "<div>\n",
       "        \n",
       "        \n",
       "            <div id=\"8cf96585-2a15-4447-80b8-3a52ac6cc3b6\" class=\"plotly-graph-div\" style=\"height:525px; width:100%;\"></div>\n",
       "            <script type=\"text/javascript\">\n",
       "                require([\"plotly\"], function(Plotly) {\n",
       "                    window.PLOTLYENV=window.PLOTLYENV || {};\n",
       "                    \n",
       "                if (document.getElementById(\"8cf96585-2a15-4447-80b8-3a52ac6cc3b6\")) {\n",
       "                    Plotly.newPlot(\n",
       "                        '8cf96585-2a15-4447-80b8-3a52ac6cc3b6',\n",
       "                        [{\"mode\": \"markers\", \"name\": \"Plot4\", \"text\": [\"AaronCresswell LCB left\", \"AdrianMariappa L_CB right\", \"AhmedHegazi LCB right\", \"AhmedHegazi L_CB right\", \"AlfieMawson LCB right\", \"AlfieMawson L_CB right\", \"AngeloOgbonna LCB left\", \"AngeloOgbonna L_CB left\", \"AntonioRdiger LCB right\", \"AntonioRudiger LCB right\", \"AshleyWilliams L_CB right\", \"AymericLaporte LCB left\", \"AymericLaporte L_CB left\", \"BenMee L_CB left\", \"BrunoMartinsIndi LCB left\", \"BrunoMartinsIndi L_CB left\", \"CalumChambers L_CB right\", \"ChrisSmalling L_CB right\", \"ChristianKabasele LCB right\", \"ChristianKabasele L_CB right\", \"ChristopherSchindler L_CB right\", \"CiaranClark LCB left\", \"CiaranClark L_CB left\", \"DeclanRice LCB right\", \"DejanLovren L_CB right\", \"EliaquimMangala L_CB left\", \"ErikPieters LCB left\", \"FlorianLejeune L_CB right\", \"GaryCahill LCB right\", \"GeoffCameron LCB right\", \"HarryMaguire L_CB right\", \"JairoRiedewald LCB left\", \"JamesCollins LCB right\", \"JamesTarkowski L_CB right\", \"JamesTomkins L_CB right\", \"JanVertonghen LCB left\", \"JanVertonghen L_CB left\", \"JonnyEvans LCB right\", \"JonnyEvans L_CB right\", \"JoseHolebas LCB left\", \"KevinWimmer LCB left\", \"KevinWimmer L_CB left\", \"KurtZouma L_CB right\", \"LaurentKoscielny LCB right\", \"LaurentKoscielny L_CB right\", \"LewisDunk L_CB right\", \"MamadouSakho L_CB left\", \"MarcosRojo L_CB left\", \"MartinCranie L_CB right\", \"MayaYoshida L_CB right\", \"MichaelKeane LCB right\", \"MichaelKeane L_CB right\", \"MiguelBritos LCB left\", \"MiguelBritos L_CB left\", \"NachoMonreal LCB left\", \"NachoMonreal L_CB left\", \"NathanAk LCB left\", \"NathanAk L_CB left\", \"NathanAke LCB left\", \"NathanAke L_CB left\", \"NicolasOtamendi LCB right\", \"NicolasOtamendi L_CB right\", \"NicolsOtamendi LCB right\", \"NicolsOtamendi L_CB right\", \"PaulDummett LCB left\", \"PhilJagielka LCB right\", \"PhilJagielka L_CB right\", \"PhilJones LCB right\", \"PhilJones L_CB right\", \"RagnarKlavan L_CB left\", \"RobHolding LCB right\", \"RobHolding L_CB right\", \"ScottDann L_CB right\", \"SeadKolasinac LCB left\", \"ShkodranMustafi L_CB right\", \"TobyAlderweireld L_CB right\", \"TyroneMings LCB left\", \"VictorLindelf L_CB right\", \"VictorLindelof L_CB right\", \"VincentKompany L_CB right\", \"VirgilvanDijk L_CB right\", \"VirgilvanDijk L_CB right\", \"WesleyHoedt LCB left\", \"WesleyHoedt L_CB left\", \"WinstonReid L_CB right\"], \"type\": \"scatter\", \"x\": [66.3, 44.83, 24.0, 22.22, 26.0, 24.16, 51.72, 44.26, 37.34, 42.86, 36.23, 56.25, 53.69, 35.71, 50.0, 35.29, 46.43, 27.78, 55.88, 28.99, 45.7, 69.23, 38.38, 58.33, 38.54, 55.26, 47.37, 36.97, 46.41, 37.5, 47.74, 53.85, 28.57, 41.82, 40.74, 53.93, 36.23, 37.21, 31.88, 63.64, 52.0, 29.03, 23.26, 28.0, 36.54, 29.67, 43.37, 29.51, 41.67, 32.0, 60.0, 32.38, 58.14, 46.3, 59.73, 47.06, 45.0, 50.0, 55.17, 47.06, 40.54, 30.8, 34.62, 45.0, 50.0, 51.85, 14.29, 50.0, 34.48, 43.02, 43.48, 36.59, 54.0, 54.05, 24.39, 60.61, 29.41, 45.95, 38.46, 10.0, 40.0, 39.56, 56.34, 50.91, 21.21], \"y\": [31.492927633023456, 18.694581953680206, 16.659026499837637, 9.13184238015674, 9.953344256306687, 7.395731262977789, 46.76067382739535, 7.555087509213901, 13.611498778786132, 15.1382704153752, 30.222815508697778, 50.509187203715555, 22.733586167622885, 14.627434629281716, 14.181490069649254, 17.353013253715986, -5.207928375706874, 20.76435058067242, 33.7032024296658, 12.293926396312704, 16.82232295836432, 12.714965806271021, 24.675500680306794, 25.720210978761315, 17.223781057206605, 14.14691098800272, 5.463279943030916, 15.268939533129785, 20.676591065316615, 26.930158346658573, 23.040180097828685, 58.60956905123133, 9.83850171212994, 23.290523222054947, 17.71164859679562, 17.543136793144864, 16.28050314552704, 21.527659670493108, 22.410470789865307, 37.86040152507749, 20.42192791122943, 13.247744326720076, 3.166690355080158, 6.028404412791133, 13.01163751542425, 9.165935774856225, 13.9494875729286, 6.397750131312574, 5.770350884025296, 15.585825685411692, 24.356302339583635, 13.089089194268343, 15.899198979875722, 19.716969906800877, 20.6280878922218, 16.178932564798743, 25.138569646514952, 19.27682105123892, 18.796689431022468, 23.88107618910498, 16.368465070184822, 6.877244686620543, 11.512044181402485, 10.518225491978228, 14.41807544324547, 17.585920437273604, -8.26557588187002, 12.822044017310771, 8.45159400366889, 11.516056184828615, 19.599543783165835, 6.65696384669168, 22.936301794834435, 19.009650804454814, 9.27677148067188, 12.855837297992725, 34.77061961722725, 16.735033635553474, 30.918287632700345, 1.1277244193479419, 14.179663389869447, 16.053799990114275, 30.35646532071938, 28.14650736135346, 9.261345399092093]}],\n",
       "                        {\"annotations\": [{\"showarrow\": false, \"text\": \"% Progressive passes\", \"x\": 0.5, \"xref\": \"paper\", \"y\": -0.15, \"yref\": \"paper\"}, {\"showarrow\": false, \"text\": \"VAEP per progressive pass (scaled to 10000)\", \"textangle\": -90, \"x\": -0.07, \"xref\": \"paper\", \"y\": 0.5, \"yref\": \"paper\"}], \"autosize\": true, \"margin\": {\"b\": 100}, \"template\": {\"data\": {\"bar\": [{\"error_x\": {\"color\": \"#2a3f5f\"}, \"error_y\": {\"color\": \"#2a3f5f\"}, \"marker\": {\"line\": {\"color\": \"#E5ECF6\", \"width\": 0.5}}, \"type\": \"bar\"}], \"barpolar\": [{\"marker\": {\"line\": {\"color\": \"#E5ECF6\", \"width\": 0.5}}, \"type\": \"barpolar\"}], \"carpet\": [{\"aaxis\": {\"endlinecolor\": \"#2a3f5f\", \"gridcolor\": \"white\", \"linecolor\": \"white\", \"minorgridcolor\": \"white\", \"startlinecolor\": \"#2a3f5f\"}, \"baxis\": {\"endlinecolor\": \"#2a3f5f\", \"gridcolor\": \"white\", \"linecolor\": \"white\", \"minorgridcolor\": \"white\", \"startlinecolor\": \"#2a3f5f\"}, \"type\": \"carpet\"}], \"choropleth\": [{\"colorbar\": {\"outlinewidth\": 0, \"ticks\": \"\"}, \"type\": \"choropleth\"}], \"contour\": [{\"colorbar\": {\"outlinewidth\": 0, \"ticks\": \"\"}, \"colorscale\": [[0.0, \"#0d0887\"], [0.1111111111111111, \"#46039f\"], [0.2222222222222222, \"#7201a8\"], [0.3333333333333333, \"#9c179e\"], [0.4444444444444444, \"#bd3786\"], [0.5555555555555556, \"#d8576b\"], [0.6666666666666666, \"#ed7953\"], [0.7777777777777778, \"#fb9f3a\"], [0.8888888888888888, \"#fdca26\"], [1.0, \"#f0f921\"]], \"type\": \"contour\"}], \"contourcarpet\": [{\"colorbar\": {\"outlinewidth\": 0, \"ticks\": \"\"}, \"type\": \"contourcarpet\"}], \"heatmap\": [{\"colorbar\": {\"outlinewidth\": 0, \"ticks\": \"\"}, \"colorscale\": [[0.0, \"#0d0887\"], [0.1111111111111111, \"#46039f\"], [0.2222222222222222, \"#7201a8\"], [0.3333333333333333, \"#9c179e\"], [0.4444444444444444, \"#bd3786\"], [0.5555555555555556, \"#d8576b\"], [0.6666666666666666, \"#ed7953\"], [0.7777777777777778, \"#fb9f3a\"], [0.8888888888888888, \"#fdca26\"], [1.0, \"#f0f921\"]], \"type\": \"heatmap\"}], \"heatmapgl\": [{\"colorbar\": {\"outlinewidth\": 0, \"ticks\": \"\"}, \"colorscale\": [[0.0, \"#0d0887\"], [0.1111111111111111, \"#46039f\"], [0.2222222222222222, \"#7201a8\"], [0.3333333333333333, \"#9c179e\"], [0.4444444444444444, \"#bd3786\"], [0.5555555555555556, \"#d8576b\"], [0.6666666666666666, \"#ed7953\"], [0.7777777777777778, \"#fb9f3a\"], [0.8888888888888888, \"#fdca26\"], [1.0, \"#f0f921\"]], \"type\": \"heatmapgl\"}], \"histogram\": [{\"marker\": {\"colorbar\": {\"outlinewidth\": 0, \"ticks\": \"\"}}, \"type\": \"histogram\"}], \"histogram2d\": [{\"colorbar\": {\"outlinewidth\": 0, \"ticks\": \"\"}, \"colorscale\": [[0.0, \"#0d0887\"], [0.1111111111111111, \"#46039f\"], [0.2222222222222222, \"#7201a8\"], [0.3333333333333333, \"#9c179e\"], [0.4444444444444444, \"#bd3786\"], [0.5555555555555556, \"#d8576b\"], [0.6666666666666666, \"#ed7953\"], [0.7777777777777778, \"#fb9f3a\"], [0.8888888888888888, \"#fdca26\"], [1.0, \"#f0f921\"]], \"type\": \"histogram2d\"}], \"histogram2dcontour\": [{\"colorbar\": {\"outlinewidth\": 0, \"ticks\": \"\"}, \"colorscale\": [[0.0, \"#0d0887\"], [0.1111111111111111, \"#46039f\"], [0.2222222222222222, \"#7201a8\"], [0.3333333333333333, \"#9c179e\"], [0.4444444444444444, \"#bd3786\"], [0.5555555555555556, \"#d8576b\"], [0.6666666666666666, \"#ed7953\"], [0.7777777777777778, \"#fb9f3a\"], [0.8888888888888888, \"#fdca26\"], [1.0, \"#f0f921\"]], \"type\": \"histogram2dcontour\"}], \"mesh3d\": [{\"colorbar\": {\"outlinewidth\": 0, \"ticks\": \"\"}, \"type\": \"mesh3d\"}], \"parcoords\": [{\"line\": {\"colorbar\": {\"outlinewidth\": 0, \"ticks\": \"\"}}, \"type\": \"parcoords\"}], \"pie\": [{\"automargin\": true, \"type\": \"pie\"}], \"scatter\": [{\"marker\": {\"colorbar\": {\"outlinewidth\": 0, \"ticks\": \"\"}}, \"type\": \"scatter\"}], \"scatter3d\": [{\"line\": {\"colorbar\": {\"outlinewidth\": 0, \"ticks\": \"\"}}, \"marker\": {\"colorbar\": {\"outlinewidth\": 0, \"ticks\": \"\"}}, \"type\": \"scatter3d\"}], \"scattercarpet\": [{\"marker\": {\"colorbar\": {\"outlinewidth\": 0, \"ticks\": \"\"}}, \"type\": \"scattercarpet\"}], \"scattergeo\": [{\"marker\": {\"colorbar\": {\"outlinewidth\": 0, \"ticks\": \"\"}}, \"type\": \"scattergeo\"}], \"scattergl\": [{\"marker\": {\"colorbar\": {\"outlinewidth\": 0, \"ticks\": \"\"}}, \"type\": \"scattergl\"}], \"scattermapbox\": [{\"marker\": {\"colorbar\": {\"outlinewidth\": 0, \"ticks\": \"\"}}, \"type\": \"scattermapbox\"}], \"scatterpolar\": [{\"marker\": {\"colorbar\": {\"outlinewidth\": 0, \"ticks\": \"\"}}, \"type\": \"scatterpolar\"}], \"scatterpolargl\": [{\"marker\": {\"colorbar\": {\"outlinewidth\": 0, \"ticks\": \"\"}}, \"type\": \"scatterpolargl\"}], \"scatterternary\": [{\"marker\": {\"colorbar\": {\"outlinewidth\": 0, \"ticks\": \"\"}}, \"type\": \"scatterternary\"}], \"surface\": [{\"colorbar\": {\"outlinewidth\": 0, \"ticks\": \"\"}, \"colorscale\": [[0.0, \"#0d0887\"], [0.1111111111111111, \"#46039f\"], [0.2222222222222222, \"#7201a8\"], [0.3333333333333333, \"#9c179e\"], [0.4444444444444444, \"#bd3786\"], [0.5555555555555556, \"#d8576b\"], [0.6666666666666666, \"#ed7953\"], [0.7777777777777778, \"#fb9f3a\"], [0.8888888888888888, \"#fdca26\"], [1.0, \"#f0f921\"]], \"type\": \"surface\"}], \"table\": [{\"cells\": {\"fill\": {\"color\": \"#EBF0F8\"}, \"line\": {\"color\": \"white\"}}, \"header\": {\"fill\": {\"color\": \"#C8D4E3\"}, \"line\": {\"color\": \"white\"}}, \"type\": \"table\"}]}, \"layout\": {\"annotationdefaults\": {\"arrowcolor\": \"#2a3f5f\", \"arrowhead\": 0, \"arrowwidth\": 1}, \"coloraxis\": {\"colorbar\": {\"outlinewidth\": 0, \"ticks\": \"\"}}, \"colorscale\": {\"diverging\": [[0, \"#8e0152\"], [0.1, \"#c51b7d\"], [0.2, \"#de77ae\"], [0.3, \"#f1b6da\"], [0.4, \"#fde0ef\"], [0.5, \"#f7f7f7\"], [0.6, \"#e6f5d0\"], [0.7, \"#b8e186\"], [0.8, \"#7fbc41\"], [0.9, \"#4d9221\"], [1, \"#276419\"]], \"sequential\": [[0.0, \"#0d0887\"], [0.1111111111111111, \"#46039f\"], [0.2222222222222222, \"#7201a8\"], [0.3333333333333333, \"#9c179e\"], [0.4444444444444444, \"#bd3786\"], [0.5555555555555556, \"#d8576b\"], [0.6666666666666666, \"#ed7953\"], [0.7777777777777778, \"#fb9f3a\"], [0.8888888888888888, \"#fdca26\"], [1.0, \"#f0f921\"]], \"sequentialminus\": [[0.0, \"#0d0887\"], [0.1111111111111111, \"#46039f\"], [0.2222222222222222, \"#7201a8\"], [0.3333333333333333, \"#9c179e\"], [0.4444444444444444, \"#bd3786\"], [0.5555555555555556, \"#d8576b\"], [0.6666666666666666, \"#ed7953\"], [0.7777777777777778, \"#fb9f3a\"], [0.8888888888888888, \"#fdca26\"], [1.0, \"#f0f921\"]]}, \"colorway\": [\"#636efa\", \"#EF553B\", \"#00cc96\", \"#ab63fa\", \"#FFA15A\", \"#19d3f3\", \"#FF6692\", \"#B6E880\", \"#FF97FF\", \"#FECB52\"], \"font\": {\"color\": \"#2a3f5f\"}, \"geo\": {\"bgcolor\": \"white\", \"lakecolor\": \"white\", \"landcolor\": \"#E5ECF6\", \"showlakes\": true, \"showland\": true, \"subunitcolor\": \"white\"}, \"hoverlabel\": {\"align\": \"left\"}, \"hovermode\": \"closest\", \"mapbox\": {\"style\": \"light\"}, \"paper_bgcolor\": \"white\", \"plot_bgcolor\": \"#E5ECF6\", \"polar\": {\"angularaxis\": {\"gridcolor\": \"white\", \"linecolor\": \"white\", \"ticks\": \"\"}, \"bgcolor\": \"#E5ECF6\", \"radialaxis\": {\"gridcolor\": \"white\", \"linecolor\": \"white\", \"ticks\": \"\"}}, \"scene\": {\"xaxis\": {\"backgroundcolor\": \"#E5ECF6\", \"gridcolor\": \"white\", \"gridwidth\": 2, \"linecolor\": \"white\", \"showbackground\": true, \"ticks\": \"\", \"zerolinecolor\": \"white\"}, \"yaxis\": {\"backgroundcolor\": \"#E5ECF6\", \"gridcolor\": \"white\", \"gridwidth\": 2, \"linecolor\": \"white\", \"showbackground\": true, \"ticks\": \"\", \"zerolinecolor\": \"white\"}, \"zaxis\": {\"backgroundcolor\": \"#E5ECF6\", \"gridcolor\": \"white\", \"gridwidth\": 2, \"linecolor\": \"white\", \"showbackground\": true, \"ticks\": \"\", \"zerolinecolor\": \"white\"}}, \"shapedefaults\": {\"line\": {\"color\": \"#2a3f5f\"}}, \"ternary\": {\"aaxis\": {\"gridcolor\": \"white\", \"linecolor\": \"white\", \"ticks\": \"\"}, \"baxis\": {\"gridcolor\": \"white\", \"linecolor\": \"white\", \"ticks\": \"\"}, \"bgcolor\": \"#E5ECF6\", \"caxis\": {\"gridcolor\": \"white\", \"linecolor\": \"white\", \"ticks\": \"\"}}, \"title\": {\"x\": 0.05}, \"xaxis\": {\"automargin\": true, \"gridcolor\": \"white\", \"linecolor\": \"white\", \"ticks\": \"\", \"title\": {\"standoff\": 15}, \"zerolinecolor\": \"white\", \"zerolinewidth\": 2}, \"yaxis\": {\"automargin\": true, \"gridcolor\": \"white\", \"linecolor\": \"white\", \"ticks\": \"\", \"title\": {\"standoff\": 15}, \"zerolinecolor\": \"white\", \"zerolinewidth\": 2}}}, \"title\": {\"text\": \"leftflank_attack\"}},\n",
       "                        {\"responsive\": true}\n",
       "                    ).then(function(){\n",
       "                            \n",
       "var gd = document.getElementById('8cf96585-2a15-4447-80b8-3a52ac6cc3b6');\n",
       "var x = new MutationObserver(function (mutations, observer) {{\n",
       "        var display = window.getComputedStyle(gd).display;\n",
       "        if (!display || display === 'none') {{\n",
       "            console.log([gd, 'removed!']);\n",
       "            Plotly.purge(gd);\n",
       "            observer.disconnect();\n",
       "        }}\n",
       "}});\n",
       "\n",
       "// Listen for the removal of the full notebook cells\n",
       "var notebookContainer = gd.closest('#notebook-container');\n",
       "if (notebookContainer) {{\n",
       "    x.observe(notebookContainer, {childList: true});\n",
       "}}\n",
       "\n",
       "// Listen for the clearing of the current output cell\n",
       "var outputEl = gd.closest('.output');\n",
       "if (outputEl) {{\n",
       "    x.observe(outputEl, {childList: true});\n",
       "}}\n",
       "\n",
       "                        })\n",
       "                };\n",
       "                });\n",
       "            </script>\n",
       "        </div>"
      ]
     },
     "metadata": {},
     "output_type": "display_data"
    },
    {
     "data": {
      "application/vnd.plotly.v1+json": {
       "config": {
        "plotlyServerURL": "https://plot.ly"
       },
       "data": [
        {
         "mode": "markers",
         "name": "Plot5",
         "text": [
          "AaronCresswell LCB left",
          "AdrianMariappa L_CB right",
          "AhmedHegazi LCB right",
          "AhmedHegazi L_CB right",
          "AlfieMawson LCB right",
          "AlfieMawson L_CB right",
          "AngeloOgbonna LCB left",
          "AngeloOgbonna L_CB left",
          "AntonioRdiger LCB right",
          "AntonioRudiger LCB right",
          "AshleyWilliams L_CB right",
          "AymericLaporte LCB left",
          "AymericLaporte L_CB left",
          "BenMee L_CB left",
          "BrunoMartinsIndi LCB left",
          "BrunoMartinsIndi L_CB left",
          "CalumChambers L_CB right",
          "ChrisSmalling L_CB right",
          "ChristianKabasele LCB right",
          "ChristianKabasele L_CB right",
          "ChristopherSchindler L_CB right",
          "CiaranClark LCB left",
          "CiaranClark L_CB left",
          "DeclanRice LCB right",
          "DejanLovren L_CB right",
          "EliaquimMangala L_CB left",
          "ErikPieters LCB left",
          "FlorianLejeune L_CB right",
          "GaryCahill LCB right",
          "GeoffCameron LCB right",
          "HarryMaguire L_CB right",
          "JairoRiedewald LCB left",
          "JamesCollins LCB right",
          "JamesTarkowski L_CB right",
          "JamesTomkins L_CB right",
          "JanVertonghen LCB left",
          "JanVertonghen L_CB left",
          "JonnyEvans LCB right",
          "JonnyEvans L_CB right",
          "JoseHolebas LCB left",
          "KevinWimmer LCB left",
          "KevinWimmer L_CB left",
          "KurtZouma L_CB right",
          "LaurentKoscielny LCB right",
          "LaurentKoscielny L_CB right",
          "LewisDunk L_CB right",
          "MamadouSakho L_CB left",
          "MarcosRojo L_CB left",
          "MartinCranie L_CB right",
          "MayaYoshida L_CB right",
          "MichaelKeane LCB right",
          "MichaelKeane L_CB right",
          "MiguelBritos LCB left",
          "MiguelBritos L_CB left",
          "NachoMonreal LCB left",
          "NachoMonreal L_CB left",
          "NathanAk LCB left",
          "NathanAk L_CB left",
          "NathanAke LCB left",
          "NathanAke L_CB left",
          "NicolasOtamendi LCB right",
          "NicolasOtamendi L_CB right",
          "NicolsOtamendi LCB right",
          "NicolsOtamendi L_CB right",
          "PaulDummett LCB left",
          "PhilJagielka LCB right",
          "PhilJagielka L_CB right",
          "PhilJones LCB right",
          "PhilJones L_CB right",
          "RagnarKlavan L_CB left",
          "RobHolding LCB right",
          "RobHolding L_CB right",
          "ScottDann L_CB right",
          "SeadKolasinac LCB left",
          "ShkodranMustafi L_CB right",
          "TobyAlderweireld L_CB right",
          "TyroneMings LCB left",
          "VictorLindelf L_CB right",
          "VictorLindelof L_CB right",
          "VincentKompany L_CB right",
          "VirgilvanDijk L_CB right",
          "VirgilvanDijk L_CB right",
          "WesleyHoedt LCB left",
          "WesleyHoedt L_CB left",
          "WinstonReid L_CB right"
         ],
         "type": "scatter",
         "x": [
          19.57,
          17.24,
          8,
          16.67,
          17.33,
          9.55,
          13.79,
          11.48,
          14.56,
          20.41,
          11.59,
          12.5,
          19.46,
          23.33,
          15.38,
          17.65,
          7.14,
          5.56,
          29.41,
          28.99,
          13.98,
          7.69,
          26.26,
          25,
          10.42,
          13.16,
          26.32,
          14.55,
          22.88,
          25,
          9.89,
          30.77,
          14.29,
          7.27,
          11.11,
          20.94,
          19.13,
          23.26,
          17.39,
          18.18,
          12,
          12.9,
          30.23,
          4,
          15.38,
          8.94,
          31.33,
          26.23,
          8.33,
          20,
          0,
          18.1,
          20.93,
          14.81,
          27.88,
          11.76,
          25,
          11.27,
          20.69,
          5.88,
          21.62,
          15.62,
          15.38,
          15,
          8.33,
          7.41,
          19.05,
          27.78,
          8.97,
          17.32,
          0,
          9.76,
          18,
          32.43,
          12.2,
          0,
          41.18,
          24.32,
          15.38,
          10,
          10,
          6.59,
          15.49,
          15.45,
          15.15
         ],
         "y": [
          46.83902790850919,
          16.359931885682304,
          4.288873635232449,
          24.034853106261128,
          20.173093342843156,
          6.301272392346199,
          26.13872899834452,
          18.00617920692827,
          18.89882062538232,
          11.554697376428818,
          20.791778536648422,
          49.30077935568988,
          22.22576468476663,
          39.52553751324082,
          36.2127202634628,
          13.18914199467091,
          3.8357279429744393,
          2.144882455468178,
          28.367974788553138,
          32.015925448765785,
          7.054943839208254,
          6.465780763671948,
          54.409007254912694,
          18.192086135968566,
          14.769643094041385,
          14.462803711036319,
          6.993385889616452,
          45.811086480336435,
          13.499445482796315,
          80.65424161031842,
          50.7981309569888,
          23.264483763621403,
          10.946001968390885,
          14.134818264706567,
          9.53549713206788,
          28.276392856017925,
          19.517367442502923,
          58.53847189005031,
          14.231805149735749,
          27.071894569830462,
          10.314647434279323,
          8.471480630818874,
          28.845791537098066,
          8.448012173175812,
          12.143440544605255,
          15.871788174428834,
          46.86252556247525,
          27.691495669700327,
          3.012375091202557,
          11.276218108832836,
          0,
          22.377258931685773,
          90.48027687619418,
          24.30075779557228,
          27.552775542078688,
          5.699232604135485,
          48.30138315446675,
          20.72220453402211,
          10.975360276241753,
          39.8541498911001,
          17.7329481969512,
          11.373490999955852,
          27.42335361500199,
          17.023655207594857,
          7.909780057768026,
          9.497183685501417,
          41.56084243385564,
          24.51483988099628,
          8.10552205376584,
          16.99942542310263,
          0,
          21.151092085169584,
          20.697203744202852,
          23.90591015510664,
          2.192922345385319,
          0,
          16.6963561958469,
          21.121080813778413,
          6.640683859586716,
          7.022044621407986,
          13.18228235726969,
          4.25355006162855,
          17.321920579850254,
          17.8227548815564,
          6.8537402319524325
         ]
        }
       ],
       "layout": {
        "annotations": [
         {
          "showarrow": false,
          "text": "% Progressive passes",
          "x": 0.5,
          "xref": "paper",
          "y": -0.15,
          "yref": "paper"
         },
         {
          "showarrow": false,
          "text": "VAEP per progressive pass (scaled to 10000)",
          "textangle": -90,
          "x": -0.07,
          "xref": "paper",
          "y": 0.5,
          "yref": "paper"
         }
        ],
        "autosize": true,
        "margin": {
         "b": 100
        },
        "template": {
         "data": {
          "bar": [
           {
            "error_x": {
             "color": "#2a3f5f"
            },
            "error_y": {
             "color": "#2a3f5f"
            },
            "marker": {
             "line": {
              "color": "#E5ECF6",
              "width": 0.5
             }
            },
            "type": "bar"
           }
          ],
          "barpolar": [
           {
            "marker": {
             "line": {
              "color": "#E5ECF6",
              "width": 0.5
             }
            },
            "type": "barpolar"
           }
          ],
          "carpet": [
           {
            "aaxis": {
             "endlinecolor": "#2a3f5f",
             "gridcolor": "white",
             "linecolor": "white",
             "minorgridcolor": "white",
             "startlinecolor": "#2a3f5f"
            },
            "baxis": {
             "endlinecolor": "#2a3f5f",
             "gridcolor": "white",
             "linecolor": "white",
             "minorgridcolor": "white",
             "startlinecolor": "#2a3f5f"
            },
            "type": "carpet"
           }
          ],
          "choropleth": [
           {
            "colorbar": {
             "outlinewidth": 0,
             "ticks": ""
            },
            "type": "choropleth"
           }
          ],
          "contour": [
           {
            "colorbar": {
             "outlinewidth": 0,
             "ticks": ""
            },
            "colorscale": [
             [
              0,
              "#0d0887"
             ],
             [
              0.1111111111111111,
              "#46039f"
             ],
             [
              0.2222222222222222,
              "#7201a8"
             ],
             [
              0.3333333333333333,
              "#9c179e"
             ],
             [
              0.4444444444444444,
              "#bd3786"
             ],
             [
              0.5555555555555556,
              "#d8576b"
             ],
             [
              0.6666666666666666,
              "#ed7953"
             ],
             [
              0.7777777777777778,
              "#fb9f3a"
             ],
             [
              0.8888888888888888,
              "#fdca26"
             ],
             [
              1,
              "#f0f921"
             ]
            ],
            "type": "contour"
           }
          ],
          "contourcarpet": [
           {
            "colorbar": {
             "outlinewidth": 0,
             "ticks": ""
            },
            "type": "contourcarpet"
           }
          ],
          "heatmap": [
           {
            "colorbar": {
             "outlinewidth": 0,
             "ticks": ""
            },
            "colorscale": [
             [
              0,
              "#0d0887"
             ],
             [
              0.1111111111111111,
              "#46039f"
             ],
             [
              0.2222222222222222,
              "#7201a8"
             ],
             [
              0.3333333333333333,
              "#9c179e"
             ],
             [
              0.4444444444444444,
              "#bd3786"
             ],
             [
              0.5555555555555556,
              "#d8576b"
             ],
             [
              0.6666666666666666,
              "#ed7953"
             ],
             [
              0.7777777777777778,
              "#fb9f3a"
             ],
             [
              0.8888888888888888,
              "#fdca26"
             ],
             [
              1,
              "#f0f921"
             ]
            ],
            "type": "heatmap"
           }
          ],
          "heatmapgl": [
           {
            "colorbar": {
             "outlinewidth": 0,
             "ticks": ""
            },
            "colorscale": [
             [
              0,
              "#0d0887"
             ],
             [
              0.1111111111111111,
              "#46039f"
             ],
             [
              0.2222222222222222,
              "#7201a8"
             ],
             [
              0.3333333333333333,
              "#9c179e"
             ],
             [
              0.4444444444444444,
              "#bd3786"
             ],
             [
              0.5555555555555556,
              "#d8576b"
             ],
             [
              0.6666666666666666,
              "#ed7953"
             ],
             [
              0.7777777777777778,
              "#fb9f3a"
             ],
             [
              0.8888888888888888,
              "#fdca26"
             ],
             [
              1,
              "#f0f921"
             ]
            ],
            "type": "heatmapgl"
           }
          ],
          "histogram": [
           {
            "marker": {
             "colorbar": {
              "outlinewidth": 0,
              "ticks": ""
             }
            },
            "type": "histogram"
           }
          ],
          "histogram2d": [
           {
            "colorbar": {
             "outlinewidth": 0,
             "ticks": ""
            },
            "colorscale": [
             [
              0,
              "#0d0887"
             ],
             [
              0.1111111111111111,
              "#46039f"
             ],
             [
              0.2222222222222222,
              "#7201a8"
             ],
             [
              0.3333333333333333,
              "#9c179e"
             ],
             [
              0.4444444444444444,
              "#bd3786"
             ],
             [
              0.5555555555555556,
              "#d8576b"
             ],
             [
              0.6666666666666666,
              "#ed7953"
             ],
             [
              0.7777777777777778,
              "#fb9f3a"
             ],
             [
              0.8888888888888888,
              "#fdca26"
             ],
             [
              1,
              "#f0f921"
             ]
            ],
            "type": "histogram2d"
           }
          ],
          "histogram2dcontour": [
           {
            "colorbar": {
             "outlinewidth": 0,
             "ticks": ""
            },
            "colorscale": [
             [
              0,
              "#0d0887"
             ],
             [
              0.1111111111111111,
              "#46039f"
             ],
             [
              0.2222222222222222,
              "#7201a8"
             ],
             [
              0.3333333333333333,
              "#9c179e"
             ],
             [
              0.4444444444444444,
              "#bd3786"
             ],
             [
              0.5555555555555556,
              "#d8576b"
             ],
             [
              0.6666666666666666,
              "#ed7953"
             ],
             [
              0.7777777777777778,
              "#fb9f3a"
             ],
             [
              0.8888888888888888,
              "#fdca26"
             ],
             [
              1,
              "#f0f921"
             ]
            ],
            "type": "histogram2dcontour"
           }
          ],
          "mesh3d": [
           {
            "colorbar": {
             "outlinewidth": 0,
             "ticks": ""
            },
            "type": "mesh3d"
           }
          ],
          "parcoords": [
           {
            "line": {
             "colorbar": {
              "outlinewidth": 0,
              "ticks": ""
             }
            },
            "type": "parcoords"
           }
          ],
          "pie": [
           {
            "automargin": true,
            "type": "pie"
           }
          ],
          "scatter": [
           {
            "marker": {
             "colorbar": {
              "outlinewidth": 0,
              "ticks": ""
             }
            },
            "type": "scatter"
           }
          ],
          "scatter3d": [
           {
            "line": {
             "colorbar": {
              "outlinewidth": 0,
              "ticks": ""
             }
            },
            "marker": {
             "colorbar": {
              "outlinewidth": 0,
              "ticks": ""
             }
            },
            "type": "scatter3d"
           }
          ],
          "scattercarpet": [
           {
            "marker": {
             "colorbar": {
              "outlinewidth": 0,
              "ticks": ""
             }
            },
            "type": "scattercarpet"
           }
          ],
          "scattergeo": [
           {
            "marker": {
             "colorbar": {
              "outlinewidth": 0,
              "ticks": ""
             }
            },
            "type": "scattergeo"
           }
          ],
          "scattergl": [
           {
            "marker": {
             "colorbar": {
              "outlinewidth": 0,
              "ticks": ""
             }
            },
            "type": "scattergl"
           }
          ],
          "scattermapbox": [
           {
            "marker": {
             "colorbar": {
              "outlinewidth": 0,
              "ticks": ""
             }
            },
            "type": "scattermapbox"
           }
          ],
          "scatterpolar": [
           {
            "marker": {
             "colorbar": {
              "outlinewidth": 0,
              "ticks": ""
             }
            },
            "type": "scatterpolar"
           }
          ],
          "scatterpolargl": [
           {
            "marker": {
             "colorbar": {
              "outlinewidth": 0,
              "ticks": ""
             }
            },
            "type": "scatterpolargl"
           }
          ],
          "scatterternary": [
           {
            "marker": {
             "colorbar": {
              "outlinewidth": 0,
              "ticks": ""
             }
            },
            "type": "scatterternary"
           }
          ],
          "surface": [
           {
            "colorbar": {
             "outlinewidth": 0,
             "ticks": ""
            },
            "colorscale": [
             [
              0,
              "#0d0887"
             ],
             [
              0.1111111111111111,
              "#46039f"
             ],
             [
              0.2222222222222222,
              "#7201a8"
             ],
             [
              0.3333333333333333,
              "#9c179e"
             ],
             [
              0.4444444444444444,
              "#bd3786"
             ],
             [
              0.5555555555555556,
              "#d8576b"
             ],
             [
              0.6666666666666666,
              "#ed7953"
             ],
             [
              0.7777777777777778,
              "#fb9f3a"
             ],
             [
              0.8888888888888888,
              "#fdca26"
             ],
             [
              1,
              "#f0f921"
             ]
            ],
            "type": "surface"
           }
          ],
          "table": [
           {
            "cells": {
             "fill": {
              "color": "#EBF0F8"
             },
             "line": {
              "color": "white"
             }
            },
            "header": {
             "fill": {
              "color": "#C8D4E3"
             },
             "line": {
              "color": "white"
             }
            },
            "type": "table"
           }
          ]
         },
         "layout": {
          "annotationdefaults": {
           "arrowcolor": "#2a3f5f",
           "arrowhead": 0,
           "arrowwidth": 1
          },
          "coloraxis": {
           "colorbar": {
            "outlinewidth": 0,
            "ticks": ""
           }
          },
          "colorscale": {
           "diverging": [
            [
             0,
             "#8e0152"
            ],
            [
             0.1,
             "#c51b7d"
            ],
            [
             0.2,
             "#de77ae"
            ],
            [
             0.3,
             "#f1b6da"
            ],
            [
             0.4,
             "#fde0ef"
            ],
            [
             0.5,
             "#f7f7f7"
            ],
            [
             0.6,
             "#e6f5d0"
            ],
            [
             0.7,
             "#b8e186"
            ],
            [
             0.8,
             "#7fbc41"
            ],
            [
             0.9,
             "#4d9221"
            ],
            [
             1,
             "#276419"
            ]
           ],
           "sequential": [
            [
             0,
             "#0d0887"
            ],
            [
             0.1111111111111111,
             "#46039f"
            ],
            [
             0.2222222222222222,
             "#7201a8"
            ],
            [
             0.3333333333333333,
             "#9c179e"
            ],
            [
             0.4444444444444444,
             "#bd3786"
            ],
            [
             0.5555555555555556,
             "#d8576b"
            ],
            [
             0.6666666666666666,
             "#ed7953"
            ],
            [
             0.7777777777777778,
             "#fb9f3a"
            ],
            [
             0.8888888888888888,
             "#fdca26"
            ],
            [
             1,
             "#f0f921"
            ]
           ],
           "sequentialminus": [
            [
             0,
             "#0d0887"
            ],
            [
             0.1111111111111111,
             "#46039f"
            ],
            [
             0.2222222222222222,
             "#7201a8"
            ],
            [
             0.3333333333333333,
             "#9c179e"
            ],
            [
             0.4444444444444444,
             "#bd3786"
            ],
            [
             0.5555555555555556,
             "#d8576b"
            ],
            [
             0.6666666666666666,
             "#ed7953"
            ],
            [
             0.7777777777777778,
             "#fb9f3a"
            ],
            [
             0.8888888888888888,
             "#fdca26"
            ],
            [
             1,
             "#f0f921"
            ]
           ]
          },
          "colorway": [
           "#636efa",
           "#EF553B",
           "#00cc96",
           "#ab63fa",
           "#FFA15A",
           "#19d3f3",
           "#FF6692",
           "#B6E880",
           "#FF97FF",
           "#FECB52"
          ],
          "font": {
           "color": "#2a3f5f"
          },
          "geo": {
           "bgcolor": "white",
           "lakecolor": "white",
           "landcolor": "#E5ECF6",
           "showlakes": true,
           "showland": true,
           "subunitcolor": "white"
          },
          "hoverlabel": {
           "align": "left"
          },
          "hovermode": "closest",
          "mapbox": {
           "style": "light"
          },
          "paper_bgcolor": "white",
          "plot_bgcolor": "#E5ECF6",
          "polar": {
           "angularaxis": {
            "gridcolor": "white",
            "linecolor": "white",
            "ticks": ""
           },
           "bgcolor": "#E5ECF6",
           "radialaxis": {
            "gridcolor": "white",
            "linecolor": "white",
            "ticks": ""
           }
          },
          "scene": {
           "xaxis": {
            "backgroundcolor": "#E5ECF6",
            "gridcolor": "white",
            "gridwidth": 2,
            "linecolor": "white",
            "showbackground": true,
            "ticks": "",
            "zerolinecolor": "white"
           },
           "yaxis": {
            "backgroundcolor": "#E5ECF6",
            "gridcolor": "white",
            "gridwidth": 2,
            "linecolor": "white",
            "showbackground": true,
            "ticks": "",
            "zerolinecolor": "white"
           },
           "zaxis": {
            "backgroundcolor": "#E5ECF6",
            "gridcolor": "white",
            "gridwidth": 2,
            "linecolor": "white",
            "showbackground": true,
            "ticks": "",
            "zerolinecolor": "white"
           }
          },
          "shapedefaults": {
           "line": {
            "color": "#2a3f5f"
           }
          },
          "ternary": {
           "aaxis": {
            "gridcolor": "white",
            "linecolor": "white",
            "ticks": ""
           },
           "baxis": {
            "gridcolor": "white",
            "linecolor": "white",
            "ticks": ""
           },
           "bgcolor": "#E5ECF6",
           "caxis": {
            "gridcolor": "white",
            "linecolor": "white",
            "ticks": ""
           }
          },
          "title": {
           "x": 0.05
          },
          "xaxis": {
           "automargin": true,
           "gridcolor": "white",
           "linecolor": "white",
           "ticks": "",
           "title": {
            "standoff": 15
           },
           "zerolinecolor": "white",
           "zerolinewidth": 2
          },
          "yaxis": {
           "automargin": true,
           "gridcolor": "white",
           "linecolor": "white",
           "ticks": "",
           "title": {
            "standoff": 15
           },
           "zerolinecolor": "white",
           "zerolinewidth": 2
          }
         }
        },
        "title": {
         "text": "leftcentral_attack"
        },
        "xaxis": {
         "autorange": true,
         "range": [
          -2.5448314606741573,
          43.72483146067416
         ],
         "type": "linear"
        },
        "yaxis": {
         "autorange": true,
         "range": [
          -6.760020686152439,
          97.24029756234663
         ],
         "type": "linear"
        }
       }
      },
      "image/png": "[encoded data removed]",
      "text/html": [
       "<div>\n",
       "        \n",
       "        \n",
       "            <div id=\"c2454acb-bce8-40fe-896b-8121e9fd2719\" class=\"plotly-graph-div\" style=\"height:525px; width:100%;\"></div>\n",
       "            <script type=\"text/javascript\">\n",
       "                require([\"plotly\"], function(Plotly) {\n",
       "                    window.PLOTLYENV=window.PLOTLYENV || {};\n",
       "                    \n",
       "                if (document.getElementById(\"c2454acb-bce8-40fe-896b-8121e9fd2719\")) {\n",
       "                    Plotly.newPlot(\n",
       "                        'c2454acb-bce8-40fe-896b-8121e9fd2719',\n",
       "                        [{\"mode\": \"markers\", \"name\": \"Plot5\", \"text\": [\"AaronCresswell LCB left\", \"AdrianMariappa L_CB right\", \"AhmedHegazi LCB right\", \"AhmedHegazi L_CB right\", \"AlfieMawson LCB right\", \"AlfieMawson L_CB right\", \"AngeloOgbonna LCB left\", \"AngeloOgbonna L_CB left\", \"AntonioRdiger LCB right\", \"AntonioRudiger LCB right\", \"AshleyWilliams L_CB right\", \"AymericLaporte LCB left\", \"AymericLaporte L_CB left\", \"BenMee L_CB left\", \"BrunoMartinsIndi LCB left\", \"BrunoMartinsIndi L_CB left\", \"CalumChambers L_CB right\", \"ChrisSmalling L_CB right\", \"ChristianKabasele LCB right\", \"ChristianKabasele L_CB right\", \"ChristopherSchindler L_CB right\", \"CiaranClark LCB left\", \"CiaranClark L_CB left\", \"DeclanRice LCB right\", \"DejanLovren L_CB right\", \"EliaquimMangala L_CB left\", \"ErikPieters LCB left\", \"FlorianLejeune L_CB right\", \"GaryCahill LCB right\", \"GeoffCameron LCB right\", \"HarryMaguire L_CB right\", \"JairoRiedewald LCB left\", \"JamesCollins LCB right\", \"JamesTarkowski L_CB right\", \"JamesTomkins L_CB right\", \"JanVertonghen LCB left\", \"JanVertonghen L_CB left\", \"JonnyEvans LCB right\", \"JonnyEvans L_CB right\", \"JoseHolebas LCB left\", \"KevinWimmer LCB left\", \"KevinWimmer L_CB left\", \"KurtZouma L_CB right\", \"LaurentKoscielny LCB right\", \"LaurentKoscielny L_CB right\", \"LewisDunk L_CB right\", \"MamadouSakho L_CB left\", \"MarcosRojo L_CB left\", \"MartinCranie L_CB right\", \"MayaYoshida L_CB right\", \"MichaelKeane LCB right\", \"MichaelKeane L_CB right\", \"MiguelBritos LCB left\", \"MiguelBritos L_CB left\", \"NachoMonreal LCB left\", \"NachoMonreal L_CB left\", \"NathanAk LCB left\", \"NathanAk L_CB left\", \"NathanAke LCB left\", \"NathanAke L_CB left\", \"NicolasOtamendi LCB right\", \"NicolasOtamendi L_CB right\", \"NicolsOtamendi LCB right\", \"NicolsOtamendi L_CB right\", \"PaulDummett LCB left\", \"PhilJagielka LCB right\", \"PhilJagielka L_CB right\", \"PhilJones LCB right\", \"PhilJones L_CB right\", \"RagnarKlavan L_CB left\", \"RobHolding LCB right\", \"RobHolding L_CB right\", \"ScottDann L_CB right\", \"SeadKolasinac LCB left\", \"ShkodranMustafi L_CB right\", \"TobyAlderweireld L_CB right\", \"TyroneMings LCB left\", \"VictorLindelf L_CB right\", \"VictorLindelof L_CB right\", \"VincentKompany L_CB right\", \"VirgilvanDijk L_CB right\", \"VirgilvanDijk L_CB right\", \"WesleyHoedt LCB left\", \"WesleyHoedt L_CB left\", \"WinstonReid L_CB right\"], \"type\": \"scatter\", \"x\": [19.57, 17.24, 8.0, 16.67, 17.33, 9.55, 13.79, 11.48, 14.56, 20.41, 11.59, 12.5, 19.46, 23.33, 15.38, 17.65, 7.14, 5.56, 29.41, 28.99, 13.98, 7.69, 26.26, 25.0, 10.42, 13.16, 26.32, 14.55, 22.88, 25.0, 9.89, 30.77, 14.29, 7.27, 11.11, 20.94, 19.13, 23.26, 17.39, 18.18, 12.0, 12.9, 30.23, 4.0, 15.38, 8.94, 31.33, 26.23, 8.33, 20.0, 0.0, 18.1, 20.93, 14.81, 27.88, 11.76, 25.0, 11.27, 20.69, 5.88, 21.62, 15.62, 15.38, 15.0, 8.33, 7.41, 19.05, 27.78, 8.97, 17.32, 0.0, 9.76, 18.0, 32.43, 12.2, 0.0, 41.18, 24.32, 15.38, 10.0, 10.0, 6.59, 15.49, 15.45, 15.15], \"y\": [46.83902790850919, 16.359931885682304, 4.288873635232449, 24.034853106261128, 20.173093342843156, 6.301272392346199, 26.13872899834452, 18.00617920692827, 18.89882062538232, 11.554697376428818, 20.791778536648422, 49.30077935568988, 22.22576468476663, 39.52553751324082, 36.2127202634628, 13.18914199467091, 3.8357279429744393, 2.144882455468178, 28.367974788553138, 32.015925448765785, 7.054943839208254, 6.465780763671948, 54.409007254912694, 18.192086135968566, 14.769643094041385, 14.462803711036319, 6.993385889616452, 45.811086480336435, 13.499445482796315, 80.65424161031842, 50.7981309569888, 23.264483763621403, 10.946001968390885, 14.134818264706567, 9.53549713206788, 28.276392856017925, 19.517367442502923, 58.53847189005031, 14.231805149735749, 27.071894569830462, 10.314647434279323, 8.471480630818874, 28.845791537098066, 8.448012173175812, 12.143440544605255, 15.871788174428834, 46.86252556247525, 27.691495669700327, 3.012375091202557, 11.276218108832836, 0.0, 22.377258931685773, 90.48027687619418, 24.30075779557228, 27.552775542078688, 5.699232604135485, 48.30138315446675, 20.72220453402211, 10.975360276241753, 39.8541498911001, 17.7329481969512, 11.373490999955852, 27.42335361500199, 17.023655207594857, 7.909780057768026, 9.497183685501417, 41.56084243385564, 24.51483988099628, 8.10552205376584, 16.99942542310263, 0.0, 21.151092085169584, 20.697203744202852, 23.90591015510664, 2.192922345385319, 0.0, 16.6963561958469, 21.121080813778413, 6.640683859586716, 7.022044621407986, 13.18228235726969, 4.25355006162855, 17.321920579850254, 17.8227548815564, 6.8537402319524325]}],\n",
       "                        {\"annotations\": [{\"showarrow\": false, \"text\": \"% Progressive passes\", \"x\": 0.5, \"xref\": \"paper\", \"y\": -0.15, \"yref\": \"paper\"}, {\"showarrow\": false, \"text\": \"VAEP per progressive pass (scaled to 10000)\", \"textangle\": -90, \"x\": -0.07, \"xref\": \"paper\", \"y\": 0.5, \"yref\": \"paper\"}], \"autosize\": true, \"margin\": {\"b\": 100}, \"template\": {\"data\": {\"bar\": [{\"error_x\": {\"color\": \"#2a3f5f\"}, \"error_y\": {\"color\": \"#2a3f5f\"}, \"marker\": {\"line\": {\"color\": \"#E5ECF6\", \"width\": 0.5}}, \"type\": \"bar\"}], \"barpolar\": [{\"marker\": {\"line\": {\"color\": \"#E5ECF6\", \"width\": 0.5}}, \"type\": \"barpolar\"}], \"carpet\": [{\"aaxis\": {\"endlinecolor\": \"#2a3f5f\", \"gridcolor\": \"white\", \"linecolor\": \"white\", \"minorgridcolor\": \"white\", \"startlinecolor\": \"#2a3f5f\"}, \"baxis\": {\"endlinecolor\": \"#2a3f5f\", \"gridcolor\": \"white\", \"linecolor\": \"white\", \"minorgridcolor\": \"white\", \"startlinecolor\": \"#2a3f5f\"}, \"type\": \"carpet\"}], \"choropleth\": [{\"colorbar\": {\"outlinewidth\": 0, \"ticks\": \"\"}, \"type\": \"choropleth\"}], \"contour\": [{\"colorbar\": {\"outlinewidth\": 0, \"ticks\": \"\"}, \"colorscale\": [[0.0, \"#0d0887\"], [0.1111111111111111, \"#46039f\"], [0.2222222222222222, \"#7201a8\"], [0.3333333333333333, \"#9c179e\"], [0.4444444444444444, \"#bd3786\"], [0.5555555555555556, \"#d8576b\"], [0.6666666666666666, \"#ed7953\"], [0.7777777777777778, \"#fb9f3a\"], [0.8888888888888888, \"#fdca26\"], [1.0, \"#f0f921\"]], \"type\": \"contour\"}], \"contourcarpet\": [{\"colorbar\": {\"outlinewidth\": 0, \"ticks\": \"\"}, \"type\": \"contourcarpet\"}], \"heatmap\": [{\"colorbar\": {\"outlinewidth\": 0, \"ticks\": \"\"}, \"colorscale\": [[0.0, \"#0d0887\"], [0.1111111111111111, \"#46039f\"], [0.2222222222222222, \"#7201a8\"], [0.3333333333333333, \"#9c179e\"], [0.4444444444444444, \"#bd3786\"], [0.5555555555555556, \"#d8576b\"], [0.6666666666666666, \"#ed7953\"], [0.7777777777777778, \"#fb9f3a\"], [0.8888888888888888, \"#fdca26\"], [1.0, \"#f0f921\"]], \"type\": \"heatmap\"}], \"heatmapgl\": [{\"colorbar\": {\"outlinewidth\": 0, \"ticks\": \"\"}, \"colorscale\": [[0.0, \"#0d0887\"], [0.1111111111111111, \"#46039f\"], [0.2222222222222222, \"#7201a8\"], [0.3333333333333333, \"#9c179e\"], [0.4444444444444444, \"#bd3786\"], [0.5555555555555556, \"#d8576b\"], [0.6666666666666666, \"#ed7953\"], [0.7777777777777778, \"#fb9f3a\"], [0.8888888888888888, \"#fdca26\"], [1.0, \"#f0f921\"]], \"type\": \"heatmapgl\"}], \"histogram\": [{\"marker\": {\"colorbar\": {\"outlinewidth\": 0, \"ticks\": \"\"}}, \"type\": \"histogram\"}], \"histogram2d\": [{\"colorbar\": {\"outlinewidth\": 0, \"ticks\": \"\"}, \"colorscale\": [[0.0, \"#0d0887\"], [0.1111111111111111, \"#46039f\"], [0.2222222222222222, \"#7201a8\"], [0.3333333333333333, \"#9c179e\"], [0.4444444444444444, \"#bd3786\"], [0.5555555555555556, \"#d8576b\"], [0.6666666666666666, \"#ed7953\"], [0.7777777777777778, \"#fb9f3a\"], [0.8888888888888888, \"#fdca26\"], [1.0, \"#f0f921\"]], \"type\": \"histogram2d\"}], \"histogram2dcontour\": [{\"colorbar\": {\"outlinewidth\": 0, \"ticks\": \"\"}, \"colorscale\": [[0.0, \"#0d0887\"], [0.1111111111111111, \"#46039f\"], [0.2222222222222222, \"#7201a8\"], [0.3333333333333333, \"#9c179e\"], [0.4444444444444444, \"#bd3786\"], [0.5555555555555556, \"#d8576b\"], [0.6666666666666666, \"#ed7953\"], [0.7777777777777778, \"#fb9f3a\"], [0.8888888888888888, \"#fdca26\"], [1.0, \"#f0f921\"]], \"type\": \"histogram2dcontour\"}], \"mesh3d\": [{\"colorbar\": {\"outlinewidth\": 0, \"ticks\": \"\"}, \"type\": \"mesh3d\"}], \"parcoords\": [{\"line\": {\"colorbar\": {\"outlinewidth\": 0, \"ticks\": \"\"}}, \"type\": \"parcoords\"}], \"pie\": [{\"automargin\": true, \"type\": \"pie\"}], \"scatter\": [{\"marker\": {\"colorbar\": {\"outlinewidth\": 0, \"ticks\": \"\"}}, \"type\": \"scatter\"}], \"scatter3d\": [{\"line\": {\"colorbar\": {\"outlinewidth\": 0, \"ticks\": \"\"}}, \"marker\": {\"colorbar\": {\"outlinewidth\": 0, \"ticks\": \"\"}}, \"type\": \"scatter3d\"}], \"scattercarpet\": [{\"marker\": {\"colorbar\": {\"outlinewidth\": 0, \"ticks\": \"\"}}, \"type\": \"scattercarpet\"}], \"scattergeo\": [{\"marker\": {\"colorbar\": {\"outlinewidth\": 0, \"ticks\": \"\"}}, \"type\": \"scattergeo\"}], \"scattergl\": [{\"marker\": {\"colorbar\": {\"outlinewidth\": 0, \"ticks\": \"\"}}, \"type\": \"scattergl\"}], \"scattermapbox\": [{\"marker\": {\"colorbar\": {\"outlinewidth\": 0, \"ticks\": \"\"}}, \"type\": \"scattermapbox\"}], \"scatterpolar\": [{\"marker\": {\"colorbar\": {\"outlinewidth\": 0, \"ticks\": \"\"}}, \"type\": \"scatterpolar\"}], \"scatterpolargl\": [{\"marker\": {\"colorbar\": {\"outlinewidth\": 0, \"ticks\": \"\"}}, \"type\": \"scatterpolargl\"}], \"scatterternary\": [{\"marker\": {\"colorbar\": {\"outlinewidth\": 0, \"ticks\": \"\"}}, \"type\": \"scatterternary\"}], \"surface\": [{\"colorbar\": {\"outlinewidth\": 0, \"ticks\": \"\"}, \"colorscale\": [[0.0, \"#0d0887\"], [0.1111111111111111, \"#46039f\"], [0.2222222222222222, \"#7201a8\"], [0.3333333333333333, \"#9c179e\"], [0.4444444444444444, \"#bd3786\"], [0.5555555555555556, \"#d8576b\"], [0.6666666666666666, \"#ed7953\"], [0.7777777777777778, \"#fb9f3a\"], [0.8888888888888888, \"#fdca26\"], [1.0, \"#f0f921\"]], \"type\": \"surface\"}], \"table\": [{\"cells\": {\"fill\": {\"color\": \"#EBF0F8\"}, \"line\": {\"color\": \"white\"}}, \"header\": {\"fill\": {\"color\": \"#C8D4E3\"}, \"line\": {\"color\": \"white\"}}, \"type\": \"table\"}]}, \"layout\": {\"annotationdefaults\": {\"arrowcolor\": \"#2a3f5f\", \"arrowhead\": 0, \"arrowwidth\": 1}, \"coloraxis\": {\"colorbar\": {\"outlinewidth\": 0, \"ticks\": \"\"}}, \"colorscale\": {\"diverging\": [[0, \"#8e0152\"], [0.1, \"#c51b7d\"], [0.2, \"#de77ae\"], [0.3, \"#f1b6da\"], [0.4, \"#fde0ef\"], [0.5, \"#f7f7f7\"], [0.6, \"#e6f5d0\"], [0.7, \"#b8e186\"], [0.8, \"#7fbc41\"], [0.9, \"#4d9221\"], [1, \"#276419\"]], \"sequential\": [[0.0, \"#0d0887\"], [0.1111111111111111, \"#46039f\"], [0.2222222222222222, \"#7201a8\"], [0.3333333333333333, \"#9c179e\"], [0.4444444444444444, \"#bd3786\"], [0.5555555555555556, \"#d8576b\"], [0.6666666666666666, \"#ed7953\"], [0.7777777777777778, \"#fb9f3a\"], [0.8888888888888888, \"#fdca26\"], [1.0, \"#f0f921\"]], \"sequentialminus\": [[0.0, \"#0d0887\"], [0.1111111111111111, \"#46039f\"], [0.2222222222222222, \"#7201a8\"], [0.3333333333333333, \"#9c179e\"], [0.4444444444444444, \"#bd3786\"], [0.5555555555555556, \"#d8576b\"], [0.6666666666666666, \"#ed7953\"], [0.7777777777777778, \"#fb9f3a\"], [0.8888888888888888, \"#fdca26\"], [1.0, \"#f0f921\"]]}, \"colorway\": [\"#636efa\", \"#EF553B\", \"#00cc96\", \"#ab63fa\", \"#FFA15A\", \"#19d3f3\", \"#FF6692\", \"#B6E880\", \"#FF97FF\", \"#FECB52\"], \"font\": {\"color\": \"#2a3f5f\"}, \"geo\": {\"bgcolor\": \"white\", \"lakecolor\": \"white\", \"landcolor\": \"#E5ECF6\", \"showlakes\": true, \"showland\": true, \"subunitcolor\": \"white\"}, \"hoverlabel\": {\"align\": \"left\"}, \"hovermode\": \"closest\", \"mapbox\": {\"style\": \"light\"}, \"paper_bgcolor\": \"white\", \"plot_bgcolor\": \"#E5ECF6\", \"polar\": {\"angularaxis\": {\"gridcolor\": \"white\", \"linecolor\": \"white\", \"ticks\": \"\"}, \"bgcolor\": \"#E5ECF6\", \"radialaxis\": {\"gridcolor\": \"white\", \"linecolor\": \"white\", \"ticks\": \"\"}}, \"scene\": {\"xaxis\": {\"backgroundcolor\": \"#E5ECF6\", \"gridcolor\": \"white\", \"gridwidth\": 2, \"linecolor\": \"white\", \"showbackground\": true, \"ticks\": \"\", \"zerolinecolor\": \"white\"}, \"yaxis\": {\"backgroundcolor\": \"#E5ECF6\", \"gridcolor\": \"white\", \"gridwidth\": 2, \"linecolor\": \"white\", \"showbackground\": true, \"ticks\": \"\", \"zerolinecolor\": \"white\"}, \"zaxis\": {\"backgroundcolor\": \"#E5ECF6\", \"gridcolor\": \"white\", \"gridwidth\": 2, \"linecolor\": \"white\", \"showbackground\": true, \"ticks\": \"\", \"zerolinecolor\": \"white\"}}, \"shapedefaults\": {\"line\": {\"color\": \"#2a3f5f\"}}, \"ternary\": {\"aaxis\": {\"gridcolor\": \"white\", \"linecolor\": \"white\", \"ticks\": \"\"}, \"baxis\": {\"gridcolor\": \"white\", \"linecolor\": \"white\", \"ticks\": \"\"}, \"bgcolor\": \"#E5ECF6\", \"caxis\": {\"gridcolor\": \"white\", \"linecolor\": \"white\", \"ticks\": \"\"}}, \"title\": {\"x\": 0.05}, \"xaxis\": {\"automargin\": true, \"gridcolor\": \"white\", \"linecolor\": \"white\", \"ticks\": \"\", \"title\": {\"standoff\": 15}, \"zerolinecolor\": \"white\", \"zerolinewidth\": 2}, \"yaxis\": {\"automargin\": true, \"gridcolor\": \"white\", \"linecolor\": \"white\", \"ticks\": \"\", \"title\": {\"standoff\": 15}, \"zerolinecolor\": \"white\", \"zerolinewidth\": 2}}}, \"title\": {\"text\": \"leftcentral_attack\"}},\n",
       "                        {\"responsive\": true}\n",
       "                    ).then(function(){\n",
       "                            \n",
       "var gd = document.getElementById('c2454acb-bce8-40fe-896b-8121e9fd2719');\n",
       "var x = new MutationObserver(function (mutations, observer) {{\n",
       "        var display = window.getComputedStyle(gd).display;\n",
       "        if (!display || display === 'none') {{\n",
       "            console.log([gd, 'removed!']);\n",
       "            Plotly.purge(gd);\n",
       "            observer.disconnect();\n",
       "        }}\n",
       "}});\n",
       "\n",
       "// Listen for the removal of the full notebook cells\n",
       "var notebookContainer = gd.closest('#notebook-container');\n",
       "if (notebookContainer) {{\n",
       "    x.observe(notebookContainer, {childList: true});\n",
       "}}\n",
       "\n",
       "// Listen for the clearing of the current output cell\n",
       "var outputEl = gd.closest('.output');\n",
       "if (outputEl) {{\n",
       "    x.observe(outputEl, {childList: true});\n",
       "}}\n",
       "\n",
       "                        })\n",
       "                };\n",
       "                });\n",
       "            </script>\n",
       "        </div>"
      ]
     },
     "metadata": {},
     "output_type": "display_data"
    },
    {
     "data": {
      "application/vnd.plotly.v1+json": {
       "config": {
        "plotlyServerURL": "https://plot.ly"
       },
       "data": [
        {
         "mode": "markers",
         "name": "Plot6",
         "text": [
          "AaronCresswell LCB left",
          "AdrianMariappa L_CB right",
          "AhmedHegazi LCB right",
          "AhmedHegazi L_CB right",
          "AlfieMawson LCB right",
          "AlfieMawson L_CB right",
          "AngeloOgbonna LCB left",
          "AngeloOgbonna L_CB left",
          "AntonioRdiger LCB right",
          "AntonioRudiger LCB right",
          "AshleyWilliams L_CB right",
          "AymericLaporte LCB left",
          "AymericLaporte L_CB left",
          "BenMee L_CB left",
          "BrunoMartinsIndi LCB left",
          "BrunoMartinsIndi L_CB left",
          "CalumChambers L_CB right",
          "ChrisSmalling L_CB right",
          "ChristianKabasele LCB right",
          "ChristianKabasele L_CB right",
          "ChristopherSchindler L_CB right",
          "CiaranClark LCB left",
          "CiaranClark L_CB left",
          "DeclanRice LCB right",
          "DejanLovren L_CB right",
          "EliaquimMangala L_CB left",
          "ErikPieters LCB left",
          "FlorianLejeune L_CB right",
          "GaryCahill LCB right",
          "GeoffCameron LCB right",
          "HarryMaguire L_CB right",
          "JairoRiedewald LCB left",
          "JamesCollins LCB right",
          "JamesTarkowski L_CB right",
          "JamesTomkins L_CB right",
          "JanVertonghen LCB left",
          "JanVertonghen L_CB left",
          "JonnyEvans LCB right",
          "JonnyEvans L_CB right",
          "JoseHolebas LCB left",
          "KevinWimmer LCB left",
          "KevinWimmer L_CB left",
          "KurtZouma L_CB right",
          "LaurentKoscielny LCB right",
          "LaurentKoscielny L_CB right",
          "LewisDunk L_CB right",
          "MamadouSakho L_CB left",
          "MarcosRojo L_CB left",
          "MartinCranie L_CB right",
          "MayaYoshida L_CB right",
          "MichaelKeane LCB right",
          "MichaelKeane L_CB right",
          "MiguelBritos LCB left",
          "MiguelBritos L_CB left",
          "NachoMonreal LCB left",
          "NachoMonreal L_CB left",
          "NathanAk LCB left",
          "NathanAk L_CB left",
          "NathanAke LCB left",
          "NathanAke L_CB left",
          "NicolasOtamendi LCB right",
          "NicolasOtamendi L_CB right",
          "NicolsOtamendi LCB right",
          "NicolsOtamendi L_CB right",
          "PaulDummett LCB left",
          "PhilJagielka LCB right",
          "PhilJagielka L_CB right",
          "PhilJones LCB right",
          "PhilJones L_CB right",
          "RagnarKlavan L_CB left",
          "RobHolding LCB right",
          "RobHolding L_CB right",
          "ScottDann L_CB right",
          "SeadKolasinac LCB left",
          "ShkodranMustafi L_CB right",
          "TobyAlderweireld L_CB right",
          "TyroneMings LCB left",
          "VictorLindelf L_CB right",
          "VictorLindelof L_CB right",
          "VincentKompany L_CB right",
          "VirgilvanDijk L_CB right",
          "VirgilvanDijk L_CB right",
          "WesleyHoedt LCB left",
          "WesleyHoedt L_CB left",
          "WinstonReid L_CB right"
         ],
         "type": "scatter",
         "x": [
          8.15,
          17.24,
          12,
          19.44,
          12,
          8.99,
          3.45,
          14.75,
          17.09,
          12.24,
          14.49,
          12.5,
          9.4,
          17.14,
          11.54,
          11.76,
          17.86,
          16.67,
          8.82,
          5.8,
          11.83,
          15.38,
          17.17,
          8.33,
          15.62,
          7.89,
          10.53,
          10.91,
          6.54,
          12.5,
          9.32,
          15.38,
          23.81,
          7.27,
          11.11,
          10.99,
          17.1,
          18.6,
          11.59,
          9.09,
          6,
          19.35,
          11.63,
          12,
          13.46,
          9.35,
          10.84,
          19.67,
          0,
          12,
          0,
          10.48,
          4.65,
          12.96,
          4.87,
          5.88,
          10,
          9.86,
          3.45,
          5.88,
          13.51,
          22.77,
          15.38,
          16.54,
          25,
          11.11,
          14.29,
          0,
          11.03,
          10.06,
          17.39,
          9.76,
          14,
          2.7,
          39.02,
          9.09,
          11.76,
          10.81,
          15.38,
          20,
          11.67,
          12.09,
          8.45,
          6.82,
          9.09
         ],
         "y": [
          17.454096093348674,
          32.69005526692189,
          8.005251176655293,
          15.461624247513504,
          14.114190203448137,
          6.99591658109527,
          7.986403230963083,
          21.387466294385614,
          10.883925855454482,
          5.230405011537427,
          23.705209672882937,
          84.2939899303019,
          10.386901812302886,
          24.556931662594987,
          25.72927803087693,
          21.298249416491565,
          11.587925421606219,
          2.6736825950340264,
          13.702659977271276,
          4.078306939344907,
          28.274854963084543,
          29.772762209177017,
          32.62616566975009,
          11.201607994735241,
          11.167514676344581,
          2.095988081572087,
          10.542469221706455,
          26.531996487668064,
          5.8408565530127365,
          0.5908706225454807,
          15.798337717466898,
          5.024061180078066,
          68.45960077563566,
          12.37057979133996,
          22.53004431690055,
          11.584386887779722,
          14.698009519581346,
          25.986585289586422,
          29.102976676886495,
          20.189038054509595,
          10.767037235200405,
          24.525976980165126,
          10.690193753256354,
          2.5444856379181147,
          5.368347449872929,
          12.442372044608966,
          3.2346953598625334,
          9.486701427271864,
          0,
          8.321363106369972,
          0,
          7.285068354879816,
          3.6826077307206257,
          6.089997176011956,
          5.415556426943008,
          1.0499229093137032,
          11.398193892091513,
          12.588802852969565,
          0.5421106671464854,
          13.44202944607127,
          9.91952750278083,
          10.34238417819974,
          8.693943874767193,
          17.574322074114416,
          18.54117998542885,
          20.280912932422428,
          17.94318202883005,
          0,
          4.216795747072019,
          29.355238735488506,
          -13.708382612094283,
          3.0654977734495956,
          27.757910173386335,
          -2.2299197577946894,
          13.509053685815958,
          2.9722357761453497,
          3.1750006875132812,
          12.45429361792835,
          7.878363920518985,
          4.970189183950424,
          16.867081217545394,
          1.1333654082001565,
          10.627424672350918,
          9.714581606782634,
          8.032779124650089
         ]
        }
       ],
       "layout": {
        "annotations": [
         {
          "showarrow": false,
          "text": "% Progressive passes",
          "x": 0.5,
          "xref": "paper",
          "y": -0.15,
          "yref": "paper"
         },
         {
          "showarrow": false,
          "text": "VAEP per progressive pass (scaled to 10000)",
          "textangle": -90,
          "x": -0.07,
          "xref": "paper",
          "y": 0.5,
          "yref": "paper"
         }
        ],
        "autosize": true,
        "margin": {
         "b": 100
        },
        "template": {
         "data": {
          "bar": [
           {
            "error_x": {
             "color": "#2a3f5f"
            },
            "error_y": {
             "color": "#2a3f5f"
            },
            "marker": {
             "line": {
              "color": "#E5ECF6",
              "width": 0.5
             }
            },
            "type": "bar"
           }
          ],
          "barpolar": [
           {
            "marker": {
             "line": {
              "color": "#E5ECF6",
              "width": 0.5
             }
            },
            "type": "barpolar"
           }
          ],
          "carpet": [
           {
            "aaxis": {
             "endlinecolor": "#2a3f5f",
             "gridcolor": "white",
             "linecolor": "white",
             "minorgridcolor": "white",
             "startlinecolor": "#2a3f5f"
            },
            "baxis": {
             "endlinecolor": "#2a3f5f",
             "gridcolor": "white",
             "linecolor": "white",
             "minorgridcolor": "white",
             "startlinecolor": "#2a3f5f"
            },
            "type": "carpet"
           }
          ],
          "choropleth": [
           {
            "colorbar": {
             "outlinewidth": 0,
             "ticks": ""
            },
            "type": "choropleth"
           }
          ],
          "contour": [
           {
            "colorbar": {
             "outlinewidth": 0,
             "ticks": ""
            },
            "colorscale": [
             [
              0,
              "#0d0887"
             ],
             [
              0.1111111111111111,
              "#46039f"
             ],
             [
              0.2222222222222222,
              "#7201a8"
             ],
             [
              0.3333333333333333,
              "#9c179e"
             ],
             [
              0.4444444444444444,
              "#bd3786"
             ],
             [
              0.5555555555555556,
              "#d8576b"
             ],
             [
              0.6666666666666666,
              "#ed7953"
             ],
             [
              0.7777777777777778,
              "#fb9f3a"
             ],
             [
              0.8888888888888888,
              "#fdca26"
             ],
             [
              1,
              "#f0f921"
             ]
            ],
            "type": "contour"
           }
          ],
          "contourcarpet": [
           {
            "colorbar": {
             "outlinewidth": 0,
             "ticks": ""
            },
            "type": "contourcarpet"
           }
          ],
          "heatmap": [
           {
            "colorbar": {
             "outlinewidth": 0,
             "ticks": ""
            },
            "colorscale": [
             [
              0,
              "#0d0887"
             ],
             [
              0.1111111111111111,
              "#46039f"
             ],
             [
              0.2222222222222222,
              "#7201a8"
             ],
             [
              0.3333333333333333,
              "#9c179e"
             ],
             [
              0.4444444444444444,
              "#bd3786"
             ],
             [
              0.5555555555555556,
              "#d8576b"
             ],
             [
              0.6666666666666666,
              "#ed7953"
             ],
             [
              0.7777777777777778,
              "#fb9f3a"
             ],
             [
              0.8888888888888888,
              "#fdca26"
             ],
             [
              1,
              "#f0f921"
             ]
            ],
            "type": "heatmap"
           }
          ],
          "heatmapgl": [
           {
            "colorbar": {
             "outlinewidth": 0,
             "ticks": ""
            },
            "colorscale": [
             [
              0,
              "#0d0887"
             ],
             [
              0.1111111111111111,
              "#46039f"
             ],
             [
              0.2222222222222222,
              "#7201a8"
             ],
             [
              0.3333333333333333,
              "#9c179e"
             ],
             [
              0.4444444444444444,
              "#bd3786"
             ],
             [
              0.5555555555555556,
              "#d8576b"
             ],
             [
              0.6666666666666666,
              "#ed7953"
             ],
             [
              0.7777777777777778,
              "#fb9f3a"
             ],
             [
              0.8888888888888888,
              "#fdca26"
             ],
             [
              1,
              "#f0f921"
             ]
            ],
            "type": "heatmapgl"
           }
          ],
          "histogram": [
           {
            "marker": {
             "colorbar": {
              "outlinewidth": 0,
              "ticks": ""
             }
            },
            "type": "histogram"
           }
          ],
          "histogram2d": [
           {
            "colorbar": {
             "outlinewidth": 0,
             "ticks": ""
            },
            "colorscale": [
             [
              0,
              "#0d0887"
             ],
             [
              0.1111111111111111,
              "#46039f"
             ],
             [
              0.2222222222222222,
              "#7201a8"
             ],
             [
              0.3333333333333333,
              "#9c179e"
             ],
             [
              0.4444444444444444,
              "#bd3786"
             ],
             [
              0.5555555555555556,
              "#d8576b"
             ],
             [
              0.6666666666666666,
              "#ed7953"
             ],
             [
              0.7777777777777778,
              "#fb9f3a"
             ],
             [
              0.8888888888888888,
              "#fdca26"
             ],
             [
              1,
              "#f0f921"
             ]
            ],
            "type": "histogram2d"
           }
          ],
          "histogram2dcontour": [
           {
            "colorbar": {
             "outlinewidth": 0,
             "ticks": ""
            },
            "colorscale": [
             [
              0,
              "#0d0887"
             ],
             [
              0.1111111111111111,
              "#46039f"
             ],
             [
              0.2222222222222222,
              "#7201a8"
             ],
             [
              0.3333333333333333,
              "#9c179e"
             ],
             [
              0.4444444444444444,
              "#bd3786"
             ],
             [
              0.5555555555555556,
              "#d8576b"
             ],
             [
              0.6666666666666666,
              "#ed7953"
             ],
             [
              0.7777777777777778,
              "#fb9f3a"
             ],
             [
              0.8888888888888888,
              "#fdca26"
             ],
             [
              1,
              "#f0f921"
             ]
            ],
            "type": "histogram2dcontour"
           }
          ],
          "mesh3d": [
           {
            "colorbar": {
             "outlinewidth": 0,
             "ticks": ""
            },
            "type": "mesh3d"
           }
          ],
          "parcoords": [
           {
            "line": {
             "colorbar": {
              "outlinewidth": 0,
              "ticks": ""
             }
            },
            "type": "parcoords"
           }
          ],
          "pie": [
           {
            "automargin": true,
            "type": "pie"
           }
          ],
          "scatter": [
           {
            "marker": {
             "colorbar": {
              "outlinewidth": 0,
              "ticks": ""
             }
            },
            "type": "scatter"
           }
          ],
          "scatter3d": [
           {
            "line": {
             "colorbar": {
              "outlinewidth": 0,
              "ticks": ""
             }
            },
            "marker": {
             "colorbar": {
              "outlinewidth": 0,
              "ticks": ""
             }
            },
            "type": "scatter3d"
           }
          ],
          "scattercarpet": [
           {
            "marker": {
             "colorbar": {
              "outlinewidth": 0,
              "ticks": ""
             }
            },
            "type": "scattercarpet"
           }
          ],
          "scattergeo": [
           {
            "marker": {
             "colorbar": {
              "outlinewidth": 0,
              "ticks": ""
             }
            },
            "type": "scattergeo"
           }
          ],
          "scattergl": [
           {
            "marker": {
             "colorbar": {
              "outlinewidth": 0,
              "ticks": ""
             }
            },
            "type": "scattergl"
           }
          ],
          "scattermapbox": [
           {
            "marker": {
             "colorbar": {
              "outlinewidth": 0,
              "ticks": ""
             }
            },
            "type": "scattermapbox"
           }
          ],
          "scatterpolar": [
           {
            "marker": {
             "colorbar": {
              "outlinewidth": 0,
              "ticks": ""
             }
            },
            "type": "scatterpolar"
           }
          ],
          "scatterpolargl": [
           {
            "marker": {
             "colorbar": {
              "outlinewidth": 0,
              "ticks": ""
             }
            },
            "type": "scatterpolargl"
           }
          ],
          "scatterternary": [
           {
            "marker": {
             "colorbar": {
              "outlinewidth": 0,
              "ticks": ""
             }
            },
            "type": "scatterternary"
           }
          ],
          "surface": [
           {
            "colorbar": {
             "outlinewidth": 0,
             "ticks": ""
            },
            "colorscale": [
             [
              0,
              "#0d0887"
             ],
             [
              0.1111111111111111,
              "#46039f"
             ],
             [
              0.2222222222222222,
              "#7201a8"
             ],
             [
              0.3333333333333333,
              "#9c179e"
             ],
             [
              0.4444444444444444,
              "#bd3786"
             ],
             [
              0.5555555555555556,
              "#d8576b"
             ],
             [
              0.6666666666666666,
              "#ed7953"
             ],
             [
              0.7777777777777778,
              "#fb9f3a"
             ],
             [
              0.8888888888888888,
              "#fdca26"
             ],
             [
              1,
              "#f0f921"
             ]
            ],
            "type": "surface"
           }
          ],
          "table": [
           {
            "cells": {
             "fill": {
              "color": "#EBF0F8"
             },
             "line": {
              "color": "white"
             }
            },
            "header": {
             "fill": {
              "color": "#C8D4E3"
             },
             "line": {
              "color": "white"
             }
            },
            "type": "table"
           }
          ]
         },
         "layout": {
          "annotationdefaults": {
           "arrowcolor": "#2a3f5f",
           "arrowhead": 0,
           "arrowwidth": 1
          },
          "coloraxis": {
           "colorbar": {
            "outlinewidth": 0,
            "ticks": ""
           }
          },
          "colorscale": {
           "diverging": [
            [
             0,
             "#8e0152"
            ],
            [
             0.1,
             "#c51b7d"
            ],
            [
             0.2,
             "#de77ae"
            ],
            [
             0.3,
             "#f1b6da"
            ],
            [
             0.4,
             "#fde0ef"
            ],
            [
             0.5,
             "#f7f7f7"
            ],
            [
             0.6,
             "#e6f5d0"
            ],
            [
             0.7,
             "#b8e186"
            ],
            [
             0.8,
             "#7fbc41"
            ],
            [
             0.9,
             "#4d9221"
            ],
            [
             1,
             "#276419"
            ]
           ],
           "sequential": [
            [
             0,
             "#0d0887"
            ],
            [
             0.1111111111111111,
             "#46039f"
            ],
            [
             0.2222222222222222,
             "#7201a8"
            ],
            [
             0.3333333333333333,
             "#9c179e"
            ],
            [
             0.4444444444444444,
             "#bd3786"
            ],
            [
             0.5555555555555556,
             "#d8576b"
            ],
            [
             0.6666666666666666,
             "#ed7953"
            ],
            [
             0.7777777777777778,
             "#fb9f3a"
            ],
            [
             0.8888888888888888,
             "#fdca26"
            ],
            [
             1,
             "#f0f921"
            ]
           ],
           "sequentialminus": [
            [
             0,
             "#0d0887"
            ],
            [
             0.1111111111111111,
             "#46039f"
            ],
            [
             0.2222222222222222,
             "#7201a8"
            ],
            [
             0.3333333333333333,
             "#9c179e"
            ],
            [
             0.4444444444444444,
             "#bd3786"
            ],
            [
             0.5555555555555556,
             "#d8576b"
            ],
            [
             0.6666666666666666,
             "#ed7953"
            ],
            [
             0.7777777777777778,
             "#fb9f3a"
            ],
            [
             0.8888888888888888,
             "#fdca26"
            ],
            [
             1,
             "#f0f921"
            ]
           ]
          },
          "colorway": [
           "#636efa",
           "#EF553B",
           "#00cc96",
           "#ab63fa",
           "#FFA15A",
           "#19d3f3",
           "#FF6692",
           "#B6E880",
           "#FF97FF",
           "#FECB52"
          ],
          "font": {
           "color": "#2a3f5f"
          },
          "geo": {
           "bgcolor": "white",
           "lakecolor": "white",
           "landcolor": "#E5ECF6",
           "showlakes": true,
           "showland": true,
           "subunitcolor": "white"
          },
          "hoverlabel": {
           "align": "left"
          },
          "hovermode": "closest",
          "mapbox": {
           "style": "light"
          },
          "paper_bgcolor": "white",
          "plot_bgcolor": "#E5ECF6",
          "polar": {
           "angularaxis": {
            "gridcolor": "white",
            "linecolor": "white",
            "ticks": ""
           },
           "bgcolor": "#E5ECF6",
           "radialaxis": {
            "gridcolor": "white",
            "linecolor": "white",
            "ticks": ""
           }
          },
          "scene": {
           "xaxis": {
            "backgroundcolor": "#E5ECF6",
            "gridcolor": "white",
            "gridwidth": 2,
            "linecolor": "white",
            "showbackground": true,
            "ticks": "",
            "zerolinecolor": "white"
           },
           "yaxis": {
            "backgroundcolor": "#E5ECF6",
            "gridcolor": "white",
            "gridwidth": 2,
            "linecolor": "white",
            "showbackground": true,
            "ticks": "",
            "zerolinecolor": "white"
           },
           "zaxis": {
            "backgroundcolor": "#E5ECF6",
            "gridcolor": "white",
            "gridwidth": 2,
            "linecolor": "white",
            "showbackground": true,
            "ticks": "",
            "zerolinecolor": "white"
           }
          },
          "shapedefaults": {
           "line": {
            "color": "#2a3f5f"
           }
          },
          "ternary": {
           "aaxis": {
            "gridcolor": "white",
            "linecolor": "white",
            "ticks": ""
           },
           "baxis": {
            "gridcolor": "white",
            "linecolor": "white",
            "ticks": ""
           },
           "bgcolor": "#E5ECF6",
           "caxis": {
            "gridcolor": "white",
            "linecolor": "white",
            "ticks": ""
           }
          },
          "title": {
           "x": 0.05
          },
          "xaxis": {
           "automargin": true,
           "gridcolor": "white",
           "linecolor": "white",
           "ticks": "",
           "title": {
            "standoff": 15
           },
           "zerolinecolor": "white",
           "zerolinewidth": 2
          },
          "yaxis": {
           "automargin": true,
           "gridcolor": "white",
           "linecolor": "white",
           "ticks": "",
           "title": {
            "standoff": 15
           },
           "zerolinecolor": "white",
           "zerolinewidth": 2
          }
         }
        },
        "title": {
         "text": "rightcentral_attack"
        },
        "xaxis": {
         "autorange": true,
         "range": [
          -2.411348314606742,
          41.431348314606744
         ],
         "type": "linear"
        },
        "yaxis": {
         "autorange": true,
         "range": [
          -21.03039895146871,
          91.61600626967633
         ],
         "type": "linear"
        }
       }
      },
      "image/png": "[encoded data removed]",
      "text/html": [
       "<div>\n",
       "        \n",
       "        \n",
       "            <div id=\"6a696747-389d-47c7-befd-ae7d920b07f4\" class=\"plotly-graph-div\" style=\"height:525px; width:100%;\"></div>\n",
       "            <script type=\"text/javascript\">\n",
       "                require([\"plotly\"], function(Plotly) {\n",
       "                    window.PLOTLYENV=window.PLOTLYENV || {};\n",
       "                    \n",
       "                if (document.getElementById(\"6a696747-389d-47c7-befd-ae7d920b07f4\")) {\n",
       "                    Plotly.newPlot(\n",
       "                        '6a696747-389d-47c7-befd-ae7d920b07f4',\n",
       "                        [{\"mode\": \"markers\", \"name\": \"Plot6\", \"text\": [\"AaronCresswell LCB left\", \"AdrianMariappa L_CB right\", \"AhmedHegazi LCB right\", \"AhmedHegazi L_CB right\", \"AlfieMawson LCB right\", \"AlfieMawson L_CB right\", \"AngeloOgbonna LCB left\", \"AngeloOgbonna L_CB left\", \"AntonioRdiger LCB right\", \"AntonioRudiger LCB right\", \"AshleyWilliams L_CB right\", \"AymericLaporte LCB left\", \"AymericLaporte L_CB left\", \"BenMee L_CB left\", \"BrunoMartinsIndi LCB left\", \"BrunoMartinsIndi L_CB left\", \"CalumChambers L_CB right\", \"ChrisSmalling L_CB right\", \"ChristianKabasele LCB right\", \"ChristianKabasele L_CB right\", \"ChristopherSchindler L_CB right\", \"CiaranClark LCB left\", \"CiaranClark L_CB left\", \"DeclanRice LCB right\", \"DejanLovren L_CB right\", \"EliaquimMangala L_CB left\", \"ErikPieters LCB left\", \"FlorianLejeune L_CB right\", \"GaryCahill LCB right\", \"GeoffCameron LCB right\", \"HarryMaguire L_CB right\", \"JairoRiedewald LCB left\", \"JamesCollins LCB right\", \"JamesTarkowski L_CB right\", \"JamesTomkins L_CB right\", \"JanVertonghen LCB left\", \"JanVertonghen L_CB left\", \"JonnyEvans LCB right\", \"JonnyEvans L_CB right\", \"JoseHolebas LCB left\", \"KevinWimmer LCB left\", \"KevinWimmer L_CB left\", \"KurtZouma L_CB right\", \"LaurentKoscielny LCB right\", \"LaurentKoscielny L_CB right\", \"LewisDunk L_CB right\", \"MamadouSakho L_CB left\", \"MarcosRojo L_CB left\", \"MartinCranie L_CB right\", \"MayaYoshida L_CB right\", \"MichaelKeane LCB right\", \"MichaelKeane L_CB right\", \"MiguelBritos LCB left\", \"MiguelBritos L_CB left\", \"NachoMonreal LCB left\", \"NachoMonreal L_CB left\", \"NathanAk LCB left\", \"NathanAk L_CB left\", \"NathanAke LCB left\", \"NathanAke L_CB left\", \"NicolasOtamendi LCB right\", \"NicolasOtamendi L_CB right\", \"NicolsOtamendi LCB right\", \"NicolsOtamendi L_CB right\", \"PaulDummett LCB left\", \"PhilJagielka LCB right\", \"PhilJagielka L_CB right\", \"PhilJones LCB right\", \"PhilJones L_CB right\", \"RagnarKlavan L_CB left\", \"RobHolding LCB right\", \"RobHolding L_CB right\", \"ScottDann L_CB right\", \"SeadKolasinac LCB left\", \"ShkodranMustafi L_CB right\", \"TobyAlderweireld L_CB right\", \"TyroneMings LCB left\", \"VictorLindelf L_CB right\", \"VictorLindelof L_CB right\", \"VincentKompany L_CB right\", \"VirgilvanDijk L_CB right\", \"VirgilvanDijk L_CB right\", \"WesleyHoedt LCB left\", \"WesleyHoedt L_CB left\", \"WinstonReid L_CB right\"], \"type\": \"scatter\", \"x\": [8.15, 17.24, 12.0, 19.44, 12.0, 8.99, 3.45, 14.75, 17.09, 12.24, 14.49, 12.5, 9.4, 17.14, 11.54, 11.76, 17.86, 16.67, 8.82, 5.8, 11.83, 15.38, 17.17, 8.33, 15.62, 7.89, 10.53, 10.91, 6.54, 12.5, 9.32, 15.38, 23.81, 7.27, 11.11, 10.99, 17.1, 18.6, 11.59, 9.09, 6.0, 19.35, 11.63, 12.0, 13.46, 9.35, 10.84, 19.67, 0.0, 12.0, 0.0, 10.48, 4.65, 12.96, 4.87, 5.88, 10.0, 9.86, 3.45, 5.88, 13.51, 22.77, 15.38, 16.54, 25.0, 11.11, 14.29, 0.0, 11.03, 10.06, 17.39, 9.76, 14.0, 2.7, 39.02, 9.09, 11.76, 10.81, 15.38, 20.0, 11.67, 12.09, 8.45, 6.82, 9.09], \"y\": [17.454096093348674, 32.69005526692189, 8.005251176655293, 15.461624247513504, 14.114190203448137, 6.99591658109527, 7.986403230963083, 21.387466294385614, 10.883925855454482, 5.230405011537427, 23.705209672882937, 84.2939899303019, 10.386901812302886, 24.556931662594987, 25.72927803087693, 21.298249416491565, 11.587925421606219, 2.6736825950340264, 13.702659977271276, 4.078306939344907, 28.274854963084543, 29.772762209177017, 32.62616566975009, 11.201607994735241, 11.167514676344581, 2.095988081572087, 10.542469221706455, 26.531996487668064, 5.8408565530127365, 0.5908706225454807, 15.798337717466898, 5.024061180078066, 68.45960077563566, 12.37057979133996, 22.53004431690055, 11.584386887779722, 14.698009519581346, 25.986585289586422, 29.102976676886495, 20.189038054509595, 10.767037235200405, 24.525976980165126, 10.690193753256354, 2.5444856379181147, 5.368347449872929, 12.442372044608966, 3.2346953598625334, 9.486701427271864, 0.0, 8.321363106369972, 0.0, 7.285068354879816, 3.6826077307206257, 6.089997176011956, 5.415556426943008, 1.0499229093137032, 11.398193892091513, 12.588802852969565, 0.5421106671464854, 13.44202944607127, 9.91952750278083, 10.34238417819974, 8.693943874767193, 17.574322074114416, 18.54117998542885, 20.280912932422428, 17.94318202883005, 0.0, 4.216795747072019, 29.355238735488506, -13.708382612094283, 3.0654977734495956, 27.757910173386335, -2.2299197577946894, 13.509053685815958, 2.9722357761453497, 3.1750006875132812, 12.45429361792835, 7.878363920518985, 4.970189183950424, 16.867081217545394, 1.1333654082001565, 10.627424672350918, 9.714581606782634, 8.032779124650089]}],\n",
       "                        {\"annotations\": [{\"showarrow\": false, \"text\": \"% Progressive passes\", \"x\": 0.5, \"xref\": \"paper\", \"y\": -0.15, \"yref\": \"paper\"}, {\"showarrow\": false, \"text\": \"VAEP per progressive pass (scaled to 10000)\", \"textangle\": -90, \"x\": -0.07, \"xref\": \"paper\", \"y\": 0.5, \"yref\": \"paper\"}], \"autosize\": true, \"margin\": {\"b\": 100}, \"template\": {\"data\": {\"bar\": [{\"error_x\": {\"color\": \"#2a3f5f\"}, \"error_y\": {\"color\": \"#2a3f5f\"}, \"marker\": {\"line\": {\"color\": \"#E5ECF6\", \"width\": 0.5}}, \"type\": \"bar\"}], \"barpolar\": [{\"marker\": {\"line\": {\"color\": \"#E5ECF6\", \"width\": 0.5}}, \"type\": \"barpolar\"}], \"carpet\": [{\"aaxis\": {\"endlinecolor\": \"#2a3f5f\", \"gridcolor\": \"white\", \"linecolor\": \"white\", \"minorgridcolor\": \"white\", \"startlinecolor\": \"#2a3f5f\"}, \"baxis\": {\"endlinecolor\": \"#2a3f5f\", \"gridcolor\": \"white\", \"linecolor\": \"white\", \"minorgridcolor\": \"white\", \"startlinecolor\": \"#2a3f5f\"}, \"type\": \"carpet\"}], \"choropleth\": [{\"colorbar\": {\"outlinewidth\": 0, \"ticks\": \"\"}, \"type\": \"choropleth\"}], \"contour\": [{\"colorbar\": {\"outlinewidth\": 0, \"ticks\": \"\"}, \"colorscale\": [[0.0, \"#0d0887\"], [0.1111111111111111, \"#46039f\"], [0.2222222222222222, \"#7201a8\"], [0.3333333333333333, \"#9c179e\"], [0.4444444444444444, \"#bd3786\"], [0.5555555555555556, \"#d8576b\"], [0.6666666666666666, \"#ed7953\"], [0.7777777777777778, \"#fb9f3a\"], [0.8888888888888888, \"#fdca26\"], [1.0, \"#f0f921\"]], \"type\": \"contour\"}], \"contourcarpet\": [{\"colorbar\": {\"outlinewidth\": 0, \"ticks\": \"\"}, \"type\": \"contourcarpet\"}], \"heatmap\": [{\"colorbar\": {\"outlinewidth\": 0, \"ticks\": \"\"}, \"colorscale\": [[0.0, \"#0d0887\"], [0.1111111111111111, \"#46039f\"], [0.2222222222222222, \"#7201a8\"], [0.3333333333333333, \"#9c179e\"], [0.4444444444444444, \"#bd3786\"], [0.5555555555555556, \"#d8576b\"], [0.6666666666666666, \"#ed7953\"], [0.7777777777777778, \"#fb9f3a\"], [0.8888888888888888, \"#fdca26\"], [1.0, \"#f0f921\"]], \"type\": \"heatmap\"}], \"heatmapgl\": [{\"colorbar\": {\"outlinewidth\": 0, \"ticks\": \"\"}, \"colorscale\": [[0.0, \"#0d0887\"], [0.1111111111111111, \"#46039f\"], [0.2222222222222222, \"#7201a8\"], [0.3333333333333333, \"#9c179e\"], [0.4444444444444444, \"#bd3786\"], [0.5555555555555556, \"#d8576b\"], [0.6666666666666666, \"#ed7953\"], [0.7777777777777778, \"#fb9f3a\"], [0.8888888888888888, \"#fdca26\"], [1.0, \"#f0f921\"]], \"type\": \"heatmapgl\"}], \"histogram\": [{\"marker\": {\"colorbar\": {\"outlinewidth\": 0, \"ticks\": \"\"}}, \"type\": \"histogram\"}], \"histogram2d\": [{\"colorbar\": {\"outlinewidth\": 0, \"ticks\": \"\"}, \"colorscale\": [[0.0, \"#0d0887\"], [0.1111111111111111, \"#46039f\"], [0.2222222222222222, \"#7201a8\"], [0.3333333333333333, \"#9c179e\"], [0.4444444444444444, \"#bd3786\"], [0.5555555555555556, \"#d8576b\"], [0.6666666666666666, \"#ed7953\"], [0.7777777777777778, \"#fb9f3a\"], [0.8888888888888888, \"#fdca26\"], [1.0, \"#f0f921\"]], \"type\": \"histogram2d\"}], \"histogram2dcontour\": [{\"colorbar\": {\"outlinewidth\": 0, \"ticks\": \"\"}, \"colorscale\": [[0.0, \"#0d0887\"], [0.1111111111111111, \"#46039f\"], [0.2222222222222222, \"#7201a8\"], [0.3333333333333333, \"#9c179e\"], [0.4444444444444444, \"#bd3786\"], [0.5555555555555556, \"#d8576b\"], [0.6666666666666666, \"#ed7953\"], [0.7777777777777778, \"#fb9f3a\"], [0.8888888888888888, \"#fdca26\"], [1.0, \"#f0f921\"]], \"type\": \"histogram2dcontour\"}], \"mesh3d\": [{\"colorbar\": {\"outlinewidth\": 0, \"ticks\": \"\"}, \"type\": \"mesh3d\"}], \"parcoords\": [{\"line\": {\"colorbar\": {\"outlinewidth\": 0, \"ticks\": \"\"}}, \"type\": \"parcoords\"}], \"pie\": [{\"automargin\": true, \"type\": \"pie\"}], \"scatter\": [{\"marker\": {\"colorbar\": {\"outlinewidth\": 0, \"ticks\": \"\"}}, \"type\": \"scatter\"}], \"scatter3d\": [{\"line\": {\"colorbar\": {\"outlinewidth\": 0, \"ticks\": \"\"}}, \"marker\": {\"colorbar\": {\"outlinewidth\": 0, \"ticks\": \"\"}}, \"type\": \"scatter3d\"}], \"scattercarpet\": [{\"marker\": {\"colorbar\": {\"outlinewidth\": 0, \"ticks\": \"\"}}, \"type\": \"scattercarpet\"}], \"scattergeo\": [{\"marker\": {\"colorbar\": {\"outlinewidth\": 0, \"ticks\": \"\"}}, \"type\": \"scattergeo\"}], \"scattergl\": [{\"marker\": {\"colorbar\": {\"outlinewidth\": 0, \"ticks\": \"\"}}, \"type\": \"scattergl\"}], \"scattermapbox\": [{\"marker\": {\"colorbar\": {\"outlinewidth\": 0, \"ticks\": \"\"}}, \"type\": \"scattermapbox\"}], \"scatterpolar\": [{\"marker\": {\"colorbar\": {\"outlinewidth\": 0, \"ticks\": \"\"}}, \"type\": \"scatterpolar\"}], \"scatterpolargl\": [{\"marker\": {\"colorbar\": {\"outlinewidth\": 0, \"ticks\": \"\"}}, \"type\": \"scatterpolargl\"}], \"scatterternary\": [{\"marker\": {\"colorbar\": {\"outlinewidth\": 0, \"ticks\": \"\"}}, \"type\": \"scatterternary\"}], \"surface\": [{\"colorbar\": {\"outlinewidth\": 0, \"ticks\": \"\"}, \"colorscale\": [[0.0, \"#0d0887\"], [0.1111111111111111, \"#46039f\"], [0.2222222222222222, \"#7201a8\"], [0.3333333333333333, \"#9c179e\"], [0.4444444444444444, \"#bd3786\"], [0.5555555555555556, \"#d8576b\"], [0.6666666666666666, \"#ed7953\"], [0.7777777777777778, \"#fb9f3a\"], [0.8888888888888888, \"#fdca26\"], [1.0, \"#f0f921\"]], \"type\": \"surface\"}], \"table\": [{\"cells\": {\"fill\": {\"color\": \"#EBF0F8\"}, \"line\": {\"color\": \"white\"}}, \"header\": {\"fill\": {\"color\": \"#C8D4E3\"}, \"line\": {\"color\": \"white\"}}, \"type\": \"table\"}]}, \"layout\": {\"annotationdefaults\": {\"arrowcolor\": \"#2a3f5f\", \"arrowhead\": 0, \"arrowwidth\": 1}, \"coloraxis\": {\"colorbar\": {\"outlinewidth\": 0, \"ticks\": \"\"}}, \"colorscale\": {\"diverging\": [[0, \"#8e0152\"], [0.1, \"#c51b7d\"], [0.2, \"#de77ae\"], [0.3, \"#f1b6da\"], [0.4, \"#fde0ef\"], [0.5, \"#f7f7f7\"], [0.6, \"#e6f5d0\"], [0.7, \"#b8e186\"], [0.8, \"#7fbc41\"], [0.9, \"#4d9221\"], [1, \"#276419\"]], \"sequential\": [[0.0, \"#0d0887\"], [0.1111111111111111, \"#46039f\"], [0.2222222222222222, \"#7201a8\"], [0.3333333333333333, \"#9c179e\"], [0.4444444444444444, \"#bd3786\"], [0.5555555555555556, \"#d8576b\"], [0.6666666666666666, \"#ed7953\"], [0.7777777777777778, \"#fb9f3a\"], [0.8888888888888888, \"#fdca26\"], [1.0, \"#f0f921\"]], \"sequentialminus\": [[0.0, \"#0d0887\"], [0.1111111111111111, \"#46039f\"], [0.2222222222222222, \"#7201a8\"], [0.3333333333333333, \"#9c179e\"], [0.4444444444444444, \"#bd3786\"], [0.5555555555555556, \"#d8576b\"], [0.6666666666666666, \"#ed7953\"], [0.7777777777777778, \"#fb9f3a\"], [0.8888888888888888, \"#fdca26\"], [1.0, \"#f0f921\"]]}, \"colorway\": [\"#636efa\", \"#EF553B\", \"#00cc96\", \"#ab63fa\", \"#FFA15A\", \"#19d3f3\", \"#FF6692\", \"#B6E880\", \"#FF97FF\", \"#FECB52\"], \"font\": {\"color\": \"#2a3f5f\"}, \"geo\": {\"bgcolor\": \"white\", \"lakecolor\": \"white\", \"landcolor\": \"#E5ECF6\", \"showlakes\": true, \"showland\": true, \"subunitcolor\": \"white\"}, \"hoverlabel\": {\"align\": \"left\"}, \"hovermode\": \"closest\", \"mapbox\": {\"style\": \"light\"}, \"paper_bgcolor\": \"white\", \"plot_bgcolor\": \"#E5ECF6\", \"polar\": {\"angularaxis\": {\"gridcolor\": \"white\", \"linecolor\": \"white\", \"ticks\": \"\"}, \"bgcolor\": \"#E5ECF6\", \"radialaxis\": {\"gridcolor\": \"white\", \"linecolor\": \"white\", \"ticks\": \"\"}}, \"scene\": {\"xaxis\": {\"backgroundcolor\": \"#E5ECF6\", \"gridcolor\": \"white\", \"gridwidth\": 2, \"linecolor\": \"white\", \"showbackground\": true, \"ticks\": \"\", \"zerolinecolor\": \"white\"}, \"yaxis\": {\"backgroundcolor\": \"#E5ECF6\", \"gridcolor\": \"white\", \"gridwidth\": 2, \"linecolor\": \"white\", \"showbackground\": true, \"ticks\": \"\", \"zerolinecolor\": \"white\"}, \"zaxis\": {\"backgroundcolor\": \"#E5ECF6\", \"gridcolor\": \"white\", \"gridwidth\": 2, \"linecolor\": \"white\", \"showbackground\": true, \"ticks\": \"\", \"zerolinecolor\": \"white\"}}, \"shapedefaults\": {\"line\": {\"color\": \"#2a3f5f\"}}, \"ternary\": {\"aaxis\": {\"gridcolor\": \"white\", \"linecolor\": \"white\", \"ticks\": \"\"}, \"baxis\": {\"gridcolor\": \"white\", \"linecolor\": \"white\", \"ticks\": \"\"}, \"bgcolor\": \"#E5ECF6\", \"caxis\": {\"gridcolor\": \"white\", \"linecolor\": \"white\", \"ticks\": \"\"}}, \"title\": {\"x\": 0.05}, \"xaxis\": {\"automargin\": true, \"gridcolor\": \"white\", \"linecolor\": \"white\", \"ticks\": \"\", \"title\": {\"standoff\": 15}, \"zerolinecolor\": \"white\", \"zerolinewidth\": 2}, \"yaxis\": {\"automargin\": true, \"gridcolor\": \"white\", \"linecolor\": \"white\", \"ticks\": \"\", \"title\": {\"standoff\": 15}, \"zerolinecolor\": \"white\", \"zerolinewidth\": 2}}}, \"title\": {\"text\": \"rightcentral_attack\"}},\n",
       "                        {\"responsive\": true}\n",
       "                    ).then(function(){\n",
       "                            \n",
       "var gd = document.getElementById('6a696747-389d-47c7-befd-ae7d920b07f4');\n",
       "var x = new MutationObserver(function (mutations, observer) {{\n",
       "        var display = window.getComputedStyle(gd).display;\n",
       "        if (!display || display === 'none') {{\n",
       "            console.log([gd, 'removed!']);\n",
       "            Plotly.purge(gd);\n",
       "            observer.disconnect();\n",
       "        }}\n",
       "}});\n",
       "\n",
       "// Listen for the removal of the full notebook cells\n",
       "var notebookContainer = gd.closest('#notebook-container');\n",
       "if (notebookContainer) {{\n",
       "    x.observe(notebookContainer, {childList: true});\n",
       "}}\n",
       "\n",
       "// Listen for the clearing of the current output cell\n",
       "var outputEl = gd.closest('.output');\n",
       "if (outputEl) {{\n",
       "    x.observe(outputEl, {childList: true});\n",
       "}}\n",
       "\n",
       "                        })\n",
       "                };\n",
       "                });\n",
       "            </script>\n",
       "        </div>"
      ]
     },
     "metadata": {},
     "output_type": "display_data"
    },
    {
     "data": {
      "application/vnd.plotly.v1+json": {
       "config": {
        "plotlyServerURL": "https://plot.ly"
       },
       "data": [
        {
         "mode": "markers",
         "name": "Plot7",
         "text": [
          "AaronCresswell LCB left",
          "AdrianMariappa L_CB right",
          "AhmedHegazi LCB right",
          "AhmedHegazi L_CB right",
          "AlfieMawson LCB right",
          "AlfieMawson L_CB right",
          "AngeloOgbonna LCB left",
          "AngeloOgbonna L_CB left",
          "AntonioRdiger LCB right",
          "AntonioRudiger LCB right",
          "AshleyWilliams L_CB right",
          "AymericLaporte LCB left",
          "AymericLaporte L_CB left",
          "BenMee L_CB left",
          "BrunoMartinsIndi LCB left",
          "BrunoMartinsIndi L_CB left",
          "CalumChambers L_CB right",
          "ChrisSmalling L_CB right",
          "ChristianKabasele LCB right",
          "ChristianKabasele L_CB right",
          "ChristopherSchindler L_CB right",
          "CiaranClark LCB left",
          "CiaranClark L_CB left",
          "DeclanRice LCB right",
          "DejanLovren L_CB right",
          "EliaquimMangala L_CB left",
          "ErikPieters LCB left",
          "FlorianLejeune L_CB right",
          "GaryCahill LCB right",
          "GeoffCameron LCB right",
          "HarryMaguire L_CB right",
          "JairoRiedewald LCB left",
          "JamesCollins LCB right",
          "JamesTarkowski L_CB right",
          "JamesTomkins L_CB right",
          "JanVertonghen LCB left",
          "JanVertonghen L_CB left",
          "JonnyEvans LCB right",
          "JonnyEvans L_CB right",
          "JoseHolebas LCB left",
          "KevinWimmer LCB left",
          "KevinWimmer L_CB left",
          "KurtZouma L_CB right",
          "LaurentKoscielny LCB right",
          "LaurentKoscielny L_CB right",
          "LewisDunk L_CB right",
          "MamadouSakho L_CB left",
          "MarcosRojo L_CB left",
          "MartinCranie L_CB right",
          "MayaYoshida L_CB right",
          "MichaelKeane LCB right",
          "MichaelKeane L_CB right",
          "MiguelBritos LCB left",
          "MiguelBritos L_CB left",
          "NachoMonreal LCB left",
          "NachoMonreal L_CB left",
          "NathanAk LCB left",
          "NathanAk L_CB left",
          "NathanAke LCB left",
          "NathanAke L_CB left",
          "NicolasOtamendi LCB right",
          "NicolasOtamendi L_CB right",
          "NicolsOtamendi LCB right",
          "NicolsOtamendi L_CB right",
          "PaulDummett LCB left",
          "PhilJagielka LCB right",
          "PhilJagielka L_CB right",
          "PhilJones LCB right",
          "PhilJones L_CB right",
          "RagnarKlavan L_CB left",
          "RobHolding LCB right",
          "RobHolding L_CB right",
          "ScottDann L_CB right",
          "SeadKolasinac LCB left",
          "ShkodranMustafi L_CB right",
          "TobyAlderweireld L_CB right",
          "TyroneMings LCB left",
          "VictorLindelf L_CB right",
          "VictorLindelof L_CB right",
          "VincentKompany L_CB right",
          "VirgilvanDijk L_CB right",
          "VirgilvanDijk L_CB right",
          "WesleyHoedt LCB left",
          "WesleyHoedt L_CB left",
          "WinstonReid L_CB right"
         ],
         "type": "scatter",
         "x": [
          3.8,
          10.34,
          24,
          19.44,
          22,
          19.1,
          13.79,
          13.11,
          20.25,
          16.33,
          13.04,
          6.25,
          7.38,
          9.05,
          15.38,
          17.65,
          14.29,
          27.78,
          2.94,
          10.14,
          6.99,
          0,
          9.09,
          0,
          16.67,
          13.16,
          5.26,
          18.79,
          9.8,
          0,
          16.95,
          0,
          19.05,
          20,
          11.11,
          9.42,
          13.33,
          9.3,
          13.04,
          9.09,
          24,
          9.68,
          13.95,
          36,
          13.46,
          23.58,
          2.41,
          9.84,
          33.33,
          16,
          40,
          26.67,
          4.65,
          12.96,
          3.1,
          14.71,
          5,
          2.82,
          0,
          7.84,
          10.81,
          15.18,
          30.77,
          13.08,
          8.33,
          14.81,
          19.05,
          5.56,
          15.17,
          14.53,
          17.39,
          19.51,
          6,
          5.41,
          9.76,
          12.12,
          5.88,
          2.7,
          7.69,
          40,
          20.56,
          15.38,
          14.08,
          15.45,
          21.21
         ],
         "y": [
          2.5143523943489017,
          3.7876091865373067,
          11.803838610649109,
          14.004595302847317,
          6.978817462610702,
          6.50224680397555,
          6.004616955359435,
          7.919115777753415,
          6.083814847972715,
          7.675066816012317,
          5.063610252640817,
          5.939564434811473,
          6.349759657660987,
          8.33369982761464,
          8.248487630715736,
          5.943827221498769,
          12.16831271969048,
          3.733460843149159,
          -0.5786308525677989,
          3.9241760564239128,
          -0.7900114168703396,
          0,
          9.8496656911918,
          0,
          1.4294062263312903,
          -2.7796131632241767,
          -1.5413850594900156,
          7.247860712761229,
          5.58855295869114,
          0,
          2.1320780624746014,
          0,
          10.894974305604894,
          6.228600290011276,
          2.910088213091647,
          3.4600226708361146,
          3.9804862505094945,
          9.468802586631027,
          11.968519471153833,
          34.35431894930926,
          14.585446659475565,
          14.111604691753465,
          11.427209138610335,
          2.9209753498435025,
          9.626753923769753,
          11.92913640089848,
          0.4240727270897253,
          4.895531618204273,
          -6.206219841260463,
          14.952536951750517,
          0.35871309228241444,
          12.661823049365056,
          3.718046179084584,
          7.661249988746864,
          4.268313749833445,
          0.810625497251749,
          6.939993239939213,
          0.12106603195129986,
          0,
          1.6040227823324646,
          0.07140739644701416,
          5.018535139242886,
          3.446115633078779,
          2.0528329119910125,
          7.906740065664053,
          0.34913282703470305,
          13.062509796803905,
          -0.47329735631744063,
          4.966568795899892,
          11.485506837027323,
          4.562579054871331,
          2.3128143682076434,
          1.213542651385069,
          5.9321179759462135,
          8.185492408257433,
          4.6422817236320535,
          0.5960176863214549,
          -1.0087763311693798,
          1.4730131862541804,
          37.73167752660811,
          2.2822328416320183,
          0.07035503685883768,
          1.7873566387824609,
          5.409443026027558,
          13.132498169204956
         ]
        }
       ],
       "layout": {
        "annotations": [
         {
          "showarrow": false,
          "text": "% Progressive passes",
          "x": 0.5,
          "xref": "paper",
          "y": -0.15,
          "yref": "paper"
         },
         {
          "showarrow": false,
          "text": "VAEP per progressive pass (scaled to 10000)",
          "textangle": -90,
          "x": -0.07,
          "xref": "paper",
          "y": 0.5,
          "yref": "paper"
         }
        ],
        "autosize": true,
        "margin": {
         "b": 100
        },
        "template": {
         "data": {
          "bar": [
           {
            "error_x": {
             "color": "#2a3f5f"
            },
            "error_y": {
             "color": "#2a3f5f"
            },
            "marker": {
             "line": {
              "color": "#E5ECF6",
              "width": 0.5
             }
            },
            "type": "bar"
           }
          ],
          "barpolar": [
           {
            "marker": {
             "line": {
              "color": "#E5ECF6",
              "width": 0.5
             }
            },
            "type": "barpolar"
           }
          ],
          "carpet": [
           {
            "aaxis": {
             "endlinecolor": "#2a3f5f",
             "gridcolor": "white",
             "linecolor": "white",
             "minorgridcolor": "white",
             "startlinecolor": "#2a3f5f"
            },
            "baxis": {
             "endlinecolor": "#2a3f5f",
             "gridcolor": "white",
             "linecolor": "white",
             "minorgridcolor": "white",
             "startlinecolor": "#2a3f5f"
            },
            "type": "carpet"
           }
          ],
          "choropleth": [
           {
            "colorbar": {
             "outlinewidth": 0,
             "ticks": ""
            },
            "type": "choropleth"
           }
          ],
          "contour": [
           {
            "colorbar": {
             "outlinewidth": 0,
             "ticks": ""
            },
            "colorscale": [
             [
              0,
              "#0d0887"
             ],
             [
              0.1111111111111111,
              "#46039f"
             ],
             [
              0.2222222222222222,
              "#7201a8"
             ],
             [
              0.3333333333333333,
              "#9c179e"
             ],
             [
              0.4444444444444444,
              "#bd3786"
             ],
             [
              0.5555555555555556,
              "#d8576b"
             ],
             [
              0.6666666666666666,
              "#ed7953"
             ],
             [
              0.7777777777777778,
              "#fb9f3a"
             ],
             [
              0.8888888888888888,
              "#fdca26"
             ],
             [
              1,
              "#f0f921"
             ]
            ],
            "type": "contour"
           }
          ],
          "contourcarpet": [
           {
            "colorbar": {
             "outlinewidth": 0,
             "ticks": ""
            },
            "type": "contourcarpet"
           }
          ],
          "heatmap": [
           {
            "colorbar": {
             "outlinewidth": 0,
             "ticks": ""
            },
            "colorscale": [
             [
              0,
              "#0d0887"
             ],
             [
              0.1111111111111111,
              "#46039f"
             ],
             [
              0.2222222222222222,
              "#7201a8"
             ],
             [
              0.3333333333333333,
              "#9c179e"
             ],
             [
              0.4444444444444444,
              "#bd3786"
             ],
             [
              0.5555555555555556,
              "#d8576b"
             ],
             [
              0.6666666666666666,
              "#ed7953"
             ],
             [
              0.7777777777777778,
              "#fb9f3a"
             ],
             [
              0.8888888888888888,
              "#fdca26"
             ],
             [
              1,
              "#f0f921"
             ]
            ],
            "type": "heatmap"
           }
          ],
          "heatmapgl": [
           {
            "colorbar": {
             "outlinewidth": 0,
             "ticks": ""
            },
            "colorscale": [
             [
              0,
              "#0d0887"
             ],
             [
              0.1111111111111111,
              "#46039f"
             ],
             [
              0.2222222222222222,
              "#7201a8"
             ],
             [
              0.3333333333333333,
              "#9c179e"
             ],
             [
              0.4444444444444444,
              "#bd3786"
             ],
             [
              0.5555555555555556,
              "#d8576b"
             ],
             [
              0.6666666666666666,
              "#ed7953"
             ],
             [
              0.7777777777777778,
              "#fb9f3a"
             ],
             [
              0.8888888888888888,
              "#fdca26"
             ],
             [
              1,
              "#f0f921"
             ]
            ],
            "type": "heatmapgl"
           }
          ],
          "histogram": [
           {
            "marker": {
             "colorbar": {
              "outlinewidth": 0,
              "ticks": ""
             }
            },
            "type": "histogram"
           }
          ],
          "histogram2d": [
           {
            "colorbar": {
             "outlinewidth": 0,
             "ticks": ""
            },
            "colorscale": [
             [
              0,
              "#0d0887"
             ],
             [
              0.1111111111111111,
              "#46039f"
             ],
             [
              0.2222222222222222,
              "#7201a8"
             ],
             [
              0.3333333333333333,
              "#9c179e"
             ],
             [
              0.4444444444444444,
              "#bd3786"
             ],
             [
              0.5555555555555556,
              "#d8576b"
             ],
             [
              0.6666666666666666,
              "#ed7953"
             ],
             [
              0.7777777777777778,
              "#fb9f3a"
             ],
             [
              0.8888888888888888,
              "#fdca26"
             ],
             [
              1,
              "#f0f921"
             ]
            ],
            "type": "histogram2d"
           }
          ],
          "histogram2dcontour": [
           {
            "colorbar": {
             "outlinewidth": 0,
             "ticks": ""
            },
            "colorscale": [
             [
              0,
              "#0d0887"
             ],
             [
              0.1111111111111111,
              "#46039f"
             ],
             [
              0.2222222222222222,
              "#7201a8"
             ],
             [
              0.3333333333333333,
              "#9c179e"
             ],
             [
              0.4444444444444444,
              "#bd3786"
             ],
             [
              0.5555555555555556,
              "#d8576b"
             ],
             [
              0.6666666666666666,
              "#ed7953"
             ],
             [
              0.7777777777777778,
              "#fb9f3a"
             ],
             [
              0.8888888888888888,
              "#fdca26"
             ],
             [
              1,
              "#f0f921"
             ]
            ],
            "type": "histogram2dcontour"
           }
          ],
          "mesh3d": [
           {
            "colorbar": {
             "outlinewidth": 0,
             "ticks": ""
            },
            "type": "mesh3d"
           }
          ],
          "parcoords": [
           {
            "line": {
             "colorbar": {
              "outlinewidth": 0,
              "ticks": ""
             }
            },
            "type": "parcoords"
           }
          ],
          "pie": [
           {
            "automargin": true,
            "type": "pie"
           }
          ],
          "scatter": [
           {
            "marker": {
             "colorbar": {
              "outlinewidth": 0,
              "ticks": ""
             }
            },
            "type": "scatter"
           }
          ],
          "scatter3d": [
           {
            "line": {
             "colorbar": {
              "outlinewidth": 0,
              "ticks": ""
             }
            },
            "marker": {
             "colorbar": {
              "outlinewidth": 0,
              "ticks": ""
             }
            },
            "type": "scatter3d"
           }
          ],
          "scattercarpet": [
           {
            "marker": {
             "colorbar": {
              "outlinewidth": 0,
              "ticks": ""
             }
            },
            "type": "scattercarpet"
           }
          ],
          "scattergeo": [
           {
            "marker": {
             "colorbar": {
              "outlinewidth": 0,
              "ticks": ""
             }
            },
            "type": "scattergeo"
           }
          ],
          "scattergl": [
           {
            "marker": {
             "colorbar": {
              "outlinewidth": 0,
              "ticks": ""
             }
            },
            "type": "scattergl"
           }
          ],
          "scattermapbox": [
           {
            "marker": {
             "colorbar": {
              "outlinewidth": 0,
              "ticks": ""
             }
            },
            "type": "scattermapbox"
           }
          ],
          "scatterpolar": [
           {
            "marker": {
             "colorbar": {
              "outlinewidth": 0,
              "ticks": ""
             }
            },
            "type": "scatterpolar"
           }
          ],
          "scatterpolargl": [
           {
            "marker": {
             "colorbar": {
              "outlinewidth": 0,
              "ticks": ""
             }
            },
            "type": "scatterpolargl"
           }
          ],
          "scatterternary": [
           {
            "marker": {
             "colorbar": {
              "outlinewidth": 0,
              "ticks": ""
             }
            },
            "type": "scatterternary"
           }
          ],
          "surface": [
           {
            "colorbar": {
             "outlinewidth": 0,
             "ticks": ""
            },
            "colorscale": [
             [
              0,
              "#0d0887"
             ],
             [
              0.1111111111111111,
              "#46039f"
             ],
             [
              0.2222222222222222,
              "#7201a8"
             ],
             [
              0.3333333333333333,
              "#9c179e"
             ],
             [
              0.4444444444444444,
              "#bd3786"
             ],
             [
              0.5555555555555556,
              "#d8576b"
             ],
             [
              0.6666666666666666,
              "#ed7953"
             ],
             [
              0.7777777777777778,
              "#fb9f3a"
             ],
             [
              0.8888888888888888,
              "#fdca26"
             ],
             [
              1,
              "#f0f921"
             ]
            ],
            "type": "surface"
           }
          ],
          "table": [
           {
            "cells": {
             "fill": {
              "color": "#EBF0F8"
             },
             "line": {
              "color": "white"
             }
            },
            "header": {
             "fill": {
              "color": "#C8D4E3"
             },
             "line": {
              "color": "white"
             }
            },
            "type": "table"
           }
          ]
         },
         "layout": {
          "annotationdefaults": {
           "arrowcolor": "#2a3f5f",
           "arrowhead": 0,
           "arrowwidth": 1
          },
          "coloraxis": {
           "colorbar": {
            "outlinewidth": 0,
            "ticks": ""
           }
          },
          "colorscale": {
           "diverging": [
            [
             0,
             "#8e0152"
            ],
            [
             0.1,
             "#c51b7d"
            ],
            [
             0.2,
             "#de77ae"
            ],
            [
             0.3,
             "#f1b6da"
            ],
            [
             0.4,
             "#fde0ef"
            ],
            [
             0.5,
             "#f7f7f7"
            ],
            [
             0.6,
             "#e6f5d0"
            ],
            [
             0.7,
             "#b8e186"
            ],
            [
             0.8,
             "#7fbc41"
            ],
            [
             0.9,
             "#4d9221"
            ],
            [
             1,
             "#276419"
            ]
           ],
           "sequential": [
            [
             0,
             "#0d0887"
            ],
            [
             0.1111111111111111,
             "#46039f"
            ],
            [
             0.2222222222222222,
             "#7201a8"
            ],
            [
             0.3333333333333333,
             "#9c179e"
            ],
            [
             0.4444444444444444,
             "#bd3786"
            ],
            [
             0.5555555555555556,
             "#d8576b"
            ],
            [
             0.6666666666666666,
             "#ed7953"
            ],
            [
             0.7777777777777778,
             "#fb9f3a"
            ],
            [
             0.8888888888888888,
             "#fdca26"
            ],
            [
             1,
             "#f0f921"
            ]
           ],
           "sequentialminus": [
            [
             0,
             "#0d0887"
            ],
            [
             0.1111111111111111,
             "#46039f"
            ],
            [
             0.2222222222222222,
             "#7201a8"
            ],
            [
             0.3333333333333333,
             "#9c179e"
            ],
            [
             0.4444444444444444,
             "#bd3786"
            ],
            [
             0.5555555555555556,
             "#d8576b"
            ],
            [
             0.6666666666666666,
             "#ed7953"
            ],
            [
             0.7777777777777778,
             "#fb9f3a"
            ],
            [
             0.8888888888888888,
             "#fdca26"
            ],
            [
             1,
             "#f0f921"
            ]
           ]
          },
          "colorway": [
           "#636efa",
           "#EF553B",
           "#00cc96",
           "#ab63fa",
           "#FFA15A",
           "#19d3f3",
           "#FF6692",
           "#B6E880",
           "#FF97FF",
           "#FECB52"
          ],
          "font": {
           "color": "#2a3f5f"
          },
          "geo": {
           "bgcolor": "white",
           "lakecolor": "white",
           "landcolor": "#E5ECF6",
           "showlakes": true,
           "showland": true,
           "subunitcolor": "white"
          },
          "hoverlabel": {
           "align": "left"
          },
          "hovermode": "closest",
          "mapbox": {
           "style": "light"
          },
          "paper_bgcolor": "white",
          "plot_bgcolor": "#E5ECF6",
          "polar": {
           "angularaxis": {
            "gridcolor": "white",
            "linecolor": "white",
            "ticks": ""
           },
           "bgcolor": "#E5ECF6",
           "radialaxis": {
            "gridcolor": "white",
            "linecolor": "white",
            "ticks": ""
           }
          },
          "scene": {
           "xaxis": {
            "backgroundcolor": "#E5ECF6",
            "gridcolor": "white",
            "gridwidth": 2,
            "linecolor": "white",
            "showbackground": true,
            "ticks": "",
            "zerolinecolor": "white"
           },
           "yaxis": {
            "backgroundcolor": "#E5ECF6",
            "gridcolor": "white",
            "gridwidth": 2,
            "linecolor": "white",
            "showbackground": true,
            "ticks": "",
            "zerolinecolor": "white"
           },
           "zaxis": {
            "backgroundcolor": "#E5ECF6",
            "gridcolor": "white",
            "gridwidth": 2,
            "linecolor": "white",
            "showbackground": true,
            "ticks": "",
            "zerolinecolor": "white"
           }
          },
          "shapedefaults": {
           "line": {
            "color": "#2a3f5f"
           }
          },
          "ternary": {
           "aaxis": {
            "gridcolor": "white",
            "linecolor": "white",
            "ticks": ""
           },
           "baxis": {
            "gridcolor": "white",
            "linecolor": "white",
            "ticks": ""
           },
           "bgcolor": "#E5ECF6",
           "caxis": {
            "gridcolor": "white",
            "linecolor": "white",
            "ticks": ""
           }
          },
          "title": {
           "x": 0.05
          },
          "xaxis": {
           "automargin": true,
           "gridcolor": "white",
           "linecolor": "white",
           "ticks": "",
           "title": {
            "standoff": 15
           },
           "zerolinecolor": "white",
           "zerolinewidth": 2
          },
          "yaxis": {
           "automargin": true,
           "gridcolor": "white",
           "linecolor": "white",
           "ticks": "",
           "title": {
            "standoff": 15
           },
           "zerolinecolor": "white",
           "zerolinewidth": 2
          }
         }
        },
        "title": {
         "text": "rightflank_attack"
        },
        "xaxis": {
         "autorange": true,
         "range": [
          -2.4719101123595504,
          42.47191011235955
         ],
         "type": "linear"
        },
        "yaxis": {
         "autorange": true,
         "range": [
          -9.488936311273632,
          41.01439399662128
         ],
         "type": "linear"
        }
       }
      },
      "image/png": "[encoded data removed]",
      "text/html": [
       "<div>\n",
       "        \n",
       "        \n",
       "            <div id=\"5db81f7c-4573-4bf1-a264-2761bd21db8f\" class=\"plotly-graph-div\" style=\"height:525px; width:100%;\"></div>\n",
       "            <script type=\"text/javascript\">\n",
       "                require([\"plotly\"], function(Plotly) {\n",
       "                    window.PLOTLYENV=window.PLOTLYENV || {};\n",
       "                    \n",
       "                if (document.getElementById(\"5db81f7c-4573-4bf1-a264-2761bd21db8f\")) {\n",
       "                    Plotly.newPlot(\n",
       "                        '5db81f7c-4573-4bf1-a264-2761bd21db8f',\n",
       "                        [{\"mode\": \"markers\", \"name\": \"Plot7\", \"text\": [\"AaronCresswell LCB left\", \"AdrianMariappa L_CB right\", \"AhmedHegazi LCB right\", \"AhmedHegazi L_CB right\", \"AlfieMawson LCB right\", \"AlfieMawson L_CB right\", \"AngeloOgbonna LCB left\", \"AngeloOgbonna L_CB left\", \"AntonioRdiger LCB right\", \"AntonioRudiger LCB right\", \"AshleyWilliams L_CB right\", \"AymericLaporte LCB left\", \"AymericLaporte L_CB left\", \"BenMee L_CB left\", \"BrunoMartinsIndi LCB left\", \"BrunoMartinsIndi L_CB left\", \"CalumChambers L_CB right\", \"ChrisSmalling L_CB right\", \"ChristianKabasele LCB right\", \"ChristianKabasele L_CB right\", \"ChristopherSchindler L_CB right\", \"CiaranClark LCB left\", \"CiaranClark L_CB left\", \"DeclanRice LCB right\", \"DejanLovren L_CB right\", \"EliaquimMangala L_CB left\", \"ErikPieters LCB left\", \"FlorianLejeune L_CB right\", \"GaryCahill LCB right\", \"GeoffCameron LCB right\", \"HarryMaguire L_CB right\", \"JairoRiedewald LCB left\", \"JamesCollins LCB right\", \"JamesTarkowski L_CB right\", \"JamesTomkins L_CB right\", \"JanVertonghen LCB left\", \"JanVertonghen L_CB left\", \"JonnyEvans LCB right\", \"JonnyEvans L_CB right\", \"JoseHolebas LCB left\", \"KevinWimmer LCB left\", \"KevinWimmer L_CB left\", \"KurtZouma L_CB right\", \"LaurentKoscielny LCB right\", \"LaurentKoscielny L_CB right\", \"LewisDunk L_CB right\", \"MamadouSakho L_CB left\", \"MarcosRojo L_CB left\", \"MartinCranie L_CB right\", \"MayaYoshida L_CB right\", \"MichaelKeane LCB right\", \"MichaelKeane L_CB right\", \"MiguelBritos LCB left\", \"MiguelBritos L_CB left\", \"NachoMonreal LCB left\", \"NachoMonreal L_CB left\", \"NathanAk LCB left\", \"NathanAk L_CB left\", \"NathanAke LCB left\", \"NathanAke L_CB left\", \"NicolasOtamendi LCB right\", \"NicolasOtamendi L_CB right\", \"NicolsOtamendi LCB right\", \"NicolsOtamendi L_CB right\", \"PaulDummett LCB left\", \"PhilJagielka LCB right\", \"PhilJagielka L_CB right\", \"PhilJones LCB right\", \"PhilJones L_CB right\", \"RagnarKlavan L_CB left\", \"RobHolding LCB right\", \"RobHolding L_CB right\", \"ScottDann L_CB right\", \"SeadKolasinac LCB left\", \"ShkodranMustafi L_CB right\", \"TobyAlderweireld L_CB right\", \"TyroneMings LCB left\", \"VictorLindelf L_CB right\", \"VictorLindelof L_CB right\", \"VincentKompany L_CB right\", \"VirgilvanDijk L_CB right\", \"VirgilvanDijk L_CB right\", \"WesleyHoedt LCB left\", \"WesleyHoedt L_CB left\", \"WinstonReid L_CB right\"], \"type\": \"scatter\", \"x\": [3.8, 10.34, 24.0, 19.44, 22.0, 19.1, 13.79, 13.11, 20.25, 16.33, 13.04, 6.25, 7.38, 9.05, 15.38, 17.65, 14.29, 27.78, 2.94, 10.14, 6.99, 0.0, 9.09, 0.0, 16.67, 13.16, 5.26, 18.79, 9.8, 0.0, 16.95, 0.0, 19.05, 20.0, 11.11, 9.42, 13.33, 9.3, 13.04, 9.09, 24.0, 9.68, 13.95, 36.0, 13.46, 23.58, 2.41, 9.84, 33.33, 16.0, 40.0, 26.67, 4.65, 12.96, 3.1, 14.71, 5.0, 2.82, 0.0, 7.84, 10.81, 15.18, 30.77, 13.08, 8.33, 14.81, 19.05, 5.56, 15.17, 14.53, 17.39, 19.51, 6.0, 5.41, 9.76, 12.12, 5.88, 2.7, 7.69, 40.0, 20.56, 15.38, 14.08, 15.45, 21.21], \"y\": [2.5143523943489017, 3.7876091865373067, 11.803838610649109, 14.004595302847317, 6.978817462610702, 6.50224680397555, 6.004616955359435, 7.919115777753415, 6.083814847972715, 7.675066816012317, 5.063610252640817, 5.939564434811473, 6.349759657660987, 8.33369982761464, 8.248487630715736, 5.943827221498769, 12.16831271969048, 3.733460843149159, -0.5786308525677989, 3.9241760564239128, -0.7900114168703396, 0.0, 9.8496656911918, 0.0, 1.4294062263312903, -2.7796131632241767, -1.5413850594900156, 7.247860712761229, 5.58855295869114, 0.0, 2.1320780624746014, 0.0, 10.894974305604894, 6.228600290011276, 2.910088213091647, 3.4600226708361146, 3.9804862505094945, 9.468802586631027, 11.968519471153833, 34.35431894930926, 14.585446659475565, 14.111604691753465, 11.427209138610335, 2.9209753498435025, 9.626753923769753, 11.92913640089848, 0.4240727270897253, 4.895531618204273, -6.206219841260463, 14.952536951750517, 0.35871309228241444, 12.661823049365056, 3.718046179084584, 7.661249988746864, 4.268313749833445, 0.810625497251749, 6.939993239939213, 0.12106603195129986, 0.0, 1.6040227823324646, 0.07140739644701416, 5.018535139242886, 3.446115633078779, 2.0528329119910125, 7.906740065664053, 0.34913282703470305, 13.062509796803905, -0.47329735631744063, 4.966568795899892, 11.485506837027323, 4.562579054871331, 2.3128143682076434, 1.213542651385069, 5.9321179759462135, 8.185492408257433, 4.6422817236320535, 0.5960176863214549, -1.0087763311693798, 1.4730131862541804, 37.73167752660811, 2.2822328416320183, 0.07035503685883768, 1.7873566387824609, 5.409443026027558, 13.132498169204956]}],\n",
       "                        {\"annotations\": [{\"showarrow\": false, \"text\": \"% Progressive passes\", \"x\": 0.5, \"xref\": \"paper\", \"y\": -0.15, \"yref\": \"paper\"}, {\"showarrow\": false, \"text\": \"VAEP per progressive pass (scaled to 10000)\", \"textangle\": -90, \"x\": -0.07, \"xref\": \"paper\", \"y\": 0.5, \"yref\": \"paper\"}], \"autosize\": true, \"margin\": {\"b\": 100}, \"template\": {\"data\": {\"bar\": [{\"error_x\": {\"color\": \"#2a3f5f\"}, \"error_y\": {\"color\": \"#2a3f5f\"}, \"marker\": {\"line\": {\"color\": \"#E5ECF6\", \"width\": 0.5}}, \"type\": \"bar\"}], \"barpolar\": [{\"marker\": {\"line\": {\"color\": \"#E5ECF6\", \"width\": 0.5}}, \"type\": \"barpolar\"}], \"carpet\": [{\"aaxis\": {\"endlinecolor\": \"#2a3f5f\", \"gridcolor\": \"white\", \"linecolor\": \"white\", \"minorgridcolor\": \"white\", \"startlinecolor\": \"#2a3f5f\"}, \"baxis\": {\"endlinecolor\": \"#2a3f5f\", \"gridcolor\": \"white\", \"linecolor\": \"white\", \"minorgridcolor\": \"white\", \"startlinecolor\": \"#2a3f5f\"}, \"type\": \"carpet\"}], \"choropleth\": [{\"colorbar\": {\"outlinewidth\": 0, \"ticks\": \"\"}, \"type\": \"choropleth\"}], \"contour\": [{\"colorbar\": {\"outlinewidth\": 0, \"ticks\": \"\"}, \"colorscale\": [[0.0, \"#0d0887\"], [0.1111111111111111, \"#46039f\"], [0.2222222222222222, \"#7201a8\"], [0.3333333333333333, \"#9c179e\"], [0.4444444444444444, \"#bd3786\"], [0.5555555555555556, \"#d8576b\"], [0.6666666666666666, \"#ed7953\"], [0.7777777777777778, \"#fb9f3a\"], [0.8888888888888888, \"#fdca26\"], [1.0, \"#f0f921\"]], \"type\": \"contour\"}], \"contourcarpet\": [{\"colorbar\": {\"outlinewidth\": 0, \"ticks\": \"\"}, \"type\": \"contourcarpet\"}], \"heatmap\": [{\"colorbar\": {\"outlinewidth\": 0, \"ticks\": \"\"}, \"colorscale\": [[0.0, \"#0d0887\"], [0.1111111111111111, \"#46039f\"], [0.2222222222222222, \"#7201a8\"], [0.3333333333333333, \"#9c179e\"], [0.4444444444444444, \"#bd3786\"], [0.5555555555555556, \"#d8576b\"], [0.6666666666666666, \"#ed7953\"], [0.7777777777777778, \"#fb9f3a\"], [0.8888888888888888, \"#fdca26\"], [1.0, \"#f0f921\"]], \"type\": \"heatmap\"}], \"heatmapgl\": [{\"colorbar\": {\"outlinewidth\": 0, \"ticks\": \"\"}, \"colorscale\": [[0.0, \"#0d0887\"], [0.1111111111111111, \"#46039f\"], [0.2222222222222222, \"#7201a8\"], [0.3333333333333333, \"#9c179e\"], [0.4444444444444444, \"#bd3786\"], [0.5555555555555556, \"#d8576b\"], [0.6666666666666666, \"#ed7953\"], [0.7777777777777778, \"#fb9f3a\"], [0.8888888888888888, \"#fdca26\"], [1.0, \"#f0f921\"]], \"type\": \"heatmapgl\"}], \"histogram\": [{\"marker\": {\"colorbar\": {\"outlinewidth\": 0, \"ticks\": \"\"}}, \"type\": \"histogram\"}], \"histogram2d\": [{\"colorbar\": {\"outlinewidth\": 0, \"ticks\": \"\"}, \"colorscale\": [[0.0, \"#0d0887\"], [0.1111111111111111, \"#46039f\"], [0.2222222222222222, \"#7201a8\"], [0.3333333333333333, \"#9c179e\"], [0.4444444444444444, \"#bd3786\"], [0.5555555555555556, \"#d8576b\"], [0.6666666666666666, \"#ed7953\"], [0.7777777777777778, \"#fb9f3a\"], [0.8888888888888888, \"#fdca26\"], [1.0, \"#f0f921\"]], \"type\": \"histogram2d\"}], \"histogram2dcontour\": [{\"colorbar\": {\"outlinewidth\": 0, \"ticks\": \"\"}, \"colorscale\": [[0.0, \"#0d0887\"], [0.1111111111111111, \"#46039f\"], [0.2222222222222222, \"#7201a8\"], [0.3333333333333333, \"#9c179e\"], [0.4444444444444444, \"#bd3786\"], [0.5555555555555556, \"#d8576b\"], [0.6666666666666666, \"#ed7953\"], [0.7777777777777778, \"#fb9f3a\"], [0.8888888888888888, \"#fdca26\"], [1.0, \"#f0f921\"]], \"type\": \"histogram2dcontour\"}], \"mesh3d\": [{\"colorbar\": {\"outlinewidth\": 0, \"ticks\": \"\"}, \"type\": \"mesh3d\"}], \"parcoords\": [{\"line\": {\"colorbar\": {\"outlinewidth\": 0, \"ticks\": \"\"}}, \"type\": \"parcoords\"}], \"pie\": [{\"automargin\": true, \"type\": \"pie\"}], \"scatter\": [{\"marker\": {\"colorbar\": {\"outlinewidth\": 0, \"ticks\": \"\"}}, \"type\": \"scatter\"}], \"scatter3d\": [{\"line\": {\"colorbar\": {\"outlinewidth\": 0, \"ticks\": \"\"}}, \"marker\": {\"colorbar\": {\"outlinewidth\": 0, \"ticks\": \"\"}}, \"type\": \"scatter3d\"}], \"scattercarpet\": [{\"marker\": {\"colorbar\": {\"outlinewidth\": 0, \"ticks\": \"\"}}, \"type\": \"scattercarpet\"}], \"scattergeo\": [{\"marker\": {\"colorbar\": {\"outlinewidth\": 0, \"ticks\": \"\"}}, \"type\": \"scattergeo\"}], \"scattergl\": [{\"marker\": {\"colorbar\": {\"outlinewidth\": 0, \"ticks\": \"\"}}, \"type\": \"scattergl\"}], \"scattermapbox\": [{\"marker\": {\"colorbar\": {\"outlinewidth\": 0, \"ticks\": \"\"}}, \"type\": \"scattermapbox\"}], \"scatterpolar\": [{\"marker\": {\"colorbar\": {\"outlinewidth\": 0, \"ticks\": \"\"}}, \"type\": \"scatterpolar\"}], \"scatterpolargl\": [{\"marker\": {\"colorbar\": {\"outlinewidth\": 0, \"ticks\": \"\"}}, \"type\": \"scatterpolargl\"}], \"scatterternary\": [{\"marker\": {\"colorbar\": {\"outlinewidth\": 0, \"ticks\": \"\"}}, \"type\": \"scatterternary\"}], \"surface\": [{\"colorbar\": {\"outlinewidth\": 0, \"ticks\": \"\"}, \"colorscale\": [[0.0, \"#0d0887\"], [0.1111111111111111, \"#46039f\"], [0.2222222222222222, \"#7201a8\"], [0.3333333333333333, \"#9c179e\"], [0.4444444444444444, \"#bd3786\"], [0.5555555555555556, \"#d8576b\"], [0.6666666666666666, \"#ed7953\"], [0.7777777777777778, \"#fb9f3a\"], [0.8888888888888888, \"#fdca26\"], [1.0, \"#f0f921\"]], \"type\": \"surface\"}], \"table\": [{\"cells\": {\"fill\": {\"color\": \"#EBF0F8\"}, \"line\": {\"color\": \"white\"}}, \"header\": {\"fill\": {\"color\": \"#C8D4E3\"}, \"line\": {\"color\": \"white\"}}, \"type\": \"table\"}]}, \"layout\": {\"annotationdefaults\": {\"arrowcolor\": \"#2a3f5f\", \"arrowhead\": 0, \"arrowwidth\": 1}, \"coloraxis\": {\"colorbar\": {\"outlinewidth\": 0, \"ticks\": \"\"}}, \"colorscale\": {\"diverging\": [[0, \"#8e0152\"], [0.1, \"#c51b7d\"], [0.2, \"#de77ae\"], [0.3, \"#f1b6da\"], [0.4, \"#fde0ef\"], [0.5, \"#f7f7f7\"], [0.6, \"#e6f5d0\"], [0.7, \"#b8e186\"], [0.8, \"#7fbc41\"], [0.9, \"#4d9221\"], [1, \"#276419\"]], \"sequential\": [[0.0, \"#0d0887\"], [0.1111111111111111, \"#46039f\"], [0.2222222222222222, \"#7201a8\"], [0.3333333333333333, \"#9c179e\"], [0.4444444444444444, \"#bd3786\"], [0.5555555555555556, \"#d8576b\"], [0.6666666666666666, \"#ed7953\"], [0.7777777777777778, \"#fb9f3a\"], [0.8888888888888888, \"#fdca26\"], [1.0, \"#f0f921\"]], \"sequentialminus\": [[0.0, \"#0d0887\"], [0.1111111111111111, \"#46039f\"], [0.2222222222222222, \"#7201a8\"], [0.3333333333333333, \"#9c179e\"], [0.4444444444444444, \"#bd3786\"], [0.5555555555555556, \"#d8576b\"], [0.6666666666666666, \"#ed7953\"], [0.7777777777777778, \"#fb9f3a\"], [0.8888888888888888, \"#fdca26\"], [1.0, \"#f0f921\"]]}, \"colorway\": [\"#636efa\", \"#EF553B\", \"#00cc96\", \"#ab63fa\", \"#FFA15A\", \"#19d3f3\", \"#FF6692\", \"#B6E880\", \"#FF97FF\", \"#FECB52\"], \"font\": {\"color\": \"#2a3f5f\"}, \"geo\": {\"bgcolor\": \"white\", \"lakecolor\": \"white\", \"landcolor\": \"#E5ECF6\", \"showlakes\": true, \"showland\": true, \"subunitcolor\": \"white\"}, \"hoverlabel\": {\"align\": \"left\"}, \"hovermode\": \"closest\", \"mapbox\": {\"style\": \"light\"}, \"paper_bgcolor\": \"white\", \"plot_bgcolor\": \"#E5ECF6\", \"polar\": {\"angularaxis\": {\"gridcolor\": \"white\", \"linecolor\": \"white\", \"ticks\": \"\"}, \"bgcolor\": \"#E5ECF6\", \"radialaxis\": {\"gridcolor\": \"white\", \"linecolor\": \"white\", \"ticks\": \"\"}}, \"scene\": {\"xaxis\": {\"backgroundcolor\": \"#E5ECF6\", \"gridcolor\": \"white\", \"gridwidth\": 2, \"linecolor\": \"white\", \"showbackground\": true, \"ticks\": \"\", \"zerolinecolor\": \"white\"}, \"yaxis\": {\"backgroundcolor\": \"#E5ECF6\", \"gridcolor\": \"white\", \"gridwidth\": 2, \"linecolor\": \"white\", \"showbackground\": true, \"ticks\": \"\", \"zerolinecolor\": \"white\"}, \"zaxis\": {\"backgroundcolor\": \"#E5ECF6\", \"gridcolor\": \"white\", \"gridwidth\": 2, \"linecolor\": \"white\", \"showbackground\": true, \"ticks\": \"\", \"zerolinecolor\": \"white\"}}, \"shapedefaults\": {\"line\": {\"color\": \"#2a3f5f\"}}, \"ternary\": {\"aaxis\": {\"gridcolor\": \"white\", \"linecolor\": \"white\", \"ticks\": \"\"}, \"baxis\": {\"gridcolor\": \"white\", \"linecolor\": \"white\", \"ticks\": \"\"}, \"bgcolor\": \"#E5ECF6\", \"caxis\": {\"gridcolor\": \"white\", \"linecolor\": \"white\", \"ticks\": \"\"}}, \"title\": {\"x\": 0.05}, \"xaxis\": {\"automargin\": true, \"gridcolor\": \"white\", \"linecolor\": \"white\", \"ticks\": \"\", \"title\": {\"standoff\": 15}, \"zerolinecolor\": \"white\", \"zerolinewidth\": 2}, \"yaxis\": {\"automargin\": true, \"gridcolor\": \"white\", \"linecolor\": \"white\", \"ticks\": \"\", \"title\": {\"standoff\": 15}, \"zerolinecolor\": \"white\", \"zerolinewidth\": 2}}}, \"title\": {\"text\": \"rightflank_attack\"}},\n",
       "                        {\"responsive\": true}\n",
       "                    ).then(function(){\n",
       "                            \n",
       "var gd = document.getElementById('5db81f7c-4573-4bf1-a264-2761bd21db8f');\n",
       "var x = new MutationObserver(function (mutations, observer) {{\n",
       "        var display = window.getComputedStyle(gd).display;\n",
       "        if (!display || display === 'none') {{\n",
       "            console.log([gd, 'removed!']);\n",
       "            Plotly.purge(gd);\n",
       "            observer.disconnect();\n",
       "        }}\n",
       "}});\n",
       "\n",
       "// Listen for the removal of the full notebook cells\n",
       "var notebookContainer = gd.closest('#notebook-container');\n",
       "if (notebookContainer) {{\n",
       "    x.observe(notebookContainer, {childList: true});\n",
       "}}\n",
       "\n",
       "// Listen for the clearing of the current output cell\n",
       "var outputEl = gd.closest('.output');\n",
       "if (outputEl) {{\n",
       "    x.observe(outputEl, {childList: true});\n",
       "}}\n",
       "\n",
       "                        })\n",
       "                };\n",
       "                });\n",
       "            </script>\n",
       "        </div>"
      ]
     },
     "metadata": {},
     "output_type": "display_data"
    }
   ],
   "source": [
    "plot_preference_value_region(defender_attrs_lcb_plot)"
   ]
  },
  {
   "cell_type": "code",
   "execution_count": null,
   "metadata": {},
   "outputs": [],
   "source": []
  }
 ],
 "metadata": {
  "kernelspec": {
   "display_name": "Python 3",
   "language": "python",
   "name": "python3"
  },
  "language_info": {
   "codemirror_mode": {
    "name": "ipython",
    "version": 3
   },
   "file_extension": ".py",
   "mimetype": "text/x-python",
   "name": "python",
   "nbconvert_exporter": "python",
   "pygments_lexer": "ipython3",
   "version": "3.7.6"
  }
 },
 "nbformat": 4,
 "nbformat_minor": 4
}
