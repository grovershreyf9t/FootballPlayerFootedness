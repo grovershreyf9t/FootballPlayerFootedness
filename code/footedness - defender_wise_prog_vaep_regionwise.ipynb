{
 "cells": [
  {
   "cell_type": "code",
   "execution_count": 227,
   "metadata": {
    "ExecuteTime": {
     "end_time": "2020-07-31T14:13:55.839353Z",
     "start_time": "2020-07-31T14:13:52.957902Z"
    }
   },
   "outputs": [],
   "source": [
    "import numpy as np\n",
    "import pandas as pd\n",
    "import pickle\n",
    "import plotly.graph_objects as go\n",
    "pd.set_option('max_columns',1000)"
   ]
  },
  {
   "cell_type": "code",
   "execution_count": 228,
   "metadata": {
    "ExecuteTime": {
     "end_time": "2020-07-31T14:11:17.103426Z",
     "start_time": "2020-07-31T14:11:16.298264Z"
    }
   },
   "outputs": [],
   "source": [
    "# Reading defender wise passing attributes dataset\n",
    "defender_attrs = pd.read_pickle('../data/defender_clustering_dataset.pkl')"
   ]
  },
  {
   "cell_type": "code",
   "execution_count": 229,
   "metadata": {
    "ExecuteTime": {
     "end_time": "2020-07-31T14:11:25.417965Z",
     "start_time": "2020-07-31T14:11:25.388373Z"
    }
   },
   "outputs": [],
   "source": [
    "# Filtering out left center backs from this dataset for both 4 at the back and non 4 at the back formations\n",
    "defender_attrs_lcb = defender_attrs.loc[(defender_attrs['position']=='LCB') | (defender_attrs['position']=='L_CB')]"
   ]
  },
  {
   "cell_type": "code",
   "execution_count": 230,
   "metadata": {
    "ExecuteTime": {
     "end_time": "2020-07-31T14:11:27.789140Z",
     "start_time": "2020-07-31T14:11:27.188398Z"
    }
   },
   "outputs": [
    {
     "data": {
      "text/html": [
       "<div>\n",
       "<style scoped>\n",
       "    .dataframe tbody tr th:only-of-type {\n",
       "        vertical-align: middle;\n",
       "    }\n",
       "\n",
       "    .dataframe tbody tr th {\n",
       "        vertical-align: top;\n",
       "    }\n",
       "\n",
       "    .dataframe thead th {\n",
       "        text-align: right;\n",
       "    }\n",
       "</style>\n",
       "<table border=\"1\" class=\"dataframe\">\n",
       "  <thead>\n",
       "    <tr style=\"text-align: right;\">\n",
       "      <th></th>\n",
       "      <th>player_name</th>\n",
       "      <th>team</th>\n",
       "      <th>position</th>\n",
       "      <th>footedness</th>\n",
       "      <th>passes</th>\n",
       "      <th>accpass</th>\n",
       "      <th>accpassloc</th>\n",
       "      <th>inaccpassloc</th>\n",
       "      <th>accpassvaep</th>\n",
       "      <th>inaccpassvaep</th>\n",
       "      <th>accpassoff</th>\n",
       "      <th>inaccpassoff</th>\n",
       "      <th>accpassdef</th>\n",
       "      <th>inaccpassdef</th>\n",
       "      <th>matches_played</th>\n",
       "    </tr>\n",
       "  </thead>\n",
       "  <tbody>\n",
       "    <tr>\n",
       "      <th>1</th>\n",
       "      <td>AaronCresswell</td>\n",
       "      <td>West Ham</td>\n",
       "      <td>LCB</td>\n",
       "      <td>left</td>\n",
       "      <td>796</td>\n",
       "      <td>644</td>\n",
       "      <td>[[[27.04, 51.68], [55.12, 64.6]], [[65.52, 61....</td>\n",
       "      <td>[[[62.4, 51.0], [78.0, 49.64]], [[79.04, 61.2]...</td>\n",
       "      <td>[0.0010694738011807203, 0.002371369395405054, ...</td>\n",
       "      <td>[-0.00956201646476984, -0.007710381411015987, ...</td>\n",
       "      <td>[0.0018120664171874523, 0.002711281180381775, ...</td>\n",
       "      <td>[-0.006647953763604164, -0.006097717210650444,...</td>\n",
       "      <td>[-0.0007425926742143929, -0.000339911784976720...</td>\n",
       "      <td>[-0.002914062701165676, -0.001612664433196187,...</td>\n",
       "      <td>20.0</td>\n",
       "    </tr>\n",
       "    <tr>\n",
       "      <th>7</th>\n",
       "      <td>AdrianMariappa</td>\n",
       "      <td>Watford</td>\n",
       "      <td>L_CB</td>\n",
       "      <td>right</td>\n",
       "      <td>179</td>\n",
       "      <td>144</td>\n",
       "      <td>[[[36.4, 45.56], [74.88, 48.28]], [[30.16, 46....</td>\n",
       "      <td>[[[43.68, 20.4], [42.64, 26.52]], [[27.04, 59....</td>\n",
       "      <td>[0.007817169651389122, 0.014505142346024513, -...</td>\n",
       "      <td>[-0.012487044557929039, -0.014621571637690067,...</td>\n",
       "      <td>[0.006556161679327488, 0.014376532286405563, -...</td>\n",
       "      <td>[0.0002851502504199743, 0.0005775007884949446,...</td>\n",
       "      <td>[0.0012610082048922777, 0.0001286100596189499,...</td>\n",
       "      <td>[-0.012772195041179657, -0.015199072659015656,...</td>\n",
       "      <td>5.0</td>\n",
       "    </tr>\n",
       "    <tr>\n",
       "      <th>12</th>\n",
       "      <td>AhmedHegazi</td>\n",
       "      <td>West Brom</td>\n",
       "      <td>LCB</td>\n",
       "      <td>right</td>\n",
       "      <td>108</td>\n",
       "      <td>85</td>\n",
       "      <td>[[[30.16, 59.84], [8.32, 52.36]], [[13.52, 45....</td>\n",
       "      <td>[[[38.48, 63.24], [67.6, 62.56]], [[32.24, 57....</td>\n",
       "      <td>[-0.0006447772029787302, 0.005508015863597393,...</td>\n",
       "      <td>[-0.0023842889349907637, -0.000174969201907515...</td>\n",
       "      <td>[-0.0004856684245169163, 0.0003083648625761270...</td>\n",
       "      <td>[-0.0002966243773698807, 0.0005698907189071178...</td>\n",
       "      <td>[-0.00015910877846181393, 0.00519965123385191,...</td>\n",
       "      <td>[-0.002087664557620883, -0.0007448599208146334...</td>\n",
       "      <td>3.0</td>\n",
       "    </tr>\n",
       "    <tr>\n",
       "      <th>13</th>\n",
       "      <td>AhmedHegazi</td>\n",
       "      <td>West Brom</td>\n",
       "      <td>L_CB</td>\n",
       "      <td>right</td>\n",
       "      <td>438</td>\n",
       "      <td>347</td>\n",
       "      <td>[[[31.2, 44.88], [41.6, 44.2]], [[46.8, 48.96]...</td>\n",
       "      <td>[[[41.6, 57.12], [70.72, 56.44]], [[27.04, 52....</td>\n",
       "      <td>[0.0017347207758575678, 0.0011076731607317924,...</td>\n",
       "      <td>[-0.003586119506508112, -0.0061787767335772514...</td>\n",
       "      <td>[0.0009571132250130177, 9.425170719623566e-05,...</td>\n",
       "      <td>[-0.0005135340616106987, -0.000820334302261471...</td>\n",
       "      <td>[0.0007776075508445501, 0.0010134214535355568,...</td>\n",
       "      <td>[-0.0030725854448974133, -0.005358442664146423...</td>\n",
       "      <td>16.0</td>\n",
       "    </tr>\n",
       "    <tr>\n",
       "      <th>21</th>\n",
       "      <td>AlfieMawson</td>\n",
       "      <td>Swansea</td>\n",
       "      <td>LCB</td>\n",
       "      <td>right</td>\n",
       "      <td>758</td>\n",
       "      <td>620</td>\n",
       "      <td>[[[22.88, 47.6], [28.08, 57.12]], [[42.64, 63....</td>\n",
       "      <td>[[[6.24, 65.28], [3.12, 66.64]], [[28.08, 60.5...</td>\n",
       "      <td>[0.038905542343854904, -0.00048424117267131805...</td>\n",
       "      <td>[-0.0028287151362746954, -0.004615758545696735...</td>\n",
       "      <td>[0.0026092270854860544, 0.0003214506432414055,...</td>\n",
       "      <td>[-0.000753563828766346, -0.0015460746362805367...</td>\n",
       "      <td>[0.03629631549119949, -0.0008056918159127235, ...</td>\n",
       "      <td>[-0.0020751513075083494, -0.003069684142246842...</td>\n",
       "      <td>19.0</td>\n",
       "    </tr>\n",
       "  </tbody>\n",
       "</table>\n",
       "</div>"
      ],
      "text/plain": [
       "       player_name       team position footedness  passes  accpass  \\\n",
       "1   AaronCresswell   West Ham      LCB       left     796      644   \n",
       "7   AdrianMariappa    Watford     L_CB      right     179      144   \n",
       "12     AhmedHegazi  West Brom      LCB      right     108       85   \n",
       "13     AhmedHegazi  West Brom     L_CB      right     438      347   \n",
       "21     AlfieMawson    Swansea      LCB      right     758      620   \n",
       "\n",
       "                                           accpassloc  \\\n",
       "1   [[[27.04, 51.68], [55.12, 64.6]], [[65.52, 61....   \n",
       "7   [[[36.4, 45.56], [74.88, 48.28]], [[30.16, 46....   \n",
       "12  [[[30.16, 59.84], [8.32, 52.36]], [[13.52, 45....   \n",
       "13  [[[31.2, 44.88], [41.6, 44.2]], [[46.8, 48.96]...   \n",
       "21  [[[22.88, 47.6], [28.08, 57.12]], [[42.64, 63....   \n",
       "\n",
       "                                         inaccpassloc  \\\n",
       "1   [[[62.4, 51.0], [78.0, 49.64]], [[79.04, 61.2]...   \n",
       "7   [[[43.68, 20.4], [42.64, 26.52]], [[27.04, 59....   \n",
       "12  [[[38.48, 63.24], [67.6, 62.56]], [[32.24, 57....   \n",
       "13  [[[41.6, 57.12], [70.72, 56.44]], [[27.04, 52....   \n",
       "21  [[[6.24, 65.28], [3.12, 66.64]], [[28.08, 60.5...   \n",
       "\n",
       "                                          accpassvaep  \\\n",
       "1   [0.0010694738011807203, 0.002371369395405054, ...   \n",
       "7   [0.007817169651389122, 0.014505142346024513, -...   \n",
       "12  [-0.0006447772029787302, 0.005508015863597393,...   \n",
       "13  [0.0017347207758575678, 0.0011076731607317924,...   \n",
       "21  [0.038905542343854904, -0.00048424117267131805...   \n",
       "\n",
       "                                        inaccpassvaep  \\\n",
       "1   [-0.00956201646476984, -0.007710381411015987, ...   \n",
       "7   [-0.012487044557929039, -0.014621571637690067,...   \n",
       "12  [-0.0023842889349907637, -0.000174969201907515...   \n",
       "13  [-0.003586119506508112, -0.0061787767335772514...   \n",
       "21  [-0.0028287151362746954, -0.004615758545696735...   \n",
       "\n",
       "                                           accpassoff  \\\n",
       "1   [0.0018120664171874523, 0.002711281180381775, ...   \n",
       "7   [0.006556161679327488, 0.014376532286405563, -...   \n",
       "12  [-0.0004856684245169163, 0.0003083648625761270...   \n",
       "13  [0.0009571132250130177, 9.425170719623566e-05,...   \n",
       "21  [0.0026092270854860544, 0.0003214506432414055,...   \n",
       "\n",
       "                                         inaccpassoff  \\\n",
       "1   [-0.006647953763604164, -0.006097717210650444,...   \n",
       "7   [0.0002851502504199743, 0.0005775007884949446,...   \n",
       "12  [-0.0002966243773698807, 0.0005698907189071178...   \n",
       "13  [-0.0005135340616106987, -0.000820334302261471...   \n",
       "21  [-0.000753563828766346, -0.0015460746362805367...   \n",
       "\n",
       "                                           accpassdef  \\\n",
       "1   [-0.0007425926742143929, -0.000339911784976720...   \n",
       "7   [0.0012610082048922777, 0.0001286100596189499,...   \n",
       "12  [-0.00015910877846181393, 0.00519965123385191,...   \n",
       "13  [0.0007776075508445501, 0.0010134214535355568,...   \n",
       "21  [0.03629631549119949, -0.0008056918159127235, ...   \n",
       "\n",
       "                                         inaccpassdef  matches_played  \n",
       "1   [-0.002914062701165676, -0.001612664433196187,...            20.0  \n",
       "7   [-0.012772195041179657, -0.015199072659015656,...             5.0  \n",
       "12  [-0.002087664557620883, -0.0007448599208146334...             3.0  \n",
       "13  [-0.0030725854448974133, -0.005358442664146423...            16.0  \n",
       "21  [-0.0020751513075083494, -0.003069684142246842...            19.0  "
      ]
     },
     "execution_count": 230,
     "metadata": {},
     "output_type": "execute_result"
    }
   ],
   "source": [
    "defender_attrs_lcb.head()"
   ]
  },
  {
   "cell_type": "code",
   "execution_count": 231,
   "metadata": {
    "ExecuteTime": {
     "end_time": "2020-07-31T14:12:20.547977Z",
     "start_time": "2020-07-31T14:12:20.532938Z"
    }
   },
   "outputs": [],
   "source": [
    "# Function to get start and end location points for every row in df\n",
    "def getstartend(locs):\n",
    "    end_points = list()\n",
    "    start_points = list()\n",
    "    for point in locs:\n",
    "            if point != []:\n",
    "                end_points.append(point[1])\n",
    "                start_points.append(point[0])\n",
    "    return start_points,end_points"
   ]
  },
  {
   "cell_type": "code",
   "execution_count": 232,
   "metadata": {
    "ExecuteTime": {
     "end_time": "2020-07-31T14:12:21.048272Z",
     "start_time": "2020-07-31T14:12:21.017991Z"
    }
   },
   "outputs": [],
   "source": [
    "# Function to segregate progressive passes for every row of pass location column\n",
    "def distfilter(locs,vaeps):\n",
    "    loc_start, loc_end = getstartend(locs)\n",
    "    progpass = 0\n",
    "    prog_passlocs = list()\n",
    "    prog_passvaeps = list()\n",
    "    for p1,p2,vaep in zip(loc_start,loc_end,vaeps):\n",
    "        dist = np.round(np.linalg.norm(np.array(p1) - np.array(p2)),2)\n",
    "        if p1[0] < 52 and dist >= 30 and p1[0] < p2[0]:\n",
    "            prog_passlocs.append([np.round(p1,2),np.round(p2,2)])\n",
    "            prog_passvaeps.append(vaep)\n",
    "        elif p1[0] > 52 and dist >= 10 and p1[0] < p2[0]:\n",
    "            prog_passlocs.append([np.round(p1,2),np.round(p2,2)])\n",
    "            prog_passvaeps.append(vaep)\n",
    "    progpass = len(prog_passlocs)\n",
    "    return pd.Series([prog_passlocs,prog_passvaeps,progpass])\n",
    "            "
   ]
  },
  {
   "cell_type": "code",
   "execution_count": 233,
   "metadata": {
    "ExecuteTime": {
     "end_time": "2020-07-31T14:12:23.404271Z",
     "start_time": "2020-07-31T14:12:22.418441Z"
    }
   },
   "outputs": [
    {
     "name": "stderr",
     "output_type": "stream",
     "text": [
      "/Users/shreygrover/anaconda3/lib/python3.7/site-packages/pandas/core/frame.py:2963: SettingWithCopyWarning:\n",
      "\n",
      "\n",
      "A value is trying to be set on a copy of a slice from a DataFrame.\n",
      "Try using .loc[row_indexer,col_indexer] = value instead\n",
      "\n",
      "See the caveats in the documentation: https://pandas.pydata.org/pandas-docs/stable/user_guide/indexing.html#returning-a-view-versus-a-copy\n",
      "\n"
     ]
    }
   ],
   "source": [
    "defender_attrs_lcb[['progaccpassloc','progaccpassvaep','progaccpass']] = defender_attrs_lcb.apply(lambda x: distfilter(x['accpassloc'],x['accpassvaep']), axis = 1)"
   ]
  },
  {
   "cell_type": "code",
   "execution_count": 234,
   "metadata": {},
   "outputs": [],
   "source": [
    "defender_attrs_lcb[['proginaccpassloc','proginaccpassvaep','proginaccpass']] = defender_attrs_lcb.apply(lambda x: distfilter(x['inaccpassloc'],x['inaccpassvaep']),axis=1)"
   ]
  },
  {
   "cell_type": "code",
   "execution_count": null,
   "metadata": {},
   "outputs": [],
   "source": []
  },
  {
   "cell_type": "code",
   "execution_count": 235,
   "metadata": {
    "ExecuteTime": {
     "end_time": "2020-07-31T14:12:27.218028Z",
     "start_time": "2020-07-31T14:12:27.203227Z"
    }
   },
   "outputs": [],
   "source": [
    "defender_attrs_lcb.reset_index(inplace = True)"
   ]
  },
  {
   "cell_type": "code",
   "execution_count": 236,
   "metadata": {
    "ExecuteTime": {
     "end_time": "2020-07-31T14:12:28.895531Z",
     "start_time": "2020-07-31T14:12:28.138056Z"
    }
   },
   "outputs": [
    {
     "data": {
      "text/plain": [
       "98"
      ]
     },
     "execution_count": 236,
     "metadata": {},
     "output_type": "execute_result"
    }
   ],
   "source": [
    "len(defender_attrs_lcb)"
   ]
  },
  {
   "cell_type": "code",
   "execution_count": 237,
   "metadata": {},
   "outputs": [],
   "source": [
    "# Dropping defenders who have zero progressive passes\n",
    "defender_attrs_lcb = defender_attrs_lcb.loc[defender_attrs_lcb['progaccpass']!=0]"
   ]
  },
  {
   "cell_type": "code",
   "execution_count": 238,
   "metadata": {},
   "outputs": [],
   "source": [
    "# Counting the total number of accurate progressive passes and accurate progressive vaep values for left center backs\n",
    "counter_accprog = 0\n",
    "counter_accprog_vaep = 0\n",
    "for index, row in defender_attrs_lcb.iterrows():\n",
    "    counter_accprog = counter_accprog + len(row['progaccpassloc'])\n",
    "    counter_accprog_vaep = counter_accprog_vaep + len(row['progaccpassvaep'])"
   ]
  },
  {
   "cell_type": "code",
   "execution_count": 239,
   "metadata": {},
   "outputs": [],
   "source": [
    "# Counting the total number of inaccurate progressive passes and inaccurate progressive vaep values for left center backs\n",
    "counter_inaccprog = 0\n",
    "counter_inaccprog_vaep = 0\n",
    "for index, row in defender_attrs_lcb.iterrows():\n",
    "    counter_inaccprog = counter_inaccprog + len(row['proginaccpassloc'])\n",
    "    counter_inaccprog_vaep = counter_inaccprog_vaep + len(row['proginaccpassvaep'])"
   ]
  },
  {
   "cell_type": "code",
   "execution_count": 240,
   "metadata": {},
   "outputs": [
    {
     "data": {
      "text/plain": [
       "(6864, 6864)"
      ]
     },
     "execution_count": 240,
     "metadata": {},
     "output_type": "execute_result"
    }
   ],
   "source": [
    "counter_accprog, counter_accprog_vaep"
   ]
  },
  {
   "cell_type": "code",
   "execution_count": 241,
   "metadata": {},
   "outputs": [
    {
     "data": {
      "text/plain": [
       "(2314, 2314)"
      ]
     },
     "execution_count": 241,
     "metadata": {},
     "output_type": "execute_result"
    }
   ],
   "source": [
    "counter_inaccprog, counter_inaccprog_vaep"
   ]
  },
  {
   "cell_type": "code",
   "execution_count": 242,
   "metadata": {},
   "outputs": [
    {
     "data": {
      "text/plain": [
       "6864"
      ]
     },
     "execution_count": 242,
     "metadata": {},
     "output_type": "execute_result"
    }
   ],
   "source": [
    "np.sum(defender_attrs_lcb['progaccpass'].tolist())"
   ]
  },
  {
   "cell_type": "code",
   "execution_count": 243,
   "metadata": {},
   "outputs": [
    {
     "data": {
      "text/plain": [
       "2314"
      ]
     },
     "execution_count": 243,
     "metadata": {},
     "output_type": "execute_result"
    }
   ],
   "source": [
    "np.sum(defender_attrs_lcb['proginaccpass'].tolist())"
   ]
  },
  {
   "cell_type": "code",
   "execution_count": 244,
   "metadata": {},
   "outputs": [
    {
     "data": {
      "text/html": [
       "<div>\n",
       "<style scoped>\n",
       "    .dataframe tbody tr th:only-of-type {\n",
       "        vertical-align: middle;\n",
       "    }\n",
       "\n",
       "    .dataframe tbody tr th {\n",
       "        vertical-align: top;\n",
       "    }\n",
       "\n",
       "    .dataframe thead th {\n",
       "        text-align: right;\n",
       "    }\n",
       "</style>\n",
       "<table border=\"1\" class=\"dataframe\">\n",
       "  <thead>\n",
       "    <tr style=\"text-align: right;\">\n",
       "      <th></th>\n",
       "      <th>index</th>\n",
       "      <th>player_name</th>\n",
       "      <th>team</th>\n",
       "      <th>position</th>\n",
       "      <th>footedness</th>\n",
       "      <th>passes</th>\n",
       "      <th>accpass</th>\n",
       "      <th>accpassloc</th>\n",
       "      <th>inaccpassloc</th>\n",
       "      <th>accpassvaep</th>\n",
       "      <th>inaccpassvaep</th>\n",
       "      <th>accpassoff</th>\n",
       "      <th>inaccpassoff</th>\n",
       "      <th>accpassdef</th>\n",
       "      <th>inaccpassdef</th>\n",
       "      <th>matches_played</th>\n",
       "      <th>progaccpassloc</th>\n",
       "      <th>progaccpassvaep</th>\n",
       "      <th>progaccpass</th>\n",
       "      <th>proginaccpassloc</th>\n",
       "      <th>proginaccpassvaep</th>\n",
       "      <th>proginaccpass</th>\n",
       "    </tr>\n",
       "  </thead>\n",
       "  <tbody>\n",
       "    <tr>\n",
       "      <th>0</th>\n",
       "      <td>1</td>\n",
       "      <td>AaronCresswell</td>\n",
       "      <td>West Ham</td>\n",
       "      <td>LCB</td>\n",
       "      <td>left</td>\n",
       "      <td>796</td>\n",
       "      <td>644</td>\n",
       "      <td>[[[27.04, 51.68], [55.12, 64.6]], [[65.52, 61....</td>\n",
       "      <td>[[[62.4, 51.0], [78.0, 49.64]], [[79.04, 61.2]...</td>\n",
       "      <td>[0.0010694738011807203, 0.002371369395405054, ...</td>\n",
       "      <td>[-0.00956201646476984, -0.007710381411015987, ...</td>\n",
       "      <td>[0.0018120664171874523, 0.002711281180381775, ...</td>\n",
       "      <td>[-0.006647953763604164, -0.006097717210650444,...</td>\n",
       "      <td>[-0.0007425926742143929, -0.000339911784976720...</td>\n",
       "      <td>[-0.002914062701165676, -0.001612664433196187,...</td>\n",
       "      <td>20.0</td>\n",
       "      <td>[[[27.04, 51.68], [55.12, 64.6]], [[61.36, 59....</td>\n",
       "      <td>[0.0010694738011807203, 0.002284318208694458, ...</td>\n",
       "      <td>184</td>\n",
       "      <td>[[[62.4, 51.0], [78.0, 49.64]], [[79.04, 61.2]...</td>\n",
       "      <td>[-0.00956201646476984, -0.007710381411015987, ...</td>\n",
       "      <td>91</td>\n",
       "    </tr>\n",
       "    <tr>\n",
       "      <th>1</th>\n",
       "      <td>7</td>\n",
       "      <td>AdrianMariappa</td>\n",
       "      <td>Watford</td>\n",
       "      <td>L_CB</td>\n",
       "      <td>right</td>\n",
       "      <td>179</td>\n",
       "      <td>144</td>\n",
       "      <td>[[[36.4, 45.56], [74.88, 48.28]], [[30.16, 46....</td>\n",
       "      <td>[[[43.68, 20.4], [42.64, 26.52]], [[27.04, 59....</td>\n",
       "      <td>[0.007817169651389122, 0.014505142346024513, -...</td>\n",
       "      <td>[-0.012487044557929039, -0.014621571637690067,...</td>\n",
       "      <td>[0.006556161679327488, 0.014376532286405563, -...</td>\n",
       "      <td>[0.0002851502504199743, 0.0005775007884949446,...</td>\n",
       "      <td>[0.0012610082048922777, 0.0001286100596189499,...</td>\n",
       "      <td>[-0.012772195041179657, -0.015199072659015656,...</td>\n",
       "      <td>5.0</td>\n",
       "      <td>[[[36.4, 45.56], [74.88, 48.28]], [[30.16, 46....</td>\n",
       "      <td>[0.007817169651389122, 0.014505142346024513, 0...</td>\n",
       "      <td>29</td>\n",
       "      <td>[[[74.88, 48.28], [95.68, 63.92]], [[43.68, 58...</td>\n",
       "      <td>[-0.018855780363082886, -0.0001047381665557622...</td>\n",
       "      <td>17</td>\n",
       "    </tr>\n",
       "    <tr>\n",
       "      <th>2</th>\n",
       "      <td>12</td>\n",
       "      <td>AhmedHegazi</td>\n",
       "      <td>West Brom</td>\n",
       "      <td>LCB</td>\n",
       "      <td>right</td>\n",
       "      <td>108</td>\n",
       "      <td>85</td>\n",
       "      <td>[[[30.16, 59.84], [8.32, 52.36]], [[13.52, 45....</td>\n",
       "      <td>[[[38.48, 63.24], [67.6, 62.56]], [[32.24, 57....</td>\n",
       "      <td>[-0.0006447772029787302, 0.005508015863597393,...</td>\n",
       "      <td>[-0.0023842889349907637, -0.000174969201907515...</td>\n",
       "      <td>[-0.0004856684245169163, 0.0003083648625761270...</td>\n",
       "      <td>[-0.0002966243773698807, 0.0005698907189071178...</td>\n",
       "      <td>[-0.00015910877846181393, 0.00519965123385191,...</td>\n",
       "      <td>[-0.002087664557620883, -0.0007448599208146334...</td>\n",
       "      <td>3.0</td>\n",
       "      <td>[[[9.36, 49.64], [46.8, 35.36]], [[59.28, 60.5...</td>\n",
       "      <td>[0.005519402213394642, 0.014088563621044159, 0...</td>\n",
       "      <td>25</td>\n",
       "      <td>[[[32.24, 57.8], [94.64, 8.84]], [[37.44, 55.7...</td>\n",
       "      <td>[-0.00017496920190751553, -0.00290540279820561...</td>\n",
       "      <td>14</td>\n",
       "    </tr>\n",
       "    <tr>\n",
       "      <th>3</th>\n",
       "      <td>13</td>\n",
       "      <td>AhmedHegazi</td>\n",
       "      <td>West Brom</td>\n",
       "      <td>L_CB</td>\n",
       "      <td>right</td>\n",
       "      <td>438</td>\n",
       "      <td>347</td>\n",
       "      <td>[[[31.2, 44.88], [41.6, 44.2]], [[46.8, 48.96]...</td>\n",
       "      <td>[[[41.6, 57.12], [70.72, 56.44]], [[27.04, 52....</td>\n",
       "      <td>[0.0017347207758575678, 0.0011076731607317924,...</td>\n",
       "      <td>[-0.003586119506508112, -0.0061787767335772514...</td>\n",
       "      <td>[0.0009571132250130177, 9.425170719623566e-05,...</td>\n",
       "      <td>[-0.0005135340616106987, -0.000820334302261471...</td>\n",
       "      <td>[0.0007776075508445501, 0.0010134214535355568,...</td>\n",
       "      <td>[-0.0030725854448974133, -0.005358442664146423...</td>\n",
       "      <td>16.0</td>\n",
       "      <td>[[[35.36, 38.08], [43.68, 5.44]], [[33.28, 38....</td>\n",
       "      <td>[0.001253026886843145, 0.007582114078104496, 0...</td>\n",
       "      <td>72</td>\n",
       "      <td>[[[30.16, 6.12], [69.68, 20.4]], [[87.36, 60.5...</td>\n",
       "      <td>[0.0008075747173279524, -0.011176194064319134,...</td>\n",
       "      <td>46</td>\n",
       "    </tr>\n",
       "    <tr>\n",
       "      <th>4</th>\n",
       "      <td>21</td>\n",
       "      <td>AlfieMawson</td>\n",
       "      <td>Swansea</td>\n",
       "      <td>LCB</td>\n",
       "      <td>right</td>\n",
       "      <td>758</td>\n",
       "      <td>620</td>\n",
       "      <td>[[[22.88, 47.6], [28.08, 57.12]], [[42.64, 63....</td>\n",
       "      <td>[[[6.24, 65.28], [3.12, 66.64]], [[28.08, 60.5...</td>\n",
       "      <td>[0.038905542343854904, -0.00048424117267131805...</td>\n",
       "      <td>[-0.0028287151362746954, -0.004615758545696735...</td>\n",
       "      <td>[0.0026092270854860544, 0.0003214506432414055,...</td>\n",
       "      <td>[-0.000753563828766346, -0.0015460746362805367...</td>\n",
       "      <td>[0.03629631549119949, -0.0008056918159127235, ...</td>\n",
       "      <td>[-0.0020751513075083494, -0.003069684142246842...</td>\n",
       "      <td>19.0</td>\n",
       "      <td>[[[35.36, 51.68], [74.88, 15.64]], [[64.48, 52...</td>\n",
       "      <td>[0.009057893417775631, 0.009907348081469536, 0...</td>\n",
       "      <td>150</td>\n",
       "      <td>[[[27.04, 58.48], [76.96, 68.0]], [[34.32, 42....</td>\n",
       "      <td>[-0.0029905715491622686, 0.0004464306402951479...</td>\n",
       "      <td>74</td>\n",
       "    </tr>\n",
       "  </tbody>\n",
       "</table>\n",
       "</div>"
      ],
      "text/plain": [
       "   index     player_name       team position footedness  passes  accpass  \\\n",
       "0      1  AaronCresswell   West Ham      LCB       left     796      644   \n",
       "1      7  AdrianMariappa    Watford     L_CB      right     179      144   \n",
       "2     12     AhmedHegazi  West Brom      LCB      right     108       85   \n",
       "3     13     AhmedHegazi  West Brom     L_CB      right     438      347   \n",
       "4     21     AlfieMawson    Swansea      LCB      right     758      620   \n",
       "\n",
       "                                          accpassloc  \\\n",
       "0  [[[27.04, 51.68], [55.12, 64.6]], [[65.52, 61....   \n",
       "1  [[[36.4, 45.56], [74.88, 48.28]], [[30.16, 46....   \n",
       "2  [[[30.16, 59.84], [8.32, 52.36]], [[13.52, 45....   \n",
       "3  [[[31.2, 44.88], [41.6, 44.2]], [[46.8, 48.96]...   \n",
       "4  [[[22.88, 47.6], [28.08, 57.12]], [[42.64, 63....   \n",
       "\n",
       "                                        inaccpassloc  \\\n",
       "0  [[[62.4, 51.0], [78.0, 49.64]], [[79.04, 61.2]...   \n",
       "1  [[[43.68, 20.4], [42.64, 26.52]], [[27.04, 59....   \n",
       "2  [[[38.48, 63.24], [67.6, 62.56]], [[32.24, 57....   \n",
       "3  [[[41.6, 57.12], [70.72, 56.44]], [[27.04, 52....   \n",
       "4  [[[6.24, 65.28], [3.12, 66.64]], [[28.08, 60.5...   \n",
       "\n",
       "                                         accpassvaep  \\\n",
       "0  [0.0010694738011807203, 0.002371369395405054, ...   \n",
       "1  [0.007817169651389122, 0.014505142346024513, -...   \n",
       "2  [-0.0006447772029787302, 0.005508015863597393,...   \n",
       "3  [0.0017347207758575678, 0.0011076731607317924,...   \n",
       "4  [0.038905542343854904, -0.00048424117267131805...   \n",
       "\n",
       "                                       inaccpassvaep  \\\n",
       "0  [-0.00956201646476984, -0.007710381411015987, ...   \n",
       "1  [-0.012487044557929039, -0.014621571637690067,...   \n",
       "2  [-0.0023842889349907637, -0.000174969201907515...   \n",
       "3  [-0.003586119506508112, -0.0061787767335772514...   \n",
       "4  [-0.0028287151362746954, -0.004615758545696735...   \n",
       "\n",
       "                                          accpassoff  \\\n",
       "0  [0.0018120664171874523, 0.002711281180381775, ...   \n",
       "1  [0.006556161679327488, 0.014376532286405563, -...   \n",
       "2  [-0.0004856684245169163, 0.0003083648625761270...   \n",
       "3  [0.0009571132250130177, 9.425170719623566e-05,...   \n",
       "4  [0.0026092270854860544, 0.0003214506432414055,...   \n",
       "\n",
       "                                        inaccpassoff  \\\n",
       "0  [-0.006647953763604164, -0.006097717210650444,...   \n",
       "1  [0.0002851502504199743, 0.0005775007884949446,...   \n",
       "2  [-0.0002966243773698807, 0.0005698907189071178...   \n",
       "3  [-0.0005135340616106987, -0.000820334302261471...   \n",
       "4  [-0.000753563828766346, -0.0015460746362805367...   \n",
       "\n",
       "                                          accpassdef  \\\n",
       "0  [-0.0007425926742143929, -0.000339911784976720...   \n",
       "1  [0.0012610082048922777, 0.0001286100596189499,...   \n",
       "2  [-0.00015910877846181393, 0.00519965123385191,...   \n",
       "3  [0.0007776075508445501, 0.0010134214535355568,...   \n",
       "4  [0.03629631549119949, -0.0008056918159127235, ...   \n",
       "\n",
       "                                        inaccpassdef  matches_played  \\\n",
       "0  [-0.002914062701165676, -0.001612664433196187,...            20.0   \n",
       "1  [-0.012772195041179657, -0.015199072659015656,...             5.0   \n",
       "2  [-0.002087664557620883, -0.0007448599208146334...             3.0   \n",
       "3  [-0.0030725854448974133, -0.005358442664146423...            16.0   \n",
       "4  [-0.0020751513075083494, -0.003069684142246842...            19.0   \n",
       "\n",
       "                                      progaccpassloc  \\\n",
       "0  [[[27.04, 51.68], [55.12, 64.6]], [[61.36, 59....   \n",
       "1  [[[36.4, 45.56], [74.88, 48.28]], [[30.16, 46....   \n",
       "2  [[[9.36, 49.64], [46.8, 35.36]], [[59.28, 60.5...   \n",
       "3  [[[35.36, 38.08], [43.68, 5.44]], [[33.28, 38....   \n",
       "4  [[[35.36, 51.68], [74.88, 15.64]], [[64.48, 52...   \n",
       "\n",
       "                                     progaccpassvaep  progaccpass  \\\n",
       "0  [0.0010694738011807203, 0.002284318208694458, ...          184   \n",
       "1  [0.007817169651389122, 0.014505142346024513, 0...           29   \n",
       "2  [0.005519402213394642, 0.014088563621044159, 0...           25   \n",
       "3  [0.001253026886843145, 0.007582114078104496, 0...           72   \n",
       "4  [0.009057893417775631, 0.009907348081469536, 0...          150   \n",
       "\n",
       "                                    proginaccpassloc  \\\n",
       "0  [[[62.4, 51.0], [78.0, 49.64]], [[79.04, 61.2]...   \n",
       "1  [[[74.88, 48.28], [95.68, 63.92]], [[43.68, 58...   \n",
       "2  [[[32.24, 57.8], [94.64, 8.84]], [[37.44, 55.7...   \n",
       "3  [[[30.16, 6.12], [69.68, 20.4]], [[87.36, 60.5...   \n",
       "4  [[[27.04, 58.48], [76.96, 68.0]], [[34.32, 42....   \n",
       "\n",
       "                                   proginaccpassvaep  proginaccpass  \n",
       "0  [-0.00956201646476984, -0.007710381411015987, ...             91  \n",
       "1  [-0.018855780363082886, -0.0001047381665557622...             17  \n",
       "2  [-0.00017496920190751553, -0.00290540279820561...             14  \n",
       "3  [0.0008075747173279524, -0.011176194064319134,...             46  \n",
       "4  [-0.0029905715491622686, 0.0004464306402951479...             74  "
      ]
     },
     "execution_count": 244,
     "metadata": {},
     "output_type": "execute_result"
    }
   ],
   "source": [
    "defender_attrs_lcb.head()"
   ]
  },
  {
   "cell_type": "code",
   "execution_count": 245,
   "metadata": {},
   "outputs": [
    {
     "data": {
      "text/plain": [
       "22"
      ]
     },
     "execution_count": 245,
     "metadata": {},
     "output_type": "execute_result"
    }
   ],
   "source": [
    "def_cols = defender_attrs_lcb.columns\n",
    "len(def_cols)"
   ]
  },
  {
   "cell_type": "code",
   "execution_count": 246,
   "metadata": {},
   "outputs": [
    {
     "name": "stdout",
     "output_type": "stream",
     "text": [
      "22\n"
     ]
    }
   ],
   "source": [
    "new_def_cols = ['index','player_name','team','position','footedness','matches_played','passes','accpass','progaccpass','proginaccpass',\n",
    "                'accpassloc','inaccpassloc','progaccpassloc','proginaccpassloc','accpassvaep','inaccpassvaep','progaccpassvaep','proginaccpassvaep',\n",
    "                'accpassoff','inaccpassoff','accpassdef','inaccpassdef']\n",
    "print(len(new_def_cols))\n",
    "defender_attrs_lcb = defender_attrs_lcb[new_def_cols]"
   ]
  },
  {
   "cell_type": "code",
   "execution_count": 247,
   "metadata": {},
   "outputs": [],
   "source": [
    "# Saving dataframe in data folder\n",
    "defender_attrs_lcb.to_pickle('../data/defender_clusters/defender_attrs_lcb_prog.pkl')"
   ]
  },
  {
   "cell_type": "code",
   "execution_count": 248,
   "metadata": {},
   "outputs": [
    {
     "data": {
      "text/html": [
       "<div>\n",
       "<style scoped>\n",
       "    .dataframe tbody tr th:only-of-type {\n",
       "        vertical-align: middle;\n",
       "    }\n",
       "\n",
       "    .dataframe tbody tr th {\n",
       "        vertical-align: top;\n",
       "    }\n",
       "\n",
       "    .dataframe thead th {\n",
       "        text-align: right;\n",
       "    }\n",
       "</style>\n",
       "<table border=\"1\" class=\"dataframe\">\n",
       "  <thead>\n",
       "    <tr style=\"text-align: right;\">\n",
       "      <th></th>\n",
       "      <th>index</th>\n",
       "      <th>player_name</th>\n",
       "      <th>team</th>\n",
       "      <th>position</th>\n",
       "      <th>footedness</th>\n",
       "      <th>matches_played</th>\n",
       "      <th>passes</th>\n",
       "      <th>accpass</th>\n",
       "      <th>progaccpass</th>\n",
       "      <th>proginaccpass</th>\n",
       "      <th>accpassloc</th>\n",
       "      <th>inaccpassloc</th>\n",
       "      <th>progaccpassloc</th>\n",
       "      <th>proginaccpassloc</th>\n",
       "      <th>accpassvaep</th>\n",
       "      <th>inaccpassvaep</th>\n",
       "      <th>progaccpassvaep</th>\n",
       "      <th>proginaccpassvaep</th>\n",
       "      <th>accpassoff</th>\n",
       "      <th>inaccpassoff</th>\n",
       "      <th>accpassdef</th>\n",
       "      <th>inaccpassdef</th>\n",
       "    </tr>\n",
       "  </thead>\n",
       "  <tbody>\n",
       "    <tr>\n",
       "      <th>84</th>\n",
       "      <td>328</td>\n",
       "      <td>SebastianProdl</td>\n",
       "      <td>Watford</td>\n",
       "      <td>L_CB</td>\n",
       "      <td>right</td>\n",
       "      <td>1.0</td>\n",
       "      <td>23</td>\n",
       "      <td>20</td>\n",
       "      <td>4</td>\n",
       "      <td>0</td>\n",
       "      <td>[[[33.28, 42.16], [46.8, 51.68]], [[30.16, 37....</td>\n",
       "      <td>[[[33.28, 12.24], [33.28, 10.2]], [[44.72, 31....</td>\n",
       "      <td>[[[31.2, 38.76], [40.56, 9.52]], [[29.12, 45.5...</td>\n",
       "      <td>[]</td>\n",
       "      <td>[0.0012551185209304094, -0.001588225713931024,...</td>\n",
       "      <td>[-0.008191711269319057, -0.005829870700836182,...</td>\n",
       "      <td>[0.0012825950980186462, 0.007226516958326101, ...</td>\n",
       "      <td>[]</td>\n",
       "      <td>[0.0013731876388192177, -0.0008652694523334503...</td>\n",
       "      <td>[-0.0013740502763539553, -0.003711424069479108...</td>\n",
       "      <td>[-0.00011806911788880825, -0.00072295626159757...</td>\n",
       "      <td>[-0.006817661225795746, -0.00211844639852643, ...</td>\n",
       "    </tr>\n",
       "    <tr>\n",
       "      <th>91</th>\n",
       "      <td>363</td>\n",
       "      <td>VincentKompany</td>\n",
       "      <td>Man City</td>\n",
       "      <td>L_CB</td>\n",
       "      <td>right</td>\n",
       "      <td>1.0</td>\n",
       "      <td>81</td>\n",
       "      <td>81</td>\n",
       "      <td>10</td>\n",
       "      <td>0</td>\n",
       "      <td>[[[28.08, 38.76], [29.12, 18.36]], [[31.2, 45....</td>\n",
       "      <td>[]</td>\n",
       "      <td>[[[33.28, 49.64], [68.64, 47.6]], [[53.04, 44....</td>\n",
       "      <td>[]</td>\n",
       "      <td>[0.00015552854165434837, 0.004266505129635334,...</td>\n",
       "      <td>[]</td>\n",
       "      <td>[0.010318076238036156, 0.003410935401916504, 0...</td>\n",
       "      <td>[]</td>\n",
       "      <td>[0.000225903932005167, 0.004114686977118254, 0...</td>\n",
       "      <td>[]</td>\n",
       "      <td>[-7.037539035081863e-05, 0.0001518179196864366...</td>\n",
       "      <td>[]</td>\n",
       "    </tr>\n",
       "  </tbody>\n",
       "</table>\n",
       "</div>"
      ],
      "text/plain": [
       "    index     player_name      team position footedness  matches_played  \\\n",
       "84    328  SebastianProdl   Watford     L_CB      right             1.0   \n",
       "91    363  VincentKompany  Man City     L_CB      right             1.0   \n",
       "\n",
       "    passes  accpass  progaccpass  proginaccpass  \\\n",
       "84      23       20            4              0   \n",
       "91      81       81           10              0   \n",
       "\n",
       "                                           accpassloc  \\\n",
       "84  [[[33.28, 42.16], [46.8, 51.68]], [[30.16, 37....   \n",
       "91  [[[28.08, 38.76], [29.12, 18.36]], [[31.2, 45....   \n",
       "\n",
       "                                         inaccpassloc  \\\n",
       "84  [[[33.28, 12.24], [33.28, 10.2]], [[44.72, 31....   \n",
       "91                                                 []   \n",
       "\n",
       "                                       progaccpassloc proginaccpassloc  \\\n",
       "84  [[[31.2, 38.76], [40.56, 9.52]], [[29.12, 45.5...               []   \n",
       "91  [[[33.28, 49.64], [68.64, 47.6]], [[53.04, 44....               []   \n",
       "\n",
       "                                          accpassvaep  \\\n",
       "84  [0.0012551185209304094, -0.001588225713931024,...   \n",
       "91  [0.00015552854165434837, 0.004266505129635334,...   \n",
       "\n",
       "                                        inaccpassvaep  \\\n",
       "84  [-0.008191711269319057, -0.005829870700836182,...   \n",
       "91                                                 []   \n",
       "\n",
       "                                      progaccpassvaep proginaccpassvaep  \\\n",
       "84  [0.0012825950980186462, 0.007226516958326101, ...                []   \n",
       "91  [0.010318076238036156, 0.003410935401916504, 0...                []   \n",
       "\n",
       "                                           accpassoff  \\\n",
       "84  [0.0013731876388192177, -0.0008652694523334503...   \n",
       "91  [0.000225903932005167, 0.004114686977118254, 0...   \n",
       "\n",
       "                                         inaccpassoff  \\\n",
       "84  [-0.0013740502763539553, -0.003711424069479108...   \n",
       "91                                                 []   \n",
       "\n",
       "                                           accpassdef  \\\n",
       "84  [-0.00011806911788880825, -0.00072295626159757...   \n",
       "91  [-7.037539035081863e-05, 0.0001518179196864366...   \n",
       "\n",
       "                                         inaccpassdef  \n",
       "84  [-0.006817661225795746, -0.00211844639852643, ...  \n",
       "91                                                 []  "
      ]
     },
     "execution_count": 248,
     "metadata": {},
     "output_type": "execute_result"
    }
   ],
   "source": [
    "defender_attrs_lcb.loc[defender_attrs_lcb['proginaccpass']==0]"
   ]
  },
  {
   "cell_type": "code",
   "execution_count": 249,
   "metadata": {},
   "outputs": [],
   "source": [
    "# Function to get x and y coordinates of pass locations\n",
    "def getxy(locs):\n",
    "    x = list()\n",
    "    y = list()\n",
    "    for p in locs:\n",
    "        x.append(p[0])\n",
    "        y.append(p[1])\n",
    "    return x,y"
   ]
  },
  {
   "cell_type": "code",
   "execution_count": 250,
   "metadata": {},
   "outputs": [],
   "source": [
    "# Function to calcuate total value added by passes in each of the following regions:\n",
    "#  ( x - length of the pitch) (y - width of the pitch)\n",
    "# Right Flank Attack - x >= 52 and y <= 17\n",
    "# Right Flank Defence - x < 52 and y <= 17\n",
    "# Right Central Attack - x >= 52 and y > 17 and y <= 34\n",
    "# Right Central Defence - x < 52 and y > 17 and y <= 34\n",
    "# Left Central Attack - x >= 52 and y > 34 and y <= 51\n",
    "# Left Central Defence - x < 52 and y > 34 and y <= 51\n",
    "# Left Flank Attack - x >= 52 and y > 51 and y <= 68\n",
    "# Left Flank Defence - x < 52 and y > 51 and y <= 68\n",
    "def get_vaep_region(x,y,vaep):\n",
    "    vaep_rightflank_attack, vaep_rightflank_defence, vaep_rightcentral_attack, vaep_rightcentral_defence, vaep_leftcentral_attack, vaep_leftcentral_defence, vaep_leftflank_attack, vaep_leftflank_defence= 0,0,0,0,0,0,0,0\n",
    "    if vaep!= []:\n",
    "        vaep_rightflank_attack = np.sum([vaep[i] for i in range(len(x)) if (x[i]>=52) and (y[i]<=17)])\n",
    "        vaep_rightflank_defence = np.sum([vaep[i] for i in range(len(x)) if (x[i]<52) and (y[i]<=17)])\n",
    "        vaep_rightcentral_attack = np.sum([vaep[i] for i in range(len(x)) if (x[i]>=52) and (y[i]>17) and (y[i]<=34)])\n",
    "        vaep_rightcentral_defence = np.sum([vaep[i] for i in range(len(x)) if (x[i]<52) and (y[i]>17) and (y[i]<=34)])\n",
    "        vaep_leftcentral_attack = np.sum([vaep[i] for i in range(len(x)) if (x[i]>=52) and (y[i]>34) and (y[i]<=51)])\n",
    "        vaep_leftcentral_defence = np.sum([vaep[i] for i in range(len(x)) if (x[i]<52) and (y[i]>34) and (y[i]<=51)])\n",
    "        vaep_leftflank_attack = np.sum([vaep[i] for i in range(len(x)) if (x[i]>=52) and (y[i]>51) and (y[i]<=68)])\n",
    "        vaep_leftflank_defence = np.sum([vaep[i] for i in range(len(x)) if (x[i]<52) and (y[i]>51) and (y[i]<=68)])\n",
    "    \n",
    "    return [vaep_leftflank_defence,vaep_leftcentral_defence,vaep_rightcentral_defence,vaep_rightflank_defence,vaep_leftflank_attack,vaep_leftcentral_attack,vaep_rightcentral_attack,vaep_rightflank_attack]"
   ]
  },
  {
   "cell_type": "code",
   "execution_count": 251,
   "metadata": {},
   "outputs": [],
   "source": [
    "# Function to get total number of progressive pass made in each of the following regions:\n",
    "#  ( x - length of the pitch) (y - width of the pitch)\n",
    "# Right Flank Attack - x >= 52 and y <= 17\n",
    "# Right Flank Defence - x < 52 and y <= 17\n",
    "# Right Central Attack - x >= 52 and y > 17 and y <= 34\n",
    "# Right Central Defence - x < 52 and y > 17 and y <= 34\n",
    "# Left Central Attack - x >= 52 and y > 34 and y <= 51\n",
    "# Left Central Defence - x < 52 and y > 34 and y <= 51\n",
    "# Left Flank Attack - x >= 52 and y > 51 and y <= 68\n",
    "# Left Flank Defence - x < 52 and y > 51 and y <= 68\n",
    "def get_prog_pass_region(x,y):\n",
    "    x_rightflank_attack, x_rightflank_def, x_leftflank_attack, x_leftflank_def, x_rightcentral_attack, x_rightcentral_def, x_leftcentral_attack, x_leftcentral_def = list(),list(),list(),list(),list(),list(),list(),list()\n",
    "    if x!=[]:\n",
    "        x_rightflank_attack = [\n",
    "            x[i] for i in range(len(x)) if (x[i] >= 52) and (y[i] <= 17)]\n",
    "        y_rightflank_attack = [\n",
    "            y[i] for i in range(len(x)) if (x[i] >= 52) and (y[i] <= 17)]\n",
    "        x_rightflank_def = [\n",
    "            x[i] for i in range(len(x)) if (x[i] < 52) and (y[i] <= 17)]\n",
    "        y_rightflank_def = [\n",
    "            y[i] for i in range(len(x)) if (x[i] < 52) and (y[i] <= 17)]\n",
    "        x_leftflank_attack = [\n",
    "            x[i] for i in range(len(x)) if (x[i] >= 52) and (y[i] > 51)]\n",
    "        y_leftflank_attack = [\n",
    "            y[i] for i in range(len(x)) if (x[i] >= 52) and (y[i] > 51)]\n",
    "        x_leftflank_def = [\n",
    "            x[i] for i in range(len(x)) if (x[i] < 52) and (y[i] > 51)]\n",
    "        y_leftflank_def = [\n",
    "            y[i] for i in range(len(x)) if (x[i] < 52) and (y[i] > 51)]\n",
    "        x_rightcentral_attack = [\n",
    "            x[i] for i in range(len(x))\n",
    "            if (x[i] >= 52) and (y[i] > 17) and (y[i] <= 34)]\n",
    "        y_rightcentral_attack = [\n",
    "            y[i] for i in range(len(x))\n",
    "            if (x[i] >= 52) and (y[i] > 17) and (y[i] <= 34)]\n",
    "        x_rightcentral_def = [\n",
    "            x[i] for i in range(len(x))\n",
    "            if (x[i] < 52) and (y[i] > 17) and (y[i] <= 34)]\n",
    "        y_rightcentral_def = [\n",
    "            y[i] for i in range(len(x))\n",
    "            if (x[i] < 52) and (y[i] > 17) and (y[i] <= 34)]\n",
    "        x_leftcentral_attack = [\n",
    "            x[i] for i in range(len(x))\n",
    "            if (x[i] >= 52) and (y[i] > 34) and (y[i] <= 51)]\n",
    "        y_leftcentral_attack = [\n",
    "            y[i] for i in range(len(x))\n",
    "            if (x[i] >= 52) and (y[i] > 34) and (y[i] <= 51)]\n",
    "        x_leftcentral_def = [\n",
    "            x[i] for i in range(len(x))\n",
    "            if (x[i] < 52) and (y[i] > 34) and (y[i] <= 51)]\n",
    "        y_leftcentral_def = [\n",
    "            y[i] for i in range(len(x))\n",
    "            if (x[i] < 52) and (y[i] > 34) and (y[i] <= 51)]\n",
    "    return [len(x_leftflank_def), len(x_leftcentral_def),\n",
    "        len(x_rightcentral_def), len(x_rightflank_def), \n",
    "        len(x_leftflank_attack), len(x_leftcentral_attack), \n",
    "        len(x_rightcentral_attack), len(x_rightflank_attack)]"
   ]
  },
  {
   "cell_type": "code",
   "execution_count": 303,
   "metadata": {},
   "outputs": [],
   "source": [
    "# Function to calculate progressive passes per region and vaep value per region\n",
    "# Note: vaep value is divided by the number of progresssive passes and scaled to 10000 to make the value significant\n",
    "def get_region_wise(locs,vaep):\n",
    "    locs_start, locs_end = getstartend(locs)\n",
    "    locs_x, locs_y = getxy(locs_end)\n",
    "    vaep_region = get_vaep_region(locs_x,locs_y,vaep)\n",
    "    prog_region = get_prog_pass_region(locs_x,locs_y)\n",
    "    vaep_region_per_pass = list()\n",
    "    print(vaep_region)\n",
    "    print(prog_region)\n",
    "    prog_region_per_pass = list()\n",
    "    if prog_region !=[]:\n",
    "        for i,j in zip(vaep_region,prog_region):\n",
    "            if j == 0:\n",
    "                vaep_region_per_pass.append(0)\n",
    "                prog_region_per_pass.append(j)\n",
    "            else:\n",
    "                vaep_region_per_pass.append((i/j)*1000)\n",
    "                prog_region_per_pass.append(np.round(j/len(locs_x)*100,2))\n",
    "    else:\n",
    "        vaep_region_per_pass = list()\n",
    "        prog_region_per_pass = list()\n",
    "    return pd.Series([prog_region_per_pass,vaep_region_per_pass])"
   ]
  },
  {
   "cell_type": "code",
   "execution_count": 298,
   "metadata": {},
   "outputs": [],
   "source": [
    "defender_attrs_lcb[['prog_acc_region_per_pass','vaep_acc_region_per_pass']] = defender_attrs_lcb.apply(lambda x: get_region_wise(x['progaccpassloc'],x['progaccpassvaep']), axis = 1)"
   ]
  },
  {
   "cell_type": "code",
   "execution_count": 299,
   "metadata": {},
   "outputs": [],
   "source": [
    "defender_attrs_lcb[['prog_inacc_region_per_pass','vaep_inacc_region_per_pass']] = defender_attrs_lcb.apply(lambda x: get_region_wise(x['proginaccpassloc'],x['proginaccpassvaep']), axis = 1)"
   ]
  },
  {
   "cell_type": "code",
   "execution_count": 314,
   "metadata": {},
   "outputs": [
    {
     "data": {
      "text/html": [
       "<div>\n",
       "<style scoped>\n",
       "    .dataframe tbody tr th:only-of-type {\n",
       "        vertical-align: middle;\n",
       "    }\n",
       "\n",
       "    .dataframe tbody tr th {\n",
       "        vertical-align: top;\n",
       "    }\n",
       "\n",
       "    .dataframe thead th {\n",
       "        text-align: right;\n",
       "    }\n",
       "</style>\n",
       "<table border=\"1\" class=\"dataframe\">\n",
       "  <thead>\n",
       "    <tr style=\"text-align: right;\">\n",
       "      <th></th>\n",
       "      <th>index</th>\n",
       "      <th>player_name</th>\n",
       "      <th>team</th>\n",
       "      <th>position</th>\n",
       "      <th>footedness</th>\n",
       "      <th>matches_played</th>\n",
       "      <th>passes</th>\n",
       "      <th>accpass</th>\n",
       "      <th>progaccpass</th>\n",
       "      <th>proginaccpass</th>\n",
       "      <th>accpassloc</th>\n",
       "      <th>inaccpassloc</th>\n",
       "      <th>progaccpassloc</th>\n",
       "      <th>proginaccpassloc</th>\n",
       "      <th>accpassvaep</th>\n",
       "      <th>inaccpassvaep</th>\n",
       "      <th>progaccpassvaep</th>\n",
       "      <th>proginaccpassvaep</th>\n",
       "      <th>accpassoff</th>\n",
       "      <th>inaccpassoff</th>\n",
       "      <th>accpassdef</th>\n",
       "      <th>inaccpassdef</th>\n",
       "      <th>prog_acc_region_per_pass</th>\n",
       "      <th>vaep_acc_region_per_pass</th>\n",
       "      <th>prog_inacc_region_per_pass</th>\n",
       "      <th>vaep_inacc_region_per_pass</th>\n",
       "    </tr>\n",
       "  </thead>\n",
       "  <tbody>\n",
       "    <tr>\n",
       "      <th>74</th>\n",
       "      <td>299</td>\n",
       "      <td>PhilJagielka</td>\n",
       "      <td>Everton</td>\n",
       "      <td>LCB</td>\n",
       "      <td>right</td>\n",
       "      <td>5.0</td>\n",
       "      <td>214</td>\n",
       "      <td>175</td>\n",
       "      <td>27</td>\n",
       "      <td>24</td>\n",
       "      <td>[[[58.24, 53.72], [82.16, 65.28]], [[35.36, 53...</td>\n",
       "      <td>[[[66.56, 55.76], [69.68, 63.92]], [[56.16, 37...</td>\n",
       "      <td>[[[58.24, 53.72], [82.16, 65.28]], [[35.36, 53...</td>\n",
       "      <td>[[[56.16, 37.4], [84.24, 0.0]], [[68.64, 63.24...</td>\n",
       "      <td>[0.008599482476711273, 0.022498972713947296, 0...</td>\n",
       "      <td>[-0.008396713994443417, -0.005283269099891186,...</td>\n",
       "      <td>[0.008599482476711273, 0.022498972713947296, 0...</td>\n",
       "      <td>[-0.005283269099891186, -0.001877572387456894,...</td>\n",
       "      <td>[0.008826701901853085, 0.02269110456109047, -5...</td>\n",
       "      <td>[-0.007336145266890526, -0.0040450384840369225...</td>\n",
       "      <td>[-0.00022721965797245502, -0.00019213254563510...</td>\n",
       "      <td>[-0.0010605684947222471, -0.001238230615854263...</td>\n",
       "      <td>[0, 0, 7.41, 7.41, 51.85, 7.41, 11.11, 14.81]</td>\n",
       "      <td>[0, 0, 0.40698132943362, 0.4419174510985613, 3...</td>\n",
       "      <td>[0, 0, 0, 8.33, 41.67, 16.67, 25.0, 8.33]</td>\n",
       "      <td>[0, 0, 0, 0.0942691694945097, -3.9796327706426...</td>\n",
       "    </tr>\n",
       "    <tr>\n",
       "      <th>75</th>\n",
       "      <td>300</td>\n",
       "      <td>PhilJagielka</td>\n",
       "      <td>Everton</td>\n",
       "      <td>L_CB</td>\n",
       "      <td>right</td>\n",
       "      <td>3.0</td>\n",
       "      <td>137</td>\n",
       "      <td>115</td>\n",
       "      <td>21</td>\n",
       "      <td>12</td>\n",
       "      <td>[[[32.24, 23.8], [78.0, 62.56]], [[29.12, 16.3...</td>\n",
       "      <td>[[[49.92, 38.76], [57.2, 34.0]], [[33.28, 59.8...</td>\n",
       "      <td>[[[32.24, 23.8], [78.0, 62.56]], [[31.2, 42.16...</td>\n",
       "      <td>[[[33.28, 59.84], [82.16, 68.0]], [[35.36, 12....</td>\n",
       "      <td>[0.0014737112214788795, 0.00043574022129178047...</td>\n",
       "      <td>[-0.005304944701492786, 0.0004886285169050097,...</td>\n",
       "      <td>[0.0014737112214788795, 0.00316765159368515, 0...</td>\n",
       "      <td>[0.0004886285169050097, -0.0013016925659030676...</td>\n",
       "      <td>[0.002631674986332655, 0.00029113423079252243,...</td>\n",
       "      <td>[-0.0019602153915911913, 0.0003693000180646777...</td>\n",
       "      <td>[-0.0011579637648537755, 0.0001446059904992580...</td>\n",
       "      <td>[-0.003344729309901595, 0.00011932849884033203...</td>\n",
       "      <td>[4.76, 0, 4.76, 23.81, 14.29, 19.05, 14.29, 19...</td>\n",
       "      <td>[2.8124223463237286, 0, 2.548219868913293, 2.2...</td>\n",
       "      <td>[0, 0, 0, 0, 58.33, 16.67, 0, 25.0]</td>\n",
       "      <td>[0, 0, 0, 0, 2.4802599800750613, 53.2246709335...</td>\n",
       "    </tr>\n",
       "  </tbody>\n",
       "</table>\n",
       "</div>"
      ],
      "text/plain": [
       "    index   player_name     team position footedness  matches_played  passes  \\\n",
       "74    299  PhilJagielka  Everton      LCB      right             5.0     214   \n",
       "75    300  PhilJagielka  Everton     L_CB      right             3.0     137   \n",
       "\n",
       "    accpass  progaccpass  proginaccpass  \\\n",
       "74      175           27             24   \n",
       "75      115           21             12   \n",
       "\n",
       "                                           accpassloc  \\\n",
       "74  [[[58.24, 53.72], [82.16, 65.28]], [[35.36, 53...   \n",
       "75  [[[32.24, 23.8], [78.0, 62.56]], [[29.12, 16.3...   \n",
       "\n",
       "                                         inaccpassloc  \\\n",
       "74  [[[66.56, 55.76], [69.68, 63.92]], [[56.16, 37...   \n",
       "75  [[[49.92, 38.76], [57.2, 34.0]], [[33.28, 59.8...   \n",
       "\n",
       "                                       progaccpassloc  \\\n",
       "74  [[[58.24, 53.72], [82.16, 65.28]], [[35.36, 53...   \n",
       "75  [[[32.24, 23.8], [78.0, 62.56]], [[31.2, 42.16...   \n",
       "\n",
       "                                     proginaccpassloc  \\\n",
       "74  [[[56.16, 37.4], [84.24, 0.0]], [[68.64, 63.24...   \n",
       "75  [[[33.28, 59.84], [82.16, 68.0]], [[35.36, 12....   \n",
       "\n",
       "                                          accpassvaep  \\\n",
       "74  [0.008599482476711273, 0.022498972713947296, 0...   \n",
       "75  [0.0014737112214788795, 0.00043574022129178047...   \n",
       "\n",
       "                                        inaccpassvaep  \\\n",
       "74  [-0.008396713994443417, -0.005283269099891186,...   \n",
       "75  [-0.005304944701492786, 0.0004886285169050097,...   \n",
       "\n",
       "                                      progaccpassvaep  \\\n",
       "74  [0.008599482476711273, 0.022498972713947296, 0...   \n",
       "75  [0.0014737112214788795, 0.00316765159368515, 0...   \n",
       "\n",
       "                                    proginaccpassvaep  \\\n",
       "74  [-0.005283269099891186, -0.001877572387456894,...   \n",
       "75  [0.0004886285169050097, -0.0013016925659030676...   \n",
       "\n",
       "                                           accpassoff  \\\n",
       "74  [0.008826701901853085, 0.02269110456109047, -5...   \n",
       "75  [0.002631674986332655, 0.00029113423079252243,...   \n",
       "\n",
       "                                         inaccpassoff  \\\n",
       "74  [-0.007336145266890526, -0.0040450384840369225...   \n",
       "75  [-0.0019602153915911913, 0.0003693000180646777...   \n",
       "\n",
       "                                           accpassdef  \\\n",
       "74  [-0.00022721965797245502, -0.00019213254563510...   \n",
       "75  [-0.0011579637648537755, 0.0001446059904992580...   \n",
       "\n",
       "                                         inaccpassdef  \\\n",
       "74  [-0.0010605684947222471, -0.001238230615854263...   \n",
       "75  [-0.003344729309901595, 0.00011932849884033203...   \n",
       "\n",
       "                             prog_acc_region_per_pass  \\\n",
       "74      [0, 0, 7.41, 7.41, 51.85, 7.41, 11.11, 14.81]   \n",
       "75  [4.76, 0, 4.76, 23.81, 14.29, 19.05, 14.29, 19...   \n",
       "\n",
       "                             vaep_acc_region_per_pass  \\\n",
       "74  [0, 0, 0.40698132943362, 0.4419174510985613, 3...   \n",
       "75  [2.8124223463237286, 0, 2.548219868913293, 2.2...   \n",
       "\n",
       "                   prog_inacc_region_per_pass  \\\n",
       "74  [0, 0, 0, 8.33, 41.67, 16.67, 25.0, 8.33]   \n",
       "75        [0, 0, 0, 0, 58.33, 16.67, 0, 25.0]   \n",
       "\n",
       "                           vaep_inacc_region_per_pass  \n",
       "74  [0, 0, 0, 0.0942691694945097, -3.9796327706426...  \n",
       "75  [0, 0, 0, 0, 2.4802599800750613, 53.2246709335...  "
      ]
     },
     "execution_count": 314,
     "metadata": {},
     "output_type": "execute_result"
    }
   ],
   "source": [
    "defender_attrs_lcb.loc[defender_attrs_lcb['player_name'].str.contains('PhilJag')]"
   ]
  },
  {
   "cell_type": "code",
   "execution_count": 316,
   "metadata": {},
   "outputs": [
    {
     "data": {
      "text/html": [
       "<div>\n",
       "<style scoped>\n",
       "    .dataframe tbody tr th:only-of-type {\n",
       "        vertical-align: middle;\n",
       "    }\n",
       "\n",
       "    .dataframe tbody tr th {\n",
       "        vertical-align: top;\n",
       "    }\n",
       "\n",
       "    .dataframe thead th {\n",
       "        text-align: right;\n",
       "    }\n",
       "</style>\n",
       "<table border=\"1\" class=\"dataframe\">\n",
       "  <thead>\n",
       "    <tr style=\"text-align: right;\">\n",
       "      <th></th>\n",
       "      <th>index</th>\n",
       "      <th>player_name</th>\n",
       "      <th>team</th>\n",
       "      <th>position</th>\n",
       "      <th>footedness</th>\n",
       "      <th>matches_played</th>\n",
       "      <th>passes</th>\n",
       "      <th>accpass</th>\n",
       "      <th>progaccpass</th>\n",
       "      <th>proginaccpass</th>\n",
       "      <th>accpassloc</th>\n",
       "      <th>inaccpassloc</th>\n",
       "      <th>progaccpassloc</th>\n",
       "      <th>proginaccpassloc</th>\n",
       "      <th>accpassvaep</th>\n",
       "      <th>inaccpassvaep</th>\n",
       "      <th>progaccpassvaep</th>\n",
       "      <th>proginaccpassvaep</th>\n",
       "      <th>accpassoff</th>\n",
       "      <th>inaccpassoff</th>\n",
       "      <th>accpassdef</th>\n",
       "      <th>inaccpassdef</th>\n",
       "      <th>prog_acc_region_per_pass</th>\n",
       "      <th>vaep_acc_region_per_pass</th>\n",
       "      <th>prog_inacc_region_per_pass</th>\n",
       "      <th>vaep_inacc_region_per_pass</th>\n",
       "    </tr>\n",
       "  </thead>\n",
       "  <tbody>\n",
       "    <tr>\n",
       "      <th>0</th>\n",
       "      <td>1</td>\n",
       "      <td>AaronCresswell</td>\n",
       "      <td>West Ham</td>\n",
       "      <td>LCB</td>\n",
       "      <td>left</td>\n",
       "      <td>20.0</td>\n",
       "      <td>796</td>\n",
       "      <td>644</td>\n",
       "      <td>184</td>\n",
       "      <td>91</td>\n",
       "      <td>[[[27.04, 51.68], [55.12, 64.6]], [[65.52, 61....</td>\n",
       "      <td>[[[62.4, 51.0], [78.0, 49.64]], [[79.04, 61.2]...</td>\n",
       "      <td>[[[27.04, 51.68], [55.12, 64.6]], [[61.36, 59....</td>\n",
       "      <td>[[[62.4, 51.0], [78.0, 49.64]], [[79.04, 61.2]...</td>\n",
       "      <td>[0.0010694738011807203, 0.002371369395405054, ...</td>\n",
       "      <td>[-0.00956201646476984, -0.007710381411015987, ...</td>\n",
       "      <td>[0.0010694738011807203, 0.002284318208694458, ...</td>\n",
       "      <td>[-0.00956201646476984, -0.007710381411015987, ...</td>\n",
       "      <td>[0.0018120664171874523, 0.002711281180381775, ...</td>\n",
       "      <td>[-0.006647953763604164, -0.006097717210650444,...</td>\n",
       "      <td>[-0.0007425926742143929, -0.000339911784976720...</td>\n",
       "      <td>[-0.002914062701165676, -0.001612664433196187,...</td>\n",
       "      <td>[1.63, 0, 0.54, 0, 66.3, 19.57, 8.15, 3.8]</td>\n",
       "      <td>[16.502801328897476, 0, 3.1730758491903543, 0,...</td>\n",
       "      <td>[2.2, 3.3, 0, 2.2, 37.36, 36.26, 10.99, 7.69]</td>\n",
       "      <td>[-0.38534030318260193, 1.5773851579676073, 0, ...</td>\n",
       "    </tr>\n",
       "  </tbody>\n",
       "</table>\n",
       "</div>"
      ],
      "text/plain": [
       "   index     player_name      team position footedness  matches_played  \\\n",
       "0      1  AaronCresswell  West Ham      LCB       left            20.0   \n",
       "\n",
       "   passes  accpass  progaccpass  proginaccpass  \\\n",
       "0     796      644          184             91   \n",
       "\n",
       "                                          accpassloc  \\\n",
       "0  [[[27.04, 51.68], [55.12, 64.6]], [[65.52, 61....   \n",
       "\n",
       "                                        inaccpassloc  \\\n",
       "0  [[[62.4, 51.0], [78.0, 49.64]], [[79.04, 61.2]...   \n",
       "\n",
       "                                      progaccpassloc  \\\n",
       "0  [[[27.04, 51.68], [55.12, 64.6]], [[61.36, 59....   \n",
       "\n",
       "                                    proginaccpassloc  \\\n",
       "0  [[[62.4, 51.0], [78.0, 49.64]], [[79.04, 61.2]...   \n",
       "\n",
       "                                         accpassvaep  \\\n",
       "0  [0.0010694738011807203, 0.002371369395405054, ...   \n",
       "\n",
       "                                       inaccpassvaep  \\\n",
       "0  [-0.00956201646476984, -0.007710381411015987, ...   \n",
       "\n",
       "                                     progaccpassvaep  \\\n",
       "0  [0.0010694738011807203, 0.002284318208694458, ...   \n",
       "\n",
       "                                   proginaccpassvaep  \\\n",
       "0  [-0.00956201646476984, -0.007710381411015987, ...   \n",
       "\n",
       "                                          accpassoff  \\\n",
       "0  [0.0018120664171874523, 0.002711281180381775, ...   \n",
       "\n",
       "                                        inaccpassoff  \\\n",
       "0  [-0.006647953763604164, -0.006097717210650444,...   \n",
       "\n",
       "                                          accpassdef  \\\n",
       "0  [-0.0007425926742143929, -0.000339911784976720...   \n",
       "\n",
       "                                        inaccpassdef  \\\n",
       "0  [-0.002914062701165676, -0.001612664433196187,...   \n",
       "\n",
       "                     prog_acc_region_per_pass  \\\n",
       "0  [1.63, 0, 0.54, 0, 66.3, 19.57, 8.15, 3.8]   \n",
       "\n",
       "                            vaep_acc_region_per_pass  \\\n",
       "0  [16.502801328897476, 0, 3.1730758491903543, 0,...   \n",
       "\n",
       "                      prog_inacc_region_per_pass  \\\n",
       "0  [2.2, 3.3, 0, 2.2, 37.36, 36.26, 10.99, 7.69]   \n",
       "\n",
       "                          vaep_inacc_region_per_pass  \n",
       "0  [-0.38534030318260193, 1.5773851579676073, 0, ...  "
      ]
     },
     "execution_count": 316,
     "metadata": {},
     "output_type": "execute_result"
    }
   ],
   "source": [
    "defender_attrs_lcb.loc[defender_attrs_lcb['player_name'].str.contains('Aaron')]"
   ]
  },
  {
   "cell_type": "code",
   "execution_count": 307,
   "metadata": {},
   "outputs": [
    {
     "name": "stdout",
     "output_type": "stream",
     "text": [
      "[0.0, 0.0, 0.0, 0.0, 0.01736181986052543, 0.10644934186711907, 0.0, -0.005105580668896437]\n",
      "[0, 0, 0, 0, 7, 2, 0, 3]\n"
     ]
    },
    {
     "data": {
      "text/plain": [
       "0                  [0, 0, 0, 0, 58.33, 16.67, 0, 25.0]\n",
       "1    [0, 0, 0, 0, 2.4802599800750613, 53.2246709335...\n",
       "dtype: object"
      ]
     },
     "execution_count": 307,
     "metadata": {},
     "output_type": "execute_result"
    }
   ],
   "source": [
    "get_region_wise(defender_attrs_lcb['proginaccpassloc'][75],defender_attrs_lcb['proginaccpassvaep'][75])"
   ]
  },
  {
   "cell_type": "code",
   "execution_count": 282,
   "metadata": {},
   "outputs": [],
   "source": [
    "# Saving the region wise pass and vaep dataframe\n",
    "defender_attrs_lcb.to_pickle('../data/defender_clusters/defender_attrs_lcb_region_wise.pkl')"
   ]
  },
  {
   "cell_type": "code",
   "execution_count": 283,
   "metadata": {
    "ExecuteTime": {
     "end_time": "2020-07-31T14:14:31.938252Z",
     "start_time": "2020-07-31T14:14:31.648179Z"
    }
   },
   "outputs": [],
   "source": [
    "defender_attrs_lcb = pd.read_pickle('../data/defender_clusters/defender_attrs_lcb_region_wise.pkl')"
   ]
  },
  {
   "cell_type": "code",
   "execution_count": 284,
   "metadata": {
    "ExecuteTime": {
     "end_time": "2020-07-31T14:14:34.807844Z",
     "start_time": "2020-07-31T14:14:34.762848Z"
    }
   },
   "outputs": [
    {
     "data": {
      "text/plain": [
       "95"
      ]
     },
     "execution_count": 284,
     "metadata": {},
     "output_type": "execute_result"
    }
   ],
   "source": [
    "len(defender_attrs_lcb)"
   ]
  },
  {
   "cell_type": "code",
   "execution_count": 285,
   "metadata": {
    "ExecuteTime": {
     "end_time": "2020-07-31T14:14:35.632123Z",
     "start_time": "2020-07-31T14:14:35.605807Z"
    }
   },
   "outputs": [
    {
     "data": {
      "text/plain": [
       "31"
      ]
     },
     "execution_count": 285,
     "metadata": {},
     "output_type": "execute_result"
    }
   ],
   "source": [
    "len(defender_attrs_lcb.loc[defender_attrs_lcb['matches_played']>=10])"
   ]
  },
  {
   "cell_type": "code",
   "execution_count": 287,
   "metadata": {
    "ExecuteTime": {
     "end_time": "2020-07-31T14:14:36.172248Z",
     "start_time": "2020-07-31T14:14:36.142728Z"
    }
   },
   "outputs": [
    {
     "data": {
      "text/plain": [
       "74"
      ]
     },
     "execution_count": 287,
     "metadata": {},
     "output_type": "execute_result"
    }
   ],
   "source": [
    "len(defender_attrs_lcb.loc[(defender_attrs_lcb['progaccpass'] + defender_attrs_lcb['proginaccpass']>=20)])"
   ]
  },
  {
   "cell_type": "code",
   "execution_count": 288,
   "metadata": {
    "ExecuteTime": {
     "end_time": "2020-07-31T14:14:37.311714Z",
     "start_time": "2020-07-31T14:14:37.303117Z"
    }
   },
   "outputs": [],
   "source": [
    "defender_attrs_lcb_plot = defender_attrs_lcb[['player_name','team','position','footedness','matches_played',\n",
    "                                              'progaccpass','proginaccpass','prog_acc_region_per_pass',\n",
    "                                              'vaep_acc_region_per_pass','prog_inacc_region_per_pass',\n",
    "                                              'vaep_inacc_region_per_pass']]"
   ]
  },
  {
   "cell_type": "code",
   "execution_count": 290,
   "metadata": {
    "ExecuteTime": {
     "end_time": "2020-07-31T14:14:38.768975Z",
     "start_time": "2020-07-31T14:14:38.761721Z"
    }
   },
   "outputs": [],
   "source": [
    "defender_attrs_lcb_plot = defender_attrs_lcb_plot.loc[defender_attrs_lcb_plot['progaccpass'] + defender_attrs_lcb['proginaccpass']>=20]"
   ]
  },
  {
   "cell_type": "code",
   "execution_count": 291,
   "metadata": {},
   "outputs": [
    {
     "data": {
      "text/plain": [
       "[('AaronCresswell', 'LCB'),\n",
       " ('AdrianMariappa', 'L_CB'),\n",
       " ('AhmedHegazi', 'LCB'),\n",
       " ('AhmedHegazi', 'L_CB'),\n",
       " ('AlfieMawson', 'LCB'),\n",
       " ('AlfieMawson', 'L_CB'),\n",
       " ('AngeloOgbonna', 'LCB'),\n",
       " ('AngeloOgbonna', 'L_CB'),\n",
       " ('AntonioRudiger', 'LCB'),\n",
       " ('AshleyWilliams', 'L_CB'),\n",
       " ('AymericLaporte', 'L_CB'),\n",
       " ('BenMee', 'L_CB'),\n",
       " ('BrunoMartinsIndi', 'LCB'),\n",
       " ('BrunoMartinsIndi', 'L_CB'),\n",
       " ('CalumChambers', 'L_CB'),\n",
       " ('ChrisSmalling', 'L_CB'),\n",
       " ('ChristianKabasele', 'LCB'),\n",
       " ('ChristianKabasele', 'L_CB'),\n",
       " ('ChristopherSchindler', 'L_CB'),\n",
       " ('CiaranClark', 'LCB'),\n",
       " ('CiaranClark', 'L_CB'),\n",
       " ('DeclanRice', 'LCB'),\n",
       " ('DejanLovren', 'L_CB'),\n",
       " ('EliaquimMangala', 'L_CB'),\n",
       " ('ErikPieters', 'LCB'),\n",
       " ('FlorianLejeune', 'L_CB'),\n",
       " ('GaryCahill', 'LCB'),\n",
       " ('GeoffCameron', 'LCB'),\n",
       " ('HarryMaguire', 'L_CB'),\n",
       " ('JamesCollins', 'LCB'),\n",
       " ('JamesTarkowski', 'L_CB'),\n",
       " ('JamesTomkins', 'L_CB'),\n",
       " ('JanVertonghen', 'LCB'),\n",
       " ('JanVertonghen', 'L_CB'),\n",
       " ('JonnyEvans', 'LCB'),\n",
       " ('JonnyEvans', 'L_CB'),\n",
       " ('JoseHolebas', 'LCB'),\n",
       " ('KevinWimmer', 'LCB'),\n",
       " ('KevinWimmer', 'L_CB'),\n",
       " ('KurtZouma', 'L_CB'),\n",
       " ('LaurentKoscielny', 'LCB'),\n",
       " ('LaurentKoscielny', 'L_CB'),\n",
       " ('LewisDunk', 'L_CB'),\n",
       " ('MamadouSakho', 'L_CB'),\n",
       " ('MarcosRojo', 'L_CB'),\n",
       " ('MayaYoshida', 'L_CB'),\n",
       " ('MichaelKeane', 'L_CB'),\n",
       " ('MiguelBritos', 'LCB'),\n",
       " ('MiguelBritos', 'L_CB'),\n",
       " ('NachoMonreal', 'LCB'),\n",
       " ('NachoMonreal', 'L_CB'),\n",
       " ('NathanAke', 'LCB'),\n",
       " ('NathanAke', 'L_CB'),\n",
       " ('NicolasOtamendi', 'LCB'),\n",
       " ('NicolasOtamendi', 'L_CB'),\n",
       " ('PaulDummett', 'LCB'),\n",
       " ('PhilJagielka', 'LCB'),\n",
       " ('PhilJagielka', 'L_CB'),\n",
       " ('PhilJones', 'LCB'),\n",
       " ('PhilJones', 'L_CB'),\n",
       " ('RagnarKlavan', 'L_CB'),\n",
       " ('RobHolding', 'LCB'),\n",
       " ('RobHolding', 'L_CB'),\n",
       " ('ScottDann', 'L_CB'),\n",
       " ('SeadKolasinac', 'LCB'),\n",
       " ('ShkodranMustafi', 'L_CB'),\n",
       " ('TobyAlderweireld', 'L_CB'),\n",
       " ('TyroneMings', 'LCB'),\n",
       " ('VictorNilssonLindelof', 'L_CB'),\n",
       " ('VirgilvanDijk', 'L_CB'),\n",
       " ('VirgilvanDijk', 'L_CB'),\n",
       " ('WesleyHoedt', 'LCB'),\n",
       " ('WesleyHoedt', 'L_CB'),\n",
       " ('WinstonReid', 'L_CB')]"
      ]
     },
     "execution_count": 291,
     "metadata": {},
     "output_type": "execute_result"
    }
   ],
   "source": [
    "player_names = list(zip(defender_attrs_lcb_plot['player_name'].tolist(),defender_attrs_lcb_plot['position'].tolist()))\n",
    "player_names"
   ]
  },
  {
   "cell_type": "code",
   "execution_count": 292,
   "metadata": {
    "ExecuteTime": {
     "end_time": "2020-07-31T14:14:42.531723Z",
     "start_time": "2020-07-31T14:14:42.514576Z"
    }
   },
   "outputs": [],
   "source": [
    "# Function to plot scatter plots for preference over value addition across regions\n",
    "# Arguments : \n",
    "# prog_region -  A list of proggressive pasess per region (in percentage)\n",
    "# veap_region - A list of vaep values per region (scaled by 10000)\n",
    "# att_def - 'Attack' for attacking region and 'Defence' for defensive region\n",
    "def plot_preference_value_region(df,result_type='acc'):\n",
    "    regions = ['leftflank_def','leftcentral_def',\n",
    "           'rightcentral_def','rightflank_def',\n",
    "           'leftflank_attack','leftcentral_attack',\n",
    "           'rightcentral_attack','rightflank_attack']\n",
    "    for i in range(8):\n",
    "        prog_region = list()\n",
    "        vaep_region =list()\n",
    "        player_name_position = list()\n",
    "        if result_type == 'acc':\n",
    "            for idx, row in df.iterrows():\n",
    "                prog_region.append(row['prog_acc_region_per_pass'][i])\n",
    "                vaep_region.append(row['vaep_acc_region_per_pass'][i])\n",
    "                player_name_position.append(row['player_name'] + \" \" + row['position'] + \" \" + row['footedness'])\n",
    "        elif result_type == 'inacc':\n",
    "            for idx, row in df.iterrows():\n",
    "                prog_region.append(row['prog_inacc_region_per_pass'][i])\n",
    "                vaep_region.append(row['vaep_inacc_region_per_pass'][i])\n",
    "                player_name_position.append(row['player_name'] + \" \" + row['position'] + \" \" + row['footedness'])\n",
    "        fig = go.Figure()\n",
    "        fig.add_trace(go.Scatter(x = prog_region, y = vaep_region, text = player_name_position, name = 'Plot' + str(i), mode = 'markers'))\n",
    "        fig.update_layout(\n",
    "            annotations=[\n",
    "                dict(\n",
    "                x=0.5,\n",
    "                y=-0.15,\n",
    "                showarrow=False,\n",
    "                text = '% Progressive passes',\n",
    "                xref=\"paper\",\n",
    "                yref=\"paper\"),\n",
    "                dict(\n",
    "                x=-0.07,\n",
    "                y=0.5,\n",
    "                showarrow = False,\n",
    "                text = 'VAEP per progressive pass (scaled to 10000)',\n",
    "                textangle = -90,\n",
    "                xref=\"paper\",\n",
    "                yref=\"paper\")\n",
    "            ],\n",
    "            autosize=True,\n",
    "            margin=dict(\n",
    "            b=100\n",
    "            ),\n",
    "            title_text = str(regions[i]))\n",
    "        fig.show()"
   ]
  },
  {
   "cell_type": "code",
   "execution_count": 293,
   "metadata": {
    "ExecuteTime": {
     "end_time": "2020-07-31T14:14:45.436983Z",
     "start_time": "2020-07-31T14:14:44.167656Z"
    }
   },
   "outputs": [
    {
     "data": {
      "application/vnd.plotly.v1+json": {
       "config": {
        "plotlyServerURL": "https://plot.ly"
       },
       "data": [
        {
         "mode": "markers",
         "name": "Plot0",
         "text": [
          "AaronCresswell LCB left",
          "AdrianMariappa L_CB right",
          "AhmedHegazi LCB right",
          "AhmedHegazi L_CB right",
          "AlfieMawson LCB right",
          "AlfieMawson L_CB right",
          "AngeloOgbonna LCB left",
          "AngeloOgbonna L_CB left",
          "AntonioRudiger LCB right",
          "AshleyWilliams L_CB right",
          "AymericLaporte L_CB left",
          "BenMee L_CB left",
          "BrunoMartinsIndi LCB left",
          "BrunoMartinsIndi L_CB left",
          "CalumChambers L_CB right",
          "ChrisSmalling L_CB right",
          "ChristianKabasele LCB right",
          "ChristianKabasele L_CB right",
          "ChristopherSchindler L_CB right",
          "CiaranClark LCB left",
          "CiaranClark L_CB left",
          "DeclanRice LCB right",
          "DejanLovren L_CB right",
          "EliaquimMangala L_CB left",
          "ErikPieters LCB left",
          "FlorianLejeune L_CB right",
          "GaryCahill LCB right",
          "GeoffCameron LCB right",
          "HarryMaguire L_CB right",
          "JamesCollins LCB right",
          "JamesTarkowski L_CB right",
          "JamesTomkins L_CB right",
          "JanVertonghen LCB left",
          "JanVertonghen L_CB left",
          "JonnyEvans LCB right",
          "JonnyEvans L_CB right",
          "JoseHolebas LCB left",
          "KevinWimmer LCB left",
          "KevinWimmer L_CB left",
          "KurtZouma L_CB right",
          "LaurentKoscielny LCB right",
          "LaurentKoscielny L_CB right",
          "LewisDunk L_CB right",
          "MamadouSakho L_CB left",
          "MarcosRojo L_CB left",
          "MayaYoshida L_CB right",
          "MichaelKeane L_CB right",
          "MiguelBritos LCB left",
          "MiguelBritos L_CB left",
          "NachoMonreal LCB left",
          "NachoMonreal L_CB left",
          "NathanAke LCB left",
          "NathanAke L_CB left",
          "NicolasOtamendi LCB right",
          "NicolasOtamendi L_CB right",
          "PaulDummett LCB left",
          "PhilJagielka LCB right",
          "PhilJagielka L_CB right",
          "PhilJones LCB right",
          "PhilJones L_CB right",
          "RagnarKlavan L_CB left",
          "RobHolding LCB right",
          "RobHolding L_CB right",
          "ScottDann L_CB right",
          "SeadKolasinac LCB left",
          "ShkodranMustafi L_CB right",
          "TobyAlderweireld L_CB right",
          "TyroneMings LCB left",
          "VictorNilssonLindelof L_CB right",
          "VirgilvanDijk L_CB right",
          "VirgilvanDijk L_CB right",
          "WesleyHoedt LCB left",
          "WesleyHoedt L_CB left",
          "WinstonReid L_CB right"
         ],
         "type": "scatter",
         "x": [
          2.2,
          0,
          0,
          2.17,
          4.05,
          2.82,
          12.5,
          0,
          1.69,
          0,
          0,
          6.58,
          0,
          0,
          0,
          0,
          0,
          2.56,
          2.35,
          0,
          6.76,
          10,
          0,
          0,
          0,
          4.84,
          0,
          0,
          0.7,
          0,
          2.7,
          9.09,
          4.55,
          5.26,
          0,
          5,
          0,
          3.23,
          0,
          6.25,
          0,
          0,
          0.69,
          6.06,
          0,
          16.67,
          4.17,
          0,
          0,
          2.63,
          0,
          8.33,
          7.14,
          0,
          4.76,
          0,
          0,
          0,
          0,
          12,
          0,
          0,
          0,
          0,
          0,
          0,
          0,
          0,
          0,
          0,
          0,
          4.35,
          1.37,
          0
         ],
         "y": [
          -0.38534030318260193,
          0,
          0,
          2.7943209279328585,
          3.151610571270188,
          -3.4593379823490977,
          -0.16056664753705263,
          0,
          -3.052033483982086,
          0,
          0,
          5.114375613629818,
          0,
          0,
          0,
          0,
          0,
          50.38527771830559,
          79.63593117892742,
          0,
          4.838112834841013,
          -6.416069809347391,
          0,
          0,
          0,
          7.617059396579862,
          0,
          0,
          -0.344529515132308,
          0,
          -5.9119900688529015,
          -3.6360418889671564,
          1.0606406722217798,
          -3.376332623884082,
          0,
          -4.66993753798306,
          0,
          7.991981692612171,
          0,
          3.1605211552232504,
          0,
          0,
          2.079152036458254,
          -1.0242554126307368,
          0,
          5.904964171350002,
          -1.6054748557507992,
          0,
          0,
          -4.742541816085577,
          0,
          19.214674597606063,
          -3.799983998760581,
          0,
          -3.2672665547579527,
          0,
          0,
          0,
          0,
          -0.4636637556056182,
          0,
          0,
          0,
          0,
          0,
          0,
          0,
          0,
          0,
          0,
          0,
          -7.1706894668750465,
          0.6905652116984129,
          0
         ]
        }
       ],
       "layout": {
        "annotations": [
         {
          "showarrow": false,
          "text": "% Progressive passes",
          "x": 0.5,
          "xref": "paper",
          "y": -0.15,
          "yref": "paper"
         },
         {
          "showarrow": false,
          "text": "VAEP per progressive pass (scaled to 10000)",
          "textangle": -90,
          "x": -0.07,
          "xref": "paper",
          "y": 0.5,
          "yref": "paper"
         }
        ],
        "autosize": true,
        "margin": {
         "b": 100
        },
        "template": {
         "data": {
          "bar": [
           {
            "error_x": {
             "color": "#2a3f5f"
            },
            "error_y": {
             "color": "#2a3f5f"
            },
            "marker": {
             "line": {
              "color": "#E5ECF6",
              "width": 0.5
             }
            },
            "type": "bar"
           }
          ],
          "barpolar": [
           {
            "marker": {
             "line": {
              "color": "#E5ECF6",
              "width": 0.5
             }
            },
            "type": "barpolar"
           }
          ],
          "carpet": [
           {
            "aaxis": {
             "endlinecolor": "#2a3f5f",
             "gridcolor": "white",
             "linecolor": "white",
             "minorgridcolor": "white",
             "startlinecolor": "#2a3f5f"
            },
            "baxis": {
             "endlinecolor": "#2a3f5f",
             "gridcolor": "white",
             "linecolor": "white",
             "minorgridcolor": "white",
             "startlinecolor": "#2a3f5f"
            },
            "type": "carpet"
           }
          ],
          "choropleth": [
           {
            "colorbar": {
             "outlinewidth": 0,
             "ticks": ""
            },
            "type": "choropleth"
           }
          ],
          "contour": [
           {
            "colorbar": {
             "outlinewidth": 0,
             "ticks": ""
            },
            "colorscale": [
             [
              0,
              "#0d0887"
             ],
             [
              0.1111111111111111,
              "#46039f"
             ],
             [
              0.2222222222222222,
              "#7201a8"
             ],
             [
              0.3333333333333333,
              "#9c179e"
             ],
             [
              0.4444444444444444,
              "#bd3786"
             ],
             [
              0.5555555555555556,
              "#d8576b"
             ],
             [
              0.6666666666666666,
              "#ed7953"
             ],
             [
              0.7777777777777778,
              "#fb9f3a"
             ],
             [
              0.8888888888888888,
              "#fdca26"
             ],
             [
              1,
              "#f0f921"
             ]
            ],
            "type": "contour"
           }
          ],
          "contourcarpet": [
           {
            "colorbar": {
             "outlinewidth": 0,
             "ticks": ""
            },
            "type": "contourcarpet"
           }
          ],
          "heatmap": [
           {
            "colorbar": {
             "outlinewidth": 0,
             "ticks": ""
            },
            "colorscale": [
             [
              0,
              "#0d0887"
             ],
             [
              0.1111111111111111,
              "#46039f"
             ],
             [
              0.2222222222222222,
              "#7201a8"
             ],
             [
              0.3333333333333333,
              "#9c179e"
             ],
             [
              0.4444444444444444,
              "#bd3786"
             ],
             [
              0.5555555555555556,
              "#d8576b"
             ],
             [
              0.6666666666666666,
              "#ed7953"
             ],
             [
              0.7777777777777778,
              "#fb9f3a"
             ],
             [
              0.8888888888888888,
              "#fdca26"
             ],
             [
              1,
              "#f0f921"
             ]
            ],
            "type": "heatmap"
           }
          ],
          "heatmapgl": [
           {
            "colorbar": {
             "outlinewidth": 0,
             "ticks": ""
            },
            "colorscale": [
             [
              0,
              "#0d0887"
             ],
             [
              0.1111111111111111,
              "#46039f"
             ],
             [
              0.2222222222222222,
              "#7201a8"
             ],
             [
              0.3333333333333333,
              "#9c179e"
             ],
             [
              0.4444444444444444,
              "#bd3786"
             ],
             [
              0.5555555555555556,
              "#d8576b"
             ],
             [
              0.6666666666666666,
              "#ed7953"
             ],
             [
              0.7777777777777778,
              "#fb9f3a"
             ],
             [
              0.8888888888888888,
              "#fdca26"
             ],
             [
              1,
              "#f0f921"
             ]
            ],
            "type": "heatmapgl"
           }
          ],
          "histogram": [
           {
            "marker": {
             "colorbar": {
              "outlinewidth": 0,
              "ticks": ""
             }
            },
            "type": "histogram"
           }
          ],
          "histogram2d": [
           {
            "colorbar": {
             "outlinewidth": 0,
             "ticks": ""
            },
            "colorscale": [
             [
              0,
              "#0d0887"
             ],
             [
              0.1111111111111111,
              "#46039f"
             ],
             [
              0.2222222222222222,
              "#7201a8"
             ],
             [
              0.3333333333333333,
              "#9c179e"
             ],
             [
              0.4444444444444444,
              "#bd3786"
             ],
             [
              0.5555555555555556,
              "#d8576b"
             ],
             [
              0.6666666666666666,
              "#ed7953"
             ],
             [
              0.7777777777777778,
              "#fb9f3a"
             ],
             [
              0.8888888888888888,
              "#fdca26"
             ],
             [
              1,
              "#f0f921"
             ]
            ],
            "type": "histogram2d"
           }
          ],
          "histogram2dcontour": [
           {
            "colorbar": {
             "outlinewidth": 0,
             "ticks": ""
            },
            "colorscale": [
             [
              0,
              "#0d0887"
             ],
             [
              0.1111111111111111,
              "#46039f"
             ],
             [
              0.2222222222222222,
              "#7201a8"
             ],
             [
              0.3333333333333333,
              "#9c179e"
             ],
             [
              0.4444444444444444,
              "#bd3786"
             ],
             [
              0.5555555555555556,
              "#d8576b"
             ],
             [
              0.6666666666666666,
              "#ed7953"
             ],
             [
              0.7777777777777778,
              "#fb9f3a"
             ],
             [
              0.8888888888888888,
              "#fdca26"
             ],
             [
              1,
              "#f0f921"
             ]
            ],
            "type": "histogram2dcontour"
           }
          ],
          "mesh3d": [
           {
            "colorbar": {
             "outlinewidth": 0,
             "ticks": ""
            },
            "type": "mesh3d"
           }
          ],
          "parcoords": [
           {
            "line": {
             "colorbar": {
              "outlinewidth": 0,
              "ticks": ""
             }
            },
            "type": "parcoords"
           }
          ],
          "pie": [
           {
            "automargin": true,
            "type": "pie"
           }
          ],
          "scatter": [
           {
            "marker": {
             "colorbar": {
              "outlinewidth": 0,
              "ticks": ""
             }
            },
            "type": "scatter"
           }
          ],
          "scatter3d": [
           {
            "line": {
             "colorbar": {
              "outlinewidth": 0,
              "ticks": ""
             }
            },
            "marker": {
             "colorbar": {
              "outlinewidth": 0,
              "ticks": ""
             }
            },
            "type": "scatter3d"
           }
          ],
          "scattercarpet": [
           {
            "marker": {
             "colorbar": {
              "outlinewidth": 0,
              "ticks": ""
             }
            },
            "type": "scattercarpet"
           }
          ],
          "scattergeo": [
           {
            "marker": {
             "colorbar": {
              "outlinewidth": 0,
              "ticks": ""
             }
            },
            "type": "scattergeo"
           }
          ],
          "scattergl": [
           {
            "marker": {
             "colorbar": {
              "outlinewidth": 0,
              "ticks": ""
             }
            },
            "type": "scattergl"
           }
          ],
          "scattermapbox": [
           {
            "marker": {
             "colorbar": {
              "outlinewidth": 0,
              "ticks": ""
             }
            },
            "type": "scattermapbox"
           }
          ],
          "scatterpolar": [
           {
            "marker": {
             "colorbar": {
              "outlinewidth": 0,
              "ticks": ""
             }
            },
            "type": "scatterpolar"
           }
          ],
          "scatterpolargl": [
           {
            "marker": {
             "colorbar": {
              "outlinewidth": 0,
              "ticks": ""
             }
            },
            "type": "scatterpolargl"
           }
          ],
          "scatterternary": [
           {
            "marker": {
             "colorbar": {
              "outlinewidth": 0,
              "ticks": ""
             }
            },
            "type": "scatterternary"
           }
          ],
          "surface": [
           {
            "colorbar": {
             "outlinewidth": 0,
             "ticks": ""
            },
            "colorscale": [
             [
              0,
              "#0d0887"
             ],
             [
              0.1111111111111111,
              "#46039f"
             ],
             [
              0.2222222222222222,
              "#7201a8"
             ],
             [
              0.3333333333333333,
              "#9c179e"
             ],
             [
              0.4444444444444444,
              "#bd3786"
             ],
             [
              0.5555555555555556,
              "#d8576b"
             ],
             [
              0.6666666666666666,
              "#ed7953"
             ],
             [
              0.7777777777777778,
              "#fb9f3a"
             ],
             [
              0.8888888888888888,
              "#fdca26"
             ],
             [
              1,
              "#f0f921"
             ]
            ],
            "type": "surface"
           }
          ],
          "table": [
           {
            "cells": {
             "fill": {
              "color": "#EBF0F8"
             },
             "line": {
              "color": "white"
             }
            },
            "header": {
             "fill": {
              "color": "#C8D4E3"
             },
             "line": {
              "color": "white"
             }
            },
            "type": "table"
           }
          ]
         },
         "layout": {
          "annotationdefaults": {
           "arrowcolor": "#2a3f5f",
           "arrowhead": 0,
           "arrowwidth": 1
          },
          "coloraxis": {
           "colorbar": {
            "outlinewidth": 0,
            "ticks": ""
           }
          },
          "colorscale": {
           "diverging": [
            [
             0,
             "#8e0152"
            ],
            [
             0.1,
             "#c51b7d"
            ],
            [
             0.2,
             "#de77ae"
            ],
            [
             0.3,
             "#f1b6da"
            ],
            [
             0.4,
             "#fde0ef"
            ],
            [
             0.5,
             "#f7f7f7"
            ],
            [
             0.6,
             "#e6f5d0"
            ],
            [
             0.7,
             "#b8e186"
            ],
            [
             0.8,
             "#7fbc41"
            ],
            [
             0.9,
             "#4d9221"
            ],
            [
             1,
             "#276419"
            ]
           ],
           "sequential": [
            [
             0,
             "#0d0887"
            ],
            [
             0.1111111111111111,
             "#46039f"
            ],
            [
             0.2222222222222222,
             "#7201a8"
            ],
            [
             0.3333333333333333,
             "#9c179e"
            ],
            [
             0.4444444444444444,
             "#bd3786"
            ],
            [
             0.5555555555555556,
             "#d8576b"
            ],
            [
             0.6666666666666666,
             "#ed7953"
            ],
            [
             0.7777777777777778,
             "#fb9f3a"
            ],
            [
             0.8888888888888888,
             "#fdca26"
            ],
            [
             1,
             "#f0f921"
            ]
           ],
           "sequentialminus": [
            [
             0,
             "#0d0887"
            ],
            [
             0.1111111111111111,
             "#46039f"
            ],
            [
             0.2222222222222222,
             "#7201a8"
            ],
            [
             0.3333333333333333,
             "#9c179e"
            ],
            [
             0.4444444444444444,
             "#bd3786"
            ],
            [
             0.5555555555555556,
             "#d8576b"
            ],
            [
             0.6666666666666666,
             "#ed7953"
            ],
            [
             0.7777777777777778,
             "#fb9f3a"
            ],
            [
             0.8888888888888888,
             "#fdca26"
            ],
            [
             1,
             "#f0f921"
            ]
           ]
          },
          "colorway": [
           "#636efa",
           "#EF553B",
           "#00cc96",
           "#ab63fa",
           "#FFA15A",
           "#19d3f3",
           "#FF6692",
           "#B6E880",
           "#FF97FF",
           "#FECB52"
          ],
          "font": {
           "color": "#2a3f5f"
          },
          "geo": {
           "bgcolor": "white",
           "lakecolor": "white",
           "landcolor": "#E5ECF6",
           "showlakes": true,
           "showland": true,
           "subunitcolor": "white"
          },
          "hoverlabel": {
           "align": "left"
          },
          "hovermode": "closest",
          "mapbox": {
           "style": "light"
          },
          "paper_bgcolor": "white",
          "plot_bgcolor": "#E5ECF6",
          "polar": {
           "angularaxis": {
            "gridcolor": "white",
            "linecolor": "white",
            "ticks": ""
           },
           "bgcolor": "#E5ECF6",
           "radialaxis": {
            "gridcolor": "white",
            "linecolor": "white",
            "ticks": ""
           }
          },
          "scene": {
           "xaxis": {
            "backgroundcolor": "#E5ECF6",
            "gridcolor": "white",
            "gridwidth": 2,
            "linecolor": "white",
            "showbackground": true,
            "ticks": "",
            "zerolinecolor": "white"
           },
           "yaxis": {
            "backgroundcolor": "#E5ECF6",
            "gridcolor": "white",
            "gridwidth": 2,
            "linecolor": "white",
            "showbackground": true,
            "ticks": "",
            "zerolinecolor": "white"
           },
           "zaxis": {
            "backgroundcolor": "#E5ECF6",
            "gridcolor": "white",
            "gridwidth": 2,
            "linecolor": "white",
            "showbackground": true,
            "ticks": "",
            "zerolinecolor": "white"
           }
          },
          "shapedefaults": {
           "line": {
            "color": "#2a3f5f"
           }
          },
          "ternary": {
           "aaxis": {
            "gridcolor": "white",
            "linecolor": "white",
            "ticks": ""
           },
           "baxis": {
            "gridcolor": "white",
            "linecolor": "white",
            "ticks": ""
           },
           "bgcolor": "#E5ECF6",
           "caxis": {
            "gridcolor": "white",
            "linecolor": "white",
            "ticks": ""
           }
          },
          "title": {
           "x": 0.05
          },
          "xaxis": {
           "automargin": true,
           "gridcolor": "white",
           "linecolor": "white",
           "ticks": "",
           "title": {
            "standoff": 15
           },
           "zerolinecolor": "white",
           "zerolinewidth": 2
          },
          "yaxis": {
           "automargin": true,
           "gridcolor": "white",
           "linecolor": "white",
           "ticks": "",
           "title": {
            "standoff": 15
           },
           "zerolinecolor": "white",
           "zerolinewidth": 2
          }
         }
        },
        "title": {
         "text": "leftflank_def"
        },
        "xaxis": {
         "autorange": true,
         "range": [
          -1.0221408820682982,
          17.6921408820683
         ],
         "type": "linear"
        },
        "yaxis": {
         "autorange": true,
         "range": [
          -13.656241584090173,
          86.12148329614254
         ],
         "type": "linear"
        }
       }
      },
      "image/png": "[encoded data removed]",
      "text/html": [
       "<div>\n",
       "        \n",
       "        \n",
       "            <div id=\"aa559fbc-0fb8-48fc-8880-23cd8e682034\" class=\"plotly-graph-div\" style=\"height:525px; width:100%;\"></div>\n",
       "            <script type=\"text/javascript\">\n",
       "                require([\"plotly\"], function(Plotly) {\n",
       "                    window.PLOTLYENV=window.PLOTLYENV || {};\n",
       "                    \n",
       "                if (document.getElementById(\"aa559fbc-0fb8-48fc-8880-23cd8e682034\")) {\n",
       "                    Plotly.newPlot(\n",
       "                        'aa559fbc-0fb8-48fc-8880-23cd8e682034',\n",
       "                        [{\"mode\": \"markers\", \"name\": \"Plot0\", \"text\": [\"AaronCresswell LCB left\", \"AdrianMariappa L_CB right\", \"AhmedHegazi LCB right\", \"AhmedHegazi L_CB right\", \"AlfieMawson LCB right\", \"AlfieMawson L_CB right\", \"AngeloOgbonna LCB left\", \"AngeloOgbonna L_CB left\", \"AntonioRudiger LCB right\", \"AshleyWilliams L_CB right\", \"AymericLaporte L_CB left\", \"BenMee L_CB left\", \"BrunoMartinsIndi LCB left\", \"BrunoMartinsIndi L_CB left\", \"CalumChambers L_CB right\", \"ChrisSmalling L_CB right\", \"ChristianKabasele LCB right\", \"ChristianKabasele L_CB right\", \"ChristopherSchindler L_CB right\", \"CiaranClark LCB left\", \"CiaranClark L_CB left\", \"DeclanRice LCB right\", \"DejanLovren L_CB right\", \"EliaquimMangala L_CB left\", \"ErikPieters LCB left\", \"FlorianLejeune L_CB right\", \"GaryCahill LCB right\", \"GeoffCameron LCB right\", \"HarryMaguire L_CB right\", \"JamesCollins LCB right\", \"JamesTarkowski L_CB right\", \"JamesTomkins L_CB right\", \"JanVertonghen LCB left\", \"JanVertonghen L_CB left\", \"JonnyEvans LCB right\", \"JonnyEvans L_CB right\", \"JoseHolebas LCB left\", \"KevinWimmer LCB left\", \"KevinWimmer L_CB left\", \"KurtZouma L_CB right\", \"LaurentKoscielny LCB right\", \"LaurentKoscielny L_CB right\", \"LewisDunk L_CB right\", \"MamadouSakho L_CB left\", \"MarcosRojo L_CB left\", \"MayaYoshida L_CB right\", \"MichaelKeane L_CB right\", \"MiguelBritos LCB left\", \"MiguelBritos L_CB left\", \"NachoMonreal LCB left\", \"NachoMonreal L_CB left\", \"NathanAke LCB left\", \"NathanAke L_CB left\", \"NicolasOtamendi LCB right\", \"NicolasOtamendi L_CB right\", \"PaulDummett LCB left\", \"PhilJagielka LCB right\", \"PhilJagielka L_CB right\", \"PhilJones LCB right\", \"PhilJones L_CB right\", \"RagnarKlavan L_CB left\", \"RobHolding LCB right\", \"RobHolding L_CB right\", \"ScottDann L_CB right\", \"SeadKolasinac LCB left\", \"ShkodranMustafi L_CB right\", \"TobyAlderweireld L_CB right\", \"TyroneMings LCB left\", \"VictorNilssonLindelof L_CB right\", \"VirgilvanDijk L_CB right\", \"VirgilvanDijk L_CB right\", \"WesleyHoedt LCB left\", \"WesleyHoedt L_CB left\", \"WinstonReid L_CB right\"], \"type\": \"scatter\", \"x\": [2.2, 0, 0, 2.17, 4.05, 2.82, 12.5, 0, 1.69, 0, 0, 6.58, 0, 0, 0, 0, 0, 2.56, 2.35, 0, 6.76, 10.0, 0, 0, 0, 4.84, 0, 0, 0.7, 0, 2.7, 9.09, 4.55, 5.26, 0, 5.0, 0, 3.23, 0, 6.25, 0, 0, 0.69, 6.06, 0, 16.67, 4.17, 0, 0, 2.63, 0, 8.33, 7.14, 0, 4.76, 0, 0, 0, 0, 12.0, 0, 0, 0, 0, 0, 0, 0, 0, 0, 0, 0, 4.35, 1.37, 0], \"y\": [-0.38534030318260193, 0, 0, 2.7943209279328585, 3.151610571270188, -3.4593379823490977, -0.16056664753705263, 0, -3.052033483982086, 0, 0, 5.114375613629818, 0, 0, 0, 0, 0, 50.38527771830559, 79.63593117892742, 0, 4.838112834841013, -6.416069809347391, 0, 0, 0, 7.617059396579862, 0, 0, -0.344529515132308, 0, -5.9119900688529015, -3.6360418889671564, 1.0606406722217798, -3.376332623884082, 0, -4.66993753798306, 0, 7.991981692612171, 0, 3.1605211552232504, 0, 0, 2.079152036458254, -1.0242554126307368, 0, 5.904964171350002, -1.6054748557507992, 0, 0, -4.742541816085577, 0, 19.214674597606063, -3.799983998760581, 0, -3.2672665547579527, 0, 0, 0, 0, -0.4636637556056182, 0, 0, 0, 0, 0, 0, 0, 0, 0, 0, 0, -7.1706894668750465, 0.6905652116984129, 0]}],\n",
       "                        {\"annotations\": [{\"showarrow\": false, \"text\": \"% Progressive passes\", \"x\": 0.5, \"xref\": \"paper\", \"y\": -0.15, \"yref\": \"paper\"}, {\"showarrow\": false, \"text\": \"VAEP per progressive pass (scaled to 10000)\", \"textangle\": -90, \"x\": -0.07, \"xref\": \"paper\", \"y\": 0.5, \"yref\": \"paper\"}], \"autosize\": true, \"margin\": {\"b\": 100}, \"template\": {\"data\": {\"bar\": [{\"error_x\": {\"color\": \"#2a3f5f\"}, \"error_y\": {\"color\": \"#2a3f5f\"}, \"marker\": {\"line\": {\"color\": \"#E5ECF6\", \"width\": 0.5}}, \"type\": \"bar\"}], \"barpolar\": [{\"marker\": {\"line\": {\"color\": \"#E5ECF6\", \"width\": 0.5}}, \"type\": \"barpolar\"}], \"carpet\": [{\"aaxis\": {\"endlinecolor\": \"#2a3f5f\", \"gridcolor\": \"white\", \"linecolor\": \"white\", \"minorgridcolor\": \"white\", \"startlinecolor\": \"#2a3f5f\"}, \"baxis\": {\"endlinecolor\": \"#2a3f5f\", \"gridcolor\": \"white\", \"linecolor\": \"white\", \"minorgridcolor\": \"white\", \"startlinecolor\": \"#2a3f5f\"}, \"type\": \"carpet\"}], \"choropleth\": [{\"colorbar\": {\"outlinewidth\": 0, \"ticks\": \"\"}, \"type\": \"choropleth\"}], \"contour\": [{\"colorbar\": {\"outlinewidth\": 0, \"ticks\": \"\"}, \"colorscale\": [[0.0, \"#0d0887\"], [0.1111111111111111, \"#46039f\"], [0.2222222222222222, \"#7201a8\"], [0.3333333333333333, \"#9c179e\"], [0.4444444444444444, \"#bd3786\"], [0.5555555555555556, \"#d8576b\"], [0.6666666666666666, \"#ed7953\"], [0.7777777777777778, \"#fb9f3a\"], [0.8888888888888888, \"#fdca26\"], [1.0, \"#f0f921\"]], \"type\": \"contour\"}], \"contourcarpet\": [{\"colorbar\": {\"outlinewidth\": 0, \"ticks\": \"\"}, \"type\": \"contourcarpet\"}], \"heatmap\": [{\"colorbar\": {\"outlinewidth\": 0, \"ticks\": \"\"}, \"colorscale\": [[0.0, \"#0d0887\"], [0.1111111111111111, \"#46039f\"], [0.2222222222222222, \"#7201a8\"], [0.3333333333333333, \"#9c179e\"], [0.4444444444444444, \"#bd3786\"], [0.5555555555555556, \"#d8576b\"], [0.6666666666666666, \"#ed7953\"], [0.7777777777777778, \"#fb9f3a\"], [0.8888888888888888, \"#fdca26\"], [1.0, \"#f0f921\"]], \"type\": \"heatmap\"}], \"heatmapgl\": [{\"colorbar\": {\"outlinewidth\": 0, \"ticks\": \"\"}, \"colorscale\": [[0.0, \"#0d0887\"], [0.1111111111111111, \"#46039f\"], [0.2222222222222222, \"#7201a8\"], [0.3333333333333333, \"#9c179e\"], [0.4444444444444444, \"#bd3786\"], [0.5555555555555556, \"#d8576b\"], [0.6666666666666666, \"#ed7953\"], [0.7777777777777778, \"#fb9f3a\"], [0.8888888888888888, \"#fdca26\"], [1.0, \"#f0f921\"]], \"type\": \"heatmapgl\"}], \"histogram\": [{\"marker\": {\"colorbar\": {\"outlinewidth\": 0, \"ticks\": \"\"}}, \"type\": \"histogram\"}], \"histogram2d\": [{\"colorbar\": {\"outlinewidth\": 0, \"ticks\": \"\"}, \"colorscale\": [[0.0, \"#0d0887\"], [0.1111111111111111, \"#46039f\"], [0.2222222222222222, \"#7201a8\"], [0.3333333333333333, \"#9c179e\"], [0.4444444444444444, \"#bd3786\"], [0.5555555555555556, \"#d8576b\"], [0.6666666666666666, \"#ed7953\"], [0.7777777777777778, \"#fb9f3a\"], [0.8888888888888888, \"#fdca26\"], [1.0, \"#f0f921\"]], \"type\": \"histogram2d\"}], \"histogram2dcontour\": [{\"colorbar\": {\"outlinewidth\": 0, \"ticks\": \"\"}, \"colorscale\": [[0.0, \"#0d0887\"], [0.1111111111111111, \"#46039f\"], [0.2222222222222222, \"#7201a8\"], [0.3333333333333333, \"#9c179e\"], [0.4444444444444444, \"#bd3786\"], [0.5555555555555556, \"#d8576b\"], [0.6666666666666666, \"#ed7953\"], [0.7777777777777778, \"#fb9f3a\"], [0.8888888888888888, \"#fdca26\"], [1.0, \"#f0f921\"]], \"type\": \"histogram2dcontour\"}], \"mesh3d\": [{\"colorbar\": {\"outlinewidth\": 0, \"ticks\": \"\"}, \"type\": \"mesh3d\"}], \"parcoords\": [{\"line\": {\"colorbar\": {\"outlinewidth\": 0, \"ticks\": \"\"}}, \"type\": \"parcoords\"}], \"pie\": [{\"automargin\": true, \"type\": \"pie\"}], \"scatter\": [{\"marker\": {\"colorbar\": {\"outlinewidth\": 0, \"ticks\": \"\"}}, \"type\": \"scatter\"}], \"scatter3d\": [{\"line\": {\"colorbar\": {\"outlinewidth\": 0, \"ticks\": \"\"}}, \"marker\": {\"colorbar\": {\"outlinewidth\": 0, \"ticks\": \"\"}}, \"type\": \"scatter3d\"}], \"scattercarpet\": [{\"marker\": {\"colorbar\": {\"outlinewidth\": 0, \"ticks\": \"\"}}, \"type\": \"scattercarpet\"}], \"scattergeo\": [{\"marker\": {\"colorbar\": {\"outlinewidth\": 0, \"ticks\": \"\"}}, \"type\": \"scattergeo\"}], \"scattergl\": [{\"marker\": {\"colorbar\": {\"outlinewidth\": 0, \"ticks\": \"\"}}, \"type\": \"scattergl\"}], \"scattermapbox\": [{\"marker\": {\"colorbar\": {\"outlinewidth\": 0, \"ticks\": \"\"}}, \"type\": \"scattermapbox\"}], \"scatterpolar\": [{\"marker\": {\"colorbar\": {\"outlinewidth\": 0, \"ticks\": \"\"}}, \"type\": \"scatterpolar\"}], \"scatterpolargl\": [{\"marker\": {\"colorbar\": {\"outlinewidth\": 0, \"ticks\": \"\"}}, \"type\": \"scatterpolargl\"}], \"scatterternary\": [{\"marker\": {\"colorbar\": {\"outlinewidth\": 0, \"ticks\": \"\"}}, \"type\": \"scatterternary\"}], \"surface\": [{\"colorbar\": {\"outlinewidth\": 0, \"ticks\": \"\"}, \"colorscale\": [[0.0, \"#0d0887\"], [0.1111111111111111, \"#46039f\"], [0.2222222222222222, \"#7201a8\"], [0.3333333333333333, \"#9c179e\"], [0.4444444444444444, \"#bd3786\"], [0.5555555555555556, \"#d8576b\"], [0.6666666666666666, \"#ed7953\"], [0.7777777777777778, \"#fb9f3a\"], [0.8888888888888888, \"#fdca26\"], [1.0, \"#f0f921\"]], \"type\": \"surface\"}], \"table\": [{\"cells\": {\"fill\": {\"color\": \"#EBF0F8\"}, \"line\": {\"color\": \"white\"}}, \"header\": {\"fill\": {\"color\": \"#C8D4E3\"}, \"line\": {\"color\": \"white\"}}, \"type\": \"table\"}]}, \"layout\": {\"annotationdefaults\": {\"arrowcolor\": \"#2a3f5f\", \"arrowhead\": 0, \"arrowwidth\": 1}, \"coloraxis\": {\"colorbar\": {\"outlinewidth\": 0, \"ticks\": \"\"}}, \"colorscale\": {\"diverging\": [[0, \"#8e0152\"], [0.1, \"#c51b7d\"], [0.2, \"#de77ae\"], [0.3, \"#f1b6da\"], [0.4, \"#fde0ef\"], [0.5, \"#f7f7f7\"], [0.6, \"#e6f5d0\"], [0.7, \"#b8e186\"], [0.8, \"#7fbc41\"], [0.9, \"#4d9221\"], [1, \"#276419\"]], \"sequential\": [[0.0, \"#0d0887\"], [0.1111111111111111, \"#46039f\"], [0.2222222222222222, \"#7201a8\"], [0.3333333333333333, \"#9c179e\"], [0.4444444444444444, \"#bd3786\"], [0.5555555555555556, \"#d8576b\"], [0.6666666666666666, \"#ed7953\"], [0.7777777777777778, \"#fb9f3a\"], [0.8888888888888888, \"#fdca26\"], [1.0, \"#f0f921\"]], \"sequentialminus\": [[0.0, \"#0d0887\"], [0.1111111111111111, \"#46039f\"], [0.2222222222222222, \"#7201a8\"], [0.3333333333333333, \"#9c179e\"], [0.4444444444444444, \"#bd3786\"], [0.5555555555555556, \"#d8576b\"], [0.6666666666666666, \"#ed7953\"], [0.7777777777777778, \"#fb9f3a\"], [0.8888888888888888, \"#fdca26\"], [1.0, \"#f0f921\"]]}, \"colorway\": [\"#636efa\", \"#EF553B\", \"#00cc96\", \"#ab63fa\", \"#FFA15A\", \"#19d3f3\", \"#FF6692\", \"#B6E880\", \"#FF97FF\", \"#FECB52\"], \"font\": {\"color\": \"#2a3f5f\"}, \"geo\": {\"bgcolor\": \"white\", \"lakecolor\": \"white\", \"landcolor\": \"#E5ECF6\", \"showlakes\": true, \"showland\": true, \"subunitcolor\": \"white\"}, \"hoverlabel\": {\"align\": \"left\"}, \"hovermode\": \"closest\", \"mapbox\": {\"style\": \"light\"}, \"paper_bgcolor\": \"white\", \"plot_bgcolor\": \"#E5ECF6\", \"polar\": {\"angularaxis\": {\"gridcolor\": \"white\", \"linecolor\": \"white\", \"ticks\": \"\"}, \"bgcolor\": \"#E5ECF6\", \"radialaxis\": {\"gridcolor\": \"white\", \"linecolor\": \"white\", \"ticks\": \"\"}}, \"scene\": {\"xaxis\": {\"backgroundcolor\": \"#E5ECF6\", \"gridcolor\": \"white\", \"gridwidth\": 2, \"linecolor\": \"white\", \"showbackground\": true, \"ticks\": \"\", \"zerolinecolor\": \"white\"}, \"yaxis\": {\"backgroundcolor\": \"#E5ECF6\", \"gridcolor\": \"white\", \"gridwidth\": 2, \"linecolor\": \"white\", \"showbackground\": true, \"ticks\": \"\", \"zerolinecolor\": \"white\"}, \"zaxis\": {\"backgroundcolor\": \"#E5ECF6\", \"gridcolor\": \"white\", \"gridwidth\": 2, \"linecolor\": \"white\", \"showbackground\": true, \"ticks\": \"\", \"zerolinecolor\": \"white\"}}, \"shapedefaults\": {\"line\": {\"color\": \"#2a3f5f\"}}, \"ternary\": {\"aaxis\": {\"gridcolor\": \"white\", \"linecolor\": \"white\", \"ticks\": \"\"}, \"baxis\": {\"gridcolor\": \"white\", \"linecolor\": \"white\", \"ticks\": \"\"}, \"bgcolor\": \"#E5ECF6\", \"caxis\": {\"gridcolor\": \"white\", \"linecolor\": \"white\", \"ticks\": \"\"}}, \"title\": {\"x\": 0.05}, \"xaxis\": {\"automargin\": true, \"gridcolor\": \"white\", \"linecolor\": \"white\", \"ticks\": \"\", \"title\": {\"standoff\": 15}, \"zerolinecolor\": \"white\", \"zerolinewidth\": 2}, \"yaxis\": {\"automargin\": true, \"gridcolor\": \"white\", \"linecolor\": \"white\", \"ticks\": \"\", \"title\": {\"standoff\": 15}, \"zerolinecolor\": \"white\", \"zerolinewidth\": 2}}}, \"title\": {\"text\": \"leftflank_def\"}},\n",
       "                        {\"responsive\": true}\n",
       "                    ).then(function(){\n",
       "                            \n",
       "var gd = document.getElementById('aa559fbc-0fb8-48fc-8880-23cd8e682034');\n",
       "var x = new MutationObserver(function (mutations, observer) {{\n",
       "        var display = window.getComputedStyle(gd).display;\n",
       "        if (!display || display === 'none') {{\n",
       "            console.log([gd, 'removed!']);\n",
       "            Plotly.purge(gd);\n",
       "            observer.disconnect();\n",
       "        }}\n",
       "}});\n",
       "\n",
       "// Listen for the removal of the full notebook cells\n",
       "var notebookContainer = gd.closest('#notebook-container');\n",
       "if (notebookContainer) {{\n",
       "    x.observe(notebookContainer, {childList: true});\n",
       "}}\n",
       "\n",
       "// Listen for the clearing of the current output cell\n",
       "var outputEl = gd.closest('.output');\n",
       "if (outputEl) {{\n",
       "    x.observe(outputEl, {childList: true});\n",
       "}}\n",
       "\n",
       "                        })\n",
       "                };\n",
       "                });\n",
       "            </script>\n",
       "        </div>"
      ]
     },
     "metadata": {},
     "output_type": "display_data"
    },
    {
     "data": {
      "application/vnd.plotly.v1+json": {
       "config": {
        "plotlyServerURL": "https://plot.ly"
       },
       "data": [
        {
         "mode": "markers",
         "name": "Plot1",
         "text": [
          "AaronCresswell LCB left",
          "AdrianMariappa L_CB right",
          "AhmedHegazi LCB right",
          "AhmedHegazi L_CB right",
          "AlfieMawson LCB right",
          "AlfieMawson L_CB right",
          "AngeloOgbonna LCB left",
          "AngeloOgbonna L_CB left",
          "AntonioRudiger LCB right",
          "AshleyWilliams L_CB right",
          "AymericLaporte L_CB left",
          "BenMee L_CB left",
          "BrunoMartinsIndi LCB left",
          "BrunoMartinsIndi L_CB left",
          "CalumChambers L_CB right",
          "ChrisSmalling L_CB right",
          "ChristianKabasele LCB right",
          "ChristianKabasele L_CB right",
          "ChristopherSchindler L_CB right",
          "CiaranClark LCB left",
          "CiaranClark L_CB left",
          "DeclanRice LCB right",
          "DejanLovren L_CB right",
          "EliaquimMangala L_CB left",
          "ErikPieters LCB left",
          "FlorianLejeune L_CB right",
          "GaryCahill LCB right",
          "GeoffCameron LCB right",
          "HarryMaguire L_CB right",
          "JamesCollins LCB right",
          "JamesTarkowski L_CB right",
          "JamesTomkins L_CB right",
          "JanVertonghen LCB left",
          "JanVertonghen L_CB left",
          "JonnyEvans LCB right",
          "JonnyEvans L_CB right",
          "JoseHolebas LCB left",
          "KevinWimmer LCB left",
          "KevinWimmer L_CB left",
          "KurtZouma L_CB right",
          "LaurentKoscielny LCB right",
          "LaurentKoscielny L_CB right",
          "LewisDunk L_CB right",
          "MamadouSakho L_CB left",
          "MarcosRojo L_CB left",
          "MayaYoshida L_CB right",
          "MichaelKeane L_CB right",
          "MiguelBritos LCB left",
          "MiguelBritos L_CB left",
          "NachoMonreal LCB left",
          "NachoMonreal L_CB left",
          "NathanAke LCB left",
          "NathanAke L_CB left",
          "NicolasOtamendi LCB right",
          "NicolasOtamendi L_CB right",
          "PaulDummett LCB left",
          "PhilJagielka LCB right",
          "PhilJagielka L_CB right",
          "PhilJones LCB right",
          "PhilJones L_CB right",
          "RagnarKlavan L_CB left",
          "RobHolding LCB right",
          "RobHolding L_CB right",
          "ScottDann L_CB right",
          "SeadKolasinac LCB left",
          "ShkodranMustafi L_CB right",
          "TobyAlderweireld L_CB right",
          "TyroneMings LCB left",
          "VictorNilssonLindelof L_CB right",
          "VirgilvanDijk L_CB right",
          "VirgilvanDijk L_CB right",
          "WesleyHoedt LCB left",
          "WesleyHoedt L_CB left",
          "WinstonReid L_CB right"
         ],
         "type": "scatter",
         "x": [
          3.3,
          0,
          7.14,
          2.17,
          1.35,
          0,
          0,
          4.17,
          0,
          0,
          0,
          1.32,
          0,
          5.26,
          0,
          0,
          0,
          2.56,
          2.35,
          0,
          0,
          20,
          4.17,
          0,
          0,
          3.23,
          2.56,
          0,
          0,
          0,
          0,
          0,
          2.27,
          3.16,
          0,
          0,
          0,
          0,
          0,
          0,
          0,
          0,
          1.39,
          0,
          0,
          0,
          0,
          0,
          7.69,
          2.63,
          0,
          0,
          2.38,
          0,
          0,
          0,
          0,
          0,
          0,
          8,
          2.22,
          0,
          0,
          0,
          0,
          16.67,
          0,
          0,
          0,
          0,
          0,
          0,
          1.37,
          0
         ],
         "y": [
          1.5773851579676073,
          0,
          -6.309612188488245,
          -5.560155026614666,
          -8.6332643404603,
          0,
          0,
          -6.576919928193092,
          0,
          0,
          0,
          -0.39690686389803886,
          0,
          14.148727059364319,
          0,
          0,
          0,
          -2.502190647646785,
          2.0543683785945177,
          0,
          0,
          -0.8603627793490887,
          -1.066587632521987,
          0,
          0,
          -0.40538934990763664,
          4.4656237587332726,
          0,
          0,
          0,
          0,
          0,
          1.947697950527072,
          -3.133099448556701,
          0,
          0,
          0,
          0,
          0,
          0,
          0,
          0,
          0.48066768795251846,
          0,
          0,
          0,
          0,
          0,
          -11.28486916422844,
          17.62450486421585,
          0,
          0,
          -1.8897303380072117,
          0,
          0,
          0,
          0,
          0,
          0,
          3.7637893110513687,
          3.8108713924884796,
          0,
          0,
          0,
          0,
          -1.9080587662756443,
          0,
          0,
          0,
          0,
          0,
          0,
          4.126071929931641,
          0
         ]
        }
       ],
       "layout": {
        "annotations": [
         {
          "showarrow": false,
          "text": "% Progressive passes",
          "x": 0.5,
          "xref": "paper",
          "y": -0.15,
          "yref": "paper"
         },
         {
          "showarrow": false,
          "text": "VAEP per progressive pass (scaled to 10000)",
          "textangle": -90,
          "x": -0.07,
          "xref": "paper",
          "y": 0.5,
          "yref": "paper"
         }
        ],
        "autosize": true,
        "margin": {
         "b": 100
        },
        "template": {
         "data": {
          "bar": [
           {
            "error_x": {
             "color": "#2a3f5f"
            },
            "error_y": {
             "color": "#2a3f5f"
            },
            "marker": {
             "line": {
              "color": "#E5ECF6",
              "width": 0.5
             }
            },
            "type": "bar"
           }
          ],
          "barpolar": [
           {
            "marker": {
             "line": {
              "color": "#E5ECF6",
              "width": 0.5
             }
            },
            "type": "barpolar"
           }
          ],
          "carpet": [
           {
            "aaxis": {
             "endlinecolor": "#2a3f5f",
             "gridcolor": "white",
             "linecolor": "white",
             "minorgridcolor": "white",
             "startlinecolor": "#2a3f5f"
            },
            "baxis": {
             "endlinecolor": "#2a3f5f",
             "gridcolor": "white",
             "linecolor": "white",
             "minorgridcolor": "white",
             "startlinecolor": "#2a3f5f"
            },
            "type": "carpet"
           }
          ],
          "choropleth": [
           {
            "colorbar": {
             "outlinewidth": 0,
             "ticks": ""
            },
            "type": "choropleth"
           }
          ],
          "contour": [
           {
            "colorbar": {
             "outlinewidth": 0,
             "ticks": ""
            },
            "colorscale": [
             [
              0,
              "#0d0887"
             ],
             [
              0.1111111111111111,
              "#46039f"
             ],
             [
              0.2222222222222222,
              "#7201a8"
             ],
             [
              0.3333333333333333,
              "#9c179e"
             ],
             [
              0.4444444444444444,
              "#bd3786"
             ],
             [
              0.5555555555555556,
              "#d8576b"
             ],
             [
              0.6666666666666666,
              "#ed7953"
             ],
             [
              0.7777777777777778,
              "#fb9f3a"
             ],
             [
              0.8888888888888888,
              "#fdca26"
             ],
             [
              1,
              "#f0f921"
             ]
            ],
            "type": "contour"
           }
          ],
          "contourcarpet": [
           {
            "colorbar": {
             "outlinewidth": 0,
             "ticks": ""
            },
            "type": "contourcarpet"
           }
          ],
          "heatmap": [
           {
            "colorbar": {
             "outlinewidth": 0,
             "ticks": ""
            },
            "colorscale": [
             [
              0,
              "#0d0887"
             ],
             [
              0.1111111111111111,
              "#46039f"
             ],
             [
              0.2222222222222222,
              "#7201a8"
             ],
             [
              0.3333333333333333,
              "#9c179e"
             ],
             [
              0.4444444444444444,
              "#bd3786"
             ],
             [
              0.5555555555555556,
              "#d8576b"
             ],
             [
              0.6666666666666666,
              "#ed7953"
             ],
             [
              0.7777777777777778,
              "#fb9f3a"
             ],
             [
              0.8888888888888888,
              "#fdca26"
             ],
             [
              1,
              "#f0f921"
             ]
            ],
            "type": "heatmap"
           }
          ],
          "heatmapgl": [
           {
            "colorbar": {
             "outlinewidth": 0,
             "ticks": ""
            },
            "colorscale": [
             [
              0,
              "#0d0887"
             ],
             [
              0.1111111111111111,
              "#46039f"
             ],
             [
              0.2222222222222222,
              "#7201a8"
             ],
             [
              0.3333333333333333,
              "#9c179e"
             ],
             [
              0.4444444444444444,
              "#bd3786"
             ],
             [
              0.5555555555555556,
              "#d8576b"
             ],
             [
              0.6666666666666666,
              "#ed7953"
             ],
             [
              0.7777777777777778,
              "#fb9f3a"
             ],
             [
              0.8888888888888888,
              "#fdca26"
             ],
             [
              1,
              "#f0f921"
             ]
            ],
            "type": "heatmapgl"
           }
          ],
          "histogram": [
           {
            "marker": {
             "colorbar": {
              "outlinewidth": 0,
              "ticks": ""
             }
            },
            "type": "histogram"
           }
          ],
          "histogram2d": [
           {
            "colorbar": {
             "outlinewidth": 0,
             "ticks": ""
            },
            "colorscale": [
             [
              0,
              "#0d0887"
             ],
             [
              0.1111111111111111,
              "#46039f"
             ],
             [
              0.2222222222222222,
              "#7201a8"
             ],
             [
              0.3333333333333333,
              "#9c179e"
             ],
             [
              0.4444444444444444,
              "#bd3786"
             ],
             [
              0.5555555555555556,
              "#d8576b"
             ],
             [
              0.6666666666666666,
              "#ed7953"
             ],
             [
              0.7777777777777778,
              "#fb9f3a"
             ],
             [
              0.8888888888888888,
              "#fdca26"
             ],
             [
              1,
              "#f0f921"
             ]
            ],
            "type": "histogram2d"
           }
          ],
          "histogram2dcontour": [
           {
            "colorbar": {
             "outlinewidth": 0,
             "ticks": ""
            },
            "colorscale": [
             [
              0,
              "#0d0887"
             ],
             [
              0.1111111111111111,
              "#46039f"
             ],
             [
              0.2222222222222222,
              "#7201a8"
             ],
             [
              0.3333333333333333,
              "#9c179e"
             ],
             [
              0.4444444444444444,
              "#bd3786"
             ],
             [
              0.5555555555555556,
              "#d8576b"
             ],
             [
              0.6666666666666666,
              "#ed7953"
             ],
             [
              0.7777777777777778,
              "#fb9f3a"
             ],
             [
              0.8888888888888888,
              "#fdca26"
             ],
             [
              1,
              "#f0f921"
             ]
            ],
            "type": "histogram2dcontour"
           }
          ],
          "mesh3d": [
           {
            "colorbar": {
             "outlinewidth": 0,
             "ticks": ""
            },
            "type": "mesh3d"
           }
          ],
          "parcoords": [
           {
            "line": {
             "colorbar": {
              "outlinewidth": 0,
              "ticks": ""
             }
            },
            "type": "parcoords"
           }
          ],
          "pie": [
           {
            "automargin": true,
            "type": "pie"
           }
          ],
          "scatter": [
           {
            "marker": {
             "colorbar": {
              "outlinewidth": 0,
              "ticks": ""
             }
            },
            "type": "scatter"
           }
          ],
          "scatter3d": [
           {
            "line": {
             "colorbar": {
              "outlinewidth": 0,
              "ticks": ""
             }
            },
            "marker": {
             "colorbar": {
              "outlinewidth": 0,
              "ticks": ""
             }
            },
            "type": "scatter3d"
           }
          ],
          "scattercarpet": [
           {
            "marker": {
             "colorbar": {
              "outlinewidth": 0,
              "ticks": ""
             }
            },
            "type": "scattercarpet"
           }
          ],
          "scattergeo": [
           {
            "marker": {
             "colorbar": {
              "outlinewidth": 0,
              "ticks": ""
             }
            },
            "type": "scattergeo"
           }
          ],
          "scattergl": [
           {
            "marker": {
             "colorbar": {
              "outlinewidth": 0,
              "ticks": ""
             }
            },
            "type": "scattergl"
           }
          ],
          "scattermapbox": [
           {
            "marker": {
             "colorbar": {
              "outlinewidth": 0,
              "ticks": ""
             }
            },
            "type": "scattermapbox"
           }
          ],
          "scatterpolar": [
           {
            "marker": {
             "colorbar": {
              "outlinewidth": 0,
              "ticks": ""
             }
            },
            "type": "scatterpolar"
           }
          ],
          "scatterpolargl": [
           {
            "marker": {
             "colorbar": {
              "outlinewidth": 0,
              "ticks": ""
             }
            },
            "type": "scatterpolargl"
           }
          ],
          "scatterternary": [
           {
            "marker": {
             "colorbar": {
              "outlinewidth": 0,
              "ticks": ""
             }
            },
            "type": "scatterternary"
           }
          ],
          "surface": [
           {
            "colorbar": {
             "outlinewidth": 0,
             "ticks": ""
            },
            "colorscale": [
             [
              0,
              "#0d0887"
             ],
             [
              0.1111111111111111,
              "#46039f"
             ],
             [
              0.2222222222222222,
              "#7201a8"
             ],
             [
              0.3333333333333333,
              "#9c179e"
             ],
             [
              0.4444444444444444,
              "#bd3786"
             ],
             [
              0.5555555555555556,
              "#d8576b"
             ],
             [
              0.6666666666666666,
              "#ed7953"
             ],
             [
              0.7777777777777778,
              "#fb9f3a"
             ],
             [
              0.8888888888888888,
              "#fdca26"
             ],
             [
              1,
              "#f0f921"
             ]
            ],
            "type": "surface"
           }
          ],
          "table": [
           {
            "cells": {
             "fill": {
              "color": "#EBF0F8"
             },
             "line": {
              "color": "white"
             }
            },
            "header": {
             "fill": {
              "color": "#C8D4E3"
             },
             "line": {
              "color": "white"
             }
            },
            "type": "table"
           }
          ]
         },
         "layout": {
          "annotationdefaults": {
           "arrowcolor": "#2a3f5f",
           "arrowhead": 0,
           "arrowwidth": 1
          },
          "coloraxis": {
           "colorbar": {
            "outlinewidth": 0,
            "ticks": ""
           }
          },
          "colorscale": {
           "diverging": [
            [
             0,
             "#8e0152"
            ],
            [
             0.1,
             "#c51b7d"
            ],
            [
             0.2,
             "#de77ae"
            ],
            [
             0.3,
             "#f1b6da"
            ],
            [
             0.4,
             "#fde0ef"
            ],
            [
             0.5,
             "#f7f7f7"
            ],
            [
             0.6,
             "#e6f5d0"
            ],
            [
             0.7,
             "#b8e186"
            ],
            [
             0.8,
             "#7fbc41"
            ],
            [
             0.9,
             "#4d9221"
            ],
            [
             1,
             "#276419"
            ]
           ],
           "sequential": [
            [
             0,
             "#0d0887"
            ],
            [
             0.1111111111111111,
             "#46039f"
            ],
            [
             0.2222222222222222,
             "#7201a8"
            ],
            [
             0.3333333333333333,
             "#9c179e"
            ],
            [
             0.4444444444444444,
             "#bd3786"
            ],
            [
             0.5555555555555556,
             "#d8576b"
            ],
            [
             0.6666666666666666,
             "#ed7953"
            ],
            [
             0.7777777777777778,
             "#fb9f3a"
            ],
            [
             0.8888888888888888,
             "#fdca26"
            ],
            [
             1,
             "#f0f921"
            ]
           ],
           "sequentialminus": [
            [
             0,
             "#0d0887"
            ],
            [
             0.1111111111111111,
             "#46039f"
            ],
            [
             0.2222222222222222,
             "#7201a8"
            ],
            [
             0.3333333333333333,
             "#9c179e"
            ],
            [
             0.4444444444444444,
             "#bd3786"
            ],
            [
             0.5555555555555556,
             "#d8576b"
            ],
            [
             0.6666666666666666,
             "#ed7953"
            ],
            [
             0.7777777777777778,
             "#fb9f3a"
            ],
            [
             0.8888888888888888,
             "#fdca26"
            ],
            [
             1,
             "#f0f921"
            ]
           ]
          },
          "colorway": [
           "#636efa",
           "#EF553B",
           "#00cc96",
           "#ab63fa",
           "#FFA15A",
           "#19d3f3",
           "#FF6692",
           "#B6E880",
           "#FF97FF",
           "#FECB52"
          ],
          "font": {
           "color": "#2a3f5f"
          },
          "geo": {
           "bgcolor": "white",
           "lakecolor": "white",
           "landcolor": "#E5ECF6",
           "showlakes": true,
           "showland": true,
           "subunitcolor": "white"
          },
          "hoverlabel": {
           "align": "left"
          },
          "hovermode": "closest",
          "mapbox": {
           "style": "light"
          },
          "paper_bgcolor": "white",
          "plot_bgcolor": "#E5ECF6",
          "polar": {
           "angularaxis": {
            "gridcolor": "white",
            "linecolor": "white",
            "ticks": ""
           },
           "bgcolor": "#E5ECF6",
           "radialaxis": {
            "gridcolor": "white",
            "linecolor": "white",
            "ticks": ""
           }
          },
          "scene": {
           "xaxis": {
            "backgroundcolor": "#E5ECF6",
            "gridcolor": "white",
            "gridwidth": 2,
            "linecolor": "white",
            "showbackground": true,
            "ticks": "",
            "zerolinecolor": "white"
           },
           "yaxis": {
            "backgroundcolor": "#E5ECF6",
            "gridcolor": "white",
            "gridwidth": 2,
            "linecolor": "white",
            "showbackground": true,
            "ticks": "",
            "zerolinecolor": "white"
           },
           "zaxis": {
            "backgroundcolor": "#E5ECF6",
            "gridcolor": "white",
            "gridwidth": 2,
            "linecolor": "white",
            "showbackground": true,
            "ticks": "",
            "zerolinecolor": "white"
           }
          },
          "shapedefaults": {
           "line": {
            "color": "#2a3f5f"
           }
          },
          "ternary": {
           "aaxis": {
            "gridcolor": "white",
            "linecolor": "white",
            "ticks": ""
           },
           "baxis": {
            "gridcolor": "white",
            "linecolor": "white",
            "ticks": ""
           },
           "bgcolor": "#E5ECF6",
           "caxis": {
            "gridcolor": "white",
            "linecolor": "white",
            "ticks": ""
           }
          },
          "title": {
           "x": 0.05
          },
          "xaxis": {
           "automargin": true,
           "gridcolor": "white",
           "linecolor": "white",
           "ticks": "",
           "title": {
            "standoff": 15
           },
           "zerolinecolor": "white",
           "zerolinewidth": 2
          },
          "yaxis": {
           "automargin": true,
           "gridcolor": "white",
           "linecolor": "white",
           "ticks": "",
           "title": {
            "standoff": 15
           },
           "zerolinecolor": "white",
           "zerolinewidth": 2
          }
         }
        },
        "title": {
         "text": "leftcentral_def"
        },
        "xaxis": {
         "autorange": true,
         "range": [
          -1.2263237937232132,
          21.226323793723214
         ],
         "type": "linear"
        },
        "yaxis": {
         "autorange": true,
         "range": [
          -13.444764924974276,
          19.784400624961687
         ],
         "type": "linear"
        }
       }
      },
      "image/png": "[encoded data removed]",
      "text/html": [
       "<div>\n",
       "        \n",
       "        \n",
       "            <div id=\"02fec413-fda4-42ca-bf65-952229a78347\" class=\"plotly-graph-div\" style=\"height:525px; width:100%;\"></div>\n",
       "            <script type=\"text/javascript\">\n",
       "                require([\"plotly\"], function(Plotly) {\n",
       "                    window.PLOTLYENV=window.PLOTLYENV || {};\n",
       "                    \n",
       "                if (document.getElementById(\"02fec413-fda4-42ca-bf65-952229a78347\")) {\n",
       "                    Plotly.newPlot(\n",
       "                        '02fec413-fda4-42ca-bf65-952229a78347',\n",
       "                        [{\"mode\": \"markers\", \"name\": \"Plot1\", \"text\": [\"AaronCresswell LCB left\", \"AdrianMariappa L_CB right\", \"AhmedHegazi LCB right\", \"AhmedHegazi L_CB right\", \"AlfieMawson LCB right\", \"AlfieMawson L_CB right\", \"AngeloOgbonna LCB left\", \"AngeloOgbonna L_CB left\", \"AntonioRudiger LCB right\", \"AshleyWilliams L_CB right\", \"AymericLaporte L_CB left\", \"BenMee L_CB left\", \"BrunoMartinsIndi LCB left\", \"BrunoMartinsIndi L_CB left\", \"CalumChambers L_CB right\", \"ChrisSmalling L_CB right\", \"ChristianKabasele LCB right\", \"ChristianKabasele L_CB right\", \"ChristopherSchindler L_CB right\", \"CiaranClark LCB left\", \"CiaranClark L_CB left\", \"DeclanRice LCB right\", \"DejanLovren L_CB right\", \"EliaquimMangala L_CB left\", \"ErikPieters LCB left\", \"FlorianLejeune L_CB right\", \"GaryCahill LCB right\", \"GeoffCameron LCB right\", \"HarryMaguire L_CB right\", \"JamesCollins LCB right\", \"JamesTarkowski L_CB right\", \"JamesTomkins L_CB right\", \"JanVertonghen LCB left\", \"JanVertonghen L_CB left\", \"JonnyEvans LCB right\", \"JonnyEvans L_CB right\", \"JoseHolebas LCB left\", \"KevinWimmer LCB left\", \"KevinWimmer L_CB left\", \"KurtZouma L_CB right\", \"LaurentKoscielny LCB right\", \"LaurentKoscielny L_CB right\", \"LewisDunk L_CB right\", \"MamadouSakho L_CB left\", \"MarcosRojo L_CB left\", \"MayaYoshida L_CB right\", \"MichaelKeane L_CB right\", \"MiguelBritos LCB left\", \"MiguelBritos L_CB left\", \"NachoMonreal LCB left\", \"NachoMonreal L_CB left\", \"NathanAke LCB left\", \"NathanAke L_CB left\", \"NicolasOtamendi LCB right\", \"NicolasOtamendi L_CB right\", \"PaulDummett LCB left\", \"PhilJagielka LCB right\", \"PhilJagielka L_CB right\", \"PhilJones LCB right\", \"PhilJones L_CB right\", \"RagnarKlavan L_CB left\", \"RobHolding LCB right\", \"RobHolding L_CB right\", \"ScottDann L_CB right\", \"SeadKolasinac LCB left\", \"ShkodranMustafi L_CB right\", \"TobyAlderweireld L_CB right\", \"TyroneMings LCB left\", \"VictorNilssonLindelof L_CB right\", \"VirgilvanDijk L_CB right\", \"VirgilvanDijk L_CB right\", \"WesleyHoedt LCB left\", \"WesleyHoedt L_CB left\", \"WinstonReid L_CB right\"], \"type\": \"scatter\", \"x\": [3.3, 0, 7.14, 2.17, 1.35, 0, 0, 4.17, 0, 0, 0, 1.32, 0, 5.26, 0, 0, 0, 2.56, 2.35, 0, 0, 20.0, 4.17, 0, 0, 3.23, 2.56, 0, 0, 0, 0, 0, 2.27, 3.16, 0, 0, 0, 0, 0, 0, 0, 0, 1.39, 0, 0, 0, 0, 0, 7.69, 2.63, 0, 0, 2.38, 0, 0, 0, 0, 0, 0, 8.0, 2.22, 0, 0, 0, 0, 16.67, 0, 0, 0, 0, 0, 0, 1.37, 0], \"y\": [1.5773851579676073, 0, -6.309612188488245, -5.560155026614666, -8.6332643404603, 0, 0, -6.576919928193092, 0, 0, 0, -0.39690686389803886, 0, 14.148727059364319, 0, 0, 0, -2.502190647646785, 2.0543683785945177, 0, 0, -0.8603627793490887, -1.066587632521987, 0, 0, -0.40538934990763664, 4.4656237587332726, 0, 0, 0, 0, 0, 1.947697950527072, -3.133099448556701, 0, 0, 0, 0, 0, 0, 0, 0, 0.48066768795251846, 0, 0, 0, 0, 0, -11.28486916422844, 17.62450486421585, 0, 0, -1.8897303380072117, 0, 0, 0, 0, 0, 0, 3.7637893110513687, 3.8108713924884796, 0, 0, 0, 0, -1.9080587662756443, 0, 0, 0, 0, 0, 0, 4.126071929931641, 0]}],\n",
       "                        {\"annotations\": [{\"showarrow\": false, \"text\": \"% Progressive passes\", \"x\": 0.5, \"xref\": \"paper\", \"y\": -0.15, \"yref\": \"paper\"}, {\"showarrow\": false, \"text\": \"VAEP per progressive pass (scaled to 10000)\", \"textangle\": -90, \"x\": -0.07, \"xref\": \"paper\", \"y\": 0.5, \"yref\": \"paper\"}], \"autosize\": true, \"margin\": {\"b\": 100}, \"template\": {\"data\": {\"bar\": [{\"error_x\": {\"color\": \"#2a3f5f\"}, \"error_y\": {\"color\": \"#2a3f5f\"}, \"marker\": {\"line\": {\"color\": \"#E5ECF6\", \"width\": 0.5}}, \"type\": \"bar\"}], \"barpolar\": [{\"marker\": {\"line\": {\"color\": \"#E5ECF6\", \"width\": 0.5}}, \"type\": \"barpolar\"}], \"carpet\": [{\"aaxis\": {\"endlinecolor\": \"#2a3f5f\", \"gridcolor\": \"white\", \"linecolor\": \"white\", \"minorgridcolor\": \"white\", \"startlinecolor\": \"#2a3f5f\"}, \"baxis\": {\"endlinecolor\": \"#2a3f5f\", \"gridcolor\": \"white\", \"linecolor\": \"white\", \"minorgridcolor\": \"white\", \"startlinecolor\": \"#2a3f5f\"}, \"type\": \"carpet\"}], \"choropleth\": [{\"colorbar\": {\"outlinewidth\": 0, \"ticks\": \"\"}, \"type\": \"choropleth\"}], \"contour\": [{\"colorbar\": {\"outlinewidth\": 0, \"ticks\": \"\"}, \"colorscale\": [[0.0, \"#0d0887\"], [0.1111111111111111, \"#46039f\"], [0.2222222222222222, \"#7201a8\"], [0.3333333333333333, \"#9c179e\"], [0.4444444444444444, \"#bd3786\"], [0.5555555555555556, \"#d8576b\"], [0.6666666666666666, \"#ed7953\"], [0.7777777777777778, \"#fb9f3a\"], [0.8888888888888888, \"#fdca26\"], [1.0, \"#f0f921\"]], \"type\": \"contour\"}], \"contourcarpet\": [{\"colorbar\": {\"outlinewidth\": 0, \"ticks\": \"\"}, \"type\": \"contourcarpet\"}], \"heatmap\": [{\"colorbar\": {\"outlinewidth\": 0, \"ticks\": \"\"}, \"colorscale\": [[0.0, \"#0d0887\"], [0.1111111111111111, \"#46039f\"], [0.2222222222222222, \"#7201a8\"], [0.3333333333333333, \"#9c179e\"], [0.4444444444444444, \"#bd3786\"], [0.5555555555555556, \"#d8576b\"], [0.6666666666666666, \"#ed7953\"], [0.7777777777777778, \"#fb9f3a\"], [0.8888888888888888, \"#fdca26\"], [1.0, \"#f0f921\"]], \"type\": \"heatmap\"}], \"heatmapgl\": [{\"colorbar\": {\"outlinewidth\": 0, \"ticks\": \"\"}, \"colorscale\": [[0.0, \"#0d0887\"], [0.1111111111111111, \"#46039f\"], [0.2222222222222222, \"#7201a8\"], [0.3333333333333333, \"#9c179e\"], [0.4444444444444444, \"#bd3786\"], [0.5555555555555556, \"#d8576b\"], [0.6666666666666666, \"#ed7953\"], [0.7777777777777778, \"#fb9f3a\"], [0.8888888888888888, \"#fdca26\"], [1.0, \"#f0f921\"]], \"type\": \"heatmapgl\"}], \"histogram\": [{\"marker\": {\"colorbar\": {\"outlinewidth\": 0, \"ticks\": \"\"}}, \"type\": \"histogram\"}], \"histogram2d\": [{\"colorbar\": {\"outlinewidth\": 0, \"ticks\": \"\"}, \"colorscale\": [[0.0, \"#0d0887\"], [0.1111111111111111, \"#46039f\"], [0.2222222222222222, \"#7201a8\"], [0.3333333333333333, \"#9c179e\"], [0.4444444444444444, \"#bd3786\"], [0.5555555555555556, \"#d8576b\"], [0.6666666666666666, \"#ed7953\"], [0.7777777777777778, \"#fb9f3a\"], [0.8888888888888888, \"#fdca26\"], [1.0, \"#f0f921\"]], \"type\": \"histogram2d\"}], \"histogram2dcontour\": [{\"colorbar\": {\"outlinewidth\": 0, \"ticks\": \"\"}, \"colorscale\": [[0.0, \"#0d0887\"], [0.1111111111111111, \"#46039f\"], [0.2222222222222222, \"#7201a8\"], [0.3333333333333333, \"#9c179e\"], [0.4444444444444444, \"#bd3786\"], [0.5555555555555556, \"#d8576b\"], [0.6666666666666666, \"#ed7953\"], [0.7777777777777778, \"#fb9f3a\"], [0.8888888888888888, \"#fdca26\"], [1.0, \"#f0f921\"]], \"type\": \"histogram2dcontour\"}], \"mesh3d\": [{\"colorbar\": {\"outlinewidth\": 0, \"ticks\": \"\"}, \"type\": \"mesh3d\"}], \"parcoords\": [{\"line\": {\"colorbar\": {\"outlinewidth\": 0, \"ticks\": \"\"}}, \"type\": \"parcoords\"}], \"pie\": [{\"automargin\": true, \"type\": \"pie\"}], \"scatter\": [{\"marker\": {\"colorbar\": {\"outlinewidth\": 0, \"ticks\": \"\"}}, \"type\": \"scatter\"}], \"scatter3d\": [{\"line\": {\"colorbar\": {\"outlinewidth\": 0, \"ticks\": \"\"}}, \"marker\": {\"colorbar\": {\"outlinewidth\": 0, \"ticks\": \"\"}}, \"type\": \"scatter3d\"}], \"scattercarpet\": [{\"marker\": {\"colorbar\": {\"outlinewidth\": 0, \"ticks\": \"\"}}, \"type\": \"scattercarpet\"}], \"scattergeo\": [{\"marker\": {\"colorbar\": {\"outlinewidth\": 0, \"ticks\": \"\"}}, \"type\": \"scattergeo\"}], \"scattergl\": [{\"marker\": {\"colorbar\": {\"outlinewidth\": 0, \"ticks\": \"\"}}, \"type\": \"scattergl\"}], \"scattermapbox\": [{\"marker\": {\"colorbar\": {\"outlinewidth\": 0, \"ticks\": \"\"}}, \"type\": \"scattermapbox\"}], \"scatterpolar\": [{\"marker\": {\"colorbar\": {\"outlinewidth\": 0, \"ticks\": \"\"}}, \"type\": \"scatterpolar\"}], \"scatterpolargl\": [{\"marker\": {\"colorbar\": {\"outlinewidth\": 0, \"ticks\": \"\"}}, \"type\": \"scatterpolargl\"}], \"scatterternary\": [{\"marker\": {\"colorbar\": {\"outlinewidth\": 0, \"ticks\": \"\"}}, \"type\": \"scatterternary\"}], \"surface\": [{\"colorbar\": {\"outlinewidth\": 0, \"ticks\": \"\"}, \"colorscale\": [[0.0, \"#0d0887\"], [0.1111111111111111, \"#46039f\"], [0.2222222222222222, \"#7201a8\"], [0.3333333333333333, \"#9c179e\"], [0.4444444444444444, \"#bd3786\"], [0.5555555555555556, \"#d8576b\"], [0.6666666666666666, \"#ed7953\"], [0.7777777777777778, \"#fb9f3a\"], [0.8888888888888888, \"#fdca26\"], [1.0, \"#f0f921\"]], \"type\": \"surface\"}], \"table\": [{\"cells\": {\"fill\": {\"color\": \"#EBF0F8\"}, \"line\": {\"color\": \"white\"}}, \"header\": {\"fill\": {\"color\": \"#C8D4E3\"}, \"line\": {\"color\": \"white\"}}, \"type\": \"table\"}]}, \"layout\": {\"annotationdefaults\": {\"arrowcolor\": \"#2a3f5f\", \"arrowhead\": 0, \"arrowwidth\": 1}, \"coloraxis\": {\"colorbar\": {\"outlinewidth\": 0, \"ticks\": \"\"}}, \"colorscale\": {\"diverging\": [[0, \"#8e0152\"], [0.1, \"#c51b7d\"], [0.2, \"#de77ae\"], [0.3, \"#f1b6da\"], [0.4, \"#fde0ef\"], [0.5, \"#f7f7f7\"], [0.6, \"#e6f5d0\"], [0.7, \"#b8e186\"], [0.8, \"#7fbc41\"], [0.9, \"#4d9221\"], [1, \"#276419\"]], \"sequential\": [[0.0, \"#0d0887\"], [0.1111111111111111, \"#46039f\"], [0.2222222222222222, \"#7201a8\"], [0.3333333333333333, \"#9c179e\"], [0.4444444444444444, \"#bd3786\"], [0.5555555555555556, \"#d8576b\"], [0.6666666666666666, \"#ed7953\"], [0.7777777777777778, \"#fb9f3a\"], [0.8888888888888888, \"#fdca26\"], [1.0, \"#f0f921\"]], \"sequentialminus\": [[0.0, \"#0d0887\"], [0.1111111111111111, \"#46039f\"], [0.2222222222222222, \"#7201a8\"], [0.3333333333333333, \"#9c179e\"], [0.4444444444444444, \"#bd3786\"], [0.5555555555555556, \"#d8576b\"], [0.6666666666666666, \"#ed7953\"], [0.7777777777777778, \"#fb9f3a\"], [0.8888888888888888, \"#fdca26\"], [1.0, \"#f0f921\"]]}, \"colorway\": [\"#636efa\", \"#EF553B\", \"#00cc96\", \"#ab63fa\", \"#FFA15A\", \"#19d3f3\", \"#FF6692\", \"#B6E880\", \"#FF97FF\", \"#FECB52\"], \"font\": {\"color\": \"#2a3f5f\"}, \"geo\": {\"bgcolor\": \"white\", \"lakecolor\": \"white\", \"landcolor\": \"#E5ECF6\", \"showlakes\": true, \"showland\": true, \"subunitcolor\": \"white\"}, \"hoverlabel\": {\"align\": \"left\"}, \"hovermode\": \"closest\", \"mapbox\": {\"style\": \"light\"}, \"paper_bgcolor\": \"white\", \"plot_bgcolor\": \"#E5ECF6\", \"polar\": {\"angularaxis\": {\"gridcolor\": \"white\", \"linecolor\": \"white\", \"ticks\": \"\"}, \"bgcolor\": \"#E5ECF6\", \"radialaxis\": {\"gridcolor\": \"white\", \"linecolor\": \"white\", \"ticks\": \"\"}}, \"scene\": {\"xaxis\": {\"backgroundcolor\": \"#E5ECF6\", \"gridcolor\": \"white\", \"gridwidth\": 2, \"linecolor\": \"white\", \"showbackground\": true, \"ticks\": \"\", \"zerolinecolor\": \"white\"}, \"yaxis\": {\"backgroundcolor\": \"#E5ECF6\", \"gridcolor\": \"white\", \"gridwidth\": 2, \"linecolor\": \"white\", \"showbackground\": true, \"ticks\": \"\", \"zerolinecolor\": \"white\"}, \"zaxis\": {\"backgroundcolor\": \"#E5ECF6\", \"gridcolor\": \"white\", \"gridwidth\": 2, \"linecolor\": \"white\", \"showbackground\": true, \"ticks\": \"\", \"zerolinecolor\": \"white\"}}, \"shapedefaults\": {\"line\": {\"color\": \"#2a3f5f\"}}, \"ternary\": {\"aaxis\": {\"gridcolor\": \"white\", \"linecolor\": \"white\", \"ticks\": \"\"}, \"baxis\": {\"gridcolor\": \"white\", \"linecolor\": \"white\", \"ticks\": \"\"}, \"bgcolor\": \"#E5ECF6\", \"caxis\": {\"gridcolor\": \"white\", \"linecolor\": \"white\", \"ticks\": \"\"}}, \"title\": {\"x\": 0.05}, \"xaxis\": {\"automargin\": true, \"gridcolor\": \"white\", \"linecolor\": \"white\", \"ticks\": \"\", \"title\": {\"standoff\": 15}, \"zerolinecolor\": \"white\", \"zerolinewidth\": 2}, \"yaxis\": {\"automargin\": true, \"gridcolor\": \"white\", \"linecolor\": \"white\", \"ticks\": \"\", \"title\": {\"standoff\": 15}, \"zerolinecolor\": \"white\", \"zerolinewidth\": 2}}}, \"title\": {\"text\": \"leftcentral_def\"}},\n",
       "                        {\"responsive\": true}\n",
       "                    ).then(function(){\n",
       "                            \n",
       "var gd = document.getElementById('02fec413-fda4-42ca-bf65-952229a78347');\n",
       "var x = new MutationObserver(function (mutations, observer) {{\n",
       "        var display = window.getComputedStyle(gd).display;\n",
       "        if (!display || display === 'none') {{\n",
       "            console.log([gd, 'removed!']);\n",
       "            Plotly.purge(gd);\n",
       "            observer.disconnect();\n",
       "        }}\n",
       "}});\n",
       "\n",
       "// Listen for the removal of the full notebook cells\n",
       "var notebookContainer = gd.closest('#notebook-container');\n",
       "if (notebookContainer) {{\n",
       "    x.observe(notebookContainer, {childList: true});\n",
       "}}\n",
       "\n",
       "// Listen for the clearing of the current output cell\n",
       "var outputEl = gd.closest('.output');\n",
       "if (outputEl) {{\n",
       "    x.observe(outputEl, {childList: true});\n",
       "}}\n",
       "\n",
       "                        })\n",
       "                };\n",
       "                });\n",
       "            </script>\n",
       "        </div>"
      ]
     },
     "metadata": {},
     "output_type": "display_data"
    },
    {
     "data": {
      "application/vnd.plotly.v1+json": {
       "config": {
        "plotlyServerURL": "https://plot.ly"
       },
       "data": [
        {
         "mode": "markers",
         "name": "Plot2",
         "text": [
          "AaronCresswell LCB left",
          "AdrianMariappa L_CB right",
          "AhmedHegazi LCB right",
          "AhmedHegazi L_CB right",
          "AlfieMawson LCB right",
          "AlfieMawson L_CB right",
          "AngeloOgbonna LCB left",
          "AngeloOgbonna L_CB left",
          "AntonioRudiger LCB right",
          "AshleyWilliams L_CB right",
          "AymericLaporte L_CB left",
          "BenMee L_CB left",
          "BrunoMartinsIndi LCB left",
          "BrunoMartinsIndi L_CB left",
          "CalumChambers L_CB right",
          "ChrisSmalling L_CB right",
          "ChristianKabasele LCB right",
          "ChristianKabasele L_CB right",
          "ChristopherSchindler L_CB right",
          "CiaranClark LCB left",
          "CiaranClark L_CB left",
          "DeclanRice LCB right",
          "DejanLovren L_CB right",
          "EliaquimMangala L_CB left",
          "ErikPieters LCB left",
          "FlorianLejeune L_CB right",
          "GaryCahill LCB right",
          "GeoffCameron LCB right",
          "HarryMaguire L_CB right",
          "JamesCollins LCB right",
          "JamesTarkowski L_CB right",
          "JamesTomkins L_CB right",
          "JanVertonghen LCB left",
          "JanVertonghen L_CB left",
          "JonnyEvans LCB right",
          "JonnyEvans L_CB right",
          "JoseHolebas LCB left",
          "KevinWimmer LCB left",
          "KevinWimmer L_CB left",
          "KurtZouma L_CB right",
          "LaurentKoscielny LCB right",
          "LaurentKoscielny L_CB right",
          "LewisDunk L_CB right",
          "MamadouSakho L_CB left",
          "MarcosRojo L_CB left",
          "MayaYoshida L_CB right",
          "MichaelKeane L_CB right",
          "MiguelBritos LCB left",
          "MiguelBritos L_CB left",
          "NachoMonreal LCB left",
          "NachoMonreal L_CB left",
          "NathanAke LCB left",
          "NathanAke L_CB left",
          "NicolasOtamendi LCB right",
          "NicolasOtamendi L_CB right",
          "PaulDummett LCB left",
          "PhilJagielka LCB right",
          "PhilJagielka L_CB right",
          "PhilJones LCB right",
          "PhilJones L_CB right",
          "RagnarKlavan L_CB left",
          "RobHolding LCB right",
          "RobHolding L_CB right",
          "ScottDann L_CB right",
          "SeadKolasinac LCB left",
          "ShkodranMustafi L_CB right",
          "TobyAlderweireld L_CB right",
          "TyroneMings LCB left",
          "VictorNilssonLindelof L_CB right",
          "VirgilvanDijk L_CB right",
          "VirgilvanDijk L_CB right",
          "WesleyHoedt LCB left",
          "WesleyHoedt L_CB left",
          "WinstonReid L_CB right"
         ],
         "type": "scatter",
         "x": [
          0,
          0,
          0,
          2.17,
          0,
          0,
          0,
          0,
          1.69,
          0,
          4.55,
          1.32,
          0,
          0,
          0,
          0,
          0,
          0,
          2.35,
          0,
          0,
          0,
          0,
          0,
          0,
          0,
          2.56,
          0,
          2.82,
          0,
          0,
          0,
          0,
          1.05,
          0,
          2.5,
          0,
          3.23,
          0,
          0,
          0,
          0,
          0.69,
          0,
          16.67,
          5.56,
          0,
          4.35,
          0,
          0,
          25,
          4.17,
          4.76,
          0,
          0,
          0,
          0,
          0,
          0,
          0,
          0,
          0,
          12.5,
          0,
          0,
          0,
          0,
          0,
          0,
          2.33,
          0,
          0,
          0,
          0
         ],
         "y": [
          0,
          0,
          0,
          0.8925758302211761,
          0,
          0,
          0,
          0,
          3.1800365541130304,
          0,
          -8.04239884018898,
          9.575664065778255,
          0,
          0,
          0,
          0,
          0,
          0,
          92.12247654795647,
          0,
          0,
          0,
          0,
          0,
          0,
          0,
          -5.572599358856678,
          0,
          -2.1472079679369926,
          0,
          0,
          0,
          0,
          4.945932887494564,
          0,
          0.19003567285835743,
          0,
          -2.6884814724326134,
          0,
          0,
          0,
          0,
          13.117973692715168,
          0,
          35.007072845473886,
          -6.288090255111456,
          0,
          15.302902087569237,
          0,
          0,
          -5.903013050556183,
          -21.470466628670692,
          0.507840421050787,
          0,
          0,
          0,
          0,
          0,
          0,
          0,
          0,
          0,
          -0.5260974867269397,
          0,
          0,
          0,
          0,
          0,
          0,
          -1.1282903142273426,
          0,
          0,
          0,
          0
         ]
        }
       ],
       "layout": {
        "annotations": [
         {
          "showarrow": false,
          "text": "% Progressive passes",
          "x": 0.5,
          "xref": "paper",
          "y": -0.15,
          "yref": "paper"
         },
         {
          "showarrow": false,
          "text": "VAEP per progressive pass (scaled to 10000)",
          "textangle": -90,
          "x": -0.07,
          "xref": "paper",
          "y": 0.5,
          "yref": "paper"
         }
        ],
        "autosize": true,
        "margin": {
         "b": 100
        },
        "template": {
         "data": {
          "bar": [
           {
            "error_x": {
             "color": "#2a3f5f"
            },
            "error_y": {
             "color": "#2a3f5f"
            },
            "marker": {
             "line": {
              "color": "#E5ECF6",
              "width": 0.5
             }
            },
            "type": "bar"
           }
          ],
          "barpolar": [
           {
            "marker": {
             "line": {
              "color": "#E5ECF6",
              "width": 0.5
             }
            },
            "type": "barpolar"
           }
          ],
          "carpet": [
           {
            "aaxis": {
             "endlinecolor": "#2a3f5f",
             "gridcolor": "white",
             "linecolor": "white",
             "minorgridcolor": "white",
             "startlinecolor": "#2a3f5f"
            },
            "baxis": {
             "endlinecolor": "#2a3f5f",
             "gridcolor": "white",
             "linecolor": "white",
             "minorgridcolor": "white",
             "startlinecolor": "#2a3f5f"
            },
            "type": "carpet"
           }
          ],
          "choropleth": [
           {
            "colorbar": {
             "outlinewidth": 0,
             "ticks": ""
            },
            "type": "choropleth"
           }
          ],
          "contour": [
           {
            "colorbar": {
             "outlinewidth": 0,
             "ticks": ""
            },
            "colorscale": [
             [
              0,
              "#0d0887"
             ],
             [
              0.1111111111111111,
              "#46039f"
             ],
             [
              0.2222222222222222,
              "#7201a8"
             ],
             [
              0.3333333333333333,
              "#9c179e"
             ],
             [
              0.4444444444444444,
              "#bd3786"
             ],
             [
              0.5555555555555556,
              "#d8576b"
             ],
             [
              0.6666666666666666,
              "#ed7953"
             ],
             [
              0.7777777777777778,
              "#fb9f3a"
             ],
             [
              0.8888888888888888,
              "#fdca26"
             ],
             [
              1,
              "#f0f921"
             ]
            ],
            "type": "contour"
           }
          ],
          "contourcarpet": [
           {
            "colorbar": {
             "outlinewidth": 0,
             "ticks": ""
            },
            "type": "contourcarpet"
           }
          ],
          "heatmap": [
           {
            "colorbar": {
             "outlinewidth": 0,
             "ticks": ""
            },
            "colorscale": [
             [
              0,
              "#0d0887"
             ],
             [
              0.1111111111111111,
              "#46039f"
             ],
             [
              0.2222222222222222,
              "#7201a8"
             ],
             [
              0.3333333333333333,
              "#9c179e"
             ],
             [
              0.4444444444444444,
              "#bd3786"
             ],
             [
              0.5555555555555556,
              "#d8576b"
             ],
             [
              0.6666666666666666,
              "#ed7953"
             ],
             [
              0.7777777777777778,
              "#fb9f3a"
             ],
             [
              0.8888888888888888,
              "#fdca26"
             ],
             [
              1,
              "#f0f921"
             ]
            ],
            "type": "heatmap"
           }
          ],
          "heatmapgl": [
           {
            "colorbar": {
             "outlinewidth": 0,
             "ticks": ""
            },
            "colorscale": [
             [
              0,
              "#0d0887"
             ],
             [
              0.1111111111111111,
              "#46039f"
             ],
             [
              0.2222222222222222,
              "#7201a8"
             ],
             [
              0.3333333333333333,
              "#9c179e"
             ],
             [
              0.4444444444444444,
              "#bd3786"
             ],
             [
              0.5555555555555556,
              "#d8576b"
             ],
             [
              0.6666666666666666,
              "#ed7953"
             ],
             [
              0.7777777777777778,
              "#fb9f3a"
             ],
             [
              0.8888888888888888,
              "#fdca26"
             ],
             [
              1,
              "#f0f921"
             ]
            ],
            "type": "heatmapgl"
           }
          ],
          "histogram": [
           {
            "marker": {
             "colorbar": {
              "outlinewidth": 0,
              "ticks": ""
             }
            },
            "type": "histogram"
           }
          ],
          "histogram2d": [
           {
            "colorbar": {
             "outlinewidth": 0,
             "ticks": ""
            },
            "colorscale": [
             [
              0,
              "#0d0887"
             ],
             [
              0.1111111111111111,
              "#46039f"
             ],
             [
              0.2222222222222222,
              "#7201a8"
             ],
             [
              0.3333333333333333,
              "#9c179e"
             ],
             [
              0.4444444444444444,
              "#bd3786"
             ],
             [
              0.5555555555555556,
              "#d8576b"
             ],
             [
              0.6666666666666666,
              "#ed7953"
             ],
             [
              0.7777777777777778,
              "#fb9f3a"
             ],
             [
              0.8888888888888888,
              "#fdca26"
             ],
             [
              1,
              "#f0f921"
             ]
            ],
            "type": "histogram2d"
           }
          ],
          "histogram2dcontour": [
           {
            "colorbar": {
             "outlinewidth": 0,
             "ticks": ""
            },
            "colorscale": [
             [
              0,
              "#0d0887"
             ],
             [
              0.1111111111111111,
              "#46039f"
             ],
             [
              0.2222222222222222,
              "#7201a8"
             ],
             [
              0.3333333333333333,
              "#9c179e"
             ],
             [
              0.4444444444444444,
              "#bd3786"
             ],
             [
              0.5555555555555556,
              "#d8576b"
             ],
             [
              0.6666666666666666,
              "#ed7953"
             ],
             [
              0.7777777777777778,
              "#fb9f3a"
             ],
             [
              0.8888888888888888,
              "#fdca26"
             ],
             [
              1,
              "#f0f921"
             ]
            ],
            "type": "histogram2dcontour"
           }
          ],
          "mesh3d": [
           {
            "colorbar": {
             "outlinewidth": 0,
             "ticks": ""
            },
            "type": "mesh3d"
           }
          ],
          "parcoords": [
           {
            "line": {
             "colorbar": {
              "outlinewidth": 0,
              "ticks": ""
             }
            },
            "type": "parcoords"
           }
          ],
          "pie": [
           {
            "automargin": true,
            "type": "pie"
           }
          ],
          "scatter": [
           {
            "marker": {
             "colorbar": {
              "outlinewidth": 0,
              "ticks": ""
             }
            },
            "type": "scatter"
           }
          ],
          "scatter3d": [
           {
            "line": {
             "colorbar": {
              "outlinewidth": 0,
              "ticks": ""
             }
            },
            "marker": {
             "colorbar": {
              "outlinewidth": 0,
              "ticks": ""
             }
            },
            "type": "scatter3d"
           }
          ],
          "scattercarpet": [
           {
            "marker": {
             "colorbar": {
              "outlinewidth": 0,
              "ticks": ""
             }
            },
            "type": "scattercarpet"
           }
          ],
          "scattergeo": [
           {
            "marker": {
             "colorbar": {
              "outlinewidth": 0,
              "ticks": ""
             }
            },
            "type": "scattergeo"
           }
          ],
          "scattergl": [
           {
            "marker": {
             "colorbar": {
              "outlinewidth": 0,
              "ticks": ""
             }
            },
            "type": "scattergl"
           }
          ],
          "scattermapbox": [
           {
            "marker": {
             "colorbar": {
              "outlinewidth": 0,
              "ticks": ""
             }
            },
            "type": "scattermapbox"
           }
          ],
          "scatterpolar": [
           {
            "marker": {
             "colorbar": {
              "outlinewidth": 0,
              "ticks": ""
             }
            },
            "type": "scatterpolar"
           }
          ],
          "scatterpolargl": [
           {
            "marker": {
             "colorbar": {
              "outlinewidth": 0,
              "ticks": ""
             }
            },
            "type": "scatterpolargl"
           }
          ],
          "scatterternary": [
           {
            "marker": {
             "colorbar": {
              "outlinewidth": 0,
              "ticks": ""
             }
            },
            "type": "scatterternary"
           }
          ],
          "surface": [
           {
            "colorbar": {
             "outlinewidth": 0,
             "ticks": ""
            },
            "colorscale": [
             [
              0,
              "#0d0887"
             ],
             [
              0.1111111111111111,
              "#46039f"
             ],
             [
              0.2222222222222222,
              "#7201a8"
             ],
             [
              0.3333333333333333,
              "#9c179e"
             ],
             [
              0.4444444444444444,
              "#bd3786"
             ],
             [
              0.5555555555555556,
              "#d8576b"
             ],
             [
              0.6666666666666666,
              "#ed7953"
             ],
             [
              0.7777777777777778,
              "#fb9f3a"
             ],
             [
              0.8888888888888888,
              "#fdca26"
             ],
             [
              1,
              "#f0f921"
             ]
            ],
            "type": "surface"
           }
          ],
          "table": [
           {
            "cells": {
             "fill": {
              "color": "#EBF0F8"
             },
             "line": {
              "color": "white"
             }
            },
            "header": {
             "fill": {
              "color": "#C8D4E3"
             },
             "line": {
              "color": "white"
             }
            },
            "type": "table"
           }
          ]
         },
         "layout": {
          "annotationdefaults": {
           "arrowcolor": "#2a3f5f",
           "arrowhead": 0,
           "arrowwidth": 1
          },
          "coloraxis": {
           "colorbar": {
            "outlinewidth": 0,
            "ticks": ""
           }
          },
          "colorscale": {
           "diverging": [
            [
             0,
             "#8e0152"
            ],
            [
             0.1,
             "#c51b7d"
            ],
            [
             0.2,
             "#de77ae"
            ],
            [
             0.3,
             "#f1b6da"
            ],
            [
             0.4,
             "#fde0ef"
            ],
            [
             0.5,
             "#f7f7f7"
            ],
            [
             0.6,
             "#e6f5d0"
            ],
            [
             0.7,
             "#b8e186"
            ],
            [
             0.8,
             "#7fbc41"
            ],
            [
             0.9,
             "#4d9221"
            ],
            [
             1,
             "#276419"
            ]
           ],
           "sequential": [
            [
             0,
             "#0d0887"
            ],
            [
             0.1111111111111111,
             "#46039f"
            ],
            [
             0.2222222222222222,
             "#7201a8"
            ],
            [
             0.3333333333333333,
             "#9c179e"
            ],
            [
             0.4444444444444444,
             "#bd3786"
            ],
            [
             0.5555555555555556,
             "#d8576b"
            ],
            [
             0.6666666666666666,
             "#ed7953"
            ],
            [
             0.7777777777777778,
             "#fb9f3a"
            ],
            [
             0.8888888888888888,
             "#fdca26"
            ],
            [
             1,
             "#f0f921"
            ]
           ],
           "sequentialminus": [
            [
             0,
             "#0d0887"
            ],
            [
             0.1111111111111111,
             "#46039f"
            ],
            [
             0.2222222222222222,
             "#7201a8"
            ],
            [
             0.3333333333333333,
             "#9c179e"
            ],
            [
             0.4444444444444444,
             "#bd3786"
            ],
            [
             0.5555555555555556,
             "#d8576b"
            ],
            [
             0.6666666666666666,
             "#ed7953"
            ],
            [
             0.7777777777777778,
             "#fb9f3a"
            ],
            [
             0.8888888888888888,
             "#fdca26"
            ],
            [
             1,
             "#f0f921"
            ]
           ]
          },
          "colorway": [
           "#636efa",
           "#EF553B",
           "#00cc96",
           "#ab63fa",
           "#FFA15A",
           "#19d3f3",
           "#FF6692",
           "#B6E880",
           "#FF97FF",
           "#FECB52"
          ],
          "font": {
           "color": "#2a3f5f"
          },
          "geo": {
           "bgcolor": "white",
           "lakecolor": "white",
           "landcolor": "#E5ECF6",
           "showlakes": true,
           "showland": true,
           "subunitcolor": "white"
          },
          "hoverlabel": {
           "align": "left"
          },
          "hovermode": "closest",
          "mapbox": {
           "style": "light"
          },
          "paper_bgcolor": "white",
          "plot_bgcolor": "#E5ECF6",
          "polar": {
           "angularaxis": {
            "gridcolor": "white",
            "linecolor": "white",
            "ticks": ""
           },
           "bgcolor": "#E5ECF6",
           "radialaxis": {
            "gridcolor": "white",
            "linecolor": "white",
            "ticks": ""
           }
          },
          "scene": {
           "xaxis": {
            "backgroundcolor": "#E5ECF6",
            "gridcolor": "white",
            "gridwidth": 2,
            "linecolor": "white",
            "showbackground": true,
            "ticks": "",
            "zerolinecolor": "white"
           },
           "yaxis": {
            "backgroundcolor": "#E5ECF6",
            "gridcolor": "white",
            "gridwidth": 2,
            "linecolor": "white",
            "showbackground": true,
            "ticks": "",
            "zerolinecolor": "white"
           },
           "zaxis": {
            "backgroundcolor": "#E5ECF6",
            "gridcolor": "white",
            "gridwidth": 2,
            "linecolor": "white",
            "showbackground": true,
            "ticks": "",
            "zerolinecolor": "white"
           }
          },
          "shapedefaults": {
           "line": {
            "color": "#2a3f5f"
           }
          },
          "ternary": {
           "aaxis": {
            "gridcolor": "white",
            "linecolor": "white",
            "ticks": ""
           },
           "baxis": {
            "gridcolor": "white",
            "linecolor": "white",
            "ticks": ""
           },
           "bgcolor": "#E5ECF6",
           "caxis": {
            "gridcolor": "white",
            "linecolor": "white",
            "ticks": ""
           }
          },
          "title": {
           "x": 0.05
          },
          "xaxis": {
           "automargin": true,
           "gridcolor": "white",
           "linecolor": "white",
           "ticks": "",
           "title": {
            "standoff": 15
           },
           "zerolinecolor": "white",
           "zerolinewidth": 2
          },
          "yaxis": {
           "automargin": true,
           "gridcolor": "white",
           "linecolor": "white",
           "ticks": "",
           "title": {
            "standoff": 15
           },
           "zerolinecolor": "white",
           "zerolinewidth": 2
          }
         }
        },
        "title": {
         "text": "rightcentral_def"
        },
        "xaxis": {
         "autorange": true,
         "range": [
          -1.5329047421540165,
          26.532904742154017
         ],
         "type": "linear"
        },
        "yaxis": {
         "autorange": true,
         "range": [
          -29.95729571657962,
          100.6093056358654
         ],
         "type": "linear"
        }
       }
      },
      "image/png": "[encoded data removed]",
      "text/html": [
       "<div>\n",
       "        \n",
       "        \n",
       "            <div id=\"c9ae80e0-d91f-4f62-a25e-8cef6ac5ad46\" class=\"plotly-graph-div\" style=\"height:525px; width:100%;\"></div>\n",
       "            <script type=\"text/javascript\">\n",
       "                require([\"plotly\"], function(Plotly) {\n",
       "                    window.PLOTLYENV=window.PLOTLYENV || {};\n",
       "                    \n",
       "                if (document.getElementById(\"c9ae80e0-d91f-4f62-a25e-8cef6ac5ad46\")) {\n",
       "                    Plotly.newPlot(\n",
       "                        'c9ae80e0-d91f-4f62-a25e-8cef6ac5ad46',\n",
       "                        [{\"mode\": \"markers\", \"name\": \"Plot2\", \"text\": [\"AaronCresswell LCB left\", \"AdrianMariappa L_CB right\", \"AhmedHegazi LCB right\", \"AhmedHegazi L_CB right\", \"AlfieMawson LCB right\", \"AlfieMawson L_CB right\", \"AngeloOgbonna LCB left\", \"AngeloOgbonna L_CB left\", \"AntonioRudiger LCB right\", \"AshleyWilliams L_CB right\", \"AymericLaporte L_CB left\", \"BenMee L_CB left\", \"BrunoMartinsIndi LCB left\", \"BrunoMartinsIndi L_CB left\", \"CalumChambers L_CB right\", \"ChrisSmalling L_CB right\", \"ChristianKabasele LCB right\", \"ChristianKabasele L_CB right\", \"ChristopherSchindler L_CB right\", \"CiaranClark LCB left\", \"CiaranClark L_CB left\", \"DeclanRice LCB right\", \"DejanLovren L_CB right\", \"EliaquimMangala L_CB left\", \"ErikPieters LCB left\", \"FlorianLejeune L_CB right\", \"GaryCahill LCB right\", \"GeoffCameron LCB right\", \"HarryMaguire L_CB right\", \"JamesCollins LCB right\", \"JamesTarkowski L_CB right\", \"JamesTomkins L_CB right\", \"JanVertonghen LCB left\", \"JanVertonghen L_CB left\", \"JonnyEvans LCB right\", \"JonnyEvans L_CB right\", \"JoseHolebas LCB left\", \"KevinWimmer LCB left\", \"KevinWimmer L_CB left\", \"KurtZouma L_CB right\", \"LaurentKoscielny LCB right\", \"LaurentKoscielny L_CB right\", \"LewisDunk L_CB right\", \"MamadouSakho L_CB left\", \"MarcosRojo L_CB left\", \"MayaYoshida L_CB right\", \"MichaelKeane L_CB right\", \"MiguelBritos LCB left\", \"MiguelBritos L_CB left\", \"NachoMonreal LCB left\", \"NachoMonreal L_CB left\", \"NathanAke LCB left\", \"NathanAke L_CB left\", \"NicolasOtamendi LCB right\", \"NicolasOtamendi L_CB right\", \"PaulDummett LCB left\", \"PhilJagielka LCB right\", \"PhilJagielka L_CB right\", \"PhilJones LCB right\", \"PhilJones L_CB right\", \"RagnarKlavan L_CB left\", \"RobHolding LCB right\", \"RobHolding L_CB right\", \"ScottDann L_CB right\", \"SeadKolasinac LCB left\", \"ShkodranMustafi L_CB right\", \"TobyAlderweireld L_CB right\", \"TyroneMings LCB left\", \"VictorNilssonLindelof L_CB right\", \"VirgilvanDijk L_CB right\", \"VirgilvanDijk L_CB right\", \"WesleyHoedt LCB left\", \"WesleyHoedt L_CB left\", \"WinstonReid L_CB right\"], \"type\": \"scatter\", \"x\": [0, 0, 0, 2.17, 0, 0, 0, 0, 1.69, 0, 4.55, 1.32, 0, 0, 0, 0, 0, 0, 2.35, 0, 0, 0, 0, 0, 0, 0, 2.56, 0, 2.82, 0, 0, 0, 0, 1.05, 0, 2.5, 0, 3.23, 0, 0, 0, 0, 0.69, 0, 16.67, 5.56, 0, 4.35, 0, 0, 25.0, 4.17, 4.76, 0, 0, 0, 0, 0, 0, 0, 0, 0, 12.5, 0, 0, 0, 0, 0, 0, 2.33, 0, 0, 0, 0], \"y\": [0, 0, 0, 0.8925758302211761, 0, 0, 0, 0, 3.1800365541130304, 0, -8.04239884018898, 9.575664065778255, 0, 0, 0, 0, 0, 0, 92.12247654795647, 0, 0, 0, 0, 0, 0, 0, -5.572599358856678, 0, -2.1472079679369926, 0, 0, 0, 0, 4.945932887494564, 0, 0.19003567285835743, 0, -2.6884814724326134, 0, 0, 0, 0, 13.117973692715168, 0, 35.007072845473886, -6.288090255111456, 0, 15.302902087569237, 0, 0, -5.903013050556183, -21.470466628670692, 0.507840421050787, 0, 0, 0, 0, 0, 0, 0, 0, 0, -0.5260974867269397, 0, 0, 0, 0, 0, 0, -1.1282903142273426, 0, 0, 0, 0]}],\n",
       "                        {\"annotations\": [{\"showarrow\": false, \"text\": \"% Progressive passes\", \"x\": 0.5, \"xref\": \"paper\", \"y\": -0.15, \"yref\": \"paper\"}, {\"showarrow\": false, \"text\": \"VAEP per progressive pass (scaled to 10000)\", \"textangle\": -90, \"x\": -0.07, \"xref\": \"paper\", \"y\": 0.5, \"yref\": \"paper\"}], \"autosize\": true, \"margin\": {\"b\": 100}, \"template\": {\"data\": {\"bar\": [{\"error_x\": {\"color\": \"#2a3f5f\"}, \"error_y\": {\"color\": \"#2a3f5f\"}, \"marker\": {\"line\": {\"color\": \"#E5ECF6\", \"width\": 0.5}}, \"type\": \"bar\"}], \"barpolar\": [{\"marker\": {\"line\": {\"color\": \"#E5ECF6\", \"width\": 0.5}}, \"type\": \"barpolar\"}], \"carpet\": [{\"aaxis\": {\"endlinecolor\": \"#2a3f5f\", \"gridcolor\": \"white\", \"linecolor\": \"white\", \"minorgridcolor\": \"white\", \"startlinecolor\": \"#2a3f5f\"}, \"baxis\": {\"endlinecolor\": \"#2a3f5f\", \"gridcolor\": \"white\", \"linecolor\": \"white\", \"minorgridcolor\": \"white\", \"startlinecolor\": \"#2a3f5f\"}, \"type\": \"carpet\"}], \"choropleth\": [{\"colorbar\": {\"outlinewidth\": 0, \"ticks\": \"\"}, \"type\": \"choropleth\"}], \"contour\": [{\"colorbar\": {\"outlinewidth\": 0, \"ticks\": \"\"}, \"colorscale\": [[0.0, \"#0d0887\"], [0.1111111111111111, \"#46039f\"], [0.2222222222222222, \"#7201a8\"], [0.3333333333333333, \"#9c179e\"], [0.4444444444444444, \"#bd3786\"], [0.5555555555555556, \"#d8576b\"], [0.6666666666666666, \"#ed7953\"], [0.7777777777777778, \"#fb9f3a\"], [0.8888888888888888, \"#fdca26\"], [1.0, \"#f0f921\"]], \"type\": \"contour\"}], \"contourcarpet\": [{\"colorbar\": {\"outlinewidth\": 0, \"ticks\": \"\"}, \"type\": \"contourcarpet\"}], \"heatmap\": [{\"colorbar\": {\"outlinewidth\": 0, \"ticks\": \"\"}, \"colorscale\": [[0.0, \"#0d0887\"], [0.1111111111111111, \"#46039f\"], [0.2222222222222222, \"#7201a8\"], [0.3333333333333333, \"#9c179e\"], [0.4444444444444444, \"#bd3786\"], [0.5555555555555556, \"#d8576b\"], [0.6666666666666666, \"#ed7953\"], [0.7777777777777778, \"#fb9f3a\"], [0.8888888888888888, \"#fdca26\"], [1.0, \"#f0f921\"]], \"type\": \"heatmap\"}], \"heatmapgl\": [{\"colorbar\": {\"outlinewidth\": 0, \"ticks\": \"\"}, \"colorscale\": [[0.0, \"#0d0887\"], [0.1111111111111111, \"#46039f\"], [0.2222222222222222, \"#7201a8\"], [0.3333333333333333, \"#9c179e\"], [0.4444444444444444, \"#bd3786\"], [0.5555555555555556, \"#d8576b\"], [0.6666666666666666, \"#ed7953\"], [0.7777777777777778, \"#fb9f3a\"], [0.8888888888888888, \"#fdca26\"], [1.0, \"#f0f921\"]], \"type\": \"heatmapgl\"}], \"histogram\": [{\"marker\": {\"colorbar\": {\"outlinewidth\": 0, \"ticks\": \"\"}}, \"type\": \"histogram\"}], \"histogram2d\": [{\"colorbar\": {\"outlinewidth\": 0, \"ticks\": \"\"}, \"colorscale\": [[0.0, \"#0d0887\"], [0.1111111111111111, \"#46039f\"], [0.2222222222222222, \"#7201a8\"], [0.3333333333333333, \"#9c179e\"], [0.4444444444444444, \"#bd3786\"], [0.5555555555555556, \"#d8576b\"], [0.6666666666666666, \"#ed7953\"], [0.7777777777777778, \"#fb9f3a\"], [0.8888888888888888, \"#fdca26\"], [1.0, \"#f0f921\"]], \"type\": \"histogram2d\"}], \"histogram2dcontour\": [{\"colorbar\": {\"outlinewidth\": 0, \"ticks\": \"\"}, \"colorscale\": [[0.0, \"#0d0887\"], [0.1111111111111111, \"#46039f\"], [0.2222222222222222, \"#7201a8\"], [0.3333333333333333, \"#9c179e\"], [0.4444444444444444, \"#bd3786\"], [0.5555555555555556, \"#d8576b\"], [0.6666666666666666, \"#ed7953\"], [0.7777777777777778, \"#fb9f3a\"], [0.8888888888888888, \"#fdca26\"], [1.0, \"#f0f921\"]], \"type\": \"histogram2dcontour\"}], \"mesh3d\": [{\"colorbar\": {\"outlinewidth\": 0, \"ticks\": \"\"}, \"type\": \"mesh3d\"}], \"parcoords\": [{\"line\": {\"colorbar\": {\"outlinewidth\": 0, \"ticks\": \"\"}}, \"type\": \"parcoords\"}], \"pie\": [{\"automargin\": true, \"type\": \"pie\"}], \"scatter\": [{\"marker\": {\"colorbar\": {\"outlinewidth\": 0, \"ticks\": \"\"}}, \"type\": \"scatter\"}], \"scatter3d\": [{\"line\": {\"colorbar\": {\"outlinewidth\": 0, \"ticks\": \"\"}}, \"marker\": {\"colorbar\": {\"outlinewidth\": 0, \"ticks\": \"\"}}, \"type\": \"scatter3d\"}], \"scattercarpet\": [{\"marker\": {\"colorbar\": {\"outlinewidth\": 0, \"ticks\": \"\"}}, \"type\": \"scattercarpet\"}], \"scattergeo\": [{\"marker\": {\"colorbar\": {\"outlinewidth\": 0, \"ticks\": \"\"}}, \"type\": \"scattergeo\"}], \"scattergl\": [{\"marker\": {\"colorbar\": {\"outlinewidth\": 0, \"ticks\": \"\"}}, \"type\": \"scattergl\"}], \"scattermapbox\": [{\"marker\": {\"colorbar\": {\"outlinewidth\": 0, \"ticks\": \"\"}}, \"type\": \"scattermapbox\"}], \"scatterpolar\": [{\"marker\": {\"colorbar\": {\"outlinewidth\": 0, \"ticks\": \"\"}}, \"type\": \"scatterpolar\"}], \"scatterpolargl\": [{\"marker\": {\"colorbar\": {\"outlinewidth\": 0, \"ticks\": \"\"}}, \"type\": \"scatterpolargl\"}], \"scatterternary\": [{\"marker\": {\"colorbar\": {\"outlinewidth\": 0, \"ticks\": \"\"}}, \"type\": \"scatterternary\"}], \"surface\": [{\"colorbar\": {\"outlinewidth\": 0, \"ticks\": \"\"}, \"colorscale\": [[0.0, \"#0d0887\"], [0.1111111111111111, \"#46039f\"], [0.2222222222222222, \"#7201a8\"], [0.3333333333333333, \"#9c179e\"], [0.4444444444444444, \"#bd3786\"], [0.5555555555555556, \"#d8576b\"], [0.6666666666666666, \"#ed7953\"], [0.7777777777777778, \"#fb9f3a\"], [0.8888888888888888, \"#fdca26\"], [1.0, \"#f0f921\"]], \"type\": \"surface\"}], \"table\": [{\"cells\": {\"fill\": {\"color\": \"#EBF0F8\"}, \"line\": {\"color\": \"white\"}}, \"header\": {\"fill\": {\"color\": \"#C8D4E3\"}, \"line\": {\"color\": \"white\"}}, \"type\": \"table\"}]}, \"layout\": {\"annotationdefaults\": {\"arrowcolor\": \"#2a3f5f\", \"arrowhead\": 0, \"arrowwidth\": 1}, \"coloraxis\": {\"colorbar\": {\"outlinewidth\": 0, \"ticks\": \"\"}}, \"colorscale\": {\"diverging\": [[0, \"#8e0152\"], [0.1, \"#c51b7d\"], [0.2, \"#de77ae\"], [0.3, \"#f1b6da\"], [0.4, \"#fde0ef\"], [0.5, \"#f7f7f7\"], [0.6, \"#e6f5d0\"], [0.7, \"#b8e186\"], [0.8, \"#7fbc41\"], [0.9, \"#4d9221\"], [1, \"#276419\"]], \"sequential\": [[0.0, \"#0d0887\"], [0.1111111111111111, \"#46039f\"], [0.2222222222222222, \"#7201a8\"], [0.3333333333333333, \"#9c179e\"], [0.4444444444444444, \"#bd3786\"], [0.5555555555555556, \"#d8576b\"], [0.6666666666666666, \"#ed7953\"], [0.7777777777777778, \"#fb9f3a\"], [0.8888888888888888, \"#fdca26\"], [1.0, \"#f0f921\"]], \"sequentialminus\": [[0.0, \"#0d0887\"], [0.1111111111111111, \"#46039f\"], [0.2222222222222222, \"#7201a8\"], [0.3333333333333333, \"#9c179e\"], [0.4444444444444444, \"#bd3786\"], [0.5555555555555556, \"#d8576b\"], [0.6666666666666666, \"#ed7953\"], [0.7777777777777778, \"#fb9f3a\"], [0.8888888888888888, \"#fdca26\"], [1.0, \"#f0f921\"]]}, \"colorway\": [\"#636efa\", \"#EF553B\", \"#00cc96\", \"#ab63fa\", \"#FFA15A\", \"#19d3f3\", \"#FF6692\", \"#B6E880\", \"#FF97FF\", \"#FECB52\"], \"font\": {\"color\": \"#2a3f5f\"}, \"geo\": {\"bgcolor\": \"white\", \"lakecolor\": \"white\", \"landcolor\": \"#E5ECF6\", \"showlakes\": true, \"showland\": true, \"subunitcolor\": \"white\"}, \"hoverlabel\": {\"align\": \"left\"}, \"hovermode\": \"closest\", \"mapbox\": {\"style\": \"light\"}, \"paper_bgcolor\": \"white\", \"plot_bgcolor\": \"#E5ECF6\", \"polar\": {\"angularaxis\": {\"gridcolor\": \"white\", \"linecolor\": \"white\", \"ticks\": \"\"}, \"bgcolor\": \"#E5ECF6\", \"radialaxis\": {\"gridcolor\": \"white\", \"linecolor\": \"white\", \"ticks\": \"\"}}, \"scene\": {\"xaxis\": {\"backgroundcolor\": \"#E5ECF6\", \"gridcolor\": \"white\", \"gridwidth\": 2, \"linecolor\": \"white\", \"showbackground\": true, \"ticks\": \"\", \"zerolinecolor\": \"white\"}, \"yaxis\": {\"backgroundcolor\": \"#E5ECF6\", \"gridcolor\": \"white\", \"gridwidth\": 2, \"linecolor\": \"white\", \"showbackground\": true, \"ticks\": \"\", \"zerolinecolor\": \"white\"}, \"zaxis\": {\"backgroundcolor\": \"#E5ECF6\", \"gridcolor\": \"white\", \"gridwidth\": 2, \"linecolor\": \"white\", \"showbackground\": true, \"ticks\": \"\", \"zerolinecolor\": \"white\"}}, \"shapedefaults\": {\"line\": {\"color\": \"#2a3f5f\"}}, \"ternary\": {\"aaxis\": {\"gridcolor\": \"white\", \"linecolor\": \"white\", \"ticks\": \"\"}, \"baxis\": {\"gridcolor\": \"white\", \"linecolor\": \"white\", \"ticks\": \"\"}, \"bgcolor\": \"#E5ECF6\", \"caxis\": {\"gridcolor\": \"white\", \"linecolor\": \"white\", \"ticks\": \"\"}}, \"title\": {\"x\": 0.05}, \"xaxis\": {\"automargin\": true, \"gridcolor\": \"white\", \"linecolor\": \"white\", \"ticks\": \"\", \"title\": {\"standoff\": 15}, \"zerolinecolor\": \"white\", \"zerolinewidth\": 2}, \"yaxis\": {\"automargin\": true, \"gridcolor\": \"white\", \"linecolor\": \"white\", \"ticks\": \"\", \"title\": {\"standoff\": 15}, \"zerolinecolor\": \"white\", \"zerolinewidth\": 2}}}, \"title\": {\"text\": \"rightcentral_def\"}},\n",
       "                        {\"responsive\": true}\n",
       "                    ).then(function(){\n",
       "                            \n",
       "var gd = document.getElementById('c9ae80e0-d91f-4f62-a25e-8cef6ac5ad46');\n",
       "var x = new MutationObserver(function (mutations, observer) {{\n",
       "        var display = window.getComputedStyle(gd).display;\n",
       "        if (!display || display === 'none') {{\n",
       "            console.log([gd, 'removed!']);\n",
       "            Plotly.purge(gd);\n",
       "            observer.disconnect();\n",
       "        }}\n",
       "}});\n",
       "\n",
       "// Listen for the removal of the full notebook cells\n",
       "var notebookContainer = gd.closest('#notebook-container');\n",
       "if (notebookContainer) {{\n",
       "    x.observe(notebookContainer, {childList: true});\n",
       "}}\n",
       "\n",
       "// Listen for the clearing of the current output cell\n",
       "var outputEl = gd.closest('.output');\n",
       "if (outputEl) {{\n",
       "    x.observe(outputEl, {childList: true});\n",
       "}}\n",
       "\n",
       "                        })\n",
       "                };\n",
       "                });\n",
       "            </script>\n",
       "        </div>"
      ]
     },
     "metadata": {},
     "output_type": "display_data"
    },
    {
     "data": {
      "application/vnd.plotly.v1+json": {
       "config": {
        "plotlyServerURL": "https://plot.ly"
       },
       "data": [
        {
         "mode": "markers",
         "name": "Plot3",
         "text": [
          "AaronCresswell LCB left",
          "AdrianMariappa L_CB right",
          "AhmedHegazi LCB right",
          "AhmedHegazi L_CB right",
          "AlfieMawson LCB right",
          "AlfieMawson L_CB right",
          "AngeloOgbonna LCB left",
          "AngeloOgbonna L_CB left",
          "AntonioRudiger LCB right",
          "AshleyWilliams L_CB right",
          "AymericLaporte L_CB left",
          "BenMee L_CB left",
          "BrunoMartinsIndi LCB left",
          "BrunoMartinsIndi L_CB left",
          "CalumChambers L_CB right",
          "ChrisSmalling L_CB right",
          "ChristianKabasele LCB right",
          "ChristianKabasele L_CB right",
          "ChristopherSchindler L_CB right",
          "CiaranClark LCB left",
          "CiaranClark L_CB left",
          "DeclanRice LCB right",
          "DejanLovren L_CB right",
          "EliaquimMangala L_CB left",
          "ErikPieters LCB left",
          "FlorianLejeune L_CB right",
          "GaryCahill LCB right",
          "GeoffCameron LCB right",
          "HarryMaguire L_CB right",
          "JamesCollins LCB right",
          "JamesTarkowski L_CB right",
          "JamesTomkins L_CB right",
          "JanVertonghen LCB left",
          "JanVertonghen L_CB left",
          "JonnyEvans LCB right",
          "JonnyEvans L_CB right",
          "JoseHolebas LCB left",
          "KevinWimmer LCB left",
          "KevinWimmer L_CB left",
          "KurtZouma L_CB right",
          "LaurentKoscielny LCB right",
          "LaurentKoscielny L_CB right",
          "LewisDunk L_CB right",
          "MamadouSakho L_CB left",
          "MarcosRojo L_CB left",
          "MayaYoshida L_CB right",
          "MichaelKeane L_CB right",
          "MiguelBritos LCB left",
          "MiguelBritos L_CB left",
          "NachoMonreal LCB left",
          "NachoMonreal L_CB left",
          "NathanAke LCB left",
          "NathanAke L_CB left",
          "NicolasOtamendi LCB right",
          "NicolasOtamendi L_CB right",
          "PaulDummett LCB left",
          "PhilJagielka LCB right",
          "PhilJagielka L_CB right",
          "PhilJones LCB right",
          "PhilJones L_CB right",
          "RagnarKlavan L_CB left",
          "RobHolding LCB right",
          "RobHolding L_CB right",
          "ScottDann L_CB right",
          "SeadKolasinac LCB left",
          "ShkodranMustafi L_CB right",
          "TobyAlderweireld L_CB right",
          "TyroneMings LCB left",
          "VictorNilssonLindelof L_CB right",
          "VirgilvanDijk L_CB right",
          "VirgilvanDijk L_CB right",
          "WesleyHoedt LCB left",
          "WesleyHoedt L_CB left",
          "WinstonReid L_CB right"
         ],
         "type": "scatter",
         "x": [
          2.2,
          0,
          0,
          0,
          2.7,
          0,
          0,
          0,
          0,
          0,
          0,
          0,
          0,
          0,
          25,
          0,
          0,
          2.56,
          4.71,
          0,
          0,
          0,
          0,
          0,
          25,
          1.61,
          2.56,
          0,
          4.93,
          0,
          5.41,
          4.55,
          0,
          2.11,
          0,
          0,
          0,
          0,
          0,
          6.25,
          0,
          0,
          3.47,
          6.06,
          8.33,
          0,
          4.17,
          0,
          0,
          2.63,
          0,
          0,
          2.38,
          0,
          1.59,
          0,
          8.33,
          0,
          0,
          0,
          0,
          25,
          0,
          0,
          0,
          16.67,
          0,
          0,
          0,
          6.98,
          0,
          4.35,
          1.37,
          25
         ],
         "y": [
          0.7358531001955271,
          0,
          0,
          0,
          -1.2407505419105291,
          0,
          0,
          0,
          0,
          0,
          0,
          0,
          0,
          0,
          -4.872508347034454,
          0,
          0,
          -4.578287247568369,
          5.464555899379775,
          0,
          0,
          0,
          0,
          0,
          -13.986891135573387,
          1.3257870450615883,
          -1.0155625641345978,
          0,
          7.17551344340401,
          0,
          -8.3841891027987,
          6.654667668044567,
          0,
          3.2237456180155277,
          0,
          0,
          0,
          0,
          0,
          -1.840636134147644,
          0,
          0,
          -2.686603181064129,
          22.898087510839105,
          9.678054600954056,
          0,
          -4.114568931981921,
          0,
          0,
          -4.616545978933573,
          0,
          0,
          30.623799189925194,
          0,
          -9.072376415133476,
          0,
          0.0942691694945097,
          0,
          0,
          0,
          0,
          -5.853617563843727,
          0,
          0,
          0,
          -8.31411313265562,
          0,
          0,
          0,
          17.27688421184818,
          0,
          12.317876447923481,
          5.043696146458387,
          8.197154849767685
         ]
        }
       ],
       "layout": {
        "annotations": [
         {
          "showarrow": false,
          "text": "% Progressive passes",
          "x": 0.5,
          "xref": "paper",
          "y": -0.15,
          "yref": "paper"
         },
         {
          "showarrow": false,
          "text": "VAEP per progressive pass (scaled to 10000)",
          "textangle": -90,
          "x": -0.07,
          "xref": "paper",
          "y": 0.5,
          "yref": "paper"
         }
        ],
        "autosize": true,
        "margin": {
         "b": 100
        },
        "template": {
         "data": {
          "bar": [
           {
            "error_x": {
             "color": "#2a3f5f"
            },
            "error_y": {
             "color": "#2a3f5f"
            },
            "marker": {
             "line": {
              "color": "#E5ECF6",
              "width": 0.5
             }
            },
            "type": "bar"
           }
          ],
          "barpolar": [
           {
            "marker": {
             "line": {
              "color": "#E5ECF6",
              "width": 0.5
             }
            },
            "type": "barpolar"
           }
          ],
          "carpet": [
           {
            "aaxis": {
             "endlinecolor": "#2a3f5f",
             "gridcolor": "white",
             "linecolor": "white",
             "minorgridcolor": "white",
             "startlinecolor": "#2a3f5f"
            },
            "baxis": {
             "endlinecolor": "#2a3f5f",
             "gridcolor": "white",
             "linecolor": "white",
             "minorgridcolor": "white",
             "startlinecolor": "#2a3f5f"
            },
            "type": "carpet"
           }
          ],
          "choropleth": [
           {
            "colorbar": {
             "outlinewidth": 0,
             "ticks": ""
            },
            "type": "choropleth"
           }
          ],
          "contour": [
           {
            "colorbar": {
             "outlinewidth": 0,
             "ticks": ""
            },
            "colorscale": [
             [
              0,
              "#0d0887"
             ],
             [
              0.1111111111111111,
              "#46039f"
             ],
             [
              0.2222222222222222,
              "#7201a8"
             ],
             [
              0.3333333333333333,
              "#9c179e"
             ],
             [
              0.4444444444444444,
              "#bd3786"
             ],
             [
              0.5555555555555556,
              "#d8576b"
             ],
             [
              0.6666666666666666,
              "#ed7953"
             ],
             [
              0.7777777777777778,
              "#fb9f3a"
             ],
             [
              0.8888888888888888,
              "#fdca26"
             ],
             [
              1,
              "#f0f921"
             ]
            ],
            "type": "contour"
           }
          ],
          "contourcarpet": [
           {
            "colorbar": {
             "outlinewidth": 0,
             "ticks": ""
            },
            "type": "contourcarpet"
           }
          ],
          "heatmap": [
           {
            "colorbar": {
             "outlinewidth": 0,
             "ticks": ""
            },
            "colorscale": [
             [
              0,
              "#0d0887"
             ],
             [
              0.1111111111111111,
              "#46039f"
             ],
             [
              0.2222222222222222,
              "#7201a8"
             ],
             [
              0.3333333333333333,
              "#9c179e"
             ],
             [
              0.4444444444444444,
              "#bd3786"
             ],
             [
              0.5555555555555556,
              "#d8576b"
             ],
             [
              0.6666666666666666,
              "#ed7953"
             ],
             [
              0.7777777777777778,
              "#fb9f3a"
             ],
             [
              0.8888888888888888,
              "#fdca26"
             ],
             [
              1,
              "#f0f921"
             ]
            ],
            "type": "heatmap"
           }
          ],
          "heatmapgl": [
           {
            "colorbar": {
             "outlinewidth": 0,
             "ticks": ""
            },
            "colorscale": [
             [
              0,
              "#0d0887"
             ],
             [
              0.1111111111111111,
              "#46039f"
             ],
             [
              0.2222222222222222,
              "#7201a8"
             ],
             [
              0.3333333333333333,
              "#9c179e"
             ],
             [
              0.4444444444444444,
              "#bd3786"
             ],
             [
              0.5555555555555556,
              "#d8576b"
             ],
             [
              0.6666666666666666,
              "#ed7953"
             ],
             [
              0.7777777777777778,
              "#fb9f3a"
             ],
             [
              0.8888888888888888,
              "#fdca26"
             ],
             [
              1,
              "#f0f921"
             ]
            ],
            "type": "heatmapgl"
           }
          ],
          "histogram": [
           {
            "marker": {
             "colorbar": {
              "outlinewidth": 0,
              "ticks": ""
             }
            },
            "type": "histogram"
           }
          ],
          "histogram2d": [
           {
            "colorbar": {
             "outlinewidth": 0,
             "ticks": ""
            },
            "colorscale": [
             [
              0,
              "#0d0887"
             ],
             [
              0.1111111111111111,
              "#46039f"
             ],
             [
              0.2222222222222222,
              "#7201a8"
             ],
             [
              0.3333333333333333,
              "#9c179e"
             ],
             [
              0.4444444444444444,
              "#bd3786"
             ],
             [
              0.5555555555555556,
              "#d8576b"
             ],
             [
              0.6666666666666666,
              "#ed7953"
             ],
             [
              0.7777777777777778,
              "#fb9f3a"
             ],
             [
              0.8888888888888888,
              "#fdca26"
             ],
             [
              1,
              "#f0f921"
             ]
            ],
            "type": "histogram2d"
           }
          ],
          "histogram2dcontour": [
           {
            "colorbar": {
             "outlinewidth": 0,
             "ticks": ""
            },
            "colorscale": [
             [
              0,
              "#0d0887"
             ],
             [
              0.1111111111111111,
              "#46039f"
             ],
             [
              0.2222222222222222,
              "#7201a8"
             ],
             [
              0.3333333333333333,
              "#9c179e"
             ],
             [
              0.4444444444444444,
              "#bd3786"
             ],
             [
              0.5555555555555556,
              "#d8576b"
             ],
             [
              0.6666666666666666,
              "#ed7953"
             ],
             [
              0.7777777777777778,
              "#fb9f3a"
             ],
             [
              0.8888888888888888,
              "#fdca26"
             ],
             [
              1,
              "#f0f921"
             ]
            ],
            "type": "histogram2dcontour"
           }
          ],
          "mesh3d": [
           {
            "colorbar": {
             "outlinewidth": 0,
             "ticks": ""
            },
            "type": "mesh3d"
           }
          ],
          "parcoords": [
           {
            "line": {
             "colorbar": {
              "outlinewidth": 0,
              "ticks": ""
             }
            },
            "type": "parcoords"
           }
          ],
          "pie": [
           {
            "automargin": true,
            "type": "pie"
           }
          ],
          "scatter": [
           {
            "marker": {
             "colorbar": {
              "outlinewidth": 0,
              "ticks": ""
             }
            },
            "type": "scatter"
           }
          ],
          "scatter3d": [
           {
            "line": {
             "colorbar": {
              "outlinewidth": 0,
              "ticks": ""
             }
            },
            "marker": {
             "colorbar": {
              "outlinewidth": 0,
              "ticks": ""
             }
            },
            "type": "scatter3d"
           }
          ],
          "scattercarpet": [
           {
            "marker": {
             "colorbar": {
              "outlinewidth": 0,
              "ticks": ""
             }
            },
            "type": "scattercarpet"
           }
          ],
          "scattergeo": [
           {
            "marker": {
             "colorbar": {
              "outlinewidth": 0,
              "ticks": ""
             }
            },
            "type": "scattergeo"
           }
          ],
          "scattergl": [
           {
            "marker": {
             "colorbar": {
              "outlinewidth": 0,
              "ticks": ""
             }
            },
            "type": "scattergl"
           }
          ],
          "scattermapbox": [
           {
            "marker": {
             "colorbar": {
              "outlinewidth": 0,
              "ticks": ""
             }
            },
            "type": "scattermapbox"
           }
          ],
          "scatterpolar": [
           {
            "marker": {
             "colorbar": {
              "outlinewidth": 0,
              "ticks": ""
             }
            },
            "type": "scatterpolar"
           }
          ],
          "scatterpolargl": [
           {
            "marker": {
             "colorbar": {
              "outlinewidth": 0,
              "ticks": ""
             }
            },
            "type": "scatterpolargl"
           }
          ],
          "scatterternary": [
           {
            "marker": {
             "colorbar": {
              "outlinewidth": 0,
              "ticks": ""
             }
            },
            "type": "scatterternary"
           }
          ],
          "surface": [
           {
            "colorbar": {
             "outlinewidth": 0,
             "ticks": ""
            },
            "colorscale": [
             [
              0,
              "#0d0887"
             ],
             [
              0.1111111111111111,
              "#46039f"
             ],
             [
              0.2222222222222222,
              "#7201a8"
             ],
             [
              0.3333333333333333,
              "#9c179e"
             ],
             [
              0.4444444444444444,
              "#bd3786"
             ],
             [
              0.5555555555555556,
              "#d8576b"
             ],
             [
              0.6666666666666666,
              "#ed7953"
             ],
             [
              0.7777777777777778,
              "#fb9f3a"
             ],
             [
              0.8888888888888888,
              "#fdca26"
             ],
             [
              1,
              "#f0f921"
             ]
            ],
            "type": "surface"
           }
          ],
          "table": [
           {
            "cells": {
             "fill": {
              "color": "#EBF0F8"
             },
             "line": {
              "color": "white"
             }
            },
            "header": {
             "fill": {
              "color": "#C8D4E3"
             },
             "line": {
              "color": "white"
             }
            },
            "type": "table"
           }
          ]
         },
         "layout": {
          "annotationdefaults": {
           "arrowcolor": "#2a3f5f",
           "arrowhead": 0,
           "arrowwidth": 1
          },
          "coloraxis": {
           "colorbar": {
            "outlinewidth": 0,
            "ticks": ""
           }
          },
          "colorscale": {
           "diverging": [
            [
             0,
             "#8e0152"
            ],
            [
             0.1,
             "#c51b7d"
            ],
            [
             0.2,
             "#de77ae"
            ],
            [
             0.3,
             "#f1b6da"
            ],
            [
             0.4,
             "#fde0ef"
            ],
            [
             0.5,
             "#f7f7f7"
            ],
            [
             0.6,
             "#e6f5d0"
            ],
            [
             0.7,
             "#b8e186"
            ],
            [
             0.8,
             "#7fbc41"
            ],
            [
             0.9,
             "#4d9221"
            ],
            [
             1,
             "#276419"
            ]
           ],
           "sequential": [
            [
             0,
             "#0d0887"
            ],
            [
             0.1111111111111111,
             "#46039f"
            ],
            [
             0.2222222222222222,
             "#7201a8"
            ],
            [
             0.3333333333333333,
             "#9c179e"
            ],
            [
             0.4444444444444444,
             "#bd3786"
            ],
            [
             0.5555555555555556,
             "#d8576b"
            ],
            [
             0.6666666666666666,
             "#ed7953"
            ],
            [
             0.7777777777777778,
             "#fb9f3a"
            ],
            [
             0.8888888888888888,
             "#fdca26"
            ],
            [
             1,
             "#f0f921"
            ]
           ],
           "sequentialminus": [
            [
             0,
             "#0d0887"
            ],
            [
             0.1111111111111111,
             "#46039f"
            ],
            [
             0.2222222222222222,
             "#7201a8"
            ],
            [
             0.3333333333333333,
             "#9c179e"
            ],
            [
             0.4444444444444444,
             "#bd3786"
            ],
            [
             0.5555555555555556,
             "#d8576b"
            ],
            [
             0.6666666666666666,
             "#ed7953"
            ],
            [
             0.7777777777777778,
             "#fb9f3a"
            ],
            [
             0.8888888888888888,
             "#fdca26"
            ],
            [
             1,
             "#f0f921"
            ]
           ]
          },
          "colorway": [
           "#636efa",
           "#EF553B",
           "#00cc96",
           "#ab63fa",
           "#FFA15A",
           "#19d3f3",
           "#FF6692",
           "#B6E880",
           "#FF97FF",
           "#FECB52"
          ],
          "font": {
           "color": "#2a3f5f"
          },
          "geo": {
           "bgcolor": "white",
           "lakecolor": "white",
           "landcolor": "#E5ECF6",
           "showlakes": true,
           "showland": true,
           "subunitcolor": "white"
          },
          "hoverlabel": {
           "align": "left"
          },
          "hovermode": "closest",
          "mapbox": {
           "style": "light"
          },
          "paper_bgcolor": "white",
          "plot_bgcolor": "#E5ECF6",
          "polar": {
           "angularaxis": {
            "gridcolor": "white",
            "linecolor": "white",
            "ticks": ""
           },
           "bgcolor": "#E5ECF6",
           "radialaxis": {
            "gridcolor": "white",
            "linecolor": "white",
            "ticks": ""
           }
          },
          "scene": {
           "xaxis": {
            "backgroundcolor": "#E5ECF6",
            "gridcolor": "white",
            "gridwidth": 2,
            "linecolor": "white",
            "showbackground": true,
            "ticks": "",
            "zerolinecolor": "white"
           },
           "yaxis": {
            "backgroundcolor": "#E5ECF6",
            "gridcolor": "white",
            "gridwidth": 2,
            "linecolor": "white",
            "showbackground": true,
            "ticks": "",
            "zerolinecolor": "white"
           },
           "zaxis": {
            "backgroundcolor": "#E5ECF6",
            "gridcolor": "white",
            "gridwidth": 2,
            "linecolor": "white",
            "showbackground": true,
            "ticks": "",
            "zerolinecolor": "white"
           }
          },
          "shapedefaults": {
           "line": {
            "color": "#2a3f5f"
           }
          },
          "ternary": {
           "aaxis": {
            "gridcolor": "white",
            "linecolor": "white",
            "ticks": ""
           },
           "baxis": {
            "gridcolor": "white",
            "linecolor": "white",
            "ticks": ""
           },
           "bgcolor": "#E5ECF6",
           "caxis": {
            "gridcolor": "white",
            "linecolor": "white",
            "ticks": ""
           }
          },
          "title": {
           "x": 0.05
          },
          "xaxis": {
           "automargin": true,
           "gridcolor": "white",
           "linecolor": "white",
           "ticks": "",
           "title": {
            "standoff": 15
           },
           "zerolinecolor": "white",
           "zerolinewidth": 2
          },
          "yaxis": {
           "automargin": true,
           "gridcolor": "white",
           "linecolor": "white",
           "ticks": "",
           "title": {
            "standoff": 15
           },
           "zerolinecolor": "white",
           "zerolinewidth": 2
          }
         }
        },
        "title": {
         "text": "rightflank_def"
        },
        "xaxis": {
         "autorange": true,
         "range": [
          -1.5329047421540165,
          26.532904742154017
         ],
         "type": "linear"
        },
        "yaxis": {
         "autorange": true,
         "range": [
          -17.319873746099145,
          33.95678180045095
         ],
         "type": "linear"
        }
       }
      },
      "image/png": "[encoded data removed]",
      "text/html": [
       "<div>\n",
       "        \n",
       "        \n",
       "            <div id=\"8c6f7698-5c92-407f-9e7b-6043faf80176\" class=\"plotly-graph-div\" style=\"height:525px; width:100%;\"></div>\n",
       "            <script type=\"text/javascript\">\n",
       "                require([\"plotly\"], function(Plotly) {\n",
       "                    window.PLOTLYENV=window.PLOTLYENV || {};\n",
       "                    \n",
       "                if (document.getElementById(\"8c6f7698-5c92-407f-9e7b-6043faf80176\")) {\n",
       "                    Plotly.newPlot(\n",
       "                        '8c6f7698-5c92-407f-9e7b-6043faf80176',\n",
       "                        [{\"mode\": \"markers\", \"name\": \"Plot3\", \"text\": [\"AaronCresswell LCB left\", \"AdrianMariappa L_CB right\", \"AhmedHegazi LCB right\", \"AhmedHegazi L_CB right\", \"AlfieMawson LCB right\", \"AlfieMawson L_CB right\", \"AngeloOgbonna LCB left\", \"AngeloOgbonna L_CB left\", \"AntonioRudiger LCB right\", \"AshleyWilliams L_CB right\", \"AymericLaporte L_CB left\", \"BenMee L_CB left\", \"BrunoMartinsIndi LCB left\", \"BrunoMartinsIndi L_CB left\", \"CalumChambers L_CB right\", \"ChrisSmalling L_CB right\", \"ChristianKabasele LCB right\", \"ChristianKabasele L_CB right\", \"ChristopherSchindler L_CB right\", \"CiaranClark LCB left\", \"CiaranClark L_CB left\", \"DeclanRice LCB right\", \"DejanLovren L_CB right\", \"EliaquimMangala L_CB left\", \"ErikPieters LCB left\", \"FlorianLejeune L_CB right\", \"GaryCahill LCB right\", \"GeoffCameron LCB right\", \"HarryMaguire L_CB right\", \"JamesCollins LCB right\", \"JamesTarkowski L_CB right\", \"JamesTomkins L_CB right\", \"JanVertonghen LCB left\", \"JanVertonghen L_CB left\", \"JonnyEvans LCB right\", \"JonnyEvans L_CB right\", \"JoseHolebas LCB left\", \"KevinWimmer LCB left\", \"KevinWimmer L_CB left\", \"KurtZouma L_CB right\", \"LaurentKoscielny LCB right\", \"LaurentKoscielny L_CB right\", \"LewisDunk L_CB right\", \"MamadouSakho L_CB left\", \"MarcosRojo L_CB left\", \"MayaYoshida L_CB right\", \"MichaelKeane L_CB right\", \"MiguelBritos LCB left\", \"MiguelBritos L_CB left\", \"NachoMonreal LCB left\", \"NachoMonreal L_CB left\", \"NathanAke LCB left\", \"NathanAke L_CB left\", \"NicolasOtamendi LCB right\", \"NicolasOtamendi L_CB right\", \"PaulDummett LCB left\", \"PhilJagielka LCB right\", \"PhilJagielka L_CB right\", \"PhilJones LCB right\", \"PhilJones L_CB right\", \"RagnarKlavan L_CB left\", \"RobHolding LCB right\", \"RobHolding L_CB right\", \"ScottDann L_CB right\", \"SeadKolasinac LCB left\", \"ShkodranMustafi L_CB right\", \"TobyAlderweireld L_CB right\", \"TyroneMings LCB left\", \"VictorNilssonLindelof L_CB right\", \"VirgilvanDijk L_CB right\", \"VirgilvanDijk L_CB right\", \"WesleyHoedt LCB left\", \"WesleyHoedt L_CB left\", \"WinstonReid L_CB right\"], \"type\": \"scatter\", \"x\": [2.2, 0, 0, 0, 2.7, 0, 0, 0, 0, 0, 0, 0, 0, 0, 25.0, 0, 0, 2.56, 4.71, 0, 0, 0, 0, 0, 25.0, 1.61, 2.56, 0, 4.93, 0, 5.41, 4.55, 0, 2.11, 0, 0, 0, 0, 0, 6.25, 0, 0, 3.47, 6.06, 8.33, 0, 4.17, 0, 0, 2.63, 0, 0, 2.38, 0, 1.59, 0, 8.33, 0, 0, 0, 0, 25.0, 0, 0, 0, 16.67, 0, 0, 0, 6.98, 0, 4.35, 1.37, 25.0], \"y\": [0.7358531001955271, 0, 0, 0, -1.2407505419105291, 0, 0, 0, 0, 0, 0, 0, 0, 0, -4.872508347034454, 0, 0, -4.578287247568369, 5.464555899379775, 0, 0, 0, 0, 0, -13.986891135573387, 1.3257870450615883, -1.0155625641345978, 0, 7.17551344340401, 0, -8.3841891027987, 6.654667668044567, 0, 3.2237456180155277, 0, 0, 0, 0, 0, -1.840636134147644, 0, 0, -2.686603181064129, 22.898087510839105, 9.678054600954056, 0, -4.114568931981921, 0, 0, -4.616545978933573, 0, 0, 30.623799189925194, 0, -9.072376415133476, 0, 0.0942691694945097, 0, 0, 0, 0, -5.853617563843727, 0, 0, 0, -8.31411313265562, 0, 0, 0, 17.27688421184818, 0, 12.317876447923481, 5.043696146458387, 8.197154849767685]}],\n",
       "                        {\"annotations\": [{\"showarrow\": false, \"text\": \"% Progressive passes\", \"x\": 0.5, \"xref\": \"paper\", \"y\": -0.15, \"yref\": \"paper\"}, {\"showarrow\": false, \"text\": \"VAEP per progressive pass (scaled to 10000)\", \"textangle\": -90, \"x\": -0.07, \"xref\": \"paper\", \"y\": 0.5, \"yref\": \"paper\"}], \"autosize\": true, \"margin\": {\"b\": 100}, \"template\": {\"data\": {\"bar\": [{\"error_x\": {\"color\": \"#2a3f5f\"}, \"error_y\": {\"color\": \"#2a3f5f\"}, \"marker\": {\"line\": {\"color\": \"#E5ECF6\", \"width\": 0.5}}, \"type\": \"bar\"}], \"barpolar\": [{\"marker\": {\"line\": {\"color\": \"#E5ECF6\", \"width\": 0.5}}, \"type\": \"barpolar\"}], \"carpet\": [{\"aaxis\": {\"endlinecolor\": \"#2a3f5f\", \"gridcolor\": \"white\", \"linecolor\": \"white\", \"minorgridcolor\": \"white\", \"startlinecolor\": \"#2a3f5f\"}, \"baxis\": {\"endlinecolor\": \"#2a3f5f\", \"gridcolor\": \"white\", \"linecolor\": \"white\", \"minorgridcolor\": \"white\", \"startlinecolor\": \"#2a3f5f\"}, \"type\": \"carpet\"}], \"choropleth\": [{\"colorbar\": {\"outlinewidth\": 0, \"ticks\": \"\"}, \"type\": \"choropleth\"}], \"contour\": [{\"colorbar\": {\"outlinewidth\": 0, \"ticks\": \"\"}, \"colorscale\": [[0.0, \"#0d0887\"], [0.1111111111111111, \"#46039f\"], [0.2222222222222222, \"#7201a8\"], [0.3333333333333333, \"#9c179e\"], [0.4444444444444444, \"#bd3786\"], [0.5555555555555556, \"#d8576b\"], [0.6666666666666666, \"#ed7953\"], [0.7777777777777778, \"#fb9f3a\"], [0.8888888888888888, \"#fdca26\"], [1.0, \"#f0f921\"]], \"type\": \"contour\"}], \"contourcarpet\": [{\"colorbar\": {\"outlinewidth\": 0, \"ticks\": \"\"}, \"type\": \"contourcarpet\"}], \"heatmap\": [{\"colorbar\": {\"outlinewidth\": 0, \"ticks\": \"\"}, \"colorscale\": [[0.0, \"#0d0887\"], [0.1111111111111111, \"#46039f\"], [0.2222222222222222, \"#7201a8\"], [0.3333333333333333, \"#9c179e\"], [0.4444444444444444, \"#bd3786\"], [0.5555555555555556, \"#d8576b\"], [0.6666666666666666, \"#ed7953\"], [0.7777777777777778, \"#fb9f3a\"], [0.8888888888888888, \"#fdca26\"], [1.0, \"#f0f921\"]], \"type\": \"heatmap\"}], \"heatmapgl\": [{\"colorbar\": {\"outlinewidth\": 0, \"ticks\": \"\"}, \"colorscale\": [[0.0, \"#0d0887\"], [0.1111111111111111, \"#46039f\"], [0.2222222222222222, \"#7201a8\"], [0.3333333333333333, \"#9c179e\"], [0.4444444444444444, \"#bd3786\"], [0.5555555555555556, \"#d8576b\"], [0.6666666666666666, \"#ed7953\"], [0.7777777777777778, \"#fb9f3a\"], [0.8888888888888888, \"#fdca26\"], [1.0, \"#f0f921\"]], \"type\": \"heatmapgl\"}], \"histogram\": [{\"marker\": {\"colorbar\": {\"outlinewidth\": 0, \"ticks\": \"\"}}, \"type\": \"histogram\"}], \"histogram2d\": [{\"colorbar\": {\"outlinewidth\": 0, \"ticks\": \"\"}, \"colorscale\": [[0.0, \"#0d0887\"], [0.1111111111111111, \"#46039f\"], [0.2222222222222222, \"#7201a8\"], [0.3333333333333333, \"#9c179e\"], [0.4444444444444444, \"#bd3786\"], [0.5555555555555556, \"#d8576b\"], [0.6666666666666666, \"#ed7953\"], [0.7777777777777778, \"#fb9f3a\"], [0.8888888888888888, \"#fdca26\"], [1.0, \"#f0f921\"]], \"type\": \"histogram2d\"}], \"histogram2dcontour\": [{\"colorbar\": {\"outlinewidth\": 0, \"ticks\": \"\"}, \"colorscale\": [[0.0, \"#0d0887\"], [0.1111111111111111, \"#46039f\"], [0.2222222222222222, \"#7201a8\"], [0.3333333333333333, \"#9c179e\"], [0.4444444444444444, \"#bd3786\"], [0.5555555555555556, \"#d8576b\"], [0.6666666666666666, \"#ed7953\"], [0.7777777777777778, \"#fb9f3a\"], [0.8888888888888888, \"#fdca26\"], [1.0, \"#f0f921\"]], \"type\": \"histogram2dcontour\"}], \"mesh3d\": [{\"colorbar\": {\"outlinewidth\": 0, \"ticks\": \"\"}, \"type\": \"mesh3d\"}], \"parcoords\": [{\"line\": {\"colorbar\": {\"outlinewidth\": 0, \"ticks\": \"\"}}, \"type\": \"parcoords\"}], \"pie\": [{\"automargin\": true, \"type\": \"pie\"}], \"scatter\": [{\"marker\": {\"colorbar\": {\"outlinewidth\": 0, \"ticks\": \"\"}}, \"type\": \"scatter\"}], \"scatter3d\": [{\"line\": {\"colorbar\": {\"outlinewidth\": 0, \"ticks\": \"\"}}, \"marker\": {\"colorbar\": {\"outlinewidth\": 0, \"ticks\": \"\"}}, \"type\": \"scatter3d\"}], \"scattercarpet\": [{\"marker\": {\"colorbar\": {\"outlinewidth\": 0, \"ticks\": \"\"}}, \"type\": \"scattercarpet\"}], \"scattergeo\": [{\"marker\": {\"colorbar\": {\"outlinewidth\": 0, \"ticks\": \"\"}}, \"type\": \"scattergeo\"}], \"scattergl\": [{\"marker\": {\"colorbar\": {\"outlinewidth\": 0, \"ticks\": \"\"}}, \"type\": \"scattergl\"}], \"scattermapbox\": [{\"marker\": {\"colorbar\": {\"outlinewidth\": 0, \"ticks\": \"\"}}, \"type\": \"scattermapbox\"}], \"scatterpolar\": [{\"marker\": {\"colorbar\": {\"outlinewidth\": 0, \"ticks\": \"\"}}, \"type\": \"scatterpolar\"}], \"scatterpolargl\": [{\"marker\": {\"colorbar\": {\"outlinewidth\": 0, \"ticks\": \"\"}}, \"type\": \"scatterpolargl\"}], \"scatterternary\": [{\"marker\": {\"colorbar\": {\"outlinewidth\": 0, \"ticks\": \"\"}}, \"type\": \"scatterternary\"}], \"surface\": [{\"colorbar\": {\"outlinewidth\": 0, \"ticks\": \"\"}, \"colorscale\": [[0.0, \"#0d0887\"], [0.1111111111111111, \"#46039f\"], [0.2222222222222222, \"#7201a8\"], [0.3333333333333333, \"#9c179e\"], [0.4444444444444444, \"#bd3786\"], [0.5555555555555556, \"#d8576b\"], [0.6666666666666666, \"#ed7953\"], [0.7777777777777778, \"#fb9f3a\"], [0.8888888888888888, \"#fdca26\"], [1.0, \"#f0f921\"]], \"type\": \"surface\"}], \"table\": [{\"cells\": {\"fill\": {\"color\": \"#EBF0F8\"}, \"line\": {\"color\": \"white\"}}, \"header\": {\"fill\": {\"color\": \"#C8D4E3\"}, \"line\": {\"color\": \"white\"}}, \"type\": \"table\"}]}, \"layout\": {\"annotationdefaults\": {\"arrowcolor\": \"#2a3f5f\", \"arrowhead\": 0, \"arrowwidth\": 1}, \"coloraxis\": {\"colorbar\": {\"outlinewidth\": 0, \"ticks\": \"\"}}, \"colorscale\": {\"diverging\": [[0, \"#8e0152\"], [0.1, \"#c51b7d\"], [0.2, \"#de77ae\"], [0.3, \"#f1b6da\"], [0.4, \"#fde0ef\"], [0.5, \"#f7f7f7\"], [0.6, \"#e6f5d0\"], [0.7, \"#b8e186\"], [0.8, \"#7fbc41\"], [0.9, \"#4d9221\"], [1, \"#276419\"]], \"sequential\": [[0.0, \"#0d0887\"], [0.1111111111111111, \"#46039f\"], [0.2222222222222222, \"#7201a8\"], [0.3333333333333333, \"#9c179e\"], [0.4444444444444444, \"#bd3786\"], [0.5555555555555556, \"#d8576b\"], [0.6666666666666666, \"#ed7953\"], [0.7777777777777778, \"#fb9f3a\"], [0.8888888888888888, \"#fdca26\"], [1.0, \"#f0f921\"]], \"sequentialminus\": [[0.0, \"#0d0887\"], [0.1111111111111111, \"#46039f\"], [0.2222222222222222, \"#7201a8\"], [0.3333333333333333, \"#9c179e\"], [0.4444444444444444, \"#bd3786\"], [0.5555555555555556, \"#d8576b\"], [0.6666666666666666, \"#ed7953\"], [0.7777777777777778, \"#fb9f3a\"], [0.8888888888888888, \"#fdca26\"], [1.0, \"#f0f921\"]]}, \"colorway\": [\"#636efa\", \"#EF553B\", \"#00cc96\", \"#ab63fa\", \"#FFA15A\", \"#19d3f3\", \"#FF6692\", \"#B6E880\", \"#FF97FF\", \"#FECB52\"], \"font\": {\"color\": \"#2a3f5f\"}, \"geo\": {\"bgcolor\": \"white\", \"lakecolor\": \"white\", \"landcolor\": \"#E5ECF6\", \"showlakes\": true, \"showland\": true, \"subunitcolor\": \"white\"}, \"hoverlabel\": {\"align\": \"left\"}, \"hovermode\": \"closest\", \"mapbox\": {\"style\": \"light\"}, \"paper_bgcolor\": \"white\", \"plot_bgcolor\": \"#E5ECF6\", \"polar\": {\"angularaxis\": {\"gridcolor\": \"white\", \"linecolor\": \"white\", \"ticks\": \"\"}, \"bgcolor\": \"#E5ECF6\", \"radialaxis\": {\"gridcolor\": \"white\", \"linecolor\": \"white\", \"ticks\": \"\"}}, \"scene\": {\"xaxis\": {\"backgroundcolor\": \"#E5ECF6\", \"gridcolor\": \"white\", \"gridwidth\": 2, \"linecolor\": \"white\", \"showbackground\": true, \"ticks\": \"\", \"zerolinecolor\": \"white\"}, \"yaxis\": {\"backgroundcolor\": \"#E5ECF6\", \"gridcolor\": \"white\", \"gridwidth\": 2, \"linecolor\": \"white\", \"showbackground\": true, \"ticks\": \"\", \"zerolinecolor\": \"white\"}, \"zaxis\": {\"backgroundcolor\": \"#E5ECF6\", \"gridcolor\": \"white\", \"gridwidth\": 2, \"linecolor\": \"white\", \"showbackground\": true, \"ticks\": \"\", \"zerolinecolor\": \"white\"}}, \"shapedefaults\": {\"line\": {\"color\": \"#2a3f5f\"}}, \"ternary\": {\"aaxis\": {\"gridcolor\": \"white\", \"linecolor\": \"white\", \"ticks\": \"\"}, \"baxis\": {\"gridcolor\": \"white\", \"linecolor\": \"white\", \"ticks\": \"\"}, \"bgcolor\": \"#E5ECF6\", \"caxis\": {\"gridcolor\": \"white\", \"linecolor\": \"white\", \"ticks\": \"\"}}, \"title\": {\"x\": 0.05}, \"xaxis\": {\"automargin\": true, \"gridcolor\": \"white\", \"linecolor\": \"white\", \"ticks\": \"\", \"title\": {\"standoff\": 15}, \"zerolinecolor\": \"white\", \"zerolinewidth\": 2}, \"yaxis\": {\"automargin\": true, \"gridcolor\": \"white\", \"linecolor\": \"white\", \"ticks\": \"\", \"title\": {\"standoff\": 15}, \"zerolinecolor\": \"white\", \"zerolinewidth\": 2}}}, \"title\": {\"text\": \"rightflank_def\"}},\n",
       "                        {\"responsive\": true}\n",
       "                    ).then(function(){\n",
       "                            \n",
       "var gd = document.getElementById('8c6f7698-5c92-407f-9e7b-6043faf80176');\n",
       "var x = new MutationObserver(function (mutations, observer) {{\n",
       "        var display = window.getComputedStyle(gd).display;\n",
       "        if (!display || display === 'none') {{\n",
       "            console.log([gd, 'removed!']);\n",
       "            Plotly.purge(gd);\n",
       "            observer.disconnect();\n",
       "        }}\n",
       "}});\n",
       "\n",
       "// Listen for the removal of the full notebook cells\n",
       "var notebookContainer = gd.closest('#notebook-container');\n",
       "if (notebookContainer) {{\n",
       "    x.observe(notebookContainer, {childList: true});\n",
       "}}\n",
       "\n",
       "// Listen for the clearing of the current output cell\n",
       "var outputEl = gd.closest('.output');\n",
       "if (outputEl) {{\n",
       "    x.observe(outputEl, {childList: true});\n",
       "}}\n",
       "\n",
       "                        })\n",
       "                };\n",
       "                });\n",
       "            </script>\n",
       "        </div>"
      ]
     },
     "metadata": {},
     "output_type": "display_data"
    },
    {
     "data": {
      "application/vnd.plotly.v1+json": {
       "config": {
        "plotlyServerURL": "https://plot.ly"
       },
       "data": [
        {
         "mode": "markers",
         "name": "Plot4",
         "text": [
          "AaronCresswell LCB left",
          "AdrianMariappa L_CB right",
          "AhmedHegazi LCB right",
          "AhmedHegazi L_CB right",
          "AlfieMawson LCB right",
          "AlfieMawson L_CB right",
          "AngeloOgbonna LCB left",
          "AngeloOgbonna L_CB left",
          "AntonioRudiger LCB right",
          "AshleyWilliams L_CB right",
          "AymericLaporte L_CB left",
          "BenMee L_CB left",
          "BrunoMartinsIndi LCB left",
          "BrunoMartinsIndi L_CB left",
          "CalumChambers L_CB right",
          "ChrisSmalling L_CB right",
          "ChristianKabasele LCB right",
          "ChristianKabasele L_CB right",
          "ChristopherSchindler L_CB right",
          "CiaranClark LCB left",
          "CiaranClark L_CB left",
          "DeclanRice LCB right",
          "DejanLovren L_CB right",
          "EliaquimMangala L_CB left",
          "ErikPieters LCB left",
          "FlorianLejeune L_CB right",
          "GaryCahill LCB right",
          "GeoffCameron LCB right",
          "HarryMaguire L_CB right",
          "JamesCollins LCB right",
          "JamesTarkowski L_CB right",
          "JamesTomkins L_CB right",
          "JanVertonghen LCB left",
          "JanVertonghen L_CB left",
          "JonnyEvans LCB right",
          "JonnyEvans L_CB right",
          "JoseHolebas LCB left",
          "KevinWimmer LCB left",
          "KevinWimmer L_CB left",
          "KurtZouma L_CB right",
          "LaurentKoscielny LCB right",
          "LaurentKoscielny L_CB right",
          "LewisDunk L_CB right",
          "MamadouSakho L_CB left",
          "MarcosRojo L_CB left",
          "MayaYoshida L_CB right",
          "MichaelKeane L_CB right",
          "MiguelBritos LCB left",
          "MiguelBritos L_CB left",
          "NachoMonreal LCB left",
          "NachoMonreal L_CB left",
          "NathanAke LCB left",
          "NathanAke L_CB left",
          "NicolasOtamendi LCB right",
          "NicolasOtamendi L_CB right",
          "PaulDummett LCB left",
          "PhilJagielka LCB right",
          "PhilJagielka L_CB right",
          "PhilJones LCB right",
          "PhilJones L_CB right",
          "RagnarKlavan L_CB left",
          "RobHolding LCB right",
          "RobHolding L_CB right",
          "ScottDann L_CB right",
          "SeadKolasinac LCB left",
          "ShkodranMustafi L_CB right",
          "TobyAlderweireld L_CB right",
          "TyroneMings LCB left",
          "VictorNilssonLindelof L_CB right",
          "VirgilvanDijk L_CB right",
          "VirgilvanDijk L_CB right",
          "WesleyHoedt LCB left",
          "WesleyHoedt L_CB left",
          "WinstonReid L_CB right"
         ],
         "type": "scatter",
         "x": [
          37.36,
          41.18,
          35.71,
          36.96,
          21.62,
          26.76,
          75,
          25,
          23.73,
          44.44,
          40.91,
          46.05,
          0,
          21.05,
          25,
          33.33,
          26.67,
          30.77,
          35.29,
          44.44,
          37.84,
          40,
          20.83,
          22.22,
          50,
          25.81,
          43.59,
          21.05,
          42.96,
          28.57,
          45.95,
          27.27,
          31.82,
          23.16,
          61.54,
          42.5,
          33.33,
          25.81,
          0,
          31.25,
          25,
          50,
          31.25,
          30.3,
          16.67,
          16.67,
          22.92,
          47.83,
          23.08,
          44.74,
          25,
          45.83,
          30.95,
          57.14,
          22.22,
          50,
          41.67,
          58.33,
          100,
          40,
          40,
          25,
          37.5,
          33.33,
          60,
          16.67,
          40,
          33.33,
          25,
          25.58,
          33.33,
          41.3,
          34.25,
          75
         ],
         "y": [
          -3.3663318677367093,
          -5.499570198091013,
          -4.85415100120008,
          -1.8940950497327482,
          -4.500517010455951,
          -1.352915797676695,
          -4.972395196091384,
          1.1484062609573205,
          -5.068607578453209,
          -1.1497717738772433,
          -7.683062848324577,
          -3.115717318308141,
          0,
          -4.967477172613144,
          -5.3456854075193405,
          -1.4448752626776695,
          -3.827941487543285,
          7.006390485912561,
          -2.6064874759564796,
          -4.418504657223821,
          -1.926675222681037,
          -2.450561965815723,
          -5.004542786628008,
          -0.9186652023345232,
          -6.801960873417556,
          1.3461830385494977,
          -2.674818627864999,
          -4.090111993718892,
          -3.933884207250886,
          3.1033369014039636,
          -2.686715150690254,
          1.5969951637089252,
          -1.7768066110355514,
          -2.3309066574173896,
          -3.9190246461657807,
          -3.463927711195806,
          -5.051714290554325,
          -3.358920686878264,
          0,
          -1.90000981092453,
          -1.5497023705393076,
          -0.5668262019753456,
          -1.2901457466392052,
          -4.334619431756437,
          -0.2874827478080988,
          -3.4446961556871734,
          -3.0796322971582413,
          -3.522083459591324,
          -3.922407515347004,
          -3.359550596488749,
          -2.004676265642047,
          -1.5862051249397073,
          -3.560688919745959,
          -1.7728012753650546,
          -4.141058855956154,
          -4.172068648040295,
          -3.9796327706426387,
          2.4802599800750613,
          -2.3476473288610578,
          -4.8274653730914,
          -4.221312287780974,
          -4.231920465826988,
          -0.8569469209760427,
          -2.237567134822408,
          -10.427255183458328,
          -31.749997287988663,
          -3.834797767922282,
          -0.7639732987930378,
          -1.534508541226387,
          -3.412842655300417,
          -4.095075613198181,
          -3.0568976224841258,
          -3.165302686393261,
          1.2094592675566673
         ]
        }
       ],
       "layout": {
        "annotations": [
         {
          "showarrow": false,
          "text": "% Progressive passes",
          "x": 0.5,
          "xref": "paper",
          "y": -0.15,
          "yref": "paper"
         },
         {
          "showarrow": false,
          "text": "VAEP per progressive pass (scaled to 10000)",
          "textangle": -90,
          "x": -0.07,
          "xref": "paper",
          "y": 0.5,
          "yref": "paper"
         }
        ],
        "autosize": true,
        "margin": {
         "b": 100
        },
        "template": {
         "data": {
          "bar": [
           {
            "error_x": {
             "color": "#2a3f5f"
            },
            "error_y": {
             "color": "#2a3f5f"
            },
            "marker": {
             "line": {
              "color": "#E5ECF6",
              "width": 0.5
             }
            },
            "type": "bar"
           }
          ],
          "barpolar": [
           {
            "marker": {
             "line": {
              "color": "#E5ECF6",
              "width": 0.5
             }
            },
            "type": "barpolar"
           }
          ],
          "carpet": [
           {
            "aaxis": {
             "endlinecolor": "#2a3f5f",
             "gridcolor": "white",
             "linecolor": "white",
             "minorgridcolor": "white",
             "startlinecolor": "#2a3f5f"
            },
            "baxis": {
             "endlinecolor": "#2a3f5f",
             "gridcolor": "white",
             "linecolor": "white",
             "minorgridcolor": "white",
             "startlinecolor": "#2a3f5f"
            },
            "type": "carpet"
           }
          ],
          "choropleth": [
           {
            "colorbar": {
             "outlinewidth": 0,
             "ticks": ""
            },
            "type": "choropleth"
           }
          ],
          "contour": [
           {
            "colorbar": {
             "outlinewidth": 0,
             "ticks": ""
            },
            "colorscale": [
             [
              0,
              "#0d0887"
             ],
             [
              0.1111111111111111,
              "#46039f"
             ],
             [
              0.2222222222222222,
              "#7201a8"
             ],
             [
              0.3333333333333333,
              "#9c179e"
             ],
             [
              0.4444444444444444,
              "#bd3786"
             ],
             [
              0.5555555555555556,
              "#d8576b"
             ],
             [
              0.6666666666666666,
              "#ed7953"
             ],
             [
              0.7777777777777778,
              "#fb9f3a"
             ],
             [
              0.8888888888888888,
              "#fdca26"
             ],
             [
              1,
              "#f0f921"
             ]
            ],
            "type": "contour"
           }
          ],
          "contourcarpet": [
           {
            "colorbar": {
             "outlinewidth": 0,
             "ticks": ""
            },
            "type": "contourcarpet"
           }
          ],
          "heatmap": [
           {
            "colorbar": {
             "outlinewidth": 0,
             "ticks": ""
            },
            "colorscale": [
             [
              0,
              "#0d0887"
             ],
             [
              0.1111111111111111,
              "#46039f"
             ],
             [
              0.2222222222222222,
              "#7201a8"
             ],
             [
              0.3333333333333333,
              "#9c179e"
             ],
             [
              0.4444444444444444,
              "#bd3786"
             ],
             [
              0.5555555555555556,
              "#d8576b"
             ],
             [
              0.6666666666666666,
              "#ed7953"
             ],
             [
              0.7777777777777778,
              "#fb9f3a"
             ],
             [
              0.8888888888888888,
              "#fdca26"
             ],
             [
              1,
              "#f0f921"
             ]
            ],
            "type": "heatmap"
           }
          ],
          "heatmapgl": [
           {
            "colorbar": {
             "outlinewidth": 0,
             "ticks": ""
            },
            "colorscale": [
             [
              0,
              "#0d0887"
             ],
             [
              0.1111111111111111,
              "#46039f"
             ],
             [
              0.2222222222222222,
              "#7201a8"
             ],
             [
              0.3333333333333333,
              "#9c179e"
             ],
             [
              0.4444444444444444,
              "#bd3786"
             ],
             [
              0.5555555555555556,
              "#d8576b"
             ],
             [
              0.6666666666666666,
              "#ed7953"
             ],
             [
              0.7777777777777778,
              "#fb9f3a"
             ],
             [
              0.8888888888888888,
              "#fdca26"
             ],
             [
              1,
              "#f0f921"
             ]
            ],
            "type": "heatmapgl"
           }
          ],
          "histogram": [
           {
            "marker": {
             "colorbar": {
              "outlinewidth": 0,
              "ticks": ""
             }
            },
            "type": "histogram"
           }
          ],
          "histogram2d": [
           {
            "colorbar": {
             "outlinewidth": 0,
             "ticks": ""
            },
            "colorscale": [
             [
              0,
              "#0d0887"
             ],
             [
              0.1111111111111111,
              "#46039f"
             ],
             [
              0.2222222222222222,
              "#7201a8"
             ],
             [
              0.3333333333333333,
              "#9c179e"
             ],
             [
              0.4444444444444444,
              "#bd3786"
             ],
             [
              0.5555555555555556,
              "#d8576b"
             ],
             [
              0.6666666666666666,
              "#ed7953"
             ],
             [
              0.7777777777777778,
              "#fb9f3a"
             ],
             [
              0.8888888888888888,
              "#fdca26"
             ],
             [
              1,
              "#f0f921"
             ]
            ],
            "type": "histogram2d"
           }
          ],
          "histogram2dcontour": [
           {
            "colorbar": {
             "outlinewidth": 0,
             "ticks": ""
            },
            "colorscale": [
             [
              0,
              "#0d0887"
             ],
             [
              0.1111111111111111,
              "#46039f"
             ],
             [
              0.2222222222222222,
              "#7201a8"
             ],
             [
              0.3333333333333333,
              "#9c179e"
             ],
             [
              0.4444444444444444,
              "#bd3786"
             ],
             [
              0.5555555555555556,
              "#d8576b"
             ],
             [
              0.6666666666666666,
              "#ed7953"
             ],
             [
              0.7777777777777778,
              "#fb9f3a"
             ],
             [
              0.8888888888888888,
              "#fdca26"
             ],
             [
              1,
              "#f0f921"
             ]
            ],
            "type": "histogram2dcontour"
           }
          ],
          "mesh3d": [
           {
            "colorbar": {
             "outlinewidth": 0,
             "ticks": ""
            },
            "type": "mesh3d"
           }
          ],
          "parcoords": [
           {
            "line": {
             "colorbar": {
              "outlinewidth": 0,
              "ticks": ""
             }
            },
            "type": "parcoords"
           }
          ],
          "pie": [
           {
            "automargin": true,
            "type": "pie"
           }
          ],
          "scatter": [
           {
            "marker": {
             "colorbar": {
              "outlinewidth": 0,
              "ticks": ""
             }
            },
            "type": "scatter"
           }
          ],
          "scatter3d": [
           {
            "line": {
             "colorbar": {
              "outlinewidth": 0,
              "ticks": ""
             }
            },
            "marker": {
             "colorbar": {
              "outlinewidth": 0,
              "ticks": ""
             }
            },
            "type": "scatter3d"
           }
          ],
          "scattercarpet": [
           {
            "marker": {
             "colorbar": {
              "outlinewidth": 0,
              "ticks": ""
             }
            },
            "type": "scattercarpet"
           }
          ],
          "scattergeo": [
           {
            "marker": {
             "colorbar": {
              "outlinewidth": 0,
              "ticks": ""
             }
            },
            "type": "scattergeo"
           }
          ],
          "scattergl": [
           {
            "marker": {
             "colorbar": {
              "outlinewidth": 0,
              "ticks": ""
             }
            },
            "type": "scattergl"
           }
          ],
          "scattermapbox": [
           {
            "marker": {
             "colorbar": {
              "outlinewidth": 0,
              "ticks": ""
             }
            },
            "type": "scattermapbox"
           }
          ],
          "scatterpolar": [
           {
            "marker": {
             "colorbar": {
              "outlinewidth": 0,
              "ticks": ""
             }
            },
            "type": "scatterpolar"
           }
          ],
          "scatterpolargl": [
           {
            "marker": {
             "colorbar": {
              "outlinewidth": 0,
              "ticks": ""
             }
            },
            "type": "scatterpolargl"
           }
          ],
          "scatterternary": [
           {
            "marker": {
             "colorbar": {
              "outlinewidth": 0,
              "ticks": ""
             }
            },
            "type": "scatterternary"
           }
          ],
          "surface": [
           {
            "colorbar": {
             "outlinewidth": 0,
             "ticks": ""
            },
            "colorscale": [
             [
              0,
              "#0d0887"
             ],
             [
              0.1111111111111111,
              "#46039f"
             ],
             [
              0.2222222222222222,
              "#7201a8"
             ],
             [
              0.3333333333333333,
              "#9c179e"
             ],
             [
              0.4444444444444444,
              "#bd3786"
             ],
             [
              0.5555555555555556,
              "#d8576b"
             ],
             [
              0.6666666666666666,
              "#ed7953"
             ],
             [
              0.7777777777777778,
              "#fb9f3a"
             ],
             [
              0.8888888888888888,
              "#fdca26"
             ],
             [
              1,
              "#f0f921"
             ]
            ],
            "type": "surface"
           }
          ],
          "table": [
           {
            "cells": {
             "fill": {
              "color": "#EBF0F8"
             },
             "line": {
              "color": "white"
             }
            },
            "header": {
             "fill": {
              "color": "#C8D4E3"
             },
             "line": {
              "color": "white"
             }
            },
            "type": "table"
           }
          ]
         },
         "layout": {
          "annotationdefaults": {
           "arrowcolor": "#2a3f5f",
           "arrowhead": 0,
           "arrowwidth": 1
          },
          "coloraxis": {
           "colorbar": {
            "outlinewidth": 0,
            "ticks": ""
           }
          },
          "colorscale": {
           "diverging": [
            [
             0,
             "#8e0152"
            ],
            [
             0.1,
             "#c51b7d"
            ],
            [
             0.2,
             "#de77ae"
            ],
            [
             0.3,
             "#f1b6da"
            ],
            [
             0.4,
             "#fde0ef"
            ],
            [
             0.5,
             "#f7f7f7"
            ],
            [
             0.6,
             "#e6f5d0"
            ],
            [
             0.7,
             "#b8e186"
            ],
            [
             0.8,
             "#7fbc41"
            ],
            [
             0.9,
             "#4d9221"
            ],
            [
             1,
             "#276419"
            ]
           ],
           "sequential": [
            [
             0,
             "#0d0887"
            ],
            [
             0.1111111111111111,
             "#46039f"
            ],
            [
             0.2222222222222222,
             "#7201a8"
            ],
            [
             0.3333333333333333,
             "#9c179e"
            ],
            [
             0.4444444444444444,
             "#bd3786"
            ],
            [
             0.5555555555555556,
             "#d8576b"
            ],
            [
             0.6666666666666666,
             "#ed7953"
            ],
            [
             0.7777777777777778,
             "#fb9f3a"
            ],
            [
             0.8888888888888888,
             "#fdca26"
            ],
            [
             1,
             "#f0f921"
            ]
           ],
           "sequentialminus": [
            [
             0,
             "#0d0887"
            ],
            [
             0.1111111111111111,
             "#46039f"
            ],
            [
             0.2222222222222222,
             "#7201a8"
            ],
            [
             0.3333333333333333,
             "#9c179e"
            ],
            [
             0.4444444444444444,
             "#bd3786"
            ],
            [
             0.5555555555555556,
             "#d8576b"
            ],
            [
             0.6666666666666666,
             "#ed7953"
            ],
            [
             0.7777777777777778,
             "#fb9f3a"
            ],
            [
             0.8888888888888888,
             "#fdca26"
            ],
            [
             1,
             "#f0f921"
            ]
           ]
          },
          "colorway": [
           "#636efa",
           "#EF553B",
           "#00cc96",
           "#ab63fa",
           "#FFA15A",
           "#19d3f3",
           "#FF6692",
           "#B6E880",
           "#FF97FF",
           "#FECB52"
          ],
          "font": {
           "color": "#2a3f5f"
          },
          "geo": {
           "bgcolor": "white",
           "lakecolor": "white",
           "landcolor": "#E5ECF6",
           "showlakes": true,
           "showland": true,
           "subunitcolor": "white"
          },
          "hoverlabel": {
           "align": "left"
          },
          "hovermode": "closest",
          "mapbox": {
           "style": "light"
          },
          "paper_bgcolor": "white",
          "plot_bgcolor": "#E5ECF6",
          "polar": {
           "angularaxis": {
            "gridcolor": "white",
            "linecolor": "white",
            "ticks": ""
           },
           "bgcolor": "#E5ECF6",
           "radialaxis": {
            "gridcolor": "white",
            "linecolor": "white",
            "ticks": ""
           }
          },
          "scene": {
           "xaxis": {
            "backgroundcolor": "#E5ECF6",
            "gridcolor": "white",
            "gridwidth": 2,
            "linecolor": "white",
            "showbackground": true,
            "ticks": "",
            "zerolinecolor": "white"
           },
           "yaxis": {
            "backgroundcolor": "#E5ECF6",
            "gridcolor": "white",
            "gridwidth": 2,
            "linecolor": "white",
            "showbackground": true,
            "ticks": "",
            "zerolinecolor": "white"
           },
           "zaxis": {
            "backgroundcolor": "#E5ECF6",
            "gridcolor": "white",
            "gridwidth": 2,
            "linecolor": "white",
            "showbackground": true,
            "ticks": "",
            "zerolinecolor": "white"
           }
          },
          "shapedefaults": {
           "line": {
            "color": "#2a3f5f"
           }
          },
          "ternary": {
           "aaxis": {
            "gridcolor": "white",
            "linecolor": "white",
            "ticks": ""
           },
           "baxis": {
            "gridcolor": "white",
            "linecolor": "white",
            "ticks": ""
           },
           "bgcolor": "#E5ECF6",
           "caxis": {
            "gridcolor": "white",
            "linecolor": "white",
            "ticks": ""
           }
          },
          "title": {
           "x": 0.05
          },
          "xaxis": {
           "automargin": true,
           "gridcolor": "white",
           "linecolor": "white",
           "ticks": "",
           "title": {
            "standoff": 15
           },
           "zerolinecolor": "white",
           "zerolinewidth": 2
          },
          "yaxis": {
           "automargin": true,
           "gridcolor": "white",
           "linecolor": "white",
           "ticks": "",
           "title": {
            "standoff": 15
           },
           "zerolinecolor": "white",
           "zerolinewidth": 2
          }
         }
        },
        "title": {
         "text": "leftflank_attack"
        },
        "xaxis": {
         "autorange": true,
         "range": [
          -6.131618968616066,
          106.13161896861607
         ],
         "type": "linear"
        },
        "yaxis": {
         "autorange": true,
         "range": [
          -34.64558947799278,
          9.901982675916676
         ],
         "type": "linear"
        }
       }
      },
      "image/png": "[encoded data removed]",
      "text/html": [
       "<div>\n",
       "        \n",
       "        \n",
       "            <div id=\"8a3b4e58-100d-4d5d-94d5-bf2cd4431f3a\" class=\"plotly-graph-div\" style=\"height:525px; width:100%;\"></div>\n",
       "            <script type=\"text/javascript\">\n",
       "                require([\"plotly\"], function(Plotly) {\n",
       "                    window.PLOTLYENV=window.PLOTLYENV || {};\n",
       "                    \n",
       "                if (document.getElementById(\"8a3b4e58-100d-4d5d-94d5-bf2cd4431f3a\")) {\n",
       "                    Plotly.newPlot(\n",
       "                        '8a3b4e58-100d-4d5d-94d5-bf2cd4431f3a',\n",
       "                        [{\"mode\": \"markers\", \"name\": \"Plot4\", \"text\": [\"AaronCresswell LCB left\", \"AdrianMariappa L_CB right\", \"AhmedHegazi LCB right\", \"AhmedHegazi L_CB right\", \"AlfieMawson LCB right\", \"AlfieMawson L_CB right\", \"AngeloOgbonna LCB left\", \"AngeloOgbonna L_CB left\", \"AntonioRudiger LCB right\", \"AshleyWilliams L_CB right\", \"AymericLaporte L_CB left\", \"BenMee L_CB left\", \"BrunoMartinsIndi LCB left\", \"BrunoMartinsIndi L_CB left\", \"CalumChambers L_CB right\", \"ChrisSmalling L_CB right\", \"ChristianKabasele LCB right\", \"ChristianKabasele L_CB right\", \"ChristopherSchindler L_CB right\", \"CiaranClark LCB left\", \"CiaranClark L_CB left\", \"DeclanRice LCB right\", \"DejanLovren L_CB right\", \"EliaquimMangala L_CB left\", \"ErikPieters LCB left\", \"FlorianLejeune L_CB right\", \"GaryCahill LCB right\", \"GeoffCameron LCB right\", \"HarryMaguire L_CB right\", \"JamesCollins LCB right\", \"JamesTarkowski L_CB right\", \"JamesTomkins L_CB right\", \"JanVertonghen LCB left\", \"JanVertonghen L_CB left\", \"JonnyEvans LCB right\", \"JonnyEvans L_CB right\", \"JoseHolebas LCB left\", \"KevinWimmer LCB left\", \"KevinWimmer L_CB left\", \"KurtZouma L_CB right\", \"LaurentKoscielny LCB right\", \"LaurentKoscielny L_CB right\", \"LewisDunk L_CB right\", \"MamadouSakho L_CB left\", \"MarcosRojo L_CB left\", \"MayaYoshida L_CB right\", \"MichaelKeane L_CB right\", \"MiguelBritos LCB left\", \"MiguelBritos L_CB left\", \"NachoMonreal LCB left\", \"NachoMonreal L_CB left\", \"NathanAke LCB left\", \"NathanAke L_CB left\", \"NicolasOtamendi LCB right\", \"NicolasOtamendi L_CB right\", \"PaulDummett LCB left\", \"PhilJagielka LCB right\", \"PhilJagielka L_CB right\", \"PhilJones LCB right\", \"PhilJones L_CB right\", \"RagnarKlavan L_CB left\", \"RobHolding LCB right\", \"RobHolding L_CB right\", \"ScottDann L_CB right\", \"SeadKolasinac LCB left\", \"ShkodranMustafi L_CB right\", \"TobyAlderweireld L_CB right\", \"TyroneMings LCB left\", \"VictorNilssonLindelof L_CB right\", \"VirgilvanDijk L_CB right\", \"VirgilvanDijk L_CB right\", \"WesleyHoedt LCB left\", \"WesleyHoedt L_CB left\", \"WinstonReid L_CB right\"], \"type\": \"scatter\", \"x\": [37.36, 41.18, 35.71, 36.96, 21.62, 26.76, 75.0, 25.0, 23.73, 44.44, 40.91, 46.05, 0, 21.05, 25.0, 33.33, 26.67, 30.77, 35.29, 44.44, 37.84, 40.0, 20.83, 22.22, 50.0, 25.81, 43.59, 21.05, 42.96, 28.57, 45.95, 27.27, 31.82, 23.16, 61.54, 42.5, 33.33, 25.81, 0, 31.25, 25.0, 50.0, 31.25, 30.3, 16.67, 16.67, 22.92, 47.83, 23.08, 44.74, 25.0, 45.83, 30.95, 57.14, 22.22, 50.0, 41.67, 58.33, 100.0, 40.0, 40.0, 25.0, 37.5, 33.33, 60.0, 16.67, 40.0, 33.33, 25.0, 25.58, 33.33, 41.3, 34.25, 75.0], \"y\": [-3.3663318677367093, -5.499570198091013, -4.85415100120008, -1.8940950497327482, -4.500517010455951, -1.352915797676695, -4.972395196091384, 1.1484062609573205, -5.068607578453209, -1.1497717738772433, -7.683062848324577, -3.115717318308141, 0, -4.967477172613144, -5.3456854075193405, -1.4448752626776695, -3.827941487543285, 7.006390485912561, -2.6064874759564796, -4.418504657223821, -1.926675222681037, -2.450561965815723, -5.004542786628008, -0.9186652023345232, -6.801960873417556, 1.3461830385494977, -2.674818627864999, -4.090111993718892, -3.933884207250886, 3.1033369014039636, -2.686715150690254, 1.5969951637089252, -1.7768066110355514, -2.3309066574173896, -3.9190246461657807, -3.463927711195806, -5.051714290554325, -3.358920686878264, 0, -1.90000981092453, -1.5497023705393076, -0.5668262019753456, -1.2901457466392052, -4.334619431756437, -0.2874827478080988, -3.4446961556871734, -3.0796322971582413, -3.522083459591324, -3.922407515347004, -3.359550596488749, -2.004676265642047, -1.5862051249397073, -3.560688919745959, -1.7728012753650546, -4.141058855956154, -4.172068648040295, -3.9796327706426387, 2.4802599800750613, -2.3476473288610578, -4.8274653730914, -4.221312287780974, -4.231920465826988, -0.8569469209760427, -2.237567134822408, -10.427255183458328, -31.749997287988663, -3.834797767922282, -0.7639732987930378, -1.534508541226387, -3.412842655300417, -4.095075613198181, -3.0568976224841258, -3.165302686393261, 1.2094592675566673]}],\n",
       "                        {\"annotations\": [{\"showarrow\": false, \"text\": \"% Progressive passes\", \"x\": 0.5, \"xref\": \"paper\", \"y\": -0.15, \"yref\": \"paper\"}, {\"showarrow\": false, \"text\": \"VAEP per progressive pass (scaled to 10000)\", \"textangle\": -90, \"x\": -0.07, \"xref\": \"paper\", \"y\": 0.5, \"yref\": \"paper\"}], \"autosize\": true, \"margin\": {\"b\": 100}, \"template\": {\"data\": {\"bar\": [{\"error_x\": {\"color\": \"#2a3f5f\"}, \"error_y\": {\"color\": \"#2a3f5f\"}, \"marker\": {\"line\": {\"color\": \"#E5ECF6\", \"width\": 0.5}}, \"type\": \"bar\"}], \"barpolar\": [{\"marker\": {\"line\": {\"color\": \"#E5ECF6\", \"width\": 0.5}}, \"type\": \"barpolar\"}], \"carpet\": [{\"aaxis\": {\"endlinecolor\": \"#2a3f5f\", \"gridcolor\": \"white\", \"linecolor\": \"white\", \"minorgridcolor\": \"white\", \"startlinecolor\": \"#2a3f5f\"}, \"baxis\": {\"endlinecolor\": \"#2a3f5f\", \"gridcolor\": \"white\", \"linecolor\": \"white\", \"minorgridcolor\": \"white\", \"startlinecolor\": \"#2a3f5f\"}, \"type\": \"carpet\"}], \"choropleth\": [{\"colorbar\": {\"outlinewidth\": 0, \"ticks\": \"\"}, \"type\": \"choropleth\"}], \"contour\": [{\"colorbar\": {\"outlinewidth\": 0, \"ticks\": \"\"}, \"colorscale\": [[0.0, \"#0d0887\"], [0.1111111111111111, \"#46039f\"], [0.2222222222222222, \"#7201a8\"], [0.3333333333333333, \"#9c179e\"], [0.4444444444444444, \"#bd3786\"], [0.5555555555555556, \"#d8576b\"], [0.6666666666666666, \"#ed7953\"], [0.7777777777777778, \"#fb9f3a\"], [0.8888888888888888, \"#fdca26\"], [1.0, \"#f0f921\"]], \"type\": \"contour\"}], \"contourcarpet\": [{\"colorbar\": {\"outlinewidth\": 0, \"ticks\": \"\"}, \"type\": \"contourcarpet\"}], \"heatmap\": [{\"colorbar\": {\"outlinewidth\": 0, \"ticks\": \"\"}, \"colorscale\": [[0.0, \"#0d0887\"], [0.1111111111111111, \"#46039f\"], [0.2222222222222222, \"#7201a8\"], [0.3333333333333333, \"#9c179e\"], [0.4444444444444444, \"#bd3786\"], [0.5555555555555556, \"#d8576b\"], [0.6666666666666666, \"#ed7953\"], [0.7777777777777778, \"#fb9f3a\"], [0.8888888888888888, \"#fdca26\"], [1.0, \"#f0f921\"]], \"type\": \"heatmap\"}], \"heatmapgl\": [{\"colorbar\": {\"outlinewidth\": 0, \"ticks\": \"\"}, \"colorscale\": [[0.0, \"#0d0887\"], [0.1111111111111111, \"#46039f\"], [0.2222222222222222, \"#7201a8\"], [0.3333333333333333, \"#9c179e\"], [0.4444444444444444, \"#bd3786\"], [0.5555555555555556, \"#d8576b\"], [0.6666666666666666, \"#ed7953\"], [0.7777777777777778, \"#fb9f3a\"], [0.8888888888888888, \"#fdca26\"], [1.0, \"#f0f921\"]], \"type\": \"heatmapgl\"}], \"histogram\": [{\"marker\": {\"colorbar\": {\"outlinewidth\": 0, \"ticks\": \"\"}}, \"type\": \"histogram\"}], \"histogram2d\": [{\"colorbar\": {\"outlinewidth\": 0, \"ticks\": \"\"}, \"colorscale\": [[0.0, \"#0d0887\"], [0.1111111111111111, \"#46039f\"], [0.2222222222222222, \"#7201a8\"], [0.3333333333333333, \"#9c179e\"], [0.4444444444444444, \"#bd3786\"], [0.5555555555555556, \"#d8576b\"], [0.6666666666666666, \"#ed7953\"], [0.7777777777777778, \"#fb9f3a\"], [0.8888888888888888, \"#fdca26\"], [1.0, \"#f0f921\"]], \"type\": \"histogram2d\"}], \"histogram2dcontour\": [{\"colorbar\": {\"outlinewidth\": 0, \"ticks\": \"\"}, \"colorscale\": [[0.0, \"#0d0887\"], [0.1111111111111111, \"#46039f\"], [0.2222222222222222, \"#7201a8\"], [0.3333333333333333, \"#9c179e\"], [0.4444444444444444, \"#bd3786\"], [0.5555555555555556, \"#d8576b\"], [0.6666666666666666, \"#ed7953\"], [0.7777777777777778, \"#fb9f3a\"], [0.8888888888888888, \"#fdca26\"], [1.0, \"#f0f921\"]], \"type\": \"histogram2dcontour\"}], \"mesh3d\": [{\"colorbar\": {\"outlinewidth\": 0, \"ticks\": \"\"}, \"type\": \"mesh3d\"}], \"parcoords\": [{\"line\": {\"colorbar\": {\"outlinewidth\": 0, \"ticks\": \"\"}}, \"type\": \"parcoords\"}], \"pie\": [{\"automargin\": true, \"type\": \"pie\"}], \"scatter\": [{\"marker\": {\"colorbar\": {\"outlinewidth\": 0, \"ticks\": \"\"}}, \"type\": \"scatter\"}], \"scatter3d\": [{\"line\": {\"colorbar\": {\"outlinewidth\": 0, \"ticks\": \"\"}}, \"marker\": {\"colorbar\": {\"outlinewidth\": 0, \"ticks\": \"\"}}, \"type\": \"scatter3d\"}], \"scattercarpet\": [{\"marker\": {\"colorbar\": {\"outlinewidth\": 0, \"ticks\": \"\"}}, \"type\": \"scattercarpet\"}], \"scattergeo\": [{\"marker\": {\"colorbar\": {\"outlinewidth\": 0, \"ticks\": \"\"}}, \"type\": \"scattergeo\"}], \"scattergl\": [{\"marker\": {\"colorbar\": {\"outlinewidth\": 0, \"ticks\": \"\"}}, \"type\": \"scattergl\"}], \"scattermapbox\": [{\"marker\": {\"colorbar\": {\"outlinewidth\": 0, \"ticks\": \"\"}}, \"type\": \"scattermapbox\"}], \"scatterpolar\": [{\"marker\": {\"colorbar\": {\"outlinewidth\": 0, \"ticks\": \"\"}}, \"type\": \"scatterpolar\"}], \"scatterpolargl\": [{\"marker\": {\"colorbar\": {\"outlinewidth\": 0, \"ticks\": \"\"}}, \"type\": \"scatterpolargl\"}], \"scatterternary\": [{\"marker\": {\"colorbar\": {\"outlinewidth\": 0, \"ticks\": \"\"}}, \"type\": \"scatterternary\"}], \"surface\": [{\"colorbar\": {\"outlinewidth\": 0, \"ticks\": \"\"}, \"colorscale\": [[0.0, \"#0d0887\"], [0.1111111111111111, \"#46039f\"], [0.2222222222222222, \"#7201a8\"], [0.3333333333333333, \"#9c179e\"], [0.4444444444444444, \"#bd3786\"], [0.5555555555555556, \"#d8576b\"], [0.6666666666666666, \"#ed7953\"], [0.7777777777777778, \"#fb9f3a\"], [0.8888888888888888, \"#fdca26\"], [1.0, \"#f0f921\"]], \"type\": \"surface\"}], \"table\": [{\"cells\": {\"fill\": {\"color\": \"#EBF0F8\"}, \"line\": {\"color\": \"white\"}}, \"header\": {\"fill\": {\"color\": \"#C8D4E3\"}, \"line\": {\"color\": \"white\"}}, \"type\": \"table\"}]}, \"layout\": {\"annotationdefaults\": {\"arrowcolor\": \"#2a3f5f\", \"arrowhead\": 0, \"arrowwidth\": 1}, \"coloraxis\": {\"colorbar\": {\"outlinewidth\": 0, \"ticks\": \"\"}}, \"colorscale\": {\"diverging\": [[0, \"#8e0152\"], [0.1, \"#c51b7d\"], [0.2, \"#de77ae\"], [0.3, \"#f1b6da\"], [0.4, \"#fde0ef\"], [0.5, \"#f7f7f7\"], [0.6, \"#e6f5d0\"], [0.7, \"#b8e186\"], [0.8, \"#7fbc41\"], [0.9, \"#4d9221\"], [1, \"#276419\"]], \"sequential\": [[0.0, \"#0d0887\"], [0.1111111111111111, \"#46039f\"], [0.2222222222222222, \"#7201a8\"], [0.3333333333333333, \"#9c179e\"], [0.4444444444444444, \"#bd3786\"], [0.5555555555555556, \"#d8576b\"], [0.6666666666666666, \"#ed7953\"], [0.7777777777777778, \"#fb9f3a\"], [0.8888888888888888, \"#fdca26\"], [1.0, \"#f0f921\"]], \"sequentialminus\": [[0.0, \"#0d0887\"], [0.1111111111111111, \"#46039f\"], [0.2222222222222222, \"#7201a8\"], [0.3333333333333333, \"#9c179e\"], [0.4444444444444444, \"#bd3786\"], [0.5555555555555556, \"#d8576b\"], [0.6666666666666666, \"#ed7953\"], [0.7777777777777778, \"#fb9f3a\"], [0.8888888888888888, \"#fdca26\"], [1.0, \"#f0f921\"]]}, \"colorway\": [\"#636efa\", \"#EF553B\", \"#00cc96\", \"#ab63fa\", \"#FFA15A\", \"#19d3f3\", \"#FF6692\", \"#B6E880\", \"#FF97FF\", \"#FECB52\"], \"font\": {\"color\": \"#2a3f5f\"}, \"geo\": {\"bgcolor\": \"white\", \"lakecolor\": \"white\", \"landcolor\": \"#E5ECF6\", \"showlakes\": true, \"showland\": true, \"subunitcolor\": \"white\"}, \"hoverlabel\": {\"align\": \"left\"}, \"hovermode\": \"closest\", \"mapbox\": {\"style\": \"light\"}, \"paper_bgcolor\": \"white\", \"plot_bgcolor\": \"#E5ECF6\", \"polar\": {\"angularaxis\": {\"gridcolor\": \"white\", \"linecolor\": \"white\", \"ticks\": \"\"}, \"bgcolor\": \"#E5ECF6\", \"radialaxis\": {\"gridcolor\": \"white\", \"linecolor\": \"white\", \"ticks\": \"\"}}, \"scene\": {\"xaxis\": {\"backgroundcolor\": \"#E5ECF6\", \"gridcolor\": \"white\", \"gridwidth\": 2, \"linecolor\": \"white\", \"showbackground\": true, \"ticks\": \"\", \"zerolinecolor\": \"white\"}, \"yaxis\": {\"backgroundcolor\": \"#E5ECF6\", \"gridcolor\": \"white\", \"gridwidth\": 2, \"linecolor\": \"white\", \"showbackground\": true, \"ticks\": \"\", \"zerolinecolor\": \"white\"}, \"zaxis\": {\"backgroundcolor\": \"#E5ECF6\", \"gridcolor\": \"white\", \"gridwidth\": 2, \"linecolor\": \"white\", \"showbackground\": true, \"ticks\": \"\", \"zerolinecolor\": \"white\"}}, \"shapedefaults\": {\"line\": {\"color\": \"#2a3f5f\"}}, \"ternary\": {\"aaxis\": {\"gridcolor\": \"white\", \"linecolor\": \"white\", \"ticks\": \"\"}, \"baxis\": {\"gridcolor\": \"white\", \"linecolor\": \"white\", \"ticks\": \"\"}, \"bgcolor\": \"#E5ECF6\", \"caxis\": {\"gridcolor\": \"white\", \"linecolor\": \"white\", \"ticks\": \"\"}}, \"title\": {\"x\": 0.05}, \"xaxis\": {\"automargin\": true, \"gridcolor\": \"white\", \"linecolor\": \"white\", \"ticks\": \"\", \"title\": {\"standoff\": 15}, \"zerolinecolor\": \"white\", \"zerolinewidth\": 2}, \"yaxis\": {\"automargin\": true, \"gridcolor\": \"white\", \"linecolor\": \"white\", \"ticks\": \"\", \"title\": {\"standoff\": 15}, \"zerolinecolor\": \"white\", \"zerolinewidth\": 2}}}, \"title\": {\"text\": \"leftflank_attack\"}},\n",
       "                        {\"responsive\": true}\n",
       "                    ).then(function(){\n",
       "                            \n",
       "var gd = document.getElementById('8a3b4e58-100d-4d5d-94d5-bf2cd4431f3a');\n",
       "var x = new MutationObserver(function (mutations, observer) {{\n",
       "        var display = window.getComputedStyle(gd).display;\n",
       "        if (!display || display === 'none') {{\n",
       "            console.log([gd, 'removed!']);\n",
       "            Plotly.purge(gd);\n",
       "            observer.disconnect();\n",
       "        }}\n",
       "}});\n",
       "\n",
       "// Listen for the removal of the full notebook cells\n",
       "var notebookContainer = gd.closest('#notebook-container');\n",
       "if (notebookContainer) {{\n",
       "    x.observe(notebookContainer, {childList: true});\n",
       "}}\n",
       "\n",
       "// Listen for the clearing of the current output cell\n",
       "var outputEl = gd.closest('.output');\n",
       "if (outputEl) {{\n",
       "    x.observe(outputEl, {childList: true});\n",
       "}}\n",
       "\n",
       "                        })\n",
       "                };\n",
       "                });\n",
       "            </script>\n",
       "        </div>"
      ]
     },
     "metadata": {},
     "output_type": "display_data"
    },
    {
     "data": {
      "application/vnd.plotly.v1+json": {
       "config": {
        "plotlyServerURL": "https://plot.ly"
       },
       "data": [
        {
         "mode": "markers",
         "name": "Plot5",
         "text": [
          "AaronCresswell LCB left",
          "AdrianMariappa L_CB right",
          "AhmedHegazi LCB right",
          "AhmedHegazi L_CB right",
          "AlfieMawson LCB right",
          "AlfieMawson L_CB right",
          "AngeloOgbonna LCB left",
          "AngeloOgbonna L_CB left",
          "AntonioRudiger LCB right",
          "AshleyWilliams L_CB right",
          "AymericLaporte L_CB left",
          "BenMee L_CB left",
          "BrunoMartinsIndi LCB left",
          "BrunoMartinsIndi L_CB left",
          "CalumChambers L_CB right",
          "ChrisSmalling L_CB right",
          "ChristianKabasele LCB right",
          "ChristianKabasele L_CB right",
          "ChristopherSchindler L_CB right",
          "CiaranClark LCB left",
          "CiaranClark L_CB left",
          "DeclanRice LCB right",
          "DejanLovren L_CB right",
          "EliaquimMangala L_CB left",
          "ErikPieters LCB left",
          "FlorianLejeune L_CB right",
          "GaryCahill LCB right",
          "GeoffCameron LCB right",
          "HarryMaguire L_CB right",
          "JamesCollins LCB right",
          "JamesTarkowski L_CB right",
          "JamesTomkins L_CB right",
          "JanVertonghen LCB left",
          "JanVertonghen L_CB left",
          "JonnyEvans LCB right",
          "JonnyEvans L_CB right",
          "JoseHolebas LCB left",
          "KevinWimmer LCB left",
          "KevinWimmer L_CB left",
          "KurtZouma L_CB right",
          "LaurentKoscielny LCB right",
          "LaurentKoscielny L_CB right",
          "LewisDunk L_CB right",
          "MamadouSakho L_CB left",
          "MarcosRojo L_CB left",
          "MayaYoshida L_CB right",
          "MichaelKeane L_CB right",
          "MiguelBritos LCB left",
          "MiguelBritos L_CB left",
          "NachoMonreal LCB left",
          "NachoMonreal L_CB left",
          "NathanAke LCB left",
          "NathanAke L_CB left",
          "NicolasOtamendi LCB right",
          "NicolasOtamendi L_CB right",
          "PaulDummett LCB left",
          "PhilJagielka LCB right",
          "PhilJagielka L_CB right",
          "PhilJones LCB right",
          "PhilJones L_CB right",
          "RagnarKlavan L_CB left",
          "RobHolding LCB right",
          "RobHolding L_CB right",
          "ScottDann L_CB right",
          "SeadKolasinac LCB left",
          "ShkodranMustafi L_CB right",
          "TobyAlderweireld L_CB right",
          "TyroneMings LCB left",
          "VictorNilssonLindelof L_CB right",
          "VirgilvanDijk L_CB right",
          "VirgilvanDijk L_CB right",
          "WesleyHoedt LCB left",
          "WesleyHoedt L_CB left",
          "WinstonReid L_CB right"
         ],
         "type": "scatter",
         "x": [
          36.26,
          35.29,
          21.43,
          19.57,
          25.68,
          23.94,
          12.5,
          25,
          30.51,
          11.11,
          27.27,
          25,
          20,
          21.05,
          0,
          0,
          33.33,
          33.33,
          25.88,
          44.44,
          32.43,
          20,
          29.17,
          22.22,
          25,
          25.81,
          20.51,
          26.32,
          14.79,
          42.86,
          8.11,
          27.27,
          27.27,
          28.42,
          7.69,
          25,
          33.33,
          25.81,
          57.14,
          37.5,
          25,
          33.33,
          22.22,
          36.36,
          25,
          27.78,
          25,
          30.43,
          23.08,
          18.42,
          25,
          16.67,
          23.81,
          14.29,
          20.63,
          50,
          16.67,
          16.67,
          0,
          24,
          22.22,
          25,
          37.5,
          11.11,
          20,
          16.67,
          40,
          55.56,
          50,
          25.58,
          33.33,
          28.26,
          39.73,
          0
         ],
         "y": [
          -4.428788814975908,
          1.036390468167762,
          -9.389628345767656,
          -0.38184455802871126,
          -2.172142291735662,
          -1.3387774199466496,
          -0.28722360730171204,
          -2.705514741440614,
          -5.01125366685705,
          -2.469632619371017,
          -4.221498112504681,
          -2.1757233005605245,
          -4.844352602958679,
          -0.8090955670922995,
          0,
          0,
          -3.757767751812935,
          -1.5717254718765616,
          0.6769582608037374,
          -1.258944277651608,
          0.28195239913960296,
          -4.264763323590159,
          -3.237259008788637,
          -2.230779267847538,
          -2.6470571756362915,
          -2.257043612189591,
          -1.9516843894962221,
          -6.8086872808635235,
          -3.7326977056052004,
          -2.798783825710416,
          -1.2969733215868473,
          -0.2538110129535198,
          -3.6955877051999173,
          -7.408516878193176,
          14.062860980629921,
          -2.864026674069464,
          -3.574628421726326,
          -0.21010119235143065,
          -2.375747775658965,
          -1.704850389311711,
          -5.319805815815926,
          -5.458359024487436,
          -0.40772725333226845,
          -1.4591003418900073,
          -0.5622909714778265,
          -3.310429770499468,
          -0.43334474321454763,
          -6.29934372513422,
          1.1174719935903947,
          -1.245884707064501,
          -8.696317672729492,
          10.03468394628726,
          -6.608318258076906,
          -3.468396607786417,
          -7.064232002728834,
          1.6188214998692274,
          -3.505830653011799,
          53.22467093355954,
          0,
          -5.406333327603837,
          -0.5156794330105186,
          -12.249249964952469,
          -2.200707793235779,
          -0.7786604110151529,
          -16.137029975652695,
          -6.113543175160885,
          -0.7741711451672018,
          -0.39284355007112026,
          -5.388221703469753,
          2.4598338958722623,
          13.252679103364548,
          -2.6735624549194026,
          -3.332468464264068,
          0
         ]
        }
       ],
       "layout": {
        "annotations": [
         {
          "showarrow": false,
          "text": "% Progressive passes",
          "x": 0.5,
          "xref": "paper",
          "y": -0.15,
          "yref": "paper"
         },
         {
          "showarrow": false,
          "text": "VAEP per progressive pass (scaled to 10000)",
          "textangle": -90,
          "x": -0.07,
          "xref": "paper",
          "y": 0.5,
          "yref": "paper"
         }
        ],
        "autosize": true,
        "margin": {
         "b": 100
        },
        "template": {
         "data": {
          "bar": [
           {
            "error_x": {
             "color": "#2a3f5f"
            },
            "error_y": {
             "color": "#2a3f5f"
            },
            "marker": {
             "line": {
              "color": "#E5ECF6",
              "width": 0.5
             }
            },
            "type": "bar"
           }
          ],
          "barpolar": [
           {
            "marker": {
             "line": {
              "color": "#E5ECF6",
              "width": 0.5
             }
            },
            "type": "barpolar"
           }
          ],
          "carpet": [
           {
            "aaxis": {
             "endlinecolor": "#2a3f5f",
             "gridcolor": "white",
             "linecolor": "white",
             "minorgridcolor": "white",
             "startlinecolor": "#2a3f5f"
            },
            "baxis": {
             "endlinecolor": "#2a3f5f",
             "gridcolor": "white",
             "linecolor": "white",
             "minorgridcolor": "white",
             "startlinecolor": "#2a3f5f"
            },
            "type": "carpet"
           }
          ],
          "choropleth": [
           {
            "colorbar": {
             "outlinewidth": 0,
             "ticks": ""
            },
            "type": "choropleth"
           }
          ],
          "contour": [
           {
            "colorbar": {
             "outlinewidth": 0,
             "ticks": ""
            },
            "colorscale": [
             [
              0,
              "#0d0887"
             ],
             [
              0.1111111111111111,
              "#46039f"
             ],
             [
              0.2222222222222222,
              "#7201a8"
             ],
             [
              0.3333333333333333,
              "#9c179e"
             ],
             [
              0.4444444444444444,
              "#bd3786"
             ],
             [
              0.5555555555555556,
              "#d8576b"
             ],
             [
              0.6666666666666666,
              "#ed7953"
             ],
             [
              0.7777777777777778,
              "#fb9f3a"
             ],
             [
              0.8888888888888888,
              "#fdca26"
             ],
             [
              1,
              "#f0f921"
             ]
            ],
            "type": "contour"
           }
          ],
          "contourcarpet": [
           {
            "colorbar": {
             "outlinewidth": 0,
             "ticks": ""
            },
            "type": "contourcarpet"
           }
          ],
          "heatmap": [
           {
            "colorbar": {
             "outlinewidth": 0,
             "ticks": ""
            },
            "colorscale": [
             [
              0,
              "#0d0887"
             ],
             [
              0.1111111111111111,
              "#46039f"
             ],
             [
              0.2222222222222222,
              "#7201a8"
             ],
             [
              0.3333333333333333,
              "#9c179e"
             ],
             [
              0.4444444444444444,
              "#bd3786"
             ],
             [
              0.5555555555555556,
              "#d8576b"
             ],
             [
              0.6666666666666666,
              "#ed7953"
             ],
             [
              0.7777777777777778,
              "#fb9f3a"
             ],
             [
              0.8888888888888888,
              "#fdca26"
             ],
             [
              1,
              "#f0f921"
             ]
            ],
            "type": "heatmap"
           }
          ],
          "heatmapgl": [
           {
            "colorbar": {
             "outlinewidth": 0,
             "ticks": ""
            },
            "colorscale": [
             [
              0,
              "#0d0887"
             ],
             [
              0.1111111111111111,
              "#46039f"
             ],
             [
              0.2222222222222222,
              "#7201a8"
             ],
             [
              0.3333333333333333,
              "#9c179e"
             ],
             [
              0.4444444444444444,
              "#bd3786"
             ],
             [
              0.5555555555555556,
              "#d8576b"
             ],
             [
              0.6666666666666666,
              "#ed7953"
             ],
             [
              0.7777777777777778,
              "#fb9f3a"
             ],
             [
              0.8888888888888888,
              "#fdca26"
             ],
             [
              1,
              "#f0f921"
             ]
            ],
            "type": "heatmapgl"
           }
          ],
          "histogram": [
           {
            "marker": {
             "colorbar": {
              "outlinewidth": 0,
              "ticks": ""
             }
            },
            "type": "histogram"
           }
          ],
          "histogram2d": [
           {
            "colorbar": {
             "outlinewidth": 0,
             "ticks": ""
            },
            "colorscale": [
             [
              0,
              "#0d0887"
             ],
             [
              0.1111111111111111,
              "#46039f"
             ],
             [
              0.2222222222222222,
              "#7201a8"
             ],
             [
              0.3333333333333333,
              "#9c179e"
             ],
             [
              0.4444444444444444,
              "#bd3786"
             ],
             [
              0.5555555555555556,
              "#d8576b"
             ],
             [
              0.6666666666666666,
              "#ed7953"
             ],
             [
              0.7777777777777778,
              "#fb9f3a"
             ],
             [
              0.8888888888888888,
              "#fdca26"
             ],
             [
              1,
              "#f0f921"
             ]
            ],
            "type": "histogram2d"
           }
          ],
          "histogram2dcontour": [
           {
            "colorbar": {
             "outlinewidth": 0,
             "ticks": ""
            },
            "colorscale": [
             [
              0,
              "#0d0887"
             ],
             [
              0.1111111111111111,
              "#46039f"
             ],
             [
              0.2222222222222222,
              "#7201a8"
             ],
             [
              0.3333333333333333,
              "#9c179e"
             ],
             [
              0.4444444444444444,
              "#bd3786"
             ],
             [
              0.5555555555555556,
              "#d8576b"
             ],
             [
              0.6666666666666666,
              "#ed7953"
             ],
             [
              0.7777777777777778,
              "#fb9f3a"
             ],
             [
              0.8888888888888888,
              "#fdca26"
             ],
             [
              1,
              "#f0f921"
             ]
            ],
            "type": "histogram2dcontour"
           }
          ],
          "mesh3d": [
           {
            "colorbar": {
             "outlinewidth": 0,
             "ticks": ""
            },
            "type": "mesh3d"
           }
          ],
          "parcoords": [
           {
            "line": {
             "colorbar": {
              "outlinewidth": 0,
              "ticks": ""
             }
            },
            "type": "parcoords"
           }
          ],
          "pie": [
           {
            "automargin": true,
            "type": "pie"
           }
          ],
          "scatter": [
           {
            "marker": {
             "colorbar": {
              "outlinewidth": 0,
              "ticks": ""
             }
            },
            "type": "scatter"
           }
          ],
          "scatter3d": [
           {
            "line": {
             "colorbar": {
              "outlinewidth": 0,
              "ticks": ""
             }
            },
            "marker": {
             "colorbar": {
              "outlinewidth": 0,
              "ticks": ""
             }
            },
            "type": "scatter3d"
           }
          ],
          "scattercarpet": [
           {
            "marker": {
             "colorbar": {
              "outlinewidth": 0,
              "ticks": ""
             }
            },
            "type": "scattercarpet"
           }
          ],
          "scattergeo": [
           {
            "marker": {
             "colorbar": {
              "outlinewidth": 0,
              "ticks": ""
             }
            },
            "type": "scattergeo"
           }
          ],
          "scattergl": [
           {
            "marker": {
             "colorbar": {
              "outlinewidth": 0,
              "ticks": ""
             }
            },
            "type": "scattergl"
           }
          ],
          "scattermapbox": [
           {
            "marker": {
             "colorbar": {
              "outlinewidth": 0,
              "ticks": ""
             }
            },
            "type": "scattermapbox"
           }
          ],
          "scatterpolar": [
           {
            "marker": {
             "colorbar": {
              "outlinewidth": 0,
              "ticks": ""
             }
            },
            "type": "scatterpolar"
           }
          ],
          "scatterpolargl": [
           {
            "marker": {
             "colorbar": {
              "outlinewidth": 0,
              "ticks": ""
             }
            },
            "type": "scatterpolargl"
           }
          ],
          "scatterternary": [
           {
            "marker": {
             "colorbar": {
              "outlinewidth": 0,
              "ticks": ""
             }
            },
            "type": "scatterternary"
           }
          ],
          "surface": [
           {
            "colorbar": {
             "outlinewidth": 0,
             "ticks": ""
            },
            "colorscale": [
             [
              0,
              "#0d0887"
             ],
             [
              0.1111111111111111,
              "#46039f"
             ],
             [
              0.2222222222222222,
              "#7201a8"
             ],
             [
              0.3333333333333333,
              "#9c179e"
             ],
             [
              0.4444444444444444,
              "#bd3786"
             ],
             [
              0.5555555555555556,
              "#d8576b"
             ],
             [
              0.6666666666666666,
              "#ed7953"
             ],
             [
              0.7777777777777778,
              "#fb9f3a"
             ],
             [
              0.8888888888888888,
              "#fdca26"
             ],
             [
              1,
              "#f0f921"
             ]
            ],
            "type": "surface"
           }
          ],
          "table": [
           {
            "cells": {
             "fill": {
              "color": "#EBF0F8"
             },
             "line": {
              "color": "white"
             }
            },
            "header": {
             "fill": {
              "color": "#C8D4E3"
             },
             "line": {
              "color": "white"
             }
            },
            "type": "table"
           }
          ]
         },
         "layout": {
          "annotationdefaults": {
           "arrowcolor": "#2a3f5f",
           "arrowhead": 0,
           "arrowwidth": 1
          },
          "coloraxis": {
           "colorbar": {
            "outlinewidth": 0,
            "ticks": ""
           }
          },
          "colorscale": {
           "diverging": [
            [
             0,
             "#8e0152"
            ],
            [
             0.1,
             "#c51b7d"
            ],
            [
             0.2,
             "#de77ae"
            ],
            [
             0.3,
             "#f1b6da"
            ],
            [
             0.4,
             "#fde0ef"
            ],
            [
             0.5,
             "#f7f7f7"
            ],
            [
             0.6,
             "#e6f5d0"
            ],
            [
             0.7,
             "#b8e186"
            ],
            [
             0.8,
             "#7fbc41"
            ],
            [
             0.9,
             "#4d9221"
            ],
            [
             1,
             "#276419"
            ]
           ],
           "sequential": [
            [
             0,
             "#0d0887"
            ],
            [
             0.1111111111111111,
             "#46039f"
            ],
            [
             0.2222222222222222,
             "#7201a8"
            ],
            [
             0.3333333333333333,
             "#9c179e"
            ],
            [
             0.4444444444444444,
             "#bd3786"
            ],
            [
             0.5555555555555556,
             "#d8576b"
            ],
            [
             0.6666666666666666,
             "#ed7953"
            ],
            [
             0.7777777777777778,
             "#fb9f3a"
            ],
            [
             0.8888888888888888,
             "#fdca26"
            ],
            [
             1,
             "#f0f921"
            ]
           ],
           "sequentialminus": [
            [
             0,
             "#0d0887"
            ],
            [
             0.1111111111111111,
             "#46039f"
            ],
            [
             0.2222222222222222,
             "#7201a8"
            ],
            [
             0.3333333333333333,
             "#9c179e"
            ],
            [
             0.4444444444444444,
             "#bd3786"
            ],
            [
             0.5555555555555556,
             "#d8576b"
            ],
            [
             0.6666666666666666,
             "#ed7953"
            ],
            [
             0.7777777777777778,
             "#fb9f3a"
            ],
            [
             0.8888888888888888,
             "#fdca26"
            ],
            [
             1,
             "#f0f921"
            ]
           ]
          },
          "colorway": [
           "#636efa",
           "#EF553B",
           "#00cc96",
           "#ab63fa",
           "#FFA15A",
           "#19d3f3",
           "#FF6692",
           "#B6E880",
           "#FF97FF",
           "#FECB52"
          ],
          "font": {
           "color": "#2a3f5f"
          },
          "geo": {
           "bgcolor": "white",
           "lakecolor": "white",
           "landcolor": "#E5ECF6",
           "showlakes": true,
           "showland": true,
           "subunitcolor": "white"
          },
          "hoverlabel": {
           "align": "left"
          },
          "hovermode": "closest",
          "mapbox": {
           "style": "light"
          },
          "paper_bgcolor": "white",
          "plot_bgcolor": "#E5ECF6",
          "polar": {
           "angularaxis": {
            "gridcolor": "white",
            "linecolor": "white",
            "ticks": ""
           },
           "bgcolor": "#E5ECF6",
           "radialaxis": {
            "gridcolor": "white",
            "linecolor": "white",
            "ticks": ""
           }
          },
          "scene": {
           "xaxis": {
            "backgroundcolor": "#E5ECF6",
            "gridcolor": "white",
            "gridwidth": 2,
            "linecolor": "white",
            "showbackground": true,
            "ticks": "",
            "zerolinecolor": "white"
           },
           "yaxis": {
            "backgroundcolor": "#E5ECF6",
            "gridcolor": "white",
            "gridwidth": 2,
            "linecolor": "white",
            "showbackground": true,
            "ticks": "",
            "zerolinecolor": "white"
           },
           "zaxis": {
            "backgroundcolor": "#E5ECF6",
            "gridcolor": "white",
            "gridwidth": 2,
            "linecolor": "white",
            "showbackground": true,
            "ticks": "",
            "zerolinecolor": "white"
           }
          },
          "shapedefaults": {
           "line": {
            "color": "#2a3f5f"
           }
          },
          "ternary": {
           "aaxis": {
            "gridcolor": "white",
            "linecolor": "white",
            "ticks": ""
           },
           "baxis": {
            "gridcolor": "white",
            "linecolor": "white",
            "ticks": ""
           },
           "bgcolor": "#E5ECF6",
           "caxis": {
            "gridcolor": "white",
            "linecolor": "white",
            "ticks": ""
           }
          },
          "title": {
           "x": 0.05
          },
          "xaxis": {
           "automargin": true,
           "gridcolor": "white",
           "linecolor": "white",
           "ticks": "",
           "title": {
            "standoff": 15
           },
           "zerolinecolor": "white",
           "zerolinewidth": 2
          },
          "yaxis": {
           "automargin": true,
           "gridcolor": "white",
           "linecolor": "white",
           "ticks": "",
           "title": {
            "standoff": 15
           },
           "zerolinecolor": "white",
           "zerolinewidth": 2
          }
         }
        },
        "title": {
         "text": "leftcentral_attack"
        },
        "xaxis": {
         "autorange": true,
         "range": [
          -3.50360707866722,
          60.64360707866722
         ],
         "type": "linear"
        },
        "yaxis": {
         "autorange": true,
         "range": [
          -21.319226020593838,
          58.40686697850068
         ],
         "type": "linear"
        }
       }
      },
      "image/png": "[encoded data removed]",
      "text/html": [
       "<div>\n",
       "        \n",
       "        \n",
       "            <div id=\"68420b4e-c33c-4939-997b-8e22d3265208\" class=\"plotly-graph-div\" style=\"height:525px; width:100%;\"></div>\n",
       "            <script type=\"text/javascript\">\n",
       "                require([\"plotly\"], function(Plotly) {\n",
       "                    window.PLOTLYENV=window.PLOTLYENV || {};\n",
       "                    \n",
       "                if (document.getElementById(\"68420b4e-c33c-4939-997b-8e22d3265208\")) {\n",
       "                    Plotly.newPlot(\n",
       "                        '68420b4e-c33c-4939-997b-8e22d3265208',\n",
       "                        [{\"mode\": \"markers\", \"name\": \"Plot5\", \"text\": [\"AaronCresswell LCB left\", \"AdrianMariappa L_CB right\", \"AhmedHegazi LCB right\", \"AhmedHegazi L_CB right\", \"AlfieMawson LCB right\", \"AlfieMawson L_CB right\", \"AngeloOgbonna LCB left\", \"AngeloOgbonna L_CB left\", \"AntonioRudiger LCB right\", \"AshleyWilliams L_CB right\", \"AymericLaporte L_CB left\", \"BenMee L_CB left\", \"BrunoMartinsIndi LCB left\", \"BrunoMartinsIndi L_CB left\", \"CalumChambers L_CB right\", \"ChrisSmalling L_CB right\", \"ChristianKabasele LCB right\", \"ChristianKabasele L_CB right\", \"ChristopherSchindler L_CB right\", \"CiaranClark LCB left\", \"CiaranClark L_CB left\", \"DeclanRice LCB right\", \"DejanLovren L_CB right\", \"EliaquimMangala L_CB left\", \"ErikPieters LCB left\", \"FlorianLejeune L_CB right\", \"GaryCahill LCB right\", \"GeoffCameron LCB right\", \"HarryMaguire L_CB right\", \"JamesCollins LCB right\", \"JamesTarkowski L_CB right\", \"JamesTomkins L_CB right\", \"JanVertonghen LCB left\", \"JanVertonghen L_CB left\", \"JonnyEvans LCB right\", \"JonnyEvans L_CB right\", \"JoseHolebas LCB left\", \"KevinWimmer LCB left\", \"KevinWimmer L_CB left\", \"KurtZouma L_CB right\", \"LaurentKoscielny LCB right\", \"LaurentKoscielny L_CB right\", \"LewisDunk L_CB right\", \"MamadouSakho L_CB left\", \"MarcosRojo L_CB left\", \"MayaYoshida L_CB right\", \"MichaelKeane L_CB right\", \"MiguelBritos LCB left\", \"MiguelBritos L_CB left\", \"NachoMonreal LCB left\", \"NachoMonreal L_CB left\", \"NathanAke LCB left\", \"NathanAke L_CB left\", \"NicolasOtamendi LCB right\", \"NicolasOtamendi L_CB right\", \"PaulDummett LCB left\", \"PhilJagielka LCB right\", \"PhilJagielka L_CB right\", \"PhilJones LCB right\", \"PhilJones L_CB right\", \"RagnarKlavan L_CB left\", \"RobHolding LCB right\", \"RobHolding L_CB right\", \"ScottDann L_CB right\", \"SeadKolasinac LCB left\", \"ShkodranMustafi L_CB right\", \"TobyAlderweireld L_CB right\", \"TyroneMings LCB left\", \"VictorNilssonLindelof L_CB right\", \"VirgilvanDijk L_CB right\", \"VirgilvanDijk L_CB right\", \"WesleyHoedt LCB left\", \"WesleyHoedt L_CB left\", \"WinstonReid L_CB right\"], \"type\": \"scatter\", \"x\": [36.26, 35.29, 21.43, 19.57, 25.68, 23.94, 12.5, 25.0, 30.51, 11.11, 27.27, 25.0, 20.0, 21.05, 0, 0, 33.33, 33.33, 25.88, 44.44, 32.43, 20.0, 29.17, 22.22, 25.0, 25.81, 20.51, 26.32, 14.79, 42.86, 8.11, 27.27, 27.27, 28.42, 7.69, 25.0, 33.33, 25.81, 57.14, 37.5, 25.0, 33.33, 22.22, 36.36, 25.0, 27.78, 25.0, 30.43, 23.08, 18.42, 25.0, 16.67, 23.81, 14.29, 20.63, 50.0, 16.67, 16.67, 0, 24.0, 22.22, 25.0, 37.5, 11.11, 20.0, 16.67, 40.0, 55.56, 50.0, 25.58, 33.33, 28.26, 39.73, 0], \"y\": [-4.428788814975908, 1.036390468167762, -9.389628345767656, -0.38184455802871126, -2.172142291735662, -1.3387774199466496, -0.28722360730171204, -2.705514741440614, -5.01125366685705, -2.469632619371017, -4.221498112504681, -2.1757233005605245, -4.844352602958679, -0.8090955670922995, 0, 0, -3.757767751812935, -1.5717254718765616, 0.6769582608037374, -1.258944277651608, 0.28195239913960296, -4.264763323590159, -3.237259008788637, -2.230779267847538, -2.6470571756362915, -2.257043612189591, -1.9516843894962221, -6.8086872808635235, -3.7326977056052004, -2.798783825710416, -1.2969733215868473, -0.2538110129535198, -3.6955877051999173, -7.408516878193176, 14.062860980629921, -2.864026674069464, -3.574628421726326, -0.21010119235143065, -2.375747775658965, -1.704850389311711, -5.319805815815926, -5.458359024487436, -0.40772725333226845, -1.4591003418900073, -0.5622909714778265, -3.310429770499468, -0.43334474321454763, -6.29934372513422, 1.1174719935903947, -1.245884707064501, -8.696317672729492, 10.03468394628726, -6.608318258076906, -3.468396607786417, -7.064232002728834, 1.6188214998692274, -3.505830653011799, 53.22467093355954, 0, -5.406333327603837, -0.5156794330105186, -12.249249964952469, -2.200707793235779, -0.7786604110151529, -16.137029975652695, -6.113543175160885, -0.7741711451672018, -0.39284355007112026, -5.388221703469753, 2.4598338958722623, 13.252679103364548, -2.6735624549194026, -3.332468464264068, 0]}],\n",
       "                        {\"annotations\": [{\"showarrow\": false, \"text\": \"% Progressive passes\", \"x\": 0.5, \"xref\": \"paper\", \"y\": -0.15, \"yref\": \"paper\"}, {\"showarrow\": false, \"text\": \"VAEP per progressive pass (scaled to 10000)\", \"textangle\": -90, \"x\": -0.07, \"xref\": \"paper\", \"y\": 0.5, \"yref\": \"paper\"}], \"autosize\": true, \"margin\": {\"b\": 100}, \"template\": {\"data\": {\"bar\": [{\"error_x\": {\"color\": \"#2a3f5f\"}, \"error_y\": {\"color\": \"#2a3f5f\"}, \"marker\": {\"line\": {\"color\": \"#E5ECF6\", \"width\": 0.5}}, \"type\": \"bar\"}], \"barpolar\": [{\"marker\": {\"line\": {\"color\": \"#E5ECF6\", \"width\": 0.5}}, \"type\": \"barpolar\"}], \"carpet\": [{\"aaxis\": {\"endlinecolor\": \"#2a3f5f\", \"gridcolor\": \"white\", \"linecolor\": \"white\", \"minorgridcolor\": \"white\", \"startlinecolor\": \"#2a3f5f\"}, \"baxis\": {\"endlinecolor\": \"#2a3f5f\", \"gridcolor\": \"white\", \"linecolor\": \"white\", \"minorgridcolor\": \"white\", \"startlinecolor\": \"#2a3f5f\"}, \"type\": \"carpet\"}], \"choropleth\": [{\"colorbar\": {\"outlinewidth\": 0, \"ticks\": \"\"}, \"type\": \"choropleth\"}], \"contour\": [{\"colorbar\": {\"outlinewidth\": 0, \"ticks\": \"\"}, \"colorscale\": [[0.0, \"#0d0887\"], [0.1111111111111111, \"#46039f\"], [0.2222222222222222, \"#7201a8\"], [0.3333333333333333, \"#9c179e\"], [0.4444444444444444, \"#bd3786\"], [0.5555555555555556, \"#d8576b\"], [0.6666666666666666, \"#ed7953\"], [0.7777777777777778, \"#fb9f3a\"], [0.8888888888888888, \"#fdca26\"], [1.0, \"#f0f921\"]], \"type\": \"contour\"}], \"contourcarpet\": [{\"colorbar\": {\"outlinewidth\": 0, \"ticks\": \"\"}, \"type\": \"contourcarpet\"}], \"heatmap\": [{\"colorbar\": {\"outlinewidth\": 0, \"ticks\": \"\"}, \"colorscale\": [[0.0, \"#0d0887\"], [0.1111111111111111, \"#46039f\"], [0.2222222222222222, \"#7201a8\"], [0.3333333333333333, \"#9c179e\"], [0.4444444444444444, \"#bd3786\"], [0.5555555555555556, \"#d8576b\"], [0.6666666666666666, \"#ed7953\"], [0.7777777777777778, \"#fb9f3a\"], [0.8888888888888888, \"#fdca26\"], [1.0, \"#f0f921\"]], \"type\": \"heatmap\"}], \"heatmapgl\": [{\"colorbar\": {\"outlinewidth\": 0, \"ticks\": \"\"}, \"colorscale\": [[0.0, \"#0d0887\"], [0.1111111111111111, \"#46039f\"], [0.2222222222222222, \"#7201a8\"], [0.3333333333333333, \"#9c179e\"], [0.4444444444444444, \"#bd3786\"], [0.5555555555555556, \"#d8576b\"], [0.6666666666666666, \"#ed7953\"], [0.7777777777777778, \"#fb9f3a\"], [0.8888888888888888, \"#fdca26\"], [1.0, \"#f0f921\"]], \"type\": \"heatmapgl\"}], \"histogram\": [{\"marker\": {\"colorbar\": {\"outlinewidth\": 0, \"ticks\": \"\"}}, \"type\": \"histogram\"}], \"histogram2d\": [{\"colorbar\": {\"outlinewidth\": 0, \"ticks\": \"\"}, \"colorscale\": [[0.0, \"#0d0887\"], [0.1111111111111111, \"#46039f\"], [0.2222222222222222, \"#7201a8\"], [0.3333333333333333, \"#9c179e\"], [0.4444444444444444, \"#bd3786\"], [0.5555555555555556, \"#d8576b\"], [0.6666666666666666, \"#ed7953\"], [0.7777777777777778, \"#fb9f3a\"], [0.8888888888888888, \"#fdca26\"], [1.0, \"#f0f921\"]], \"type\": \"histogram2d\"}], \"histogram2dcontour\": [{\"colorbar\": {\"outlinewidth\": 0, \"ticks\": \"\"}, \"colorscale\": [[0.0, \"#0d0887\"], [0.1111111111111111, \"#46039f\"], [0.2222222222222222, \"#7201a8\"], [0.3333333333333333, \"#9c179e\"], [0.4444444444444444, \"#bd3786\"], [0.5555555555555556, \"#d8576b\"], [0.6666666666666666, \"#ed7953\"], [0.7777777777777778, \"#fb9f3a\"], [0.8888888888888888, \"#fdca26\"], [1.0, \"#f0f921\"]], \"type\": \"histogram2dcontour\"}], \"mesh3d\": [{\"colorbar\": {\"outlinewidth\": 0, \"ticks\": \"\"}, \"type\": \"mesh3d\"}], \"parcoords\": [{\"line\": {\"colorbar\": {\"outlinewidth\": 0, \"ticks\": \"\"}}, \"type\": \"parcoords\"}], \"pie\": [{\"automargin\": true, \"type\": \"pie\"}], \"scatter\": [{\"marker\": {\"colorbar\": {\"outlinewidth\": 0, \"ticks\": \"\"}}, \"type\": \"scatter\"}], \"scatter3d\": [{\"line\": {\"colorbar\": {\"outlinewidth\": 0, \"ticks\": \"\"}}, \"marker\": {\"colorbar\": {\"outlinewidth\": 0, \"ticks\": \"\"}}, \"type\": \"scatter3d\"}], \"scattercarpet\": [{\"marker\": {\"colorbar\": {\"outlinewidth\": 0, \"ticks\": \"\"}}, \"type\": \"scattercarpet\"}], \"scattergeo\": [{\"marker\": {\"colorbar\": {\"outlinewidth\": 0, \"ticks\": \"\"}}, \"type\": \"scattergeo\"}], \"scattergl\": [{\"marker\": {\"colorbar\": {\"outlinewidth\": 0, \"ticks\": \"\"}}, \"type\": \"scattergl\"}], \"scattermapbox\": [{\"marker\": {\"colorbar\": {\"outlinewidth\": 0, \"ticks\": \"\"}}, \"type\": \"scattermapbox\"}], \"scatterpolar\": [{\"marker\": {\"colorbar\": {\"outlinewidth\": 0, \"ticks\": \"\"}}, \"type\": \"scatterpolar\"}], \"scatterpolargl\": [{\"marker\": {\"colorbar\": {\"outlinewidth\": 0, \"ticks\": \"\"}}, \"type\": \"scatterpolargl\"}], \"scatterternary\": [{\"marker\": {\"colorbar\": {\"outlinewidth\": 0, \"ticks\": \"\"}}, \"type\": \"scatterternary\"}], \"surface\": [{\"colorbar\": {\"outlinewidth\": 0, \"ticks\": \"\"}, \"colorscale\": [[0.0, \"#0d0887\"], [0.1111111111111111, \"#46039f\"], [0.2222222222222222, \"#7201a8\"], [0.3333333333333333, \"#9c179e\"], [0.4444444444444444, \"#bd3786\"], [0.5555555555555556, \"#d8576b\"], [0.6666666666666666, \"#ed7953\"], [0.7777777777777778, \"#fb9f3a\"], [0.8888888888888888, \"#fdca26\"], [1.0, \"#f0f921\"]], \"type\": \"surface\"}], \"table\": [{\"cells\": {\"fill\": {\"color\": \"#EBF0F8\"}, \"line\": {\"color\": \"white\"}}, \"header\": {\"fill\": {\"color\": \"#C8D4E3\"}, \"line\": {\"color\": \"white\"}}, \"type\": \"table\"}]}, \"layout\": {\"annotationdefaults\": {\"arrowcolor\": \"#2a3f5f\", \"arrowhead\": 0, \"arrowwidth\": 1}, \"coloraxis\": {\"colorbar\": {\"outlinewidth\": 0, \"ticks\": \"\"}}, \"colorscale\": {\"diverging\": [[0, \"#8e0152\"], [0.1, \"#c51b7d\"], [0.2, \"#de77ae\"], [0.3, \"#f1b6da\"], [0.4, \"#fde0ef\"], [0.5, \"#f7f7f7\"], [0.6, \"#e6f5d0\"], [0.7, \"#b8e186\"], [0.8, \"#7fbc41\"], [0.9, \"#4d9221\"], [1, \"#276419\"]], \"sequential\": [[0.0, \"#0d0887\"], [0.1111111111111111, \"#46039f\"], [0.2222222222222222, \"#7201a8\"], [0.3333333333333333, \"#9c179e\"], [0.4444444444444444, \"#bd3786\"], [0.5555555555555556, \"#d8576b\"], [0.6666666666666666, \"#ed7953\"], [0.7777777777777778, \"#fb9f3a\"], [0.8888888888888888, \"#fdca26\"], [1.0, \"#f0f921\"]], \"sequentialminus\": [[0.0, \"#0d0887\"], [0.1111111111111111, \"#46039f\"], [0.2222222222222222, \"#7201a8\"], [0.3333333333333333, \"#9c179e\"], [0.4444444444444444, \"#bd3786\"], [0.5555555555555556, \"#d8576b\"], [0.6666666666666666, \"#ed7953\"], [0.7777777777777778, \"#fb9f3a\"], [0.8888888888888888, \"#fdca26\"], [1.0, \"#f0f921\"]]}, \"colorway\": [\"#636efa\", \"#EF553B\", \"#00cc96\", \"#ab63fa\", \"#FFA15A\", \"#19d3f3\", \"#FF6692\", \"#B6E880\", \"#FF97FF\", \"#FECB52\"], \"font\": {\"color\": \"#2a3f5f\"}, \"geo\": {\"bgcolor\": \"white\", \"lakecolor\": \"white\", \"landcolor\": \"#E5ECF6\", \"showlakes\": true, \"showland\": true, \"subunitcolor\": \"white\"}, \"hoverlabel\": {\"align\": \"left\"}, \"hovermode\": \"closest\", \"mapbox\": {\"style\": \"light\"}, \"paper_bgcolor\": \"white\", \"plot_bgcolor\": \"#E5ECF6\", \"polar\": {\"angularaxis\": {\"gridcolor\": \"white\", \"linecolor\": \"white\", \"ticks\": \"\"}, \"bgcolor\": \"#E5ECF6\", \"radialaxis\": {\"gridcolor\": \"white\", \"linecolor\": \"white\", \"ticks\": \"\"}}, \"scene\": {\"xaxis\": {\"backgroundcolor\": \"#E5ECF6\", \"gridcolor\": \"white\", \"gridwidth\": 2, \"linecolor\": \"white\", \"showbackground\": true, \"ticks\": \"\", \"zerolinecolor\": \"white\"}, \"yaxis\": {\"backgroundcolor\": \"#E5ECF6\", \"gridcolor\": \"white\", \"gridwidth\": 2, \"linecolor\": \"white\", \"showbackground\": true, \"ticks\": \"\", \"zerolinecolor\": \"white\"}, \"zaxis\": {\"backgroundcolor\": \"#E5ECF6\", \"gridcolor\": \"white\", \"gridwidth\": 2, \"linecolor\": \"white\", \"showbackground\": true, \"ticks\": \"\", \"zerolinecolor\": \"white\"}}, \"shapedefaults\": {\"line\": {\"color\": \"#2a3f5f\"}}, \"ternary\": {\"aaxis\": {\"gridcolor\": \"white\", \"linecolor\": \"white\", \"ticks\": \"\"}, \"baxis\": {\"gridcolor\": \"white\", \"linecolor\": \"white\", \"ticks\": \"\"}, \"bgcolor\": \"#E5ECF6\", \"caxis\": {\"gridcolor\": \"white\", \"linecolor\": \"white\", \"ticks\": \"\"}}, \"title\": {\"x\": 0.05}, \"xaxis\": {\"automargin\": true, \"gridcolor\": \"white\", \"linecolor\": \"white\", \"ticks\": \"\", \"title\": {\"standoff\": 15}, \"zerolinecolor\": \"white\", \"zerolinewidth\": 2}, \"yaxis\": {\"automargin\": true, \"gridcolor\": \"white\", \"linecolor\": \"white\", \"ticks\": \"\", \"title\": {\"standoff\": 15}, \"zerolinecolor\": \"white\", \"zerolinewidth\": 2}}}, \"title\": {\"text\": \"leftcentral_attack\"}},\n",
       "                        {\"responsive\": true}\n",
       "                    ).then(function(){\n",
       "                            \n",
       "var gd = document.getElementById('68420b4e-c33c-4939-997b-8e22d3265208');\n",
       "var x = new MutationObserver(function (mutations, observer) {{\n",
       "        var display = window.getComputedStyle(gd).display;\n",
       "        if (!display || display === 'none') {{\n",
       "            console.log([gd, 'removed!']);\n",
       "            Plotly.purge(gd);\n",
       "            observer.disconnect();\n",
       "        }}\n",
       "}});\n",
       "\n",
       "// Listen for the removal of the full notebook cells\n",
       "var notebookContainer = gd.closest('#notebook-container');\n",
       "if (notebookContainer) {{\n",
       "    x.observe(notebookContainer, {childList: true});\n",
       "}}\n",
       "\n",
       "// Listen for the clearing of the current output cell\n",
       "var outputEl = gd.closest('.output');\n",
       "if (outputEl) {{\n",
       "    x.observe(outputEl, {childList: true});\n",
       "}}\n",
       "\n",
       "                        })\n",
       "                };\n",
       "                });\n",
       "            </script>\n",
       "        </div>"
      ]
     },
     "metadata": {},
     "output_type": "display_data"
    },
    {
     "data": {
      "application/vnd.plotly.v1+json": {
       "config": {
        "plotlyServerURL": "https://plot.ly"
       },
       "data": [
        {
         "mode": "markers",
         "name": "Plot6",
         "text": [
          "AaronCresswell LCB left",
          "AdrianMariappa L_CB right",
          "AhmedHegazi LCB right",
          "AhmedHegazi L_CB right",
          "AlfieMawson LCB right",
          "AlfieMawson L_CB right",
          "AngeloOgbonna LCB left",
          "AngeloOgbonna L_CB left",
          "AntonioRudiger LCB right",
          "AshleyWilliams L_CB right",
          "AymericLaporte L_CB left",
          "BenMee L_CB left",
          "BrunoMartinsIndi LCB left",
          "BrunoMartinsIndi L_CB left",
          "CalumChambers L_CB right",
          "ChrisSmalling L_CB right",
          "ChristianKabasele LCB right",
          "ChristianKabasele L_CB right",
          "ChristopherSchindler L_CB right",
          "CiaranClark LCB left",
          "CiaranClark L_CB left",
          "DeclanRice LCB right",
          "DejanLovren L_CB right",
          "EliaquimMangala L_CB left",
          "ErikPieters LCB left",
          "FlorianLejeune L_CB right",
          "GaryCahill LCB right",
          "GeoffCameron LCB right",
          "HarryMaguire L_CB right",
          "JamesCollins LCB right",
          "JamesTarkowski L_CB right",
          "JamesTomkins L_CB right",
          "JanVertonghen LCB left",
          "JanVertonghen L_CB left",
          "JonnyEvans LCB right",
          "JonnyEvans L_CB right",
          "JoseHolebas LCB left",
          "KevinWimmer LCB left",
          "KevinWimmer L_CB left",
          "KurtZouma L_CB right",
          "LaurentKoscielny LCB right",
          "LaurentKoscielny L_CB right",
          "LewisDunk L_CB right",
          "MamadouSakho L_CB left",
          "MarcosRojo L_CB left",
          "MayaYoshida L_CB right",
          "MichaelKeane L_CB right",
          "MiguelBritos LCB left",
          "MiguelBritos L_CB left",
          "NachoMonreal LCB left",
          "NachoMonreal L_CB left",
          "NathanAke LCB left",
          "NathanAke L_CB left",
          "NicolasOtamendi LCB right",
          "NicolasOtamendi L_CB right",
          "PaulDummett LCB left",
          "PhilJagielka LCB right",
          "PhilJagielka L_CB right",
          "PhilJones LCB right",
          "PhilJones L_CB right",
          "RagnarKlavan L_CB left",
          "RobHolding LCB right",
          "RobHolding L_CB right",
          "ScottDann L_CB right",
          "SeadKolasinac LCB left",
          "ShkodranMustafi L_CB right",
          "TobyAlderweireld L_CB right",
          "TyroneMings LCB left",
          "VictorNilssonLindelof L_CB right",
          "VirgilvanDijk L_CB right",
          "VirgilvanDijk L_CB right",
          "WesleyHoedt LCB left",
          "WesleyHoedt L_CB left",
          "WinstonReid L_CB right"
         ],
         "type": "scatter",
         "x": [
          10.99,
          11.76,
          21.43,
          13.04,
          14.86,
          16.9,
          0,
          25,
          23.73,
          22.22,
          18.18,
          6.58,
          40,
          21.05,
          50,
          33.33,
          6.67,
          10.26,
          12.94,
          11.11,
          8.11,
          10,
          16.67,
          33.33,
          0,
          20.97,
          12.82,
          10.53,
          8.45,
          14.29,
          18.92,
          27.27,
          25,
          20,
          15.38,
          20,
          11.11,
          9.68,
          28.57,
          6.25,
          50,
          16.67,
          17.36,
          9.09,
          25,
          27.78,
          12.5,
          8.7,
          15.38,
          15.79,
          25,
          20.83,
          19.05,
          0,
          22.22,
          0,
          25,
          0,
          0,
          8,
          22.22,
          25,
          0,
          11.11,
          20,
          16.67,
          0,
          0,
          25,
          25.58,
          16.67,
          6.52,
          6.85,
          0
         ],
         "y": [
          -7.651999220252037,
          -4.941741703078151,
          -3.7844060764958463,
          -1.906338535870115,
          -1.93591134368696,
          -4.986751785812278,
          0,
          2.0152072344596186,
          -1.8991318980364926,
          -0.2380409666026632,
          -6.778748938813806,
          -0.1800362952053547,
          -4.079557838849723,
          1.6770370420999825,
          -14.677601866424084,
          4.588329349644482,
          -0.818030210211873,
          -1.390287943650037,
          -2.4156928782097316,
          -0.7881221827119589,
          -2.3086321307346225,
          -0.13307807967066765,
          -7.587875879835337,
          -18.10591450581948,
          0,
          -1.788230577053932,
          -9.315389953553677,
          -8.892028126865625,
          0.1668015611357987,
          0.04734913818538189,
          0.5136302705588085,
          -6.573433172889054,
          -6.638151741671291,
          4.993673340466462,
          -6.673152092844248,
          -3.3920066489372402,
          -20.344872027635574,
          -0.5739214830100536,
          -1.0761712910607457,
          -1.6198833473026752,
          0.4263566806912422,
          0.39161741733551025,
          -3.836511531844735,
          -4.584537353366613,
          -1.5034778819729884,
          -0.25593647733330727,
          -1.8023976978535454,
          -3.99274961091578,
          -1.9903251668438315,
          -8.835843725440403,
          9.010965004563332,
          -0.1188165508210659,
          -9.728818666189909,
          0,
          -6.692992822666254,
          0,
          -2.153629514699181,
          0,
          0,
          -5.52966701798141,
          0.34643998369574547,
          -7.345075719058514,
          0,
          -3.0708503909409046,
          -12.489266693592072,
          -15.4498890042305,
          0,
          0,
          -5.782548803836107,
          -3.390683326870203,
          -8.538649727900824,
          -3.256805008277297,
          7.028312236070633,
          0
         ]
        }
       ],
       "layout": {
        "annotations": [
         {
          "showarrow": false,
          "text": "% Progressive passes",
          "x": 0.5,
          "xref": "paper",
          "y": -0.15,
          "yref": "paper"
         },
         {
          "showarrow": false,
          "text": "VAEP per progressive pass (scaled to 10000)",
          "textangle": -90,
          "x": -0.07,
          "xref": "paper",
          "y": 0.5,
          "yref": "paper"
         }
        ],
        "autosize": true,
        "margin": {
         "b": 100
        },
        "template": {
         "data": {
          "bar": [
           {
            "error_x": {
             "color": "#2a3f5f"
            },
            "error_y": {
             "color": "#2a3f5f"
            },
            "marker": {
             "line": {
              "color": "#E5ECF6",
              "width": 0.5
             }
            },
            "type": "bar"
           }
          ],
          "barpolar": [
           {
            "marker": {
             "line": {
              "color": "#E5ECF6",
              "width": 0.5
             }
            },
            "type": "barpolar"
           }
          ],
          "carpet": [
           {
            "aaxis": {
             "endlinecolor": "#2a3f5f",
             "gridcolor": "white",
             "linecolor": "white",
             "minorgridcolor": "white",
             "startlinecolor": "#2a3f5f"
            },
            "baxis": {
             "endlinecolor": "#2a3f5f",
             "gridcolor": "white",
             "linecolor": "white",
             "minorgridcolor": "white",
             "startlinecolor": "#2a3f5f"
            },
            "type": "carpet"
           }
          ],
          "choropleth": [
           {
            "colorbar": {
             "outlinewidth": 0,
             "ticks": ""
            },
            "type": "choropleth"
           }
          ],
          "contour": [
           {
            "colorbar": {
             "outlinewidth": 0,
             "ticks": ""
            },
            "colorscale": [
             [
              0,
              "#0d0887"
             ],
             [
              0.1111111111111111,
              "#46039f"
             ],
             [
              0.2222222222222222,
              "#7201a8"
             ],
             [
              0.3333333333333333,
              "#9c179e"
             ],
             [
              0.4444444444444444,
              "#bd3786"
             ],
             [
              0.5555555555555556,
              "#d8576b"
             ],
             [
              0.6666666666666666,
              "#ed7953"
             ],
             [
              0.7777777777777778,
              "#fb9f3a"
             ],
             [
              0.8888888888888888,
              "#fdca26"
             ],
             [
              1,
              "#f0f921"
             ]
            ],
            "type": "contour"
           }
          ],
          "contourcarpet": [
           {
            "colorbar": {
             "outlinewidth": 0,
             "ticks": ""
            },
            "type": "contourcarpet"
           }
          ],
          "heatmap": [
           {
            "colorbar": {
             "outlinewidth": 0,
             "ticks": ""
            },
            "colorscale": [
             [
              0,
              "#0d0887"
             ],
             [
              0.1111111111111111,
              "#46039f"
             ],
             [
              0.2222222222222222,
              "#7201a8"
             ],
             [
              0.3333333333333333,
              "#9c179e"
             ],
             [
              0.4444444444444444,
              "#bd3786"
             ],
             [
              0.5555555555555556,
              "#d8576b"
             ],
             [
              0.6666666666666666,
              "#ed7953"
             ],
             [
              0.7777777777777778,
              "#fb9f3a"
             ],
             [
              0.8888888888888888,
              "#fdca26"
             ],
             [
              1,
              "#f0f921"
             ]
            ],
            "type": "heatmap"
           }
          ],
          "heatmapgl": [
           {
            "colorbar": {
             "outlinewidth": 0,
             "ticks": ""
            },
            "colorscale": [
             [
              0,
              "#0d0887"
             ],
             [
              0.1111111111111111,
              "#46039f"
             ],
             [
              0.2222222222222222,
              "#7201a8"
             ],
             [
              0.3333333333333333,
              "#9c179e"
             ],
             [
              0.4444444444444444,
              "#bd3786"
             ],
             [
              0.5555555555555556,
              "#d8576b"
             ],
             [
              0.6666666666666666,
              "#ed7953"
             ],
             [
              0.7777777777777778,
              "#fb9f3a"
             ],
             [
              0.8888888888888888,
              "#fdca26"
             ],
             [
              1,
              "#f0f921"
             ]
            ],
            "type": "heatmapgl"
           }
          ],
          "histogram": [
           {
            "marker": {
             "colorbar": {
              "outlinewidth": 0,
              "ticks": ""
             }
            },
            "type": "histogram"
           }
          ],
          "histogram2d": [
           {
            "colorbar": {
             "outlinewidth": 0,
             "ticks": ""
            },
            "colorscale": [
             [
              0,
              "#0d0887"
             ],
             [
              0.1111111111111111,
              "#46039f"
             ],
             [
              0.2222222222222222,
              "#7201a8"
             ],
             [
              0.3333333333333333,
              "#9c179e"
             ],
             [
              0.4444444444444444,
              "#bd3786"
             ],
             [
              0.5555555555555556,
              "#d8576b"
             ],
             [
              0.6666666666666666,
              "#ed7953"
             ],
             [
              0.7777777777777778,
              "#fb9f3a"
             ],
             [
              0.8888888888888888,
              "#fdca26"
             ],
             [
              1,
              "#f0f921"
             ]
            ],
            "type": "histogram2d"
           }
          ],
          "histogram2dcontour": [
           {
            "colorbar": {
             "outlinewidth": 0,
             "ticks": ""
            },
            "colorscale": [
             [
              0,
              "#0d0887"
             ],
             [
              0.1111111111111111,
              "#46039f"
             ],
             [
              0.2222222222222222,
              "#7201a8"
             ],
             [
              0.3333333333333333,
              "#9c179e"
             ],
             [
              0.4444444444444444,
              "#bd3786"
             ],
             [
              0.5555555555555556,
              "#d8576b"
             ],
             [
              0.6666666666666666,
              "#ed7953"
             ],
             [
              0.7777777777777778,
              "#fb9f3a"
             ],
             [
              0.8888888888888888,
              "#fdca26"
             ],
             [
              1,
              "#f0f921"
             ]
            ],
            "type": "histogram2dcontour"
           }
          ],
          "mesh3d": [
           {
            "colorbar": {
             "outlinewidth": 0,
             "ticks": ""
            },
            "type": "mesh3d"
           }
          ],
          "parcoords": [
           {
            "line": {
             "colorbar": {
              "outlinewidth": 0,
              "ticks": ""
             }
            },
            "type": "parcoords"
           }
          ],
          "pie": [
           {
            "automargin": true,
            "type": "pie"
           }
          ],
          "scatter": [
           {
            "marker": {
             "colorbar": {
              "outlinewidth": 0,
              "ticks": ""
             }
            },
            "type": "scatter"
           }
          ],
          "scatter3d": [
           {
            "line": {
             "colorbar": {
              "outlinewidth": 0,
              "ticks": ""
             }
            },
            "marker": {
             "colorbar": {
              "outlinewidth": 0,
              "ticks": ""
             }
            },
            "type": "scatter3d"
           }
          ],
          "scattercarpet": [
           {
            "marker": {
             "colorbar": {
              "outlinewidth": 0,
              "ticks": ""
             }
            },
            "type": "scattercarpet"
           }
          ],
          "scattergeo": [
           {
            "marker": {
             "colorbar": {
              "outlinewidth": 0,
              "ticks": ""
             }
            },
            "type": "scattergeo"
           }
          ],
          "scattergl": [
           {
            "marker": {
             "colorbar": {
              "outlinewidth": 0,
              "ticks": ""
             }
            },
            "type": "scattergl"
           }
          ],
          "scattermapbox": [
           {
            "marker": {
             "colorbar": {
              "outlinewidth": 0,
              "ticks": ""
             }
            },
            "type": "scattermapbox"
           }
          ],
          "scatterpolar": [
           {
            "marker": {
             "colorbar": {
              "outlinewidth": 0,
              "ticks": ""
             }
            },
            "type": "scatterpolar"
           }
          ],
          "scatterpolargl": [
           {
            "marker": {
             "colorbar": {
              "outlinewidth": 0,
              "ticks": ""
             }
            },
            "type": "scatterpolargl"
           }
          ],
          "scatterternary": [
           {
            "marker": {
             "colorbar": {
              "outlinewidth": 0,
              "ticks": ""
             }
            },
            "type": "scatterternary"
           }
          ],
          "surface": [
           {
            "colorbar": {
             "outlinewidth": 0,
             "ticks": ""
            },
            "colorscale": [
             [
              0,
              "#0d0887"
             ],
             [
              0.1111111111111111,
              "#46039f"
             ],
             [
              0.2222222222222222,
              "#7201a8"
             ],
             [
              0.3333333333333333,
              "#9c179e"
             ],
             [
              0.4444444444444444,
              "#bd3786"
             ],
             [
              0.5555555555555556,
              "#d8576b"
             ],
             [
              0.6666666666666666,
              "#ed7953"
             ],
             [
              0.7777777777777778,
              "#fb9f3a"
             ],
             [
              0.8888888888888888,
              "#fdca26"
             ],
             [
              1,
              "#f0f921"
             ]
            ],
            "type": "surface"
           }
          ],
          "table": [
           {
            "cells": {
             "fill": {
              "color": "#EBF0F8"
             },
             "line": {
              "color": "white"
             }
            },
            "header": {
             "fill": {
              "color": "#C8D4E3"
             },
             "line": {
              "color": "white"
             }
            },
            "type": "table"
           }
          ]
         },
         "layout": {
          "annotationdefaults": {
           "arrowcolor": "#2a3f5f",
           "arrowhead": 0,
           "arrowwidth": 1
          },
          "coloraxis": {
           "colorbar": {
            "outlinewidth": 0,
            "ticks": ""
           }
          },
          "colorscale": {
           "diverging": [
            [
             0,
             "#8e0152"
            ],
            [
             0.1,
             "#c51b7d"
            ],
            [
             0.2,
             "#de77ae"
            ],
            [
             0.3,
             "#f1b6da"
            ],
            [
             0.4,
             "#fde0ef"
            ],
            [
             0.5,
             "#f7f7f7"
            ],
            [
             0.6,
             "#e6f5d0"
            ],
            [
             0.7,
             "#b8e186"
            ],
            [
             0.8,
             "#7fbc41"
            ],
            [
             0.9,
             "#4d9221"
            ],
            [
             1,
             "#276419"
            ]
           ],
           "sequential": [
            [
             0,
             "#0d0887"
            ],
            [
             0.1111111111111111,
             "#46039f"
            ],
            [
             0.2222222222222222,
             "#7201a8"
            ],
            [
             0.3333333333333333,
             "#9c179e"
            ],
            [
             0.4444444444444444,
             "#bd3786"
            ],
            [
             0.5555555555555556,
             "#d8576b"
            ],
            [
             0.6666666666666666,
             "#ed7953"
            ],
            [
             0.7777777777777778,
             "#fb9f3a"
            ],
            [
             0.8888888888888888,
             "#fdca26"
            ],
            [
             1,
             "#f0f921"
            ]
           ],
           "sequentialminus": [
            [
             0,
             "#0d0887"
            ],
            [
             0.1111111111111111,
             "#46039f"
            ],
            [
             0.2222222222222222,
             "#7201a8"
            ],
            [
             0.3333333333333333,
             "#9c179e"
            ],
            [
             0.4444444444444444,
             "#bd3786"
            ],
            [
             0.5555555555555556,
             "#d8576b"
            ],
            [
             0.6666666666666666,
             "#ed7953"
            ],
            [
             0.7777777777777778,
             "#fb9f3a"
            ],
            [
             0.8888888888888888,
             "#fdca26"
            ],
            [
             1,
             "#f0f921"
            ]
           ]
          },
          "colorway": [
           "#636efa",
           "#EF553B",
           "#00cc96",
           "#ab63fa",
           "#FFA15A",
           "#19d3f3",
           "#FF6692",
           "#B6E880",
           "#FF97FF",
           "#FECB52"
          ],
          "font": {
           "color": "#2a3f5f"
          },
          "geo": {
           "bgcolor": "white",
           "lakecolor": "white",
           "landcolor": "#E5ECF6",
           "showlakes": true,
           "showland": true,
           "subunitcolor": "white"
          },
          "hoverlabel": {
           "align": "left"
          },
          "hovermode": "closest",
          "mapbox": {
           "style": "light"
          },
          "paper_bgcolor": "white",
          "plot_bgcolor": "#E5ECF6",
          "polar": {
           "angularaxis": {
            "gridcolor": "white",
            "linecolor": "white",
            "ticks": ""
           },
           "bgcolor": "#E5ECF6",
           "radialaxis": {
            "gridcolor": "white",
            "linecolor": "white",
            "ticks": ""
           }
          },
          "scene": {
           "xaxis": {
            "backgroundcolor": "#E5ECF6",
            "gridcolor": "white",
            "gridwidth": 2,
            "linecolor": "white",
            "showbackground": true,
            "ticks": "",
            "zerolinecolor": "white"
           },
           "yaxis": {
            "backgroundcolor": "#E5ECF6",
            "gridcolor": "white",
            "gridwidth": 2,
            "linecolor": "white",
            "showbackground": true,
            "ticks": "",
            "zerolinecolor": "white"
           },
           "zaxis": {
            "backgroundcolor": "#E5ECF6",
            "gridcolor": "white",
            "gridwidth": 2,
            "linecolor": "white",
            "showbackground": true,
            "ticks": "",
            "zerolinecolor": "white"
           }
          },
          "shapedefaults": {
           "line": {
            "color": "#2a3f5f"
           }
          },
          "ternary": {
           "aaxis": {
            "gridcolor": "white",
            "linecolor": "white",
            "ticks": ""
           },
           "baxis": {
            "gridcolor": "white",
            "linecolor": "white",
            "ticks": ""
           },
           "bgcolor": "#E5ECF6",
           "caxis": {
            "gridcolor": "white",
            "linecolor": "white",
            "ticks": ""
           }
          },
          "title": {
           "x": 0.05
          },
          "xaxis": {
           "automargin": true,
           "gridcolor": "white",
           "linecolor": "white",
           "ticks": "",
           "title": {
            "standoff": 15
           },
           "zerolinecolor": "white",
           "zerolinewidth": 2
          },
          "yaxis": {
           "automargin": true,
           "gridcolor": "white",
           "linecolor": "white",
           "ticks": "",
           "title": {
            "standoff": 15
           },
           "zerolinecolor": "white",
           "zerolinewidth": 2
          }
         }
        },
        "title": {
         "text": "rightcentral_attack"
        },
        "xaxis": {
         "autorange": true,
         "range": [
          -3.065809484308033,
          53.06580948430803
         ],
         "type": "linear"
        },
        "yaxis": {
         "autorange": true,
         "range": [
          -22.538124219696414,
          11.20421719662417
         ],
         "type": "linear"
        }
       }
      },
      "image/png": "[encoded data removed]",
      "text/html": [
       "<div>\n",
       "        \n",
       "        \n",
       "            <div id=\"b8e5aa53-5bbf-4849-b23c-74b9eeae0be3\" class=\"plotly-graph-div\" style=\"height:525px; width:100%;\"></div>\n",
       "            <script type=\"text/javascript\">\n",
       "                require([\"plotly\"], function(Plotly) {\n",
       "                    window.PLOTLYENV=window.PLOTLYENV || {};\n",
       "                    \n",
       "                if (document.getElementById(\"b8e5aa53-5bbf-4849-b23c-74b9eeae0be3\")) {\n",
       "                    Plotly.newPlot(\n",
       "                        'b8e5aa53-5bbf-4849-b23c-74b9eeae0be3',\n",
       "                        [{\"mode\": \"markers\", \"name\": \"Plot6\", \"text\": [\"AaronCresswell LCB left\", \"AdrianMariappa L_CB right\", \"AhmedHegazi LCB right\", \"AhmedHegazi L_CB right\", \"AlfieMawson LCB right\", \"AlfieMawson L_CB right\", \"AngeloOgbonna LCB left\", \"AngeloOgbonna L_CB left\", \"AntonioRudiger LCB right\", \"AshleyWilliams L_CB right\", \"AymericLaporte L_CB left\", \"BenMee L_CB left\", \"BrunoMartinsIndi LCB left\", \"BrunoMartinsIndi L_CB left\", \"CalumChambers L_CB right\", \"ChrisSmalling L_CB right\", \"ChristianKabasele LCB right\", \"ChristianKabasele L_CB right\", \"ChristopherSchindler L_CB right\", \"CiaranClark LCB left\", \"CiaranClark L_CB left\", \"DeclanRice LCB right\", \"DejanLovren L_CB right\", \"EliaquimMangala L_CB left\", \"ErikPieters LCB left\", \"FlorianLejeune L_CB right\", \"GaryCahill LCB right\", \"GeoffCameron LCB right\", \"HarryMaguire L_CB right\", \"JamesCollins LCB right\", \"JamesTarkowski L_CB right\", \"JamesTomkins L_CB right\", \"JanVertonghen LCB left\", \"JanVertonghen L_CB left\", \"JonnyEvans LCB right\", \"JonnyEvans L_CB right\", \"JoseHolebas LCB left\", \"KevinWimmer LCB left\", \"KevinWimmer L_CB left\", \"KurtZouma L_CB right\", \"LaurentKoscielny LCB right\", \"LaurentKoscielny L_CB right\", \"LewisDunk L_CB right\", \"MamadouSakho L_CB left\", \"MarcosRojo L_CB left\", \"MayaYoshida L_CB right\", \"MichaelKeane L_CB right\", \"MiguelBritos LCB left\", \"MiguelBritos L_CB left\", \"NachoMonreal LCB left\", \"NachoMonreal L_CB left\", \"NathanAke LCB left\", \"NathanAke L_CB left\", \"NicolasOtamendi LCB right\", \"NicolasOtamendi L_CB right\", \"PaulDummett LCB left\", \"PhilJagielka LCB right\", \"PhilJagielka L_CB right\", \"PhilJones LCB right\", \"PhilJones L_CB right\", \"RagnarKlavan L_CB left\", \"RobHolding LCB right\", \"RobHolding L_CB right\", \"ScottDann L_CB right\", \"SeadKolasinac LCB left\", \"ShkodranMustafi L_CB right\", \"TobyAlderweireld L_CB right\", \"TyroneMings LCB left\", \"VictorNilssonLindelof L_CB right\", \"VirgilvanDijk L_CB right\", \"VirgilvanDijk L_CB right\", \"WesleyHoedt LCB left\", \"WesleyHoedt L_CB left\", \"WinstonReid L_CB right\"], \"type\": \"scatter\", \"x\": [10.99, 11.76, 21.43, 13.04, 14.86, 16.9, 0, 25.0, 23.73, 22.22, 18.18, 6.58, 40.0, 21.05, 50.0, 33.33, 6.67, 10.26, 12.94, 11.11, 8.11, 10.0, 16.67, 33.33, 0, 20.97, 12.82, 10.53, 8.45, 14.29, 18.92, 27.27, 25.0, 20.0, 15.38, 20.0, 11.11, 9.68, 28.57, 6.25, 50.0, 16.67, 17.36, 9.09, 25.0, 27.78, 12.5, 8.7, 15.38, 15.79, 25.0, 20.83, 19.05, 0, 22.22, 0, 25.0, 0, 0, 8.0, 22.22, 25.0, 0, 11.11, 20.0, 16.67, 0, 0, 25.0, 25.58, 16.67, 6.52, 6.85, 0], \"y\": [-7.651999220252037, -4.941741703078151, -3.7844060764958463, -1.906338535870115, -1.93591134368696, -4.986751785812278, 0, 2.0152072344596186, -1.8991318980364926, -0.2380409666026632, -6.778748938813806, -0.1800362952053547, -4.079557838849723, 1.6770370420999825, -14.677601866424084, 4.588329349644482, -0.818030210211873, -1.390287943650037, -2.4156928782097316, -0.7881221827119589, -2.3086321307346225, -0.13307807967066765, -7.587875879835337, -18.10591450581948, 0, -1.788230577053932, -9.315389953553677, -8.892028126865625, 0.1668015611357987, 0.04734913818538189, 0.5136302705588085, -6.573433172889054, -6.638151741671291, 4.993673340466462, -6.673152092844248, -3.3920066489372402, -20.344872027635574, -0.5739214830100536, -1.0761712910607457, -1.6198833473026752, 0.4263566806912422, 0.39161741733551025, -3.836511531844735, -4.584537353366613, -1.5034778819729884, -0.25593647733330727, -1.8023976978535454, -3.99274961091578, -1.9903251668438315, -8.835843725440403, 9.010965004563332, -0.1188165508210659, -9.728818666189909, 0, -6.692992822666254, 0, -2.153629514699181, 0, 0, -5.52966701798141, 0.34643998369574547, -7.345075719058514, 0, -3.0708503909409046, -12.489266693592072, -15.4498890042305, 0, 0, -5.782548803836107, -3.390683326870203, -8.538649727900824, -3.256805008277297, 7.028312236070633, 0]}],\n",
       "                        {\"annotations\": [{\"showarrow\": false, \"text\": \"% Progressive passes\", \"x\": 0.5, \"xref\": \"paper\", \"y\": -0.15, \"yref\": \"paper\"}, {\"showarrow\": false, \"text\": \"VAEP per progressive pass (scaled to 10000)\", \"textangle\": -90, \"x\": -0.07, \"xref\": \"paper\", \"y\": 0.5, \"yref\": \"paper\"}], \"autosize\": true, \"margin\": {\"b\": 100}, \"template\": {\"data\": {\"bar\": [{\"error_x\": {\"color\": \"#2a3f5f\"}, \"error_y\": {\"color\": \"#2a3f5f\"}, \"marker\": {\"line\": {\"color\": \"#E5ECF6\", \"width\": 0.5}}, \"type\": \"bar\"}], \"barpolar\": [{\"marker\": {\"line\": {\"color\": \"#E5ECF6\", \"width\": 0.5}}, \"type\": \"barpolar\"}], \"carpet\": [{\"aaxis\": {\"endlinecolor\": \"#2a3f5f\", \"gridcolor\": \"white\", \"linecolor\": \"white\", \"minorgridcolor\": \"white\", \"startlinecolor\": \"#2a3f5f\"}, \"baxis\": {\"endlinecolor\": \"#2a3f5f\", \"gridcolor\": \"white\", \"linecolor\": \"white\", \"minorgridcolor\": \"white\", \"startlinecolor\": \"#2a3f5f\"}, \"type\": \"carpet\"}], \"choropleth\": [{\"colorbar\": {\"outlinewidth\": 0, \"ticks\": \"\"}, \"type\": \"choropleth\"}], \"contour\": [{\"colorbar\": {\"outlinewidth\": 0, \"ticks\": \"\"}, \"colorscale\": [[0.0, \"#0d0887\"], [0.1111111111111111, \"#46039f\"], [0.2222222222222222, \"#7201a8\"], [0.3333333333333333, \"#9c179e\"], [0.4444444444444444, \"#bd3786\"], [0.5555555555555556, \"#d8576b\"], [0.6666666666666666, \"#ed7953\"], [0.7777777777777778, \"#fb9f3a\"], [0.8888888888888888, \"#fdca26\"], [1.0, \"#f0f921\"]], \"type\": \"contour\"}], \"contourcarpet\": [{\"colorbar\": {\"outlinewidth\": 0, \"ticks\": \"\"}, \"type\": \"contourcarpet\"}], \"heatmap\": [{\"colorbar\": {\"outlinewidth\": 0, \"ticks\": \"\"}, \"colorscale\": [[0.0, \"#0d0887\"], [0.1111111111111111, \"#46039f\"], [0.2222222222222222, \"#7201a8\"], [0.3333333333333333, \"#9c179e\"], [0.4444444444444444, \"#bd3786\"], [0.5555555555555556, \"#d8576b\"], [0.6666666666666666, \"#ed7953\"], [0.7777777777777778, \"#fb9f3a\"], [0.8888888888888888, \"#fdca26\"], [1.0, \"#f0f921\"]], \"type\": \"heatmap\"}], \"heatmapgl\": [{\"colorbar\": {\"outlinewidth\": 0, \"ticks\": \"\"}, \"colorscale\": [[0.0, \"#0d0887\"], [0.1111111111111111, \"#46039f\"], [0.2222222222222222, \"#7201a8\"], [0.3333333333333333, \"#9c179e\"], [0.4444444444444444, \"#bd3786\"], [0.5555555555555556, \"#d8576b\"], [0.6666666666666666, \"#ed7953\"], [0.7777777777777778, \"#fb9f3a\"], [0.8888888888888888, \"#fdca26\"], [1.0, \"#f0f921\"]], \"type\": \"heatmapgl\"}], \"histogram\": [{\"marker\": {\"colorbar\": {\"outlinewidth\": 0, \"ticks\": \"\"}}, \"type\": \"histogram\"}], \"histogram2d\": [{\"colorbar\": {\"outlinewidth\": 0, \"ticks\": \"\"}, \"colorscale\": [[0.0, \"#0d0887\"], [0.1111111111111111, \"#46039f\"], [0.2222222222222222, \"#7201a8\"], [0.3333333333333333, \"#9c179e\"], [0.4444444444444444, \"#bd3786\"], [0.5555555555555556, \"#d8576b\"], [0.6666666666666666, \"#ed7953\"], [0.7777777777777778, \"#fb9f3a\"], [0.8888888888888888, \"#fdca26\"], [1.0, \"#f0f921\"]], \"type\": \"histogram2d\"}], \"histogram2dcontour\": [{\"colorbar\": {\"outlinewidth\": 0, \"ticks\": \"\"}, \"colorscale\": [[0.0, \"#0d0887\"], [0.1111111111111111, \"#46039f\"], [0.2222222222222222, \"#7201a8\"], [0.3333333333333333, \"#9c179e\"], [0.4444444444444444, \"#bd3786\"], [0.5555555555555556, \"#d8576b\"], [0.6666666666666666, \"#ed7953\"], [0.7777777777777778, \"#fb9f3a\"], [0.8888888888888888, \"#fdca26\"], [1.0, \"#f0f921\"]], \"type\": \"histogram2dcontour\"}], \"mesh3d\": [{\"colorbar\": {\"outlinewidth\": 0, \"ticks\": \"\"}, \"type\": \"mesh3d\"}], \"parcoords\": [{\"line\": {\"colorbar\": {\"outlinewidth\": 0, \"ticks\": \"\"}}, \"type\": \"parcoords\"}], \"pie\": [{\"automargin\": true, \"type\": \"pie\"}], \"scatter\": [{\"marker\": {\"colorbar\": {\"outlinewidth\": 0, \"ticks\": \"\"}}, \"type\": \"scatter\"}], \"scatter3d\": [{\"line\": {\"colorbar\": {\"outlinewidth\": 0, \"ticks\": \"\"}}, \"marker\": {\"colorbar\": {\"outlinewidth\": 0, \"ticks\": \"\"}}, \"type\": \"scatter3d\"}], \"scattercarpet\": [{\"marker\": {\"colorbar\": {\"outlinewidth\": 0, \"ticks\": \"\"}}, \"type\": \"scattercarpet\"}], \"scattergeo\": [{\"marker\": {\"colorbar\": {\"outlinewidth\": 0, \"ticks\": \"\"}}, \"type\": \"scattergeo\"}], \"scattergl\": [{\"marker\": {\"colorbar\": {\"outlinewidth\": 0, \"ticks\": \"\"}}, \"type\": \"scattergl\"}], \"scattermapbox\": [{\"marker\": {\"colorbar\": {\"outlinewidth\": 0, \"ticks\": \"\"}}, \"type\": \"scattermapbox\"}], \"scatterpolar\": [{\"marker\": {\"colorbar\": {\"outlinewidth\": 0, \"ticks\": \"\"}}, \"type\": \"scatterpolar\"}], \"scatterpolargl\": [{\"marker\": {\"colorbar\": {\"outlinewidth\": 0, \"ticks\": \"\"}}, \"type\": \"scatterpolargl\"}], \"scatterternary\": [{\"marker\": {\"colorbar\": {\"outlinewidth\": 0, \"ticks\": \"\"}}, \"type\": \"scatterternary\"}], \"surface\": [{\"colorbar\": {\"outlinewidth\": 0, \"ticks\": \"\"}, \"colorscale\": [[0.0, \"#0d0887\"], [0.1111111111111111, \"#46039f\"], [0.2222222222222222, \"#7201a8\"], [0.3333333333333333, \"#9c179e\"], [0.4444444444444444, \"#bd3786\"], [0.5555555555555556, \"#d8576b\"], [0.6666666666666666, \"#ed7953\"], [0.7777777777777778, \"#fb9f3a\"], [0.8888888888888888, \"#fdca26\"], [1.0, \"#f0f921\"]], \"type\": \"surface\"}], \"table\": [{\"cells\": {\"fill\": {\"color\": \"#EBF0F8\"}, \"line\": {\"color\": \"white\"}}, \"header\": {\"fill\": {\"color\": \"#C8D4E3\"}, \"line\": {\"color\": \"white\"}}, \"type\": \"table\"}]}, \"layout\": {\"annotationdefaults\": {\"arrowcolor\": \"#2a3f5f\", \"arrowhead\": 0, \"arrowwidth\": 1}, \"coloraxis\": {\"colorbar\": {\"outlinewidth\": 0, \"ticks\": \"\"}}, \"colorscale\": {\"diverging\": [[0, \"#8e0152\"], [0.1, \"#c51b7d\"], [0.2, \"#de77ae\"], [0.3, \"#f1b6da\"], [0.4, \"#fde0ef\"], [0.5, \"#f7f7f7\"], [0.6, \"#e6f5d0\"], [0.7, \"#b8e186\"], [0.8, \"#7fbc41\"], [0.9, \"#4d9221\"], [1, \"#276419\"]], \"sequential\": [[0.0, \"#0d0887\"], [0.1111111111111111, \"#46039f\"], [0.2222222222222222, \"#7201a8\"], [0.3333333333333333, \"#9c179e\"], [0.4444444444444444, \"#bd3786\"], [0.5555555555555556, \"#d8576b\"], [0.6666666666666666, \"#ed7953\"], [0.7777777777777778, \"#fb9f3a\"], [0.8888888888888888, \"#fdca26\"], [1.0, \"#f0f921\"]], \"sequentialminus\": [[0.0, \"#0d0887\"], [0.1111111111111111, \"#46039f\"], [0.2222222222222222, \"#7201a8\"], [0.3333333333333333, \"#9c179e\"], [0.4444444444444444, \"#bd3786\"], [0.5555555555555556, \"#d8576b\"], [0.6666666666666666, \"#ed7953\"], [0.7777777777777778, \"#fb9f3a\"], [0.8888888888888888, \"#fdca26\"], [1.0, \"#f0f921\"]]}, \"colorway\": [\"#636efa\", \"#EF553B\", \"#00cc96\", \"#ab63fa\", \"#FFA15A\", \"#19d3f3\", \"#FF6692\", \"#B6E880\", \"#FF97FF\", \"#FECB52\"], \"font\": {\"color\": \"#2a3f5f\"}, \"geo\": {\"bgcolor\": \"white\", \"lakecolor\": \"white\", \"landcolor\": \"#E5ECF6\", \"showlakes\": true, \"showland\": true, \"subunitcolor\": \"white\"}, \"hoverlabel\": {\"align\": \"left\"}, \"hovermode\": \"closest\", \"mapbox\": {\"style\": \"light\"}, \"paper_bgcolor\": \"white\", \"plot_bgcolor\": \"#E5ECF6\", \"polar\": {\"angularaxis\": {\"gridcolor\": \"white\", \"linecolor\": \"white\", \"ticks\": \"\"}, \"bgcolor\": \"#E5ECF6\", \"radialaxis\": {\"gridcolor\": \"white\", \"linecolor\": \"white\", \"ticks\": \"\"}}, \"scene\": {\"xaxis\": {\"backgroundcolor\": \"#E5ECF6\", \"gridcolor\": \"white\", \"gridwidth\": 2, \"linecolor\": \"white\", \"showbackground\": true, \"ticks\": \"\", \"zerolinecolor\": \"white\"}, \"yaxis\": {\"backgroundcolor\": \"#E5ECF6\", \"gridcolor\": \"white\", \"gridwidth\": 2, \"linecolor\": \"white\", \"showbackground\": true, \"ticks\": \"\", \"zerolinecolor\": \"white\"}, \"zaxis\": {\"backgroundcolor\": \"#E5ECF6\", \"gridcolor\": \"white\", \"gridwidth\": 2, \"linecolor\": \"white\", \"showbackground\": true, \"ticks\": \"\", \"zerolinecolor\": \"white\"}}, \"shapedefaults\": {\"line\": {\"color\": \"#2a3f5f\"}}, \"ternary\": {\"aaxis\": {\"gridcolor\": \"white\", \"linecolor\": \"white\", \"ticks\": \"\"}, \"baxis\": {\"gridcolor\": \"white\", \"linecolor\": \"white\", \"ticks\": \"\"}, \"bgcolor\": \"#E5ECF6\", \"caxis\": {\"gridcolor\": \"white\", \"linecolor\": \"white\", \"ticks\": \"\"}}, \"title\": {\"x\": 0.05}, \"xaxis\": {\"automargin\": true, \"gridcolor\": \"white\", \"linecolor\": \"white\", \"ticks\": \"\", \"title\": {\"standoff\": 15}, \"zerolinecolor\": \"white\", \"zerolinewidth\": 2}, \"yaxis\": {\"automargin\": true, \"gridcolor\": \"white\", \"linecolor\": \"white\", \"ticks\": \"\", \"title\": {\"standoff\": 15}, \"zerolinecolor\": \"white\", \"zerolinewidth\": 2}}}, \"title\": {\"text\": \"rightcentral_attack\"}},\n",
       "                        {\"responsive\": true}\n",
       "                    ).then(function(){\n",
       "                            \n",
       "var gd = document.getElementById('b8e5aa53-5bbf-4849-b23c-74b9eeae0be3');\n",
       "var x = new MutationObserver(function (mutations, observer) {{\n",
       "        var display = window.getComputedStyle(gd).display;\n",
       "        if (!display || display === 'none') {{\n",
       "            console.log([gd, 'removed!']);\n",
       "            Plotly.purge(gd);\n",
       "            observer.disconnect();\n",
       "        }}\n",
       "}});\n",
       "\n",
       "// Listen for the removal of the full notebook cells\n",
       "var notebookContainer = gd.closest('#notebook-container');\n",
       "if (notebookContainer) {{\n",
       "    x.observe(notebookContainer, {childList: true});\n",
       "}}\n",
       "\n",
       "// Listen for the clearing of the current output cell\n",
       "var outputEl = gd.closest('.output');\n",
       "if (outputEl) {{\n",
       "    x.observe(outputEl, {childList: true});\n",
       "}}\n",
       "\n",
       "                        })\n",
       "                };\n",
       "                });\n",
       "            </script>\n",
       "        </div>"
      ]
     },
     "metadata": {},
     "output_type": "display_data"
    },
    {
     "data": {
      "application/vnd.plotly.v1+json": {
       "config": {
        "plotlyServerURL": "https://plot.ly"
       },
       "data": [
        {
         "mode": "markers",
         "name": "Plot7",
         "text": [
          "AaronCresswell LCB left",
          "AdrianMariappa L_CB right",
          "AhmedHegazi LCB right",
          "AhmedHegazi L_CB right",
          "AlfieMawson LCB right",
          "AlfieMawson L_CB right",
          "AngeloOgbonna LCB left",
          "AngeloOgbonna L_CB left",
          "AntonioRudiger LCB right",
          "AshleyWilliams L_CB right",
          "AymericLaporte L_CB left",
          "BenMee L_CB left",
          "BrunoMartinsIndi LCB left",
          "BrunoMartinsIndi L_CB left",
          "CalumChambers L_CB right",
          "ChrisSmalling L_CB right",
          "ChristianKabasele LCB right",
          "ChristianKabasele L_CB right",
          "ChristopherSchindler L_CB right",
          "CiaranClark LCB left",
          "CiaranClark L_CB left",
          "DeclanRice LCB right",
          "DejanLovren L_CB right",
          "EliaquimMangala L_CB left",
          "ErikPieters LCB left",
          "FlorianLejeune L_CB right",
          "GaryCahill LCB right",
          "GeoffCameron LCB right",
          "HarryMaguire L_CB right",
          "JamesCollins LCB right",
          "JamesTarkowski L_CB right",
          "JamesTomkins L_CB right",
          "JanVertonghen LCB left",
          "JanVertonghen L_CB left",
          "JonnyEvans LCB right",
          "JonnyEvans L_CB right",
          "JoseHolebas LCB left",
          "KevinWimmer LCB left",
          "KevinWimmer L_CB left",
          "KurtZouma L_CB right",
          "LaurentKoscielny LCB right",
          "LaurentKoscielny L_CB right",
          "LewisDunk L_CB right",
          "MamadouSakho L_CB left",
          "MarcosRojo L_CB left",
          "MayaYoshida L_CB right",
          "MichaelKeane L_CB right",
          "MiguelBritos LCB left",
          "MiguelBritos L_CB left",
          "NachoMonreal LCB left",
          "NachoMonreal L_CB left",
          "NathanAke LCB left",
          "NathanAke L_CB left",
          "NicolasOtamendi LCB right",
          "NicolasOtamendi L_CB right",
          "PaulDummett LCB left",
          "PhilJagielka LCB right",
          "PhilJagielka L_CB right",
          "PhilJones LCB right",
          "PhilJones L_CB right",
          "RagnarKlavan L_CB left",
          "RobHolding LCB right",
          "RobHolding L_CB right",
          "ScottDann L_CB right",
          "SeadKolasinac LCB left",
          "ShkodranMustafi L_CB right",
          "TobyAlderweireld L_CB right",
          "TyroneMings LCB left",
          "VictorNilssonLindelof L_CB right",
          "VirgilvanDijk L_CB right",
          "VirgilvanDijk L_CB right",
          "WesleyHoedt LCB left",
          "WesleyHoedt L_CB left",
          "WinstonReid L_CB right"
         ],
         "type": "scatter",
         "x": [
          7.69,
          11.76,
          14.29,
          23.91,
          29.73,
          29.58,
          0,
          20.83,
          18.64,
          22.22,
          9.09,
          13.16,
          40,
          31.58,
          0,
          33.33,
          33.33,
          17.95,
          14.12,
          0,
          14.86,
          0,
          29.17,
          22.22,
          0,
          17.74,
          15.38,
          42.11,
          25.35,
          14.29,
          18.92,
          4.55,
          9.09,
          16.84,
          15.38,
          5,
          22.22,
          32.26,
          14.29,
          12.5,
          0,
          0,
          22.92,
          12.12,
          8.33,
          5.56,
          31.25,
          8.7,
          30.77,
          13.16,
          0,
          4.17,
          9.52,
          28.57,
          28.57,
          0,
          8.33,
          25,
          0,
          8,
          13.33,
          0,
          12.5,
          44.44,
          0,
          16.67,
          20,
          11.11,
          0,
          13.95,
          16.67,
          15.22,
          15.07,
          0
         ],
         "y": [
          -2.2820782448564256,
          -5.994663049932569,
          -3.9204220520332456,
          0.8123902688649567,
          -2.5314235826954246,
          -2.9558123178070503,
          0,
          -4.581998474895954,
          -8.00954457372427,
          -2.0815490667397776,
          -3.8970238529145718,
          -0.760002015158534,
          -5.427299765869975,
          -7.381612745424111,
          0,
          0.5666764918714762,
          -5.102951359003782,
          -4.9404050556144545,
          -0.7879364808710912,
          0,
          -3.187877507033673,
          0,
          1.7363309660660369,
          -4.074477590620518,
          0,
          -3.0763135503300214,
          -10.009453243886432,
          -2.8702045092359185,
          -3.6840012406982066,
          -3.4610230941325426,
          -4.554877090933068,
          2.5059040635824203,
          2.1073409589007497,
          -3.4800980502041057,
          -14.167025685310364,
          -0.12817292008548975,
          -5.097427172586322,
          -4.788412875495851,
          -8.30827746540308,
          -2.5208983570337296,
          0,
          0,
          -5.116478970387217,
          -3.447962400969118,
          62.98813968896866,
          -13.990748673677444,
          -4.292860673740506,
          -3.206181456334889,
          -5.1922573475167155,
          -5.855839839205146,
          0,
          4.031204152852297,
          -7.378081791102886,
          -1.579729956574738,
          -4.2625843650764885,
          0,
          -2.867047442123294,
          -1.701860222965479,
          0,
          -4.630285315215588,
          -3.506621850344042,
          0,
          -6.298732943832874,
          -4.219127004034817,
          0,
          -10.94385888427496,
          -6.567359436303377,
          11.49327028542757,
          0,
          -2.2312169894576073,
          -2.664016947771112,
          -4.953932017087936,
          0.9081981525841085,
          0
         ]
        }
       ],
       "layout": {
        "annotations": [
         {
          "showarrow": false,
          "text": "% Progressive passes",
          "x": 0.5,
          "xref": "paper",
          "y": -0.15,
          "yref": "paper"
         },
         {
          "showarrow": false,
          "text": "VAEP per progressive pass (scaled to 10000)",
          "textangle": -90,
          "x": -0.07,
          "xref": "paper",
          "y": 0.5,
          "yref": "paper"
         }
        ],
        "autosize": true,
        "margin": {
         "b": 100
        },
        "template": {
         "data": {
          "bar": [
           {
            "error_x": {
             "color": "#2a3f5f"
            },
            "error_y": {
             "color": "#2a3f5f"
            },
            "marker": {
             "line": {
              "color": "#E5ECF6",
              "width": 0.5
             }
            },
            "type": "bar"
           }
          ],
          "barpolar": [
           {
            "marker": {
             "line": {
              "color": "#E5ECF6",
              "width": 0.5
             }
            },
            "type": "barpolar"
           }
          ],
          "carpet": [
           {
            "aaxis": {
             "endlinecolor": "#2a3f5f",
             "gridcolor": "white",
             "linecolor": "white",
             "minorgridcolor": "white",
             "startlinecolor": "#2a3f5f"
            },
            "baxis": {
             "endlinecolor": "#2a3f5f",
             "gridcolor": "white",
             "linecolor": "white",
             "minorgridcolor": "white",
             "startlinecolor": "#2a3f5f"
            },
            "type": "carpet"
           }
          ],
          "choropleth": [
           {
            "colorbar": {
             "outlinewidth": 0,
             "ticks": ""
            },
            "type": "choropleth"
           }
          ],
          "contour": [
           {
            "colorbar": {
             "outlinewidth": 0,
             "ticks": ""
            },
            "colorscale": [
             [
              0,
              "#0d0887"
             ],
             [
              0.1111111111111111,
              "#46039f"
             ],
             [
              0.2222222222222222,
              "#7201a8"
             ],
             [
              0.3333333333333333,
              "#9c179e"
             ],
             [
              0.4444444444444444,
              "#bd3786"
             ],
             [
              0.5555555555555556,
              "#d8576b"
             ],
             [
              0.6666666666666666,
              "#ed7953"
             ],
             [
              0.7777777777777778,
              "#fb9f3a"
             ],
             [
              0.8888888888888888,
              "#fdca26"
             ],
             [
              1,
              "#f0f921"
             ]
            ],
            "type": "contour"
           }
          ],
          "contourcarpet": [
           {
            "colorbar": {
             "outlinewidth": 0,
             "ticks": ""
            },
            "type": "contourcarpet"
           }
          ],
          "heatmap": [
           {
            "colorbar": {
             "outlinewidth": 0,
             "ticks": ""
            },
            "colorscale": [
             [
              0,
              "#0d0887"
             ],
             [
              0.1111111111111111,
              "#46039f"
             ],
             [
              0.2222222222222222,
              "#7201a8"
             ],
             [
              0.3333333333333333,
              "#9c179e"
             ],
             [
              0.4444444444444444,
              "#bd3786"
             ],
             [
              0.5555555555555556,
              "#d8576b"
             ],
             [
              0.6666666666666666,
              "#ed7953"
             ],
             [
              0.7777777777777778,
              "#fb9f3a"
             ],
             [
              0.8888888888888888,
              "#fdca26"
             ],
             [
              1,
              "#f0f921"
             ]
            ],
            "type": "heatmap"
           }
          ],
          "heatmapgl": [
           {
            "colorbar": {
             "outlinewidth": 0,
             "ticks": ""
            },
            "colorscale": [
             [
              0,
              "#0d0887"
             ],
             [
              0.1111111111111111,
              "#46039f"
             ],
             [
              0.2222222222222222,
              "#7201a8"
             ],
             [
              0.3333333333333333,
              "#9c179e"
             ],
             [
              0.4444444444444444,
              "#bd3786"
             ],
             [
              0.5555555555555556,
              "#d8576b"
             ],
             [
              0.6666666666666666,
              "#ed7953"
             ],
             [
              0.7777777777777778,
              "#fb9f3a"
             ],
             [
              0.8888888888888888,
              "#fdca26"
             ],
             [
              1,
              "#f0f921"
             ]
            ],
            "type": "heatmapgl"
           }
          ],
          "histogram": [
           {
            "marker": {
             "colorbar": {
              "outlinewidth": 0,
              "ticks": ""
             }
            },
            "type": "histogram"
           }
          ],
          "histogram2d": [
           {
            "colorbar": {
             "outlinewidth": 0,
             "ticks": ""
            },
            "colorscale": [
             [
              0,
              "#0d0887"
             ],
             [
              0.1111111111111111,
              "#46039f"
             ],
             [
              0.2222222222222222,
              "#7201a8"
             ],
             [
              0.3333333333333333,
              "#9c179e"
             ],
             [
              0.4444444444444444,
              "#bd3786"
             ],
             [
              0.5555555555555556,
              "#d8576b"
             ],
             [
              0.6666666666666666,
              "#ed7953"
             ],
             [
              0.7777777777777778,
              "#fb9f3a"
             ],
             [
              0.8888888888888888,
              "#fdca26"
             ],
             [
              1,
              "#f0f921"
             ]
            ],
            "type": "histogram2d"
           }
          ],
          "histogram2dcontour": [
           {
            "colorbar": {
             "outlinewidth": 0,
             "ticks": ""
            },
            "colorscale": [
             [
              0,
              "#0d0887"
             ],
             [
              0.1111111111111111,
              "#46039f"
             ],
             [
              0.2222222222222222,
              "#7201a8"
             ],
             [
              0.3333333333333333,
              "#9c179e"
             ],
             [
              0.4444444444444444,
              "#bd3786"
             ],
             [
              0.5555555555555556,
              "#d8576b"
             ],
             [
              0.6666666666666666,
              "#ed7953"
             ],
             [
              0.7777777777777778,
              "#fb9f3a"
             ],
             [
              0.8888888888888888,
              "#fdca26"
             ],
             [
              1,
              "#f0f921"
             ]
            ],
            "type": "histogram2dcontour"
           }
          ],
          "mesh3d": [
           {
            "colorbar": {
             "outlinewidth": 0,
             "ticks": ""
            },
            "type": "mesh3d"
           }
          ],
          "parcoords": [
           {
            "line": {
             "colorbar": {
              "outlinewidth": 0,
              "ticks": ""
             }
            },
            "type": "parcoords"
           }
          ],
          "pie": [
           {
            "automargin": true,
            "type": "pie"
           }
          ],
          "scatter": [
           {
            "marker": {
             "colorbar": {
              "outlinewidth": 0,
              "ticks": ""
             }
            },
            "type": "scatter"
           }
          ],
          "scatter3d": [
           {
            "line": {
             "colorbar": {
              "outlinewidth": 0,
              "ticks": ""
             }
            },
            "marker": {
             "colorbar": {
              "outlinewidth": 0,
              "ticks": ""
             }
            },
            "type": "scatter3d"
           }
          ],
          "scattercarpet": [
           {
            "marker": {
             "colorbar": {
              "outlinewidth": 0,
              "ticks": ""
             }
            },
            "type": "scattercarpet"
           }
          ],
          "scattergeo": [
           {
            "marker": {
             "colorbar": {
              "outlinewidth": 0,
              "ticks": ""
             }
            },
            "type": "scattergeo"
           }
          ],
          "scattergl": [
           {
            "marker": {
             "colorbar": {
              "outlinewidth": 0,
              "ticks": ""
             }
            },
            "type": "scattergl"
           }
          ],
          "scattermapbox": [
           {
            "marker": {
             "colorbar": {
              "outlinewidth": 0,
              "ticks": ""
             }
            },
            "type": "scattermapbox"
           }
          ],
          "scatterpolar": [
           {
            "marker": {
             "colorbar": {
              "outlinewidth": 0,
              "ticks": ""
             }
            },
            "type": "scatterpolar"
           }
          ],
          "scatterpolargl": [
           {
            "marker": {
             "colorbar": {
              "outlinewidth": 0,
              "ticks": ""
             }
            },
            "type": "scatterpolargl"
           }
          ],
          "scatterternary": [
           {
            "marker": {
             "colorbar": {
              "outlinewidth": 0,
              "ticks": ""
             }
            },
            "type": "scatterternary"
           }
          ],
          "surface": [
           {
            "colorbar": {
             "outlinewidth": 0,
             "ticks": ""
            },
            "colorscale": [
             [
              0,
              "#0d0887"
             ],
             [
              0.1111111111111111,
              "#46039f"
             ],
             [
              0.2222222222222222,
              "#7201a8"
             ],
             [
              0.3333333333333333,
              "#9c179e"
             ],
             [
              0.4444444444444444,
              "#bd3786"
             ],
             [
              0.5555555555555556,
              "#d8576b"
             ],
             [
              0.6666666666666666,
              "#ed7953"
             ],
             [
              0.7777777777777778,
              "#fb9f3a"
             ],
             [
              0.8888888888888888,
              "#fdca26"
             ],
             [
              1,
              "#f0f921"
             ]
            ],
            "type": "surface"
           }
          ],
          "table": [
           {
            "cells": {
             "fill": {
              "color": "#EBF0F8"
             },
             "line": {
              "color": "white"
             }
            },
            "header": {
             "fill": {
              "color": "#C8D4E3"
             },
             "line": {
              "color": "white"
             }
            },
            "type": "table"
           }
          ]
         },
         "layout": {
          "annotationdefaults": {
           "arrowcolor": "#2a3f5f",
           "arrowhead": 0,
           "arrowwidth": 1
          },
          "coloraxis": {
           "colorbar": {
            "outlinewidth": 0,
            "ticks": ""
           }
          },
          "colorscale": {
           "diverging": [
            [
             0,
             "#8e0152"
            ],
            [
             0.1,
             "#c51b7d"
            ],
            [
             0.2,
             "#de77ae"
            ],
            [
             0.3,
             "#f1b6da"
            ],
            [
             0.4,
             "#fde0ef"
            ],
            [
             0.5,
             "#f7f7f7"
            ],
            [
             0.6,
             "#e6f5d0"
            ],
            [
             0.7,
             "#b8e186"
            ],
            [
             0.8,
             "#7fbc41"
            ],
            [
             0.9,
             "#4d9221"
            ],
            [
             1,
             "#276419"
            ]
           ],
           "sequential": [
            [
             0,
             "#0d0887"
            ],
            [
             0.1111111111111111,
             "#46039f"
            ],
            [
             0.2222222222222222,
             "#7201a8"
            ],
            [
             0.3333333333333333,
             "#9c179e"
            ],
            [
             0.4444444444444444,
             "#bd3786"
            ],
            [
             0.5555555555555556,
             "#d8576b"
            ],
            [
             0.6666666666666666,
             "#ed7953"
            ],
            [
             0.7777777777777778,
             "#fb9f3a"
            ],
            [
             0.8888888888888888,
             "#fdca26"
            ],
            [
             1,
             "#f0f921"
            ]
           ],
           "sequentialminus": [
            [
             0,
             "#0d0887"
            ],
            [
             0.1111111111111111,
             "#46039f"
            ],
            [
             0.2222222222222222,
             "#7201a8"
            ],
            [
             0.3333333333333333,
             "#9c179e"
            ],
            [
             0.4444444444444444,
             "#bd3786"
            ],
            [
             0.5555555555555556,
             "#d8576b"
            ],
            [
             0.6666666666666666,
             "#ed7953"
            ],
            [
             0.7777777777777778,
             "#fb9f3a"
            ],
            [
             0.8888888888888888,
             "#fdca26"
            ],
            [
             1,
             "#f0f921"
            ]
           ]
          },
          "colorway": [
           "#636efa",
           "#EF553B",
           "#00cc96",
           "#ab63fa",
           "#FFA15A",
           "#19d3f3",
           "#FF6692",
           "#B6E880",
           "#FF97FF",
           "#FECB52"
          ],
          "font": {
           "color": "#2a3f5f"
          },
          "geo": {
           "bgcolor": "white",
           "lakecolor": "white",
           "landcolor": "#E5ECF6",
           "showlakes": true,
           "showland": true,
           "subunitcolor": "white"
          },
          "hoverlabel": {
           "align": "left"
          },
          "hovermode": "closest",
          "mapbox": {
           "style": "light"
          },
          "paper_bgcolor": "white",
          "plot_bgcolor": "#E5ECF6",
          "polar": {
           "angularaxis": {
            "gridcolor": "white",
            "linecolor": "white",
            "ticks": ""
           },
           "bgcolor": "#E5ECF6",
           "radialaxis": {
            "gridcolor": "white",
            "linecolor": "white",
            "ticks": ""
           }
          },
          "scene": {
           "xaxis": {
            "backgroundcolor": "#E5ECF6",
            "gridcolor": "white",
            "gridwidth": 2,
            "linecolor": "white",
            "showbackground": true,
            "ticks": "",
            "zerolinecolor": "white"
           },
           "yaxis": {
            "backgroundcolor": "#E5ECF6",
            "gridcolor": "white",
            "gridwidth": 2,
            "linecolor": "white",
            "showbackground": true,
            "ticks": "",
            "zerolinecolor": "white"
           },
           "zaxis": {
            "backgroundcolor": "#E5ECF6",
            "gridcolor": "white",
            "gridwidth": 2,
            "linecolor": "white",
            "showbackground": true,
            "ticks": "",
            "zerolinecolor": "white"
           }
          },
          "shapedefaults": {
           "line": {
            "color": "#2a3f5f"
           }
          },
          "ternary": {
           "aaxis": {
            "gridcolor": "white",
            "linecolor": "white",
            "ticks": ""
           },
           "baxis": {
            "gridcolor": "white",
            "linecolor": "white",
            "ticks": ""
           },
           "bgcolor": "#E5ECF6",
           "caxis": {
            "gridcolor": "white",
            "linecolor": "white",
            "ticks": ""
           }
          },
          "title": {
           "x": 0.05
          },
          "xaxis": {
           "automargin": true,
           "gridcolor": "white",
           "linecolor": "white",
           "ticks": "",
           "title": {
            "standoff": 15
           },
           "zerolinecolor": "white",
           "zerolinewidth": 2
          },
          "yaxis": {
           "automargin": true,
           "gridcolor": "white",
           "linecolor": "white",
           "ticks": "",
           "title": {
            "standoff": 15
           },
           "zerolinecolor": "white",
           "zerolinewidth": 2
          }
         }
        },
        "title": {
         "text": "rightflank_attack"
        },
        "xaxis": {
         "autorange": true,
         "range": [
          -2.7248914696529796,
          47.16489146965298
         ],
         "type": "linear"
        },
        "yaxis": {
         "autorange": true,
         "range": [
          -19.931492063848452,
          68.75260606750675
         ],
         "type": "linear"
        }
       }
      },
      "image/png": "[encoded data removed]",
      "text/html": [
       "<div>\n",
       "        \n",
       "        \n",
       "            <div id=\"f38870f9-b83b-4c09-a2f1-ee5606b076ef\" class=\"plotly-graph-div\" style=\"height:525px; width:100%;\"></div>\n",
       "            <script type=\"text/javascript\">\n",
       "                require([\"plotly\"], function(Plotly) {\n",
       "                    window.PLOTLYENV=window.PLOTLYENV || {};\n",
       "                    \n",
       "                if (document.getElementById(\"f38870f9-b83b-4c09-a2f1-ee5606b076ef\")) {\n",
       "                    Plotly.newPlot(\n",
       "                        'f38870f9-b83b-4c09-a2f1-ee5606b076ef',\n",
       "                        [{\"mode\": \"markers\", \"name\": \"Plot7\", \"text\": [\"AaronCresswell LCB left\", \"AdrianMariappa L_CB right\", \"AhmedHegazi LCB right\", \"AhmedHegazi L_CB right\", \"AlfieMawson LCB right\", \"AlfieMawson L_CB right\", \"AngeloOgbonna LCB left\", \"AngeloOgbonna L_CB left\", \"AntonioRudiger LCB right\", \"AshleyWilliams L_CB right\", \"AymericLaporte L_CB left\", \"BenMee L_CB left\", \"BrunoMartinsIndi LCB left\", \"BrunoMartinsIndi L_CB left\", \"CalumChambers L_CB right\", \"ChrisSmalling L_CB right\", \"ChristianKabasele LCB right\", \"ChristianKabasele L_CB right\", \"ChristopherSchindler L_CB right\", \"CiaranClark LCB left\", \"CiaranClark L_CB left\", \"DeclanRice LCB right\", \"DejanLovren L_CB right\", \"EliaquimMangala L_CB left\", \"ErikPieters LCB left\", \"FlorianLejeune L_CB right\", \"GaryCahill LCB right\", \"GeoffCameron LCB right\", \"HarryMaguire L_CB right\", \"JamesCollins LCB right\", \"JamesTarkowski L_CB right\", \"JamesTomkins L_CB right\", \"JanVertonghen LCB left\", \"JanVertonghen L_CB left\", \"JonnyEvans LCB right\", \"JonnyEvans L_CB right\", \"JoseHolebas LCB left\", \"KevinWimmer LCB left\", \"KevinWimmer L_CB left\", \"KurtZouma L_CB right\", \"LaurentKoscielny LCB right\", \"LaurentKoscielny L_CB right\", \"LewisDunk L_CB right\", \"MamadouSakho L_CB left\", \"MarcosRojo L_CB left\", \"MayaYoshida L_CB right\", \"MichaelKeane L_CB right\", \"MiguelBritos LCB left\", \"MiguelBritos L_CB left\", \"NachoMonreal LCB left\", \"NachoMonreal L_CB left\", \"NathanAke LCB left\", \"NathanAke L_CB left\", \"NicolasOtamendi LCB right\", \"NicolasOtamendi L_CB right\", \"PaulDummett LCB left\", \"PhilJagielka LCB right\", \"PhilJagielka L_CB right\", \"PhilJones LCB right\", \"PhilJones L_CB right\", \"RagnarKlavan L_CB left\", \"RobHolding LCB right\", \"RobHolding L_CB right\", \"ScottDann L_CB right\", \"SeadKolasinac LCB left\", \"ShkodranMustafi L_CB right\", \"TobyAlderweireld L_CB right\", \"TyroneMings LCB left\", \"VictorNilssonLindelof L_CB right\", \"VirgilvanDijk L_CB right\", \"VirgilvanDijk L_CB right\", \"WesleyHoedt LCB left\", \"WesleyHoedt L_CB left\", \"WinstonReid L_CB right\"], \"type\": \"scatter\", \"x\": [7.69, 11.76, 14.29, 23.91, 29.73, 29.58, 0, 20.83, 18.64, 22.22, 9.09, 13.16, 40.0, 31.58, 0, 33.33, 33.33, 17.95, 14.12, 0, 14.86, 0, 29.17, 22.22, 0, 17.74, 15.38, 42.11, 25.35, 14.29, 18.92, 4.55, 9.09, 16.84, 15.38, 5.0, 22.22, 32.26, 14.29, 12.5, 0, 0, 22.92, 12.12, 8.33, 5.56, 31.25, 8.7, 30.77, 13.16, 0, 4.17, 9.52, 28.57, 28.57, 0, 8.33, 25.0, 0, 8.0, 13.33, 0, 12.5, 44.44, 0, 16.67, 20.0, 11.11, 0, 13.95, 16.67, 15.22, 15.07, 0], \"y\": [-2.2820782448564256, -5.994663049932569, -3.9204220520332456, 0.8123902688649567, -2.5314235826954246, -2.9558123178070503, 0, -4.581998474895954, -8.00954457372427, -2.0815490667397776, -3.8970238529145718, -0.760002015158534, -5.427299765869975, -7.381612745424111, 0, 0.5666764918714762, -5.102951359003782, -4.9404050556144545, -0.7879364808710912, 0, -3.187877507033673, 0, 1.7363309660660369, -4.074477590620518, 0, -3.0763135503300214, -10.009453243886432, -2.8702045092359185, -3.6840012406982066, -3.4610230941325426, -4.554877090933068, 2.5059040635824203, 2.1073409589007497, -3.4800980502041057, -14.167025685310364, -0.12817292008548975, -5.097427172586322, -4.788412875495851, -8.30827746540308, -2.5208983570337296, 0, 0, -5.116478970387217, -3.447962400969118, 62.98813968896866, -13.990748673677444, -4.292860673740506, -3.206181456334889, -5.1922573475167155, -5.855839839205146, 0, 4.031204152852297, -7.378081791102886, -1.579729956574738, -4.2625843650764885, 0, -2.867047442123294, -1.701860222965479, 0, -4.630285315215588, -3.506621850344042, 0, -6.298732943832874, -4.219127004034817, 0, -10.94385888427496, -6.567359436303377, 11.49327028542757, 0, -2.2312169894576073, -2.664016947771112, -4.953932017087936, 0.9081981525841085, 0]}],\n",
       "                        {\"annotations\": [{\"showarrow\": false, \"text\": \"% Progressive passes\", \"x\": 0.5, \"xref\": \"paper\", \"y\": -0.15, \"yref\": \"paper\"}, {\"showarrow\": false, \"text\": \"VAEP per progressive pass (scaled to 10000)\", \"textangle\": -90, \"x\": -0.07, \"xref\": \"paper\", \"y\": 0.5, \"yref\": \"paper\"}], \"autosize\": true, \"margin\": {\"b\": 100}, \"template\": {\"data\": {\"bar\": [{\"error_x\": {\"color\": \"#2a3f5f\"}, \"error_y\": {\"color\": \"#2a3f5f\"}, \"marker\": {\"line\": {\"color\": \"#E5ECF6\", \"width\": 0.5}}, \"type\": \"bar\"}], \"barpolar\": [{\"marker\": {\"line\": {\"color\": \"#E5ECF6\", \"width\": 0.5}}, \"type\": \"barpolar\"}], \"carpet\": [{\"aaxis\": {\"endlinecolor\": \"#2a3f5f\", \"gridcolor\": \"white\", \"linecolor\": \"white\", \"minorgridcolor\": \"white\", \"startlinecolor\": \"#2a3f5f\"}, \"baxis\": {\"endlinecolor\": \"#2a3f5f\", \"gridcolor\": \"white\", \"linecolor\": \"white\", \"minorgridcolor\": \"white\", \"startlinecolor\": \"#2a3f5f\"}, \"type\": \"carpet\"}], \"choropleth\": [{\"colorbar\": {\"outlinewidth\": 0, \"ticks\": \"\"}, \"type\": \"choropleth\"}], \"contour\": [{\"colorbar\": {\"outlinewidth\": 0, \"ticks\": \"\"}, \"colorscale\": [[0.0, \"#0d0887\"], [0.1111111111111111, \"#46039f\"], [0.2222222222222222, \"#7201a8\"], [0.3333333333333333, \"#9c179e\"], [0.4444444444444444, \"#bd3786\"], [0.5555555555555556, \"#d8576b\"], [0.6666666666666666, \"#ed7953\"], [0.7777777777777778, \"#fb9f3a\"], [0.8888888888888888, \"#fdca26\"], [1.0, \"#f0f921\"]], \"type\": \"contour\"}], \"contourcarpet\": [{\"colorbar\": {\"outlinewidth\": 0, \"ticks\": \"\"}, \"type\": \"contourcarpet\"}], \"heatmap\": [{\"colorbar\": {\"outlinewidth\": 0, \"ticks\": \"\"}, \"colorscale\": [[0.0, \"#0d0887\"], [0.1111111111111111, \"#46039f\"], [0.2222222222222222, \"#7201a8\"], [0.3333333333333333, \"#9c179e\"], [0.4444444444444444, \"#bd3786\"], [0.5555555555555556, \"#d8576b\"], [0.6666666666666666, \"#ed7953\"], [0.7777777777777778, \"#fb9f3a\"], [0.8888888888888888, \"#fdca26\"], [1.0, \"#f0f921\"]], \"type\": \"heatmap\"}], \"heatmapgl\": [{\"colorbar\": {\"outlinewidth\": 0, \"ticks\": \"\"}, \"colorscale\": [[0.0, \"#0d0887\"], [0.1111111111111111, \"#46039f\"], [0.2222222222222222, \"#7201a8\"], [0.3333333333333333, \"#9c179e\"], [0.4444444444444444, \"#bd3786\"], [0.5555555555555556, \"#d8576b\"], [0.6666666666666666, \"#ed7953\"], [0.7777777777777778, \"#fb9f3a\"], [0.8888888888888888, \"#fdca26\"], [1.0, \"#f0f921\"]], \"type\": \"heatmapgl\"}], \"histogram\": [{\"marker\": {\"colorbar\": {\"outlinewidth\": 0, \"ticks\": \"\"}}, \"type\": \"histogram\"}], \"histogram2d\": [{\"colorbar\": {\"outlinewidth\": 0, \"ticks\": \"\"}, \"colorscale\": [[0.0, \"#0d0887\"], [0.1111111111111111, \"#46039f\"], [0.2222222222222222, \"#7201a8\"], [0.3333333333333333, \"#9c179e\"], [0.4444444444444444, \"#bd3786\"], [0.5555555555555556, \"#d8576b\"], [0.6666666666666666, \"#ed7953\"], [0.7777777777777778, \"#fb9f3a\"], [0.8888888888888888, \"#fdca26\"], [1.0, \"#f0f921\"]], \"type\": \"histogram2d\"}], \"histogram2dcontour\": [{\"colorbar\": {\"outlinewidth\": 0, \"ticks\": \"\"}, \"colorscale\": [[0.0, \"#0d0887\"], [0.1111111111111111, \"#46039f\"], [0.2222222222222222, \"#7201a8\"], [0.3333333333333333, \"#9c179e\"], [0.4444444444444444, \"#bd3786\"], [0.5555555555555556, \"#d8576b\"], [0.6666666666666666, \"#ed7953\"], [0.7777777777777778, \"#fb9f3a\"], [0.8888888888888888, \"#fdca26\"], [1.0, \"#f0f921\"]], \"type\": \"histogram2dcontour\"}], \"mesh3d\": [{\"colorbar\": {\"outlinewidth\": 0, \"ticks\": \"\"}, \"type\": \"mesh3d\"}], \"parcoords\": [{\"line\": {\"colorbar\": {\"outlinewidth\": 0, \"ticks\": \"\"}}, \"type\": \"parcoords\"}], \"pie\": [{\"automargin\": true, \"type\": \"pie\"}], \"scatter\": [{\"marker\": {\"colorbar\": {\"outlinewidth\": 0, \"ticks\": \"\"}}, \"type\": \"scatter\"}], \"scatter3d\": [{\"line\": {\"colorbar\": {\"outlinewidth\": 0, \"ticks\": \"\"}}, \"marker\": {\"colorbar\": {\"outlinewidth\": 0, \"ticks\": \"\"}}, \"type\": \"scatter3d\"}], \"scattercarpet\": [{\"marker\": {\"colorbar\": {\"outlinewidth\": 0, \"ticks\": \"\"}}, \"type\": \"scattercarpet\"}], \"scattergeo\": [{\"marker\": {\"colorbar\": {\"outlinewidth\": 0, \"ticks\": \"\"}}, \"type\": \"scattergeo\"}], \"scattergl\": [{\"marker\": {\"colorbar\": {\"outlinewidth\": 0, \"ticks\": \"\"}}, \"type\": \"scattergl\"}], \"scattermapbox\": [{\"marker\": {\"colorbar\": {\"outlinewidth\": 0, \"ticks\": \"\"}}, \"type\": \"scattermapbox\"}], \"scatterpolar\": [{\"marker\": {\"colorbar\": {\"outlinewidth\": 0, \"ticks\": \"\"}}, \"type\": \"scatterpolar\"}], \"scatterpolargl\": [{\"marker\": {\"colorbar\": {\"outlinewidth\": 0, \"ticks\": \"\"}}, \"type\": \"scatterpolargl\"}], \"scatterternary\": [{\"marker\": {\"colorbar\": {\"outlinewidth\": 0, \"ticks\": \"\"}}, \"type\": \"scatterternary\"}], \"surface\": [{\"colorbar\": {\"outlinewidth\": 0, \"ticks\": \"\"}, \"colorscale\": [[0.0, \"#0d0887\"], [0.1111111111111111, \"#46039f\"], [0.2222222222222222, \"#7201a8\"], [0.3333333333333333, \"#9c179e\"], [0.4444444444444444, \"#bd3786\"], [0.5555555555555556, \"#d8576b\"], [0.6666666666666666, \"#ed7953\"], [0.7777777777777778, \"#fb9f3a\"], [0.8888888888888888, \"#fdca26\"], [1.0, \"#f0f921\"]], \"type\": \"surface\"}], \"table\": [{\"cells\": {\"fill\": {\"color\": \"#EBF0F8\"}, \"line\": {\"color\": \"white\"}}, \"header\": {\"fill\": {\"color\": \"#C8D4E3\"}, \"line\": {\"color\": \"white\"}}, \"type\": \"table\"}]}, \"layout\": {\"annotationdefaults\": {\"arrowcolor\": \"#2a3f5f\", \"arrowhead\": 0, \"arrowwidth\": 1}, \"coloraxis\": {\"colorbar\": {\"outlinewidth\": 0, \"ticks\": \"\"}}, \"colorscale\": {\"diverging\": [[0, \"#8e0152\"], [0.1, \"#c51b7d\"], [0.2, \"#de77ae\"], [0.3, \"#f1b6da\"], [0.4, \"#fde0ef\"], [0.5, \"#f7f7f7\"], [0.6, \"#e6f5d0\"], [0.7, \"#b8e186\"], [0.8, \"#7fbc41\"], [0.9, \"#4d9221\"], [1, \"#276419\"]], \"sequential\": [[0.0, \"#0d0887\"], [0.1111111111111111, \"#46039f\"], [0.2222222222222222, \"#7201a8\"], [0.3333333333333333, \"#9c179e\"], [0.4444444444444444, \"#bd3786\"], [0.5555555555555556, \"#d8576b\"], [0.6666666666666666, \"#ed7953\"], [0.7777777777777778, \"#fb9f3a\"], [0.8888888888888888, \"#fdca26\"], [1.0, \"#f0f921\"]], \"sequentialminus\": [[0.0, \"#0d0887\"], [0.1111111111111111, \"#46039f\"], [0.2222222222222222, \"#7201a8\"], [0.3333333333333333, \"#9c179e\"], [0.4444444444444444, \"#bd3786\"], [0.5555555555555556, \"#d8576b\"], [0.6666666666666666, \"#ed7953\"], [0.7777777777777778, \"#fb9f3a\"], [0.8888888888888888, \"#fdca26\"], [1.0, \"#f0f921\"]]}, \"colorway\": [\"#636efa\", \"#EF553B\", \"#00cc96\", \"#ab63fa\", \"#FFA15A\", \"#19d3f3\", \"#FF6692\", \"#B6E880\", \"#FF97FF\", \"#FECB52\"], \"font\": {\"color\": \"#2a3f5f\"}, \"geo\": {\"bgcolor\": \"white\", \"lakecolor\": \"white\", \"landcolor\": \"#E5ECF6\", \"showlakes\": true, \"showland\": true, \"subunitcolor\": \"white\"}, \"hoverlabel\": {\"align\": \"left\"}, \"hovermode\": \"closest\", \"mapbox\": {\"style\": \"light\"}, \"paper_bgcolor\": \"white\", \"plot_bgcolor\": \"#E5ECF6\", \"polar\": {\"angularaxis\": {\"gridcolor\": \"white\", \"linecolor\": \"white\", \"ticks\": \"\"}, \"bgcolor\": \"#E5ECF6\", \"radialaxis\": {\"gridcolor\": \"white\", \"linecolor\": \"white\", \"ticks\": \"\"}}, \"scene\": {\"xaxis\": {\"backgroundcolor\": \"#E5ECF6\", \"gridcolor\": \"white\", \"gridwidth\": 2, \"linecolor\": \"white\", \"showbackground\": true, \"ticks\": \"\", \"zerolinecolor\": \"white\"}, \"yaxis\": {\"backgroundcolor\": \"#E5ECF6\", \"gridcolor\": \"white\", \"gridwidth\": 2, \"linecolor\": \"white\", \"showbackground\": true, \"ticks\": \"\", \"zerolinecolor\": \"white\"}, \"zaxis\": {\"backgroundcolor\": \"#E5ECF6\", \"gridcolor\": \"white\", \"gridwidth\": 2, \"linecolor\": \"white\", \"showbackground\": true, \"ticks\": \"\", \"zerolinecolor\": \"white\"}}, \"shapedefaults\": {\"line\": {\"color\": \"#2a3f5f\"}}, \"ternary\": {\"aaxis\": {\"gridcolor\": \"white\", \"linecolor\": \"white\", \"ticks\": \"\"}, \"baxis\": {\"gridcolor\": \"white\", \"linecolor\": \"white\", \"ticks\": \"\"}, \"bgcolor\": \"#E5ECF6\", \"caxis\": {\"gridcolor\": \"white\", \"linecolor\": \"white\", \"ticks\": \"\"}}, \"title\": {\"x\": 0.05}, \"xaxis\": {\"automargin\": true, \"gridcolor\": \"white\", \"linecolor\": \"white\", \"ticks\": \"\", \"title\": {\"standoff\": 15}, \"zerolinecolor\": \"white\", \"zerolinewidth\": 2}, \"yaxis\": {\"automargin\": true, \"gridcolor\": \"white\", \"linecolor\": \"white\", \"ticks\": \"\", \"title\": {\"standoff\": 15}, \"zerolinecolor\": \"white\", \"zerolinewidth\": 2}}}, \"title\": {\"text\": \"rightflank_attack\"}},\n",
       "                        {\"responsive\": true}\n",
       "                    ).then(function(){\n",
       "                            \n",
       "var gd = document.getElementById('f38870f9-b83b-4c09-a2f1-ee5606b076ef');\n",
       "var x = new MutationObserver(function (mutations, observer) {{\n",
       "        var display = window.getComputedStyle(gd).display;\n",
       "        if (!display || display === 'none') {{\n",
       "            console.log([gd, 'removed!']);\n",
       "            Plotly.purge(gd);\n",
       "            observer.disconnect();\n",
       "        }}\n",
       "}});\n",
       "\n",
       "// Listen for the removal of the full notebook cells\n",
       "var notebookContainer = gd.closest('#notebook-container');\n",
       "if (notebookContainer) {{\n",
       "    x.observe(notebookContainer, {childList: true});\n",
       "}}\n",
       "\n",
       "// Listen for the clearing of the current output cell\n",
       "var outputEl = gd.closest('.output');\n",
       "if (outputEl) {{\n",
       "    x.observe(outputEl, {childList: true});\n",
       "}}\n",
       "\n",
       "                        })\n",
       "                };\n",
       "                });\n",
       "            </script>\n",
       "        </div>"
      ]
     },
     "metadata": {},
     "output_type": "display_data"
    }
   ],
   "source": [
    "plot_preference_value_region(defender_attrs_lcb_plot, result_type = 'inacc')"
   ]
  },
  {
   "cell_type": "code",
   "execution_count": null,
   "metadata": {},
   "outputs": [],
   "source": []
  }
 ],
 "metadata": {
  "hide_input": false,
  "kernelspec": {
   "display_name": "Python 3",
   "language": "python",
   "name": "python3"
  },
  "language_info": {
   "codemirror_mode": {
    "name": "ipython",
    "version": 3
   },
   "file_extension": ".py",
   "mimetype": "text/x-python",
   "name": "python",
   "nbconvert_exporter": "python",
   "pygments_lexer": "ipython3",
   "version": "3.7.6"
  },
  "toc": {
   "base_numbering": 1,
   "nav_menu": {},
   "number_sections": true,
   "sideBar": true,
   "skip_h1_title": false,
   "title_cell": "Table of Contents",
   "title_sidebar": "Contents",
   "toc_cell": false,
   "toc_position": {},
   "toc_section_display": true,
   "toc_window_display": false
  }
 },
 "nbformat": 4,
 "nbformat_minor": 4
}
