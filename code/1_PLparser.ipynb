{
 "cells": [
  {
   "cell_type": "markdown",
   "metadata": {},
   "source": [
    "**1. Premier League Defender Formation Data**\n",
    "\n",
    "This notebook intends to parse defence formation data (match date, match name, formation for home and away teamsn, player names (from RB to LB) for home and away teams) for every match in 2017-18 season, since this information was not available in Wyscout data. The data is preprocessed and relevant features are extracted. Finally, the processed data is stored in the csv file (PL1718Defence.csv)"
   ]
  },
  {
   "cell_type": "code",
   "execution_count": 2,
   "metadata": {},
   "outputs": [],
   "source": [
    "import pandas as pd\n",
    "import numpy as np\n",
    "import requests\n",
    "from bs4 import BeautifulSoup\n",
    "from html import unescape\n",
    "import re\n",
    "from unidecode import unidecode\n",
    "from datetime import datetime"
   ]
  },
  {
   "cell_type": "markdown",
   "metadata": {},
   "source": [
    "**Opening Premier League 2017-18 Results HTML File**"
   ]
  },
  {
   "cell_type": "code",
   "execution_count": 4,
   "metadata": {},
   "outputs": [],
   "source": [
    "pl_html = open(\"../Data/matches/PL1718Results.html\",'r',encoding='utf-8')\n",
    "pl = pl_html.read()"
   ]
  },
  {
   "cell_type": "markdown",
   "metadata": {},
   "source": [
    "**Converting escaped HTML characters to unescaped characters**"
   ]
  },
  {
   "cell_type": "code",
   "execution_count": 5,
   "metadata": {},
   "outputs": [],
   "source": [
    "unescaped = unescape(pl)"
   ]
  },
  {
   "cell_type": "markdown",
   "metadata": {},
   "source": [
    "**Finding all the fixture containers in the HTML File**"
   ]
  },
  {
   "cell_type": "code",
   "execution_count": 6,
   "metadata": {},
   "outputs": [],
   "source": [
    "pl_page = BeautifulSoup(unescaped)\n",
    "matches = pl_page.find_all('li',class_='matchFixtureContainer')\n"
   ]
  },
  {
   "cell_type": "markdown",
   "metadata": {},
   "source": [
    "**Obtaining match information in the form of a dictionary with keys -**\n",
    "\n",
    "**match_id** - Unique ID of the match\n",
    "\n",
    "**home_team** - Home Team\n",
    "\n",
    "**away_team** - Away Team\n",
    "\n",
    "**match_link** - Match Center link for the particular match"
   ]
  },
  {
   "cell_type": "code",
   "execution_count": 7,
   "metadata": {},
   "outputs": [],
   "source": [
    "pl_1718_match_info = []\n",
    "base_link = 'https://www.premierleague.com/match/'\n",
    "for match in matches:\n",
    "    match_info = dict()\n",
    "    match_id = match['data-comp-match-item']\n",
    "    home_team = match['data-home']\n",
    "    away_team = match['data-away']\n",
    "    match_info['match_id'] = match_id\n",
    "    match_info['home_team'] = home_team\n",
    "    match_info['away_team'] = away_team\n",
    "    match_info['match_link'] = base_link + str(match_id)\n",
    "    pl_1718_match_info.append(match_info)"
   ]
  },
  {
   "cell_type": "code",
   "execution_count": 8,
   "metadata": {},
   "outputs": [],
   "source": [
    "base_link = 'https://www.premierleague.com/match/'\n",
    "match_ids = [x['match_id'] for x in pl_1718_match_info]\n",
    "home_teams = [x['home_team'] for x in pl_1718_match_info]\n",
    "away_teams = [x['away_team'] for x in pl_1718_match_info]"
   ]
  },
  {
   "cell_type": "markdown",
   "metadata": {},
   "source": [
    "**Retrieving defence lineups for Home and Away Team**"
   ]
  },
  {
   "cell_type": "code",
   "execution_count": 9,
   "metadata": {},
   "outputs": [],
   "source": [
    "pl1718_defence = list()\n",
    "pl1718_lineups = list()\n",
    "for match_info in pl_1718_match_info:\n",
    "    matches1718 = dict()\n",
    "    squads1718 = dict()\n",
    "    matchcenter = requests.get(match_info['match_link'])\n",
    "    match_data = BeautifulSoup(matchcenter.content)\n",
    "    \n",
    "#     Collecting jersey numbers for the defence lineup for the home team\n",
    "\n",
    "    home_team_data = match_data.find('div',class_='team home pitchPositonsContainer')\n",
    "    rows = home_team_data.find_all('div',class_='row')\n",
    "    defence_row = rows[1]\n",
    "    home_players = defence_row.find_all('div')\n",
    "    home_jersey_nos = list()\n",
    "    for home_player in home_players:\n",
    "        home_jersey_nos.append(home_player.text)\n",
    "        \n",
    "#     Collecting jersey numbers for the defence lineup for the away team\n",
    "\n",
    "    away_team_data = match_data.find('div',class_='team away pitchPositonsContainer')\n",
    "    rows = away_team_data.find_all('div',class_='row')\n",
    "    defence_row = rows[1]\n",
    "    away_players = defence_row.find_all('div')\n",
    "    away_jersey_nos = list()\n",
    "    for away_player in away_players:\n",
    "        away_jersey_nos.append(away_player.text)\n",
    "\n",
    "#     Obtaining the respective player name from the jersey number for the home team\n",
    "\n",
    "    matches1718['match_id'] = match_info['match_id']\n",
    "    matches1718['home_team'] = match_info['home_team']\n",
    "    matches1718['away_team'] = match_info['away_team']\n",
    "    home_lineups_container = match_data.find('div',class_='teamList mcLineUpContainter homeLineup').find('div',class_= 'matchLineupTeamContainer')\n",
    "    home_lineups_players = home_lineups_container.find_all('li',class_='player')\n",
    "    home_player_jersey = list()\n",
    "    for home_lineups_player in home_lineups_players:\n",
    "        jersey_number = home_lineups_player.find('div',class_='number').text\n",
    "        player_name = home_lineups_player.find('div',class_='name').text\n",
    "        player_name = player_name.strip()\n",
    "        player_name = unidecode(player_name)\n",
    "        player_name = re.sub('[^a-zA-Z]+','',player_name)\n",
    "        home_player_jersey.append((jersey_number,player_name))\n",
    "    home_player_names = list()\n",
    "    for x in home_jersey_nos:\n",
    "        for i,j in home_player_jersey:\n",
    "            if x==str(i):\n",
    "                home_player_names.append(j)\n",
    "                \n",
    "#     Obtaining the respective player name from the jersey number for the home team\n",
    "\n",
    "    away_lineups_container = match_data.find('div',class_='teamList mcLineUpContainter awayLineup').find('div',class_= 'matchLineupTeamContainer')\n",
    "    away_lineups_players = away_lineups_container.find_all('li',class_='player')\n",
    "    away_player_jersey = list()\n",
    "    for away_lineups_player in away_lineups_players:\n",
    "        jersey_number = away_lineups_player.find('div',class_='number').text\n",
    "        player_name = away_lineups_player.find('div',class_='name').text\n",
    "        player_name = player_name.strip()\n",
    "        player_name = unidecode(player_name)\n",
    "        player_name = re.sub('[^a-zA-Z]+','',player_name)\n",
    "        away_player_jersey.append((jersey_number,player_name))\n",
    "    away_player_names = list()\n",
    "    for x in away_jersey_nos:\n",
    "        for i,j in away_player_jersey:\n",
    "            if x==str(i):\n",
    "                away_player_names.append(j)\n",
    "\n",
    "#      Fetching the match dates\n",
    "\n",
    "    match_date = match_data.find('div',class_='current').find('time').text\n",
    "    match_date = match_date.split('-')[0].strip()\n",
    "    if match_date.split(' ')[1] in ['Jan','Feb','Mar','Apr','May']:\n",
    "        match_date = match_date + ' 2018'\n",
    "    else:\n",
    "        match_date = match_date + ' 2017'\n",
    "    match_date = datetime.strptime(match_date,'%d %b %Y')\n",
    "    match_date = match_date.date()\n",
    "    matches1718['match_date'] = match_date.isoformat()\n",
    "    matches1718['home_team_defense'] = home_player_names\n",
    "    matches1718['away_team_defense'] = away_player_names\n",
    "    pl1718_defence.append(matches1718)\n",
    "                \n",
    "            \n",
    "    \n",
    "    \n",
    "        "
   ]
  },
  {
   "cell_type": "code",
   "execution_count": 10,
   "metadata": {},
   "outputs": [],
   "source": [
    "pl1718defense_df = pd.DataFrame(pl1718_defence)"
   ]
  },
  {
   "cell_type": "markdown",
   "metadata": {},
   "source": [
    "**Saving the data in a csv file**"
   ]
  },
  {
   "cell_type": "code",
   "execution_count": 13,
   "metadata": {},
   "outputs": [],
   "source": [
    "pl1718defense_df.to_csv('../data/matches/PL1718Defense.csv')"
   ]
  },
  {
   "cell_type": "code",
   "execution_count": null,
   "metadata": {},
   "outputs": [],
   "source": []
  }
 ],
 "metadata": {
  "kernelspec": {
   "display_name": "Python 3",
   "language": "python",
   "name": "python3"
  },
  "language_info": {
   "codemirror_mode": {
    "name": "ipython",
    "version": 3
   },
   "file_extension": ".py",
   "mimetype": "text/x-python",
   "name": "python",
   "nbconvert_exporter": "python",
   "pygments_lexer": "ipython3",
   "version": "3.7.6"
  }
 },
 "nbformat": 4,
 "nbformat_minor": 4
}
