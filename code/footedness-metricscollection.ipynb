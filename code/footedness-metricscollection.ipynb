{
 "cells": [
  {
   "cell_type": "code",
   "execution_count": 1,
   "metadata": {
    "ExecuteTime": {
     "end_time": "2020-07-06T08:48:28.035814Z",
     "start_time": "2020-07-06T08:48:27.488126Z"
    }
   },
   "outputs": [],
   "source": [
    "import pandas as pd\n",
    "import numpy as np\n",
    "from unidecode import unidecode\n",
    "from tqdm import tqdm\n",
    "import re\n",
    "from difflib import SequenceMatcher\n",
    "pd.set_option(\"display.max_rows\", 1000)\n",
    "pd.set_option(\"display.max_columns\",1000)"
   ]
  },
  {
   "cell_type": "code",
   "execution_count": 2,
   "metadata": {
    "ExecuteTime": {
     "end_time": "2020-07-06T08:48:32.933703Z",
     "start_time": "2020-07-06T08:48:29.748417Z"
    }
   },
   "outputs": [],
   "source": [
    "df_events_roles = pd.read_pickle(\"C:/Users/Anuj/Desktop/Work/Football/data/events/events_v2.pkl\")"
   ]
  },
  {
   "cell_type": "code",
   "execution_count": 3,
   "metadata": {
    "ExecuteTime": {
     "end_time": "2020-07-06T08:48:34.259883Z",
     "start_time": "2020-07-06T08:48:34.222681Z"
    }
   },
   "outputs": [],
   "source": [
    "df_defence_footed = pd.read_pickle(\"C:/Users/Anuj/Desktop/Work/Football/data/matches/match+def_lineup+footedness_ver2.pkl\")"
   ]
  },
  {
   "cell_type": "code",
   "execution_count": 4,
   "metadata": {
    "ExecuteTime": {
     "end_time": "2020-07-06T08:48:38.927779Z",
     "start_time": "2020-07-06T08:48:38.919789Z"
    }
   },
   "outputs": [],
   "source": [
    "footedness_patterns = df_defence_footed[\"footedness\"].unique()"
   ]
  },
  {
   "cell_type": "code",
   "execution_count": 5,
   "metadata": {
    "ExecuteTime": {
     "end_time": "2020-07-06T08:48:43.770879Z",
     "start_time": "2020-07-06T08:48:43.736780Z"
    }
   },
   "outputs": [],
   "source": [
    "df_players = pd.read_pickle(\"C:/Users/Anuj/Desktop/Work/Football/data/players.pkl\")"
   ]
  },
  {
   "cell_type": "code",
   "execution_count": 9,
   "metadata": {},
   "outputs": [],
   "source": [
    "df_events['playerName'] = df_events[\"playerName\"].apply(lambda x: unidecode(x))\n",
    "df_events['playerName'] = df_events[\"playerName\"].apply(lambda x: x.replace(' ',''))\n",
    "df_events['playerName'] = df_events[\"playerName\"].apply(lambda x: x.replace('-',''))"
   ]
  },
  {
   "cell_type": "code",
   "execution_count": 10,
   "metadata": {
    "scrolled": true
   },
   "outputs": [
    {
     "data": {
      "text/html": [
       "<div>\n",
       "<style scoped>\n",
       "    .dataframe tbody tr th:only-of-type {\n",
       "        vertical-align: middle;\n",
       "    }\n",
       "\n",
       "    .dataframe tbody tr th {\n",
       "        vertical-align: top;\n",
       "    }\n",
       "\n",
       "    .dataframe thead th {\n",
       "        text-align: right;\n",
       "    }\n",
       "</style>\n",
       "<table border=\"1\" class=\"dataframe\">\n",
       "  <thead>\n",
       "    <tr style=\"text-align: right;\">\n",
       "      <th></th>\n",
       "      <th>eventId</th>\n",
       "      <th>subEventName</th>\n",
       "      <th>tags</th>\n",
       "      <th>playerId</th>\n",
       "      <th>positions</th>\n",
       "      <th>matchId</th>\n",
       "      <th>eventName</th>\n",
       "      <th>teamId</th>\n",
       "      <th>matchPeriod</th>\n",
       "      <th>eventSec</th>\n",
       "      <th>subEventId</th>\n",
       "      <th>id</th>\n",
       "      <th>wyId</th>\n",
       "      <th>foot</th>\n",
       "      <th>playerName</th>\n",
       "    </tr>\n",
       "  </thead>\n",
       "  <tbody>\n",
       "    <tr>\n",
       "      <th>9123</th>\n",
       "      <td>7</td>\n",
       "      <td>Touch</td>\n",
       "      <td>[Interception]</td>\n",
       "      <td>8833</td>\n",
       "      <td>[[93.60000000000001, 34.68], [79.04, 31.96]]</td>\n",
       "      <td>2499725</td>\n",
       "      <td>Others on the ball</td>\n",
       "      <td>1613</td>\n",
       "      <td>1H</td>\n",
       "      <td>529.154121</td>\n",
       "      <td>72</td>\n",
       "      <td>178442596</td>\n",
       "      <td>8833.0</td>\n",
       "      <td>right</td>\n",
       "      <td>JamalLascelles</td>\n",
       "    </tr>\n",
       "    <tr>\n",
       "      <th>9203</th>\n",
       "      <td>7</td>\n",
       "      <td>Clearance</td>\n",
       "      <td>[Interception, Not accurate]</td>\n",
       "      <td>8833</td>\n",
       "      <td>[[91.52000000000001, 25.840000000000003], [104...</td>\n",
       "      <td>2499725</td>\n",
       "      <td>Others on the ball</td>\n",
       "      <td>1613</td>\n",
       "      <td>1H</td>\n",
       "      <td>729.699428</td>\n",
       "      <td>71</td>\n",
       "      <td>178442657</td>\n",
       "      <td>8833.0</td>\n",
       "      <td>right</td>\n",
       "      <td>JamalLascelles</td>\n",
       "    </tr>\n",
       "    <tr>\n",
       "      <th>9245</th>\n",
       "      <td>8</td>\n",
       "      <td>Head pass</td>\n",
       "      <td>[Interception, Not accurate]</td>\n",
       "      <td>8833</td>\n",
       "      <td>[[83.2, 29.240000000000002], [76.9600000000000...</td>\n",
       "      <td>2499725</td>\n",
       "      <td>Pass</td>\n",
       "      <td>1613</td>\n",
       "      <td>1H</td>\n",
       "      <td>979.855395</td>\n",
       "      <td>82</td>\n",
       "      <td>178442717</td>\n",
       "      <td>8833.0</td>\n",
       "      <td>right</td>\n",
       "      <td>JamalLascelles</td>\n",
       "    </tr>\n",
       "    <tr>\n",
       "      <th>9332</th>\n",
       "      <td>1</td>\n",
       "      <td>Air duel</td>\n",
       "      <td>[Lost, Not accurate]</td>\n",
       "      <td>8833</td>\n",
       "      <td>[[95.68, 31.28], [98.8, 33.32]]</td>\n",
       "      <td>2499725</td>\n",
       "      <td>Duel</td>\n",
       "      <td>1613</td>\n",
       "      <td>1H</td>\n",
       "      <td>1284.256499</td>\n",
       "      <td>10</td>\n",
       "      <td>178443149</td>\n",
       "      <td>8833.0</td>\n",
       "      <td>right</td>\n",
       "      <td>JamalLascelles</td>\n",
       "    </tr>\n",
       "    <tr>\n",
       "      <th>9334</th>\n",
       "      <td>7</td>\n",
       "      <td>Touch</td>\n",
       "      <td>[Interception]</td>\n",
       "      <td>8833</td>\n",
       "      <td>[[97.76, 31.28], [102.96000000000001, 33.32]]</td>\n",
       "      <td>2499725</td>\n",
       "      <td>Others on the ball</td>\n",
       "      <td>1613</td>\n",
       "      <td>1H</td>\n",
       "      <td>1287.359459</td>\n",
       "      <td>72</td>\n",
       "      <td>178443148</td>\n",
       "      <td>8833.0</td>\n",
       "      <td>right</td>\n",
       "      <td>JamalLascelles</td>\n",
       "    </tr>\n",
       "    <tr>\n",
       "      <th>...</th>\n",
       "      <td>...</td>\n",
       "      <td>...</td>\n",
       "      <td>...</td>\n",
       "      <td>...</td>\n",
       "      <td>...</td>\n",
       "      <td>...</td>\n",
       "      <td>...</td>\n",
       "      <td>...</td>\n",
       "      <td>...</td>\n",
       "      <td>...</td>\n",
       "      <td>...</td>\n",
       "      <td>...</td>\n",
       "      <td>...</td>\n",
       "      <td>...</td>\n",
       "      <td>...</td>\n",
       "    </tr>\n",
       "    <tr>\n",
       "      <th>591890</th>\n",
       "      <td>1</td>\n",
       "      <td>Ground attacking duel</td>\n",
       "      <td>[Won, Accurate]</td>\n",
       "      <td>399564</td>\n",
       "      <td>[[44.72, 9.520000000000001], [47.84, 3.4000000...</td>\n",
       "      <td>2500096</td>\n",
       "      <td>Duel</td>\n",
       "      <td>1639</td>\n",
       "      <td>2H</td>\n",
       "      <td>1275.376288</td>\n",
       "      <td>11</td>\n",
       "      <td>251668153</td>\n",
       "      <td>399564.0</td>\n",
       "      <td>right</td>\n",
       "      <td>LasseSorensen</td>\n",
       "    </tr>\n",
       "    <tr>\n",
       "      <th>591892</th>\n",
       "      <td>8</td>\n",
       "      <td>Simple pass</td>\n",
       "      <td>[Not accurate]</td>\n",
       "      <td>399564</td>\n",
       "      <td>[[47.84, 3.4000000000000004], [55.120000000000...</td>\n",
       "      <td>2500096</td>\n",
       "      <td>Pass</td>\n",
       "      <td>1639</td>\n",
       "      <td>2H</td>\n",
       "      <td>1276.749933</td>\n",
       "      <td>85</td>\n",
       "      <td>251668154</td>\n",
       "      <td>399564.0</td>\n",
       "      <td>right</td>\n",
       "      <td>LasseSorensen</td>\n",
       "    </tr>\n",
       "    <tr>\n",
       "      <th>591959</th>\n",
       "      <td>8</td>\n",
       "      <td>Simple pass</td>\n",
       "      <td>[Accurate]</td>\n",
       "      <td>399564</td>\n",
       "      <td>[[27.04, 25.16], [42.64, 19.040000000000003]]</td>\n",
       "      <td>2500096</td>\n",
       "      <td>Pass</td>\n",
       "      <td>1639</td>\n",
       "      <td>2H</td>\n",
       "      <td>1519.322589</td>\n",
       "      <td>85</td>\n",
       "      <td>251668174</td>\n",
       "      <td>399564.0</td>\n",
       "      <td>right</td>\n",
       "      <td>LasseSorensen</td>\n",
       "    </tr>\n",
       "    <tr>\n",
       "      <th>592009</th>\n",
       "      <td>7</td>\n",
       "      <td>Touch</td>\n",
       "      <td>[Missed ball]</td>\n",
       "      <td>399564</td>\n",
       "      <td>[[30.16, 32.64], [29.12, 24.48]]</td>\n",
       "      <td>2500096</td>\n",
       "      <td>Others on the ball</td>\n",
       "      <td>1639</td>\n",
       "      <td>2H</td>\n",
       "      <td>1633.927077</td>\n",
       "      <td>72</td>\n",
       "      <td>251668198</td>\n",
       "      <td>399564.0</td>\n",
       "      <td>right</td>\n",
       "      <td>LasseSorensen</td>\n",
       "    </tr>\n",
       "    <tr>\n",
       "      <th>592022</th>\n",
       "      <td>7</td>\n",
       "      <td>Clearance</td>\n",
       "      <td>[Not accurate]</td>\n",
       "      <td>399564</td>\n",
       "      <td>[[8.32, 44.88], [28.080000000000002, 49.64]]</td>\n",
       "      <td>2500096</td>\n",
       "      <td>Others on the ball</td>\n",
       "      <td>1639</td>\n",
       "      <td>2H</td>\n",
       "      <td>1654.768518</td>\n",
       "      <td>71</td>\n",
       "      <td>251668201</td>\n",
       "      <td>399564.0</td>\n",
       "      <td>right</td>\n",
       "      <td>LasseSorensen</td>\n",
       "    </tr>\n",
       "  </tbody>\n",
       "</table>\n",
       "<p>1988 rows × 15 columns</p>\n",
       "</div>"
      ],
      "text/plain": [
       "        eventId           subEventName                          tags  \\\n",
       "9123          7                  Touch                [Interception]   \n",
       "9203          7              Clearance  [Interception, Not accurate]   \n",
       "9245          8              Head pass  [Interception, Not accurate]   \n",
       "9332          1               Air duel          [Lost, Not accurate]   \n",
       "9334          7                  Touch                [Interception]   \n",
       "...         ...                    ...                           ...   \n",
       "591890        1  Ground attacking duel               [Won, Accurate]   \n",
       "591892        8            Simple pass                [Not accurate]   \n",
       "591959        8            Simple pass                    [Accurate]   \n",
       "592009        7                  Touch                 [Missed ball]   \n",
       "592022        7              Clearance                [Not accurate]   \n",
       "\n",
       "        playerId                                          positions  matchId  \\\n",
       "9123        8833       [[93.60000000000001, 34.68], [79.04, 31.96]]  2499725   \n",
       "9203        8833  [[91.52000000000001, 25.840000000000003], [104...  2499725   \n",
       "9245        8833  [[83.2, 29.240000000000002], [76.9600000000000...  2499725   \n",
       "9332        8833                    [[95.68, 31.28], [98.8, 33.32]]  2499725   \n",
       "9334        8833      [[97.76, 31.28], [102.96000000000001, 33.32]]  2499725   \n",
       "...          ...                                                ...      ...   \n",
       "591890    399564  [[44.72, 9.520000000000001], [47.84, 3.4000000...  2500096   \n",
       "591892    399564  [[47.84, 3.4000000000000004], [55.120000000000...  2500096   \n",
       "591959    399564      [[27.04, 25.16], [42.64, 19.040000000000003]]  2500096   \n",
       "592009    399564                   [[30.16, 32.64], [29.12, 24.48]]  2500096   \n",
       "592022    399564       [[8.32, 44.88], [28.080000000000002, 49.64]]  2500096   \n",
       "\n",
       "                 eventName  teamId matchPeriod     eventSec subEventId  \\\n",
       "9123    Others on the ball    1613          1H   529.154121         72   \n",
       "9203    Others on the ball    1613          1H   729.699428         71   \n",
       "9245                  Pass    1613          1H   979.855395         82   \n",
       "9332                  Duel    1613          1H  1284.256499         10   \n",
       "9334    Others on the ball    1613          1H  1287.359459         72   \n",
       "...                    ...     ...         ...          ...        ...   \n",
       "591890                Duel    1639          2H  1275.376288         11   \n",
       "591892                Pass    1639          2H  1276.749933         85   \n",
       "591959                Pass    1639          2H  1519.322589         85   \n",
       "592009  Others on the ball    1639          2H  1633.927077         72   \n",
       "592022  Others on the ball    1639          2H  1654.768518         71   \n",
       "\n",
       "               id      wyId   foot      playerName  \n",
       "9123    178442596    8833.0  right  JamalLascelles  \n",
       "9203    178442657    8833.0  right  JamalLascelles  \n",
       "9245    178442717    8833.0  right  JamalLascelles  \n",
       "9332    178443149    8833.0  right  JamalLascelles  \n",
       "9334    178443148    8833.0  right  JamalLascelles  \n",
       "...           ...       ...    ...             ...  \n",
       "591890  251668153  399564.0  right   LasseSorensen  \n",
       "591892  251668154  399564.0  right   LasseSorensen  \n",
       "591959  251668174  399564.0  right   LasseSorensen  \n",
       "592009  251668198  399564.0  right   LasseSorensen  \n",
       "592022  251668201  399564.0  right   LasseSorensen  \n",
       "\n",
       "[1988 rows x 15 columns]"
      ]
     },
     "execution_count": 10,
     "metadata": {},
     "output_type": "execute_result"
    }
   ],
   "source": [
    "df_events.loc[df_events['playerName'].str.contains(\"Las\")]"
   ]
  },
  {
   "cell_type": "code",
   "execution_count": 11,
   "metadata": {},
   "outputs": [],
   "source": [
    "df_defence_footed.rename(columns={'R-CB':'R_CB',\"L-CB\":'L_CB'},inplace=True)"
   ]
  },
  {
   "cell_type": "markdown",
   "metadata": {},
   "source": [
    "**Rounding position coordinates to 2 decimal points**"
   ]
  },
  {
   "cell_type": "code",
   "execution_count": 12,
   "metadata": {},
   "outputs": [],
   "source": [
    "def roundcoords(x):\n",
    "    final_roundedcoords = list()\n",
    "    for l in x:\n",
    "        roundedcoords = [np.round(val,decimals=2) for val in l]\n",
    "        final_roundedcoords.append(roundedcoords)\n",
    "    return final_roundedcoords\n",
    "    \n",
    "df_events['positions'] = df_events['positions'].apply(lambda x: roundcoords(x))"
   ]
  },
  {
   "cell_type": "code",
   "execution_count": 10,
   "metadata": {
    "ExecuteTime": {
     "end_time": "2020-07-04T20:46:38.622450Z",
     "start_time": "2020-07-04T20:46:38.519775Z"
    },
    "scrolled": true
   },
   "outputs": [
    {
     "data": {
      "text/html": [
       "<div>\n",
       "<style scoped>\n",
       "    .dataframe tbody tr th:only-of-type {\n",
       "        vertical-align: middle;\n",
       "    }\n",
       "\n",
       "    .dataframe tbody tr th {\n",
       "        vertical-align: top;\n",
       "    }\n",
       "\n",
       "    .dataframe thead th {\n",
       "        text-align: right;\n",
       "    }\n",
       "</style>\n",
       "<table border=\"1\" class=\"dataframe\">\n",
       "  <thead>\n",
       "    <tr style=\"text-align: right;\">\n",
       "      <th></th>\n",
       "      <th>eventId</th>\n",
       "      <th>subEventName</th>\n",
       "      <th>tags</th>\n",
       "      <th>playerId</th>\n",
       "      <th>positions</th>\n",
       "      <th>matchId</th>\n",
       "      <th>eventName</th>\n",
       "      <th>teamId</th>\n",
       "      <th>matchPeriod</th>\n",
       "      <th>eventSec</th>\n",
       "      <th>subEventId</th>\n",
       "      <th>id</th>\n",
       "      <th>wyId</th>\n",
       "      <th>foot</th>\n",
       "      <th>playerName</th>\n",
       "      <th>role</th>\n",
       "    </tr>\n",
       "  </thead>\n",
       "  <tbody>\n",
       "    <tr>\n",
       "      <th>0</th>\n",
       "      <td>8</td>\n",
       "      <td>Simple pass</td>\n",
       "      <td>[Accurate]</td>\n",
       "      <td>25413</td>\n",
       "      <td>[[50.96, 34.68], [32.24, 14.96]]</td>\n",
       "      <td>2499719</td>\n",
       "      <td>Pass</td>\n",
       "      <td>1609</td>\n",
       "      <td>1H</td>\n",
       "      <td>2.758649</td>\n",
       "      <td>85</td>\n",
       "      <td>177959171</td>\n",
       "      <td>25413.0</td>\n",
       "      <td>right</td>\n",
       "      <td>AlexandreLacazette</td>\n",
       "      <td>FWD</td>\n",
       "    </tr>\n",
       "    <tr>\n",
       "      <th>1</th>\n",
       "      <td>1</td>\n",
       "      <td>Air duel</td>\n",
       "      <td>[Lost, Not accurate]</td>\n",
       "      <td>25413</td>\n",
       "      <td>[[73.84, 31.28], [52.0, 27.880000000000003]]</td>\n",
       "      <td>2499719</td>\n",
       "      <td>Duel</td>\n",
       "      <td>1609</td>\n",
       "      <td>1H</td>\n",
       "      <td>22.551816</td>\n",
       "      <td>10</td>\n",
       "      <td>177959181</td>\n",
       "      <td>25413.0</td>\n",
       "      <td>right</td>\n",
       "      <td>AlexandreLacazette</td>\n",
       "      <td>FWD</td>\n",
       "    </tr>\n",
       "    <tr>\n",
       "      <th>2</th>\n",
       "      <td>10</td>\n",
       "      <td>Shot</td>\n",
       "      <td>[Goal, Right foot, Opportunity, Position: Goal...</td>\n",
       "      <td>25413</td>\n",
       "      <td>[[91.52, 40.120000000000005], [-0.0, 68.0]]</td>\n",
       "      <td>2499719</td>\n",
       "      <td>Shot</td>\n",
       "      <td>1609</td>\n",
       "      <td>1H</td>\n",
       "      <td>94.595788</td>\n",
       "      <td>100</td>\n",
       "      <td>177959212</td>\n",
       "      <td>25413.0</td>\n",
       "      <td>right</td>\n",
       "      <td>AlexandreLacazette</td>\n",
       "      <td>FWD</td>\n",
       "    </tr>\n",
       "    <tr>\n",
       "      <th>3</th>\n",
       "      <td>8</td>\n",
       "      <td>Head pass</td>\n",
       "      <td>[Not accurate]</td>\n",
       "      <td>25413</td>\n",
       "      <td>[[73.84, 20.4], [73.84, 25.159999999999997]]</td>\n",
       "      <td>2499719</td>\n",
       "      <td>Pass</td>\n",
       "      <td>1609</td>\n",
       "      <td>1H</td>\n",
       "      <td>397.881307</td>\n",
       "      <td>82</td>\n",
       "      <td>177959276</td>\n",
       "      <td>25413.0</td>\n",
       "      <td>right</td>\n",
       "      <td>AlexandreLacazette</td>\n",
       "      <td>FWD</td>\n",
       "    </tr>\n",
       "    <tr>\n",
       "      <th>4</th>\n",
       "      <td>1</td>\n",
       "      <td>Ground defending duel</td>\n",
       "      <td>[Take on left, Lost, Not accurate]</td>\n",
       "      <td>25413</td>\n",
       "      <td>[[63.44, 24.479999999999997], [53.04, 8.840000...</td>\n",
       "      <td>2499719</td>\n",
       "      <td>Duel</td>\n",
       "      <td>1609</td>\n",
       "      <td>1H</td>\n",
       "      <td>494.461238</td>\n",
       "      <td>12</td>\n",
       "      <td>177959303</td>\n",
       "      <td>25413.0</td>\n",
       "      <td>right</td>\n",
       "      <td>AlexandreLacazette</td>\n",
       "      <td>FWD</td>\n",
       "    </tr>\n",
       "    <tr>\n",
       "      <th>...</th>\n",
       "      <td>...</td>\n",
       "      <td>...</td>\n",
       "      <td>...</td>\n",
       "      <td>...</td>\n",
       "      <td>...</td>\n",
       "      <td>...</td>\n",
       "      <td>...</td>\n",
       "      <td>...</td>\n",
       "      <td>...</td>\n",
       "      <td>...</td>\n",
       "      <td>...</td>\n",
       "      <td>...</td>\n",
       "      <td>...</td>\n",
       "      <td>...</td>\n",
       "      <td>...</td>\n",
       "      <td>...</td>\n",
       "    </tr>\n",
       "    <tr>\n",
       "      <th>595114</th>\n",
       "      <td>1</td>\n",
       "      <td>Ground attacking duel</td>\n",
       "      <td>[Won, Accurate]</td>\n",
       "      <td>399564</td>\n",
       "      <td>[[59.28, 9.519999999999996], [56.16, 3.4000000...</td>\n",
       "      <td>2500096</td>\n",
       "      <td>Duel</td>\n",
       "      <td>1639</td>\n",
       "      <td>2H</td>\n",
       "      <td>1275.376288</td>\n",
       "      <td>11</td>\n",
       "      <td>251668153</td>\n",
       "      <td>399564.0</td>\n",
       "      <td>right</td>\n",
       "      <td>LasseSørensen</td>\n",
       "      <td>MID</td>\n",
       "    </tr>\n",
       "    <tr>\n",
       "      <th>595115</th>\n",
       "      <td>8</td>\n",
       "      <td>Simple pass</td>\n",
       "      <td>[Not accurate]</td>\n",
       "      <td>399564</td>\n",
       "      <td>[[56.16, 3.4000000000000057], [48.88, 0.0]]</td>\n",
       "      <td>2500096</td>\n",
       "      <td>Pass</td>\n",
       "      <td>1639</td>\n",
       "      <td>2H</td>\n",
       "      <td>1276.749933</td>\n",
       "      <td>85</td>\n",
       "      <td>251668154</td>\n",
       "      <td>399564.0</td>\n",
       "      <td>right</td>\n",
       "      <td>LasseSørensen</td>\n",
       "      <td>MID</td>\n",
       "    </tr>\n",
       "    <tr>\n",
       "      <th>595116</th>\n",
       "      <td>8</td>\n",
       "      <td>Simple pass</td>\n",
       "      <td>[Accurate]</td>\n",
       "      <td>399564</td>\n",
       "      <td>[[76.96000000000001, 25.159999999999997], [61....</td>\n",
       "      <td>2500096</td>\n",
       "      <td>Pass</td>\n",
       "      <td>1639</td>\n",
       "      <td>2H</td>\n",
       "      <td>1519.322589</td>\n",
       "      <td>85</td>\n",
       "      <td>251668174</td>\n",
       "      <td>399564.0</td>\n",
       "      <td>right</td>\n",
       "      <td>LasseSørensen</td>\n",
       "      <td>MID</td>\n",
       "    </tr>\n",
       "    <tr>\n",
       "      <th>595117</th>\n",
       "      <td>7</td>\n",
       "      <td>Touch</td>\n",
       "      <td>[Missed ball]</td>\n",
       "      <td>399564</td>\n",
       "      <td>[[73.84, 32.64], [74.88, 24.480000000000004]]</td>\n",
       "      <td>2500096</td>\n",
       "      <td>Others on the ball</td>\n",
       "      <td>1639</td>\n",
       "      <td>2H</td>\n",
       "      <td>1633.927077</td>\n",
       "      <td>72</td>\n",
       "      <td>251668198</td>\n",
       "      <td>399564.0</td>\n",
       "      <td>right</td>\n",
       "      <td>LasseSørensen</td>\n",
       "      <td>MID</td>\n",
       "    </tr>\n",
       "    <tr>\n",
       "      <th>595118</th>\n",
       "      <td>7</td>\n",
       "      <td>Clearance</td>\n",
       "      <td>[Not accurate]</td>\n",
       "      <td>399564</td>\n",
       "      <td>[[95.68, 44.88], [75.92, 49.64]]</td>\n",
       "      <td>2500096</td>\n",
       "      <td>Others on the ball</td>\n",
       "      <td>1639</td>\n",
       "      <td>2H</td>\n",
       "      <td>1654.768518</td>\n",
       "      <td>71</td>\n",
       "      <td>251668201</td>\n",
       "      <td>399564.0</td>\n",
       "      <td>right</td>\n",
       "      <td>LasseSørensen</td>\n",
       "      <td>MID</td>\n",
       "    </tr>\n",
       "  </tbody>\n",
       "</table>\n",
       "<p>595119 rows × 16 columns</p>\n",
       "</div>"
      ],
      "text/plain": [
       "        eventId           subEventName  \\\n",
       "0             8            Simple pass   \n",
       "1             1               Air duel   \n",
       "2            10                   Shot   \n",
       "3             8              Head pass   \n",
       "4             1  Ground defending duel   \n",
       "...         ...                    ...   \n",
       "595114        1  Ground attacking duel   \n",
       "595115        8            Simple pass   \n",
       "595116        8            Simple pass   \n",
       "595117        7                  Touch   \n",
       "595118        7              Clearance   \n",
       "\n",
       "                                                     tags  playerId  \\\n",
       "0                                              [Accurate]     25413   \n",
       "1                                    [Lost, Not accurate]     25413   \n",
       "2       [Goal, Right foot, Opportunity, Position: Goal...     25413   \n",
       "3                                          [Not accurate]     25413   \n",
       "4                      [Take on left, Lost, Not accurate]     25413   \n",
       "...                                                   ...       ...   \n",
       "595114                                    [Won, Accurate]    399564   \n",
       "595115                                     [Not accurate]    399564   \n",
       "595116                                         [Accurate]    399564   \n",
       "595117                                      [Missed ball]    399564   \n",
       "595118                                     [Not accurate]    399564   \n",
       "\n",
       "                                                positions  matchId  \\\n",
       "0                        [[50.96, 34.68], [32.24, 14.96]]  2499719   \n",
       "1            [[73.84, 31.28], [52.0, 27.880000000000003]]  2499719   \n",
       "2             [[91.52, 40.120000000000005], [-0.0, 68.0]]  2499719   \n",
       "3            [[73.84, 20.4], [73.84, 25.159999999999997]]  2499719   \n",
       "4       [[63.44, 24.479999999999997], [53.04, 8.840000...  2499719   \n",
       "...                                                   ...      ...   \n",
       "595114  [[59.28, 9.519999999999996], [56.16, 3.4000000...  2500096   \n",
       "595115        [[56.16, 3.4000000000000057], [48.88, 0.0]]  2500096   \n",
       "595116  [[76.96000000000001, 25.159999999999997], [61....  2500096   \n",
       "595117      [[73.84, 32.64], [74.88, 24.480000000000004]]  2500096   \n",
       "595118                   [[95.68, 44.88], [75.92, 49.64]]  2500096   \n",
       "\n",
       "                 eventName  teamId matchPeriod     eventSec subEventId  \\\n",
       "0                     Pass    1609          1H     2.758649         85   \n",
       "1                     Duel    1609          1H    22.551816         10   \n",
       "2                     Shot    1609          1H    94.595788        100   \n",
       "3                     Pass    1609          1H   397.881307         82   \n",
       "4                     Duel    1609          1H   494.461238         12   \n",
       "...                    ...     ...         ...          ...        ...   \n",
       "595114                Duel    1639          2H  1275.376288         11   \n",
       "595115                Pass    1639          2H  1276.749933         85   \n",
       "595116                Pass    1639          2H  1519.322589         85   \n",
       "595117  Others on the ball    1639          2H  1633.927077         72   \n",
       "595118  Others on the ball    1639          2H  1654.768518         71   \n",
       "\n",
       "               id      wyId   foot          playerName role  \n",
       "0       177959171   25413.0  right  AlexandreLacazette  FWD  \n",
       "1       177959181   25413.0  right  AlexandreLacazette  FWD  \n",
       "2       177959212   25413.0  right  AlexandreLacazette  FWD  \n",
       "3       177959276   25413.0  right  AlexandreLacazette  FWD  \n",
       "4       177959303   25413.0  right  AlexandreLacazette  FWD  \n",
       "...           ...       ...    ...                 ...  ...  \n",
       "595114  251668153  399564.0  right       LasseSørensen  MID  \n",
       "595115  251668154  399564.0  right       LasseSørensen  MID  \n",
       "595116  251668174  399564.0  right       LasseSørensen  MID  \n",
       "595117  251668198  399564.0  right       LasseSørensen  MID  \n",
       "595118  251668201  399564.0  right       LasseSørensen  MID  \n",
       "\n",
       "[595119 rows x 16 columns]"
      ]
     },
     "execution_count": 10,
     "metadata": {},
     "output_type": "execute_result"
    }
   ],
   "source": [
    "df_events_roles"
   ]
  },
  {
   "cell_type": "markdown",
   "metadata": {},
   "source": [
    "**Adding player roles to the events table**"
   ]
  },
  {
   "cell_type": "code",
   "execution_count": 14,
   "metadata": {},
   "outputs": [],
   "source": [
    "roles_temp = df_players['role'].values"
   ]
  },
  {
   "cell_type": "code",
   "execution_count": 15,
   "metadata": {},
   "outputs": [],
   "source": [
    "roles = list()\n",
    "for i in roles_temp:\n",
    "    roles.append(i['code3'])\n",
    "    "
   ]
  },
  {
   "cell_type": "code",
   "execution_count": 16,
   "metadata": {},
   "outputs": [],
   "source": [
    "players_roles = list(zip(roles,df_players['wyId'],df_players['playerName']))"
   ]
  },
  {
   "cell_type": "code",
   "execution_count": 17,
   "metadata": {},
   "outputs": [],
   "source": [
    "df_players_roles = pd.DataFrame(players_roles,columns = ['role','playerId','playerName1'])"
   ]
  },
  {
   "cell_type": "code",
   "execution_count": 18,
   "metadata": {},
   "outputs": [],
   "source": [
    "df_events_roles = df_events.merge(df_players_roles, left_on = 'playerId', right_on = 'playerId'  )"
   ]
  },
  {
   "cell_type": "code",
   "execution_count": 19,
   "metadata": {},
   "outputs": [],
   "source": [
    "df_events_roles.drop(['playerName1'], axis = 1, inplace = True)"
   ]
  },
  {
   "cell_type": "code",
   "execution_count": 20,
   "metadata": {},
   "outputs": [],
   "source": [
    "df_events_roles.to_pickle('/Users/shreygrover/Desktop/Projects/Project-DefendersFootedness/PreliminaryAnalysis/Data/events_roles.pkl')"
   ]
  },
  {
   "cell_type": "markdown",
   "metadata": {},
   "source": [
    "**Filtering out pass data for defenders and finding total passes and total accurate passes for defenders league wise**"
   ]
  },
  {
   "cell_type": "code",
   "execution_count": 6,
   "metadata": {
    "ExecuteTime": {
     "end_time": "2020-07-06T08:48:51.589148Z",
     "start_time": "2020-07-06T08:48:50.915981Z"
    }
   },
   "outputs": [],
   "source": [
    "df_events_pass = df_events_roles.loc[df_events_roles['subEventName'].str.contains('pass')].loc[df_events_roles['role']=='DEF']"
   ]
  },
  {
   "cell_type": "code",
   "execution_count": 7,
   "metadata": {
    "ExecuteTime": {
     "end_time": "2020-07-06T08:48:56.309343Z",
     "start_time": "2020-07-06T08:48:56.301352Z"
    }
   },
   "outputs": [],
   "source": [
    "league_pass_info = dict()\n",
    "league_pass_info['totalpasses'] = len(df_events_pass)"
   ]
  },
  {
   "cell_type": "code",
   "execution_count": 8,
   "metadata": {
    "ExecuteTime": {
     "end_time": "2020-07-06T08:49:01.211223Z",
     "start_time": "2020-07-06T08:49:01.171146Z"
    }
   },
   "outputs": [
    {
     "data": {
      "text/plain": [
       "NicolasHernanOtamendi          2938\n",
       "CesarAzpilicuetaTanco          2588\n",
       "JanVertonghen                  2297\n",
       "KyleWalker                     2223\n",
       "DavinsonSanchezMina            1768\n",
       "HectorBellerinMoruno           1766\n",
       "DejanLovren                    1668\n",
       "LaurentKoscielny               1640\n",
       "IgnacioMonrealEraso            1635\n",
       "ShkodranMustafi                1621\n",
       "VirgilvanDijk                  1614\n",
       "AlfieMawson                    1604\n",
       "AntonioRudiger                 1598\n",
       "HarryMaguire                   1594\n",
       "JoelAndreJobMatip              1550\n",
       "KyleNaughton                   1528\n",
       "LuisAntonioValenciaMosquera    1512\n",
       "NathanAke                      1506\n",
       "MathiasJattahNjieJorgensen     1465\n",
       "CharlieDaniels                 1446\n",
       "SimonFrancis                   1413\n",
       "RyanBertrand                   1391\n",
       "VincentKompany                 1380\n",
       "LewisDunk                      1379\n",
       "AndrewRobertson                1363\n",
       "ChristopherSchindler           1291\n",
       "AndreasChristensen             1275\n",
       "JoeGomez                       1264\n",
       "GaryCahill                     1238\n",
       "MarcosAlonsoMendoza            1237\n",
       "ShaneDuffy                     1233\n",
       "AshleyYoung                    1231\n",
       "BenDavies                      1211\n",
       "AaronCresswell                 1207\n",
       "JohnStones                     1197\n",
       "KieranTrippier                 1194\n",
       "WesleyHoedt                    1191\n",
       "SteveCook                      1189\n",
       "CedricRicardoAlvesSoares       1188\n",
       "SeadKolasinac                  1169\n",
       "FedericoFernandez              1125\n",
       "RagnarKlavan                   1115\n",
       "PabloJavierZabaletaGirod       1092\n",
       "JamalLascelles                 1077\n",
       "AhmedHegazy                    1074\n",
       "MichaelKeane                   1063\n",
       "DaniloLuizdaSilva              1062\n",
       "ChrisSmalling                  1046\n",
       "PhilJones                      1042\n",
       "MartinOlsson                   1039\n",
       "MayaYoshida                     996\n",
       "BenMee                          991\n",
       "JamesTarkowski                  982\n",
       "KieranGibbs                     963\n",
       "AngeloObinzeOgbonna             954\n",
       "TrentAlexanderArnold            953\n",
       "FlorianLejeune                  945\n",
       "DeAndreYedlin                   944\n",
       "ErikPieters                     938\n",
       "BrunoSaltorGrau                 929\n",
       "KurtHappyZouma                  922\n",
       "AdrianMariappa                  899\n",
       "PhilJagielka                    881\n",
       "JonnyEvans                      879\n",
       "TobyAlderweireld                874\n",
       "AdamSmith                       862\n",
       "WesMorgan                       858\n",
       "DannySimpson                    855\n",
       "StephenWard                     853\n",
       "JackStephens                    845\n",
       "PatrickvanAanholt               844\n",
       "JoseHolebas                     841\n",
       "ChristianKabasele               827\n",
       "CraigDawson                     820\n",
       "ChristianFuchs                  819\n",
       "BenChilwell                     812\n",
       "JamesTomkins                    798\n",
       "MikevanderHoorn                 793\n",
       "AymericLaporte                  772\n",
       "MatthewLowton                   770\n",
       "FranciscoFemeniaFar             756\n",
       "RhuendlyMartina                 745\n",
       "TomSmith                        741\n",
       "AlbertoMorenoPerez              737\n",
       "DarylJanmaat                    727\n",
       "SergeAurier                     725\n",
       "VictorNilssonLindelof           722\n",
       "GaetanBongSongo                 719\n",
       "AllanRomeoNyom                  711\n",
       "LeightonBaines                  708\n",
       "MamadouSakho                    707\n",
       "AshleyWilliams                  698\n",
       "JoelWard                        644\n",
       "CiaranClark                     640\n",
       "ArthurMasuaku                   633\n",
       "WinstonReid                     620\n",
       "JeffreySchlupp                  611\n",
       "TimothyFosuMensah               592\n",
       "ChrisLowe                       584\n",
       "FlorentHadergjonaj              573\n",
       "RobHolding                      569\n",
       "RyanShawcross                   569\n",
       "CalumChambers                   559\n",
       "PaulDummett                     541\n",
       "JonjoeKenny                     539\n",
       "SebastianProdl                  527\n",
       "ScottDann                       523\n",
       "DeclanRice                      523\n",
       "KevinLong                       487\n",
       "JavierManquilloGaitan           484\n",
       "KevinWimmer                     476\n",
       "DavidLuizMoreiraMarinho         463\n",
       "GeoffCameron                    457\n",
       "LukeShaw                        455\n",
       "ScottMalone                     444\n",
       "MasonHolgate                    439\n",
       "MatiasEzequielSchelotto         417\n",
       "DavideZappacosta                413\n",
       "EricBertrandBailly              409\n",
       "MarkusSuttner                   399\n",
       "MarvinZeegelaar                 391\n",
       "PhilBardsley                    380\n",
       "EliaquimMangala                 379\n",
       "JamesMichaelCollins             353\n",
       "MiguelAngelBritosCabrera        347\n",
       "BrunoMartinsIndi                343\n",
       "SeamusColeman                   342\n",
       "FaustinoMarcosAlbertoRojo       337\n",
       "DannyRose                       335\n",
       "AleksandarDragovic              322\n",
       "JoseMigueldaRochaFonte          319\n",
       "MartinKelly                     317\n",
       "CharlieTaylor                   299\n",
       "TerenceKongolo                  292\n",
       "MoritzBauer                     265\n",
       "PerMertesacker                  227\n",
       "DaleyBlind                      205\n",
       "AaronWanBissaka                 196\n",
       "ChancelMbembaMangulu            193\n",
       "MatteoDarmian                   186\n",
       "CraigCathcart                   175\n",
       "BenjaminMendy                   173\n",
       "GlenJohnson                     171\n",
       "JanBednarek                     162\n",
       "ThomasEdwards                   154\n",
       "JairoRiedewald                  146\n",
       "MollaWague                      128\n",
       "ConnorRoberts                   128\n",
       "EmersonPalmieridosSantos        124\n",
       "GarethMcAuley                   113\n",
       "TyroneMings                     109\n",
       "KyleBartley                     105\n",
       "KonstantinosMavropanos          100\n",
       "NathanielClyne                   98\n",
       "JeremyPied                       93\n",
       "KyleWalkerPeters                 91\n",
       "AngelRangelZaragoza              88\n",
       "KonstantinosStafylidis           87\n",
       "PatriceEvra                      87\n",
       "MartinCranie                     84\n",
       "JoshTymon                        78\n",
       "YounesKaboul                     72\n",
       "MattTargett                      71\n",
       "SamByram                         71\n",
       "LiamRosenior                     69\n",
       "ConnorGoldson                    67\n",
       "JoseRamiroFunesMori              49\n",
       "JesusGamezDuarte                 48\n",
       "DamienDelaney                    37\n",
       "YohanBenalouane                  22\n",
       "EthanAmpadu                      18\n",
       "MichaelHefele                    15\n",
       "PapeN'DiayeSouare                 9\n",
       "JackSimpson                       5\n",
       "UweHunemeier                      2\n",
       "MassadioHaidara                   2\n",
       "ReeceOxford                       1\n",
       "Name: playerName, dtype: int64"
      ]
     },
     "execution_count": 8,
     "metadata": {},
     "output_type": "execute_result"
    }
   ],
   "source": [
    "df_events_pass['playerName'].value_counts()"
   ]
  },
  {
   "cell_type": "code",
   "execution_count": 9,
   "metadata": {
    "ExecuteTime": {
     "end_time": "2020-07-06T08:49:06.146902Z",
     "start_time": "2020-07-06T08:49:06.074648Z"
    }
   },
   "outputs": [],
   "source": [
    "league_pass_info['totalaccuratepasses']=len(df_events_pass[df_events_pass['tags'].apply(lambda x: \"Accurate\" in x)])"
   ]
  },
  {
   "cell_type": "code",
   "execution_count": 10,
   "metadata": {
    "ExecuteTime": {
     "end_time": "2020-07-06T08:49:11.087872Z",
     "start_time": "2020-07-06T08:49:11.079847Z"
    }
   },
   "outputs": [
    {
     "data": {
      "text/plain": [
       "{'totalpasses': 130322, 'totalaccuratepasses': 112061}"
      ]
     },
     "execution_count": 10,
     "metadata": {},
     "output_type": "execute_result"
    }
   ],
   "source": [
    "league_pass_info"
   ]
  },
  {
   "cell_type": "markdown",
   "metadata": {},
   "source": [
    "**Creating clusters for footedness patterns**"
   ]
  },
  {
   "cell_type": "code",
   "execution_count": 11,
   "metadata": {
    "ExecuteTime": {
     "end_time": "2020-07-06T08:49:15.797066Z",
     "start_time": "2020-07-06T08:49:15.789076Z"
    }
   },
   "outputs": [
    {
     "data": {
      "text/plain": [
       "array(['right-right-right-left', 'right-right-left-left',\n",
       "       'right-right-left', 'right-right-right', 'right-left-left',\n",
       "       'right-right-right-left-left', 'right-right-left-right',\n",
       "       'right-right-right-right', 'right-right-right-right-left',\n",
       "       'right-left-right', 'right-right-right-left-right',\n",
       "       'right-right-left-left-left', 'right-left-left-left'], dtype=object)"
      ]
     },
     "execution_count": 11,
     "metadata": {},
     "output_type": "execute_result"
    }
   ],
   "source": [
    "footedness_patterns"
   ]
  },
  {
   "cell_type": "code",
   "execution_count": 12,
   "metadata": {
    "ExecuteTime": {
     "end_time": "2020-07-06T08:49:20.690181Z",
     "start_time": "2020-07-06T08:49:20.670206Z"
    }
   },
   "outputs": [],
   "source": [
    "df_rrrl = df_defence_footed.loc[df_defence_footed['footedness']=='right-right-right-left']\n",
    "df_rrll = df_defence_footed.loc[df_defence_footed['footedness']=='right-right-left-left']\n",
    "df_rrl = df_defence_footed.loc[df_defence_footed['footedness']=='right-right-left']\n",
    "df_rrr = df_defence_footed.loc[df_defence_footed['footedness']=='right-right-right']\n",
    "df_rll = df_defence_footed.loc[df_defence_footed['footedness']=='right-left-left']\n",
    "df_rrrll = df_defence_footed.loc[df_defence_footed['footedness']=='right-right-right-left-left']\n",
    "df_rrlr = df_defence_footed.loc[df_defence_footed['footedness']=='right-right-left-right']\n",
    "df_rrrr = df_defence_footed.loc[df_defence_footed['footedness']=='right-right-right-right']\n",
    "df_rrrrl = df_defence_footed.loc[df_defence_footed['footedness']=='right-right-right-right-left']\n",
    "df_rlr = df_defence_footed.loc[df_defence_footed['footedness']=='right-left-right']\n",
    "df_rrrlr = df_defence_footed.loc[df_defence_footed['footedness']=='right-right-right-left-right']\n",
    "df_rrlll = df_defence_footed.loc[df_defence_footed['footedness']=='right-right-left-left-left']\n",
    "df_rlll = df_defence_footed.loc[df_defence_footed['footedness']=='right-left-left-left']"
   ]
  },
  {
   "cell_type": "code",
   "execution_count": 13,
   "metadata": {
    "ExecuteTime": {
     "end_time": "2020-07-06T08:49:30.437036Z",
     "start_time": "2020-07-06T08:49:30.429013Z"
    }
   },
   "outputs": [],
   "source": [
    "df_clusters = [df_rrrl,df_rrll,df_rrl,df_rrr,df_rll,df_rrrll,df_rrlr,df_rrrr,df_rrrrl,df_rlr,df_rrrlr,df_rrlll,df_rlll]"
   ]
  },
  {
   "cell_type": "markdown",
   "metadata": {},
   "source": [
    "**Populating metrics for players in each match per cluster**"
   ]
  },
  {
   "cell_type": "code",
   "execution_count": 123,
   "metadata": {},
   "outputs": [],
   "source": [
    "# def fuzzycheck(a,y):\n",
    "#     split_y = re.findall('[A-Z][^A-Z]*',y)\n",
    "#     try:\n",
    "#         match_1 = SequenceMatcher(None,a,split_y[-1]).ratio()\n",
    "#         match_2 = SequenceMatcher(None,a,split_y[-2]).ratio()\n",
    "#         if np.mean(match_1,match_2)>=0.37:\n",
    "#             return True\n",
    "#         else:\n",
    "#             return False\n",
    "#     except:\n",
    "#         match_1 = SequenceMatcher(None,a,split_y[-1]).ratio()\n",
    "#         if match_1>=0.39:\n",
    "#             return True\n",
    "#         else:\n",
    "#             return False\n",
    "\n",
    "\n",
    "# def getpass(x,y):\n",
    "#     pass_df = df_events_pass.loc[(df_events_pass['playerName'].apply(lambda a: fuzzycheck(a,y))) &\n",
    "#                                  (df_events_pass['matchId']==int(x))]\n",
    "#     numpasses = len(pass_df)\n",
    "#     print(y)\n",
    "#     return numpasses\n",
    "\n",
    "# def getaccpass(x,y):\n",
    "#     pass_df = df_events_pass.loc[(df_events_pass['playerName'].apply(lambda a: fuzzycheck(a,y))) &\n",
    "#                                  (df_events_pass['matchId']==int(x))]\n",
    "#     numaccpasses = len(pass_df.loc[pass_df['tags'].apply(lambda a: \"Accurate\" in a)])\n",
    "#     print(y)\n",
    "#     return numaccpasses\n",
    "\n",
    "# def getaccpasslocs(x,y):\n",
    "#     pass_df = df_events_pass.loc[(df_events_pass['playerName'].apply(lambda a: fuzzycheck(a,y))) &\n",
    "#                                  (df_events_pass['matchId']==int(x))]\n",
    "#     accpasslocs = pass_df.loc[pass_df['tags'].apply(lambda a: \"Accurate\" in a)]['positions'].tolist()\n",
    "#     print(y)\n",
    "#     return accpasslocs\n",
    "\n",
    "# def getinaccpasslocs(x,y):\n",
    "#     pass_df = df_events_pass.loc[(df_events_pass['playerName'].apply(lambda a: fuzzycheck(a,y))) &\n",
    "#                                  (df_events_pass['matchId']==int(x))]\n",
    "#     inaccpasslocs = pass_df.loc[pass_df['tags'].apply(lambda a: \"Not accurate\" in a)]['positions'].tolist()\n",
    "#     print(y)\n",
    "#     return inaccpasslocs\n",
    "\n"
   ]
  },
  {
   "cell_type": "code",
   "execution_count": 14,
   "metadata": {
    "ExecuteTime": {
     "end_time": "2020-07-06T08:49:44.627181Z",
     "start_time": "2020-07-06T08:49:44.584993Z"
    }
   },
   "outputs": [],
   "source": [
    "player_map = {  'RamiroFunesMori': 'JoseRamiroFunesMori',\n",
    "                'KurtZouma': 'KurtHappyZouma',\n",
    "                'Danilo': 'DaniloLuizdaSilva',\n",
    "                'CesarAzpilicueta': 'CesarAzpilicuetaTanco',\n",
    "                'EzequielSchelotto': 'MatiasEzequielSchelotto',\n",
    "                'GaetanBong': 'GaetanBongSongo',\n",
    "                'HectorBellerin': 'HectorBellerinMoruno',\n",
    "                'AhmedHegazi': 'AhmedHegazy',\n",
    "                'JamaalLascelles': 'JamalLascelles',\n",
    "                'AngelRangel': 'AngelRangelZaragoza',\n",
    "                'Zanka': 'MathiasJattahNjieJorgensen',\n",
    "                'ChrisLwe': 'ChrisLowe',\n",
    "                'EricBailly': 'EricBertrandBailly',\n",
    "                'MarcosRojo': 'FaustinoMarcosAlbertoRojo',\n",
    "                'CdricSoares': 'CedricRicardoAlvesSoares',\n",
    "                'AngeloOgbonna': 'AngeloObinzeOgbonna',\n",
    "                'HctorBellern': 'HectorBellerinMoruno',\n",
    "                'DavinsonSanchez': 'DavinsonSanchezMina',\n",
    "                'JavierManquillo': 'JavierManquilloGaitan',\n",
    "                'TommySmith': 'TomSmith',\n",
    "                'Bruno': 'BrunoSaltorGrau',\n",
    "                'GatanBong': 'GaetanBongSongo',\n",
    "                'NicolsOtamendi': 'NicolasHernanOtamendi',\n",
    "                'CsarAzpilicueta': 'CesarAzpilicuetaTanco',\n",
    "                'AntonioRdiger': 'AntonioRudiger',\n",
    "                'JosHolebas': 'JoseHolebas',\n",
    "                'SamusColeman': 'SeamusColeman',\n",
    "                'AllanRomoNyom': 'AllanRomeoNyom',\n",
    "                'NathanAk': 'NathanAke',\n",
    "                'JosephGomez': 'JoeGomez',\n",
    "                'AlbertoMoreno':'AlbertoMorenoPerez',\n",
    "                'LuisAntonioValencia':'LuisAntonioValenciaMosquera',\n",
    "                'VictorLindelf':'VictorNilssonLindelof',\n",
    "                'DavinsonSnchez':'DavinsonSanchezMina',\n",
    "                'NicolasOtamendi':'NicolasHernanOtamendi',\n",
    "                'NachoMonreal':'IgnacioMonrealEraso',\n",
    "                'FedericoFernndez':'FedericoFernandez',\n",
    "                'SebastianPrdl':'SebastianProdl',\n",
    "                'CedricSoares':'CedricRicardoAlvesSoares',\n",
    "                'JoelMatip':'JoelAndreJobMatip',\n",
    "                'MiguelBritos':'MiguelAngelBritosCabrera',\n",
    "                'VictorLindelof':'VictorNilssonLindelof',\n",
    "                'JamesCollins':'JamesMichaelCollins',\n",
    "                'CucoMartina':'RhuendlyMartina',\n",
    "                'DavidLuiz':'DavidLuizMoreiraMarinho',\n",
    "                'MollaWagu':'MollaWague',\n",
    "                'JrmyPied':'JeremyPied',\n",
    "                'ChancelMbemba':'ChancelMbembaMangulu',\n",
    "                'PabloZabaleta':'PabloJavierZabaletaGirod',\n",
    "                'KikoFemenia':'FranciscoFemeniaFar',\n",
    "                'CheikhouKouyat':'CheikhouKouyate',\n",
    "                'KikoFemena':'FranciscoFemeniaFar',\n",
    "                'JoseFonte':'JoseMigueldaRochaFonte',\n",
    "                'JosFonte':'JoseMigueldaRochaFonte',\n",
    "                'JesusGamez':'JesusGamezDuarte'}\n"
   ]
  },
  {
   "cell_type": "code",
   "execution_count": 15,
   "metadata": {
    "ExecuteTime": {
     "end_time": "2020-07-06T08:50:17.728154Z",
     "start_time": "2020-07-06T08:50:17.716143Z"
    }
   },
   "outputs": [],
   "source": [
    "def getmetrics(x,y):\n",
    "    try:\n",
    "        y = player_map[y]\n",
    "    except:\n",
    "        pass\n",
    "    split_y = re.findall('[A-Z][^A-Z]*',y)\n",
    "    try:\n",
    "        pass_df = df_events_pass.loc[(df_events_pass['playerName'].str.contains(split_y[-1]))&\n",
    "                                 (df_events_pass['playerName'].str.contains(split_y[-2]))&\n",
    "                                 (df_events_pass['matchId']==int(x))]\n",
    "    except:\n",
    "        pass_df = df_events_pass.loc[(df_events_pass['playerName'].str.contains(split_y[-1]))&\n",
    "                                 (df_events_pass['matchId']==int(x))]\n",
    "    numpasses = len(pass_df)\n",
    "    numaccpasses = len(pass_df.loc[pass_df['tags'].apply(lambda a: \"Accurate\" in a)])\n",
    "    numhighpasses = len(pass_df.loc[pass_df['subEventName']=='High pass'])\n",
    "    numhighaccpasses = len(pass_df.loc[(pass_df['subEventName']=='High pass') & (pass_df['tags'].apply(lambda a: \"Accurate\" in a))])\n",
    "    accpasslocs = pass_df.loc[pass_df['tags'].apply(lambda a: \"Accurate\" in a)]['positions'].tolist()\n",
    "    inaccpasslocs = pass_df.loc[pass_df['tags'].apply(lambda a: \"Not accurate\" in a)]['positions'].tolist()\n",
    "    acchighpasslocs = pass_df.loc[(pass_df['subEventName']=='High pass') & (pass_df['tags'].apply(lambda a: \"Accurate\" in a))]['positions'].tolist()\n",
    "    inacchighpasslocs = pass_df.loc[(pass_df['subEventName']=='High pass') & (pass_df['tags'].apply(lambda a: \"Not accurate\" in a))]['positions'].tolist()\n",
    "    return [numpasses,numaccpasses,numhighpasses,numhighaccpasses,accpasslocs,inaccpasslocs,acchighpasslocs,inacchighpasslocs]\n"
   ]
  },
  {
   "cell_type": "code",
   "execution_count": 16,
   "metadata": {
    "ExecuteTime": {
     "end_time": "2020-07-06T08:50:32.450911Z",
     "start_time": "2020-07-06T08:50:32.255205Z"
    }
   },
   "outputs": [
    {
     "data": {
      "text/plain": [
       "[27,\n",
       " 22,\n",
       " 5,\n",
       " 3,\n",
       " [[[30.16, 5.44], [26.0, 15.64]],\n",
       "  [[33.28, 12.92], [29.12, 29.92]],\n",
       "  [[32.24, 4.76], [37.44, 14.96]],\n",
       "  [[75.92, 4.76], [83.2, 4.76]],\n",
       "  [[69.68, 11.56], [78.0, 10.88]],\n",
       "  [[32.24, 4.76], [36.4, 17.0]],\n",
       "  [[78.0, 6.12], [71.76, 8.16]],\n",
       "  [[32.24, 23.12], [26.0, 29.92]],\n",
       "  [[47.84, 27.88], [28.08, 34.68]],\n",
       "  [[4.16, 6.12], [16.64, 4.08]],\n",
       "  [[71.76, 6.12], [74.88, 9.52]],\n",
       "  [[39.52, 16.32], [23.92, 32.64]],\n",
       "  [[43.68, 12.92], [30.16, 34.0]],\n",
       "  [[35.36, 10.88], [29.12, 27.88]],\n",
       "  [[46.8, 28.56], [93.6, 51.68]],\n",
       "  [[9.36, 18.36], [10.4, 23.12]],\n",
       "  [[63.44, 7.48], [65.52, 2.72]],\n",
       "  [[64.48, 2.04], [58.24, 28.56]],\n",
       "  [[17.68, 1.36], [43.68, 1.36]],\n",
       "  [[31.2, 12.92], [34.32, 3.4]],\n",
       "  [[58.24, 7.48], [30.16, 24.48]],\n",
       "  [[36.4, 7.48], [60.32, 18.36]]],\n",
       " [[[32.24, 3.4], [53.04, 33.32]],\n",
       "  [[20.8, 20.4], [40.56, 8.84]],\n",
       "  [[17.68, 5.44], [59.28, 6.8]],\n",
       "  [[87.36, 4.76], [76.96, 46.92]],\n",
       "  [[36.4, 1.36], [60.32, 16.32]]],\n",
       " [[[46.8, 28.56], [93.6, 51.68]],\n",
       "  [[17.68, 1.36], [43.68, 1.36]],\n",
       "  [[36.4, 7.48], [60.32, 18.36]]],\n",
       " [[[32.24, 3.4], [53.04, 33.32]], [[17.68, 5.44], [59.28, 6.8]]]]"
      ]
     },
     "execution_count": 16,
     "metadata": {},
     "output_type": "execute_result"
    }
   ],
   "source": [
    "getmetrics(2500081,\"Bruno\")"
   ]
  },
  {
   "cell_type": "code",
   "execution_count": 17,
   "metadata": {
    "ExecuteTime": {
     "end_time": "2020-07-06T08:50:47.209764Z",
     "start_time": "2020-07-06T08:50:47.205770Z"
    }
   },
   "outputs": [],
   "source": [
    "new_cols = ['RB_all',\n",
    "            'R_CB_all',\n",
    "            'L_CB_all',\n",
    "            'LB_all',\n",
    "            'RCB_all',\n",
    "            'CB_all',\n",
    "            'LCB_all',\n",
    "            'RWB_all',\n",
    "            'LWB_all']"
   ]
  },
  {
   "cell_type": "code",
   "execution_count": 18,
   "metadata": {
    "ExecuteTime": {
     "end_time": "2020-07-06T08:58:24.253711Z",
     "start_time": "2020-07-06T08:51:03.199488Z"
    }
   },
   "outputs": [
    {
     "name": "stderr",
     "output_type": "stream",
     "text": [
      " 15%|████████████▌                                                                     | 2/13 [04:48<29:49, 162.67s/it]"
     ]
    },
    {
     "name": "stdout",
     "output_type": "stream",
     "text": [
      "hi\n"
     ]
    },
    {
     "name": "stderr",
     "output_type": "stream",
     "text": [
      "\r",
      " 23%|██████████████████▉                                                               | 3/13 [05:21<20:36, 123.66s/it]"
     ]
    },
    {
     "name": "stdout",
     "output_type": "stream",
     "text": [
      "hi\n"
     ]
    },
    {
     "name": "stderr",
     "output_type": "stream",
     "text": [
      "\r",
      " 31%|█████████████████████████▌                                                         | 4/13 [05:59<14:42, 98.02s/it]"
     ]
    },
    {
     "name": "stdout",
     "output_type": "stream",
     "text": [
      "hi\n"
     ]
    },
    {
     "name": "stderr",
     "output_type": "stream",
     "text": [
      "\r",
      " 38%|███████████████████████████████▉                                                   | 5/13 [06:11<09:37, 72.16s/it]"
     ]
    },
    {
     "name": "stdout",
     "output_type": "stream",
     "text": [
      "hi\n"
     ]
    },
    {
     "name": "stderr",
     "output_type": "stream",
     "text": [
      " 62%|███████████████████████████████████████████████████                                | 8/13 [07:04<03:11, 38.30s/it]"
     ]
    },
    {
     "name": "stdout",
     "output_type": "stream",
     "text": [
      "hi\n"
     ]
    },
    {
     "name": "stderr",
     "output_type": "stream",
     "text": [
      "\r",
      " 69%|█████████████████████████████████████████████████████████▍                         | 9/13 [07:16<02:00, 30.21s/it]"
     ]
    },
    {
     "name": "stdout",
     "output_type": "stream",
     "text": [
      "hi\n"
     ]
    },
    {
     "name": "stderr",
     "output_type": "stream",
     "text": [
      "\r",
      " 77%|███████████████████████████████████████████████████████████████                   | 10/13 [07:18<01:05, 21.73s/it]"
     ]
    },
    {
     "name": "stdout",
     "output_type": "stream",
     "text": [
      "hi\n"
     ]
    },
    {
     "name": "stderr",
     "output_type": "stream",
     "text": [
      "\r",
      " 85%|█████████████████████████████████████████████████████████████████████▍            | 11/13 [07:18<00:30, 15.45s/it]"
     ]
    },
    {
     "name": "stdout",
     "output_type": "stream",
     "text": [
      "hi\n"
     ]
    },
    {
     "name": "stderr",
     "output_type": "stream",
     "text": [
      "100%|██████████████████████████████████████████████████████████████████████████████████| 13/13 [07:21<00:00, 33.93s/it]\n"
     ]
    }
   ],
   "source": [
    "#R_CB - Right center back for 4 defender formation\n",
    "#RCB - Right center back for 3 or 5 defender formation\n",
    "#L_CB - Left center back for 4 defender formation\n",
    "#LCB - Left center back for 3 or 5 defender formation\n",
    "df_clusters_updated = list()\n",
    "for df in tqdm(df_clusters):\n",
    "    df = df.reindex(columns = df.columns.tolist() + new_cols)\n",
    "    if df.iloc[0]['backline'] == 4.0:     \n",
    "        df['RB_all'] = df.apply(lambda x: getmetrics(x.wyId,x.RB), axis=1)\n",
    "        df['R_CB_all'] = df.apply(lambda x: getmetrics(x.wyId,x['R-CB']), axis=1)\n",
    "        df['L_CB_all'] = df.apply(lambda x: getmetrics(x.wyId,x['L-CB']), axis=1)\n",
    "        df['LB_all'] = df.apply(lambda x: getmetrics(x.wyId,x.LB), axis=1)\n",
    "        df_clusters_updated.append(df)\n",
    "    \n",
    "    elif df.iloc[0]['backline'] == 3.0:\n",
    "        print(\"hi\")\n",
    "        df['RCB_all'] = df.apply(lambda x: getmetrics(x.wyId,x.RCB), axis=1)\n",
    "        df['CB_all'] = df.apply(lambda x: getmetrics(x.wyId,x.CB), axis=1)\n",
    "        df['LCB_all'] = df.apply(lambda x: getmetrics(x.wyId,x.LCB), axis=1)\n",
    "        df_clusters_updated.append(df)\n",
    "        \n",
    "    elif df.iloc[0]['backline'] == 5.0:\n",
    "        print(\"hi\")\n",
    "        df['RWB_all'] = df.apply(lambda x: getmetrics(x.wyId,x.RWB), axis=1)\n",
    "        df['RCB_all'] = df.apply(lambda x: getmetrics(x.wyId,x.RCB), axis=1)\n",
    "        df['CB_all'] = df.apply(lambda x: getmetrics(x.wyId,x.CB), axis=1)\n",
    "        df['LCB_all'] = df.apply(lambda x: getmetrics(x.wyId,x.LCB), axis=1)\n",
    "        df['LWB_all'] = df.apply(lambda x: getmetrics(x.wyId,x.LWB), axis=1)\n",
    "        df_clusters_updated.append(df)"
   ]
  },
  {
   "cell_type": "code",
   "execution_count": null,
   "metadata": {},
   "outputs": [],
   "source": [
    "df_clusters = [df_rrrl,df_rrll,df_rrl,df_rrr,df_rll,df_rrrll,df_rrlr,df_rrrr,df_rrrrl,df_rlr,df_rrrlr,df_rrlll,df_rlll]"
   ]
  },
  {
   "cell_type": "code",
   "execution_count": 215,
   "metadata": {},
   "outputs": [
    {
     "data": {
      "text/html": [
       "<div>\n",
       "<style scoped>\n",
       "    .dataframe tbody tr th:only-of-type {\n",
       "        vertical-align: middle;\n",
       "    }\n",
       "\n",
       "    .dataframe tbody tr th {\n",
       "        vertical-align: top;\n",
       "    }\n",
       "\n",
       "    .dataframe thead th {\n",
       "        text-align: right;\n",
       "    }\n",
       "</style>\n",
       "<table border=\"1\" class=\"dataframe\">\n",
       "  <thead>\n",
       "    <tr style=\"text-align: right;\">\n",
       "      <th></th>\n",
       "      <th>passportArea</th>\n",
       "      <th>weight</th>\n",
       "      <th>firstName</th>\n",
       "      <th>middleName</th>\n",
       "      <th>lastName</th>\n",
       "      <th>currentTeamId</th>\n",
       "      <th>birthDate</th>\n",
       "      <th>height</th>\n",
       "      <th>role</th>\n",
       "      <th>birthArea</th>\n",
       "      <th>wyId</th>\n",
       "      <th>foot</th>\n",
       "      <th>shortName</th>\n",
       "      <th>currentNationalTeamId</th>\n",
       "      <th>playerName</th>\n",
       "    </tr>\n",
       "  </thead>\n",
       "  <tbody>\n",
       "    <tr>\n",
       "      <th>2896</th>\n",
       "      <td>{'name': 'Portugal', 'id': 620, 'alpha3code': ...</td>\n",
       "      <td>84</td>\n",
       "      <td>David Luiz</td>\n",
       "      <td></td>\n",
       "      <td>Moreira Marinho</td>\n",
       "      <td>1610</td>\n",
       "      <td>1987-04-22</td>\n",
       "      <td>189</td>\n",
       "      <td>{'code2': 'DF', 'code3': 'DEF', 'name': 'Defen...</td>\n",
       "      <td>{'name': 'Brazil', 'id': 76, 'alpha3code': 'BR...</td>\n",
       "      <td>7892</td>\n",
       "      <td>right</td>\n",
       "      <td>David Luiz</td>\n",
       "      <td>null</td>\n",
       "      <td>DavidLuizMoreiraMarinho</td>\n",
       "    </tr>\n",
       "  </tbody>\n",
       "</table>\n",
       "</div>"
      ],
      "text/plain": [
       "                                           passportArea  weight   firstName  \\\n",
       "2896  {'name': 'Portugal', 'id': 620, 'alpha3code': ...      84  David Luiz   \n",
       "\n",
       "     middleName         lastName currentTeamId   birthDate  height  \\\n",
       "2896             Moreira Marinho          1610  1987-04-22     189   \n",
       "\n",
       "                                                   role  \\\n",
       "2896  {'code2': 'DF', 'code3': 'DEF', 'name': 'Defen...   \n",
       "\n",
       "                                              birthArea  wyId   foot  \\\n",
       "2896  {'name': 'Brazil', 'id': 76, 'alpha3code': 'BR...  7892  right   \n",
       "\n",
       "       shortName currentNationalTeamId               playerName  \n",
       "2896  David Luiz                  null  DavidLuizMoreiraMarinho  "
      ]
     },
     "execution_count": 215,
     "metadata": {},
     "output_type": "execute_result"
    }
   ],
   "source": [
    "df_players.loc[df_players['playerName'].str.contains(\"DavidLuizMoreiraMarinho\")]"
   ]
  },
  {
   "cell_type": "code",
   "execution_count": 237,
   "metadata": {},
   "outputs": [
    {
     "data": {
      "text/html": [
       "<div>\n",
       "<style scoped>\n",
       "    .dataframe tbody tr th:only-of-type {\n",
       "        vertical-align: middle;\n",
       "    }\n",
       "\n",
       "    .dataframe tbody tr th {\n",
       "        vertical-align: top;\n",
       "    }\n",
       "\n",
       "    .dataframe thead th {\n",
       "        text-align: right;\n",
       "    }\n",
       "</style>\n",
       "<table border=\"1\" class=\"dataframe\">\n",
       "  <thead>\n",
       "    <tr style=\"text-align: right;\">\n",
       "      <th></th>\n",
       "      <th>wyId</th>\n",
       "      <th>team</th>\n",
       "      <th>team_defense</th>\n",
       "      <th>RB</th>\n",
       "      <th>R_CB</th>\n",
       "      <th>L_CB</th>\n",
       "      <th>LB</th>\n",
       "      <th>RCB</th>\n",
       "      <th>CB</th>\n",
       "      <th>LCB</th>\n",
       "      <th>RWB</th>\n",
       "      <th>LWB</th>\n",
       "      <th>backline</th>\n",
       "      <th>match</th>\n",
       "      <th>gameweek</th>\n",
       "      <th>teamsData</th>\n",
       "      <th>dateutc</th>\n",
       "      <th>venue</th>\n",
       "      <th>referees</th>\n",
       "      <th>score</th>\n",
       "      <th>footedness</th>\n",
       "      <th>RB_all</th>\n",
       "      <th>R_CB_all</th>\n",
       "      <th>L_CB_all</th>\n",
       "      <th>LB_all</th>\n",
       "      <th>RCB_all</th>\n",
       "      <th>CB_all</th>\n",
       "      <th>LCB_all</th>\n",
       "      <th>RWB_all</th>\n",
       "      <th>LWB_all</th>\n",
       "    </tr>\n",
       "  </thead>\n",
       "  <tbody>\n",
       "  </tbody>\n",
       "</table>\n",
       "</div>"
      ],
      "text/plain": [
       "Empty DataFrame\n",
       "Columns: [wyId, team, team_defense, RB, R_CB, L_CB, LB, RCB, CB, LCB, RWB, LWB, backline, match, gameweek, teamsData, dateutc, venue, referees, score, footedness, RB_all, R_CB_all, L_CB_all, LB_all, RCB_all, CB_all, LCB_all, RWB_all, LWB_all]\n",
       "Index: []"
      ]
     },
     "execution_count": 237,
     "metadata": {},
     "output_type": "execute_result"
    }
   ],
   "source": [
    "df_clusters_updated[6].loc[df_clusters_updated[6]['RB_all'].apply(lambda p : p[0]==0)]"
   ]
  },
  {
   "cell_type": "code",
   "execution_count": 19,
   "metadata": {
    "ExecuteTime": {
     "end_time": "2020-07-06T08:59:42.898535Z",
     "start_time": "2020-07-06T08:59:42.529365Z"
    }
   },
   "outputs": [
    {
     "name": "stderr",
     "output_type": "stream",
     "text": [
      "100%|██████████████████████████████████████████████████████████████████████████████████| 13/13 [00:00<00:00, 36.60it/s]\n"
     ]
    }
   ],
   "source": [
    "df_clusters_metrics = list()\n",
    "for df in tqdm(df_clusters_updated):\n",
    "    if df.iloc[0]['backline'] == 4.0:\n",
    "        df[['RB_pass','RB_accpass','RB_highpass','RB_acchighpass','RB_accpassloc','RB_inaccpassloc','RB_acchighpassloc','RB_inacchighpassloc']] = pd.DataFrame(df['RB_all'].to_list(), index=df.index)\n",
    "        df[['R_CB_pass','R_CB_accpass','R_CB_highpass','R_CB_acchighpass','R_CB_accpassloc','R_CB_inaccpassloc','R_CB_acchighpassloc','R_CB_inacchighpassloc']] = pd.DataFrame(df['R_CB_all'].to_list(), index=df.index)\n",
    "        df[['L_CB_pass','L_CB_accpass','L_CB_highpass','L_CB_acchighpass','L_CB_accpassloc','L_CB_inaccpassloc','L_CB_acchighpassloc','L_CB_inacchighpassloc']] = pd.DataFrame(df['L_CB_all'].to_list(), index=df.index)\n",
    "        df[['LB_pass','LB_accpass','LB_highpass','LB_acchighpass','LB_accpassloc','LB_inaccpassloc','LB_acchighpassloc','LB_inacchighpassloc']] = pd.DataFrame(df['LB_all'].to_list(), index=df.index)\n",
    "        df.drop(['RB_all','R_CB_all','L_CB_all','LB_all','RCB_all','LCB_all','CB_all','RWB_all','LWB_all'], axis=1, inplace = True)\n",
    "        df_clusters_metrics.append(df)\n",
    "       \n",
    "    elif df.iloc[0]['backline'] == 3.0:\n",
    "        df[['RCB_pass','RCB_accpass','RCB_highpass','RCB_acchighpass','RCB_accpassloc','RCB_inaccpassloc','RCB_acchighpassloc','RCB_inacchighpassloc']] = pd.DataFrame(df['RCB_all'].to_list(), index=df.index)\n",
    "        df[['CB_pass','CB_accpass','CB_highpass','CB_acchighpass','CB_accpassloc','CB_inaccpassloc','CB_acchighpassloc','CB_inacchighpassloc']] = pd.DataFrame(df['CB_all'].to_list(), index=df.index)\n",
    "        df[['LCB_pass','LCB_accpass','LCB_highpass','LCB_acchighpass','LCB_accpassloc','LCB_inaccpassloc','LCB_acchighpassloc','LCB_inacchighpassloc']] = pd.DataFrame(df['LCB_all'].to_list(), index=df.index)\n",
    "        df.drop(['RB_all','R_CB_all','L_CB_all','LB_all','RCB_all','LCB_all','CB_all','RWB_all','LWB_all'], axis=1, inplace = True)\n",
    "        df_clusters_metrics.append(df)\n",
    "       \n",
    "    elif df.iloc[0]['backline'] == 5.0:\n",
    "        df[['RCB_pass','RCB_accpass','RCB_highpass','RCB_acchighpass','RCB_accpassloc','RCB_inaccpassloc','RCB_acchighpassloc','RCB_inacchighpassloc']] = pd.DataFrame(df['RCB_all'].to_list(), index=df.index)\n",
    "        df[['CB_pass','CB_accpass','CB_highpass','CB_acchighpass','CB_accpassloc','CB_inaccpassloc','CB_acchighpassloc','CB_inacchighpassloc']] = pd.DataFrame(df['CB_all'].to_list(), index=df.index)\n",
    "        df[['LCB_pass','LCB_accpass','LCB_highpass','LCB_acchighpass','LCB_accpassloc','LCB_inaccpassloc','LCB_acchighpassloc','LCB_inacchighpassloc']] = pd.DataFrame(df['LCB_all'].to_list(), index=df.index)\n",
    "        df[['RWB_pass','RWB_accpass','RWB_highpass','RWB_acchighpass','RWB_accpassloc','RWB_inaccpassloc','RWB_acchighpassloc','RWB_inacchighpassloc']] = pd.DataFrame(df['RWB_all'].to_list(), index=df.index)\n",
    "        df[['LWB_pass','LWB_accpass','LWB_highpass','LWB_acchighpass','LWB_accpassloc','LWB_inaccpassloc','LWB_acchighpassloc','LWB_inacchighpassloc']] = pd.DataFrame(df['LWB_all'].to_list(), index=df.index)\n",
    "        df.drop(['RB_all','R_CB_all','L_CB_all','LB_all','RCB_all','LCB_all','CB_all','RWB_all','LWB_all'], axis=1, inplace = True)\n",
    "        df_clusters_metrics.append(df)"
   ]
  },
  {
   "cell_type": "code",
   "execution_count": 20,
   "metadata": {
    "ExecuteTime": {
     "end_time": "2020-07-06T09:04:43.197543Z",
     "start_time": "2020-07-06T09:04:41.406842Z"
    }
   },
   "outputs": [],
   "source": [
    "names = ['rrrl','rrll','rrl','rrr','rll','rrrll','rrlr','rrrr','rrrrl','rlr','rrrlr','rrlll','rlll']\n",
    "\n",
    "for i,df in enumerate(df_clusters_metrics):\n",
    "    df.to_pickle(f'C:/Users/Anuj/Desktop/Work/Football/data/clusters/clusters_v3/cluster_{names[i]}.pkl')"
   ]
  },
  {
   "cell_type": "code",
   "execution_count": 250,
   "metadata": {},
   "outputs": [
    {
     "data": {
      "text/html": [
       "<div>\n",
       "<style scoped>\n",
       "    .dataframe tbody tr th:only-of-type {\n",
       "        vertical-align: middle;\n",
       "    }\n",
       "\n",
       "    .dataframe tbody tr th {\n",
       "        vertical-align: top;\n",
       "    }\n",
       "\n",
       "    .dataframe thead th {\n",
       "        text-align: right;\n",
       "    }\n",
       "</style>\n",
       "<table border=\"1\" class=\"dataframe\">\n",
       "  <thead>\n",
       "    <tr style=\"text-align: right;\">\n",
       "      <th></th>\n",
       "      <th>eventId</th>\n",
       "      <th>subEventName</th>\n",
       "      <th>tags</th>\n",
       "      <th>playerId</th>\n",
       "      <th>positions</th>\n",
       "      <th>matchId</th>\n",
       "      <th>eventName</th>\n",
       "      <th>teamId</th>\n",
       "      <th>matchPeriod</th>\n",
       "      <th>eventSec</th>\n",
       "      <th>subEventId</th>\n",
       "      <th>id</th>\n",
       "      <th>wyId</th>\n",
       "      <th>foot</th>\n",
       "      <th>playerName</th>\n",
       "      <th>role</th>\n",
       "    </tr>\n",
       "  </thead>\n",
       "  <tbody>\n",
       "    <tr>\n",
       "      <th>309752</th>\n",
       "      <td>8</td>\n",
       "      <td>Head pass</td>\n",
       "      <td>[Interception, Accurate]</td>\n",
       "      <td>21164</td>\n",
       "      <td>[[93.6, 34.0], [95.68, 17.68]]</td>\n",
       "      <td>2500065</td>\n",
       "      <td>Pass</td>\n",
       "      <td>10531</td>\n",
       "      <td>1H</td>\n",
       "      <td>109.904906</td>\n",
       "      <td>82</td>\n",
       "      <td>245422246</td>\n",
       "      <td>21164.0</td>\n",
       "      <td>right</td>\n",
       "      <td>FedericoFernandez</td>\n",
       "      <td>DEF</td>\n",
       "    </tr>\n",
       "    <tr>\n",
       "      <th>309753</th>\n",
       "      <td>8</td>\n",
       "      <td>High pass</td>\n",
       "      <td>[Accurate]</td>\n",
       "      <td>21164</td>\n",
       "      <td>[[86.32, 32.64], [59.28, 35.36]]</td>\n",
       "      <td>2500065</td>\n",
       "      <td>Pass</td>\n",
       "      <td>10531</td>\n",
       "      <td>1H</td>\n",
       "      <td>358.156361</td>\n",
       "      <td>83</td>\n",
       "      <td>245422308</td>\n",
       "      <td>21164.0</td>\n",
       "      <td>right</td>\n",
       "      <td>FedericoFernandez</td>\n",
       "      <td>DEF</td>\n",
       "    </tr>\n",
       "    <tr>\n",
       "      <th>309754</th>\n",
       "      <td>8</td>\n",
       "      <td>Head pass</td>\n",
       "      <td>[Interception, Not accurate]</td>\n",
       "      <td>21164</td>\n",
       "      <td>[[80.08, 28.56], [81.12, 26.52]]</td>\n",
       "      <td>2500065</td>\n",
       "      <td>Pass</td>\n",
       "      <td>10531</td>\n",
       "      <td>1H</td>\n",
       "      <td>422.402779</td>\n",
       "      <td>82</td>\n",
       "      <td>245422333</td>\n",
       "      <td>21164.0</td>\n",
       "      <td>right</td>\n",
       "      <td>FedericoFernandez</td>\n",
       "      <td>DEF</td>\n",
       "    </tr>\n",
       "    <tr>\n",
       "      <th>309757</th>\n",
       "      <td>8</td>\n",
       "      <td>High pass</td>\n",
       "      <td>[Not accurate]</td>\n",
       "      <td>21164</td>\n",
       "      <td>[[74.88, 32.64], [33.28, 4.76]]</td>\n",
       "      <td>2500065</td>\n",
       "      <td>Pass</td>\n",
       "      <td>10531</td>\n",
       "      <td>1H</td>\n",
       "      <td>739.257750</td>\n",
       "      <td>83</td>\n",
       "      <td>245422436</td>\n",
       "      <td>21164.0</td>\n",
       "      <td>right</td>\n",
       "      <td>FedericoFernandez</td>\n",
       "      <td>DEF</td>\n",
       "    </tr>\n",
       "    <tr>\n",
       "      <th>309759</th>\n",
       "      <td>8</td>\n",
       "      <td>Simple pass</td>\n",
       "      <td>[Accurate]</td>\n",
       "      <td>21164</td>\n",
       "      <td>[[82.16, 37.4], [78.0, 35.36]]</td>\n",
       "      <td>2500065</td>\n",
       "      <td>Pass</td>\n",
       "      <td>10531</td>\n",
       "      <td>1H</td>\n",
       "      <td>2105.179456</td>\n",
       "      <td>85</td>\n",
       "      <td>245422806</td>\n",
       "      <td>21164.0</td>\n",
       "      <td>right</td>\n",
       "      <td>FedericoFernandez</td>\n",
       "      <td>DEF</td>\n",
       "    </tr>\n",
       "    <tr>\n",
       "      <th>309761</th>\n",
       "      <td>8</td>\n",
       "      <td>Simple pass</td>\n",
       "      <td>[Accurate]</td>\n",
       "      <td>21164</td>\n",
       "      <td>[[29.12, 34.0], [31.2, 17.68]]</td>\n",
       "      <td>2500065</td>\n",
       "      <td>Pass</td>\n",
       "      <td>10531</td>\n",
       "      <td>2H</td>\n",
       "      <td>2.450625</td>\n",
       "      <td>85</td>\n",
       "      <td>245423018</td>\n",
       "      <td>21164.0</td>\n",
       "      <td>right</td>\n",
       "      <td>FedericoFernandez</td>\n",
       "      <td>DEF</td>\n",
       "    </tr>\n",
       "    <tr>\n",
       "      <th>309764</th>\n",
       "      <td>8</td>\n",
       "      <td>Simple pass</td>\n",
       "      <td>[Accurate]</td>\n",
       "      <td>21164</td>\n",
       "      <td>[[12.48, 32.64], [12.48, 56.44]]</td>\n",
       "      <td>2500065</td>\n",
       "      <td>Pass</td>\n",
       "      <td>10531</td>\n",
       "      <td>2H</td>\n",
       "      <td>199.976418</td>\n",
       "      <td>85</td>\n",
       "      <td>245423083</td>\n",
       "      <td>21164.0</td>\n",
       "      <td>right</td>\n",
       "      <td>FedericoFernandez</td>\n",
       "      <td>DEF</td>\n",
       "    </tr>\n",
       "  </tbody>\n",
       "</table>\n",
       "</div>"
      ],
      "text/plain": [
       "        eventId subEventName                          tags  playerId  \\\n",
       "309752        8    Head pass      [Interception, Accurate]     21164   \n",
       "309753        8    High pass                    [Accurate]     21164   \n",
       "309754        8    Head pass  [Interception, Not accurate]     21164   \n",
       "309757        8    High pass                [Not accurate]     21164   \n",
       "309759        8  Simple pass                    [Accurate]     21164   \n",
       "309761        8  Simple pass                    [Accurate]     21164   \n",
       "309764        8  Simple pass                    [Accurate]     21164   \n",
       "\n",
       "                               positions  matchId eventName  teamId  \\\n",
       "309752    [[93.6, 34.0], [95.68, 17.68]]  2500065      Pass   10531   \n",
       "309753  [[86.32, 32.64], [59.28, 35.36]]  2500065      Pass   10531   \n",
       "309754  [[80.08, 28.56], [81.12, 26.52]]  2500065      Pass   10531   \n",
       "309757   [[74.88, 32.64], [33.28, 4.76]]  2500065      Pass   10531   \n",
       "309759    [[82.16, 37.4], [78.0, 35.36]]  2500065      Pass   10531   \n",
       "309761    [[29.12, 34.0], [31.2, 17.68]]  2500065      Pass   10531   \n",
       "309764  [[12.48, 32.64], [12.48, 56.44]]  2500065      Pass   10531   \n",
       "\n",
       "       matchPeriod     eventSec subEventId         id     wyId   foot  \\\n",
       "309752          1H   109.904906         82  245422246  21164.0  right   \n",
       "309753          1H   358.156361         83  245422308  21164.0  right   \n",
       "309754          1H   422.402779         82  245422333  21164.0  right   \n",
       "309757          1H   739.257750         83  245422436  21164.0  right   \n",
       "309759          1H  2105.179456         85  245422806  21164.0  right   \n",
       "309761          2H     2.450625         85  245423018  21164.0  right   \n",
       "309764          2H   199.976418         85  245423083  21164.0  right   \n",
       "\n",
       "               playerName role  \n",
       "309752  FedericoFernandez  DEF  \n",
       "309753  FedericoFernandez  DEF  \n",
       "309754  FedericoFernandez  DEF  \n",
       "309757  FedericoFernandez  DEF  \n",
       "309759  FedericoFernandez  DEF  \n",
       "309761  FedericoFernandez  DEF  \n",
       "309764  FedericoFernandez  DEF  "
      ]
     },
     "execution_count": 250,
     "metadata": {},
     "output_type": "execute_result"
    }
   ],
   "source": [
    "df_events_pass.loc[(df_events_pass['matchId']==2500065) & (df_events_pass['playerName'].str.contains('FedericoFernandez'))]"
   ]
  },
  {
   "cell_type": "code",
   "execution_count": null,
   "metadata": {},
   "outputs": [],
   "source": []
  }
 ],
 "metadata": {
  "kernelspec": {
   "display_name": "Python 3",
   "language": "python",
   "name": "python3"
  },
  "language_info": {
   "codemirror_mode": {
    "name": "ipython",
    "version": 3
   },
   "file_extension": ".py",
   "mimetype": "text/x-python",
   "name": "python",
   "nbconvert_exporter": "python",
   "pygments_lexer": "ipython3",
   "version": "3.6.6"
  },
  "toc": {
   "base_numbering": 1,
   "nav_menu": {},
   "number_sections": true,
   "sideBar": true,
   "skip_h1_title": false,
   "title_cell": "Table of Contents",
   "title_sidebar": "Contents",
   "toc_cell": false,
   "toc_position": {},
   "toc_section_display": true,
   "toc_window_display": false
  },
  "varInspector": {
   "cols": {
    "lenName": 16,
    "lenType": 16,
    "lenVar": 40
   },
   "kernels_config": {
    "python": {
     "delete_cmd_postfix": "",
     "delete_cmd_prefix": "del ",
     "library": "var_list.py",
     "varRefreshCmd": "print(var_dic_list())"
    },
    "r": {
     "delete_cmd_postfix": ") ",
     "delete_cmd_prefix": "rm(",
     "library": "var_list.r",
     "varRefreshCmd": "cat(var_dic_list()) "
    }
   },
   "position": {
    "height": "649.383px",
    "left": "1619px",
    "right": "20px",
    "top": "121px",
    "width": "399.867px"
   },
   "types_to_exclude": [
    "module",
    "function",
    "builtin_function_or_method",
    "instance",
    "_Feature"
   ],
   "window_display": true
  }
 },
 "nbformat": 4,
 "nbformat_minor": 4
}
