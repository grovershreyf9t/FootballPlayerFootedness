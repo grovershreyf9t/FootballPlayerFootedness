{
 "cells": [
  {
   "cell_type": "markdown",
   "metadata": {},
   "source": [
    "**3. Calculating metrics for passes**\n",
    "\n",
    "The following tasks are taken into account in this notebook:\n",
    "\n",
    "1. Cluster the defender lineups into sub categories based on the footedness pattern of the defender lineup starting from the right back (RB) position\n",
    "\n",
    "    For example, **right-right-right-left (rrrl)** category indicates that this is a lineup of four defenders where -\n",
    "\n",
    "    **right back (RB) is right footed**\n",
    "\n",
    "    **right center back (RCB) is right footed**\n",
    "\n",
    "    **left center back (LCB) is right footed**\n",
    "\n",
    "    **left back (LB) is left footed**\n",
    "\n",
    "2. Compute multiple passing based attributes for defenders for each match using match lineup data (from **match+def_lineup+footedness_ver2_top5.pkl**) and events data (from **events_com.pkl**)\n",
    "\n",
    "The following are the resulting pickle files:\n",
    "\n",
    "1. Cluster wise files with passing attributes for each defender for each match\n",
    "\n",
    "\n"
   ]
  },
  {
   "cell_type": "code",
   "execution_count": 22,
   "metadata": {
    "ExecuteTime": {
     "end_time": "2020-11-24T17:35:41.729637Z",
     "start_time": "2020-11-24T17:35:41.718676Z"
    }
   },
   "outputs": [],
   "source": [
    "import pandas as pd\n",
    "import numpy as np\n",
    "from unidecode import unidecode\n",
    "from tqdm import tqdm\n",
    "import re\n",
    "from difflib import SequenceMatcher\n",
    "pd.set_option(\"display.max_rows\", 1000)\n",
    "pd.set_option(\"display.max_columns\",1000)"
   ]
  },
  {
   "cell_type": "markdown",
   "metadata": {},
   "source": [
    "**Loading pickle file with Top 5 Leagues 2017-18 events data (along with player roles i.e. whether the player is a goalkeeper (GKP), defender (DEF), midfielder (MID) or forward (FWD))**"
   ]
  },
  {
   "cell_type": "code",
   "execution_count": 24,
   "metadata": {
    "ExecuteTime": {
     "end_time": "2020-11-24T17:36:53.389301Z",
     "start_time": "2020-11-24T17:36:36.458062Z"
    }
   },
   "outputs": [],
   "source": [
    "df_events_roles = pd.read_pickle(\"D:/Storage/Datasets/data/events/events_com.pkl\")"
   ]
  },
  {
   "cell_type": "markdown",
   "metadata": {},
   "source": [
    "**Loading the pickle file with defence lineup information for each team participating in a particular match.**"
   ]
  },
  {
   "cell_type": "code",
   "execution_count": 23,
   "metadata": {
    "ExecuteTime": {
     "end_time": "2020-11-24T17:36:16.565732Z",
     "start_time": "2020-11-24T17:36:16.388073Z"
    }
   },
   "outputs": [],
   "source": [
    "df_defence_footed = pd.read_pickle(\"D:/Storage/Datasets/data/matches/match+def_lineup+footedness_ver2_top5.pkl\")"
   ]
  },
  {
   "cell_type": "markdown",
   "metadata": {},
   "source": [
    "**Observing the unique footedness categories in the dataframe**"
   ]
  },
  {
   "cell_type": "code",
   "execution_count": 25,
   "metadata": {
    "ExecuteTime": {
     "end_time": "2020-11-24T17:36:54.753036Z",
     "start_time": "2020-11-24T17:36:54.744068Z"
    }
   },
   "outputs": [],
   "source": [
    "footedness_patterns = df_defence_footed[\"footedness\"].unique()"
   ]
  },
  {
   "cell_type": "markdown",
   "metadata": {},
   "source": [
    "**Renaming certain positional columns for better understanding**"
   ]
  },
  {
   "cell_type": "code",
   "execution_count": 26,
   "metadata": {
    "ExecuteTime": {
     "end_time": "2020-11-24T17:36:56.199123Z",
     "start_time": "2020-11-24T17:36:56.188099Z"
    }
   },
   "outputs": [],
   "source": [
    "df_defence_footed.rename(columns={'R-CB':'R_CB',\"L-CB\":'L_CB'},inplace=True)"
   ]
  },
  {
   "cell_type": "code",
   "execution_count": 27,
   "metadata": {
    "ExecuteTime": {
     "end_time": "2020-11-24T17:36:56.603255Z",
     "start_time": "2020-11-24T17:36:56.562327Z"
    }
   },
   "outputs": [
    {
     "data": {
      "text/html": [
       "<div>\n",
       "<style scoped>\n",
       "    .dataframe tbody tr th:only-of-type {\n",
       "        vertical-align: middle;\n",
       "    }\n",
       "\n",
       "    .dataframe tbody tr th {\n",
       "        vertical-align: top;\n",
       "    }\n",
       "\n",
       "    .dataframe thead th {\n",
       "        text-align: right;\n",
       "    }\n",
       "</style>\n",
       "<table border=\"1\" class=\"dataframe\">\n",
       "  <thead>\n",
       "    <tr style=\"text-align: right;\">\n",
       "      <th></th>\n",
       "      <th>eventId</th>\n",
       "      <th>subEventName</th>\n",
       "      <th>tags</th>\n",
       "      <th>playerId</th>\n",
       "      <th>positions</th>\n",
       "      <th>matchId</th>\n",
       "      <th>eventName</th>\n",
       "      <th>teamId</th>\n",
       "      <th>matchPeriod</th>\n",
       "      <th>eventSec</th>\n",
       "      <th>subEventId</th>\n",
       "      <th>id</th>\n",
       "      <th>wyId</th>\n",
       "      <th>foot</th>\n",
       "      <th>playerName</th>\n",
       "      <th>role</th>\n",
       "    </tr>\n",
       "  </thead>\n",
       "  <tbody>\n",
       "    <tr>\n",
       "      <th>0</th>\n",
       "      <td>8</td>\n",
       "      <td>Simple pass</td>\n",
       "      <td>[Accurate]</td>\n",
       "      <td>3542</td>\n",
       "      <td>[[38.48, 26.52], [52.0, 34.0]]</td>\n",
       "      <td>2565548</td>\n",
       "      <td>Pass</td>\n",
       "      <td>682</td>\n",
       "      <td>1H</td>\n",
       "      <td>2.994582</td>\n",
       "      <td>85</td>\n",
       "      <td>180864419</td>\n",
       "      <td>3542.0</td>\n",
       "      <td>right</td>\n",
       "      <td>ManuelTriguerosMunoz</td>\n",
       "      <td>MID</td>\n",
       "    </tr>\n",
       "    <tr>\n",
       "      <th>1</th>\n",
       "      <td>1</td>\n",
       "      <td>Ground defending duel</td>\n",
       "      <td>[Lost, Not accurate]</td>\n",
       "      <td>3542</td>\n",
       "      <td>[[92.56, 1.36], [59.28, 8.16]]</td>\n",
       "      <td>2565548</td>\n",
       "      <td>Duel</td>\n",
       "      <td>682</td>\n",
       "      <td>1H</td>\n",
       "      <td>49.526601</td>\n",
       "      <td>12</td>\n",
       "      <td>180864433</td>\n",
       "      <td>3542.0</td>\n",
       "      <td>right</td>\n",
       "      <td>ManuelTriguerosMunoz</td>\n",
       "      <td>MID</td>\n",
       "    </tr>\n",
       "    <tr>\n",
       "      <th>2</th>\n",
       "      <td>8</td>\n",
       "      <td>Simple pass</td>\n",
       "      <td>[Accurate]</td>\n",
       "      <td>3542</td>\n",
       "      <td>[[40.56, 35.36], [27.04, 23.8]]</td>\n",
       "      <td>2565548</td>\n",
       "      <td>Pass</td>\n",
       "      <td>682</td>\n",
       "      <td>1H</td>\n",
       "      <td>166.859710</td>\n",
       "      <td>85</td>\n",
       "      <td>180864446</td>\n",
       "      <td>3542.0</td>\n",
       "      <td>right</td>\n",
       "      <td>ManuelTriguerosMunoz</td>\n",
       "      <td>MID</td>\n",
       "    </tr>\n",
       "    <tr>\n",
       "      <th>3</th>\n",
       "      <td>8</td>\n",
       "      <td>High pass</td>\n",
       "      <td>[Through, Not accurate]</td>\n",
       "      <td>3542</td>\n",
       "      <td>[[33.28, 22.44], [76.96, 39.44]]</td>\n",
       "      <td>2565548</td>\n",
       "      <td>Pass</td>\n",
       "      <td>682</td>\n",
       "      <td>1H</td>\n",
       "      <td>181.665639</td>\n",
       "      <td>83</td>\n",
       "      <td>180864450</td>\n",
       "      <td>3542.0</td>\n",
       "      <td>right</td>\n",
       "      <td>ManuelTriguerosMunoz</td>\n",
       "      <td>MID</td>\n",
       "    </tr>\n",
       "    <tr>\n",
       "      <th>4</th>\n",
       "      <td>8</td>\n",
       "      <td>Simple pass</td>\n",
       "      <td>[Accurate]</td>\n",
       "      <td>3542</td>\n",
       "      <td>[[36.4, 27.2], [43.68, 2.04]]</td>\n",
       "      <td>2565548</td>\n",
       "      <td>Pass</td>\n",
       "      <td>682</td>\n",
       "      <td>1H</td>\n",
       "      <td>213.736626</td>\n",
       "      <td>85</td>\n",
       "      <td>180864454</td>\n",
       "      <td>3542.0</td>\n",
       "      <td>right</td>\n",
       "      <td>ManuelTriguerosMunoz</td>\n",
       "      <td>MID</td>\n",
       "    </tr>\n",
       "  </tbody>\n",
       "</table>\n",
       "</div>"
      ],
      "text/plain": [
       "   eventId           subEventName                     tags  playerId  \\\n",
       "0        8            Simple pass               [Accurate]      3542   \n",
       "1        1  Ground defending duel     [Lost, Not accurate]      3542   \n",
       "2        8            Simple pass               [Accurate]      3542   \n",
       "3        8              High pass  [Through, Not accurate]      3542   \n",
       "4        8            Simple pass               [Accurate]      3542   \n",
       "\n",
       "                          positions  matchId eventName  teamId matchPeriod  \\\n",
       "0    [[38.48, 26.52], [52.0, 34.0]]  2565548      Pass     682          1H   \n",
       "1    [[92.56, 1.36], [59.28, 8.16]]  2565548      Duel     682          1H   \n",
       "2   [[40.56, 35.36], [27.04, 23.8]]  2565548      Pass     682          1H   \n",
       "3  [[33.28, 22.44], [76.96, 39.44]]  2565548      Pass     682          1H   \n",
       "4     [[36.4, 27.2], [43.68, 2.04]]  2565548      Pass     682          1H   \n",
       "\n",
       "     eventSec subEventId         id    wyId   foot            playerName role  \n",
       "0    2.994582         85  180864419  3542.0  right  ManuelTriguerosMunoz  MID  \n",
       "1   49.526601         12  180864433  3542.0  right  ManuelTriguerosMunoz  MID  \n",
       "2  166.859710         85  180864446  3542.0  right  ManuelTriguerosMunoz  MID  \n",
       "3  181.665639         83  180864450  3542.0  right  ManuelTriguerosMunoz  MID  \n",
       "4  213.736626         85  180864454  3542.0  right  ManuelTriguerosMunoz  MID  "
      ]
     },
     "execution_count": 27,
     "metadata": {},
     "output_type": "execute_result"
    }
   ],
   "source": [
    "df_events_roles.head()"
   ]
  },
  {
   "cell_type": "markdown",
   "metadata": {},
   "source": [
    "**Filtering out pass data for defenders and finding league wise total passes and total accurate passes for defenders**"
   ]
  },
  {
   "cell_type": "code",
   "execution_count": 28,
   "metadata": {
    "ExecuteTime": {
     "end_time": "2020-11-24T17:37:01.365427Z",
     "start_time": "2020-11-24T17:36:58.535973Z"
    }
   },
   "outputs": [],
   "source": [
    "df_events_pass = df_events_roles.loc[df_events_roles['eventName'].str.contains('Pass')].loc[df_events_roles['role']=='DEF']"
   ]
  },
  {
   "cell_type": "code",
   "execution_count": 29,
   "metadata": {
    "ExecuteTime": {
     "end_time": "2020-11-24T17:37:01.373371Z",
     "start_time": "2020-11-24T17:37:01.368384Z"
    }
   },
   "outputs": [],
   "source": [
    "league_pass_info = dict()\n",
    "league_pass_info['totalpasses'] = len(df_events_pass)"
   ]
  },
  {
   "cell_type": "code",
   "execution_count": 30,
   "metadata": {
    "ExecuteTime": {
     "end_time": "2020-11-24T17:37:02.908087Z",
     "start_time": "2020-11-24T17:37:02.905095Z"
    }
   },
   "outputs": [],
   "source": [
    "# df_events_pass['playerName'].value_counts()"
   ]
  },
  {
   "cell_type": "code",
   "execution_count": 31,
   "metadata": {
    "ExecuteTime": {
     "end_time": "2020-11-24T17:37:04.252073Z",
     "start_time": "2020-11-24T17:37:03.773498Z"
    }
   },
   "outputs": [],
   "source": [
    "league_pass_info['totalaccuratepasses']=len(df_events_pass[df_events_pass['tags'].apply(lambda x: \"Accurate\" in x)])"
   ]
  },
  {
   "cell_type": "code",
   "execution_count": 32,
   "metadata": {
    "ExecuteTime": {
     "end_time": "2020-11-24T17:37:05.196902Z",
     "start_time": "2020-11-24T17:37:05.184939Z"
    }
   },
   "outputs": [
    {
     "data": {
      "text/plain": [
       "{'totalpasses': 660055, 'totalaccuratepasses': 552506}"
      ]
     },
     "execution_count": 32,
     "metadata": {},
     "output_type": "execute_result"
    }
   ],
   "source": [
    "league_pass_info"
   ]
  },
  {
   "cell_type": "markdown",
   "metadata": {},
   "source": [
    "**Creating seperate dataframes for each defensive lineup based for preferred foot of each defender**"
   ]
  },
  {
   "cell_type": "code",
   "execution_count": 12,
   "metadata": {
    "ExecuteTime": {
     "end_time": "2020-11-24T16:34:06.708128Z",
     "start_time": "2020-11-24T16:34:06.683648Z"
    }
   },
   "outputs": [],
   "source": [
    "# footedness_patterns"
   ]
  },
  {
   "cell_type": "code",
   "execution_count": 33,
   "metadata": {
    "ExecuteTime": {
     "end_time": "2020-11-24T17:37:08.979791Z",
     "start_time": "2020-11-24T17:37:08.913923Z"
    }
   },
   "outputs": [],
   "source": [
    "df_rrrl = df_defence_footed.loc[df_defence_footed['footedness']=='right-right-right-left']\n",
    "df_rrll = df_defence_footed.loc[df_defence_footed['footedness']=='right-right-left-left']\n",
    "df_rrl = df_defence_footed.loc[df_defence_footed['footedness']=='right-right-left']\n",
    "df_rrr = df_defence_footed.loc[df_defence_footed['footedness']=='right-right-right']\n",
    "df_rll = df_defence_footed.loc[df_defence_footed['footedness']=='right-left-left']\n",
    "df_rrrll = df_defence_footed.loc[df_defence_footed['footedness']=='right-right-right-left-left']\n",
    "df_rrlr = df_defence_footed.loc[df_defence_footed['footedness']=='right-right-left-right']\n",
    "df_rrrr = df_defence_footed.loc[df_defence_footed['footedness']=='right-right-right-right']\n",
    "df_rrrrl = df_defence_footed.loc[df_defence_footed['footedness']=='right-right-right-right-left']\n",
    "df_rlr = df_defence_footed.loc[df_defence_footed['footedness']=='right-left-right']\n",
    "df_rrrlr = df_defence_footed.loc[df_defence_footed['footedness']=='right-right-right-left-right']\n",
    "df_rrlll = df_defence_footed.loc[df_defence_footed['footedness']=='right-right-left-left-left']\n",
    "df_rlll = df_defence_footed.loc[df_defence_footed['footedness']=='right-left-left-left']"
   ]
  },
  {
   "cell_type": "markdown",
   "metadata": {},
   "source": [
    "**Creating a list of such dataframes**"
   ]
  },
  {
   "cell_type": "code",
   "execution_count": 34,
   "metadata": {
    "ExecuteTime": {
     "end_time": "2020-11-24T17:37:10.020575Z",
     "start_time": "2020-11-24T17:37:10.010608Z"
    }
   },
   "outputs": [],
   "source": [
    "df_clusters = [df_rrrl,df_rrll,df_rrl,df_rrr,df_rll,df_rrrll,df_rrlr,df_rrrr,df_rrrrl,df_rlr,df_rrrlr,df_rrlll,df_rlll]"
   ]
  },
  {
   "cell_type": "markdown",
   "metadata": {},
   "source": [
    "**Creating a dictionary of mapping of players with a mismatch in names in events data and Premier League parsed data**"
   ]
  },
  {
   "cell_type": "code",
   "execution_count": 35,
   "metadata": {
    "ExecuteTime": {
     "end_time": "2020-11-24T17:37:11.659722Z",
     "start_time": "2020-11-24T17:37:11.638779Z"
    }
   },
   "outputs": [],
   "source": [
    "player_map = pd.read_csv('D:/Storage/Datasets/data/players/PlayerMap.csv')\n",
    "player_map = dict([(i,a) for i, a in zip(player_map['Lineup Name'], player_map['Wyscout Name'])])"
   ]
  },
  {
   "cell_type": "markdown",
   "metadata": {},
   "source": [
    "**Creating a metrics collection function that takes in x (match_id) and y (player name) and returns the following metrics-**\n",
    "\n",
    "**numpasses** - number of passes made by the player in the queried match\n",
    "\n",
    "**numaccpasses** - number of accurate passes made by the player in the queried match\n",
    "\n",
    "**numhighpasses** - number of high (aerial) passes made by the player in the queried match\n",
    "\n",
    "**numhighaccpasses** - number of high (aerial) accurate passes made by the player in the queried match\n",
    "\n",
    "**accpasslocs** - starting and ending coordinates of all the accurate passes made by the player in the queried match\n",
    "\n",
    "**inaccpasslocs** - starting and ending coordinates of all the inaccurate passes made by the player in the queried match\n",
    "\n",
    "**acchighpasslocs** - starting and ending coordinates of all the accurate high passes made by the player in the queried match\n",
    "\n",
    "**inacchighpasslocs** - starting and ending coordinates of all the inaccurate high passes made by the player in the queried match"
   ]
  },
  {
   "cell_type": "code",
   "execution_count": 36,
   "metadata": {
    "ExecuteTime": {
     "end_time": "2020-11-24T17:37:13.794522Z",
     "start_time": "2020-11-24T17:37:13.770591Z"
    }
   },
   "outputs": [],
   "source": [
    "def getmetrics(x,y):\n",
    "    try:\n",
    "        y = player_map[y]\n",
    "    except:\n",
    "        pass\n",
    "    split_y = re.findall('[A-Z][^A-Z]*',y)\n",
    "    try:\n",
    "        pass_df = df_events_pass.loc[(df_events_pass['playerName'].str.contains(split_y[-1]))&\n",
    "                                 (df_events_pass['playerName'].str.contains(split_y[-2]))&\n",
    "                                 (df_events_pass['matchId']==int(x))]\n",
    "    except:\n",
    "        pass_df = df_events_pass.loc[(df_events_pass['playerName'].str.contains(split_y[-1]))&\n",
    "                                 (df_events_pass['matchId']==int(x))]\n",
    "    numpasses = len(pass_df)\n",
    "    numaccpasses = len(pass_df.loc[pass_df['tags'].apply(lambda a: \"Accurate\" in a)])\n",
    "    numhighpasses = len(pass_df.loc[pass_df['subEventName']=='High pass'])\n",
    "    numhighaccpasses = len(pass_df.loc[(pass_df['subEventName']=='High pass') & (pass_df['tags'].apply(lambda a: \"Accurate\" in a))])\n",
    "    accpasslocs = pass_df.loc[pass_df['tags'].apply(lambda a: \"Accurate\" in a)]['positions'].tolist()\n",
    "    inaccpasslocs = pass_df.loc[pass_df['tags'].apply(lambda a: \"Not accurate\" in a)]['positions'].tolist()\n",
    "    acchighpasslocs = pass_df.loc[(pass_df['subEventName']=='High pass') & (pass_df['tags'].apply(lambda a: \"Accurate\" in a))]['positions'].tolist()\n",
    "    inacchighpasslocs = pass_df.loc[(pass_df['subEventName']=='High pass') & (pass_df['tags'].apply(lambda a: \"Not accurate\" in a))]['positions'].tolist()\n",
    "    return [numpasses,numaccpasses,numhighpasses,numhighaccpasses,accpasslocs,inaccpasslocs,acchighpasslocs,inacchighpasslocs]\n"
   ]
  },
  {
   "cell_type": "code",
   "execution_count": 17,
   "metadata": {
    "ExecuteTime": {
     "end_time": "2020-11-24T16:35:32.277578Z",
     "start_time": "2020-11-24T16:35:31.488344Z"
    },
    "scrolled": true
   },
   "outputs": [
    {
     "data": {
      "text/plain": [
       "[29,\n",
       " 23,\n",
       " 5,\n",
       " 3,\n",
       " [[[30.16, 5.44], [26.0, 15.64]],\n",
       "  [[33.28, 12.92], [29.12, 29.92]],\n",
       "  [[32.24, 4.76], [37.44, 14.96]],\n",
       "  [[75.92, 4.76], [83.2, 4.76]],\n",
       "  [[99.84, 12.92], [91.52, 48.96]],\n",
       "  [[69.68, 11.56], [78.0, 10.88]],\n",
       "  [[32.24, 4.76], [36.4, 17.0]],\n",
       "  [[78.0, 6.12], [71.76, 8.16]],\n",
       "  [[32.24, 23.12], [26.0, 29.92]],\n",
       "  [[47.84, 27.88], [28.08, 34.68]],\n",
       "  [[4.16, 6.12], [16.64, 4.08]],\n",
       "  [[71.76, 6.12], [74.88, 9.52]],\n",
       "  [[39.52, 16.32], [23.92, 32.64]],\n",
       "  [[43.68, 12.92], [30.16, 34.0]],\n",
       "  [[35.36, 10.88], [29.12, 27.88]],\n",
       "  [[46.8, 28.56], [93.6, 51.68]],\n",
       "  [[9.36, 18.36], [10.4, 23.12]],\n",
       "  [[63.44, 7.48], [65.52, 2.72]],\n",
       "  [[64.48, 2.04], [58.24, 28.56]],\n",
       "  [[17.68, 1.36], [43.68, 1.36]],\n",
       "  [[31.2, 12.92], [34.32, 3.4]],\n",
       "  [[58.24, 7.48], [30.16, 24.48]],\n",
       "  [[36.4, 7.48], [60.32, 18.36]]],\n",
       " [[[32.24, 3.4], [53.04, 33.32]],\n",
       "  [[20.8, 20.4], [40.56, 8.84]],\n",
       "  [[17.68, 5.44], [59.28, 6.8]],\n",
       "  [[87.36, 4.76], [76.96, 46.92]],\n",
       "  [[100.88, 17.68], [0.0, 68.0]],\n",
       "  [[36.4, 1.36], [60.32, 16.32]]],\n",
       " [[[46.8, 28.56], [93.6, 51.68]],\n",
       "  [[17.68, 1.36], [43.68, 1.36]],\n",
       "  [[36.4, 7.48], [60.32, 18.36]]],\n",
       " [[[32.24, 3.4], [53.04, 33.32]], [[17.68, 5.44], [59.28, 6.8]]]]"
      ]
     },
     "execution_count": 17,
     "metadata": {},
     "output_type": "execute_result"
    }
   ],
   "source": [
    "getmetrics(2500081,\"Bruno\")"
   ]
  },
  {
   "cell_type": "code",
   "execution_count": 37,
   "metadata": {
    "ExecuteTime": {
     "end_time": "2020-11-24T17:37:40.458696Z",
     "start_time": "2020-11-24T17:37:40.445676Z"
    }
   },
   "outputs": [],
   "source": [
    "new_cols = ['RB_all',\n",
    "            'R_CB_all',\n",
    "            'L_CB_all',\n",
    "            'LB_all',\n",
    "            'RCB_all',\n",
    "            'CB_all',\n",
    "            'LCB_all',\n",
    "            'RWB_all',\n",
    "            'LWB_all']"
   ]
  },
  {
   "cell_type": "markdown",
   "metadata": {},
   "source": [
    "**Collecting metrics for each defender location for various clusters**"
   ]
  },
  {
   "cell_type": "code",
   "execution_count": 38,
   "metadata": {
    "ExecuteTime": {
     "end_time": "2020-11-24T19:07:22.877556Z",
     "start_time": "2020-11-24T17:38:16.108723Z"
    }
   },
   "outputs": [
    {
     "name": "stderr",
     "output_type": "stream",
     "text": [
      "100%|███████████████████████████████████████████████████████████████████████████████| 13/13 [1:29:06<00:00, 411.29s/it]\n"
     ]
    }
   ],
   "source": [
    "#R_CB - Right center back for 4 defender formation\n",
    "#RCB - Right center back for 3 or 5 defender formation\n",
    "#L_CB - Left center back for 4 defender formation\n",
    "#LCB - Left center back for 3 or 5 defender formation\n",
    "df_clusters_updated = list()\n",
    "for df in tqdm(df_clusters):\n",
    "    df = df.reindex(columns = df.columns.tolist() + new_cols)\n",
    "    if df.iloc[0]['backline'] == 4.0:     \n",
    "        df['RB_all'] = df.apply(lambda x: getmetrics(x.wyId,x.RB), axis=1)\n",
    "        df['R_CB_all'] = df.apply(lambda x: getmetrics(x.wyId,x['R_CB']), axis=1)\n",
    "        df['L_CB_all'] = df.apply(lambda x: getmetrics(x.wyId,x['L_CB']), axis=1)\n",
    "        df['LB_all'] = df.apply(lambda x: getmetrics(x.wyId,x.LB), axis=1)\n",
    "        df_clusters_updated.append(df)\n",
    "    \n",
    "    elif df.iloc[0]['backline'] == 3.0:\n",
    "        df['RCB_all'] = df.apply(lambda x: getmetrics(x.wyId,x.RCB), axis=1)\n",
    "        df['CB_all'] = df.apply(lambda x: getmetrics(x.wyId,x.CB), axis=1)\n",
    "        df['LCB_all'] = df.apply(lambda x: getmetrics(x.wyId,x.LCB), axis=1)\n",
    "        df_clusters_updated.append(df)\n",
    "        \n",
    "    elif df.iloc[0]['backline'] == 5.0:\n",
    "        df['RWB_all'] = df.apply(lambda x: getmetrics(x.wyId,x.RWB), axis=1)\n",
    "        df['RCB_all'] = df.apply(lambda x: getmetrics(x.wyId,x.RCB), axis=1)\n",
    "        df['CB_all'] = df.apply(lambda x: getmetrics(x.wyId,x.CB), axis=1)\n",
    "        df['LCB_all'] = df.apply(lambda x: getmetrics(x.wyId,x.LCB), axis=1)\n",
    "        df['LWB_all'] = df.apply(lambda x: getmetrics(x.wyId,x.LWB), axis=1)\n",
    "        df_clusters_updated.append(df)"
   ]
  },
  {
   "cell_type": "code",
   "execution_count": 20,
   "metadata": {},
   "outputs": [],
   "source": [
    "# df_players.loc[df_players['playerName'].str.contains(\"DavidLuizMoreiraMarinho\")]"
   ]
  },
  {
   "cell_type": "code",
   "execution_count": 21,
   "metadata": {},
   "outputs": [],
   "source": [
    "# df_clusters_updated[6].loc[df_clusters_updated[6]['RB_all'].apply(lambda p : p[0]==0)]"
   ]
  },
  {
   "cell_type": "markdown",
   "metadata": {},
   "source": [
    "**Splitting the metrics into individual columns**"
   ]
  },
  {
   "cell_type": "code",
   "execution_count": 39,
   "metadata": {
    "ExecuteTime": {
     "end_time": "2020-11-24T19:19:45.454801Z",
     "start_time": "2020-11-24T19:19:44.876884Z"
    }
   },
   "outputs": [
    {
     "name": "stderr",
     "output_type": "stream",
     "text": [
      "100%|██████████████████████████████████████████████████████████████████████████████████| 13/13 [00:00<00:00, 31.59it/s]\n"
     ]
    }
   ],
   "source": [
    "df_clusters_metrics = list()\n",
    "for df in tqdm(df_clusters_updated):\n",
    "    if df.iloc[0]['backline'] == 4.0:\n",
    "        df[['RB_pass','RB_accpass','RB_highpass','RB_acchighpass','RB_accpassloc','RB_inaccpassloc','RB_acchighpassloc','RB_inacchighpassloc']] = pd.DataFrame(df['RB_all'].to_list(), index=df.index)\n",
    "        df[['R_CB_pass','R_CB_accpass','R_CB_highpass','R_CB_acchighpass','R_CB_accpassloc','R_CB_inaccpassloc','R_CB_acchighpassloc','R_CB_inacchighpassloc']] = pd.DataFrame(df['R_CB_all'].to_list(), index=df.index)\n",
    "        df[['L_CB_pass','L_CB_accpass','L_CB_highpass','L_CB_acchighpass','L_CB_accpassloc','L_CB_inaccpassloc','L_CB_acchighpassloc','L_CB_inacchighpassloc']] = pd.DataFrame(df['L_CB_all'].to_list(), index=df.index)\n",
    "        df[['LB_pass','LB_accpass','LB_highpass','LB_acchighpass','LB_accpassloc','LB_inaccpassloc','LB_acchighpassloc','LB_inacchighpassloc']] = pd.DataFrame(df['LB_all'].to_list(), index=df.index)\n",
    "        df.drop(['RB_all','R_CB_all','L_CB_all','LB_all','RCB_all','LCB_all','CB_all','RWB_all','LWB_all'], axis=1, inplace = True)\n",
    "        df_clusters_metrics.append(df)\n",
    "       \n",
    "    elif df.iloc[0]['backline'] == 3.0:\n",
    "        df[['RCB_pass','RCB_accpass','RCB_highpass','RCB_acchighpass','RCB_accpassloc','RCB_inaccpassloc','RCB_acchighpassloc','RCB_inacchighpassloc']] = pd.DataFrame(df['RCB_all'].to_list(), index=df.index)\n",
    "        df[['CB_pass','CB_accpass','CB_highpass','CB_acchighpass','CB_accpassloc','CB_inaccpassloc','CB_acchighpassloc','CB_inacchighpassloc']] = pd.DataFrame(df['CB_all'].to_list(), index=df.index)\n",
    "        df[['LCB_pass','LCB_accpass','LCB_highpass','LCB_acchighpass','LCB_accpassloc','LCB_inaccpassloc','LCB_acchighpassloc','LCB_inacchighpassloc']] = pd.DataFrame(df['LCB_all'].to_list(), index=df.index)\n",
    "        df.drop(['RB_all','R_CB_all','L_CB_all','LB_all','RCB_all','LCB_all','CB_all','RWB_all','LWB_all'], axis=1, inplace = True)\n",
    "        df_clusters_metrics.append(df)\n",
    "       \n",
    "    elif df.iloc[0]['backline'] == 5.0:\n",
    "        df[['RCB_pass','RCB_accpass','RCB_highpass','RCB_acchighpass','RCB_accpassloc','RCB_inaccpassloc','RCB_acchighpassloc','RCB_inacchighpassloc']] = pd.DataFrame(df['RCB_all'].to_list(), index=df.index)\n",
    "        df[['CB_pass','CB_accpass','CB_highpass','CB_acchighpass','CB_accpassloc','CB_inaccpassloc','CB_acchighpassloc','CB_inacchighpassloc']] = pd.DataFrame(df['CB_all'].to_list(), index=df.index)\n",
    "        df[['LCB_pass','LCB_accpass','LCB_highpass','LCB_acchighpass','LCB_accpassloc','LCB_inaccpassloc','LCB_acchighpassloc','LCB_inacchighpassloc']] = pd.DataFrame(df['LCB_all'].to_list(), index=df.index)\n",
    "        df[['RWB_pass','RWB_accpass','RWB_highpass','RWB_acchighpass','RWB_accpassloc','RWB_inaccpassloc','RWB_acchighpassloc','RWB_inacchighpassloc']] = pd.DataFrame(df['RWB_all'].to_list(), index=df.index)\n",
    "        df[['LWB_pass','LWB_accpass','LWB_highpass','LWB_acchighpass','LWB_accpassloc','LWB_inaccpassloc','LWB_acchighpassloc','LWB_inacchighpassloc']] = pd.DataFrame(df['LWB_all'].to_list(), index=df.index)\n",
    "        df.drop(['RB_all','R_CB_all','L_CB_all','LB_all','RCB_all','LCB_all','CB_all','RWB_all','LWB_all'], axis=1, inplace = True)\n",
    "        df_clusters_metrics.append(df)"
   ]
  },
  {
   "cell_type": "code",
   "execution_count": 40,
   "metadata": {
    "ExecuteTime": {
     "end_time": "2020-11-24T19:19:56.363978Z",
     "start_time": "2020-11-24T19:19:49.403565Z"
    }
   },
   "outputs": [],
   "source": [
    "names = ['rrrl','rrll','rrl','rrr','rll','rrrll','rrlr','rrrr','rrrrl','rlr','rrrlr','rrlll','rlll']\n",
    "\n",
    "for i,df in enumerate(df_clusters_metrics):\n",
    "    df.to_pickle(f'D:/Storage/Datasets/data/clusters/clusters_v3/cluster_{names[i]}.pkl')"
   ]
  },
  {
   "cell_type": "code",
   "execution_count": 6,
   "metadata": {},
   "outputs": [],
   "source": [
    "# df_events_pass.loc[(df_events_pass['matchId']==2500065) & (df_events_pass['playerName'].str.contains('FedericoFernandez'))]"
   ]
  },
  {
   "cell_type": "code",
   "execution_count": null,
   "metadata": {},
   "outputs": [],
   "source": []
  }
 ],
 "metadata": {
  "hide_input": false,
  "kernelspec": {
   "display_name": "Python 3",
   "language": "python",
   "name": "python3"
  },
  "language_info": {
   "codemirror_mode": {
    "name": "ipython",
    "version": 3
   },
   "file_extension": ".py",
   "mimetype": "text/x-python",
   "name": "python",
   "nbconvert_exporter": "python",
   "pygments_lexer": "ipython3",
   "version": "3.6.6"
  },
  "toc": {
   "base_numbering": 1,
   "nav_menu": {},
   "number_sections": true,
   "sideBar": true,
   "skip_h1_title": false,
   "title_cell": "Table of Contents",
   "title_sidebar": "Contents",
   "toc_cell": false,
   "toc_position": {},
   "toc_section_display": true,
   "toc_window_display": false
  },
  "varInspector": {
   "cols": {
    "lenName": 16,
    "lenType": 16,
    "lenVar": 40
   },
   "kernels_config": {
    "python": {
     "delete_cmd_postfix": "",
     "delete_cmd_prefix": "del ",
     "library": "var_list.py",
     "varRefreshCmd": "print(var_dic_list())"
    },
    "r": {
     "delete_cmd_postfix": ") ",
     "delete_cmd_prefix": "rm(",
     "library": "var_list.r",
     "varRefreshCmd": "cat(var_dic_list()) "
    }
   },
   "position": {
    "height": "649.383px",
    "left": "1619px",
    "right": "20px",
    "top": "121px",
    "width": "399.867px"
   },
   "types_to_exclude": [
    "module",
    "function",
    "builtin_function_or_method",
    "instance",
    "_Feature"
   ],
   "window_display": true
  }
 },
 "nbformat": 4,
 "nbformat_minor": 4
}
