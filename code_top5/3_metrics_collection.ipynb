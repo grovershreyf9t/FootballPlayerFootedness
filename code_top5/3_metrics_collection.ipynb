{
 "cells": [
  {
   "cell_type": "markdown",
   "metadata": {},
   "source": [
    "**3. Calculating metrics for passes**\n",
    "\n",
    "The following tasks are taken into account in this notebook:\n",
    "\n",
    "1. Cluster the defender lineups into sub categories based on the footedness pattern of the defender lineup starting from the right back (RB) position\n",
    "\n",
    "    For example, **right-right-right-left (rrrl)** category indicates that this is a lineup of four defenders where -\n",
    "\n",
    "    **right back (RB) is right footed**\n",
    "\n",
    "    **right center back (RCB) is right footed**\n",
    "\n",
    "    **left center back (LCB) is right footed**\n",
    "\n",
    "    **left back (LB) is left footed**\n",
    "\n",
    "2. Compute multiple passing based attributes for defenders for each match using match lineup data (from **match+def_lineup+footedness_ver2_top5.pkl**) and events data (from **events_com.pkl**)\n",
    "\n",
    "The following are the resulting pickle files:\n",
    "\n",
    "1. Cluster wise files with passing attributes for each defender for each match\n",
    "\n",
    "\n"
   ]
  },
  {
   "cell_type": "code",
   "execution_count": 1,
   "metadata": {},
   "outputs": [],
   "source": [
    "import pandas as pd\n",
    "import numpy as np\n",
    "from unidecode import unidecode\n",
    "from tqdm import tqdm\n",
    "import re\n",
    "from difflib import SequenceMatcher\n",
    "pd.set_option(\"display.max_rows\", 1000)\n",
    "pd.set_option(\"display.max_columns\",1000)"
   ]
  },
  {
   "cell_type": "markdown",
   "metadata": {},
   "source": [
    "**Loading pickle file with Top 5 Leagues 2017-18 events data (along with player roles i.e. whether the player is a goalkeeper (GKP), defender (DEF), midfielder (MID) or forward (FWD))**"
   ]
  },
  {
   "cell_type": "code",
   "execution_count": 2,
   "metadata": {},
   "outputs": [],
   "source": [
    "df_events_roles = pd.read_pickle(\"../data_top5/events/events_com.pkl\")"
   ]
  },
  {
   "cell_type": "markdown",
   "metadata": {},
   "source": [
    "**Loading the pickle file with defence lineup information for each team participating in a particular match.**"
   ]
  },
  {
   "cell_type": "code",
   "execution_count": 3,
   "metadata": {},
   "outputs": [],
   "source": [
    "df_defence_footed = pd.read_pickle(\"../data_top5/matches/match+def_lineup+footedness_ver2_top5.pkl\")"
   ]
  },
  {
   "cell_type": "markdown",
   "metadata": {},
   "source": [
    "**Observing the unique footedness categories in the dataframe**"
   ]
  },
  {
   "cell_type": "code",
   "execution_count": 4,
   "metadata": {},
   "outputs": [],
   "source": [
    "footedness_patterns = df_defence_footed[\"footedness\"].unique()"
   ]
  },
  {
   "cell_type": "markdown",
   "metadata": {},
   "source": [
    "**Renaming certain positional columns for better understanding**"
   ]
  },
  {
   "cell_type": "code",
   "execution_count": 5,
   "metadata": {},
   "outputs": [],
   "source": [
    "df_defence_footed.rename(columns={'R-CB':'R_CB',\"L-CB\":'L_CB'},inplace=True)"
   ]
  },
  {
   "cell_type": "markdown",
   "metadata": {},
   "source": [
    "**Filtering out pass data for defenders and finding league wise total passes and total accurate passes for defenders**"
   ]
  },
  {
   "cell_type": "code",
   "execution_count": 6,
   "metadata": {},
   "outputs": [],
   "source": [
    "df_events_pass = df_events_roles.loc[df_events_roles['eventName'].str.contains('Pass')].loc[df_events_roles['role']=='DEF']"
   ]
  },
  {
   "cell_type": "code",
   "execution_count": 7,
   "metadata": {},
   "outputs": [],
   "source": [
    "league_pass_info = dict()\n",
    "league_pass_info['totalpasses'] = len(df_events_pass)"
   ]
  },
  {
   "cell_type": "code",
   "execution_count": 8,
   "metadata": {},
   "outputs": [],
   "source": [
    "league_pass_info['totalaccuratepasses']=len(df_events_pass[df_events_pass['tags'].apply(lambda x: \"Accurate\" in x)])"
   ]
  },
  {
   "cell_type": "code",
   "execution_count": 9,
   "metadata": {},
   "outputs": [
    {
     "data": {
      "text/plain": [
       "{'totalpasses': 660055, 'totalaccuratepasses': 552506}"
      ]
     },
     "execution_count": 9,
     "metadata": {},
     "output_type": "execute_result"
    }
   ],
   "source": [
    "league_pass_info"
   ]
  },
  {
   "cell_type": "markdown",
   "metadata": {},
   "source": [
    "**Creating seperate dataframes for four defenders and three/five defenders in the lineup**"
   ]
  },
  {
   "cell_type": "code",
   "execution_count": 10,
   "metadata": {},
   "outputs": [],
   "source": [
    "df_four_defs = df_defence_footed[df_defence_footed['backline']==4]\n",
    "df_three_five_defs = df_defence_footed[df_defence_footed['backline'].isin([3,5])]"
   ]
  },
  {
   "cell_type": "code",
   "execution_count": 11,
   "metadata": {},
   "outputs": [],
   "source": [
    "df_defs_atb = [df_four_defs,df_three_five_defs]"
   ]
  },
  {
   "cell_type": "markdown",
   "metadata": {},
   "source": [
    "**Creating a metrics collection function that takes in x (match_id) and y (player name) and returns the following metrics-**\n",
    "\n",
    "**numpasses** - number of passes made by the player in the queried match\n",
    "\n",
    "**numaccpasses** - number of accurate passes made by the player in the queried match\n",
    "\n",
    "**numhighpasses** - number of high (aerial) passes made by the player in the queried match\n",
    "\n",
    "**numhighaccpasses** - number of high (aerial) accurate passes made by the player in the queried match\n",
    "\n",
    "**accpasslocs** - starting and ending coordinates of all the accurate passes made by the player in the queried match\n",
    "\n",
    "**inaccpasslocs** - starting and ending coordinates of all the inaccurate passes made by the player in the queried match\n",
    "\n",
    "**acchighpasslocs** - starting and ending coordinates of all the accurate high passes made by the player in the queried match\n",
    "\n",
    "**inacchighpasslocs** - starting and ending coordinates of all the inaccurate high passes made by the player in the queried match"
   ]
  },
  {
   "cell_type": "code",
   "execution_count": 12,
   "metadata": {},
   "outputs": [],
   "source": [
    "def getmetrics(x,y):\n",
    "    split_y = re.findall('[A-Z][^A-Z]*',y)\n",
    "    try:\n",
    "        pass_df = df_events_pass.loc[(df_events_pass['playerName'].str.contains(split_y[-1]))&\n",
    "                                     (df_events_pass['playerName'].str.contains(split_y[-2]))&\n",
    "                                     (df_events_pass['playerName'].str.contains(split_y[-3]))&\n",
    "                                     (df_events_pass['matchId']==int(x))]\n",
    "    except:\n",
    "        try:\n",
    "            pass_df = df_events_pass.loc[(df_events_pass['playerName'].str.contains(split_y[-1]))&\n",
    "                                     (df_events_pass['playerName'].str.contains(split_y[-2]))&\n",
    "                                     (df_events_pass['matchId']==int(x))]\n",
    "        except:\n",
    "            pass_df = df_events_pass.loc[(df_events_pass['playerName'].str.contains(split_y[-1]))&\n",
    "                                             (df_events_pass['matchId']==int(x))]\n",
    "    numpasses = len(pass_df)\n",
    "    numaccpasses = len(pass_df.loc[pass_df['tags'].apply(lambda a: \"Accurate\" in a)])\n",
    "    numhighpasses = len(pass_df.loc[pass_df['subEventName']=='High pass'])\n",
    "    numhighaccpasses = len(pass_df.loc[(pass_df['subEventName']=='High pass') & (pass_df['tags'].apply(lambda a: \"Accurate\" in a))])\n",
    "    accpasslocs = pass_df.loc[pass_df['tags'].apply(lambda a: \"Accurate\" in a)]['positions'].tolist()\n",
    "    inaccpasslocs = pass_df.loc[pass_df['tags'].apply(lambda a: \"Not accurate\" in a)]['positions'].tolist()\n",
    "    acchighpasslocs = pass_df.loc[(pass_df['subEventName']=='High pass') & (pass_df['tags'].apply(lambda a: \"Accurate\" in a))]['positions'].tolist()\n",
    "    inacchighpasslocs = pass_df.loc[(pass_df['subEventName']=='High pass') & (pass_df['tags'].apply(lambda a: \"Not accurate\" in a))]['positions'].tolist()\n",
    "    return [numpasses,numaccpasses,numhighpasses,numhighaccpasses,accpasslocs,inaccpasslocs,acchighpasslocs,inacchighpasslocs]\n"
   ]
  },
  {
   "cell_type": "code",
   "execution_count": 13,
   "metadata": {},
   "outputs": [
    {
     "data": {
      "text/plain": [
       "[29,\n",
       " 23,\n",
       " 5,\n",
       " 3,\n",
       " [[[30.16, 5.44], [26.0, 15.64]],\n",
       "  [[33.28, 12.92], [29.12, 29.92]],\n",
       "  [[32.24, 4.76], [37.44, 14.96]],\n",
       "  [[75.92, 4.76], [83.2, 4.76]],\n",
       "  [[99.84, 12.92], [91.52, 48.96]],\n",
       "  [[69.68, 11.56], [78.0, 10.88]],\n",
       "  [[32.24, 4.76], [36.4, 17.0]],\n",
       "  [[78.0, 6.12], [71.76, 8.16]],\n",
       "  [[32.24, 23.12], [26.0, 29.92]],\n",
       "  [[47.84, 27.88], [28.08, 34.68]],\n",
       "  [[4.16, 6.12], [16.64, 4.08]],\n",
       "  [[71.76, 6.12], [74.88, 9.52]],\n",
       "  [[39.52, 16.32], [23.92, 32.64]],\n",
       "  [[43.68, 12.92], [30.16, 34.0]],\n",
       "  [[35.36, 10.88], [29.12, 27.88]],\n",
       "  [[46.8, 28.56], [93.6, 51.68]],\n",
       "  [[9.36, 18.36], [10.4, 23.12]],\n",
       "  [[63.44, 7.48], [65.52, 2.72]],\n",
       "  [[64.48, 2.04], [58.24, 28.56]],\n",
       "  [[17.68, 1.36], [43.68, 1.36]],\n",
       "  [[31.2, 12.92], [34.32, 3.4]],\n",
       "  [[58.24, 7.48], [30.16, 24.48]],\n",
       "  [[36.4, 7.48], [60.32, 18.36]]],\n",
       " [[[32.24, 3.4], [53.04, 33.32]],\n",
       "  [[20.8, 20.4], [40.56, 8.84]],\n",
       "  [[17.68, 5.44], [59.28, 6.8]],\n",
       "  [[87.36, 4.76], [76.96, 46.92]],\n",
       "  [[100.88, 17.68], [0.0, 68.0]],\n",
       "  [[36.4, 1.36], [60.32, 16.32]]],\n",
       " [[[46.8, 28.56], [93.6, 51.68]],\n",
       "  [[17.68, 1.36], [43.68, 1.36]],\n",
       "  [[36.4, 7.48], [60.32, 18.36]]],\n",
       " [[[32.24, 3.4], [53.04, 33.32]], [[17.68, 5.44], [59.28, 6.8]]]]"
      ]
     },
     "execution_count": 13,
     "metadata": {},
     "output_type": "execute_result"
    }
   ],
   "source": [
    "getmetrics(2500081,\"Bruno\")"
   ]
  },
  {
   "cell_type": "code",
   "execution_count": 14,
   "metadata": {},
   "outputs": [],
   "source": [
    "new_cols = ['RB_all',\n",
    "            'R_CB_all',\n",
    "            'L_CB_all',\n",
    "            'LB_all',\n",
    "            'RCB_all',\n",
    "            'CB_all',\n",
    "            'LCB_all',\n",
    "            'RWB_all',\n",
    "            'LWB_all']"
   ]
  },
  {
   "cell_type": "markdown",
   "metadata": {},
   "source": [
    "**Collecting metrics for each defender location for various clusters**"
   ]
  },
  {
   "cell_type": "code",
   "execution_count": 15,
   "metadata": {},
   "outputs": [
    {
     "name": "stderr",
     "output_type": "stream",
     "text": [
      "100%|██████████| 2/2 [4:11:29<00:00, 7544.94s/it]   \n"
     ]
    }
   ],
   "source": [
    "#R_CB - Right center back for 4 defender formation\n",
    "#RCB - Right center back for 3 or 5 defender formation\n",
    "#L_CB - Left center back for 4 defender formation\n",
    "#LCB - Left center back for 3 or 5 defender formation\n",
    "df_defs_atb_updated = list()\n",
    "for df in tqdm(df_defs_atb):\n",
    "    df = df.reindex(columns = df.columns.tolist() + new_cols)\n",
    "    if df.iloc[0]['backline'] == 4.0:     \n",
    "        df['RB_all'] = df.apply(lambda x: getmetrics(x.wyId,x.RB), axis=1)\n",
    "        df['R_CB_all'] = df.apply(lambda x: getmetrics(x.wyId,x['R_CB']), axis=1)\n",
    "        df['L_CB_all'] = df.apply(lambda x: getmetrics(x.wyId,x['L_CB']), axis=1)\n",
    "        df['LB_all'] = df.apply(lambda x: getmetrics(x.wyId,x.LB), axis=1)\n",
    "        df_defs_atb_updated.append(df)\n",
    "    \n",
    "    elif df.iloc[0]['backline'] == 3.0:\n",
    "        df['RCB_all'] = df.apply(lambda x: getmetrics(x.wyId,x.RCB), axis=1)\n",
    "        df['CB_all'] = df.apply(lambda x: getmetrics(x.wyId,x.CB), axis=1)\n",
    "        df['LCB_all'] = df.apply(lambda x: getmetrics(x.wyId,x.LCB), axis=1)\n",
    "        df_defs_atb_updated.append(df)\n",
    "        \n",
    "    elif df.iloc[0]['backline'] == 5.0:\n",
    "        df['RWB_all'] = df.apply(lambda x: getmetrics(x.wyId,x.RWB), axis=1)\n",
    "        df['RCB_all'] = df.apply(lambda x: getmetrics(x.wyId,x.RCB), axis=1)\n",
    "        df['CB_all'] = df.apply(lambda x: getmetrics(x.wyId,x.CB), axis=1)\n",
    "        df['LCB_all'] = df.apply(lambda x: getmetrics(x.wyId,x.LCB), axis=1)\n",
    "        df['LWB_all'] = df.apply(lambda x: getmetrics(x.wyId,x.LWB), axis=1)\n",
    "        df_defs_atb_updated.append(df)"
   ]
  },
  {
   "cell_type": "code",
   "execution_count": 16,
   "metadata": {},
   "outputs": [
    {
     "name": "stderr",
     "output_type": "stream",
     "text": [
      "100%|██████████| 2/2 [00:00<00:00, 11.13it/s]\n"
     ]
    }
   ],
   "source": [
    "df_defs_atb_metrics = list()\n",
    "for df in tqdm(df_defs_atb_updated):\n",
    "    if df.iloc[0]['backline'] == 4.0:\n",
    "        df[['RB_pass','RB_accpass','RB_highpass','RB_acchighpass','RB_accpassloc','RB_inaccpassloc','RB_acchighpassloc','RB_inacchighpassloc']] = pd.DataFrame(df['RB_all'].to_list(), index=df.index)\n",
    "        df[['R_CB_pass','R_CB_accpass','R_CB_highpass','R_CB_acchighpass','R_CB_accpassloc','R_CB_inaccpassloc','R_CB_acchighpassloc','R_CB_inacchighpassloc']] = pd.DataFrame(df['R_CB_all'].to_list(), index=df.index)\n",
    "        df[['L_CB_pass','L_CB_accpass','L_CB_highpass','L_CB_acchighpass','L_CB_accpassloc','L_CB_inaccpassloc','L_CB_acchighpassloc','L_CB_inacchighpassloc']] = pd.DataFrame(df['L_CB_all'].to_list(), index=df.index)\n",
    "        df[['LB_pass','LB_accpass','LB_highpass','LB_acchighpass','LB_accpassloc','LB_inaccpassloc','LB_acchighpassloc','LB_inacchighpassloc']] = pd.DataFrame(df['LB_all'].to_list(), index=df.index)\n",
    "        df.drop(['RB_all','R_CB_all','L_CB_all','LB_all','RCB_all','LCB_all','CB_all','RWB_all','LWB_all'], axis=1, inplace = True)\n",
    "        df_defs_atb_metrics.append(df)\n",
    "       \n",
    "    elif df.iloc[0]['backline'] == 3.0:\n",
    "        df[['RCB_pass','RCB_accpass','RCB_highpass','RCB_acchighpass','RCB_accpassloc','RCB_inaccpassloc','RCB_acchighpassloc','RCB_inacchighpassloc']] = pd.DataFrame(df['RCB_all'].to_list(), index=df.index)\n",
    "        df[['CB_pass','CB_accpass','CB_highpass','CB_acchighpass','CB_accpassloc','CB_inaccpassloc','CB_acchighpassloc','CB_inacchighpassloc']] = pd.DataFrame(df['CB_all'].to_list(), index=df.index)\n",
    "        df[['LCB_pass','LCB_accpass','LCB_highpass','LCB_acchighpass','LCB_accpassloc','LCB_inaccpassloc','LCB_acchighpassloc','LCB_inacchighpassloc']] = pd.DataFrame(df['LCB_all'].to_list(), index=df.index)\n",
    "        df.drop(['RB_all','R_CB_all','L_CB_all','LB_all','RCB_all','LCB_all','CB_all','RWB_all','LWB_all'], axis=1, inplace = True)\n",
    "        df_defs_atb_metrics.append(df)\n",
    "       \n",
    "    elif df.iloc[0]['backline'] == 5.0:\n",
    "        df[['RCB_pass','RCB_accpass','RCB_highpass','RCB_acchighpass','RCB_accpassloc','RCB_inaccpassloc','RCB_acchighpassloc','RCB_inacchighpassloc']] = pd.DataFrame(df['RCB_all'].to_list(), index=df.index)\n",
    "        df[['CB_pass','CB_accpass','CB_highpass','CB_acchighpass','CB_accpassloc','CB_inaccpassloc','CB_acchighpassloc','CB_inacchighpassloc']] = pd.DataFrame(df['CB_all'].to_list(), index=df.index)\n",
    "        df[['LCB_pass','LCB_accpass','LCB_highpass','LCB_acchighpass','LCB_accpassloc','LCB_inaccpassloc','LCB_acchighpassloc','LCB_inacchighpassloc']] = pd.DataFrame(df['LCB_all'].to_list(), index=df.index)\n",
    "        df[['RWB_pass','RWB_accpass','RWB_highpass','RWB_acchighpass','RWB_accpassloc','RWB_inaccpassloc','RWB_acchighpassloc','RWB_inacchighpassloc']] = pd.DataFrame(df['RWB_all'].to_list(), index=df.index)\n",
    "        df[['LWB_pass','LWB_accpass','LWB_highpass','LWB_acchighpass','LWB_accpassloc','LWB_inaccpassloc','LWB_acchighpassloc','LWB_inacchighpassloc']] = pd.DataFrame(df['LWB_all'].to_list(), index=df.index)\n",
    "        df.drop(['RB_all','R_CB_all','L_CB_all','LB_all','RCB_all','LCB_all','CB_all','RWB_all','LWB_all'], axis=1, inplace = True)\n",
    "        df_defs_atb_metrics.append(df)"
   ]
  },
  {
   "cell_type": "code",
   "execution_count": 17,
   "metadata": {},
   "outputs": [],
   "source": [
    "atb = ['four_defs','three_five_defs']\n",
    "for i,df in enumerate(df_defs_atb_metrics):\n",
    "    df.to_pickle(f'../data_top5/clusters/clusters_v3/cluster_{atb[i]}.pkl')"
   ]
  },
  {
   "cell_type": "markdown",
   "metadata": {},
   "source": [
    "**Steps to validate if all players have been assigned metrics**"
   ]
  },
  {
   "cell_type": "markdown",
   "metadata": {},
   "source": [
    "**Fetch players that have not registered a single pass in any particular match**"
   ]
  },
  {
   "cell_type": "code",
   "execution_count": 71,
   "metadata": {},
   "outputs": [],
   "source": [
    "players_no_pass = list()\n",
    "for df in df_defs_atb_metrics:\n",
    "    if df.iloc[0]['backline']==4:\n",
    "        for col in ['RB_pass','R_CB_pass','L_CB_pass','LB_pass']:\n",
    "            players_no_pass.append(df[df[col].eq(0)][col.rsplit('_',1)[0]].values.tolist())\n",
    "    elif df.iloc[0]['backline']==3:\n",
    "        for col in ['RCB_pass','CB_pass','LCB_pass']:\n",
    "            players_no_pass.append(df[df[col].eq(0)][col.rsplit('_',1)[0]].values.tolist())\n",
    "    else:\n",
    "        for col in ['RWB_pass','RCB_pass','CB_pass','LCB_pass','LWB_pass']:\n",
    "            players_no_pass.append(df[df[col].eq(0)][col.rsplit('_',1)[0]].values.tolist())\n",
    "players_no_pass_set = list(set([i for sublist in players_no_pass for i in sublist]))"
   ]
  },
  {
   "cell_type": "code",
   "execution_count": 72,
   "metadata": {},
   "outputs": [
    {
     "data": {
      "text/plain": [
       "['IsmaelTiemokoDiomande',\n",
       " 'StefanIlsanker',\n",
       " 'RubenPenaJimenez',\n",
       " 'RaniKhedira',\n",
       " 'DavidTimorCopovi',\n",
       " 'EnricoBearzotti',\n",
       " 'AssaneDiousseElHadji',\n",
       " 'HavardNordtveit',\n",
       " 'ManuelRolandoIturraUrrutia',\n",
       " 'JesusNavasGonzalez',\n",
       " 'JorgeAndujarMoreno',\n",
       " 'GerritHoltmann',\n",
       " 'KwadwoAsamoah',\n",
       " 'YvesBissouma',\n",
       " 'FabioBorini',\n",
       " \"DigboG'nampaHabibMaiga\",\n",
       " 'DanielWass',\n",
       " 'AinsleyMaitlandNiles',\n",
       " 'StevenZuber',\n",
       " 'EricDier',\n",
       " 'BounaSarr',\n",
       " 'MitchellWeiser',\n",
       " 'JulianBaumgartlinger',\n",
       " 'JulianSchuster',\n",
       " 'VictorSanchezMata',\n",
       " 'ChrisPhilipps',\n",
       " 'SamMcQueen',\n",
       " 'SergiGomezSola',\n",
       " 'MatthiasLehmann',\n",
       " 'JohannesGeis',\n",
       " 'ChrisBrunt',\n",
       " 'BenjaminStambouli',\n",
       " 'MatthiasZimmermann',\n",
       " 'NicoSchulz',\n",
       " 'EmreCan',\n",
       " 'JonathanSchmid',\n",
       " 'RomuloSouzaOrestesCaldeira',\n",
       " \"AlfredJohnMomarN'Diaye\",\n",
       " 'FranciscoJavierGuerreroMartin',\n",
       " 'KonradLaimer',\n",
       " 'AlfonsoPedrazaSag',\n",
       " 'JavierMartinezAginaga',\n",
       " 'BelDurelAvounou',\n",
       " 'OleksandrZinchenko',\n",
       " 'ThomasTeyePartey',\n",
       " 'IsaacHayden',\n",
       " 'FranckTabanou',\n",
       " 'IgorZubeldiaElorza',\n",
       " 'MarcelRisse',\n",
       " 'RyanFraser',\n",
       " 'ElvisRexhbecaj',\n",
       " 'GeorginioWijnaldum',\n",
       " 'ThiagoMaiaAlencar',\n",
       " 'JeremyGelin',\n",
       " 'JuanGuillermoCuadradoBello',\n",
       " 'CarlosHenriqueCasimiro',\n",
       " 'StefanoSturaro',\n",
       " \"KevinN'Doram\",\n",
       " 'AnthonyGoncalves',\n",
       " 'IbrahimAmadou',\n",
       " 'FrancisCoquelin',\n",
       " 'SimonePadoin',\n",
       " 'PierrickCapelle',\n",
       " 'FabioDepaoli',\n",
       " 'JulianWeigl',\n",
       " 'DanielAmartey',\n",
       " 'JeremyToulalan',\n",
       " 'SamClucas',\n",
       " 'FranciscoJavierGarciaFernandez',\n",
       " 'GregorySertic',\n",
       " 'SaulNiguezEsclapez',\n",
       " 'CalebStanko',\n",
       " 'JordanTorunarigha',\n",
       " 'JeanPhilippeGbamin',\n",
       " 'LarsBender',\n",
       " 'LuizGustavoDias',\n",
       " 'AlessandroFlorenzi',\n",
       " 'PhilippBargfrede',\n",
       " 'VincentBessat',\n",
       " 'IgnacioCamachoBarnola',\n",
       " 'LemouyaGoudiaby',\n",
       " 'PaoloPancrazioFarago',\n",
       " 'MarcAlbrighton',\n",
       " 'FabianDelph',\n",
       " 'IvanRadovanovic',\n",
       " 'CheikhouKouyate',\n",
       " 'MohamedSalimFares',\n",
       " 'GeorgesConstantMandjeck',\n",
       " 'MakotoHasebe',\n",
       " 'GojkoKacar',\n",
       " 'PabloSarabiaGarcia']"
      ]
     },
     "execution_count": 72,
     "metadata": {},
     "output_type": "execute_result"
    }
   ],
   "source": [
    "players_no_pass_set"
   ]
  },
  {
   "cell_type": "markdown",
   "metadata": {},
   "source": [
    "**Further filter players that are defenders (Note: Players who have played in a defensive position but have not been marked as defenders are not assigned metrics)**"
   ]
  },
  {
   "cell_type": "code",
   "execution_count": 20,
   "metadata": {},
   "outputs": [],
   "source": [
    "players = pd.read_pickle('../data/players/players.pkl')"
   ]
  },
  {
   "cell_type": "code",
   "execution_count": 22,
   "metadata": {},
   "outputs": [
    {
     "name": "stdout",
     "output_type": "stream",
     "text": [
      "JorgeAndujarMoreno:DF\n",
      "SergiGomezSola:DF\n",
      "JeremyGelin:DF\n",
      "JordanTorunarigha:DF\n"
     ]
    }
   ],
   "source": [
    "for player in players_no_pass_set:\n",
    "    player_name_split = re.findall('[A-Z][^A-Z]*',player)\n",
    "    try:\n",
    "        role = players[(players['playerName'].str.contains(player_name_split[-1]))&\n",
    "                       (players['playerName'].str.contains(player_name_split[-2]))&\n",
    "                       (players['playerName'].str.contains(player_name_split[-3]))]['role'].values.tolist()[0]['code2']\n",
    "    except:\n",
    "        try:\n",
    "            role = players[(players['playerName'].str.contains(player_name_split[-1]))&\n",
    "                           (players['playerName'].str.contains(player_name_split[-2]))]['role'].values.tolist()[0]['code2']\n",
    "        except:\n",
    "            role = players[(players['playerName'].str.contains(player_name_split[-1]))]['role'].values.tolist()[0]['code2']\n",
    "    if role=='DF':\n",
    "        print(player+':'+role)"
   ]
  },
  {
   "cell_type": "markdown",
   "metadata": {},
   "source": [
    "**Finding match ids for which these defenders do not have a single pass**"
   ]
  },
  {
   "cell_type": "code",
   "execution_count": 73,
   "metadata": {},
   "outputs": [],
   "source": [
    "no_pass_defs = ['JorgeAndujarMoreno', 'SergiGomezSola','JeremyGelin', 'JordanTorunarigha']\n",
    "df_indexes = dict()\n",
    "for i in range(len(df_defs_atb_metrics)):\n",
    "    check_indexes = dict()\n",
    "    for defender in no_pass_defs:\n",
    "        if df_defs_atb_metrics[i].iloc[0]['backline']==4:\n",
    "            index_list = list()\n",
    "            for col in ['RB_pass','R_CB_pass','L_CB_pass','LB_pass']:\n",
    "                index_list.append(df_defs_atb_metrics[i][(df_defs_atb_metrics[i][col].eq(0))&(df_defs_atb_metrics[i][col.rsplit('_',1)[0]]==defender)].index.tolist())\n",
    "                check_indexes[defender]=index_list\n",
    "        elif df_defs_atb_metrics[i].iloc[0]['backline']==3:\n",
    "            index_list = list()\n",
    "            for col in ['RCB_pass','CB_pass','LCB_pass']:\n",
    "                index_list.append(df_defs_atb_metrics[i][(df_defs_atb_metrics[i][col].eq(0))&(df_defs_atb_metrics[i][col.rsplit('_',1)[0]]==defender)].index.tolist())\n",
    "                check_indexes[defender]=index_list\n",
    "        else:\n",
    "            index_list = list()\n",
    "            for col in ['RWB_pass','RCB_pass','CB_pass','LCB_pass','LWB_pass']:\n",
    "                index_list.append(df_defs_atb_metrics[i][(df_defs_atb_metrics[i][col].eq(0))&(df_defs_atb_metrics[i][col.rsplit('_',1)[0]]==defender)].index.tolist())\n",
    "                check_indexes[defender]=index_list\n",
    "        df_indexes[i]=check_indexes"
   ]
  },
  {
   "cell_type": "code",
   "execution_count": 74,
   "metadata": {},
   "outputs": [
    {
     "data": {
      "text/plain": [
       "{0: {'JorgeAndujarMoreno': [[1948], [], [], []],\n",
       "  'SergiGomezSola': [[], [], [1855], []],\n",
       "  'JeremyGelin': [[], [], [808], []],\n",
       "  'JordanTorunarigha': [[], [1406], [], []]},\n",
       " 1: {'JorgeAndujarMoreno': [[], [], []],\n",
       "  'SergiGomezSola': [[], [], []],\n",
       "  'JeremyGelin': [[], [], []],\n",
       "  'JordanTorunarigha': [[], [], []]}}"
      ]
     },
     "execution_count": 74,
     "metadata": {},
     "output_type": "execute_result"
    }
   ],
   "source": [
    "df_indexes"
   ]
  },
  {
   "cell_type": "markdown",
   "metadata": {},
   "source": [
    "**Wyscout has not recorded any data for Jeremy Gelin and Sergio Gomez for these match ids, even though they have played 90 mins. Coke (JorgeAndujarMoreno) was substituted while Jordan Torunaringha was shown a red card for the respective matches and hence do not have any passing event associated to them.**"
   ]
  },
  {
   "cell_type": "code",
   "execution_count": 31,
   "metadata": {},
   "outputs": [],
   "source": [
    "# for df in df_defs_atb_metrics:\n",
    "#     df.reset_index(inplace=True)"
   ]
  },
  {
   "cell_type": "code",
   "execution_count": 66,
   "metadata": {},
   "outputs": [],
   "source": [
    "# df_defs_atb_metrics[0][df_defs_atb_metrics[0].eq('SergiGomezSola').any(axis=1)]"
   ]
  },
  {
   "cell_type": "code",
   "execution_count": 70,
   "metadata": {},
   "outputs": [],
   "source": [
    "# events_spain = pd.read_json('../data_top5/events/events_Spain.json')"
   ]
  },
  {
   "cell_type": "code",
   "execution_count": 67,
   "metadata": {},
   "outputs": [],
   "source": [
    "# events_spain[(events_spain['matchId']==2565681)&(events_spain['playerId']==3338)]"
   ]
  },
  {
   "cell_type": "code",
   "execution_count": 68,
   "metadata": {},
   "outputs": [],
   "source": [
    "# players[players['playerName']=='SergiGomezSola']"
   ]
  },
  {
   "cell_type": "code",
   "execution_count": null,
   "metadata": {},
   "outputs": [],
   "source": []
  }
 ],
 "metadata": {
  "kernelspec": {
   "display_name": "Python 3",
   "language": "python",
   "name": "python3"
  },
  "language_info": {
   "codemirror_mode": {
    "name": "ipython",
    "version": 3
   },
   "file_extension": ".py",
   "mimetype": "text/x-python",
   "name": "python",
   "nbconvert_exporter": "python",
   "pygments_lexer": "ipython3",
   "version": "3.7.9"
  }
 },
 "nbformat": 4,
 "nbformat_minor": 4
}
