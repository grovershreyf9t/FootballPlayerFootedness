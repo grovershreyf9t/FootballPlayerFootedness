{
 "cells": [
  {
   "cell_type": "markdown",
   "metadata": {},
   "source": [
    "**5. Computing % of progressive passes made in each region by an LCB based on dominant foot**\n",
    "\n",
    "A pass said to be progressive if:\n",
    "\n",
    "    a. x_component (final pass location) - x_component (initial pass location) >= 30 if the starting and the finishing points of the pass lie within the team's own half\n",
    "    \n",
    "    b. x_component (final pass location) - x_component (initial pass location) >= 15 if the starting point of the pass lies within the team's own half while the finishing point lies in the opponent's half.\n",
    "    \n",
    "    c. x_component (final pass location) - x_component (initial pass location) >=10 if the starting and the finishing points lie within the opponent's half\n",
    "    \n",
    "This notebook showcases as to how different footed LCBs access various parts of the field differently during a progressive build up.\n",
    "\n",
    "The following tasks have been taken into account in this notebook: (These tasks were performed for four defender and three/five defender formations seperately)\n",
    "\n",
    "1. Segregate accurate progressive passes from accurate passes and plot the initial and the final pass locations of these passes\n",
    "\n",
    "2. Divided the pitch into 8 regions:\n",
    "\n",
    "     a. Right Flank Attack - x >= 52 and y <= 17\n",
    "     \n",
    "     b. Right Flank Defence - x < 52 and y <= 17\n",
    "     \n",
    "     c. Right Central Attack - x >= 52 and y > 17 and y <= 34\n",
    "     \n",
    "     d. Right Central Defence - x < 52 and y > 17 and y <= 34\n",
    "     \n",
    "     e. Left Central Attack - x >= 52 and y > 34 and y <= 51 \n",
    "     \n",
    "     f. Left Central Defence - x < 52 and y > 34 and y <= 51\n",
    "     \n",
    "     g. Left Flank Attack - x >= 52 and y > 51 and y <= 68\n",
    "     \n",
    "     h. Left Flank Defence - x < 52 and y > 51 and y <= 68\n",
    "     \n",
    "     \n",
    "    and calculated the percentage of accurate progressive balls (i.e. number of accurate progressive balls in region/total number of accurate progressive balls) made in these regions.\n",
    "    \n",
    "3. Performed hypothesis testing to check if the results obtained were statistically significant"
   ]
  },
  {
   "cell_type": "code",
   "execution_count": 17,
   "metadata": {
    "ExecuteTime": {
     "end_time": "2020-11-24T19:37:25.479486Z",
     "start_time": "2020-11-24T19:37:21.068061Z"
    }
   },
   "outputs": [],
   "source": [
    "import numpy as np\n",
    "import pandas as pd\n",
    "import os\n",
    "import matplotlib.pyplot as plt\n",
    "import seaborn as sns\n",
    "import plotly.express as px\n",
    "\n",
    "pd.set_option('max_columns',100)"
   ]
  },
  {
   "cell_type": "markdown",
   "metadata": {},
   "source": [
    "**Paths for cluster files for four defender formations**"
   ]
  },
  {
   "cell_type": "code",
   "execution_count": 18,
   "metadata": {
    "ExecuteTime": {
     "end_time": "2020-11-24T19:37:36.895503Z",
     "start_time": "2020-11-24T19:37:36.879501Z"
    }
   },
   "outputs": [],
   "source": [
    "base_path = \"../data_top5/clusters/clusters_v3\"\n",
    "clusters = ['four_defs','three_five_defs']\n",
    "files = [os.path.join(base_path,'cluster_' + cluster + '.pkl') for cluster in clusters]"
   ]
  },
  {
   "cell_type": "markdown",
   "metadata": {},
   "source": [
    "**Reading cluster files**\n"
   ]
  },
  {
   "cell_type": "code",
   "execution_count": 19,
   "metadata": {
    "ExecuteTime": {
     "end_time": "2020-11-24T19:37:51.115318Z",
     "start_time": "2020-11-24T19:37:48.824353Z"
    }
   },
   "outputs": [],
   "source": [
    "df_clusters = list()\n",
    "for file in files:\n",
    "    df_clusters.append(pd.read_pickle(file))"
   ]
  },
  {
   "cell_type": "markdown",
   "metadata": {},
   "source": [
    "**Reseting index of clusters**\n"
   ]
  },
  {
   "cell_type": "code",
   "execution_count": 20,
   "metadata": {
    "ExecuteTime": {
     "end_time": "2020-11-24T19:37:52.850900Z",
     "start_time": "2020-11-24T19:37:52.802929Z"
    }
   },
   "outputs": [],
   "source": [
    "for df in df_clusters:\n",
    "    df.reset_index(inplace = True)"
   ]
  },
  {
   "cell_type": "markdown",
   "metadata": {},
   "source": [
    "**Function to get start and end location points for every row in df**"
   ]
  },
  {
   "cell_type": "code",
   "execution_count": 21,
   "metadata": {
    "ExecuteTime": {
     "end_time": "2020-11-24T19:37:53.719513Z",
     "start_time": "2020-11-24T19:37:53.703524Z"
    }
   },
   "outputs": [],
   "source": [
    "def getstartend(locs):\n",
    "    end_points = list()\n",
    "    start_points = list()\n",
    "    for point in locs:\n",
    "            if point != []:\n",
    "                end_points.append(point[1])\n",
    "                start_points.append(point[0])\n",
    "    return start_points,end_points"
   ]
  },
  {
   "cell_type": "markdown",
   "metadata": {},
   "source": [
    "**Function to apply progressive pass filter**"
   ]
  },
  {
   "cell_type": "code",
   "execution_count": 22,
   "metadata": {
    "ExecuteTime": {
     "end_time": "2020-11-24T19:37:54.732914Z",
     "start_time": "2020-11-24T19:37:54.716951Z"
    }
   },
   "outputs": [],
   "source": [
    "def distfilter(locs):\n",
    "    loc_start, loc_end = getstartend(locs)\n",
    "    prog_accpasslocs = list()\n",
    "    for p1,p2 in zip(loc_start,loc_end):\n",
    "        dist = np.round(np.linalg.norm(np.array(p1) - np.array(p2)),2)\n",
    "        if p1[0] < 52 and p2[0] < 52 and dist >= 30 and p1[0] < p2[0]:\n",
    "            prog_accpasslocs.append([p1,p2])\n",
    "        elif p1[0] > 52 and p2[0] > 52 and dist >= 10 and p1[0] < p2[0]:\n",
    "            prog_accpasslocs.append([p1,p2])\n",
    "        elif p1[0] < 52 and p2[0] > 52 and dist >= 15 and p1[0] < p2[0]:\n",
    "            prog_accpasslocs.append([p1,p2])\n",
    "    return prog_accpasslocs\n",
    "            "
   ]
  },
  {
   "cell_type": "markdown",
   "metadata": {},
   "source": [
    "**Creating progressive pass column for LCB in a four defender formation**\n"
   ]
  },
  {
   "cell_type": "code",
   "execution_count": 23,
   "metadata": {
    "ExecuteTime": {
     "end_time": "2020-11-24T19:37:57.740865Z",
     "start_time": "2020-11-24T19:37:55.567826Z"
    }
   },
   "outputs": [],
   "source": [
    "df_clusters_prog = list()\n",
    "for df in df_clusters:\n",
    "    if df['backline'][0] == 4:\n",
    "        df['L_CB_progaccpassloc'] = df.apply(lambda x: distfilter(x['L_CB_accpassloc']),axis = 1)\n",
    "    elif df['backline'][0] in [3,5]:\n",
    "        df['LCB_progaccpassloc'] = df.apply(lambda x: distfilter(x['LCB_accpassloc']), axis = 1)\n",
    "    df_clusters_prog.append(df)"
   ]
  },
  {
   "cell_type": "markdown",
   "metadata": {},
   "source": [
    "**Function to get start and end location points for a whole df column**\n"
   ]
  },
  {
   "cell_type": "code",
   "execution_count": 24,
   "metadata": {
    "ExecuteTime": {
     "end_time": "2020-11-24T19:37:58.603881Z",
     "start_time": "2020-11-24T19:37:58.579884Z"
    }
   },
   "outputs": [],
   "source": [
    "def getstartendfull(locs):\n",
    "    end_points = list()\n",
    "    start_points = list()\n",
    "    for match in locs:\n",
    "        for point in match:\n",
    "            if point != []:\n",
    "                end_points.append(point[1])\n",
    "                start_points.append(point[0])\n",
    "    return start_points,end_points"
   ]
  },
  {
   "cell_type": "markdown",
   "metadata": {},
   "source": [
    "**Counting number of progressive passes**\n"
   ]
  },
  {
   "cell_type": "code",
   "execution_count": 25,
   "metadata": {
    "ExecuteTime": {
     "end_time": "2020-11-24T19:37:59.796884Z",
     "start_time": "2020-11-24T19:37:59.748959Z"
    }
   },
   "outputs": [
    {
     "data": {
      "text/plain": [
       "46456"
      ]
     },
     "execution_count": 25,
     "metadata": {},
     "output_type": "execute_result"
    }
   ],
   "source": [
    "counter = 0\n",
    "for df in df_clusters_prog:\n",
    "    if df['backline'][0] in [3,5]:\n",
    "        start,end = getstartendfull(df['LCB_progaccpassloc'])\n",
    "        counter = counter + len(start)\n",
    "    elif df['backline'][0] == 4:\n",
    "        start,end = getstartendfull(df['L_CB_progaccpassloc'])\n",
    "        counter = counter + len(start)\n",
    "counter"
   ]
  },
  {
   "cell_type": "markdown",
   "metadata": {},
   "source": [
    "**Counting number of accurate passes**"
   ]
  },
  {
   "cell_type": "code",
   "execution_count": 26,
   "metadata": {
    "ExecuteTime": {
     "end_time": "2020-11-24T19:38:03.340450Z",
     "start_time": "2020-11-24T19:38:03.228479Z"
    }
   },
   "outputs": [
    {
     "data": {
      "text/plain": [
       "147140"
      ]
     },
     "execution_count": 26,
     "metadata": {},
     "output_type": "execute_result"
    }
   ],
   "source": [
    "counter_acc = 0\n",
    "for df in df_clusters_prog:\n",
    "    if df['backline'][0] in [3,5]:\n",
    "        start,end = getstartendfull(df['LCB_accpassloc'])\n",
    "        counter_acc = counter_acc + len(start)\n",
    "    elif df['backline'][0] == 4:\n",
    "        start,end = getstartendfull(df['L_CB_accpassloc'])\n",
    "        counter_acc = counter_acc + len(start)\n",
    "counter_acc"
   ]
  },
  {
   "cell_type": "markdown",
   "metadata": {},
   "source": [
    "**Saving the updated clusters as pickle files**"
   ]
  },
  {
   "cell_type": "code",
   "execution_count": 27,
   "metadata": {
    "ExecuteTime": {
     "end_time": "2020-11-24T19:38:38.493879Z",
     "start_time": "2020-11-24T19:38:31.609982Z"
    }
   },
   "outputs": [],
   "source": [
    "clusters = ['four_defs','three_five_defs']\n",
    "for i, df in enumerate(df_clusters_prog):\n",
    "    df.to_pickle(f'../data_top5/clusters/clusters_prog/cluster_prog_{clusters[i]}.pkl')"
   ]
  },
  {
   "cell_type": "markdown",
   "metadata": {},
   "source": [
    "**Plotting the progressive passes**"
   ]
  },
  {
   "cell_type": "code",
   "execution_count": 28,
   "metadata": {
    "ExecuteTime": {
     "end_time": "2020-11-24T19:39:15.780178Z",
     "start_time": "2020-11-24T19:39:15.764188Z"
    }
   },
   "outputs": [],
   "source": [
    "def getxy(locs):\n",
    "    x = list()\n",
    "    y = list()\n",
    "    for p in locs:\n",
    "        x.append(p[0])\n",
    "        y.append(p[1])\n",
    "    return x,y"
   ]
  },
  {
   "cell_type": "code",
   "execution_count": 29,
   "metadata": {
    "ExecuteTime": {
     "end_time": "2020-11-24T19:39:16.971013Z",
     "start_time": "2020-11-24T19:39:16.939034Z"
    }
   },
   "outputs": [],
   "source": [
    "def draw_pitch(line, orientation,view):\n",
    "    \n",
    "    orientation = orientation\n",
    "    view = view\n",
    "    line = line\n",
    "    \n",
    "    if orientation.lower().startswith(\"h\"):\n",
    "        \n",
    "        if view.lower().startswith(\"h\"):\n",
    "            fig,ax = plt.subplots(figsize=(6.8,10.4))\n",
    "            plt.xlim(49,105)\n",
    "            plt.ylim(-1,69)\n",
    "        else:\n",
    "            fig,ax = plt.subplots(figsize=(10.4,6.8))\n",
    "            plt.xlim(-1,105)\n",
    "            plt.ylim(-1,69)\n",
    "        ax.axis('off') # this hides the x and y ticks\n",
    "    \n",
    "        # side and goal lines #\n",
    "        ly1 = [0,0,68,68,0]\n",
    "        lx1 = [0,104,104,0,0]\n",
    "\n",
    "        plt.plot(lx1,ly1,color=line,zorder=5)\n",
    "\n",
    "\n",
    "        # boxes, 6 yard box and goals\n",
    "\n",
    "            #outer boxes#\n",
    "        ly2 = [13.84,13.84,54.16,54.16] \n",
    "        lx2 = [104,87.5,87.5,104]\n",
    "        plt.plot(lx2,ly2,color=line,zorder=5)\n",
    "\n",
    "        ly3 = [13.84,13.84,54.16,54.16] \n",
    "        lx3 = [0,16.5,16.5,0]\n",
    "        plt.plot(lx3,ly3,color=line,zorder=5)\n",
    "\n",
    "            #goals#\n",
    "        ly4 = [30.34,30.34,37.66,37.66]\n",
    "        lx4 = [104,104.2,104.2,104]\n",
    "        plt.plot(lx4,ly4,color=line,zorder=5)\n",
    "\n",
    "        ly5 = [30.34,30.34,37.66,37.66]\n",
    "        lx5 = [0,-0.2,-0.2,0]\n",
    "        plt.plot(lx5,ly5,color=line,zorder=5)\n",
    "\n",
    "\n",
    "           #6 yard boxes#\n",
    "        ly6 = [24.84,24.84,43.16,43.16]\n",
    "        lx6 = [104,99.5,99.5,104]\n",
    "        plt.plot(lx6,ly6,color=line,zorder=5)\n",
    "\n",
    "        ly7 = [24.84,24.84,43.16,43.16]\n",
    "        lx7 = [0,4.5,4.5,0]\n",
    "        plt.plot(lx7,ly7,color=line,zorder=5)\n",
    "\n",
    "        #Halfway line, penalty spots, and kickoff spot\n",
    "        ly8 = [0,68] \n",
    "        lx8 = [52,52]\n",
    "        plt.plot(lx8,ly8,color=line,zorder=5)\n",
    "\n",
    "\n",
    "        circle3 = plt.Circle((52, 34), 9.15,ls='solid',lw=1.5,color=line, fill=False, zorder=2,alpha=1)\n",
    "        circle4 = plt.Circle((93, 34), 0.2,ls='solid',lw=1.5,color=line, fill=False, alpha=1)\n",
    "        circle5 = plt.Circle((11, 34), 0.2,ls='solid',lw=1.5,color=line, fill=False, alpha=1)\n",
    "        circle6 = plt.Circle((52, 34), 0.2,ls='solid',lw=1.5,color=line, fill=False, alpha=1)\n",
    "\n",
    "        ## Rectangles in boxes\n",
    "        rec1 = plt.Rectangle((87.5,20), 16,30,ls='-', color=\"None\", zorder=1,alpha=1)\n",
    "        rec2 = plt.Rectangle((0, 20), 16.5,30,ls='-', color='None', zorder=1,alpha=1)\n",
    "\n",
    "        ## Pitch rectangle\n",
    "        rec3 = plt.Rectangle((-1, -1), 106,70,ls='-',color=\"None\", zorder=1,alpha=1)\n",
    "\n",
    "        ax.add_artist(rec3)\n",
    "        ax.add_artist(rec1)\n",
    "        ax.add_artist(rec2)\n",
    "        ax.add_artist(circle3)\n",
    "        ax.add_artist(circle4)\n",
    "        ax.add_artist(circle5)\n",
    "        ax.add_artist(circle6)\n",
    "        \n",
    "    else:\n",
    "        if view.lower().startswith(\"h\"):\n",
    "            fig,ax = plt.subplots(figsize=(10.4,6.8))\n",
    "            plt.ylim(49,105)\n",
    "            plt.xlim(-1,69)\n",
    "        else:\n",
    "            fig,ax = plt.subplots(figsize=(6.8,10.4))\n",
    "            plt.ylim(-1,105)\n",
    "            plt.xlim(-1,69)\n",
    "        ax.axis('off') # this hides the x and y ticks\n",
    "\n",
    "        # side and goal lines #\n",
    "        lx1 = [0,0,68,68,0]\n",
    "        ly1 = [0,104,104,0,0]\n",
    "\n",
    "        plt.plot(lx1,ly1,color=line,zorder=5)\n",
    "\n",
    "\n",
    "        # boxes, 6 yard box and goals\n",
    "\n",
    "            #outer boxes#\n",
    "        lx2 = [13.84,13.84,54.16,54.16] \n",
    "        ly2 = [104,87.5,87.5,104]\n",
    "        plt.plot(lx2,ly2,color=line,zorder=5)\n",
    "\n",
    "        lx3 = [13.84,13.84,54.16,54.16] \n",
    "        ly3 = [0,16.5,16.5,0]\n",
    "        plt.plot(lx3,ly3,color=line,zorder=5)\n",
    "\n",
    "            #goals#\n",
    "        lx4 = [30.34,30.34,37.66,37.66]\n",
    "        ly4 = [104,104.2,104.2,104]\n",
    "        plt.plot(lx4,ly4,color=line,zorder=5)\n",
    "\n",
    "        lx5 = [30.34,30.34,37.66,37.66]\n",
    "        ly5 = [0,-0.2,-0.2,0]\n",
    "        plt.plot(lx5,ly5,color=line,zorder=5)\n",
    "\n",
    "\n",
    "           #6 yard boxes#\n",
    "        lx6 = [24.84,24.84,43.16,43.16]\n",
    "        ly6 = [104,99.5,99.5,104]\n",
    "        plt.plot(lx6,ly6,color=line,zorder=5)\n",
    "\n",
    "        lx7 = [24.84,24.84,43.16,43.16]\n",
    "        ly7 = [0,4.5,4.5,0]\n",
    "        plt.plot(lx7,ly7,color=line,zorder=5)\n",
    "\n",
    "        #Halfway line, penalty spots, and kickoff spot\n",
    "        lx8 = [0,68] \n",
    "        ly8 = [52,52]\n",
    "        plt.plot(lx8,ly8,color=line,zorder=5)\n",
    "\n",
    "\n",
    "        plt.scatter(34,93,color=line,zorder=5)\n",
    "        plt.scatter(34,11,color=line,zorder=5)\n",
    "        plt.scatter(34,52,color=line,zorder=5)\n",
    "\n",
    "        circle1 = plt.Circle((34,93.5), 9.15,ls='solid',lw=1.5,color=line, fill=False, zorder=1,alpha=1)\n",
    "        circle2 = plt.Circle((34,10.5), 9.15,ls='solid',lw=1.5,color=line, fill=False, zorder=1,alpha=1)\n",
    "        circle3 = plt.Circle((34,52), 9.15,ls='solid',lw=1.5,color=line, fill=False, zorder=2,alpha=1)\n",
    "\n",
    "\n",
    "        ## Rectangles in boxes\n",
    "        rec1 = plt.Rectangle((20, 87.5), 30,16.5,ls='-',color=pitch, zorder=1,alpha=1)\n",
    "        rec2 = plt.Rectangle((20, 0), 30,16.5,ls='-',color=pitch, zorder=1,alpha=1)\n",
    "\n",
    "        ## Pitch rectangle\n",
    "        rec3 = plt.Rectangle((-1, -1), 70,106,ls='-',color=pitch, zorder=1,alpha=1)\n",
    "\n",
    "        ax.add_artist(rec3)\n",
    "        ax.add_artist(circle1)\n",
    "        ax.add_artist(circle2)\n",
    "        ax.add_artist(rec1)\n",
    "        ax.add_artist(rec2)\n",
    "        ax.add_artist(circle3)\n",
    "        \n",
    "        \n",
    "    return fig, ax"
   ]
  },
  {
   "cell_type": "code",
   "execution_count": 30,
   "metadata": {
    "ExecuteTime": {
     "end_time": "2020-11-24T19:39:17.969771Z",
     "start_time": "2020-11-24T19:39:17.945739Z"
    }
   },
   "outputs": [],
   "source": [
    "def heatmap(x, y, title, c):\n",
    "    fig, ax = draw_pitch(\"#000000\",\"h\",\"full\")\n",
    "    sns.kdeplot(x, y, cmap = c, shade = True)\n",
    "    plt.title(title, fontsize = 30)\n",
    "    plt.xlim(-1,105)\n",
    "    plt.ylim(-1,69)\n",
    "    plt.axis('off')\n",
    "    plt.show()"
   ]
  },
  {
   "cell_type": "markdown",
   "metadata": {},
   "source": [
    "**Plotting intial and final locations of progressive passes for LCBs in four defender formations**"
   ]
  },
  {
   "cell_type": "code",
   "execution_count": 36,
   "metadata": {
    "ExecuteTime": {
     "end_time": "2020-11-24T19:39:34.705942Z",
     "start_time": "2020-11-24T19:39:33.927857Z"
    }
   },
   "outputs": [],
   "source": [
    "df_four_defs = pd.read_pickle('../data_top5/clusters/clusters_prog/cluster_prog_four_defs.pkl')"
   ]
  },
  {
   "cell_type": "code",
   "execution_count": 37,
   "metadata": {},
   "outputs": [],
   "source": [
    "four_defs_lcb_lf_clusters = df_four_defs[df_four_defs['footedness'].apply(lambda x: x.split('-')[-2]=='left')]\n",
    "four_defs_lcb_rf_clusters = df_four_defs[df_four_defs['footedness'].apply(lambda x: x.split('-')[-2]=='right')]"
   ]
  },
  {
   "cell_type": "code",
   "execution_count": 38,
   "metadata": {
    "ExecuteTime": {
     "end_time": "2020-11-24T19:39:36.118332Z",
     "start_time": "2020-11-24T19:39:36.094288Z"
    }
   },
   "outputs": [],
   "source": [
    "four_defs_lcb_rf_proglist = four_defs_lcb_rf_clusters['L_CB_progaccpassloc'].tolist()"
   ]
  },
  {
   "cell_type": "code",
   "execution_count": 39,
   "metadata": {
    "ExecuteTime": {
     "end_time": "2020-11-24T19:39:36.790489Z",
     "start_time": "2020-11-24T19:39:36.766446Z"
    }
   },
   "outputs": [],
   "source": [
    "four_defs_lcb_rf_prog_start, four_defs_lcb_rf_prog_end = getstartendfull(four_defs_lcb_rf_proglist)"
   ]
  },
  {
   "cell_type": "code",
   "execution_count": 40,
   "metadata": {
    "ExecuteTime": {
     "end_time": "2020-11-24T19:39:37.406260Z",
     "start_time": "2020-11-24T19:39:37.382254Z"
    }
   },
   "outputs": [],
   "source": [
    "four_defs_lcb_rf_prog_start_x, four_defs_lcb_rf_prog_start_y = getxy(four_defs_lcb_rf_prog_start)"
   ]
  },
  {
   "cell_type": "code",
   "execution_count": 41,
   "metadata": {
    "ExecuteTime": {
     "end_time": "2020-11-24T19:39:41.193359Z",
     "start_time": "2020-11-24T19:39:38.204175Z"
    }
   },
   "outputs": [
    {
     "data": {
      "image/png": "[encoded data removed]",
      "text/plain": [
       "<Figure size 748.8x489.6 with 1 Axes>"
      ]
     },
     "metadata": {
      "needs_background": "light"
     },
     "output_type": "display_data"
    }
   ],
   "source": [
    "heatmap(four_defs_lcb_rf_prog_start_x, four_defs_lcb_rf_prog_start_y, 'Right Footed LCBs : Intial Progressive Pass Locations', 'Blues')"
   ]
  },
  {
   "cell_type": "code",
   "execution_count": 42,
   "metadata": {
    "ExecuteTime": {
     "end_time": "2020-11-24T19:39:44.462742Z",
     "start_time": "2020-11-24T19:39:44.446799Z"
    }
   },
   "outputs": [
    {
     "name": "stdout",
     "output_type": "stream",
     "text": [
      "21289\n"
     ]
    }
   ],
   "source": [
    "four_defs_lcb_rf_prog_end_x, four_defs_lcb_rf_prog_end_y = getxy(four_defs_lcb_rf_prog_end)\n",
    "print(len(four_defs_lcb_rf_prog_end_x))"
   ]
  },
  {
   "cell_type": "code",
   "execution_count": 43,
   "metadata": {
    "ExecuteTime": {
     "end_time": "2020-11-24T19:39:52.694881Z",
     "start_time": "2020-11-24T19:39:49.822096Z"
    }
   },
   "outputs": [
    {
     "data": {
      "image/png": "[encoded data removed]",
      "text/plain": [
       "<Figure size 748.8x489.6 with 1 Axes>"
      ]
     },
     "metadata": {
      "needs_background": "light"
     },
     "output_type": "display_data"
    }
   ],
   "source": [
    "heatmap(four_defs_lcb_rf_prog_end_x, four_defs_lcb_rf_prog_end_y, 'Right Footed LCBs: Final Progressive Pass Locations', 'Reds')"
   ]
  },
  {
   "cell_type": "code",
   "execution_count": 44,
   "metadata": {
    "ExecuteTime": {
     "end_time": "2020-11-24T19:39:58.986660Z",
     "start_time": "2020-11-24T19:39:58.970349Z"
    }
   },
   "outputs": [],
   "source": [
    "four_defs_lcb_lf_proglist = four_defs_lcb_lf_clusters['L_CB_progaccpassloc'].tolist()"
   ]
  },
  {
   "cell_type": "code",
   "execution_count": 45,
   "metadata": {
    "ExecuteTime": {
     "end_time": "2020-11-24T19:39:59.430318Z",
     "start_time": "2020-11-24T19:39:59.414375Z"
    }
   },
   "outputs": [],
   "source": [
    "four_defs_lcb_lf_prog_start, four_defs_lcb_lf_prog_end = getstartendfull(four_defs_lcb_lf_proglist)"
   ]
  },
  {
   "cell_type": "code",
   "execution_count": 46,
   "metadata": {
    "ExecuteTime": {
     "end_time": "2020-11-24T19:39:59.834653Z",
     "start_time": "2020-11-24T19:39:59.810724Z"
    }
   },
   "outputs": [
    {
     "name": "stdout",
     "output_type": "stream",
     "text": [
      "14475\n"
     ]
    }
   ],
   "source": [
    "four_defs_lcb_lf_prog_start_x, four_defs_lcb_lf_prog_start_y = getxy(four_defs_lcb_lf_prog_start)\n",
    "print(len(four_defs_lcb_lf_prog_start_x))"
   ]
  },
  {
   "cell_type": "code",
   "execution_count": 47,
   "metadata": {
    "ExecuteTime": {
     "end_time": "2020-11-24T19:40:03.934440Z",
     "start_time": "2020-11-24T19:40:01.587486Z"
    }
   },
   "outputs": [
    {
     "data": {
      "image/png": "[encoded data removed]",
      "text/plain": [
       "<Figure size 748.8x489.6 with 1 Axes>"
      ]
     },
     "metadata": {
      "needs_background": "light"
     },
     "output_type": "display_data"
    }
   ],
   "source": [
    "heatmap(four_defs_lcb_lf_prog_start_x, four_defs_lcb_lf_prog_start_y, 'Left Footed LCBs: Initial Progressive Pass Locations', 'Blues')"
   ]
  },
  {
   "cell_type": "code",
   "execution_count": 48,
   "metadata": {
    "ExecuteTime": {
     "end_time": "2020-11-24T19:40:05.966012Z",
     "start_time": "2020-11-24T19:40:05.949993Z"
    }
   },
   "outputs": [],
   "source": [
    "four_defs_lcb_lf_prog_end_x, four_defs_lcb_lf_prog_end_y = getxy(four_defs_lcb_lf_prog_end)"
   ]
  },
  {
   "cell_type": "code",
   "execution_count": 49,
   "metadata": {
    "ExecuteTime": {
     "end_time": "2020-11-24T19:40:09.431022Z",
     "start_time": "2020-11-24T19:40:07.149827Z"
    }
   },
   "outputs": [
    {
     "data": {
      "image/png": "[encoded data removed]",
      "text/plain": [
       "<Figure size 748.8x489.6 with 1 Axes>"
      ]
     },
     "metadata": {
      "needs_background": "light"
     },
     "output_type": "display_data"
    }
   ],
   "source": [
    "heatmap(four_defs_lcb_lf_prog_end_x, four_defs_lcb_lf_prog_end_y, 'Left Footed LCBs : Final Progressive Pass Locations', 'Reds')"
   ]
  },
  {
   "cell_type": "markdown",
   "metadata": {},
   "source": [
    "**Plotting initial and final pass locations of progressive passes for LCBs in three/five defender formations**"
   ]
  },
  {
   "cell_type": "code",
   "execution_count": 52,
   "metadata": {},
   "outputs": [],
   "source": [
    "def three_five_lcb_foot(row,foot):\n",
    "    if row['backline']==3:\n",
    "        return row['footedness'].split('-')[-1]==foot\n",
    "    else:\n",
    "        return row['footedness'].split('-')[-2]==foot"
   ]
  },
  {
   "cell_type": "code",
   "execution_count": 53,
   "metadata": {
    "ExecuteTime": {
     "end_time": "2020-11-24T19:40:21.525397Z",
     "start_time": "2020-11-24T19:40:20.658063Z"
    }
   },
   "outputs": [],
   "source": [
    "# Creating dataframes for clusters for 3 or 5 defender formations\n",
    "df_three_five_defs = pd.read_pickle('../data_top5/clusters/clusters_prog/cluster_prog_three_five_defs.pkl')\n",
    "three_five_defs_lcb_lf_clusters = df_three_five_defs[df_three_five_defs[['backline','footedness']].apply(lambda x : three_five_lcb_foot(x,'left'),axis=1)]\n",
    "three_five_defs_lcb_rf_clusters = df_three_five_defs[df_three_five_defs[['backline','footedness']].apply(lambda x : three_five_lcb_foot(x,'right'),axis=1)]"
   ]
  },
  {
   "cell_type": "code",
   "execution_count": 54,
   "metadata": {
    "ExecuteTime": {
     "end_time": "2020-11-24T19:40:22.871071Z",
     "start_time": "2020-11-24T19:40:22.855036Z"
    }
   },
   "outputs": [],
   "source": [
    "three_five_lcb_lf_progpassloclist = three_five_defs_lcb_lf_clusters['LCB_progaccpassloc'].tolist()\n",
    "three_five_lcb_rf_progpassloclist = three_five_defs_lcb_rf_clusters['LCB_progaccpassloc'].tolist()"
   ]
  },
  {
   "cell_type": "code",
   "execution_count": 56,
   "metadata": {
    "ExecuteTime": {
     "end_time": "2020-11-24T19:40:23.350733Z",
     "start_time": "2020-11-24T19:40:23.342707Z"
    }
   },
   "outputs": [],
   "source": [
    "three_five_lcb_lf_prog_start, three_five_lcb_lf_prog_end = getstartendfull(three_five_lcb_lf_progpassloclist)\n",
    "three_five_lcb_rf_prog_start, three_five_lcb_rf_prog_end = getstartendfull(three_five_lcb_rf_progpassloclist)"
   ]
  },
  {
   "cell_type": "code",
   "execution_count": 57,
   "metadata": {
    "ExecuteTime": {
     "end_time": "2020-11-24T19:40:24.095317Z",
     "start_time": "2020-11-24T19:40:24.063294Z"
    }
   },
   "outputs": [
    {
     "name": "stdout",
     "output_type": "stream",
     "text": [
      "6301\n",
      "4391\n"
     ]
    }
   ],
   "source": [
    "three_five_lcb_lf_prog_start_x, three_five_lcb_lf_prog_start_y = getxy(three_five_lcb_lf_prog_start)\n",
    "three_five_lcb_lf_prog_end_x, three_five_lcb_lf_prog_end_y = getxy(three_five_lcb_lf_prog_end)\n",
    "three_five_lcb_rf_prog_start_x, three_five_lcb_rf_prog_start_y = getxy(three_five_lcb_rf_prog_start)\n",
    "three_five_lcb_rf_prog_end_x, three_five_lcb_rf_prog_end_y = getxy(three_five_lcb_rf_prog_end)\n",
    "print(len(three_five_lcb_lf_prog_start_x))\n",
    "print(len(three_five_lcb_rf_prog_start_x))"
   ]
  },
  {
   "cell_type": "code",
   "execution_count": 58,
   "metadata": {
    "ExecuteTime": {
     "end_time": "2020-11-24T19:40:29.349517Z",
     "start_time": "2020-11-24T19:40:27.707519Z"
    }
   },
   "outputs": [
    {
     "data": {
      "image/png": "[encoded data removed]",
      "text/plain": [
       "<Figure size 748.8x489.6 with 1 Axes>"
      ]
     },
     "metadata": {
      "needs_background": "light"
     },
     "output_type": "display_data"
    }
   ],
   "source": [
    "heatmap(three_five_lcb_lf_prog_start_x, three_five_lcb_lf_prog_start_y, 'Left Footed LCBs : Initial Progressive Pass Locations', 'Blues')"
   ]
  },
  {
   "cell_type": "code",
   "execution_count": 59,
   "metadata": {
    "ExecuteTime": {
     "end_time": "2020-11-24T19:40:30.957687Z",
     "start_time": "2020-11-24T19:40:29.349517Z"
    }
   },
   "outputs": [
    {
     "data": {
      "image/png": "[encoded data removed]",
      "text/plain": [
       "<Figure size 748.8x489.6 with 1 Axes>"
      ]
     },
     "metadata": {
      "needs_background": "light"
     },
     "output_type": "display_data"
    }
   ],
   "source": [
    "heatmap(three_five_lcb_lf_prog_end_x, three_five_lcb_lf_prog_end_y, 'Left Footed LCBs : Final Progressive Pass Locations', 'Reds')"
   ]
  },
  {
   "cell_type": "code",
   "execution_count": 60,
   "metadata": {
    "ExecuteTime": {
     "end_time": "2020-11-24T19:40:38.264809Z",
     "start_time": "2020-11-24T19:40:36.500348Z"
    }
   },
   "outputs": [
    {
     "data": {
      "image/png": "[encoded data removed]",
      "text/plain": [
       "<Figure size 748.8x489.6 with 1 Axes>"
      ]
     },
     "metadata": {
      "needs_background": "light"
     },
     "output_type": "display_data"
    }
   ],
   "source": [
    "heatmap(three_five_lcb_rf_prog_start_x, three_five_lcb_rf_prog_start_y, 'Right Footed LCBs : Initial Progressive Pass Locations', 'Blues')"
   ]
  },
  {
   "cell_type": "code",
   "execution_count": 61,
   "metadata": {
    "ExecuteTime": {
     "end_time": "2020-11-24T19:40:40.112287Z",
     "start_time": "2020-11-24T19:40:38.264809Z"
    }
   },
   "outputs": [
    {
     "data": {
      "image/png": "[encoded data removed]",
      "text/plain": [
       "<Figure size 748.8x489.6 with 1 Axes>"
      ]
     },
     "metadata": {
      "needs_background": "light"
     },
     "output_type": "display_data"
    }
   ],
   "source": [
    "heatmap(three_five_lcb_rf_prog_end_x, three_five_lcb_rf_prog_end_y, 'Right Footed LCBs : Final Progressive Pass Locations', 'Reds')"
   ]
  },
  {
   "cell_type": "markdown",
   "metadata": {},
   "source": [
    "**Finding percentage of progressive passes per region for LCBs in four defender formations**"
   ]
  },
  {
   "cell_type": "markdown",
   "metadata": {},
   "source": [
    "Order:<br>percentage(x_rightflank_attack), percentage(x_rightflank_def), percentage(\n",
    "        x_leftflank_attack), percentage(x_leftflank_def), percentage(\n",
    "            x_rightcentral_attack), percentage(x_rightcentral_def), percentage(\n",
    "                x_leftcentral_attack), percentage(x_leftcentral_def)"
   ]
  },
  {
   "cell_type": "code",
   "execution_count": 62,
   "metadata": {
    "ExecuteTime": {
     "end_time": "2020-11-24T19:41:05.036595Z",
     "start_time": "2020-11-24T19:41:05.012565Z"
    }
   },
   "outputs": [],
   "source": [
    "def get_region(x, y):\n",
    "\n",
    "    x_rightflank_attack = [\n",
    "        x[i] for i in range(len(x)) if (x[i] >= 52) and (y[i] <= 17)\n",
    "    ]\n",
    "    y_rightflank_attack = [\n",
    "        y[i] for i in range(len(x)) if (x[i] >= 52) and (y[i] <= 17)\n",
    "    ]\n",
    "    x_rightflank_def = [\n",
    "        x[i] for i in range(len(x)) if (x[i] < 52) and (y[i] <= 17)\n",
    "    ]\n",
    "    y_rightflank_def = [\n",
    "        y[i] for i in range(len(x)) if (x[i] < 52) and (y[i] <= 17)\n",
    "    ]\n",
    "\n",
    "    x_leftflank_attack = [\n",
    "        x[i] for i in range(len(x)) if (x[i] >= 52) and (y[i] > 51)\n",
    "    ]\n",
    "    y_leftflank_attack = [\n",
    "        y[i] for i in range(len(x)) if (x[i] >= 52) and (y[i] > 51)\n",
    "    ]\n",
    "    x_leftflank_def = [\n",
    "        x[i] for i in range(len(x)) if (x[i] < 52) and (y[i] > 51)\n",
    "    ]\n",
    "    y_leftflank_def = [\n",
    "        y[i] for i in range(len(x)) if (x[i] < 52) and (y[i] > 51)\n",
    "    ]\n",
    "\n",
    "    x_rightcentral_attack = [\n",
    "        x[i] for i in range(len(x))\n",
    "        if (x[i] >= 52) and (y[i] > 17) and (y[i] <= 34)\n",
    "    ]\n",
    "    y_rightcentral_attack = [\n",
    "        y[i] for i in range(len(x))\n",
    "        if (x[i] >= 52) and (y[i] > 17) and (y[i] <= 34)\n",
    "    ]\n",
    "    x_rightcentral_def = [\n",
    "        x[i] for i in range(len(x))\n",
    "        if (x[i] < 52) and (y[i] > 17) and (y[i] <= 34)\n",
    "    ]\n",
    "    y_rightcentral_def = [\n",
    "        y[i] for i in range(len(x))\n",
    "        if (x[i] < 52) and (y[i] > 17) and (y[i] <= 34)\n",
    "    ]\n",
    "\n",
    "    x_leftcentral_attack = [\n",
    "        x[i] for i in range(len(x))\n",
    "        if (x[i] >= 52) and (y[i] > 34) and (y[i] <= 51)\n",
    "    ]\n",
    "    y_leftcentral_attack = [\n",
    "        y[i] for i in range(len(x))\n",
    "        if (x[i] >= 52) and (y[i] > 34) and (y[i] <= 51)\n",
    "    ]\n",
    "    x_leftcentral_def = [\n",
    "        x[i] for i in range(len(x))\n",
    "        if (x[i] < 52) and (y[i] > 34) and (y[i] <= 51)\n",
    "    ]\n",
    "    y_leftcentral_def = [\n",
    "        y[i] for i in range(len(x))\n",
    "        if (x[i] < 52) and (y[i] > 34) and (y[i] <= 51)\n",
    "    ]\n",
    "\n",
    "    return [len(x_rightflank_attack), len(x_rightflank_def), len(\n",
    "        x_leftflank_attack), len(x_leftflank_def), len(\n",
    "            x_rightcentral_attack), len(x_rightcentral_def), len(\n",
    "                x_leftcentral_attack), len(x_leftcentral_def)]"
   ]
  },
  {
   "cell_type": "code",
   "execution_count": 63,
   "metadata": {
    "ExecuteTime": {
     "end_time": "2020-11-24T19:41:07.784734Z",
     "start_time": "2020-11-24T19:41:07.696793Z"
    }
   },
   "outputs": [
    {
     "name": "stdout",
     "output_type": "stream",
     "text": [
      "[2873, 1781, 8678, 496, 2699, 790, 3833, 139]\n",
      "rightflank_attack : 13.495232279581003\n",
      "rightflank_def : 8.36582272535112\n",
      "leftflank_attack : 40.762835267039314\n",
      "leftflank_def : 2.3298417022875664\n",
      "rightcentral_attack : 12.677908779181738\n",
      "rightcentral_def : 3.710836582272535\n",
      "leftcentral_attack : 18.004603316266614\n",
      "leftcentral_def : 0.6529193480201043\n"
     ]
    }
   ],
   "source": [
    "four_lcb_rf_region = get_region(four_defs_lcb_rf_prog_end_x, four_defs_lcb_rf_prog_end_y)\n",
    "print(four_lcb_rf_region)\n",
    "regions = ['rightflank_attack','rightflank_def',\n",
    "           'leftflank_attack','leftflank_def',\n",
    "           'rightcentral_attack','rightcentral_def',\n",
    "           'leftcentral_attack','leftcentral_def']\n",
    "four_lcb_rf_region_per = [i/len(four_defs_lcb_rf_prog_end_x)*100 for i in four_lcb_rf_region]\n",
    "for region, percent in zip(regions,four_lcb_rf_region_per):\n",
    "    print(region,\":\",percent)"
   ]
  },
  {
   "cell_type": "code",
   "execution_count": 64,
   "metadata": {
    "ExecuteTime": {
     "end_time": "2020-11-24T19:41:09.531307Z",
     "start_time": "2020-11-24T19:41:09.396720Z"
    }
   },
   "outputs": [
    {
     "name": "stdout",
     "output_type": "stream",
     "text": [
      "[1265, 880, 6513, 363, 1699, 535, 3090, 130]\n",
      "rightflank_attack : 8.739205526770293\n",
      "rightflank_def : 6.079447322970639\n",
      "leftflank_attack : 44.99481865284974\n",
      "leftflank_def : 2.5077720207253886\n",
      "rightcentral_attack : 11.73747841105354\n",
      "rightcentral_def : 3.696027633851468\n",
      "leftcentral_attack : 21.34715025906736\n",
      "leftcentral_def : 0.8981001727115717\n"
     ]
    }
   ],
   "source": [
    "four_lcb_lf_region = get_region(four_defs_lcb_lf_prog_end_x, four_defs_lcb_lf_prog_end_y)\n",
    "print(four_lcb_lf_region)\n",
    "regions = ['rightflank_attack','rightflank_def',\n",
    "           'leftflank_attack','leftflank_def',\n",
    "           'rightcentral_attack','rightcentral_def',\n",
    "           'leftcentral_attack','leftcentral_def']\n",
    "four_lcb_lf_region_per = [i/len(four_defs_lcb_lf_prog_end_x)*100 for i in four_lcb_lf_region]\n",
    "for region, percent in zip(regions,four_lcb_lf_region_per):\n",
    "    print(region,\":\",percent)"
   ]
  },
  {
   "cell_type": "code",
   "execution_count": 66,
   "metadata": {
    "ExecuteTime": {
     "end_time": "2020-11-24T19:41:15.696811Z",
     "start_time": "2020-11-24T19:41:12.657951Z"
    }
   },
   "outputs": [
    {
     "data": {
      "application/vnd.plotly.v1+json": {
       "config": {
        "plotlyServerURL": "https://plot.ly"
       },
       "data": [
        {
         "alignmentgroup": "True",
         "hovertemplate": "Set=Right Footed LCB<br>Accurate Prog Pass %=%{x}<br>Region=%{y}<extra></extra>",
         "legendgroup": "Right Footed LCB",
         "marker": {
          "color": "#636efa"
         },
         "name": "Right Footed LCB",
         "offsetgroup": "Right Footed LCB",
         "orientation": "h",
         "showlegend": true,
         "textposition": "auto",
         "type": "bar",
         "x": [
          13.495232279581003,
          8.36582272535112,
          40.762835267039314,
          2.3298417022875664,
          12.677908779181738,
          3.710836582272535,
          18.004603316266614,
          0.6529193480201043
         ],
         "xaxis": "x",
         "y": [
          "rightflank_attack",
          "rightflank_def",
          "leftflank_attack",
          "leftflank_def",
          "rightcentral_attack",
          "rightcentral_def",
          "leftcentral_attack",
          "leftcentral_def"
         ],
         "yaxis": "y"
        },
        {
         "alignmentgroup": "True",
         "hovertemplate": "Set=Left Footed LCB<br>Accurate Prog Pass %=%{x}<br>Region=%{y}<extra></extra>",
         "legendgroup": "Left Footed LCB",
         "marker": {
          "color": "#EF553B"
         },
         "name": "Left Footed LCB",
         "offsetgroup": "Left Footed LCB",
         "orientation": "h",
         "showlegend": true,
         "textposition": "auto",
         "type": "bar",
         "x": [
          8.739205526770293,
          6.079447322970639,
          44.99481865284974,
          2.5077720207253886,
          11.73747841105354,
          3.696027633851468,
          21.34715025906736,
          0.8981001727115717
         ],
         "xaxis": "x",
         "y": [
          "rightflank_attack",
          "rightflank_def",
          "leftflank_attack",
          "leftflank_def",
          "rightcentral_attack",
          "rightcentral_def",
          "leftcentral_attack",
          "leftcentral_def"
         ],
         "yaxis": "y"
        }
       ],
       "layout": {
        "autosize": true,
        "barmode": "group",
        "legend": {
         "title": {
          "text": "Set"
         },
         "tracegroupgap": 0
        },
        "margin": {
         "t": 60
        },
        "template": {
         "data": {
          "bar": [
           {
            "error_x": {
             "color": "#2a3f5f"
            },
            "error_y": {
             "color": "#2a3f5f"
            },
            "marker": {
             "line": {
              "color": "#E5ECF6",
              "width": 0.5
             }
            },
            "type": "bar"
           }
          ],
          "barpolar": [
           {
            "marker": {
             "line": {
              "color": "#E5ECF6",
              "width": 0.5
             }
            },
            "type": "barpolar"
           }
          ],
          "carpet": [
           {
            "aaxis": {
             "endlinecolor": "#2a3f5f",
             "gridcolor": "white",
             "linecolor": "white",
             "minorgridcolor": "white",
             "startlinecolor": "#2a3f5f"
            },
            "baxis": {
             "endlinecolor": "#2a3f5f",
             "gridcolor": "white",
             "linecolor": "white",
             "minorgridcolor": "white",
             "startlinecolor": "#2a3f5f"
            },
            "type": "carpet"
           }
          ],
          "choropleth": [
           {
            "colorbar": {
             "outlinewidth": 0,
             "ticks": ""
            },
            "type": "choropleth"
           }
          ],
          "contour": [
           {
            "colorbar": {
             "outlinewidth": 0,
             "ticks": ""
            },
            "colorscale": [
             [
              0,
              "#0d0887"
             ],
             [
              0.1111111111111111,
              "#46039f"
             ],
             [
              0.2222222222222222,
              "#7201a8"
             ],
             [
              0.3333333333333333,
              "#9c179e"
             ],
             [
              0.4444444444444444,
              "#bd3786"
             ],
             [
              0.5555555555555556,
              "#d8576b"
             ],
             [
              0.6666666666666666,
              "#ed7953"
             ],
             [
              0.7777777777777778,
              "#fb9f3a"
             ],
             [
              0.8888888888888888,
              "#fdca26"
             ],
             [
              1,
              "#f0f921"
             ]
            ],
            "type": "contour"
           }
          ],
          "contourcarpet": [
           {
            "colorbar": {
             "outlinewidth": 0,
             "ticks": ""
            },
            "type": "contourcarpet"
           }
          ],
          "heatmap": [
           {
            "colorbar": {
             "outlinewidth": 0,
             "ticks": ""
            },
            "colorscale": [
             [
              0,
              "#0d0887"
             ],
             [
              0.1111111111111111,
              "#46039f"
             ],
             [
              0.2222222222222222,
              "#7201a8"
             ],
             [
              0.3333333333333333,
              "#9c179e"
             ],
             [
              0.4444444444444444,
              "#bd3786"
             ],
             [
              0.5555555555555556,
              "#d8576b"
             ],
             [
              0.6666666666666666,
              "#ed7953"
             ],
             [
              0.7777777777777778,
              "#fb9f3a"
             ],
             [
              0.8888888888888888,
              "#fdca26"
             ],
             [
              1,
              "#f0f921"
             ]
            ],
            "type": "heatmap"
           }
          ],
          "heatmapgl": [
           {
            "colorbar": {
             "outlinewidth": 0,
             "ticks": ""
            },
            "colorscale": [
             [
              0,
              "#0d0887"
             ],
             [
              0.1111111111111111,
              "#46039f"
             ],
             [
              0.2222222222222222,
              "#7201a8"
             ],
             [
              0.3333333333333333,
              "#9c179e"
             ],
             [
              0.4444444444444444,
              "#bd3786"
             ],
             [
              0.5555555555555556,
              "#d8576b"
             ],
             [
              0.6666666666666666,
              "#ed7953"
             ],
             [
              0.7777777777777778,
              "#fb9f3a"
             ],
             [
              0.8888888888888888,
              "#fdca26"
             ],
             [
              1,
              "#f0f921"
             ]
            ],
            "type": "heatmapgl"
           }
          ],
          "histogram": [
           {
            "marker": {
             "colorbar": {
              "outlinewidth": 0,
              "ticks": ""
             }
            },
            "type": "histogram"
           }
          ],
          "histogram2d": [
           {
            "colorbar": {
             "outlinewidth": 0,
             "ticks": ""
            },
            "colorscale": [
             [
              0,
              "#0d0887"
             ],
             [
              0.1111111111111111,
              "#46039f"
             ],
             [
              0.2222222222222222,
              "#7201a8"
             ],
             [
              0.3333333333333333,
              "#9c179e"
             ],
             [
              0.4444444444444444,
              "#bd3786"
             ],
             [
              0.5555555555555556,
              "#d8576b"
             ],
             [
              0.6666666666666666,
              "#ed7953"
             ],
             [
              0.7777777777777778,
              "#fb9f3a"
             ],
             [
              0.8888888888888888,
              "#fdca26"
             ],
             [
              1,
              "#f0f921"
             ]
            ],
            "type": "histogram2d"
           }
          ],
          "histogram2dcontour": [
           {
            "colorbar": {
             "outlinewidth": 0,
             "ticks": ""
            },
            "colorscale": [
             [
              0,
              "#0d0887"
             ],
             [
              0.1111111111111111,
              "#46039f"
             ],
             [
              0.2222222222222222,
              "#7201a8"
             ],
             [
              0.3333333333333333,
              "#9c179e"
             ],
             [
              0.4444444444444444,
              "#bd3786"
             ],
             [
              0.5555555555555556,
              "#d8576b"
             ],
             [
              0.6666666666666666,
              "#ed7953"
             ],
             [
              0.7777777777777778,
              "#fb9f3a"
             ],
             [
              0.8888888888888888,
              "#fdca26"
             ],
             [
              1,
              "#f0f921"
             ]
            ],
            "type": "histogram2dcontour"
           }
          ],
          "mesh3d": [
           {
            "colorbar": {
             "outlinewidth": 0,
             "ticks": ""
            },
            "type": "mesh3d"
           }
          ],
          "parcoords": [
           {
            "line": {
             "colorbar": {
              "outlinewidth": 0,
              "ticks": ""
             }
            },
            "type": "parcoords"
           }
          ],
          "pie": [
           {
            "automargin": true,
            "type": "pie"
           }
          ],
          "scatter": [
           {
            "marker": {
             "colorbar": {
              "outlinewidth": 0,
              "ticks": ""
             }
            },
            "type": "scatter"
           }
          ],
          "scatter3d": [
           {
            "line": {
             "colorbar": {
              "outlinewidth": 0,
              "ticks": ""
             }
            },
            "marker": {
             "colorbar": {
              "outlinewidth": 0,
              "ticks": ""
             }
            },
            "type": "scatter3d"
           }
          ],
          "scattercarpet": [
           {
            "marker": {
             "colorbar": {
              "outlinewidth": 0,
              "ticks": ""
             }
            },
            "type": "scattercarpet"
           }
          ],
          "scattergeo": [
           {
            "marker": {
             "colorbar": {
              "outlinewidth": 0,
              "ticks": ""
             }
            },
            "type": "scattergeo"
           }
          ],
          "scattergl": [
           {
            "marker": {
             "colorbar": {
              "outlinewidth": 0,
              "ticks": ""
             }
            },
            "type": "scattergl"
           }
          ],
          "scattermapbox": [
           {
            "marker": {
             "colorbar": {
              "outlinewidth": 0,
              "ticks": ""
             }
            },
            "type": "scattermapbox"
           }
          ],
          "scatterpolar": [
           {
            "marker": {
             "colorbar": {
              "outlinewidth": 0,
              "ticks": ""
             }
            },
            "type": "scatterpolar"
           }
          ],
          "scatterpolargl": [
           {
            "marker": {
             "colorbar": {
              "outlinewidth": 0,
              "ticks": ""
             }
            },
            "type": "scatterpolargl"
           }
          ],
          "scatterternary": [
           {
            "marker": {
             "colorbar": {
              "outlinewidth": 0,
              "ticks": ""
             }
            },
            "type": "scatterternary"
           }
          ],
          "surface": [
           {
            "colorbar": {
             "outlinewidth": 0,
             "ticks": ""
            },
            "colorscale": [
             [
              0,
              "#0d0887"
             ],
             [
              0.1111111111111111,
              "#46039f"
             ],
             [
              0.2222222222222222,
              "#7201a8"
             ],
             [
              0.3333333333333333,
              "#9c179e"
             ],
             [
              0.4444444444444444,
              "#bd3786"
             ],
             [
              0.5555555555555556,
              "#d8576b"
             ],
             [
              0.6666666666666666,
              "#ed7953"
             ],
             [
              0.7777777777777778,
              "#fb9f3a"
             ],
             [
              0.8888888888888888,
              "#fdca26"
             ],
             [
              1,
              "#f0f921"
             ]
            ],
            "type": "surface"
           }
          ],
          "table": [
           {
            "cells": {
             "fill": {
              "color": "#EBF0F8"
             },
             "line": {
              "color": "white"
             }
            },
            "header": {
             "fill": {
              "color": "#C8D4E3"
             },
             "line": {
              "color": "white"
             }
            },
            "type": "table"
           }
          ]
         },
         "layout": {
          "annotationdefaults": {
           "arrowcolor": "#2a3f5f",
           "arrowhead": 0,
           "arrowwidth": 1
          },
          "coloraxis": {
           "colorbar": {
            "outlinewidth": 0,
            "ticks": ""
           }
          },
          "colorscale": {
           "diverging": [
            [
             0,
             "#8e0152"
            ],
            [
             0.1,
             "#c51b7d"
            ],
            [
             0.2,
             "#de77ae"
            ],
            [
             0.3,
             "#f1b6da"
            ],
            [
             0.4,
             "#fde0ef"
            ],
            [
             0.5,
             "#f7f7f7"
            ],
            [
             0.6,
             "#e6f5d0"
            ],
            [
             0.7,
             "#b8e186"
            ],
            [
             0.8,
             "#7fbc41"
            ],
            [
             0.9,
             "#4d9221"
            ],
            [
             1,
             "#276419"
            ]
           ],
           "sequential": [
            [
             0,
             "#0d0887"
            ],
            [
             0.1111111111111111,
             "#46039f"
            ],
            [
             0.2222222222222222,
             "#7201a8"
            ],
            [
             0.3333333333333333,
             "#9c179e"
            ],
            [
             0.4444444444444444,
             "#bd3786"
            ],
            [
             0.5555555555555556,
             "#d8576b"
            ],
            [
             0.6666666666666666,
             "#ed7953"
            ],
            [
             0.7777777777777778,
             "#fb9f3a"
            ],
            [
             0.8888888888888888,
             "#fdca26"
            ],
            [
             1,
             "#f0f921"
            ]
           ],
           "sequentialminus": [
            [
             0,
             "#0d0887"
            ],
            [
             0.1111111111111111,
             "#46039f"
            ],
            [
             0.2222222222222222,
             "#7201a8"
            ],
            [
             0.3333333333333333,
             "#9c179e"
            ],
            [
             0.4444444444444444,
             "#bd3786"
            ],
            [
             0.5555555555555556,
             "#d8576b"
            ],
            [
             0.6666666666666666,
             "#ed7953"
            ],
            [
             0.7777777777777778,
             "#fb9f3a"
            ],
            [
             0.8888888888888888,
             "#fdca26"
            ],
            [
             1,
             "#f0f921"
            ]
           ]
          },
          "colorway": [
           "#636efa",
           "#EF553B",
           "#00cc96",
           "#ab63fa",
           "#FFA15A",
           "#19d3f3",
           "#FF6692",
           "#B6E880",
           "#FF97FF",
           "#FECB52"
          ],
          "font": {
           "color": "#2a3f5f"
          },
          "geo": {
           "bgcolor": "white",
           "lakecolor": "white",
           "landcolor": "#E5ECF6",
           "showlakes": true,
           "showland": true,
           "subunitcolor": "white"
          },
          "hoverlabel": {
           "align": "left"
          },
          "hovermode": "closest",
          "mapbox": {
           "style": "light"
          },
          "paper_bgcolor": "white",
          "plot_bgcolor": "#E5ECF6",
          "polar": {
           "angularaxis": {
            "gridcolor": "white",
            "linecolor": "white",
            "ticks": ""
           },
           "bgcolor": "#E5ECF6",
           "radialaxis": {
            "gridcolor": "white",
            "linecolor": "white",
            "ticks": ""
           }
          },
          "scene": {
           "xaxis": {
            "backgroundcolor": "#E5ECF6",
            "gridcolor": "white",
            "gridwidth": 2,
            "linecolor": "white",
            "showbackground": true,
            "ticks": "",
            "zerolinecolor": "white"
           },
           "yaxis": {
            "backgroundcolor": "#E5ECF6",
            "gridcolor": "white",
            "gridwidth": 2,
            "linecolor": "white",
            "showbackground": true,
            "ticks": "",
            "zerolinecolor": "white"
           },
           "zaxis": {
            "backgroundcolor": "#E5ECF6",
            "gridcolor": "white",
            "gridwidth": 2,
            "linecolor": "white",
            "showbackground": true,
            "ticks": "",
            "zerolinecolor": "white"
           }
          },
          "shapedefaults": {
           "line": {
            "color": "#2a3f5f"
           }
          },
          "ternary": {
           "aaxis": {
            "gridcolor": "white",
            "linecolor": "white",
            "ticks": ""
           },
           "baxis": {
            "gridcolor": "white",
            "linecolor": "white",
            "ticks": ""
           },
           "bgcolor": "#E5ECF6",
           "caxis": {
            "gridcolor": "white",
            "linecolor": "white",
            "ticks": ""
           }
          },
          "title": {
           "x": 0.05
          },
          "xaxis": {
           "automargin": true,
           "gridcolor": "white",
           "linecolor": "white",
           "ticks": "",
           "title": {
            "standoff": 15
           },
           "zerolinecolor": "white",
           "zerolinewidth": 2
          },
          "yaxis": {
           "automargin": true,
           "gridcolor": "white",
           "linecolor": "white",
           "ticks": "",
           "title": {
            "standoff": 15
           },
           "zerolinecolor": "white",
           "zerolinewidth": 2
          }
         }
        },
        "xaxis": {
         "anchor": "y",
         "autorange": true,
         "domain": [
          0,
          1
         ],
         "range": [
          0,
          47.362967002999724
         ],
         "title": {
          "text": "Accurate Prog Pass %"
         },
         "type": "linear"
        },
        "yaxis": {
         "anchor": "x",
         "autorange": true,
         "domain": [
          0,
          1
         ],
         "range": [
          -0.5,
          7.5
         ],
         "title": {
          "text": "Region"
         },
         "type": "category"
        }
       }
      },
      "image/png": "[encoded data removed]",
      "text/html": [
       "<div>\n",
       "        \n",
       "        \n",
       "            <div id=\"abfb8f64-da94-4106-8909-dd6041bf15be\" class=\"plotly-graph-div\" style=\"height:525px; width:100%;\"></div>\n",
       "            <script type=\"text/javascript\">\n",
       "                require([\"plotly\"], function(Plotly) {\n",
       "                    window.PLOTLYENV=window.PLOTLYENV || {};\n",
       "                    \n",
       "                if (document.getElementById(\"abfb8f64-da94-4106-8909-dd6041bf15be\")) {\n",
       "                    Plotly.newPlot(\n",
       "                        'abfb8f64-da94-4106-8909-dd6041bf15be',\n",
       "                        [{\"alignmentgroup\": \"True\", \"hovertemplate\": \"Set=Right Footed LCB<br>Accurate Prog Pass %=%{x}<br>Region=%{y}<extra></extra>\", \"legendgroup\": \"Right Footed LCB\", \"marker\": {\"color\": \"#636efa\"}, \"name\": \"Right Footed LCB\", \"offsetgroup\": \"Right Footed LCB\", \"orientation\": \"h\", \"showlegend\": true, \"textposition\": \"auto\", \"type\": \"bar\", \"x\": [13.495232279581003, 8.36582272535112, 40.762835267039314, 2.3298417022875664, 12.677908779181738, 3.710836582272535, 18.004603316266614, 0.6529193480201043], \"xaxis\": \"x\", \"y\": [\"rightflank_attack\", \"rightflank_def\", \"leftflank_attack\", \"leftflank_def\", \"rightcentral_attack\", \"rightcentral_def\", \"leftcentral_attack\", \"leftcentral_def\"], \"yaxis\": \"y\"}, {\"alignmentgroup\": \"True\", \"hovertemplate\": \"Set=Left Footed LCB<br>Accurate Prog Pass %=%{x}<br>Region=%{y}<extra></extra>\", \"legendgroup\": \"Left Footed LCB\", \"marker\": {\"color\": \"#EF553B\"}, \"name\": \"Left Footed LCB\", \"offsetgroup\": \"Left Footed LCB\", \"orientation\": \"h\", \"showlegend\": true, \"textposition\": \"auto\", \"type\": \"bar\", \"x\": [8.739205526770293, 6.079447322970639, 44.99481865284974, 2.5077720207253886, 11.73747841105354, 3.696027633851468, 21.34715025906736, 0.8981001727115717], \"xaxis\": \"x\", \"y\": [\"rightflank_attack\", \"rightflank_def\", \"leftflank_attack\", \"leftflank_def\", \"rightcentral_attack\", \"rightcentral_def\", \"leftcentral_attack\", \"leftcentral_def\"], \"yaxis\": \"y\"}],\n",
       "                        {\"barmode\": \"group\", \"legend\": {\"title\": {\"text\": \"Set\"}, \"tracegroupgap\": 0}, \"margin\": {\"t\": 60}, \"template\": {\"data\": {\"bar\": [{\"error_x\": {\"color\": \"#2a3f5f\"}, \"error_y\": {\"color\": \"#2a3f5f\"}, \"marker\": {\"line\": {\"color\": \"#E5ECF6\", \"width\": 0.5}}, \"type\": \"bar\"}], \"barpolar\": [{\"marker\": {\"line\": {\"color\": \"#E5ECF6\", \"width\": 0.5}}, \"type\": \"barpolar\"}], \"carpet\": [{\"aaxis\": {\"endlinecolor\": \"#2a3f5f\", \"gridcolor\": \"white\", \"linecolor\": \"white\", \"minorgridcolor\": \"white\", \"startlinecolor\": \"#2a3f5f\"}, \"baxis\": {\"endlinecolor\": \"#2a3f5f\", \"gridcolor\": \"white\", \"linecolor\": \"white\", \"minorgridcolor\": \"white\", \"startlinecolor\": \"#2a3f5f\"}, \"type\": \"carpet\"}], \"choropleth\": [{\"colorbar\": {\"outlinewidth\": 0, \"ticks\": \"\"}, \"type\": \"choropleth\"}], \"contour\": [{\"colorbar\": {\"outlinewidth\": 0, \"ticks\": \"\"}, \"colorscale\": [[0.0, \"#0d0887\"], [0.1111111111111111, \"#46039f\"], [0.2222222222222222, \"#7201a8\"], [0.3333333333333333, \"#9c179e\"], [0.4444444444444444, \"#bd3786\"], [0.5555555555555556, \"#d8576b\"], [0.6666666666666666, \"#ed7953\"], [0.7777777777777778, \"#fb9f3a\"], [0.8888888888888888, \"#fdca26\"], [1.0, \"#f0f921\"]], \"type\": \"contour\"}], \"contourcarpet\": [{\"colorbar\": {\"outlinewidth\": 0, \"ticks\": \"\"}, \"type\": \"contourcarpet\"}], \"heatmap\": [{\"colorbar\": {\"outlinewidth\": 0, \"ticks\": \"\"}, \"colorscale\": [[0.0, \"#0d0887\"], [0.1111111111111111, \"#46039f\"], [0.2222222222222222, \"#7201a8\"], [0.3333333333333333, \"#9c179e\"], [0.4444444444444444, \"#bd3786\"], [0.5555555555555556, \"#d8576b\"], [0.6666666666666666, \"#ed7953\"], [0.7777777777777778, \"#fb9f3a\"], [0.8888888888888888, \"#fdca26\"], [1.0, \"#f0f921\"]], \"type\": \"heatmap\"}], \"heatmapgl\": [{\"colorbar\": {\"outlinewidth\": 0, \"ticks\": \"\"}, \"colorscale\": [[0.0, \"#0d0887\"], [0.1111111111111111, \"#46039f\"], [0.2222222222222222, \"#7201a8\"], [0.3333333333333333, \"#9c179e\"], [0.4444444444444444, \"#bd3786\"], [0.5555555555555556, \"#d8576b\"], [0.6666666666666666, \"#ed7953\"], [0.7777777777777778, \"#fb9f3a\"], [0.8888888888888888, \"#fdca26\"], [1.0, \"#f0f921\"]], \"type\": \"heatmapgl\"}], \"histogram\": [{\"marker\": {\"colorbar\": {\"outlinewidth\": 0, \"ticks\": \"\"}}, \"type\": \"histogram\"}], \"histogram2d\": [{\"colorbar\": {\"outlinewidth\": 0, \"ticks\": \"\"}, \"colorscale\": [[0.0, \"#0d0887\"], [0.1111111111111111, \"#46039f\"], [0.2222222222222222, \"#7201a8\"], [0.3333333333333333, \"#9c179e\"], [0.4444444444444444, \"#bd3786\"], [0.5555555555555556, \"#d8576b\"], [0.6666666666666666, \"#ed7953\"], [0.7777777777777778, \"#fb9f3a\"], [0.8888888888888888, \"#fdca26\"], [1.0, \"#f0f921\"]], \"type\": \"histogram2d\"}], \"histogram2dcontour\": [{\"colorbar\": {\"outlinewidth\": 0, \"ticks\": \"\"}, \"colorscale\": [[0.0, \"#0d0887\"], [0.1111111111111111, \"#46039f\"], [0.2222222222222222, \"#7201a8\"], [0.3333333333333333, \"#9c179e\"], [0.4444444444444444, \"#bd3786\"], [0.5555555555555556, \"#d8576b\"], [0.6666666666666666, \"#ed7953\"], [0.7777777777777778, \"#fb9f3a\"], [0.8888888888888888, \"#fdca26\"], [1.0, \"#f0f921\"]], \"type\": \"histogram2dcontour\"}], \"mesh3d\": [{\"colorbar\": {\"outlinewidth\": 0, \"ticks\": \"\"}, \"type\": \"mesh3d\"}], \"parcoords\": [{\"line\": {\"colorbar\": {\"outlinewidth\": 0, \"ticks\": \"\"}}, \"type\": \"parcoords\"}], \"pie\": [{\"automargin\": true, \"type\": \"pie\"}], \"scatter\": [{\"marker\": {\"colorbar\": {\"outlinewidth\": 0, \"ticks\": \"\"}}, \"type\": \"scatter\"}], \"scatter3d\": [{\"line\": {\"colorbar\": {\"outlinewidth\": 0, \"ticks\": \"\"}}, \"marker\": {\"colorbar\": {\"outlinewidth\": 0, \"ticks\": \"\"}}, \"type\": \"scatter3d\"}], \"scattercarpet\": [{\"marker\": {\"colorbar\": {\"outlinewidth\": 0, \"ticks\": \"\"}}, \"type\": \"scattercarpet\"}], \"scattergeo\": [{\"marker\": {\"colorbar\": {\"outlinewidth\": 0, \"ticks\": \"\"}}, \"type\": \"scattergeo\"}], \"scattergl\": [{\"marker\": {\"colorbar\": {\"outlinewidth\": 0, \"ticks\": \"\"}}, \"type\": \"scattergl\"}], \"scattermapbox\": [{\"marker\": {\"colorbar\": {\"outlinewidth\": 0, \"ticks\": \"\"}}, \"type\": \"scattermapbox\"}], \"scatterpolar\": [{\"marker\": {\"colorbar\": {\"outlinewidth\": 0, \"ticks\": \"\"}}, \"type\": \"scatterpolar\"}], \"scatterpolargl\": [{\"marker\": {\"colorbar\": {\"outlinewidth\": 0, \"ticks\": \"\"}}, \"type\": \"scatterpolargl\"}], \"scatterternary\": [{\"marker\": {\"colorbar\": {\"outlinewidth\": 0, \"ticks\": \"\"}}, \"type\": \"scatterternary\"}], \"surface\": [{\"colorbar\": {\"outlinewidth\": 0, \"ticks\": \"\"}, \"colorscale\": [[0.0, \"#0d0887\"], [0.1111111111111111, \"#46039f\"], [0.2222222222222222, \"#7201a8\"], [0.3333333333333333, \"#9c179e\"], [0.4444444444444444, \"#bd3786\"], [0.5555555555555556, \"#d8576b\"], [0.6666666666666666, \"#ed7953\"], [0.7777777777777778, \"#fb9f3a\"], [0.8888888888888888, \"#fdca26\"], [1.0, \"#f0f921\"]], \"type\": \"surface\"}], \"table\": [{\"cells\": {\"fill\": {\"color\": \"#EBF0F8\"}, \"line\": {\"color\": \"white\"}}, \"header\": {\"fill\": {\"color\": \"#C8D4E3\"}, \"line\": {\"color\": \"white\"}}, \"type\": \"table\"}]}, \"layout\": {\"annotationdefaults\": {\"arrowcolor\": \"#2a3f5f\", \"arrowhead\": 0, \"arrowwidth\": 1}, \"coloraxis\": {\"colorbar\": {\"outlinewidth\": 0, \"ticks\": \"\"}}, \"colorscale\": {\"diverging\": [[0, \"#8e0152\"], [0.1, \"#c51b7d\"], [0.2, \"#de77ae\"], [0.3, \"#f1b6da\"], [0.4, \"#fde0ef\"], [0.5, \"#f7f7f7\"], [0.6, \"#e6f5d0\"], [0.7, \"#b8e186\"], [0.8, \"#7fbc41\"], [0.9, \"#4d9221\"], [1, \"#276419\"]], \"sequential\": [[0.0, \"#0d0887\"], [0.1111111111111111, \"#46039f\"], [0.2222222222222222, \"#7201a8\"], [0.3333333333333333, \"#9c179e\"], [0.4444444444444444, \"#bd3786\"], [0.5555555555555556, \"#d8576b\"], [0.6666666666666666, \"#ed7953\"], [0.7777777777777778, \"#fb9f3a\"], [0.8888888888888888, \"#fdca26\"], [1.0, \"#f0f921\"]], \"sequentialminus\": [[0.0, \"#0d0887\"], [0.1111111111111111, \"#46039f\"], [0.2222222222222222, \"#7201a8\"], [0.3333333333333333, \"#9c179e\"], [0.4444444444444444, \"#bd3786\"], [0.5555555555555556, \"#d8576b\"], [0.6666666666666666, \"#ed7953\"], [0.7777777777777778, \"#fb9f3a\"], [0.8888888888888888, \"#fdca26\"], [1.0, \"#f0f921\"]]}, \"colorway\": [\"#636efa\", \"#EF553B\", \"#00cc96\", \"#ab63fa\", \"#FFA15A\", \"#19d3f3\", \"#FF6692\", \"#B6E880\", \"#FF97FF\", \"#FECB52\"], \"font\": {\"color\": \"#2a3f5f\"}, \"geo\": {\"bgcolor\": \"white\", \"lakecolor\": \"white\", \"landcolor\": \"#E5ECF6\", \"showlakes\": true, \"showland\": true, \"subunitcolor\": \"white\"}, \"hoverlabel\": {\"align\": \"left\"}, \"hovermode\": \"closest\", \"mapbox\": {\"style\": \"light\"}, \"paper_bgcolor\": \"white\", \"plot_bgcolor\": \"#E5ECF6\", \"polar\": {\"angularaxis\": {\"gridcolor\": \"white\", \"linecolor\": \"white\", \"ticks\": \"\"}, \"bgcolor\": \"#E5ECF6\", \"radialaxis\": {\"gridcolor\": \"white\", \"linecolor\": \"white\", \"ticks\": \"\"}}, \"scene\": {\"xaxis\": {\"backgroundcolor\": \"#E5ECF6\", \"gridcolor\": \"white\", \"gridwidth\": 2, \"linecolor\": \"white\", \"showbackground\": true, \"ticks\": \"\", \"zerolinecolor\": \"white\"}, \"yaxis\": {\"backgroundcolor\": \"#E5ECF6\", \"gridcolor\": \"white\", \"gridwidth\": 2, \"linecolor\": \"white\", \"showbackground\": true, \"ticks\": \"\", \"zerolinecolor\": \"white\"}, \"zaxis\": {\"backgroundcolor\": \"#E5ECF6\", \"gridcolor\": \"white\", \"gridwidth\": 2, \"linecolor\": \"white\", \"showbackground\": true, \"ticks\": \"\", \"zerolinecolor\": \"white\"}}, \"shapedefaults\": {\"line\": {\"color\": \"#2a3f5f\"}}, \"ternary\": {\"aaxis\": {\"gridcolor\": \"white\", \"linecolor\": \"white\", \"ticks\": \"\"}, \"baxis\": {\"gridcolor\": \"white\", \"linecolor\": \"white\", \"ticks\": \"\"}, \"bgcolor\": \"#E5ECF6\", \"caxis\": {\"gridcolor\": \"white\", \"linecolor\": \"white\", \"ticks\": \"\"}}, \"title\": {\"x\": 0.05}, \"xaxis\": {\"automargin\": true, \"gridcolor\": \"white\", \"linecolor\": \"white\", \"ticks\": \"\", \"title\": {\"standoff\": 15}, \"zerolinecolor\": \"white\", \"zerolinewidth\": 2}, \"yaxis\": {\"automargin\": true, \"gridcolor\": \"white\", \"linecolor\": \"white\", \"ticks\": \"\", \"title\": {\"standoff\": 15}, \"zerolinecolor\": \"white\", \"zerolinewidth\": 2}}}, \"xaxis\": {\"anchor\": \"y\", \"domain\": [0.0, 1.0], \"title\": {\"text\": \"Accurate Prog Pass %\"}}, \"yaxis\": {\"anchor\": \"x\", \"domain\": [0.0, 1.0], \"title\": {\"text\": \"Region\"}}},\n",
       "                        {\"responsive\": true}\n",
       "                    ).then(function(){\n",
       "                            \n",
       "var gd = document.getElementById('abfb8f64-da94-4106-8909-dd6041bf15be');\n",
       "var x = new MutationObserver(function (mutations, observer) {{\n",
       "        var display = window.getComputedStyle(gd).display;\n",
       "        if (!display || display === 'none') {{\n",
       "            console.log([gd, 'removed!']);\n",
       "            Plotly.purge(gd);\n",
       "            observer.disconnect();\n",
       "        }}\n",
       "}});\n",
       "\n",
       "// Listen for the removal of the full notebook cells\n",
       "var notebookContainer = gd.closest('#notebook-container');\n",
       "if (notebookContainer) {{\n",
       "    x.observe(notebookContainer, {childList: true});\n",
       "}}\n",
       "\n",
       "// Listen for the clearing of the current output cell\n",
       "var outputEl = gd.closest('.output');\n",
       "if (outputEl) {{\n",
       "    x.observe(outputEl, {childList: true});\n",
       "}}\n",
       "\n",
       "                        })\n",
       "                };\n",
       "                });\n",
       "            </script>\n",
       "        </div>"
      ]
     },
     "metadata": {},
     "output_type": "display_data"
    }
   ],
   "source": [
    "# data_reg = [['Right Flank Attack', 16.348577601728483, 'RRRL'],\n",
    "#             ['Right Flank Attack',10.58601134215501, 'RRLL'],\n",
    "#             ['Right Flank Def', 10.875045012603529, 'RRRL'],\n",
    "#             ['Right Flank Def', 6.301197227473219, 'RRLL'],\n",
    "#             ['Left Flank Attack', 37.27043572200216, 'RRRL'],\n",
    "#             ['Left Flank Attack', 43.28922495274102, 'RRLL'],\n",
    "#             ['Left Flank Def', 3.456967951026287, 'RRRL'],\n",
    "#             ['Left Flank Def', 2.898550724637681, 'RRLL'],\n",
    "#             ['Right Central Attack', 12.171407994238386, 'RRRL'],\n",
    "#             ['Right Central Attack', 12.917454316320102, 'RRLL'],\n",
    "#             ['Right Central Def', 6.1937342455887645, 'RRRL'],\n",
    "#             ['Right Central Def', 5.16698172652804, 'RRLL'],\n",
    "#             ['Left Central Attack', 13.215700396110911, 'RRRL'],\n",
    "#             ['Left Central Attack', 18.021424070573406, 'RRLL'],\n",
    "#             ['Left Central Def', 0.4681310767014764, 'RRRL'],\n",
    "#             ['Left Central Def', 0.8191556395715185, 'RRLL']]\n",
    "four_def_lcbs_rf_data = list(zip(regions,four_lcb_rf_region_per))\n",
    "four_def_lcbs_rf_data_reg = [list(i) + [\"Right Footed LCB\"] for i in four_def_lcbs_rf_data]\n",
    "four_def_lcbs_lf_data = list(zip(regions,four_lcb_lf_region_per))\n",
    "four_def_lcbs_lf_data_reg = [list(i) + [\"Left Footed LCB\"] for i in four_def_lcbs_lf_data]\n",
    "data_reg = four_def_lcbs_rf_data_reg + four_def_lcbs_lf_data_reg\n",
    "reg = pd.DataFrame(data_reg, columns = ['Region', 'Accurate Prog Pass %', 'Set'])\n",
    "fig = px.bar(reg, x=\"Accurate Prog Pass %\", y=\"Region\", color='Set', barmode='group', orientation='h')\n",
    "fig.show()"
   ]
  },
  {
   "cell_type": "markdown",
   "metadata": {},
   "source": [
    "**Finding percentage of progressive passes per region for LCBs in three/five defender formations**"
   ]
  },
  {
   "cell_type": "code",
   "execution_count": 67,
   "metadata": {
    "ExecuteTime": {
     "end_time": "2020-11-24T19:41:39.549340Z",
     "start_time": "2020-11-24T19:41:39.477330Z"
    }
   },
   "outputs": [
    {
     "name": "stdout",
     "output_type": "stream",
     "text": [
      "[338, 185, 3480, 110, 536, 127, 1475, 50]\n",
      "rightflank_attack : 5.3642279003332805\n",
      "rightflank_def : 2.936041898111411\n",
      "leftflank_attack : 55.229328677987624\n",
      "leftflank_def : 1.7457546421202983\n",
      "rightcentral_attack : 8.506586256149816\n",
      "rightcentral_def : 2.015553086811617\n",
      "leftcentral_attack : 23.408982701158546\n",
      "leftcentral_def : 0.7935248373274084\n"
     ]
    }
   ],
   "source": [
    "three_five_lcb_lf_region = get_region(three_five_lcb_lf_prog_end_x, three_five_lcb_lf_prog_end_y)\n",
    "print(three_five_lcb_lf_region)\n",
    "regions = ['rightflank_attack','rightflank_def',\n",
    "           'leftflank_attack','leftflank_def',\n",
    "           'rightcentral_attack','rightcentral_def',\n",
    "           'leftcentral_attack','leftcentral_def']\n",
    "three_five_lcb_lf_region_per = [i/len(three_five_lcb_lf_prog_end_x)*100 for i in three_five_lcb_lf_region]\n",
    "for region, percent in zip(regions,three_five_lcb_lf_region_per):\n",
    "    print(region,\":\",percent)"
   ]
  },
  {
   "cell_type": "code",
   "execution_count": 68,
   "metadata": {
    "ExecuteTime": {
     "end_time": "2020-11-24T19:41:40.133854Z",
     "start_time": "2020-11-24T19:41:40.069906Z"
    }
   },
   "outputs": [
    {
     "name": "stdout",
     "output_type": "stream",
     "text": [
      "[472, 257, 2165, 77, 417, 101, 869, 33]\n",
      "rightflank_attack : 10.749259849692553\n",
      "rightflank_def : 5.85288089273514\n",
      "leftflank_attack : 49.30539740378046\n",
      "leftflank_def : 1.7535868822591665\n",
      "rightcentral_attack : 9.496697790936006\n",
      "rightcentral_def : 2.3001594169892963\n",
      "leftcentral_attack : 19.79048052835345\n",
      "leftcentral_def : 0.7515372352539286\n"
     ]
    }
   ],
   "source": [
    "three_five_lcb_rf_region = get_region(three_five_lcb_rf_prog_end_x, three_five_lcb_rf_prog_end_y)\n",
    "print(three_five_lcb_rf_region)\n",
    "regions = ['rightflank_attack','rightflank_def',\n",
    "           'leftflank_attack','leftflank_def',\n",
    "           'rightcentral_attack','rightcentral_def',\n",
    "           'leftcentral_attack','leftcentral_def']\n",
    "three_five_lcb_rf_region_per = [i/len(three_five_lcb_rf_prog_end_x)*100 for i in three_five_lcb_rf_region]\n",
    "for region, percent in zip(regions,three_five_lcb_rf_region_per):\n",
    "    print(region,\":\",percent)"
   ]
  },
  {
   "cell_type": "code",
   "execution_count": 69,
   "metadata": {
    "ExecuteTime": {
     "end_time": "2020-11-24T19:41:41.710418Z",
     "start_time": "2020-11-24T19:41:41.627682Z"
    }
   },
   "outputs": [
    {
     "data": {
      "application/vnd.plotly.v1+json": {
       "config": {
        "plotlyServerURL": "https://plot.ly"
       },
       "data": [
        {
         "alignmentgroup": "True",
         "hovertemplate": "Set=Right Footed LCB<br>Accurate Prog Pass %=%{x}<br>Region=%{y}<extra></extra>",
         "legendgroup": "Right Footed LCB",
         "marker": {
          "color": "#636efa"
         },
         "name": "Right Footed LCB",
         "offsetgroup": "Right Footed LCB",
         "orientation": "h",
         "showlegend": true,
         "textposition": "auto",
         "type": "bar",
         "x": [
          10.749259849692553,
          5.85288089273514,
          49.30539740378046,
          1.7535868822591665,
          9.496697790936006,
          2.3001594169892963,
          19.79048052835345,
          0.7515372352539286
         ],
         "xaxis": "x",
         "y": [
          "rightflank_attack",
          "rightflank_def",
          "leftflank_attack",
          "leftflank_def",
          "rightcentral_attack",
          "rightcentral_def",
          "leftcentral_attack",
          "leftcentral_def"
         ],
         "yaxis": "y"
        },
        {
         "alignmentgroup": "True",
         "hovertemplate": "Set=Left Footed LCB<br>Accurate Prog Pass %=%{x}<br>Region=%{y}<extra></extra>",
         "legendgroup": "Left Footed LCB",
         "marker": {
          "color": "#EF553B"
         },
         "name": "Left Footed LCB",
         "offsetgroup": "Left Footed LCB",
         "orientation": "h",
         "showlegend": true,
         "textposition": "auto",
         "type": "bar",
         "x": [
          5.3642279003332805,
          2.936041898111411,
          55.229328677987624,
          1.7457546421202983,
          8.506586256149816,
          2.015553086811617,
          23.408982701158546,
          0.7935248373274084
         ],
         "xaxis": "x",
         "y": [
          "rightflank_attack",
          "rightflank_def",
          "leftflank_attack",
          "leftflank_def",
          "rightcentral_attack",
          "rightcentral_def",
          "leftcentral_attack",
          "leftcentral_def"
         ],
         "yaxis": "y"
        }
       ],
       "layout": {
        "autosize": true,
        "barmode": "group",
        "legend": {
         "title": {
          "text": "Set"
         },
         "tracegroupgap": 0
        },
        "margin": {
         "t": 60
        },
        "template": {
         "data": {
          "bar": [
           {
            "error_x": {
             "color": "#2a3f5f"
            },
            "error_y": {
             "color": "#2a3f5f"
            },
            "marker": {
             "line": {
              "color": "#E5ECF6",
              "width": 0.5
             }
            },
            "type": "bar"
           }
          ],
          "barpolar": [
           {
            "marker": {
             "line": {
              "color": "#E5ECF6",
              "width": 0.5
             }
            },
            "type": "barpolar"
           }
          ],
          "carpet": [
           {
            "aaxis": {
             "endlinecolor": "#2a3f5f",
             "gridcolor": "white",
             "linecolor": "white",
             "minorgridcolor": "white",
             "startlinecolor": "#2a3f5f"
            },
            "baxis": {
             "endlinecolor": "#2a3f5f",
             "gridcolor": "white",
             "linecolor": "white",
             "minorgridcolor": "white",
             "startlinecolor": "#2a3f5f"
            },
            "type": "carpet"
           }
          ],
          "choropleth": [
           {
            "colorbar": {
             "outlinewidth": 0,
             "ticks": ""
            },
            "type": "choropleth"
           }
          ],
          "contour": [
           {
            "colorbar": {
             "outlinewidth": 0,
             "ticks": ""
            },
            "colorscale": [
             [
              0,
              "#0d0887"
             ],
             [
              0.1111111111111111,
              "#46039f"
             ],
             [
              0.2222222222222222,
              "#7201a8"
             ],
             [
              0.3333333333333333,
              "#9c179e"
             ],
             [
              0.4444444444444444,
              "#bd3786"
             ],
             [
              0.5555555555555556,
              "#d8576b"
             ],
             [
              0.6666666666666666,
              "#ed7953"
             ],
             [
              0.7777777777777778,
              "#fb9f3a"
             ],
             [
              0.8888888888888888,
              "#fdca26"
             ],
             [
              1,
              "#f0f921"
             ]
            ],
            "type": "contour"
           }
          ],
          "contourcarpet": [
           {
            "colorbar": {
             "outlinewidth": 0,
             "ticks": ""
            },
            "type": "contourcarpet"
           }
          ],
          "heatmap": [
           {
            "colorbar": {
             "outlinewidth": 0,
             "ticks": ""
            },
            "colorscale": [
             [
              0,
              "#0d0887"
             ],
             [
              0.1111111111111111,
              "#46039f"
             ],
             [
              0.2222222222222222,
              "#7201a8"
             ],
             [
              0.3333333333333333,
              "#9c179e"
             ],
             [
              0.4444444444444444,
              "#bd3786"
             ],
             [
              0.5555555555555556,
              "#d8576b"
             ],
             [
              0.6666666666666666,
              "#ed7953"
             ],
             [
              0.7777777777777778,
              "#fb9f3a"
             ],
             [
              0.8888888888888888,
              "#fdca26"
             ],
             [
              1,
              "#f0f921"
             ]
            ],
            "type": "heatmap"
           }
          ],
          "heatmapgl": [
           {
            "colorbar": {
             "outlinewidth": 0,
             "ticks": ""
            },
            "colorscale": [
             [
              0,
              "#0d0887"
             ],
             [
              0.1111111111111111,
              "#46039f"
             ],
             [
              0.2222222222222222,
              "#7201a8"
             ],
             [
              0.3333333333333333,
              "#9c179e"
             ],
             [
              0.4444444444444444,
              "#bd3786"
             ],
             [
              0.5555555555555556,
              "#d8576b"
             ],
             [
              0.6666666666666666,
              "#ed7953"
             ],
             [
              0.7777777777777778,
              "#fb9f3a"
             ],
             [
              0.8888888888888888,
              "#fdca26"
             ],
             [
              1,
              "#f0f921"
             ]
            ],
            "type": "heatmapgl"
           }
          ],
          "histogram": [
           {
            "marker": {
             "colorbar": {
              "outlinewidth": 0,
              "ticks": ""
             }
            },
            "type": "histogram"
           }
          ],
          "histogram2d": [
           {
            "colorbar": {
             "outlinewidth": 0,
             "ticks": ""
            },
            "colorscale": [
             [
              0,
              "#0d0887"
             ],
             [
              0.1111111111111111,
              "#46039f"
             ],
             [
              0.2222222222222222,
              "#7201a8"
             ],
             [
              0.3333333333333333,
              "#9c179e"
             ],
             [
              0.4444444444444444,
              "#bd3786"
             ],
             [
              0.5555555555555556,
              "#d8576b"
             ],
             [
              0.6666666666666666,
              "#ed7953"
             ],
             [
              0.7777777777777778,
              "#fb9f3a"
             ],
             [
              0.8888888888888888,
              "#fdca26"
             ],
             [
              1,
              "#f0f921"
             ]
            ],
            "type": "histogram2d"
           }
          ],
          "histogram2dcontour": [
           {
            "colorbar": {
             "outlinewidth": 0,
             "ticks": ""
            },
            "colorscale": [
             [
              0,
              "#0d0887"
             ],
             [
              0.1111111111111111,
              "#46039f"
             ],
             [
              0.2222222222222222,
              "#7201a8"
             ],
             [
              0.3333333333333333,
              "#9c179e"
             ],
             [
              0.4444444444444444,
              "#bd3786"
             ],
             [
              0.5555555555555556,
              "#d8576b"
             ],
             [
              0.6666666666666666,
              "#ed7953"
             ],
             [
              0.7777777777777778,
              "#fb9f3a"
             ],
             [
              0.8888888888888888,
              "#fdca26"
             ],
             [
              1,
              "#f0f921"
             ]
            ],
            "type": "histogram2dcontour"
           }
          ],
          "mesh3d": [
           {
            "colorbar": {
             "outlinewidth": 0,
             "ticks": ""
            },
            "type": "mesh3d"
           }
          ],
          "parcoords": [
           {
            "line": {
             "colorbar": {
              "outlinewidth": 0,
              "ticks": ""
             }
            },
            "type": "parcoords"
           }
          ],
          "pie": [
           {
            "automargin": true,
            "type": "pie"
           }
          ],
          "scatter": [
           {
            "marker": {
             "colorbar": {
              "outlinewidth": 0,
              "ticks": ""
             }
            },
            "type": "scatter"
           }
          ],
          "scatter3d": [
           {
            "line": {
             "colorbar": {
              "outlinewidth": 0,
              "ticks": ""
             }
            },
            "marker": {
             "colorbar": {
              "outlinewidth": 0,
              "ticks": ""
             }
            },
            "type": "scatter3d"
           }
          ],
          "scattercarpet": [
           {
            "marker": {
             "colorbar": {
              "outlinewidth": 0,
              "ticks": ""
             }
            },
            "type": "scattercarpet"
           }
          ],
          "scattergeo": [
           {
            "marker": {
             "colorbar": {
              "outlinewidth": 0,
              "ticks": ""
             }
            },
            "type": "scattergeo"
           }
          ],
          "scattergl": [
           {
            "marker": {
             "colorbar": {
              "outlinewidth": 0,
              "ticks": ""
             }
            },
            "type": "scattergl"
           }
          ],
          "scattermapbox": [
           {
            "marker": {
             "colorbar": {
              "outlinewidth": 0,
              "ticks": ""
             }
            },
            "type": "scattermapbox"
           }
          ],
          "scatterpolar": [
           {
            "marker": {
             "colorbar": {
              "outlinewidth": 0,
              "ticks": ""
             }
            },
            "type": "scatterpolar"
           }
          ],
          "scatterpolargl": [
           {
            "marker": {
             "colorbar": {
              "outlinewidth": 0,
              "ticks": ""
             }
            },
            "type": "scatterpolargl"
           }
          ],
          "scatterternary": [
           {
            "marker": {
             "colorbar": {
              "outlinewidth": 0,
              "ticks": ""
             }
            },
            "type": "scatterternary"
           }
          ],
          "surface": [
           {
            "colorbar": {
             "outlinewidth": 0,
             "ticks": ""
            },
            "colorscale": [
             [
              0,
              "#0d0887"
             ],
             [
              0.1111111111111111,
              "#46039f"
             ],
             [
              0.2222222222222222,
              "#7201a8"
             ],
             [
              0.3333333333333333,
              "#9c179e"
             ],
             [
              0.4444444444444444,
              "#bd3786"
             ],
             [
              0.5555555555555556,
              "#d8576b"
             ],
             [
              0.6666666666666666,
              "#ed7953"
             ],
             [
              0.7777777777777778,
              "#fb9f3a"
             ],
             [
              0.8888888888888888,
              "#fdca26"
             ],
             [
              1,
              "#f0f921"
             ]
            ],
            "type": "surface"
           }
          ],
          "table": [
           {
            "cells": {
             "fill": {
              "color": "#EBF0F8"
             },
             "line": {
              "color": "white"
             }
            },
            "header": {
             "fill": {
              "color": "#C8D4E3"
             },
             "line": {
              "color": "white"
             }
            },
            "type": "table"
           }
          ]
         },
         "layout": {
          "annotationdefaults": {
           "arrowcolor": "#2a3f5f",
           "arrowhead": 0,
           "arrowwidth": 1
          },
          "coloraxis": {
           "colorbar": {
            "outlinewidth": 0,
            "ticks": ""
           }
          },
          "colorscale": {
           "diverging": [
            [
             0,
             "#8e0152"
            ],
            [
             0.1,
             "#c51b7d"
            ],
            [
             0.2,
             "#de77ae"
            ],
            [
             0.3,
             "#f1b6da"
            ],
            [
             0.4,
             "#fde0ef"
            ],
            [
             0.5,
             "#f7f7f7"
            ],
            [
             0.6,
             "#e6f5d0"
            ],
            [
             0.7,
             "#b8e186"
            ],
            [
             0.8,
             "#7fbc41"
            ],
            [
             0.9,
             "#4d9221"
            ],
            [
             1,
             "#276419"
            ]
           ],
           "sequential": [
            [
             0,
             "#0d0887"
            ],
            [
             0.1111111111111111,
             "#46039f"
            ],
            [
             0.2222222222222222,
             "#7201a8"
            ],
            [
             0.3333333333333333,
             "#9c179e"
            ],
            [
             0.4444444444444444,
             "#bd3786"
            ],
            [
             0.5555555555555556,
             "#d8576b"
            ],
            [
             0.6666666666666666,
             "#ed7953"
            ],
            [
             0.7777777777777778,
             "#fb9f3a"
            ],
            [
             0.8888888888888888,
             "#fdca26"
            ],
            [
             1,
             "#f0f921"
            ]
           ],
           "sequentialminus": [
            [
             0,
             "#0d0887"
            ],
            [
             0.1111111111111111,
             "#46039f"
            ],
            [
             0.2222222222222222,
             "#7201a8"
            ],
            [
             0.3333333333333333,
             "#9c179e"
            ],
            [
             0.4444444444444444,
             "#bd3786"
            ],
            [
             0.5555555555555556,
             "#d8576b"
            ],
            [
             0.6666666666666666,
             "#ed7953"
            ],
            [
             0.7777777777777778,
             "#fb9f3a"
            ],
            [
             0.8888888888888888,
             "#fdca26"
            ],
            [
             1,
             "#f0f921"
            ]
           ]
          },
          "colorway": [
           "#636efa",
           "#EF553B",
           "#00cc96",
           "#ab63fa",
           "#FFA15A",
           "#19d3f3",
           "#FF6692",
           "#B6E880",
           "#FF97FF",
           "#FECB52"
          ],
          "font": {
           "color": "#2a3f5f"
          },
          "geo": {
           "bgcolor": "white",
           "lakecolor": "white",
           "landcolor": "#E5ECF6",
           "showlakes": true,
           "showland": true,
           "subunitcolor": "white"
          },
          "hoverlabel": {
           "align": "left"
          },
          "hovermode": "closest",
          "mapbox": {
           "style": "light"
          },
          "paper_bgcolor": "white",
          "plot_bgcolor": "#E5ECF6",
          "polar": {
           "angularaxis": {
            "gridcolor": "white",
            "linecolor": "white",
            "ticks": ""
           },
           "bgcolor": "#E5ECF6",
           "radialaxis": {
            "gridcolor": "white",
            "linecolor": "white",
            "ticks": ""
           }
          },
          "scene": {
           "xaxis": {
            "backgroundcolor": "#E5ECF6",
            "gridcolor": "white",
            "gridwidth": 2,
            "linecolor": "white",
            "showbackground": true,
            "ticks": "",
            "zerolinecolor": "white"
           },
           "yaxis": {
            "backgroundcolor": "#E5ECF6",
            "gridcolor": "white",
            "gridwidth": 2,
            "linecolor": "white",
            "showbackground": true,
            "ticks": "",
            "zerolinecolor": "white"
           },
           "zaxis": {
            "backgroundcolor": "#E5ECF6",
            "gridcolor": "white",
            "gridwidth": 2,
            "linecolor": "white",
            "showbackground": true,
            "ticks": "",
            "zerolinecolor": "white"
           }
          },
          "shapedefaults": {
           "line": {
            "color": "#2a3f5f"
           }
          },
          "ternary": {
           "aaxis": {
            "gridcolor": "white",
            "linecolor": "white",
            "ticks": ""
           },
           "baxis": {
            "gridcolor": "white",
            "linecolor": "white",
            "ticks": ""
           },
           "bgcolor": "#E5ECF6",
           "caxis": {
            "gridcolor": "white",
            "linecolor": "white",
            "ticks": ""
           }
          },
          "title": {
           "x": 0.05
          },
          "xaxis": {
           "automargin": true,
           "gridcolor": "white",
           "linecolor": "white",
           "ticks": "",
           "title": {
            "standoff": 15
           },
           "zerolinecolor": "white",
           "zerolinewidth": 2
          },
          "yaxis": {
           "automargin": true,
           "gridcolor": "white",
           "linecolor": "white",
           "ticks": "",
           "title": {
            "standoff": 15
           },
           "zerolinecolor": "white",
           "zerolinewidth": 2
          }
         }
        },
        "xaxis": {
         "anchor": "y",
         "autorange": true,
         "domain": [
          0,
          1
         ],
         "range": [
          0,
          58.13613545051329
         ],
         "title": {
          "text": "Accurate Prog Pass %"
         },
         "type": "linear"
        },
        "yaxis": {
         "anchor": "x",
         "autorange": true,
         "domain": [
          0,
          1
         ],
         "range": [
          -0.5,
          7.5
         ],
         "title": {
          "text": "Region"
         },
         "type": "category"
        }
       }
      },
      "image/png": "[encoded data removed]",
      "text/html": [
       "<div>\n",
       "        \n",
       "        \n",
       "            <div id=\"7c8c4113-ac6b-45bc-a821-669938b43645\" class=\"plotly-graph-div\" style=\"height:525px; width:100%;\"></div>\n",
       "            <script type=\"text/javascript\">\n",
       "                require([\"plotly\"], function(Plotly) {\n",
       "                    window.PLOTLYENV=window.PLOTLYENV || {};\n",
       "                    \n",
       "                if (document.getElementById(\"7c8c4113-ac6b-45bc-a821-669938b43645\")) {\n",
       "                    Plotly.newPlot(\n",
       "                        '7c8c4113-ac6b-45bc-a821-669938b43645',\n",
       "                        [{\"alignmentgroup\": \"True\", \"hovertemplate\": \"Set=Right Footed LCB<br>Accurate Prog Pass %=%{x}<br>Region=%{y}<extra></extra>\", \"legendgroup\": \"Right Footed LCB\", \"marker\": {\"color\": \"#636efa\"}, \"name\": \"Right Footed LCB\", \"offsetgroup\": \"Right Footed LCB\", \"orientation\": \"h\", \"showlegend\": true, \"textposition\": \"auto\", \"type\": \"bar\", \"x\": [10.749259849692553, 5.85288089273514, 49.30539740378046, 1.7535868822591665, 9.496697790936006, 2.3001594169892963, 19.79048052835345, 0.7515372352539286], \"xaxis\": \"x\", \"y\": [\"rightflank_attack\", \"rightflank_def\", \"leftflank_attack\", \"leftflank_def\", \"rightcentral_attack\", \"rightcentral_def\", \"leftcentral_attack\", \"leftcentral_def\"], \"yaxis\": \"y\"}, {\"alignmentgroup\": \"True\", \"hovertemplate\": \"Set=Left Footed LCB<br>Accurate Prog Pass %=%{x}<br>Region=%{y}<extra></extra>\", \"legendgroup\": \"Left Footed LCB\", \"marker\": {\"color\": \"#EF553B\"}, \"name\": \"Left Footed LCB\", \"offsetgroup\": \"Left Footed LCB\", \"orientation\": \"h\", \"showlegend\": true, \"textposition\": \"auto\", \"type\": \"bar\", \"x\": [5.3642279003332805, 2.936041898111411, 55.229328677987624, 1.7457546421202983, 8.506586256149816, 2.015553086811617, 23.408982701158546, 0.7935248373274084], \"xaxis\": \"x\", \"y\": [\"rightflank_attack\", \"rightflank_def\", \"leftflank_attack\", \"leftflank_def\", \"rightcentral_attack\", \"rightcentral_def\", \"leftcentral_attack\", \"leftcentral_def\"], \"yaxis\": \"y\"}],\n",
       "                        {\"barmode\": \"group\", \"legend\": {\"title\": {\"text\": \"Set\"}, \"tracegroupgap\": 0}, \"margin\": {\"t\": 60}, \"template\": {\"data\": {\"bar\": [{\"error_x\": {\"color\": \"#2a3f5f\"}, \"error_y\": {\"color\": \"#2a3f5f\"}, \"marker\": {\"line\": {\"color\": \"#E5ECF6\", \"width\": 0.5}}, \"type\": \"bar\"}], \"barpolar\": [{\"marker\": {\"line\": {\"color\": \"#E5ECF6\", \"width\": 0.5}}, \"type\": \"barpolar\"}], \"carpet\": [{\"aaxis\": {\"endlinecolor\": \"#2a3f5f\", \"gridcolor\": \"white\", \"linecolor\": \"white\", \"minorgridcolor\": \"white\", \"startlinecolor\": \"#2a3f5f\"}, \"baxis\": {\"endlinecolor\": \"#2a3f5f\", \"gridcolor\": \"white\", \"linecolor\": \"white\", \"minorgridcolor\": \"white\", \"startlinecolor\": \"#2a3f5f\"}, \"type\": \"carpet\"}], \"choropleth\": [{\"colorbar\": {\"outlinewidth\": 0, \"ticks\": \"\"}, \"type\": \"choropleth\"}], \"contour\": [{\"colorbar\": {\"outlinewidth\": 0, \"ticks\": \"\"}, \"colorscale\": [[0.0, \"#0d0887\"], [0.1111111111111111, \"#46039f\"], [0.2222222222222222, \"#7201a8\"], [0.3333333333333333, \"#9c179e\"], [0.4444444444444444, \"#bd3786\"], [0.5555555555555556, \"#d8576b\"], [0.6666666666666666, \"#ed7953\"], [0.7777777777777778, \"#fb9f3a\"], [0.8888888888888888, \"#fdca26\"], [1.0, \"#f0f921\"]], \"type\": \"contour\"}], \"contourcarpet\": [{\"colorbar\": {\"outlinewidth\": 0, \"ticks\": \"\"}, \"type\": \"contourcarpet\"}], \"heatmap\": [{\"colorbar\": {\"outlinewidth\": 0, \"ticks\": \"\"}, \"colorscale\": [[0.0, \"#0d0887\"], [0.1111111111111111, \"#46039f\"], [0.2222222222222222, \"#7201a8\"], [0.3333333333333333, \"#9c179e\"], [0.4444444444444444, \"#bd3786\"], [0.5555555555555556, \"#d8576b\"], [0.6666666666666666, \"#ed7953\"], [0.7777777777777778, \"#fb9f3a\"], [0.8888888888888888, \"#fdca26\"], [1.0, \"#f0f921\"]], \"type\": \"heatmap\"}], \"heatmapgl\": [{\"colorbar\": {\"outlinewidth\": 0, \"ticks\": \"\"}, \"colorscale\": [[0.0, \"#0d0887\"], [0.1111111111111111, \"#46039f\"], [0.2222222222222222, \"#7201a8\"], [0.3333333333333333, \"#9c179e\"], [0.4444444444444444, \"#bd3786\"], [0.5555555555555556, \"#d8576b\"], [0.6666666666666666, \"#ed7953\"], [0.7777777777777778, \"#fb9f3a\"], [0.8888888888888888, \"#fdca26\"], [1.0, \"#f0f921\"]], \"type\": \"heatmapgl\"}], \"histogram\": [{\"marker\": {\"colorbar\": {\"outlinewidth\": 0, \"ticks\": \"\"}}, \"type\": \"histogram\"}], \"histogram2d\": [{\"colorbar\": {\"outlinewidth\": 0, \"ticks\": \"\"}, \"colorscale\": [[0.0, \"#0d0887\"], [0.1111111111111111, \"#46039f\"], [0.2222222222222222, \"#7201a8\"], [0.3333333333333333, \"#9c179e\"], [0.4444444444444444, \"#bd3786\"], [0.5555555555555556, \"#d8576b\"], [0.6666666666666666, \"#ed7953\"], [0.7777777777777778, \"#fb9f3a\"], [0.8888888888888888, \"#fdca26\"], [1.0, \"#f0f921\"]], \"type\": \"histogram2d\"}], \"histogram2dcontour\": [{\"colorbar\": {\"outlinewidth\": 0, \"ticks\": \"\"}, \"colorscale\": [[0.0, \"#0d0887\"], [0.1111111111111111, \"#46039f\"], [0.2222222222222222, \"#7201a8\"], [0.3333333333333333, \"#9c179e\"], [0.4444444444444444, \"#bd3786\"], [0.5555555555555556, \"#d8576b\"], [0.6666666666666666, \"#ed7953\"], [0.7777777777777778, \"#fb9f3a\"], [0.8888888888888888, \"#fdca26\"], [1.0, \"#f0f921\"]], \"type\": \"histogram2dcontour\"}], \"mesh3d\": [{\"colorbar\": {\"outlinewidth\": 0, \"ticks\": \"\"}, \"type\": \"mesh3d\"}], \"parcoords\": [{\"line\": {\"colorbar\": {\"outlinewidth\": 0, \"ticks\": \"\"}}, \"type\": \"parcoords\"}], \"pie\": [{\"automargin\": true, \"type\": \"pie\"}], \"scatter\": [{\"marker\": {\"colorbar\": {\"outlinewidth\": 0, \"ticks\": \"\"}}, \"type\": \"scatter\"}], \"scatter3d\": [{\"line\": {\"colorbar\": {\"outlinewidth\": 0, \"ticks\": \"\"}}, \"marker\": {\"colorbar\": {\"outlinewidth\": 0, \"ticks\": \"\"}}, \"type\": \"scatter3d\"}], \"scattercarpet\": [{\"marker\": {\"colorbar\": {\"outlinewidth\": 0, \"ticks\": \"\"}}, \"type\": \"scattercarpet\"}], \"scattergeo\": [{\"marker\": {\"colorbar\": {\"outlinewidth\": 0, \"ticks\": \"\"}}, \"type\": \"scattergeo\"}], \"scattergl\": [{\"marker\": {\"colorbar\": {\"outlinewidth\": 0, \"ticks\": \"\"}}, \"type\": \"scattergl\"}], \"scattermapbox\": [{\"marker\": {\"colorbar\": {\"outlinewidth\": 0, \"ticks\": \"\"}}, \"type\": \"scattermapbox\"}], \"scatterpolar\": [{\"marker\": {\"colorbar\": {\"outlinewidth\": 0, \"ticks\": \"\"}}, \"type\": \"scatterpolar\"}], \"scatterpolargl\": [{\"marker\": {\"colorbar\": {\"outlinewidth\": 0, \"ticks\": \"\"}}, \"type\": \"scatterpolargl\"}], \"scatterternary\": [{\"marker\": {\"colorbar\": {\"outlinewidth\": 0, \"ticks\": \"\"}}, \"type\": \"scatterternary\"}], \"surface\": [{\"colorbar\": {\"outlinewidth\": 0, \"ticks\": \"\"}, \"colorscale\": [[0.0, \"#0d0887\"], [0.1111111111111111, \"#46039f\"], [0.2222222222222222, \"#7201a8\"], [0.3333333333333333, \"#9c179e\"], [0.4444444444444444, \"#bd3786\"], [0.5555555555555556, \"#d8576b\"], [0.6666666666666666, \"#ed7953\"], [0.7777777777777778, \"#fb9f3a\"], [0.8888888888888888, \"#fdca26\"], [1.0, \"#f0f921\"]], \"type\": \"surface\"}], \"table\": [{\"cells\": {\"fill\": {\"color\": \"#EBF0F8\"}, \"line\": {\"color\": \"white\"}}, \"header\": {\"fill\": {\"color\": \"#C8D4E3\"}, \"line\": {\"color\": \"white\"}}, \"type\": \"table\"}]}, \"layout\": {\"annotationdefaults\": {\"arrowcolor\": \"#2a3f5f\", \"arrowhead\": 0, \"arrowwidth\": 1}, \"coloraxis\": {\"colorbar\": {\"outlinewidth\": 0, \"ticks\": \"\"}}, \"colorscale\": {\"diverging\": [[0, \"#8e0152\"], [0.1, \"#c51b7d\"], [0.2, \"#de77ae\"], [0.3, \"#f1b6da\"], [0.4, \"#fde0ef\"], [0.5, \"#f7f7f7\"], [0.6, \"#e6f5d0\"], [0.7, \"#b8e186\"], [0.8, \"#7fbc41\"], [0.9, \"#4d9221\"], [1, \"#276419\"]], \"sequential\": [[0.0, \"#0d0887\"], [0.1111111111111111, \"#46039f\"], [0.2222222222222222, \"#7201a8\"], [0.3333333333333333, \"#9c179e\"], [0.4444444444444444, \"#bd3786\"], [0.5555555555555556, \"#d8576b\"], [0.6666666666666666, \"#ed7953\"], [0.7777777777777778, \"#fb9f3a\"], [0.8888888888888888, \"#fdca26\"], [1.0, \"#f0f921\"]], \"sequentialminus\": [[0.0, \"#0d0887\"], [0.1111111111111111, \"#46039f\"], [0.2222222222222222, \"#7201a8\"], [0.3333333333333333, \"#9c179e\"], [0.4444444444444444, \"#bd3786\"], [0.5555555555555556, \"#d8576b\"], [0.6666666666666666, \"#ed7953\"], [0.7777777777777778, \"#fb9f3a\"], [0.8888888888888888, \"#fdca26\"], [1.0, \"#f0f921\"]]}, \"colorway\": [\"#636efa\", \"#EF553B\", \"#00cc96\", \"#ab63fa\", \"#FFA15A\", \"#19d3f3\", \"#FF6692\", \"#B6E880\", \"#FF97FF\", \"#FECB52\"], \"font\": {\"color\": \"#2a3f5f\"}, \"geo\": {\"bgcolor\": \"white\", \"lakecolor\": \"white\", \"landcolor\": \"#E5ECF6\", \"showlakes\": true, \"showland\": true, \"subunitcolor\": \"white\"}, \"hoverlabel\": {\"align\": \"left\"}, \"hovermode\": \"closest\", \"mapbox\": {\"style\": \"light\"}, \"paper_bgcolor\": \"white\", \"plot_bgcolor\": \"#E5ECF6\", \"polar\": {\"angularaxis\": {\"gridcolor\": \"white\", \"linecolor\": \"white\", \"ticks\": \"\"}, \"bgcolor\": \"#E5ECF6\", \"radialaxis\": {\"gridcolor\": \"white\", \"linecolor\": \"white\", \"ticks\": \"\"}}, \"scene\": {\"xaxis\": {\"backgroundcolor\": \"#E5ECF6\", \"gridcolor\": \"white\", \"gridwidth\": 2, \"linecolor\": \"white\", \"showbackground\": true, \"ticks\": \"\", \"zerolinecolor\": \"white\"}, \"yaxis\": {\"backgroundcolor\": \"#E5ECF6\", \"gridcolor\": \"white\", \"gridwidth\": 2, \"linecolor\": \"white\", \"showbackground\": true, \"ticks\": \"\", \"zerolinecolor\": \"white\"}, \"zaxis\": {\"backgroundcolor\": \"#E5ECF6\", \"gridcolor\": \"white\", \"gridwidth\": 2, \"linecolor\": \"white\", \"showbackground\": true, \"ticks\": \"\", \"zerolinecolor\": \"white\"}}, \"shapedefaults\": {\"line\": {\"color\": \"#2a3f5f\"}}, \"ternary\": {\"aaxis\": {\"gridcolor\": \"white\", \"linecolor\": \"white\", \"ticks\": \"\"}, \"baxis\": {\"gridcolor\": \"white\", \"linecolor\": \"white\", \"ticks\": \"\"}, \"bgcolor\": \"#E5ECF6\", \"caxis\": {\"gridcolor\": \"white\", \"linecolor\": \"white\", \"ticks\": \"\"}}, \"title\": {\"x\": 0.05}, \"xaxis\": {\"automargin\": true, \"gridcolor\": \"white\", \"linecolor\": \"white\", \"ticks\": \"\", \"title\": {\"standoff\": 15}, \"zerolinecolor\": \"white\", \"zerolinewidth\": 2}, \"yaxis\": {\"automargin\": true, \"gridcolor\": \"white\", \"linecolor\": \"white\", \"ticks\": \"\", \"title\": {\"standoff\": 15}, \"zerolinecolor\": \"white\", \"zerolinewidth\": 2}}}, \"xaxis\": {\"anchor\": \"y\", \"domain\": [0.0, 1.0], \"title\": {\"text\": \"Accurate Prog Pass %\"}}, \"yaxis\": {\"anchor\": \"x\", \"domain\": [0.0, 1.0], \"title\": {\"text\": \"Region\"}}},\n",
       "                        {\"responsive\": true}\n",
       "                    ).then(function(){\n",
       "                            \n",
       "var gd = document.getElementById('7c8c4113-ac6b-45bc-a821-669938b43645');\n",
       "var x = new MutationObserver(function (mutations, observer) {{\n",
       "        var display = window.getComputedStyle(gd).display;\n",
       "        if (!display || display === 'none') {{\n",
       "            console.log([gd, 'removed!']);\n",
       "            Plotly.purge(gd);\n",
       "            observer.disconnect();\n",
       "        }}\n",
       "}});\n",
       "\n",
       "// Listen for the removal of the full notebook cells\n",
       "var notebookContainer = gd.closest('#notebook-container');\n",
       "if (notebookContainer) {{\n",
       "    x.observe(notebookContainer, {childList: true});\n",
       "}}\n",
       "\n",
       "// Listen for the clearing of the current output cell\n",
       "var outputEl = gd.closest('.output');\n",
       "if (outputEl) {{\n",
       "    x.observe(outputEl, {childList: true});\n",
       "}}\n",
       "\n",
       "                        })\n",
       "                };\n",
       "                });\n",
       "            </script>\n",
       "        </div>"
      ]
     },
     "metadata": {},
     "output_type": "display_data"
    }
   ],
   "source": [
    "# data_reg = [['Right Flank Attack', 7.2727272727272725, 'RRRL'],\n",
    "#             ['Right Flank Attack',10.58601134215501, 'RRLL'],\n",
    "#             ['Right Flank Def', 10.875045012603529, 'RRRL'],\n",
    "#             ['Right Flank Def', 6.301197227473219, 'RRLL'],\n",
    "#             ['Left Flank Attack', 37.27043572200216, 'RRRL'],\n",
    "#             ['Left Flank Attack', 43.28922495274102, 'RRLL'],\n",
    "#             ['Left Flank Def', 3.456967951026287, 'RRRL'],\n",
    "#             ['Left Flank Def', 2.898550724637681, 'RRLL'],\n",
    "#             ['Right Central Attack', 12.171407994238386, 'RRRL'],\n",
    "#             ['Right Central Attack', 12.917454316320102, 'RRLL'],\n",
    "#             ['Right Central Def', 6.1937342455887645, 'RRRL'],\n",
    "#             ['Right Central Def', 5.16698172652804, 'RRLL'],\n",
    "#             ['Left Central Attack', 13.215700396110911, 'RRRL'],\n",
    "#             ['Left Central Attack', 18.021424070573406, 'RRLL'],\n",
    "#             ['Left Central Def', 0.4681310767014764, 'RRRL'],\n",
    "#             ['Left Central Def', 0.8191556395715185, 'RRLL']]\n",
    "three_five_lcb_lf_data = list(zip(regions,three_five_lcb_lf_region_per))\n",
    "three_five_lcb_lf_data_reg = [list(i) + [\"Left Footed LCB\"] for i in three_five_lcb_lf_data]\n",
    "three_five_lcb_rf_data = list(zip(regions,three_five_lcb_rf_region_per))\n",
    "three_five_lcb_rf_data_reg = [list(i) + [\"Right Footed LCB\"] for i in three_five_lcb_rf_data]\n",
    "data_reg = three_five_lcb_rf_data_reg + three_five_lcb_lf_data_reg\n",
    "reg = pd.DataFrame(data_reg, columns = ['Region', 'Accurate Prog Pass %', 'Set'])\n",
    "fig = px.bar(reg, x=\"Accurate Prog Pass %\", y=\"Region\", color='Set', barmode='group', orientation='h')\n",
    "fig.show()"
   ]
  },
  {
   "cell_type": "markdown",
   "metadata": {},
   "source": [
    "**Performing Hypothesis Testing for difference of percentage of passes made by left and right footed LCBs in Right Flank, Left Flank and Central Region for four defender formations (Significance level : 0.05)**"
   ]
  },
  {
   "cell_type": "markdown",
   "metadata": {},
   "source": [
    "## Right - Flank"
   ]
  },
  {
   "cell_type": "markdown",
   "metadata": {},
   "source": [
    "**Null Hypothesis:** The proportion of progressive passes made at the right flank by left footed LCB (left center back) should be greater than or equal to right footed LCB (left center back) in a lineup with four defenders<br><br>\n",
    "**Alternate Hypothesis:** The proportion of progressive passes made at the right flank by left footed LCB (left center back) should be less than right footed LCB (left center back) in a lineup with four defenders"
   ]
  },
  {
   "cell_type": "markdown",
   "metadata": {},
   "source": [
    "**H0: P2 >= P1** <br>\n",
    "**H1: P2 < P1** <br>\n",
    "*P1 - Right Footed LCBs, P2 - Left Footed LCBs*"
   ]
  },
  {
   "cell_type": "markdown",
   "metadata": {},
   "source": [
    "**The hypothesis stated signifies that we are performing a right tailed test**"
   ]
  },
  {
   "cell_type": "code",
   "execution_count": 70,
   "metadata": {
    "ExecuteTime": {
     "end_time": "2020-11-24T19:41:59.744757Z",
     "start_time": "2020-11-24T19:41:59.720782Z"
    }
   },
   "outputs": [
    {
     "name": "stdout",
     "output_type": "stream",
     "text": [
      "16.659865658899605 1.2830008187475152e-62\n"
     ]
    }
   ],
   "source": [
    "# Right Flank HT\n",
    "\n",
    "from statsmodels.stats.proportion import proportions_ztest\n",
    "count = np.array([four_lcb_rf_region[0] + four_lcb_rf_region[1], four_lcb_lf_region[0] + four_lcb_lf_region[1]])\n",
    "nobs = np.array([len(four_defs_lcb_rf_prog_end_x),len(four_defs_lcb_lf_prog_end_x)] )\n",
    "stat, pval = proportions_ztest(count, nobs, alternative ='larger')\n",
    "print(stat, pval)"
   ]
  },
  {
   "cell_type": "markdown",
   "metadata": {},
   "source": [
    "Since the p-value is less than 0.05, we have statistically significant difference at 0.05 significance."
   ]
  },
  {
   "cell_type": "markdown",
   "metadata": {},
   "source": [
    "## Left - Flank"
   ]
  },
  {
   "cell_type": "markdown",
   "metadata": {},
   "source": [
    "**Null Hypothesis:** The proportion of progressive passes made at the left flank by right footed LCB (left center back) should be greater than or equal to left footed LCB (left center back) in a lineup with four defenders<br><br>\n",
    "**Alternate Hypothesis:** The proportion of progressive passes made at the left flank by right footed LCB (left center back) should be lesser than left footed LCB (left center back) in a lineup with four defenders"
   ]
  },
  {
   "cell_type": "markdown",
   "metadata": {},
   "source": [
    "**H0: P1 >= P2** <br>\n",
    "**H1: P1 < P2** <br>\n",
    "*P1 - Right Footed LCBs, P2 - Left Footed LCBs*"
   ]
  },
  {
   "cell_type": "markdown",
   "metadata": {},
   "source": [
    "**The hypothesis stated signifies that we are performing a left tailed test**"
   ]
  },
  {
   "cell_type": "code",
   "execution_count": 71,
   "metadata": {
    "ExecuteTime": {
     "end_time": "2020-11-24T19:42:08.707988Z",
     "start_time": "2020-11-24T19:42:08.691993Z"
    }
   },
   "outputs": [
    {
     "name": "stdout",
     "output_type": "stream",
     "text": [
      "-8.230290354063971 9.338009706799172e-17\n"
     ]
    }
   ],
   "source": [
    "# Left Flank HT\n",
    "from statsmodels.stats.proportion import proportions_ztest\n",
    "count = np.array([four_lcb_rf_region[2] + four_lcb_rf_region[3], four_lcb_lf_region[2] + four_lcb_lf_region[3]])\n",
    "nobs = np.array([len(four_defs_lcb_rf_prog_end_x),len(four_defs_lcb_lf_prog_end_x) ])\n",
    "stat, pval = proportions_ztest(count, nobs, alternative ='smaller')\n",
    "print(stat, pval)"
   ]
  },
  {
   "cell_type": "markdown",
   "metadata": {},
   "source": [
    "Since the p-value is less than 0.05, we have statistically significant difference at 0.05 significance."
   ]
  },
  {
   "cell_type": "markdown",
   "metadata": {},
   "source": [
    "## Central - Region"
   ]
  },
  {
   "cell_type": "markdown",
   "metadata": {},
   "source": [
    "**Null Hypothesis:** The proportion of progressive passes made in the central region by right footed LCB (left center back) should be equal to that of left footed LCB (left center back) in a lineup with four defenders<br><br>\n",
    "**Alternate Hypothesis:** The proportion of progressive passes made in the central region by right footed LCB (left center back) should not be equal to that of left footed LCB (left center back) in a lineup with four defenders"
   ]
  },
  {
   "cell_type": "markdown",
   "metadata": {},
   "source": [
    "**H0: P1 = P2** <br>\n",
    "**H1: P1 != P2** <br>\n",
    "*P1 - Right Footed LCBs, P2 - Left Footed LCBs*"
   ]
  },
  {
   "cell_type": "code",
   "execution_count": 72,
   "metadata": {
    "ExecuteTime": {
     "end_time": "2020-11-24T19:42:14.721168Z",
     "start_time": "2020-11-24T19:42:14.697178Z"
    }
   },
   "outputs": [
    {
     "name": "stdout",
     "output_type": "stream",
     "text": [
      "-5.087397014170398 3.630113943293562e-07\n"
     ]
    }
   ],
   "source": [
    "# Central Region HT\n",
    "count = np.array([four_lcb_rf_region[4] + four_lcb_rf_region[5] + four_lcb_rf_region[6] + four_lcb_rf_region[7], \n",
    "                  four_lcb_lf_region[4] + four_lcb_lf_region[5] + four_lcb_lf_region[6] + four_lcb_lf_region[7]])\n",
    "nobs = np.array([len(four_defs_lcb_rf_prog_end_x), len(four_defs_lcb_lf_prog_end_x)])\n",
    "stat, pval = proportions_ztest(count, nobs)\n",
    "print(stat, pval)"
   ]
  },
  {
   "cell_type": "markdown",
   "metadata": {},
   "source": [
    "Since the p-value is less than 0.05, we have statistically significant difference at 0.05 significance."
   ]
  },
  {
   "cell_type": "markdown",
   "metadata": {},
   "source": [
    "**Performing Hypothesis Testing for difference in percentage of passes made by left and right footed LCBs in Right Flank, Left Flank and Central Region for three/five defender formations (Significance Level : 0.05)**"
   ]
  },
  {
   "cell_type": "markdown",
   "metadata": {},
   "source": [
    "## Right - Flank"
   ]
  },
  {
   "cell_type": "markdown",
   "metadata": {},
   "source": [
    "**Null Hypothesis:** The proportion of progressive passes made at the right flank by left footed LCB (left center back) should be greater than or equal to right footed LCB (left center back) in a lineup with three/five defenders<br><br>\n",
    "**Alternate Hypothesis:** The proportion of progressive passes made at the right flank by left footed LCB (left center back) should be less than right footed LCB (left center back) in a lineup with three/five defenders"
   ]
  },
  {
   "cell_type": "markdown",
   "metadata": {},
   "source": [
    "**H0: P2 >= P1** <br>\n",
    "**H1: P2 < P1** <br>\n",
    "*P1 - Right Footed LCB, P2 - Left Footed LCB*"
   ]
  },
  {
   "cell_type": "markdown",
   "metadata": {},
   "source": [
    "**The hypothesis stated signifies that we are performing a right tailed test**"
   ]
  },
  {
   "cell_type": "code",
   "execution_count": 75,
   "metadata": {
    "ExecuteTime": {
     "end_time": "2020-11-24T19:42:40.020358Z",
     "start_time": "2020-11-24T19:42:40.004341Z"
    }
   },
   "outputs": [
    {
     "name": "stdout",
     "output_type": "stream",
     "text": [
      "13.13420376328085 1.0484269408023147e-39\n"
     ]
    }
   ],
   "source": [
    "# Right Flank HT\n",
    "\n",
    "from statsmodels.stats.proportion import proportions_ztest\n",
    "count = np.array([three_five_lcb_rf_region[0] + three_five_lcb_rf_region[1], three_five_lcb_lf_region[0] + three_five_lcb_lf_region[1]])\n",
    "nobs = np.array([len(three_five_lcb_rf_prog_end_x),len(three_five_lcb_lf_prog_end_x)] )\n",
    "stat, pval = proportions_ztest(count, nobs, alternative ='larger')\n",
    "print(stat, pval)"
   ]
  },
  {
   "cell_type": "markdown",
   "metadata": {},
   "source": [
    "Since the p-value is less than 0.05, we have statistically significant difference at 0.05 significance."
   ]
  },
  {
   "cell_type": "markdown",
   "metadata": {},
   "source": [
    "## Left - Flank"
   ]
  },
  {
   "cell_type": "markdown",
   "metadata": {},
   "source": [
    "**Null Hypothesis:** The proportion of progressive passes made at the left flank by right footed LCB (left center back) should be greater than or equal to left footed LCB (left center back) in a lineup with three/five defenders<br><br>\n",
    "**Alternate Hypothesis:** The proportion of progressive passes made at the left flank by right footed LCB (left center back) should be lesser than left footed LCB (left center back) in a lineup with three/five defenders"
   ]
  },
  {
   "cell_type": "markdown",
   "metadata": {},
   "source": [
    "**H0: P1 >= P2** <br>\n",
    "**H1: P1 < P2** <br>\n",
    "*P1 - Right Footed LCB, P2 - Left Footed LCB*"
   ]
  },
  {
   "cell_type": "markdown",
   "metadata": {},
   "source": [
    "**The hypothesis stated signifies that we are performing a left tailed test**"
   ]
  },
  {
   "cell_type": "code",
   "execution_count": 76,
   "metadata": {
    "ExecuteTime": {
     "end_time": "2020-11-24T19:42:44.052804Z",
     "start_time": "2020-11-24T19:42:44.036856Z"
    }
   },
   "outputs": [
    {
     "name": "stdout",
     "output_type": "stream",
     "text": [
      "-6.044000289738614 7.516962025241349e-10\n"
     ]
    }
   ],
   "source": [
    "# Left Flank HT\n",
    "from statsmodels.stats.proportion import proportions_ztest\n",
    "count = np.array([three_five_lcb_rf_region[2] + three_five_lcb_rf_region[3], three_five_lcb_lf_region[2] + three_five_lcb_lf_region[3]])\n",
    "nobs = np.array([len(three_five_lcb_rf_prog_end_x),len(three_five_lcb_lf_prog_end_x) ])\n",
    "stat, pval = proportions_ztest(count, nobs, alternative ='smaller')\n",
    "print(stat, pval)"
   ]
  },
  {
   "cell_type": "markdown",
   "metadata": {},
   "source": [
    "Since the p-value is less than 0.05, we have statistically significant difference at 0.05 significance."
   ]
  },
  {
   "cell_type": "markdown",
   "metadata": {},
   "source": [
    "## Central - Region"
   ]
  },
  {
   "cell_type": "markdown",
   "metadata": {},
   "source": [
    "**Null Hypothesis:** The proportion of progressive passes made in the central region by right footed LCB (left center back) should be equal to that of left footed LCB (left center back) in a lineup with three/five defenders<br><br>\n",
    "**Alternate Hypothesis:** The proportion of progressive passes made in the central region by right footed LCB (left center back) should not be equal to that of left footed LCB (left center back) in a lineup with three/five defenders"
   ]
  },
  {
   "cell_type": "markdown",
   "metadata": {},
   "source": [
    "**H0: P1 = P2** <br>\n",
    "**H1: P1 != P2** <br>\n",
    "*P1 - Right Footed LCB, P2 - Left Footed LCB*"
   ]
  },
  {
   "cell_type": "code",
   "execution_count": 77,
   "metadata": {
    "ExecuteTime": {
     "end_time": "2020-11-24T19:42:47.450318Z",
     "start_time": "2020-11-24T19:42:47.434338Z"
    }
   },
   "outputs": [
    {
     "name": "stdout",
     "output_type": "stream",
     "text": [
      "-2.5666834696391145 0.010267629147875316\n"
     ]
    }
   ],
   "source": [
    "# Central Region HT\n",
    "count = np.array([three_five_lcb_rf_region[4] + three_five_lcb_rf_region[5] + three_five_lcb_rf_region[6] + three_five_lcb_rf_region[7], \n",
    "                  three_five_lcb_lf_region[4] + three_five_lcb_lf_region[5] + three_five_lcb_lf_region[6] + three_five_lcb_lf_region[7]])\n",
    "nobs = np.array([len(three_five_lcb_rf_prog_end_x), len(three_five_lcb_lf_prog_end_x)])\n",
    "stat, pval = proportions_ztest(count, nobs)\n",
    "print(stat, pval)"
   ]
  },
  {
   "cell_type": "markdown",
   "metadata": {},
   "source": [
    "Since the p-value is lesser than 0.05, we have statistically significant difference at 0.05 significance."
   ]
  },
  {
   "cell_type": "markdown",
   "metadata": {},
   "source": [
    "As observed from the hypothesis testing results -\n",
    "\n",
    "1. for four defender formation:<br>\n",
    "    a. Right Flank - result is statistically significant <br>\n",
    "    b. Left Flank - result is statistically significant <br>\n",
    "    c. Central Region - result is statistically significant <br>\n",
    "\n",
    "2. for three/five defender formation: <br>\n",
    "    a. Right Flank - result is statistically significant <br>\n",
    "    b. Left Flank - result is statistically significant <br>\n",
    "    c. Central Region - result is statistically significant <br>"
   ]
  },
  {
   "cell_type": "code",
   "execution_count": null,
   "metadata": {},
   "outputs": [],
   "source": []
  }
 ],
 "metadata": {
  "hide_input": false,
  "kernelspec": {
   "display_name": "Python 3",
   "language": "python",
   "name": "python3"
  },
  "language_info": {
   "codemirror_mode": {
    "name": "ipython",
    "version": 3
   },
   "file_extension": ".py",
   "mimetype": "text/x-python",
   "name": "python",
   "nbconvert_exporter": "python",
   "pygments_lexer": "ipython3",
   "version": "3.7.9"
  },
  "toc": {
   "base_numbering": 1,
   "nav_menu": {},
   "number_sections": true,
   "sideBar": true,
   "skip_h1_title": false,
   "title_cell": "Table of Contents",
   "title_sidebar": "Contents",
   "toc_cell": false,
   "toc_position": {},
   "toc_section_display": true,
   "toc_window_display": false
  }
 },
 "nbformat": 4,
 "nbformat_minor": 4
}
