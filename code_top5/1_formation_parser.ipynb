{
 "cells": [
  {
   "cell_type": "code",
   "execution_count": 2,
   "metadata": {},
   "outputs": [],
   "source": [
    "import pandas as pd\n",
    "import numpy as np\n",
    "import re\n",
    "from bs4 import BeautifulSoup\n",
    "from unidecode import unidecode\n",
    "import requests\n",
    "from tqdm import tqdm"
   ]
  },
  {
   "cell_type": "code",
   "execution_count": 17,
   "metadata": {},
   "outputs": [],
   "source": [
    "page_link = 'https://fbref.com/en/comps/season/2017-2018'\n",
    "page = requests.get(page_link)\n",
    "bs_page = BeautifulSoup(page.content,'html.parser')"
   ]
  },
  {
   "cell_type": "code",
   "execution_count": 18,
   "metadata": {},
   "outputs": [],
   "source": [
    "top_5_tournaments = ['Premier League','Bundesliga','Ligue 1 Conforama','LaLiga Santander','Serie A TIM']"
   ]
  },
  {
   "cell_type": "code",
   "execution_count": 19,
   "metadata": {},
   "outputs": [],
   "source": [
    "domestic_tournments_section = bs_page.find('div',id='all_comps_1_fa_club_league_senior')"
   ]
  },
  {
   "cell_type": "code",
   "execution_count": 20,
   "metadata": {},
   "outputs": [],
   "source": [
    "tournament_table = domestic_tournments_section.find('div',class_='table_outer_container')"
   ]
  },
  {
   "cell_type": "code",
   "execution_count": 21,
   "metadata": {},
   "outputs": [],
   "source": [
    "tournament_table_body = tournament_table.find('tbody')"
   ]
  },
  {
   "cell_type": "code",
   "execution_count": 22,
   "metadata": {},
   "outputs": [],
   "source": [
    "tournament_names_links = dict()\n",
    "for tourn in tournament_table_body.find_all('th',attrs={'data-stat':True}):\n",
    "    results_page_links ='http://www.fbref.com'+'/'.join(tourn.find('a')['href'].split('/')[:-1])+'/schedule/' + '-'.join(tourn.find('a')['href'].split('/')[-1].split('-')[:-1])+'-Scores-and-Fixtures'\n",
    "    tournament_names_links[tourn.find('a').get_text()] = results_page_links"
   ]
  },
  {
   "cell_type": "code",
   "execution_count": 23,
   "metadata": {},
   "outputs": [
    {
     "data": {
      "text/plain": [
       "{'Superliga Argentina': 'http://www.fbref.com/en/comps/21/1659/schedule/2017-2018-Superliga-Argentina-Scores-and-Fixtures',\n",
       " 'Hyundai A-League': 'http://www.fbref.com/en/comps/65/1617/schedule/2017-2018-A-League-Scores-and-Fixtures',\n",
       " 'tipico Bundesliga': 'http://www.fbref.com/en/comps/56/1618/schedule/2017-2018-Austrian-Bundesliga-Scores-and-Fixtures',\n",
       " 'Jupiler Pro League': 'http://www.fbref.com/en/comps/37/1619/schedule/2017-2018-Belgian-First-Division-A-Scores-and-Fixtures',\n",
       " 'First League': 'http://www.fbref.com/en/comps/67/1620/schedule/2017-2018-Bulgarian-First-League-Scores-and-Fixtures',\n",
       " 'Hrvatski telekom Prva liga': 'http://www.fbref.com/en/comps/63/1622/schedule/2017-2018-1-HNL-Scores-and-Fixtures',\n",
       " 'HET liga': 'http://www.fbref.com/en/comps/66/1623/schedule/2017-2018-Czech-First-League-Scores-and-Fixtures',\n",
       " 'Alka Superliga': 'http://www.fbref.com/en/comps/50/1624/schedule/2017-2018-Superliga-Scores-and-Fixtures',\n",
       " 'Premier League': 'http://www.fbref.com/en/comps/9/1631/schedule/2017-2018-Premier-League-Scores-and-Fixtures',\n",
       " \"Women's Super League 1\": 'http://www.fbref.com/en/comps/189/3065/schedule/2017-2018-Womens-Super-League-1-Scores-and-Fixtures',\n",
       " 'LaLiga Santander': 'http://www.fbref.com/en/comps/12/1652/schedule/2017-2018-La-Liga-Scores-and-Fixtures',\n",
       " 'Ligue 1 Conforama': 'http://www.fbref.com/en/comps/13/1632/schedule/2017-2018-Ligue-1-Scores-and-Fixtures',\n",
       " 'Division 1 Féminine': 'http://www.fbref.com/en/comps/193/3123/schedule/2017-2018-Division-1-Feminine-Scores-and-Fixtures',\n",
       " 'Bundesliga': 'http://www.fbref.com/en/comps/20/1634/schedule/2017-2018-Bundesliga-Scores-and-Fixtures',\n",
       " 'Allianz Frauen-Bundesliga': 'http://www.fbref.com/en/comps/183/2980/schedule/2017-2018-Frauen-Bundesliga-Scores-and-Fixtures',\n",
       " 'Super League Souroti': 'http://www.fbref.com/en/comps/27/1637/schedule/2017-2018-Super-League-Greece-Scores-and-Fixtures',\n",
       " 'OTP Bank Liga': 'http://www.fbref.com/en/comps/46/1638/schedule/2017-2018-NB-I-Scores-and-Fixtures',\n",
       " 'Hero I-League': 'http://www.fbref.com/en/comps/378/4593/schedule/2017-2018-I-League-Scores-and-Fixtures',\n",
       " 'Hero Indian Super League': 'http://www.fbref.com/en/comps/82/1598/schedule/2017-2018-Indian-Super-League-Scores-and-Fixtures',\n",
       " 'Persian Gulf Pro League': 'http://www.fbref.com/en/comps/64/1639/schedule/2017-2018-Persian-Gulf-Pro-League-Scores-and-Fixtures',\n",
       " 'Serie A TIM': 'http://www.fbref.com/en/comps/11/1640/schedule/2017-2018-Serie-A-Scores-and-Fixtures',\n",
       " 'Abdul Latif Jameel League': 'http://www.fbref.com/en/comps/70/1647/schedule/2017-2018-Saudi-Professional-League-Scores-and-Fixtures',\n",
       " 'Liga BBVA Bancomer': 'http://www.fbref.com/en/comps/31/1642/schedule/2017-2018-Liga-MX-Scores-and-Fixtures',\n",
       " 'Eredivisie': 'http://www.fbref.com/en/comps/23/1625/schedule/2017-2018-Dutch-Eredivisie-Scores-and-Fixtures',\n",
       " 'LOTTO Ekstraklasa': 'http://www.fbref.com/en/comps/36/1643/schedule/2017-2018-Ekstraklasa-Scores-and-Fixtures',\n",
       " 'Liga NOS': 'http://www.fbref.com/en/comps/32/1644/schedule/2017-2018-Primeira-Liga-Scores-and-Fixtures',\n",
       " 'Liga 1 Betano': 'http://www.fbref.com/en/comps/47/1645/schedule/2017-2018-Liga-I-Scores-and-Fixtures',\n",
       " 'ABSA Premiership': 'http://www.fbref.com/en/comps/52/1651/schedule/2017-2018-Premier-Division-Scores-and-Fixtures',\n",
       " 'Rosgosstrakh Russian Football Championship': 'http://www.fbref.com/en/comps/30/1646/schedule/2017-2018-Russian-Premier-League-Scores-and-Fixtures',\n",
       " 'Ladbrokes Premiership': 'http://www.fbref.com/en/comps/40/1649/schedule/2017-2018-Scottish-Premiership-Scores-and-Fixtures',\n",
       " 'Serbian SuperLiga': 'http://www.fbref.com/en/comps/54/1650/schedule/2017-2018-Serbian-SuperLiga-Scores-and-Fixtures',\n",
       " 'Raiffeisen Super League': 'http://www.fbref.com/en/comps/57/1654/schedule/2017-2018-Super-League-Scores-and-Fixtures',\n",
       " 'Süper Lig İlhan Cavcav': 'http://www.fbref.com/en/comps/26/1655/schedule/2017-2018-Super-Lig-Scores-and-Fixtures',\n",
       " 'Ukrainian Premier League': 'http://www.fbref.com/en/comps/39/1658/schedule/2017-2018-Ukrainian-Premier-League-Scores-and-Fixtures'}"
      ]
     },
     "execution_count": 23,
     "metadata": {},
     "output_type": "execute_result"
    }
   ],
   "source": [
    "tournament_names_links"
   ]
  },
  {
   "cell_type": "code",
   "execution_count": 24,
   "metadata": {},
   "outputs": [
    {
     "name": "stdout",
     "output_type": "stream",
     "text": [
      "Premier League\n",
      "Bundesliga\n",
      "Ligue 1 Conforama\n",
      "LaLiga Santander\n",
      "Serie A TIM\n"
     ]
    }
   ],
   "source": [
    "matches_info = list()\n",
    "for tournament in top_5_tournaments:\n",
    "    print(tournament)\n",
    "    results_link = tournament_names_links[tournament]\n",
    "    tournament_results_page = requests.get(results_link)\n",
    "    soup = BeautifulSoup(tournament_results_page.content,'html.parser')\n",
    "    tournament_results_container = soup.find('div',class_='table_outer_container')\n",
    "    tournament_results_body = tournament_results_container.find('tbody')\n",
    "    for c in tournament_results_body.findChildren('tr',recursive=False):\n",
    "        if len(c.attrs)==0:\n",
    "            try:\n",
    "                round_text = c.find('th',{'data-stat':'round'}).find('a').get_text()\n",
    "                flag = 1\n",
    "            except:\n",
    "                flag = 0\n",
    "\n",
    "            if flag == 1:\n",
    "                if 'Regular' in round_text:\n",
    "                    match_dict={}\n",
    "                    match_dict['tournament'] = tournament\n",
    "                    match_dict['gameweek'] = c.find('td',{'data-stat':'gameweek'}).get_text()\n",
    "                    match_dict['date'] = c.find('td',{'data-stat':'date'}).find('a').get_text()\n",
    "                    match_dict['home_team'] = c.find('td',{'data-stat':'squad_a'}).find('a').get_text()\n",
    "                    match_dict['score'] = c.find('td',{'data-stat':'score'}).find('a').get_text()\n",
    "                    match_dict['away_team'] = c.find('td',{'data-stat':'squad_b'}).find('a').get_text()\n",
    "                    match_dict['match_link'] = 'http://www.fbref.com'+c.find('td',{'data-stat':'match_report'}).find('a')['href']\n",
    "                    matches_info.append(match_dict)\n",
    "            else:\n",
    "                match_dict={}\n",
    "                match_dict['tournament'] = tournament\n",
    "                match_dict['gameweek'] = c.find('th',{'data-stat':'gameweek'}).get_text()\n",
    "                match_dict['date'] = c.find('td',{'data-stat':'date'}).find('a').get_text()\n",
    "                match_dict['home_team'] = c.find('td',{'data-stat':'squad_a'}).find('a').get_text()\n",
    "                match_dict['score'] = c.find('td',{'data-stat':'score'}).find('a').get_text()\n",
    "                match_dict['away_team'] = c.find('td',{'data-stat':'squad_b'}).find('a').get_text()\n",
    "                match_dict['match_link'] = 'http://www.fbref.com'+c.find('td',{'data-stat':'match_report'}).find('a')['href']\n",
    "                matches_info.append(match_dict)\n",
    "\n",
    "\n",
    "\n",
    "    \n",
    "    "
   ]
  },
  {
   "cell_type": "code",
   "execution_count": 25,
   "metadata": {},
   "outputs": [
    {
     "name": "stderr",
     "output_type": "stream",
     "text": [
      "100%|██████████| 1826/1826 [1:18:27<00:00,  2.58s/it]\n"
     ]
    }
   ],
   "source": [
    "for match_info in tqdm(matches_info):\n",
    "        match_page = requests.get(match_info['match_link'])\n",
    "        match_soup = BeautifulSoup(match_page.content,'html.parser')\n",
    "        field = match_soup.find('div',id='field')\n",
    "        home_team_match_defs = dict()\n",
    "        away_team_match_defs = dict()\n",
    "        for player in field.find_all('div'):\n",
    "            if player['class'][1]=='a' and 'calc(15% - 8px)' in  player['style'].split(';')[1].strip():\n",
    "                player_name = player['title'].strip()\n",
    "                player_name = re.sub('[^a-zA-Z]+','',unidecode(player_name))\n",
    "                home_team_match_defs[player_name] = float(re.search('\\((.+?)%',player['style'].split(';')[0].strip().split(':')[1].strip()).group(1))\n",
    "            elif player['class'][1]=='b' and 'calc(15% - 8px)' in  player['style'].split(';')[1].strip():\n",
    "                player_name = player['title'].strip()\n",
    "                player_name = re.sub('[^a-zA-Z]+','',unidecode(player_name))\n",
    "                away_team_match_defs[player_name] = float(re.search('\\((.+?)%',player['style'].split(';')[0].strip().split(':')[1].strip()).group(1))  \n",
    "        match_info['home_team_defs'] = sorted(home_team_match_defs,key=home_team_match_defs.get,reverse=True)\n",
    "        match_info['away_team_defs'] = sorted(away_team_match_defs,key=away_team_match_defs.get)"
   ]
  },
  {
   "cell_type": "code",
   "execution_count": 30,
   "metadata": {},
   "outputs": [],
   "source": [
    "df_matches_info = pd.DataFrame(matches_info)"
   ]
  },
  {
   "cell_type": "code",
   "execution_count": 31,
   "metadata": {},
   "outputs": [],
   "source": [
    "df_matches_info.to_pickle('../data_top5/matches/top_5_lineups.pkl')"
   ]
  }
 ],
 "metadata": {
  "kernelspec": {
   "display_name": "Python 3",
   "language": "python",
   "name": "python3"
  },
  "language_info": {
   "codemirror_mode": {
    "name": "ipython",
    "version": 3
   },
   "file_extension": ".py",
   "mimetype": "text/x-python",
   "name": "python",
   "nbconvert_exporter": "python",
   "pygments_lexer": "ipython3",
   "version": "3.7.9"
  }
 },
 "nbformat": 4,
 "nbformat_minor": 4
}
